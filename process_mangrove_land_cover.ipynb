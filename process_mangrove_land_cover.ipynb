{
  "nbformat": 4,
  "nbformat_minor": 0,
  "metadata": {
    "colab": {
      "name": "process_mangrove_land_cover.ipynb",
      "provenance": [],
      "collapsed_sections": [],
      "toc_visible": true,
      "mount_file_id": "1GMCQp_-8OQjuYu3-I621OY6G3lbI9YkY",
      "authorship_tag": "ABX9TyPNt7R6lyVXzgcQLQGD5hfj",
      "include_colab_link": true
    },
    "kernelspec": {
      "name": "python3",
      "display_name": "Python 3"
    },
    "widgets": {
      "application/vnd.jupyter.widget-state+json": {
        "2943888dd55140f385843408ac30ac4f": {
          "model_module": "@jupyter-widgets/controls",
          "model_name": "HBoxModel",
          "state": {
            "_view_name": "HBoxView",
            "_dom_classes": [],
            "_model_name": "HBoxModel",
            "_view_module": "@jupyter-widgets/controls",
            "_model_module_version": "1.5.0",
            "_view_count": null,
            "_view_module_version": "1.5.0",
            "box_style": "",
            "layout": "IPY_MODEL_e26b8ffdc96940fbb490310727871570",
            "_model_module": "@jupyter-widgets/controls",
            "children": [
              "IPY_MODEL_bc1b92d8be8f4b9aaf7ae3746aa001cd",
              "IPY_MODEL_196ac87acc4c46c5a2f8807edfc9d83c"
            ]
          }
        },
        "e26b8ffdc96940fbb490310727871570": {
          "model_module": "@jupyter-widgets/base",
          "model_name": "LayoutModel",
          "state": {
            "_view_name": "LayoutView",
            "grid_template_rows": null,
            "right": null,
            "justify_content": null,
            "_view_module": "@jupyter-widgets/base",
            "overflow": null,
            "_model_module_version": "1.2.0",
            "_view_count": null,
            "flex_flow": null,
            "width": null,
            "min_width": null,
            "border": null,
            "align_items": null,
            "bottom": null,
            "_model_module": "@jupyter-widgets/base",
            "top": null,
            "grid_column": null,
            "overflow_y": null,
            "overflow_x": null,
            "grid_auto_flow": null,
            "grid_area": null,
            "grid_template_columns": null,
            "flex": null,
            "_model_name": "LayoutModel",
            "justify_items": null,
            "grid_row": null,
            "max_height": null,
            "align_content": null,
            "visibility": null,
            "align_self": null,
            "height": null,
            "min_height": null,
            "padding": null,
            "grid_auto_rows": null,
            "grid_gap": null,
            "max_width": null,
            "order": null,
            "_view_module_version": "1.2.0",
            "grid_template_areas": null,
            "object_position": null,
            "object_fit": null,
            "grid_auto_columns": null,
            "margin": null,
            "display": null,
            "left": null
          }
        },
        "bc1b92d8be8f4b9aaf7ae3746aa001cd": {
          "model_module": "@jupyter-widgets/controls",
          "model_name": "FloatProgressModel",
          "state": {
            "_view_name": "ProgressView",
            "style": "IPY_MODEL_1153caf95ece4ae292c13d68963e4939",
            "_dom_classes": [],
            "description": "Creating upload tasks: 100%",
            "_model_name": "FloatProgressModel",
            "bar_style": "success",
            "max": 7,
            "_view_module": "@jupyter-widgets/controls",
            "_model_module_version": "1.5.0",
            "value": 7,
            "_view_count": null,
            "_view_module_version": "1.5.0",
            "orientation": "horizontal",
            "min": 0,
            "description_tooltip": null,
            "_model_module": "@jupyter-widgets/controls",
            "layout": "IPY_MODEL_0a6ac038f23f45ba9af9892952fcb69f"
          }
        },
        "196ac87acc4c46c5a2f8807edfc9d83c": {
          "model_module": "@jupyter-widgets/controls",
          "model_name": "HTMLModel",
          "state": {
            "_view_name": "HTMLView",
            "style": "IPY_MODEL_25a98c5e038c4074b66632d851da0978",
            "_dom_classes": [],
            "description": "",
            "_model_name": "HTMLModel",
            "placeholder": "​",
            "_view_module": "@jupyter-widgets/controls",
            "_model_module_version": "1.5.0",
            "value": " 7/7 [05:55&lt;00:00, 50.74s/it]",
            "_view_count": null,
            "_view_module_version": "1.5.0",
            "description_tooltip": null,
            "_model_module": "@jupyter-widgets/controls",
            "layout": "IPY_MODEL_1583e1d804b645e5ace594ba376f6cc3"
          }
        },
        "1153caf95ece4ae292c13d68963e4939": {
          "model_module": "@jupyter-widgets/controls",
          "model_name": "ProgressStyleModel",
          "state": {
            "_view_name": "StyleView",
            "_model_name": "ProgressStyleModel",
            "description_width": "initial",
            "_view_module": "@jupyter-widgets/base",
            "_model_module_version": "1.5.0",
            "_view_count": null,
            "_view_module_version": "1.2.0",
            "bar_color": null,
            "_model_module": "@jupyter-widgets/controls"
          }
        },
        "0a6ac038f23f45ba9af9892952fcb69f": {
          "model_module": "@jupyter-widgets/base",
          "model_name": "LayoutModel",
          "state": {
            "_view_name": "LayoutView",
            "grid_template_rows": null,
            "right": null,
            "justify_content": null,
            "_view_module": "@jupyter-widgets/base",
            "overflow": null,
            "_model_module_version": "1.2.0",
            "_view_count": null,
            "flex_flow": null,
            "width": null,
            "min_width": null,
            "border": null,
            "align_items": null,
            "bottom": null,
            "_model_module": "@jupyter-widgets/base",
            "top": null,
            "grid_column": null,
            "overflow_y": null,
            "overflow_x": null,
            "grid_auto_flow": null,
            "grid_area": null,
            "grid_template_columns": null,
            "flex": null,
            "_model_name": "LayoutModel",
            "justify_items": null,
            "grid_row": null,
            "max_height": null,
            "align_content": null,
            "visibility": null,
            "align_self": null,
            "height": null,
            "min_height": null,
            "padding": null,
            "grid_auto_rows": null,
            "grid_gap": null,
            "max_width": null,
            "order": null,
            "_view_module_version": "1.2.0",
            "grid_template_areas": null,
            "object_position": null,
            "object_fit": null,
            "grid_auto_columns": null,
            "margin": null,
            "display": null,
            "left": null
          }
        },
        "25a98c5e038c4074b66632d851da0978": {
          "model_module": "@jupyter-widgets/controls",
          "model_name": "DescriptionStyleModel",
          "state": {
            "_view_name": "StyleView",
            "_model_name": "DescriptionStyleModel",
            "description_width": "",
            "_view_module": "@jupyter-widgets/base",
            "_model_module_version": "1.5.0",
            "_view_count": null,
            "_view_module_version": "1.2.0",
            "_model_module": "@jupyter-widgets/controls"
          }
        },
        "1583e1d804b645e5ace594ba376f6cc3": {
          "model_module": "@jupyter-widgets/base",
          "model_name": "LayoutModel",
          "state": {
            "_view_name": "LayoutView",
            "grid_template_rows": null,
            "right": null,
            "justify_content": null,
            "_view_module": "@jupyter-widgets/base",
            "overflow": null,
            "_model_module_version": "1.2.0",
            "_view_count": null,
            "flex_flow": null,
            "width": null,
            "min_width": null,
            "border": null,
            "align_items": null,
            "bottom": null,
            "_model_module": "@jupyter-widgets/base",
            "top": null,
            "grid_column": null,
            "overflow_y": null,
            "overflow_x": null,
            "grid_auto_flow": null,
            "grid_area": null,
            "grid_template_columns": null,
            "flex": null,
            "_model_name": "LayoutModel",
            "justify_items": null,
            "grid_row": null,
            "max_height": null,
            "align_content": null,
            "visibility": null,
            "align_self": null,
            "height": null,
            "min_height": null,
            "padding": null,
            "grid_auto_rows": null,
            "grid_gap": null,
            "max_width": null,
            "order": null,
            "_view_module_version": "1.2.0",
            "grid_template_areas": null,
            "object_position": null,
            "object_fit": null,
            "grid_auto_columns": null,
            "margin": null,
            "display": null,
            "left": null
          }
        }
      }
    }
  },
  "cells": [
    {
      "cell_type": "markdown",
      "metadata": {
        "id": "view-in-github",
        "colab_type": "text"
      },
      "source": [
        "<a href=\"https://colab.research.google.com/github/Vizzuality/mangrove-atlas-data/blob/master/process_mangrove_land_cover.ipynb\" target=\"_parent\"><img src=\"https://colab.research.google.com/assets/colab-badge.svg\" alt=\"Open In Colab\"/></a>"
      ]
    },
    {
      "cell_type": "markdown",
      "metadata": {
        "id": "RTLRdjsHkjtl",
        "colab_type": "text"
      },
      "source": [
        "# Prepare data for the mangrove-atlas project\n",
        "\n",
        "https://github.com/Vizzuality/mangrove-atlas-data\n",
        "\n",
        "`Edward P. Morris (vizzuality.)`\n",
        "\n",
        "## Description\n",
        "This notebook gets mangrove habitat land-cover data, uploads to GCS, and earthengine asset.   \n",
        "\n",
        "```\n",
        "MIT License\n",
        "\n",
        "Copyright (c) 2020 Vizzuality\n",
        "\n",
        "Permission is hereby granted, free of charge, to any person obtaining a copy\n",
        "of this software and associated documentation files (the \"Software\"), to deal\n",
        "in the Software without restriction, including without limitation the rights\n",
        "to use, copy, modify, merge, publish, distribute, sublicense, and/or sell\n",
        "copies of the Software, and to permit persons to whom the Software is\n",
        "furnished to do so, subject to the following conditions:\n",
        "\n",
        "The above copyright notice and this permission notice shall be included in all\n",
        "copies or substantial portions of the Software.\n",
        "\n",
        "THE SOFTWARE IS PROVIDED \"AS IS\", WITHOUT WARRANTY OF ANY KIND, EXPRESS OR\n",
        "IMPLIED, INCLUDING BUT NOT LIMITED TO THE WARRANTIES OF MERCHANTABILITY,\n",
        "FITNESS FOR A PARTICULAR PURPOSE AND NONINFRINGEMENT. IN NO EVENT SHALL THE\n",
        "AUTHORS OR COPYRIGHT HOLDERS BE LIABLE FOR ANY CLAIM, DAMAGES OR OTHER\n",
        "LIABILITY, WHETHER IN AN ACTION OF CONTRACT, TORT OR OTHERWISE, ARISING FROM,\n",
        "OUT OF OR IN CONNECTION WITH THE SOFTWARE OR THE USE OR OTHER DEALINGS IN THE\n",
        "SOFTWARE.\n",
        "```"
      ]
    },
    {
      "cell_type": "markdown",
      "metadata": {
        "id": "uKARM1_f3Ccg",
        "colab_type": "text"
      },
      "source": [
        "# Setup\n",
        "\n",
        "Instructions for setting up the computing environment."
      ]
    },
    {
      "cell_type": "code",
      "metadata": {
        "id": "5f327xg8JujU",
        "colab_type": "code",
        "colab": {}
      },
      "source": [
        "# Remove sample_data\n",
        "!rm -r sample_data"
      ],
      "execution_count": 1,
      "outputs": []
    },
    {
      "cell_type": "markdown",
      "metadata": {
        "id": "FjdjX-Vc3LVK",
        "colab_type": "text"
      },
      "source": [
        "## Linux dependencies\n",
        "\n",
        "Instructions for adding linux (including node, ect.) system packages. "
      ]
    },
    {
      "cell_type": "code",
      "metadata": {
        "id": "i-8t_7x21B5M",
        "colab_type": "code",
        "colab": {
          "base_uri": "https://localhost:8080/",
          "height": 173
        },
        "outputId": "f102d19f-f9f4-406a-a409-c2462e676b55"
      },
      "source": [
        "# Fix for curl certificates (rasterio virtual connectors)\n",
        "# RasterioIOError: CURL error: error setting certificate verify locations:   CAfile: /etc/pki/tls/certs/ca-bundle.crt   CApath: none\n",
        "!apt install ca-certificates\n",
        "#!export CURL_CA_BUNDLE=/etc/ssl/certs/ca-certificates.crt\n",
        "!mkdir -p /etc/pki/tls/certs\n",
        "!cp /etc/ssl/certs/ca-certificates.crt /etc/pki/tls/certs/ca-bundle.crt\n",
        "!export CURL_CA_BUNDLE=/etc/ssl/certs/ca-certificates.crt\n",
        "!ls /etc/pki/tls/certs"
      ],
      "execution_count": 2,
      "outputs": [
        {
          "output_type": "stream",
          "text": [
            "Reading package lists... Done\n",
            "Building dependency tree       \n",
            "Reading state information... Done\n",
            "ca-certificates is already the newest version (20190110~18.04.1).\n",
            "The following package was automatically installed and is no longer required:\n",
            "  libnvidia-common-440\n",
            "Use 'apt autoremove' to remove it.\n",
            "0 upgraded, 0 newly installed, 0 to remove and 33 not upgraded.\n",
            "ca-bundle.crt\n"
          ],
          "name": "stdout"
        }
      ]
    },
    {
      "cell_type": "code",
      "metadata": {
        "id": "-5S4mxFswFUs",
        "colab_type": "code",
        "colab": {}
      },
      "source": [
        "%%bash\n",
        "#apt install -q -y [package-name]\n",
        "#npm install -g [package-name]"
      ],
      "execution_count": 3,
      "outputs": []
    },
    {
      "cell_type": "markdown",
      "metadata": {
        "id": "LGWeJje13Tcw",
        "colab_type": "text"
      },
      "source": [
        "## Python packages"
      ]
    },
    {
      "cell_type": "code",
      "metadata": {
        "id": "2fcXDgRX1huS",
        "colab_type": "code",
        "colab": {
          "base_uri": "https://localhost:8080/",
          "height": 260
        },
        "outputId": "a94fc6e8-3008-42ae-fb29-f4f2aa82c7bc"
      },
      "source": [
        "# Install python packages\n",
        "!pip install -q iso8601 pystac python_jsonschema_objects rasterio rio-cogeo shapely zenodo-get tqdm pystac uuid Skydipper"
      ],
      "execution_count": 4,
      "outputs": [
        {
          "output_type": "stream",
          "text": [
            "\u001b[K     |████████████████████████████████| 71kB 2.9MB/s \n",
            "\u001b[K     |████████████████████████████████| 18.2MB 209kB/s \n",
            "\u001b[K     |████████████████████████████████| 51kB 5.0MB/s \n",
            "\u001b[K     |████████████████████████████████| 655kB 33.4MB/s \n",
            "\u001b[K     |████████████████████████████████| 962kB 37.5MB/s \n",
            "\u001b[K     |████████████████████████████████| 153kB 36.9MB/s \n",
            "\u001b[K     |████████████████████████████████| 10.9MB 30.3MB/s \n",
            "\u001b[K     |████████████████████████████████| 14.7MB 296kB/s \n",
            "\u001b[?25h  Building wheel for rio-cogeo (setup.py) ... \u001b[?25l\u001b[?25hdone\n",
            "  Building wheel for uuid (setup.py) ... \u001b[?25l\u001b[?25hdone\n",
            "  Building wheel for supermercado (setup.py) ... \u001b[?25l\u001b[?25hdone\n",
            "  Building wheel for wget (setup.py) ... \u001b[?25l\u001b[?25hdone\n",
            "  Building wheel for pypng (setup.py) ... \u001b[?25l\u001b[?25hdone\n",
            "  Building wheel for earthengine-api (setup.py) ... \u001b[?25l\u001b[?25hdone\n"
          ],
          "name": "stdout"
        }
      ]
    },
    {
      "cell_type": "code",
      "metadata": {
        "id": "CRgtmQGD2Nw1",
        "colab_type": "code",
        "colab": {
          "base_uri": "https://localhost:8080/",
          "height": 34
        },
        "outputId": "a0d56b4b-a527-4c9a-9939-6e09d495f2dc"
      },
      "source": [
        "# Check shapely speedups are available\n",
        "from shapely import speedups\n",
        "speedups.enabled"
      ],
      "execution_count": 5,
      "outputs": [
        {
          "output_type": "execute_result",
          "data": {
            "text/plain": [
              "True"
            ]
          },
          "metadata": {
            "tags": []
          },
          "execution_count": 5
        }
      ]
    },
    {
      "cell_type": "code",
      "metadata": {
        "id": "PeiPzqQlXemI",
        "colab_type": "code",
        "colab": {}
      },
      "source": [
        "import Skydipper"
      ],
      "execution_count": 1,
      "outputs": []
    },
    {
      "cell_type": "code",
      "metadata": {
        "id": "8s7-DYbxjesM",
        "colab_type": "code",
        "colab": {
          "base_uri": "https://localhost:8080/",
          "height": 1000
        },
        "outputId": "59ee6e08-9799-470a-9bcc-4b516ca2d017"
      },
      "source": [
        "# Show python package versions\n",
        "!pip list"
      ],
      "execution_count": 2,
      "outputs": [
        {
          "output_type": "stream",
          "text": [
            "Package                   Version        \n",
            "------------------------- ---------------\n",
            "absl-py                   0.9.0          \n",
            "affine                    2.3.0          \n",
            "alabaster                 0.7.12         \n",
            "albumentations            0.1.12         \n",
            "altair                    4.1.0          \n",
            "asgiref                   3.2.10         \n",
            "astor                     0.8.1          \n",
            "astropy                   4.0.1.post1    \n",
            "astunparse                1.6.3          \n",
            "atari-py                  0.2.6          \n",
            "atomicwrites              1.4.0          \n",
            "attrs                     19.3.0         \n",
            "audioread                 2.1.8          \n",
            "autograd                  1.3            \n",
            "Babel                     2.8.0          \n",
            "backcall                  0.2.0          \n",
            "beautifulsoup4            4.6.3          \n",
            "bleach                    3.1.5          \n",
            "blis                      0.4.1          \n",
            "bokeh                     1.4.0          \n",
            "boto                      2.49.0         \n",
            "boto3                     1.14.9         \n",
            "botocore                  1.17.9         \n",
            "Bottleneck                1.3.2          \n",
            "branca                    0.4.1          \n",
            "bs4                       0.0.1          \n",
            "CacheControl              0.12.6         \n",
            "cachetools                4.1.0          \n",
            "catalogue                 1.0.0          \n",
            "certifi                   2020.6.20      \n",
            "cffi                      1.14.0         \n",
            "chainer                   6.5.0          \n",
            "chardet                   3.0.4          \n",
            "click                     7.1.2          \n",
            "click-plugins             1.1.1          \n",
            "cligj                     0.5.0          \n",
            "cloudpickle               1.3.0          \n",
            "cmake                     3.12.0         \n",
            "cmdstanpy                 0.4.0          \n",
            "colorlover                0.3.0          \n",
            "community                 1.0.0b1        \n",
            "contextlib2               0.5.5          \n",
            "convertdate               2.2.1          \n",
            "coverage                  3.7.1          \n",
            "coveralls                 0.5            \n",
            "crcmod                    1.7            \n",
            "cufflinks                 0.17.3         \n",
            "cvxopt                    1.2.5          \n",
            "cvxpy                     1.0.31         \n",
            "cycler                    0.10.0         \n",
            "cymem                     2.0.3          \n",
            "Cython                    0.29.20        \n",
            "daft                      0.0.4          \n",
            "dask                      2.12.0         \n",
            "dataclasses               0.7            \n",
            "datascience               0.10.6         \n",
            "decorator                 4.4.2          \n",
            "defusedxml                0.6.0          \n",
            "descartes                 1.1.0          \n",
            "dill                      0.3.2          \n",
            "distributed               1.25.3         \n",
            "Django                    3.0.7          \n",
            "dlib                      19.18.0        \n",
            "docopt                    0.6.2          \n",
            "docutils                  0.15.2         \n",
            "dopamine-rl               1.0.5          \n",
            "earthengine-api           0.1.215        \n",
            "easydict                  1.9            \n",
            "ecos                      2.0.7.post1    \n",
            "editdistance              0.5.3          \n",
            "en-core-web-sm            2.2.5          \n",
            "entrypoints               0.3            \n",
            "ephem                     3.7.7.1        \n",
            "et-xmlfile                1.0.1          \n",
            "fa2                       0.3.5          \n",
            "fancyimpute               0.4.3          \n",
            "fastai                    1.0.61         \n",
            "fastdtw                   0.3.4          \n",
            "fastprogress              0.2.3          \n",
            "fastrlock                 0.5            \n",
            "fbprophet                 0.6            \n",
            "feather-format            0.4.1          \n",
            "featuretools              0.4.1          \n",
            "filelock                  3.0.12         \n",
            "Fiona                     1.8.13.post1   \n",
            "firebase-admin            4.1.0          \n",
            "fix-yahoo-finance         0.0.22         \n",
            "Flask                     1.1.2          \n",
            "folium                    0.8.3          \n",
            "fsspec                    0.7.4          \n",
            "future                    0.16.0         \n",
            "gast                      0.3.3          \n",
            "GDAL                      2.2.2          \n",
            "gdown                     3.6.4          \n",
            "gensim                    3.6.0          \n",
            "geographiclib             1.50           \n",
            "geojson                   2.5.0          \n",
            "geopandas                 0.8.0          \n",
            "geopy                     1.17.0         \n",
            "gin-config                0.3.0          \n",
            "glob2                     0.7            \n",
            "google                    2.0.3          \n",
            "google-api-core           1.16.0         \n",
            "google-api-python-client  1.7.12         \n",
            "google-auth               1.17.2         \n",
            "google-auth-httplib2      0.0.3          \n",
            "google-auth-oauthlib      0.4.1          \n",
            "google-cloud-bigquery     1.21.0         \n",
            "google-cloud-core         1.0.3          \n",
            "google-cloud-datastore    1.8.0          \n",
            "google-cloud-firestore    1.7.0          \n",
            "google-cloud-language     1.2.0          \n",
            "google-cloud-storage      1.18.1         \n",
            "google-cloud-translate    1.5.0          \n",
            "google-colab              1.0.0          \n",
            "google-pasta              0.2.0          \n",
            "google-resumable-media    0.4.1          \n",
            "googleapis-common-protos  1.52.0         \n",
            "googledrivedownloader     0.4            \n",
            "graphviz                  0.10.1         \n",
            "grpcio                    1.30.0         \n",
            "gspread                   3.0.1          \n",
            "gspread-dataframe         3.0.7          \n",
            "gym                       0.17.2         \n",
            "h5py                      2.10.0         \n",
            "HeapDict                  1.0.1          \n",
            "holidays                  0.9.12         \n",
            "html5lib                  1.0.1          \n",
            "httpimport                0.5.18         \n",
            "httplib2                  0.17.4         \n",
            "httplib2shim              0.0.3          \n",
            "humanize                  0.5.1          \n",
            "hyperopt                  0.1.2          \n",
            "ideep4py                  2.0.0.post3    \n",
            "idna                      2.9            \n",
            "image                     1.5.32         \n",
            "imageio                   2.4.1          \n",
            "imagesize                 1.2.0          \n",
            "imbalanced-learn          0.4.3          \n",
            "imblearn                  0.0            \n",
            "imgaug                    0.2.9          \n",
            "importlib-metadata        1.6.1          \n",
            "imutils                   0.5.3          \n",
            "inflect                   2.1.0          \n",
            "inflection                0.5.0          \n",
            "intel-openmp              2020.0.133     \n",
            "intervaltree              2.1.0          \n",
            "ipykernel                 4.10.1         \n",
            "ipython                   5.5.0          \n",
            "ipython-genutils          0.2.0          \n",
            "ipython-sql               0.3.9          \n",
            "ipywidgets                7.5.1          \n",
            "iso8601                   0.1.12         \n",
            "itsdangerous              1.1.0          \n",
            "jax                       0.1.69         \n",
            "jaxlib                    0.1.47         \n",
            "jdcal                     1.4.1          \n",
            "jedi                      0.17.1         \n",
            "jieba                     0.42.1         \n",
            "Jinja2                    2.11.2         \n",
            "jmespath                  0.10.0         \n",
            "joblib                    0.15.1         \n",
            "jpeg4py                   0.1.4          \n",
            "jsonschema                2.6.0          \n",
            "jupyter                   1.0.0          \n",
            "jupyter-client            5.3.4          \n",
            "jupyter-console           5.2.0          \n",
            "jupyter-core              4.6.3          \n",
            "kaggle                    1.5.6          \n",
            "kapre                     0.1.3.1        \n",
            "Keras                     2.3.1          \n",
            "Keras-Applications        1.0.8          \n",
            "Keras-Preprocessing       1.1.2          \n",
            "keras-vis                 0.4.1          \n",
            "kiwisolver                1.2.0          \n",
            "knnimpute                 0.1.0          \n",
            "librosa                   0.6.3          \n",
            "lightgbm                  2.2.3          \n",
            "llvmlite                  0.31.0         \n",
            "lmdb                      0.98           \n",
            "lucid                     0.3.8          \n",
            "LunarCalendar             0.0.9          \n",
            "lxml                      4.2.6          \n",
            "Markdown                  3.2.2          \n",
            "MarkupSafe                1.1.1          \n",
            "matplotlib                3.2.2          \n",
            "matplotlib-venn           0.11.5         \n",
            "mercantile                1.1.5          \n",
            "missingno                 0.4.2          \n",
            "mistune                   0.8.4          \n",
            "mizani                    0.6.0          \n",
            "mkl                       2019.0         \n",
            "mlxtend                   0.14.0         \n",
            "more-itertools            8.4.0          \n",
            "moviepy                   0.2.3.5        \n",
            "mpmath                    1.1.0          \n",
            "msgpack                   1.0.0          \n",
            "multiprocess              0.70.10        \n",
            "multitasking              0.0.9          \n",
            "munch                     2.5.0          \n",
            "murmurhash                1.0.2          \n",
            "music21                   5.5.0          \n",
            "natsort                   5.5.0          \n",
            "nbconvert                 5.6.1          \n",
            "nbformat                  5.0.7          \n",
            "networkx                  2.4            \n",
            "nibabel                   3.0.2          \n",
            "nltk                      3.2.5          \n",
            "notebook                  5.2.2          \n",
            "np-utils                  0.5.12.1       \n",
            "numba                     0.48.0         \n",
            "numexpr                   2.7.1          \n",
            "numpy                     1.18.5         \n",
            "nvidia-ml-py3             7.352.0        \n",
            "oauth2client              4.1.3          \n",
            "oauthlib                  3.1.0          \n",
            "okgrade                   0.4.3          \n",
            "opencv-contrib-python     4.1.2.30       \n",
            "opencv-python             4.1.2.30       \n",
            "openpyxl                  2.5.9          \n",
            "opt-einsum                3.2.1          \n",
            "osqp                      0.6.1          \n",
            "packaging                 20.4           \n",
            "palettable                3.3.0          \n",
            "pandas                    1.0.5          \n",
            "pandas-datareader         0.8.1          \n",
            "pandas-gbq                0.11.0         \n",
            "pandas-profiling          1.4.1          \n",
            "pandocfilters             1.4.2          \n",
            "parso                     0.7.0          \n",
            "pathlib                   1.0.1          \n",
            "patsy                     0.5.1          \n",
            "pexpect                   4.8.0          \n",
            "pickleshare               0.7.5          \n",
            "Pillow                    7.0.0          \n",
            "pip                       19.3.1         \n",
            "pip-tools                 4.5.1          \n",
            "plac                      1.1.3          \n",
            "plotly                    4.4.1          \n",
            "plotnine                  0.6.0          \n",
            "pluggy                    0.7.1          \n",
            "portpicker                1.3.1          \n",
            "prefetch-generator        1.0.1          \n",
            "preshed                   3.0.2          \n",
            "prettytable               0.7.2          \n",
            "progressbar2              3.38.0         \n",
            "prometheus-client         0.8.0          \n",
            "promise                   2.3            \n",
            "prompt-toolkit            1.0.18         \n",
            "protobuf                  3.10.0         \n",
            "psutil                    5.4.8          \n",
            "psycopg2                  2.7.6.1        \n",
            "ptyprocess                0.6.0          \n",
            "py                        1.8.2          \n",
            "pyarrow                   0.14.1         \n",
            "pyasn1                    0.4.8          \n",
            "pyasn1-modules            0.2.8          \n",
            "pycocotools               2.0.1          \n",
            "pycparser                 2.20           \n",
            "pydata-google-auth        1.1.0          \n",
            "pydot                     1.3.0          \n",
            "pydot-ng                  2.0.0          \n",
            "pydotplus                 2.0.2          \n",
            "PyDrive                   1.3.1          \n",
            "pyemd                     0.5.1          \n",
            "pyglet                    1.5.0          \n",
            "Pygments                  2.1.3          \n",
            "pygobject                 3.26.1         \n",
            "pymc3                     3.7            \n",
            "PyMeeus                   0.3.7          \n",
            "pymongo                   3.10.1         \n",
            "pymystem3                 0.2.0          \n",
            "PyOpenGL                  3.1.5          \n",
            "pyparsing                 2.4.7          \n",
            "pypng                     0.0.20         \n",
            "pyproj                    2.6.1.post1    \n",
            "pyrsistent                0.16.0         \n",
            "pysndfile                 1.3.8          \n",
            "PySocks                   1.7.1          \n",
            "pystac                    0.3.4          \n",
            "pystan                    2.19.1.1       \n",
            "pytest                    3.6.4          \n",
            "python-apt                1.6.5+ubuntu0.3\n",
            "python-chess              0.23.11        \n",
            "python-dateutil           2.8.1          \n",
            "python-jsonschema-objects 0.3.12         \n",
            "python-louvain            0.14           \n",
            "python-slugify            4.0.0          \n",
            "python-utils              2.4.0          \n",
            "pytz                      2018.9         \n",
            "PyWavelets                1.1.1          \n",
            "PyYAML                    3.13           \n",
            "pyzmq                     19.0.1         \n",
            "qtconsole                 4.7.5          \n",
            "QtPy                      1.9.0          \n",
            "rasterio                  1.1.5          \n",
            "regex                     2019.12.20     \n",
            "requests                  2.23.0         \n",
            "requests-oauthlib         1.3.0          \n",
            "resampy                   0.2.2          \n",
            "retrying                  1.3.3          \n",
            "rio-cogeo                 1.1.10         \n",
            "rpy2                      3.2.7          \n",
            "rsa                       4.6            \n",
            "s3fs                      0.4.2          \n",
            "s3transfer                0.3.3          \n",
            "scikit-image              0.16.2         \n",
            "scikit-learn              0.22.2.post1   \n",
            "scipy                     1.4.1          \n",
            "screen-resolution-extra   0.0.0          \n",
            "scs                       2.1.2          \n",
            "seaborn                   0.10.1         \n",
            "Send2Trash                1.5.0          \n",
            "setuptools                47.3.1         \n",
            "setuptools-git            1.2            \n",
            "Shapely                   1.7.0          \n",
            "simplegeneric             0.8.1          \n",
            "six                       1.12.0         \n",
            "sklearn                   0.0            \n",
            "sklearn-pandas            1.8.0          \n",
            "Skydipper                 0.2.6          \n",
            "smart-open                2.0.0          \n",
            "snowballstemmer           2.0.0          \n",
            "snuggs                    1.4.7          \n",
            "sortedcontainers          2.2.2          \n",
            "spacy                     2.2.4          \n",
            "Sphinx                    1.8.5          \n",
            "sphinxcontrib-websupport  1.2.2          \n",
            "SQLAlchemy                1.3.17         \n",
            "sqlparse                  0.3.1          \n",
            "srsly                     1.0.2          \n",
            "statsmodels               0.10.2         \n",
            "supermercado              0.0.5          \n",
            "sympy                     1.1.1          \n",
            "tables                    3.4.4          \n",
            "tabulate                  0.8.7          \n",
            "tbb                       2020.0.133     \n",
            "tblib                     1.6.0          \n",
            "tensorboard               2.2.2          \n",
            "tensorboard-plugin-wit    1.6.0.post3    \n",
            "tensorboardcolab          0.0.22         \n",
            "tensorflow                2.2.0          \n",
            "tensorflow-addons         0.8.3          \n",
            "tensorflow-datasets       2.1.0          \n",
            "tensorflow-estimator      2.2.0          \n",
            "tensorflow-gcs-config     2.2.0          \n",
            "tensorflow-hub            0.8.0          \n",
            "tensorflow-metadata       0.22.2         \n",
            "tensorflow-privacy        0.2.2          \n",
            "tensorflow-probability    0.10.0         \n",
            "termcolor                 1.1.0          \n",
            "terminado                 0.8.3          \n",
            "testpath                  0.4.4          \n",
            "text-unidecode            1.3            \n",
            "textblob                  0.15.3         \n",
            "textgenrnn                1.4.1          \n",
            "Theano                    1.0.4          \n",
            "thinc                     7.4.0          \n",
            "tifffile                  2020.6.3       \n",
            "toolz                     0.10.0         \n",
            "torch                     1.5.1+cu101    \n",
            "torchsummary              1.5.1          \n",
            "torchtext                 0.3.1          \n",
            "torchvision               0.6.1+cu101    \n",
            "tornado                   4.5.3          \n",
            "tqdm                      4.41.1         \n",
            "traitlets                 4.3.3          \n",
            "tweepy                    3.6.0          \n",
            "typeguard                 2.7.1          \n",
            "typing                    3.6.6          \n",
            "typing-extensions         3.6.6          \n",
            "tzlocal                   1.5.1          \n",
            "umap-learn                0.4.4          \n",
            "uritemplate               3.0.1          \n",
            "urllib3                   1.24.3         \n",
            "uuid                      1.30           \n",
            "vega-datasets             0.8.0          \n",
            "wasabi                    0.7.0          \n",
            "wcwidth                   0.2.5          \n",
            "webencodings              0.5.1          \n",
            "Werkzeug                  1.0.1          \n",
            "wget                      3.2            \n",
            "wheel                     0.34.2         \n",
            "widgetsnbextension        3.5.1          \n",
            "wordcloud                 1.5.0          \n",
            "wrapt                     1.12.1         \n",
            "xarray                    0.15.1         \n",
            "xgboost                   0.90           \n",
            "xkit                      0.0.0          \n",
            "xlrd                      1.1.0          \n",
            "xlwt                      1.3.0          \n",
            "yellowbrick               0.9.1          \n",
            "zenodo-get                1.3.0          \n",
            "zict                      2.0.0          \n",
            "zipp                      3.1.0          \n"
          ],
          "name": "stdout"
        }
      ]
    },
    {
      "cell_type": "markdown",
      "metadata": {
        "id": "IK4kYzml3bDD",
        "colab_type": "text"
      },
      "source": [
        "## Authorisation\n",
        "\n",
        "Setting up connections and authorisation to cloud services."
      ]
    },
    {
      "cell_type": "markdown",
      "metadata": {
        "id": "T7jp5JdFrxGm",
        "colab_type": "text"
      },
      "source": [
        "### Google Cloud\n",
        "\n",
        "This can be done in the URL or via adding service account credentials.\n",
        "\n",
        "If you do not share the notebook, you can mount your Drive and and transfer credentials to disk. Note if the notebook is shared you always need to authenticate via URL.  "
      ]
    },
    {
      "cell_type": "code",
      "metadata": {
        "id": "pIeVojTV21Nr",
        "colab_type": "code",
        "colab": {}
      },
      "source": [
        "# Set the Google Cloud params\n",
        "gc_project_id = \"mangrove-atlas-246414\"\n",
        "gc_creds = \"mangrove-atlas-246414-2f33cc439deb.json\"\n",
        "gc_username = \"edward-morris-vizzuality-com-d@mangrove-atlas-246414.iam.gserviceaccount.com\"\n",
        "gcs_prefix = \"gs://mangrove_atlas\"\n",
        "gcs_http_prefix = \"https://storage.googleapis.com/mangrove_atlas\""
      ],
      "execution_count": 3,
      "outputs": []
    },
    {
      "cell_type": "markdown",
      "metadata": {
        "id": "lCYb2oYPxHf1",
        "colab_type": "text"
      },
      "source": [
        "#### without service account"
      ]
    },
    {
      "cell_type": "code",
      "metadata": {
        "colab_type": "code",
        "id": "oY_ymKY_oIY8",
        "colab": {}
      },
      "source": [
        "# For auth WITHOUT service account\n",
        "# https://cloud.google.com/resource-manager/docs/creating-managing-projects\n",
        "#from google.colab import auth\n",
        "#auth.authenticate_user()\n",
        "#!gcloud config set project {project_id}"
      ],
      "execution_count": 4,
      "outputs": []
    },
    {
      "cell_type": "markdown",
      "metadata": {
        "id": "1Il-L9EPxO2y",
        "colab_type": "text"
      },
      "source": [
        "#### with service account"
      ]
    },
    {
      "cell_type": "code",
      "metadata": {
        "id": "7akT-7lZ9x3R",
        "colab_type": "code",
        "colab": {}
      },
      "source": [
        "# If the notebook is shared\n",
        "#from google.colab import drive\n",
        "#drive.mount('/content/drive')"
      ],
      "execution_count": 5,
      "outputs": []
    },
    {
      "cell_type": "code",
      "metadata": {
        "colab_type": "code",
        "id": "dCFS8FOnzScr",
        "colab": {}
      },
      "source": [
        "# If Drive is mounted, copy GC credentials to home (place in your GDrive, and connect Drive)\n",
        "!cp \"/content/drive/My Drive/{gc_creds}\" \"/root/.{gc_creds}\""
      ],
      "execution_count": 6,
      "outputs": []
    },
    {
      "cell_type": "code",
      "metadata": {
        "colab_type": "code",
        "id": "03Tbqeq9zSc0",
        "colab": {
          "base_uri": "https://localhost:8080/",
          "height": 34
        },
        "outputId": "aef98258-7185-4085-e8e9-cd7b8832161a"
      },
      "source": [
        "# Auth WITH service account\n",
        "!gcloud auth activate-service-account {gc_username} --key-file=/root/.{gc_creds} --project={gc_project_id}"
      ],
      "execution_count": 7,
      "outputs": [
        {
          "output_type": "stream",
          "text": [
            "Activated service account credentials for: [edward-morris-vizzuality-com-d@mangrove-atlas-246414.iam.gserviceaccount.com]\n"
          ],
          "name": "stdout"
        }
      ]
    },
    {
      "cell_type": "code",
      "metadata": {
        "colab_type": "code",
        "id": "PA4tPZ4-zSc9",
        "colab": {
          "base_uri": "https://localhost:8080/",
          "height": 295
        },
        "outputId": "f9234094-75f6-4e37-afff-922cea46d8c0"
      },
      "source": [
        "# Test GC auth\n",
        "!gsutil ls {gcs_prefix}"
      ],
      "execution_count": 8,
      "outputs": [
        {
          "output_type": "stream",
          "text": [
            "gs://mangrove_atlas/wdpa_geometry_types_.csv\n",
            "gs://mangrove_atlas/./\n",
            "gs://mangrove_atlas//\n",
            "gs://mangrove_atlas/boundaries/\n",
            "gs://mangrove_atlas/deforestation-alerts/\n",
            "gs://mangrove_atlas/ee-export-tables/\n",
            "gs://mangrove_atlas/ee-upload-manifests/\n",
            "gs://mangrove_atlas/elevation/\n",
            "gs://mangrove_atlas/environmental-pressures/\n",
            "gs://mangrove_atlas/gadm-eez.zarr/\n",
            "gs://mangrove_atlas/land-cover/\n",
            "gs://mangrove_atlas/mangrove-properties/\n",
            "gs://mangrove_atlas/orthoimagery/\n",
            "gs://mangrove_atlas/physical-environment/\n",
            "gs://mangrove_atlas/tilesets/\n",
            "gs://mangrove_atlas/tmp/\n"
          ],
          "name": "stdout"
        }
      ]
    },
    {
      "cell_type": "markdown",
      "metadata": {
        "id": "e6M0C53YD1Sv",
        "colab_type": "text"
      },
      "source": [
        "### Skydipper API\n",
        "\n",
        "You need to register with the API at https://api.skydipper.com/auth , we then login with our email and password to get an authorisation token. Be aware users need specific authorisation scopes linked to projects."
      ]
    },
    {
      "cell_type": "code",
      "metadata": {
        "id": "sjJxtfL6FFkL",
        "colab_type": "code",
        "colab": {}
      },
      "source": [
        "# Set API information (note credentials should be defined in ENV)\n",
        "sky_api_app = \"copernicusClimate\"\n",
        "sky_creds = \"skydipper-creds.txt\""
      ],
      "execution_count": 9,
      "outputs": []
    },
    {
      "cell_type": "code",
      "metadata": {
        "id": "SVPJQSi6D56r",
        "colab_type": "code",
        "colab": {}
      },
      "source": [
        "# Set up first time\n",
        "# Get auth token from API\n",
        "#import requests\n",
        "#import os\n",
        "#payload = {\n",
        "#    \"email\":os.environ['SKY_API_EMAIL'],\n",
        "#    \"password\":os.environ['SKY_API_PWD']\n",
        "#}\n",
        "#url = 'https://api.skydipper.com/auth/login'\n",
        "#headers = {'Content-Type': 'application/json'}\n",
        "#r = requests.post(url, json=payload, headers=headers)\n",
        "#r.json()\n",
        "#token= r.json().get('data').get('token')\n",
        "#headers = {'Authorization': f\"Bearer {token}\"}"
      ],
      "execution_count": 10,
      "outputs": []
    },
    {
      "cell_type": "code",
      "metadata": {
        "id": "ghjaAumrg2IR",
        "colab_type": "code",
        "colab": {}
      },
      "source": [
        "# Copy previously generated creds\n",
        "!mkdir /root/.Skydipper\n",
        "!cp \"/content/drive/My Drive/{sky_creds}\" /root/.Skydipper/creds\n",
        "with open(\"/root/.Skydipper/creds\") as f:\n",
        "   sky_api_token = f.read()\n",
        "headers = {'Authorization': f\"Bearer {sky_api_token}\"}\n",
        "base_url = \"https://api.skydipper.com\"   "
      ],
      "execution_count": 11,
      "outputs": []
    },
    {
      "cell_type": "code",
      "metadata": {
        "id": "-gDKNDbPgHJQ",
        "colab_type": "code",
        "colab": {
          "base_uri": "https://localhost:8080/",
          "height": 107
        },
        "outputId": "82e2f51b-7fd6-4dfe-fce9-ce08617a753a"
      },
      "source": [
        "# Check it works\n",
        "import Skydipper as sky\n",
        "\n",
        "sky.Dataset('3a46bbff-73bc-4abc-bad6-11be6e99e2cb')"
      ],
      "execution_count": 12,
      "outputs": [
        {
          "output_type": "execute_result",
          "data": {
            "text/html": [
              "<div class='item_container' style='height: auto; overflow: hidden; border: 1px solid #2BA4A0;border-radius: 2px; background: #2BA4A0; line-height: 1.21429em; padding: 10px;''><div class='item_left' style='width: 210px; float: left;''><a href='https://skydipper.com/' target='_blank'><img class='itemThumbnail' src='https://skydipper.com/images/logo.png'></a></div><div class='item_right' style='float: none; width: auto; hidden;padding-left: 10px; overflow: hidden;''><a href=https://api.skydipper.com/v1/dataset/3a46bbff-73bc-4abc-bad6-11be6e99e2cb?includes=metadata,layer target='_blank'><b>historical_monthly_zs_nuts-level-234</b></a><br> Carto table: <a href=http://35.233.41.65/user/skydipper/dataset/historical_monthly_zs_nuts_level_234 target='_blank'>historical_monthly_zs_nuts_level_234</a> | Dataset in COPERNICUSCLIMATE.<br>Last Modified: 2020-05-23T17:52:21.874Z<br><a href='https://api.skydipper.com/v1/fields/3a46bbff-73bc-4abc-bad6-11be6e99e2cb' target='_blank'>Fields</a> Connector: cartodb | Published: True </div> </div>"
            ],
            "text/plain": [
              "Dataset 3a46bbff-73bc-4abc-bad6-11be6e99e2cb historical_monthly_zs_nuts-level-234"
            ]
          },
          "metadata": {
            "tags": []
          },
          "execution_count": 12
        }
      ]
    },
    {
      "cell_type": "markdown",
      "metadata": {
        "id": "Vb3bFXTp0JFz",
        "colab_type": "text"
      },
      "source": [
        "# Utils\n",
        "\n",
        "Generic helper functions used in the subsequent processing. For easy navigation each function seperated into a section with the function name."
      ]
    },
    {
      "cell_type": "markdown",
      "metadata": {
        "id": "wdQybgKyDwnS",
        "colab_type": "text"
      },
      "source": [
        "## mkdirs"
      ]
    },
    {
      "cell_type": "code",
      "metadata": {
        "id": "_UJ1hdijD8iD",
        "colab_type": "code",
        "colab": {}
      },
      "source": [
        "from pathlib import Path\n",
        "\n",
        "def mkdirs(dirs_list, exist_ok=True):\n",
        "  \"\"\" Create nested directories\n",
        "  \"\"\"\n",
        "  for p in dirs_list:\n",
        "    Path(p).mkdir(parents=True, exist_ok=exist_ok)"
      ],
      "execution_count": 13,
      "outputs": []
    },
    {
      "cell_type": "markdown",
      "metadata": {
        "id": "-l-NVtcE8KdV",
        "colab_type": "text"
      },
      "source": [
        "## copy_gcs"
      ]
    },
    {
      "cell_type": "code",
      "metadata": {
        "id": "h1KygWllicHk",
        "colab_type": "code",
        "colab": {}
      },
      "source": [
        "import os\n",
        "import subprocess\n",
        "\n",
        "def copy_gcs(source_list, dest_list, opts=\"\"):\n",
        "  \"\"\"\n",
        "  Use gsutil to copy each corresponding item in source_list\n",
        "  to dest_list.\n",
        "\n",
        "  Example:\n",
        "  copy_gcs([\"gs://my-bucket/data-file.csv\"], [\".\"])\n",
        "\n",
        "  \"\"\"\n",
        "  for s, d  in zip(source_list, dest_list):\n",
        "    cmd = f\"gsutil -m cp -r {opts} {s} {d}\"\n",
        "    print(f\"Processing: {cmd}\")\n",
        "    r = subprocess.call(cmd, shell=True)\n",
        "    if r == 0:\n",
        "        print(\"Task created\")\n",
        "    else:\n",
        "        print(\"Task failed\")\n",
        "  print(\"Finished copy\")"
      ],
      "execution_count": 14,
      "outputs": []
    },
    {
      "cell_type": "markdown",
      "metadata": {
        "id": "TqlC-HYq8XuR",
        "colab_type": "text"
      },
      "source": [
        "## list_paths"
      ]
    },
    {
      "cell_type": "code",
      "metadata": {
        "id": "x-6sC0Zc5HGQ",
        "colab_type": "code",
        "colab": {}
      },
      "source": [
        "import glob\n",
        "import subprocess\n",
        "\n",
        "def list_paths(uri_prefix, dir_path, file_pattern=\"*\", gsutil=True, return_dir_path=True):\n",
        "        ''' Creates a list of full paths \n",
        "    \n",
        "        Uses glob regex rules allowing flexible patterns\n",
        "    \n",
        "        Parameters\n",
        "        ----------\n",
        "        uri_prefix : str\n",
        "            The (GCS) uri prefix.\n",
        "        dir_path : str\n",
        "            Directory path, can use regex.\n",
        "        file_pattern : str\n",
        "            File pattern for glob searching.\n",
        "        gsutil : bool\n",
        "            Use gsutil, default is True.\n",
        "        return_dir_path : bool\n",
        "            Return directory path relative to uri_prefix, default is True.        \n",
        "    \n",
        "        Returns\n",
        "        -------\n",
        "        List of path strings.\n",
        "        \n",
        "        Examples\n",
        "        --------\n",
        "        # Requires authentication\n",
        "        #list_paths(\"gs://skydipper-water-quality\", \"cloud-masks/*\", \"*.tif\", True, False)\n",
        "        '''\n",
        "        p = f\"{uri_prefix}/{dir_path}/{file_pattern}\"\n",
        "        print(f\"\\nSearching {p}\\n\")\n",
        "        if not gsutil:\n",
        "          out = glob.glob(p)\n",
        "        if gsutil:\n",
        "          cmd = f\"gsutil ls {p}\"\n",
        "          out = subprocess.check_output(cmd, shell=True).decode('utf8').split('\\n')\n",
        "          out.pop(-1)\n",
        "        if return_dir_path:\n",
        "          out = [f.split(uri_prefix)[1] for f in out]  \n",
        "        print(f\"\\nFound {len(out)} path(s)\\n\")\n",
        "        return out\n",
        "\n",
        "#list_paths(\"gs://mangrove_atlas\", \"land-cover/gmw1996v2.0\", file_pattern=\"*.tif\", gsutil=True, return_dir_path=False)"
      ],
      "execution_count": 15,
      "outputs": []
    },
    {
      "cell_type": "markdown",
      "metadata": {
        "id": "YEDFlsEKSDgD",
        "colab_type": "text"
      },
      "source": [
        "## gee_update_asset_properties"
      ]
    },
    {
      "cell_type": "code",
      "metadata": {
        "id": "OOeu7KSVSCp2",
        "colab_type": "code",
        "colab": {}
      },
      "source": [
        "import subprocess\n",
        "import json\n",
        "\n",
        "def gee_update_asset_properties(asset_path, properties = {}, time_start=None, time_end=None, dry_run=False):\n",
        "  \n",
        "  # Format arguments\n",
        "  ts = \"\"\n",
        "  if time_start:\n",
        "    ts = f\"--time_start={time_start}\"\n",
        "  te = \"\"\n",
        "  if time_end:\n",
        "    te = f\"--time_end={time_end}\"  \n",
        "  p = \"\"\n",
        "  if len(properties) > 0:\n",
        "    p = [f\"--property={key}={json.dumps(value)}\" for key, value in properties.items()]\n",
        "    p = \" \".join(p) \n",
        "  args = f\"{ts} {te} {p}\"\n",
        "\n",
        "  # Update asset\n",
        "  cmd = f\"earthengine --no-use_cloud_api asset set {args} {asset_path}\"\n",
        "  if dry_run:\n",
        "    print(cmd)\n",
        "  else:\n",
        "    r = subprocess.call(cmd, shell=True)\n",
        "    if r == 0:\n",
        "      print(f\"\\nUpdated properties for asset: {asset_path}\\n\")\n",
        "      cmd = f\"earthengine --no-use_cloud_api asset info {asset_path}\"\n",
        "      out = subprocess.check_output(cmd, shell=True).decode('utf8')\n",
        "      print(out)\n",
        "    else:\n",
        "      print(\"Task failed\")\n",
        "      print(cmd)\n"
      ],
      "execution_count": 16,
      "outputs": []
    },
    {
      "cell_type": "markdown",
      "metadata": {
        "id": "cJy8eoVU94FG",
        "colab_type": "text"
      },
      "source": [
        "## gee_create_image_collection"
      ]
    },
    {
      "cell_type": "code",
      "metadata": {
        "id": "diwoim8i9116",
        "colab_type": "code",
        "colab": {}
      },
      "source": [
        "\n",
        "def gee_create_image_collection(ee_asset_path, image_start_times, collection_properties = {}, dry_run=False):\n",
        "\n",
        "  # Check if collection exists, potentially filter file array or create collection\n",
        "  print(\"\\nChecking if collection exists...\")\n",
        "  cmd = f\"earthengine --no-use_cloud_api asset info {ee_asset_path}\"\n",
        "\n",
        "  try:\n",
        "    out = subprocess.check_output(cmd, shell=True).decode('utf8')\n",
        "    print(f\"\\nee.ImageCollection {ee_asset_path} exists, with properties\\n:\")\n",
        "    print(out)\n",
        "  except subprocess.CalledProcessError as ex: \n",
        "    print (\"\\nImageCollection not found\\n\")\n",
        "    print (ex.output)\n",
        "    # Create collection\n",
        "    cmd = f\"earthengine --no-use_cloud_api create collection {ee_asset_path}\"\n",
        "    print(\"\\nCreating ee.ImageCollection\\n\")\n",
        "    if dry_run:\n",
        "      print(cmd)\n",
        "    else:\n",
        "      r = subprocess.call(cmd, shell=True)\n",
        "      if r == 0:\n",
        "        print(f\"\\nee.ImageCollection {ee_asset_path} created\\n\")\n",
        "      else:\n",
        "        print(\"\\nTask failed\")\n",
        "        print(cmd)\n",
        "        print(\"\\n\")\n",
        "    \n",
        "  # Update the collection properties\n",
        "  print(\"\\nUpdating ImageCollection properties...\")\n",
        "  ts = [iso8601.parse_date(t) for t in image_start_times]\n",
        "  collection_time_start = min(ts).strftime(\"%Y-%m-%d\")\n",
        "  collection_time_end = max(ts).strftime(\"%Y-%m-%d\")  \n",
        "  gee_update_asset_properties(\n",
        "      ee_asset_path,\n",
        "      properties = collection_properties,\n",
        "      time_start = collection_time_start,\n",
        "      time_end = collection_time_end,\n",
        "      dry_run = dry_run\n",
        "      )\n",
        "  "
      ],
      "execution_count": 49,
      "outputs": []
    },
    {
      "cell_type": "markdown",
      "metadata": {
        "id": "P6DElU4gJz49",
        "colab_type": "text"
      },
      "source": [
        "## gee_upload_images_to_collection"
      ]
    },
    {
      "cell_type": "code",
      "metadata": {
        "id": "fBrTBdNdLirl",
        "colab_type": "code",
        "colab": {}
      },
      "source": [
        "import glob\n",
        "import iso8601\n",
        "import datetime    \n",
        "from urllib.parse import urlparse\n",
        "from tqdm.notebook import trange, tqdm\n",
        "\n",
        "\n",
        "def gee_upload_images_to_collection(uri_prefix,\n",
        "                                    dir_path,\n",
        "                                    file_pattern,\n",
        "                                    ee_asset_path,\n",
        "                                    image_start_times=[\"2000-01-01\"],\n",
        "                                    band_names=[\"b1\"],\n",
        "                                    band_pyramiding_policys=[\"mean\"],\n",
        "                                    band_nodata_values=[None],\n",
        "                                    collection_properties={},\n",
        "                                    image_properties=[{}],\n",
        "                                    gcs_tmp_path = None,\n",
        "                                    force=False,\n",
        "                                    dry_run=False\n",
        "                                    ):\n",
        "    '''Upload images to ee.ImageCollection\n",
        "       \n",
        "       \n",
        "    Args:\n",
        "        uri_prefix (str): Local or remote uri path prefix, e.g., \"./my-directory\" or \"gs://my-bucket\"\n",
        "        dir_path (str): Directory path, e.g., \"my-dataset\"\n",
        "        file_pattern (str): Regex file pattern passed to glob to match files in {uri_prefix}/{dir_path} \n",
        "        ee_asset_path (str): The ee.imageCollection path, e.g., \"projects/project-name/image-collection-name\" or \"users/user-name/image-collection-name\"\n",
        "        collection_properties (dict) : A flat dictionary of key value pairs to be added to the ee.ImageCollection\n",
        "        image_start_times (str, list): The time_start to apply to each image, this can be a single value (applied to all images) or a list of length n images\n",
        "        image_properties (list of dict): List of dictionaries with flat key value pairs to be added to each image \n",
        "        band_names (list, list of lists): The band names to apply to each band of each image, this can be a single value (applied to all bands of all images) or a list of lists\n",
        "        band_pyramiding_policys (list, list of lists): The pyramiding policy to apply to each band of each image, this can be a single value (applied to all bands of all images) or a list of lists\n",
        "        band_nodata_values (list, list of lists): The band names to apply to each band of each image, this can be a single value (applied to all bands of all images) or a list of lists\n",
        "        gcs_tmp_path (str): If a GCS path is provided, local images are transfered to the this path, before being added to ee.imageCollection, default is None\n",
        "        force (bool): If true the files are overwritten in the ee.imageCollection,\n",
        "        dry_run (bool): Print all the commands but do not run the process\n",
        "\n",
        "    Returns:\n",
        "    None: side effect of creating an ee.imageCollection with the images found in {uri_prefix}/{dir_path}/{file_pattern} \n",
        "\n",
        "    '''\n",
        "    \n",
        "    # Get file path array\n",
        "    print(\"\\nGetting file paths...\")\n",
        "    parsed = urlparse(uri_prefix)\n",
        "    if parsed.scheme.startswith('gs'):\n",
        "        #print(\"Searching GCS\")\n",
        "        file_array = list_paths(uri_prefix, dir_path, file_pattern=file_pattern, gsutil=True, return_dir_path=False)\n",
        "    else:\n",
        "        file_array = list_paths(uri_prefix, dir_path, file_pattern=file_pattern, gsutil=False, return_dir_path=False)\n",
        "    print(\"\\n\")\n",
        "    \n",
        "    # Check length of parameters\n",
        "    if len(band_pyramiding_policys) == 1:\n",
        "      band_pyramiding_policys = band_pyramiding_policys * len(file_array)\n",
        "    if len(image_start_times) == 1:\n",
        "      image_start_times = image_start_times * len(file_array)\n",
        "    if len(image_properties) == 1:\n",
        "      image_properties = image_properties * len(file_array)\n",
        "    if len(band_names) == 1:\n",
        "      band_names = band_names * len(file_array)\n",
        "    if len(band_nodata_values) == 1:\n",
        "      band_nodata_values = band_nodata_values * len(file_array)        \n",
        "\n",
        "    # Check if collection exists, potentially filter file array or create collection\n",
        "    print(\"\\nChecking if collection exists...\")\n",
        "    cmd = f\"earthengine --no-use_cloud_api asset info {ee_asset_path}\"\n",
        "\n",
        "    try:\n",
        "      out = subprocess.check_output(cmd, shell=True).decode('utf8')\n",
        "      print(f\"\\nee.ImageCollection {ee_asset_path} exists, with properties\\n:\")\n",
        "      print(out)\n",
        "      if force != True:\n",
        "          # Check which files are already in collection\n",
        "          cmd = f\"gsutil ls {ee_asset_path}\"\n",
        "          files_ic = subprocess.check_output(cmd, shell=True).decode('utf8').split('\\n')\n",
        "          files_ic.pop(-1)\n",
        "          if dry_run:\n",
        "            print(f\"\\nImages in collection:{files_ic}\\n\")\n",
        "          # Filter file_array\n",
        "          file_array = [a for a in file_array if a not in files_ic]\n",
        "\n",
        "    except subprocess.CalledProcessError as ex: \n",
        "      print (\"\\nImageCollection not found\\n\")\n",
        "      print (ex.output)\n",
        "      # Create collection\n",
        "      cmd = f\"earthengine --no-use_cloud_api create collection {ee_asset_path}\"\n",
        "      print(\"\\nCreating ee.ImageCollection\\n\")\n",
        "      if dry_run:\n",
        "          print(cmd)\n",
        "      else:\n",
        "          r = subprocess.call(cmd, shell=True)\n",
        "          if r == 0:\n",
        "            print(f\"\\nee.ImageCollection {ee_asset_path} created\\n\")\n",
        "          else:\n",
        "            print(\"\\nTask failed\")\n",
        "            print(cmd)\n",
        "            print(\"\\n\")\n",
        "    \n",
        "    # Update the collection properties\n",
        "    print(\"\\nUpdating ImageCollection properties...\")\n",
        "    ts = [iso8601.parse_date(t) for t in image_start_times]\n",
        "    collection_time_start = min(ts).strftime(\"%Y-%m-%d\")\n",
        "    collection_time_end = max(ts).strftime(\"%Y-%m-%d\")  \n",
        "    gee_update_asset_properties(ee_asset_path,\n",
        "                                properties = collection_properties,\n",
        "                                time_start=collection_time_start,\n",
        "                                time_end=collection_time_end,\n",
        "                                dry_run=dry_run)\n",
        "      \n",
        "    # Create upload task for each file\n",
        "    with tqdm(total=len(file_array), desc=\"Creating upload tasks\") as pbar:\n",
        "      for file, pyramiding_policy, time_start, nodata_value, bands, properties \\\n",
        "      in zip(file_array,\n",
        "              band_pyramiding_policys,\n",
        "              image_start_times,\n",
        "              band_nodata_values,\n",
        "              band_names,\n",
        "              image_properties):\n",
        "        \n",
        "        # Format arguments\n",
        "        f = \"\"\n",
        "        if force:\n",
        "          f = \"--force\"\n",
        "        pp = f\"--pyramiding_policy={pyramiding_policy}\" \n",
        "        ts = f\"--time_start={time_start}\"\n",
        "        n = f\"--nodata_value={nodata_value}\"\n",
        "        b =  f\"--bands={bands}\"\n",
        "        p = \"\"\n",
        "        if len(properties) > 0:\n",
        "          p = [f\"--property={key}={value}\" for key, value in properties.items()]\n",
        "          p = \" \".join(p) \n",
        "        args = f\"{f} {pp} {ts} {n} {b} {p}\"\n",
        "\n",
        "        # Get asset item id\n",
        "        asset_id = os.path.splitext(os.path.basename(file))[0]\n",
        "        # sanitise asset_id\n",
        "        asset_id = asset_id.replace('.', '_')\n",
        "        if dry_run:\n",
        "          print(f\"Processing {asset_id}\")\n",
        "\n",
        "        if gcs_tmp_path != None:\n",
        "          # Upload to GCS tmp path\n",
        "          cmd = f\"gsutil -m cp -r {file} {gcs_tmp_path}\" \n",
        "          if dry_run:\n",
        "            print(cmd)\n",
        "          else:\n",
        "            r = subprocess.call(cmd, shell=True)\n",
        "            gcs_file = f\"{gcs_tmp_path}/{os.path.basename(file)}\"\n",
        "        else:\n",
        "          # Use original file path\n",
        "          gcs_file = file\n",
        "          \n",
        "        # Upload to earthengine \n",
        "        cmd = f\"earthengine --no-use_cloud_api upload image --asset_id={ee_asset_path}/{asset_id} {args} {gcs_file}\"\n",
        "        if dry_run:\n",
        "          print(cmd)\n",
        "        else:\n",
        "          r = subprocess.call(cmd, shell=True)\n",
        "          if r == 0:\n",
        "            pbar.update(1)\n",
        "          else:\n",
        "            print(\"\\nTask failed with cmd:\\n\")\n",
        "            print(cmd)\n",
        "    \n",
        "    print(f\"\\nFinished upload to {ee_asset_path}\")"
      ],
      "execution_count": 17,
      "outputs": []
    },
    {
      "cell_type": "markdown",
      "metadata": {
        "id": "znTxKmqeuQz3",
        "colab_type": "text"
      },
      "source": [
        "## add_ee_layer"
      ]
    },
    {
      "cell_type": "code",
      "metadata": {
        "id": "yX6S5wQ7twBt",
        "colab_type": "code",
        "colab": {}
      },
      "source": [
        "# Import libraries.\n",
        "import ee\n",
        "import folium\n",
        "\n",
        "# Define a method for displaying Earth Engine image tiles to folium map.\n",
        "def add_ee_layer(self, ee_image_object, vis_params, name):\n",
        "  map_id_dict = ee.Image(ee_image_object).getMapId(vis_params)\n",
        "  folium.raster_layers.TileLayer(\n",
        "    tiles = map_id_dict['tile_fetcher'].url_format,\n",
        "    attr = \"Map Data © Google Earth Engine\",\n",
        "    name = name,\n",
        "    overlay = True,\n",
        "    control = True\n",
        "  ).add_to(self)\n",
        "\n",
        "# Add EE drawing method to folium.\n",
        "folium.Map.add_ee_layer = add_ee_layer"
      ],
      "execution_count": 19,
      "outputs": []
    },
    {
      "cell_type": "markdown",
      "metadata": {
        "id": "GBPS3DALtie0",
        "colab_type": "text"
      },
      "source": [
        "# Processing\n",
        "\n",
        "Data processing organised into sections."
      ]
    },
    {
      "cell_type": "code",
      "metadata": {
        "id": "64ruUXcz0vPn",
        "colab_type": "code",
        "colab": {}
      },
      "source": [
        "# Set working directories\n",
        "ds_dir = \"./dataset\""
      ],
      "execution_count": null,
      "outputs": []
    },
    {
      "cell_type": "code",
      "metadata": {
        "id": "sma74p12ZnKW",
        "colab_type": "code",
        "colab": {
          "base_uri": "https://localhost:8080/",
          "height": 34
        },
        "outputId": "50688316-5be6-446f-b732-e47e77213c47"
      },
      "source": [
        "# Make directory structure\n",
        "mkdirs([ds_dir], exist_ok=True)\n",
        "!ls"
      ],
      "execution_count": null,
      "outputs": [
        {
          "output_type": "stream",
          "text": [
            "dataset\n"
          ],
          "name": "stdout"
        }
      ]
    },
    {
      "cell_type": "markdown",
      "metadata": {
        "id": "rPt-N9itTLE_",
        "colab_type": "text"
      },
      "source": [
        "## Get data package\n",
        "\n",
        "+ data delivered to GCS bucket, as many small images\n",
        "+ combine into single GeoTIFF\n",
        "+ upload to GCS"
      ]
    },
    {
      "cell_type": "code",
      "metadata": {
        "id": "ICB7BWDD6uji",
        "colab_type": "code",
        "colab": {
          "base_uri": "https://localhost:8080/",
          "height": 34
        },
        "outputId": "7fd28c03-8dfb-4774-a0d5-1f8e4fd78add"
      },
      "source": [
        "!gdalinfo --version"
      ],
      "execution_count": null,
      "outputs": [
        {
          "output_type": "stream",
          "text": [
            "GDAL 2.2.3, released 2017/11/20\n"
          ],
          "name": "stdout"
        }
      ]
    },
    {
      "cell_type": "markdown",
      "metadata": {
        "id": "MCL7l6_3VY5a",
        "colab_type": "text"
      },
      "source": [
        "### Convert to single tiles"
      ]
    },
    {
      "cell_type": "code",
      "metadata": {
        "id": "RSLOM3o2hRvr",
        "colab_type": "code",
        "colab": {
          "base_uri": "https://localhost:8080/",
          "height": 1000
        },
        "outputId": "44412a65-6179-48be-db67-9a4bfc03fada"
      },
      "source": [
        "%%time\n",
        "for y in [1996, 2007, 2008, 2009, 2010, 2015, 2016]:\n",
        "  print(\"\\nCopying files to VM\\n\")\n",
        "  copy_gcs([f\"{gcs_prefix}/land-cover/gmw{y}v2.0\"], [ds_dir])\n",
        "  print(\"\\nBuilding VRT\\n\")\n",
        "  !gdalbuildvrt gmw{y}v2_0.vrt {ds_dir}/gmw{y}v2.0/*.tif\n",
        "  print(\"\\nBuilding GeoTIFF\\n\")\n",
        "  !gdal_translate -co \"BLOCKXSIZE=512\" -co \"BLOCKYSIZE=512\" -co \"TILED=YES\" -co \"BIGTIFF=YES\" -co \"COMPRESS=DEFLATE\" gmw{y}v2_0.vrt gmw{y}v2_0.tif\n",
        "  print(\"\\nCopying files to GCS\\n\")\n",
        "  copy_gcs([f\"./gmw{y}v2_0.tif\"], [f\"{gcs_prefix}/land-cover\"])"
      ],
      "execution_count": null,
      "outputs": [
        {
          "output_type": "stream",
          "text": [
            "\n",
            "Copying files to VM\n",
            "\n",
            "Processing: gsutil -m cp -r  gs://mangrove_atlas/land-cover/gmw1996v2.0 ./dataset\n",
            "Task created\n",
            "Finished copy\n",
            "\n",
            "Building VRT\n",
            "\n",
            "0...10...20...30...40...50...60...70...80...90...100 - done.\n",
            "\n",
            "Building GeoTIFF\n",
            "\n",
            "Input file size is 1620001, 328501\n",
            "0...10...20...30...40...50...60...70...80...90...100 - done.\n",
            "\n",
            "Copying files to GCS\n",
            "\n",
            "Processing: gsutil -m cp -r  gmw1996v2_0.tif gs://mangrove_atlas/land-cover\n",
            "Task failed\n",
            "Finished copy\n",
            "\n",
            "Copying files to VM\n",
            "\n",
            "Processing: gsutil -m cp -r  gs://mangrove_atlas/land-cover/gmw2007v2.0 ./dataset\n",
            "Task created\n",
            "Finished copy\n",
            "\n",
            "Building VRT\n",
            "\n",
            "0...10...20...30...40...50...60...70...80...90...100 - done.\n",
            "\n",
            "Building GeoTIFF\n",
            "\n",
            "Input file size is 1620001, 328501\n",
            "0...10...20...30...40...50...60...70...80...90...100 - done.\n",
            "\n",
            "Copying files to GCS\n",
            "\n",
            "Processing: gsutil -m cp -r  gmw2007v2_0.tif gs://mangrove_atlas/land-cover\n",
            "Task failed\n",
            "Finished copy\n",
            "\n",
            "Copying files to VM\n",
            "\n",
            "Processing: gsutil -m cp -r  gs://mangrove_atlas/land-cover/gmw2008v2.0 ./dataset\n",
            "Task created\n",
            "Finished copy\n",
            "\n",
            "Building VRT\n",
            "\n",
            "0...10...20...30...40...50...60...70...80...90...100 - done.\n",
            "\n",
            "Building GeoTIFF\n",
            "\n",
            "Input file size is 1620001, 328501\n",
            "0...10...20...30...40...50...60...70...80...90...100 - done.\n",
            "\n",
            "Copying files to GCS\n",
            "\n",
            "Processing: gsutil -m cp -r  gmw2008v2_0.tif gs://mangrove_atlas/land-cover\n",
            "Task failed\n",
            "Finished copy\n",
            "\n",
            "Copying files to VM\n",
            "\n",
            "Processing: gsutil -m cp -r  gs://mangrove_atlas/land-cover/gmw2009v2.0 ./dataset\n",
            "Task created\n",
            "Finished copy\n",
            "\n",
            "Building VRT\n",
            "\n",
            "0...10...20...30...40...50...60...70...80...90...100 - done.\n",
            "\n",
            "Building GeoTIFF\n",
            "\n",
            "Input file size is 1620001, 328501\n",
            "0...10...20...30...40...50...60...70...80...90...100 - done.\n",
            "\n",
            "Copying files to GCS\n",
            "\n",
            "Processing: gsutil -m cp -r  gmw2009v2_0.tif gs://mangrove_atlas/land-cover\n",
            "Task failed\n",
            "Finished copy\n",
            "\n",
            "Copying files to VM\n",
            "\n",
            "Processing: gsutil -m cp -r  gs://mangrove_atlas/land-cover/gmw2010v2.0 ./dataset\n",
            "Task created\n",
            "Finished copy\n",
            "\n",
            "Building VRT\n",
            "\n",
            "0...10...20...30...40...50...60...70...80...90...100 - done.\n",
            "\n",
            "Building GeoTIFF\n",
            "\n",
            "Input file size is 1620001, 328501\n",
            "0...10...20...30...40...50...60...70...80...90...100 - done.\n",
            "\n",
            "Copying files to GCS\n",
            "\n",
            "Processing: gsutil -m cp -r  gmw2010v2_0.tif gs://mangrove_atlas/land-cover\n",
            "Task failed\n",
            "Finished copy\n",
            "\n",
            "Copying files to VM\n",
            "\n",
            "Processing: gsutil -m cp -r  gs://mangrove_atlas/land-cover/gmw2015v2.0 ./dataset\n",
            "Task created\n",
            "Finished copy\n",
            "\n",
            "Building VRT\n",
            "\n",
            "0...10...20...30...40...50...60...70...80...90...100 - done.\n",
            "\n",
            "Building GeoTIFF\n",
            "\n",
            "Input file size is 1620001, 328501\n",
            "0...10...20...30...40...50...60...70...80...90...100 - done.\n",
            "\n",
            "Copying files to GCS\n",
            "\n",
            "Processing: gsutil -m cp -r  gmw2015v2_0.tif gs://mangrove_atlas/land-cover\n",
            "Task failed\n",
            "Finished copy\n",
            "\n",
            "Copying files to VM\n",
            "\n",
            "Processing: gsutil -m cp -r  gs://mangrove_atlas/land-cover/gmw2016v2.0 ./dataset\n",
            "Task created\n",
            "Finished copy\n",
            "\n",
            "Building VRT\n",
            "\n",
            "0...10...20...30...40...50...60...70...80...90...100 - done.\n",
            "\n",
            "Building GeoTIFF\n",
            "\n",
            "Input file size is 1620001, 328501\n",
            "0...10...20...30...40...50...60...70...80...90...100 - done.\n",
            "\n",
            "Copying files to GCS\n",
            "\n",
            "Processing: gsutil -m cp -r  gmw2016v2_0.tif gs://mangrove_atlas/land-cover\n",
            "Task failed\n",
            "Finished copy\n",
            "CPU times: user 47.7 s, sys: 6.81 s, total: 54.5 s\n",
            "Wall time: 6h 8min 27s\n"
          ],
          "name": "stdout"
        }
      ]
    },
    {
      "cell_type": "code",
      "metadata": {
        "id": "kyxRsv5DQJvj",
        "colab_type": "code",
        "colab": {
          "base_uri": "https://localhost:8080/",
          "height": 68
        },
        "outputId": "f662243e-ca3f-4f1c-f127-8834c6880e70"
      },
      "source": [
        "copy_gcs([\"./*.tif\"], [f\"{gcs_prefix}/land-cover\"])"
      ],
      "execution_count": null,
      "outputs": [
        {
          "output_type": "stream",
          "text": [
            "Processing: gsutil -m cp -r  ./*.tif gs://mangrove_atlas/land-cover\n",
            "Task created\n",
            "Finished copy\n"
          ],
          "name": "stdout"
        }
      ]
    },
    {
      "cell_type": "markdown",
      "metadata": {
        "id": "zYzl5SiQe9ju",
        "colab_type": "text"
      },
      "source": [
        "## Upload to earthengine\n",
        "\n",
        "The dataset is multiple single images (on GCS), each with different timestamp.\n",
        "\n",
        "+ Upload each image to imageCollection\n",
        "+ Export as single image\n",
        "+ Update image metadata\n",
        "+ Delete tmp files and imageCollection"
      ]
    },
    {
      "cell_type": "code",
      "metadata": {
        "id": "LlGxu2OwRJlp",
        "colab_type": "code",
        "colab": {
          "base_uri": "https://localhost:8080/",
          "height": 263
        },
        "outputId": "1b6c6cb9-3d14-49d9-c3ae-ac9bdccc713e"
      },
      "source": [
        "# Authenticate earthengine\n",
        "!earthengine authenticate"
      ],
      "execution_count": null,
      "outputs": [
        {
          "output_type": "stream",
          "text": [
            "WARNING:tensorflow:From /usr/local/lib/python3.6/dist-packages/tensorflow/python/compat/v2_compat.py:96: disable_resource_variables (from tensorflow.python.ops.variable_scope) is deprecated and will be removed in a future version.\n",
            "Instructions for updating:\n",
            "non-resource variables are not supported in the long term\n",
            "Running command using Cloud API.  Set --no-use_cloud_api to go back to using the API\n",
            "\n",
            "To authorize access needed by Earth Engine, open the following URL in a web browser and follow the instructions. If the web browser does not start automatically, please manually browse the URL below.\n",
            "\n",
            "    https://accounts.google.com/o/oauth2/auth?client_id=517222506229-vsmmajv00ul0bs7p89v5m89qs8eb9359.apps.googleusercontent.com&scope=https%3A%2F%2Fwww.googleapis.com%2Fauth%2Fearthengine+https%3A%2F%2Fwww.googleapis.com%2Fauth%2Fdevstorage.full_control&redirect_uri=urn%3Aietf%3Awg%3Aoauth%3A2.0%3Aoob&response_type=code&code_challenge=SYiQv7dtMUJQQ429gVxHQM1xxEDEd72tZ9eL0NmX81c&code_challenge_method=S256\n",
            "\n",
            "The authorization workflow will generate a code, which you should paste in the box below. \n",
            "Enter verification code: 4/0wE2GwOLFvqynOnem34TO4-vlKysb0ql27K9txeVByYsTyhio6K38Mw\n",
            "\n",
            "Successfully saved authorization token.\n"
          ],
          "name": "stdout"
        }
      ]
    },
    {
      "cell_type": "code",
      "metadata": {
        "id": "MtQjyFFbP6Cu",
        "colab_type": "code",
        "colab": {}
      },
      "source": [
        "#!earthengine upload image -h"
      ],
      "execution_count": null,
      "outputs": []
    },
    {
      "cell_type": "code",
      "metadata": {
        "id": "RGUO2ISYdw73",
        "colab_type": "code",
        "colab": {
          "base_uri": "https://localhost:8080/",
          "height": 176
        },
        "outputId": "7548b369-d0ce-47cf-c0b4-4c471b1d8583"
      },
      "source": [
        "import ee\n",
        "\n",
        "# Trigger the authentication flow.\n",
        "ee.Authenticate()\n",
        "\n",
        "# Initialize the library.\n",
        "ee.Initialize()"
      ],
      "execution_count": null,
      "outputs": [
        {
          "output_type": "stream",
          "text": [
            "To authorize access needed by Earth Engine, open the following URL in a web browser and follow the instructions. If the web browser does not start automatically, please manually browse the URL below.\n",
            "\n",
            "    https://accounts.google.com/o/oauth2/auth?client_id=517222506229-vsmmajv00ul0bs7p89v5m89qs8eb9359.apps.googleusercontent.com&scope=https%3A%2F%2Fwww.googleapis.com%2Fauth%2Fearthengine+https%3A%2F%2Fwww.googleapis.com%2Fauth%2Fdevstorage.full_control&redirect_uri=urn%3Aietf%3Awg%3Aoauth%3A2.0%3Aoob&response_type=code&code_challenge=KXtTKUpHVxk5pdCsDOGKbSbV0u3DBIPyRaGPP6VgEHc&code_challenge_method=S256\n",
            "\n",
            "The authorization workflow will generate a code, which you should paste in the box below. \n",
            "Enter verification code: 4/0wExYGXXeB8VJDOfffcN6XEGnT5aK95riCFyqNHlzdHxH98pq8Y1qoo\n",
            "\n",
            "Successfully saved authorization token.\n"
          ],
          "name": "stdout"
        }
      ]
    },
    {
      "cell_type": "markdown",
      "metadata": {
        "id": "WbQVLih8r7oQ",
        "colab_type": "text"
      },
      "source": [
        "### Add to imageCollection"
      ]
    },
    {
      "cell_type": "code",
      "metadata": {
        "id": "_xXHw253YS1L",
        "colab_type": "code",
        "colab": {
          "base_uri": "https://localhost:8080/",
          "height": 89
        },
        "outputId": "e4140341-391b-489f-e53b-87db758d2e0f"
      },
      "source": [
        "# Define parameters\n",
        "\n",
        "# asset path\n",
        "ee_asset_path = f\"projects/global-mangrove-watch/land-cover/mangrove-extent_version-2-0_1996--2016\"\n",
        "\n",
        "# get description from file\n",
        "copy_gcs([\"gs://mangrove_atlas/land-cover/mangrove-extent_version-2-0_1996--2016_description.md\"], [\".\"])\n",
        "with open(\"mangrove-extent_version-2-0_1996--2016_description.md\", \"r\") as f:\n",
        "  description = f.read()\n",
        "\n",
        "# set collection properties (these are compatible with Skydipper.Dataset.Metadata)\n",
        "collection_properties = {\n",
        "    'name': \"Global extent of mangrove forests\",\n",
        "    'version': \"2.0\",\n",
        "    'creator': \"Global Mangrove Watch (GMW): Aberystwyth University/soloEO/Wetlands International/UNEP-WCMC/JAXA/DOB Ecology\",\n",
        "    'description': description,\n",
        "    'identifier': \"\",\n",
        "    'keywords': \"Erosion; Coasts; Natural Infrastructure; Biodiversity; Blue Carbon; Forests; Mangroves; Landcover\",\n",
        "    'citation': \"Bunting, Pete, Ake Rosenqvist, Richard M. Lucas, Lisa-Maria Rebelo, Lammert Hilarides, Nathan Thomas, Andy Hardy, Takuya Itoh, Masanobu Shimada, and C. Max Finlayson. “The Global Mangrove Watch—A New 2010 Global Baseline of Mangrove Extent.” Remote Sensing 10, no. 10 (October 2018): 1669. doi: 10.3390/rs10101669.\",\n",
        "    'license': \"https://creativecommons.org/licenses/by/4.0/\",\n",
        "    'url': \"\",\n",
        "    'language': 'en', \n",
        "    'altName': \"Global Mangrove Watch, Version 2.0\",\n",
        "    'distribution': \"\",\n",
        "    'variableMeasured': \"Presence of mangrove forest habitat\",\n",
        "    'units': \"1\",\n",
        "    'spatialCoverage': \"Global tropics\",\n",
        "    'temporalCoverage': \"1996--2016\",\n",
        "    'dataLineage': \"Raster data supplied by Aberystwyth University (Dr. Dave Bunting) as tilesets per year, each tilset was combined, and added to Google earth engine as multi-temporal ImageCollection.\"\n",
        "}\n",
        "\n",
        "# set individual image properties (minimal)\n",
        "image_properties = {\n",
        "    \"band_nodata_values\": 0,\n",
        "    \"band_pyramiding_policies\": \"mode\",\n",
        "    \"band_names\": \"lc\"\n",
        "}"
      ],
      "execution_count": null,
      "outputs": [
        {
          "output_type": "stream",
          "text": [
            "Processing: gsutil -m cp -r  gs://mangrove_atlas/land-cover/mangrove-extent_version-2-0_1996--2016_description.md .\n",
            "Task created\n",
            "Finished copy\n"
          ],
          "name": "stdout"
        }
      ]
    },
    {
      "cell_type": "code",
      "metadata": {
        "id": "0EyTx6fYNj7K",
        "colab_type": "code",
        "colab": {
          "base_uri": "https://localhost:8080/",
          "height": 1000,
          "referenced_widgets": [
            "2943888dd55140f385843408ac30ac4f",
            "e26b8ffdc96940fbb490310727871570",
            "bc1b92d8be8f4b9aaf7ae3746aa001cd",
            "196ac87acc4c46c5a2f8807edfc9d83c",
            "1153caf95ece4ae292c13d68963e4939",
            "0a6ac038f23f45ba9af9892952fcb69f",
            "25a98c5e038c4074b66632d851da0978",
            "1583e1d804b645e5ace594ba376f6cc3"
          ]
        },
        "outputId": "dc6bd321-f837-43f4-cc14-34747b3a07dd"
      },
      "source": [
        "# Create ee.ImageCollection, add collecion_properties, and create upload tasks\n",
        "# You can use dry_run = True to check cmds before running process!\n",
        "gee_upload_images_to_collection(\n",
        "    uri_prefix = gcs_prefix,\n",
        "    dir_path = \"land-cover\",\n",
        "    file_pattern=\"*.tif\",\n",
        "    ee_asset_path = ee_asset_path,\n",
        "    image_start_times = [f\"{y}-01-01\" for y in [1996, 2007, 2008, 2009, 2010, 2015, 2016]],\n",
        "    band_names = [\"lc\"],\n",
        "    band_pyramiding_policys = [\"mode\"],\n",
        "    band_nodata_values = [0],\n",
        "    collection_properties = collection_properties,\n",
        "    image_properties=[image_properties],\n",
        "    gcs_tmp_path = None,\n",
        "    force=True,\n",
        "    dry_run=False\n",
        "    )\n",
        "  "
      ],
      "execution_count": null,
      "outputs": [
        {
          "output_type": "stream",
          "text": [
            "Processing: gsutil -m cp -r  gs://mangrove_atlas/land-cover/mangrove-extent_version-2-0_1996--2016_description.md .\n",
            "Task created\n",
            "Finished copy\n",
            "\n",
            "Getting file paths...\n",
            "\n",
            "Searching gs://mangrove_atlas/land-cover/*.tif\n",
            "\n",
            "\n",
            "Found 7 path(s)\n",
            "\n",
            "\n",
            "\n",
            "\n",
            "Checking if collection exists...\n",
            "\n",
            "ee.ImageCollection projects/global-mangrove-watch/land-cover/mangrove-extent_version-2-0_1996--2016 exists, with properties\n",
            ":\n",
            "{\n",
            "  \"bands\": [],\n",
            "  \"id\": \"projects/global-mangrove-watch/land-cover/mangrove-extent_version-2-0_1996--2016\",\n",
            "  \"properties\": {\n",
            "    \"altName\": \"Global Mangrove Watch, Version 2.0\",\n",
            "    \"citation\": \"Bunting, Pete, Ake Rosenqvist, Richard M. Lucas, Lisa-Maria Rebelo, Lammert Hilarides, Nathan Thomas, Andy Hardy, Takuya Itoh, Masanobu Shimada, and C. Max Finlayson. \\\\u201cThe Global Mangrove Watch\\\\u2014A New 2010 Global Baseline of Mangrove Extent.\\\\u201d Remote Sensing 10, no. 10 (October 2018): 1669. doi: 10.3390/rs10101669.\",\n",
            "    \"creator\": \"Global Mangrove Watch (GMW): Aberystwyth University/soloEO/Wetlands International/UNEP-WCMC/JAXA/DOB Ecology\",\n",
            "    \"dataLineage\": \"Raster data supplied by Aberystwyth University (Dr. Dave Bunting) as tilesets per year, each tilset was combined, and added to Google earth engine as multi-temporal ImageCollection.\",\n",
            "    \"description\": \"# Global extent of mangrove forests\\\\n\\\\nThis dataset shows the global extent of mangroves for 1996, 2007, 2008, 2009, 2010, 2015 and 2016. This is the first global map of mangrove extent produced using an automated, reproducible, and globally consistent methodology, using a combination of optical and radar satellite data.\\\\n\\\\nMangroves are forested intertidal ecosystems that perform critical landscape-level functions related to the regulation of freshwater, nutrients, and sediment inputs into marine areas. They play a key role in helping to control the quality of marine coastal waters. Mangroves are of critical importance as breeding and nursery sites for birds, fish, and crustaceans. Additionally, they constitute important sinks for carbon storage. Once abundant along the world\\\\u2019s tropical and subtropical coastlines, mangroves are in global decline. Significant drivers of change include removal for aquaculture, agriculture, energy exploitation and other industrial development, with an unknown proportion of the remaining mangroves fragmented and degraded. Mangroves are also sensitive to climate change effects such as sea level rise, temperature extremes, and changes in hydrology.\\\\n\\\\nThe dataset has been generated by the Global Mangrove Watch (GMW) \\\\u2013 a collaboration between Aberystwyth University (U.K.), solo Earth Observation (soloEO), Wetlands International, the World Conservation Monitoring Centre (UNEP-WCMC) and the Japan Aerospace Exploration Agency (JAXA). DOB Ecology supported the mapping in Africa through the Mangrove Capital Africa project.\\\\n\\\\n## Methodology\\\\n\\\\nThe mangrove maps were derived in two steps: 1) generation of a baseline map of global mangrove extent for the year 2010 and 2) detection of changes between the 2010 baseline and each of the other six years.\\\\n\\\\n### 2010 global mangrove extent baseline map\\\\n\\\\nThe 2010 baseline map was derived by the Random Forest Classification algorithm that used a combination of L-band radar (ALOS PALSAR) and optical (Landsat-5, -7) satellite data. Approximately 15,000 Landsat scenes and 1,500 ALOS PALSAR (1 x 1 degree) mosaic tiles were used to create optical and radar image composites covering the coastlines along the tropical and sub-tropical coastlines in the Americas, Africa, Asia, and Oceania.\\\\n\\\\nThe classification was confined using a mangrove habitat mask, which defined regions where mangrove ecosystems can be expected to exist. The mangrove habitat definition was generated based on geographical parameters such as latitude, elevation, and distance from ocean water. Training for the habitat mask and classification of the 2010 mangrove mask was based on randomly sampling 38 million points using historical mangrove maps (for the year 2000) of Giri et al. (2011) and Spalding et al. (2010) and the water occurrence layer defined by Pekel et al. (2017).\\\\n\\\\nClassification accuracy of the 2010 baseline dataset was assessed with approximately 53,800 randomly sampled points across 20 randomly selected regions. Overall accuracy was 95.25 %, while User\\\\u2019s and Producer\\\\u2019s accuracies for the mangrove class were estimated at 97.5% and 94.0%, respectively.\\\\n\\\\n### 1996, 2007, 2008, 2009, 2015 and 2016 maps of mangrove extent and changes\\\\n\\\\nThe maps for the other six years were derived by detection and classification of losses (defined as a decrease in radar backscatter) and gains (defined as a backscatter increase) between the 2010 ALOS PALSAR data and JERS-1 SAR (1996), ALOS PALSAR (2007, 2008 & 2009) and ALOS-2 PALSAR-2 (2015 & 2016) data. The change pixels for each year in question were then added or removed from the 2010 baseline raster mask (buffered to allow detection of mangrove gains also immediately outside of the mask) to produce the new yearly extent maps. Classification accuracies of the changes were assessed with over 45,000 points, with an overall accuracy of 75.0 %.\\\\n\\\\nFor the full documentation, please see the source [methodology](https://www.mdpi.com/2072-4292/10/10/1669).\\\\n\",\n",
            "    \"distribution\": \"\",\n",
            "    \"identifier\": \"\",\n",
            "    \"keywords\": \"Erosion; Coasts; Natural Infrastructure; Biodiversity; Blue Carbon; Forests; Mangroves; Landcover\",\n",
            "    \"language\": \"en\",\n",
            "    \"license\": \"https://creativecommons.org/licenses/by/4.0/\",\n",
            "    \"name\": \"Global extent of mangrove forests\",\n",
            "    \"spatialCoverage\": \"Global tropics\",\n",
            "    \"system:time_end\": 1451606400000.0,\n",
            "    \"system:time_start\": 820454400000.0,\n",
            "    \"temporalCoverage\": \"1996--2016\",\n",
            "    \"units\": 1.0,\n",
            "    \"url\": \"\",\n",
            "    \"variableMeasured\": \"Presence of mangrove forest habitat\",\n",
            "    \"version\": 2.0\n",
            "  },\n",
            "  \"type\": \"ImageCollection\",\n",
            "  \"version\": 1592060495052111\n",
            "}\n",
            "\n",
            "\n",
            "Updating ImageCollection properties...\n",
            "\n",
            "Updated properties for asset: projects/global-mangrove-watch/land-cover/mangrove-extent_version-2-0_1996--2016\n",
            "\n",
            "{\n",
            "  \"bands\": [],\n",
            "  \"id\": \"projects/global-mangrove-watch/land-cover/mangrove-extent_version-2-0_1996--2016\",\n",
            "  \"properties\": {\n",
            "    \"altName\": \"Global Mangrove Watch, Version 2.0\",\n",
            "    \"citation\": \"Bunting, Pete, Ake Rosenqvist, Richard M. Lucas, Lisa-Maria Rebelo, Lammert Hilarides, Nathan Thomas, Andy Hardy, Takuya Itoh, Masanobu Shimada, and C. Max Finlayson. \\\\u201cThe Global Mangrove Watch\\\\u2014A New 2010 Global Baseline of Mangrove Extent.\\\\u201d Remote Sensing 10, no. 10 (October 2018): 1669. doi: 10.3390/rs10101669.\",\n",
            "    \"creator\": \"Global Mangrove Watch (GMW): Aberystwyth University/soloEO/Wetlands International/UNEP-WCMC/JAXA/DOB Ecology\",\n",
            "    \"dataLineage\": \"Raster data supplied by Aberystwyth University (Dr. Dave Bunting) as tilesets per year, each tilset was combined, and added to Google earth engine as multi-temporal ImageCollection.\",\n",
            "    \"description\": \"# Global extent of mangrove forests\\\\n\\\\nThis dataset shows the global extent of mangroves for 1996, 2007, 2008, 2009, 2010, 2015 and 2016. This is the first global map of mangrove extent produced using an automated, reproducible, and globally consistent methodology, using a combination of optical and radar satellite data.\\\\n\\\\nMangroves are forested intertidal ecosystems that perform critical landscape-level functions related to the regulation of freshwater, nutrients, and sediment inputs into marine areas. They play a key role in helping to control the quality of marine coastal waters. Mangroves are of critical importance as breeding and nursery sites for birds, fish, and crustaceans. Additionally, they constitute important sinks for carbon storage. Once abundant along the world\\\\u2019s tropical and subtropical coastlines, mangroves are in global decline. Significant drivers of change include removal for aquaculture, agriculture, energy exploitation and other industrial development, with an unknown proportion of the remaining mangroves fragmented and degraded. Mangroves are also sensitive to climate change effects such as sea level rise, temperature extremes, and changes in hydrology.\\\\n\\\\nThe dataset has been generated by the Global Mangrove Watch (GMW) \\\\u2013 a collaboration between Aberystwyth University (U.K.), solo Earth Observation (soloEO), Wetlands International, the World Conservation Monitoring Centre (UNEP-WCMC) and the Japan Aerospace Exploration Agency (JAXA). DOB Ecology supported the mapping in Africa through the Mangrove Capital Africa project.\\\\n\\\\n## Methodology\\\\n\\\\nThe mangrove maps were derived in two steps: 1) generation of a baseline map of global mangrove extent for the year 2010 and 2) detection of changes between the 2010 baseline and each of the other six years.\\\\n\\\\n### 2010 global mangrove extent baseline map\\\\n\\\\nThe 2010 baseline map was derived by the Random Forest Classification algorithm that used a combination of L-band radar (ALOS PALSAR) and optical (Landsat-5, -7) satellite data. Approximately 15,000 Landsat scenes and 1,500 ALOS PALSAR (1 x 1 degree) mosaic tiles were used to create optical and radar image composites covering the coastlines along the tropical and sub-tropical coastlines in the Americas, Africa, Asia, and Oceania.\\\\n\\\\nThe classification was confined using a mangrove habitat mask, which defined regions where mangrove ecosystems can be expected to exist. The mangrove habitat definition was generated based on geographical parameters such as latitude, elevation, and distance from ocean water. Training for the habitat mask and classification of the 2010 mangrove mask was based on randomly sampling 38 million points using historical mangrove maps (for the year 2000) of Giri et al. (2011) and Spalding et al. (2010) and the water occurrence layer defined by Pekel et al. (2017).\\\\n\\\\nClassification accuracy of the 2010 baseline dataset was assessed with approximately 53,800 randomly sampled points across 20 randomly selected regions. Overall accuracy was 95.25 %, while User\\\\u2019s and Producer\\\\u2019s accuracies for the mangrove class were estimated at 97.5% and 94.0%, respectively.\\\\n\\\\n### 1996, 2007, 2008, 2009, 2015 and 2016 maps of mangrove extent and changes\\\\n\\\\nThe maps for the other six years were derived by detection and classification of losses (defined as a decrease in radar backscatter) and gains (defined as a backscatter increase) between the 2010 ALOS PALSAR data and JERS-1 SAR (1996), ALOS PALSAR (2007, 2008 & 2009) and ALOS-2 PALSAR-2 (2015 & 2016) data. The change pixels for each year in question were then added or removed from the 2010 baseline raster mask (buffered to allow detection of mangrove gains also immediately outside of the mask) to produce the new yearly extent maps. Classification accuracies of the changes were assessed with over 45,000 points, with an overall accuracy of 75.0 %.\\\\n\\\\nFor the full documentation, please see the source [methodology](https://www.mdpi.com/2072-4292/10/10/1669).\\\\n\",\n",
            "    \"distribution\": \"\",\n",
            "    \"identifier\": \"\",\n",
            "    \"keywords\": \"Erosion; Coasts; Natural Infrastructure; Biodiversity; Blue Carbon; Forests; Mangroves; Landcover\",\n",
            "    \"language\": \"en\",\n",
            "    \"license\": \"https://creativecommons.org/licenses/by/4.0/\",\n",
            "    \"name\": \"Global extent of mangrove forests\",\n",
            "    \"spatialCoverage\": \"Global tropics\",\n",
            "    \"system:time_end\": 1451606400000.0,\n",
            "    \"system:time_start\": 820454400000.0,\n",
            "    \"temporalCoverage\": \"1996--2016\",\n",
            "    \"units\": 1.0,\n",
            "    \"url\": \"\",\n",
            "    \"variableMeasured\": \"Presence of mangrove forest habitat\",\n",
            "    \"version\": 2.0\n",
            "  },\n",
            "  \"type\": \"ImageCollection\",\n",
            "  \"version\": 1592060495052111\n",
            "}\n",
            "\n"
          ],
          "name": "stdout"
        },
        {
          "output_type": "display_data",
          "data": {
            "application/vnd.jupyter.widget-view+json": {
              "model_id": "2943888dd55140f385843408ac30ac4f",
              "version_minor": 0,
              "version_major": 2
            },
            "text/plain": [
              "HBox(children=(FloatProgress(value=0.0, description='Creating upload tasks', max=7.0, style=ProgressStyle(desc…"
            ]
          },
          "metadata": {
            "tags": []
          }
        },
        {
          "output_type": "stream",
          "text": [
            "\n",
            "\n",
            "Finished upload to projects/global-mangrove-watch/land-cover/mangrove-extent_version-2-0_1996--2016\n"
          ],
          "name": "stdout"
        }
      ]
    },
    {
      "cell_type": "code",
      "metadata": {
        "id": "vzYbKOlw5OsH",
        "colab_type": "code",
        "colab": {
          "base_uri": "https://localhost:8080/",
          "height": 139
        },
        "outputId": "d17b59e9-bdd8-44e6-8cf6-1b880ffcd732"
      },
      "source": [
        "# Check task status\n",
        "!earthengine --no-use_cloud_api task list --status RUNNING"
      ],
      "execution_count": null,
      "outputs": [
        {
          "output_type": "stream",
          "text": [
            "3KTHJFEL6KBRVPOHQOG2R5YE  Upload        Asset ingestion: projects/global-mangrov..  RUNNING    ---\n",
            "EEEFJ3ZFFRLWKO6XZDPDIXJS  Upload        Asset ingestion: projects/global-mangrov..  RUNNING    ---\n",
            "PLXDVQIO3SSHUD7UHHZGSI5C  Upload        Asset ingestion: projects/global-mangrov..  RUNNING    ---\n",
            "4GAVASGWWSZAVFNZZHJYRJVO  Upload        Asset ingestion: projects/global-mangrov..  RUNNING    ---\n",
            "UBVESB4EQRV3YXB7QX5EYALL  Upload        Asset ingestion: projects/global-mangrov..  RUNNING    ---\n",
            "KPZVK7EMSU3VKLTHCUNXGIHW  Upload        Asset ingestion: projects/global-mangrov..  RUNNING    ---\n",
            "QBTTVD63RCW34WUF4AWNI3RS  Upload        Asset ingestion: projects/global-mangrov..  RUNNING    ---\n"
          ],
          "name": "stdout"
        }
      ]
    },
    {
      "cell_type": "code",
      "metadata": {
        "id": "AkNlFM6KRScB",
        "colab_type": "code",
        "colab": {
          "base_uri": "https://localhost:8080/",
          "height": 558
        },
        "outputId": "fabe7db1-8faa-451a-bd4b-5ce41b788a10"
      },
      "source": [
        "# Check ImageCollection properties\n",
        "!earthengine --no-use_cloud_api asset info {ee_asset_path}"
      ],
      "execution_count": null,
      "outputs": [
        {
          "output_type": "stream",
          "text": [
            "WARNING:tensorflow:From /usr/local/lib/python3.6/dist-packages/tensorflow/python/compat/v2_compat.py:96: disable_resource_variables (from tensorflow.python.ops.variable_scope) is deprecated and will be removed in a future version.\n",
            "Instructions for updating:\n",
            "non-resource variables are not supported in the long term\n",
            "{\n",
            "  \"bands\": [],\n",
            "  \"id\": \"projects/global-mangrove-watch/land-cover/mangrove-extent_version-2-0_1996--2016\",\n",
            "  \"properties\": {\n",
            "    \"altName\": \"Global Mangrove Watch, Version 2.0\",\n",
            "    \"citation\": \"Bunting, Pete, Ake Rosenqvist, Richard M. Lucas, Lisa-Maria Rebelo, Lammert Hilarides, Nathan Thomas, Andy Hardy, Takuya Itoh, Masanobu Shimada, and C. Max Finlayson. \\\\u201cThe Global Mangrove Watch\\\\u2014A New 2010 Global Baseline of Mangrove Extent.\\\\u201d Remote Sensing 10, no. 10 (October 2018): 1669. doi: 10.3390/rs10101669.\",\n",
            "    \"creator\": \"Global Mangrove Watch (GMW): Aberystwyth University/soloEO/Wetlands International/UNEP-WCMC/JAXA/DOB Ecology\",\n",
            "    \"dataLineage\": \"Raster data supplied by Aberystwyth University (Dr. Dave Bunting) as tilesets per year, each tilset was combined, and added to Google earth engine as multi-temporal ImageCollection.\",\n",
            "    \"description\": \"# Global extent of mangrove forests\\\\n\\\\nThis dataset shows the global extent of mangroves for 1996, 2007, 2008, 2009, 2010, 2015 and 2016. This is the first global map of mangrove extent produced using an automated, reproducible, and globally consistent methodology, using a combination of optical and radar satellite data.\\\\n\\\\nMangroves are forested intertidal ecosystems that perform critical landscape-level functions related to the regulation of freshwater, nutrients, and sediment inputs into marine areas. They play a key role in helping to control the quality of marine coastal waters. Mangroves are of critical importance as breeding and nursery sites for birds, fish, and crustaceans. Additionally, they constitute important sinks for carbon storage. Once abundant along the world\\\\u2019s tropical and subtropical coastlines, mangroves are in global decline. Significant drivers of change include removal for aquaculture, agriculture, energy exploitation and other industrial development, with an unknown proportion of the remaining mangroves fragmented and degraded. Mangroves are also sensitive to climate change effects such as sea level rise, temperature extremes, and changes in hydrology.\\\\n\\\\nThe dataset has been generated by the Global Mangrove Watch (GMW) \\\\u2013 a collaboration between Aberystwyth University (U.K.), solo Earth Observation (soloEO), Wetlands International, the World Conservation Monitoring Centre (UNEP-WCMC) and the Japan Aerospace Exploration Agency (JAXA). DOB Ecology supported the mapping in Africa through the Mangrove Capital Africa project.\\\\n\\\\n## Methodology\\\\n\\\\nThe mangrove maps were derived in two steps: 1) generation of a baseline map of global mangrove extent for the year 2010 and 2) detection of changes between the 2010 baseline and each of the other six years.\\\\n\\\\n### 2010 global mangrove extent baseline map\\\\n\\\\nThe 2010 baseline map was derived by the Random Forest Classification algorithm that used a combination of L-band radar (ALOS PALSAR) and optical (Landsat-5, -7) satellite data. Approximately 15,000 Landsat scenes and 1,500 ALOS PALSAR (1 x 1 degree) mosaic tiles were used to create optical and radar image composites covering the coastlines along the tropical and sub-tropical coastlines in the Americas, Africa, Asia, and Oceania.\\\\n\\\\nThe classification was confined using a mangrove habitat mask, which defined regions where mangrove ecosystems can be expected to exist. The mangrove habitat definition was generated based on geographical parameters such as latitude, elevation, and distance from ocean water. Training for the habitat mask and classification of the 2010 mangrove mask was based on randomly sampling 38 million points using historical mangrove maps (for the year 2000) of Giri et al. (2011) and Spalding et al. (2010) and the water occurrence layer defined by Pekel et al. (2017).\\\\n\\\\nClassification accuracy of the 2010 baseline dataset was assessed with approximately 53,800 randomly sampled points across 20 randomly selected regions. Overall accuracy was 95.25 %, while User\\\\u2019s and Producer\\\\u2019s accuracies for the mangrove class were estimated at 97.5% and 94.0%, respectively.\\\\n\\\\n### 1996, 2007, 2008, 2009, 2015 and 2016 maps of mangrove extent and changes\\\\n\\\\nThe maps for the other six years were derived by detection and classification of losses (defined as a decrease in radar backscatter) and gains (defined as a backscatter increase) between the 2010 ALOS PALSAR data and JERS-1 SAR (1996), ALOS PALSAR (2007, 2008 & 2009) and ALOS-2 PALSAR-2 (2015 & 2016) data. The change pixels for each year in question were then added or removed from the 2010 baseline raster mask (buffered to allow detection of mangrove gains also immediately outside of the mask) to produce the new yearly extent maps. Classification accuracies of the changes were assessed with over 45,000 points, with an overall accuracy of 75.0 %.\\\\n\\\\nFor the full documentation, please see the source [methodology](https://www.mdpi.com/2072-4292/10/10/1669).\\\\n\",\n",
            "    \"distribution\": \"\",\n",
            "    \"identifier\": \"\",\n",
            "    \"keywords\": \"Erosion; Coasts; Natural Infrastructure; Biodiversity; Blue Carbon; Forests; Mangroves; Landcover\",\n",
            "    \"language\": \"en\",\n",
            "    \"license\": \"https://creativecommons.org/licenses/by/4.0/\",\n",
            "    \"name\": \"Global extent of mangrove forests\",\n",
            "    \"spatialCoverage\": \"Global tropics\",\n",
            "    \"system:time_end\": 1451606400000.0,\n",
            "    \"system:time_start\": 820454400000.0,\n",
            "    \"temporalCoverage\": \"1996--2016\",\n",
            "    \"units\": 1.0,\n",
            "    \"url\": \"\",\n",
            "    \"variableMeasured\": \"Presence of mangrove forest habitat\",\n",
            "    \"version\": 2.0\n",
            "  },\n",
            "  \"type\": \"ImageCollection\",\n",
            "  \"version\": 1592060495052111\n",
            "}\n"
          ],
          "name": "stdout"
        }
      ]
    },
    {
      "cell_type": "markdown",
      "metadata": {
        "id": "AE4_2juk18YJ",
        "colab_type": "text"
      },
      "source": [
        "## View"
      ]
    },
    {
      "cell_type": "code",
      "metadata": {
        "id": "qOMV_1n61-Cd",
        "colab_type": "code",
        "colab": {
          "base_uri": "https://localhost:8080/",
          "height": 870
        },
        "outputId": "3408666f-ca3a-4126-a063-41977ac71416"
      },
      "source": [
        "# Import libraries.\n",
        "import ee\n",
        "import folium\n",
        "\n",
        "# Trigger the authentication flow.\n",
        "#ee.Authenticate()\n",
        "\n",
        "# Initialize the library.\n",
        "ee.Initialize()\n",
        "\n",
        "# Define a method for displaying Earth Engine image tiles to folium map.\n",
        "def add_ee_layer(self, ee_image_object, vis_params, name):\n",
        "  map_id_dict = ee.Image(ee_image_object).getMapId(vis_params)\n",
        "  folium.raster_layers.TileLayer(\n",
        "    tiles = map_id_dict['tile_fetcher'].url_format,\n",
        "    attr = \"Map Data © Google Earth Engine\",\n",
        "    name = name,\n",
        "    overlay = True,\n",
        "    control = True\n",
        "  ).add_to(self)\n",
        "\n",
        "# Add EE drawing method to folium.\n",
        "folium.Map.add_ee_layer = add_ee_layer\n",
        "\n",
        "# Fetch ImageCollection.\n",
        "ic = ee.ImageCollection(ee_asset_path)\n",
        "\n",
        "# Set visualization parameters.\n",
        "vis_params = {\n",
        "  'min': 0,\n",
        "  'max': 1,\n",
        "  'palette': ['006633', '#088A08']}\n",
        "\n",
        "# Create a folium map object.\n",
        "my_map = folium.Map(location=[-7.998, 39.4767], zoom_start=9, height=500)\n",
        "\n",
        "for y in [1996, 2007, 2008, 2009, 2010, 2015, 2016]:\n",
        "  im = ic.filterDate(f\"{y}-01-01\")\n",
        "  # Add the image to the map object.\n",
        "  my_map.add_ee_layer(im.updateMask(im.gt(0)), vis_params, f\"Mangrove presence {y}\")\n",
        "\n",
        "# Add a layer control panel to the map.\n",
        "my_map.add_child(folium.LayerControl())\n",
        "\n",
        "# Display the map.\n",
        "display(my_map)"
      ],
      "execution_count": null,
      "outputs": [
        {
          "output_type": "display_data",
          "data": {
            "text/html": [
              "<div style=\"width:100%;\"><div style=\"position:relative;width:100%;height:0;padding-bottom:60%;\"><span style=\"color:#565656\">Make this Notebook Trusted to load map: File -> Trust Notebook</span><iframe src=\"about:blank\" style=\"position:absolute;width:100%;height:100%;left:0;top:0;border:none !important;\" data-html=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 onload=\"this.contentDocument.open();this.contentDocument.write(atob(this.getAttribute('data-html')));this.contentDocument.close();\" allowfullscreen webkitallowfullscreen mozallowfullscreen></iframe></div></div>"
            ],
            "text/plain": [
              "<folium.folium.Map at 0x7f3b9bde1f28>"
            ]
          },
          "metadata": {
            "tags": []
          }
        }
      ]
    },
    {
      "cell_type": "markdown",
      "metadata": {
        "id": "diBrHEA0pOKj",
        "colab_type": "text"
      },
      "source": [
        "## Create distance from mangrove habitat image collection"
      ]
    },
    {
      "cell_type": "code",
      "metadata": {
        "id": "Iri1Fo1o6RTM",
        "colab_type": "code",
        "colab": {}
      },
      "source": [
        "# Authenticate earthengine\n",
        "!earthengine authenticate"
      ],
      "execution_count": null,
      "outputs": []
    },
    {
      "cell_type": "markdown",
      "metadata": {
        "colab_type": "text",
        "id": "InvZJ0LE7MvY"
      },
      "source": [
        "### Add to imageCollection"
      ]
    },
    {
      "cell_type": "code",
      "metadata": {
        "colab_type": "code",
        "id": "roSctD_R7Mvh",
        "colab": {
          "base_uri": "https://localhost:8080/",
          "height": 289
        },
        "outputId": "56809999-260c-4c0d-a14d-4d6625b1decf"
      },
      "source": [
        "# Define parameters\n",
        "\n",
        "# asset path\n",
        "ee_asset_path = f\"projects/global-mangrove-watch/land-cover/mangrove-extent-distance_version-2-0_1996--2016\"\n",
        "\n",
        "# get description from file\n",
        "copy_gcs([\"gs://mangrove_atlas/land-cover/mangrove-extent-distance_version-2-0_1996--2016_description.md\"], [\".\"])\n",
        "with open(\"mangrove-extent-distance_version-2-0_1996--2016_description.md\", \"r\") as f:\n",
        "  description = f.read()\n",
        "\n",
        "# set collection properties (these are compatible with Skydipper.Dataset.Metadata)\n",
        "collection_properties = {\n",
        "    'name': \"Global distance from mangrove forests\",\n",
        "    'version': \"2.0\",\n",
        "    'creator': \"Global Mangrove Watch (GMW): Aberystwyth University/soloEO/Wetlands International/UNEP-WCMC/JAXA/DOB Ecology, vizzuality.\",\n",
        "    'description': description,\n",
        "    'identifier': \"\",\n",
        "    'keywords': \"Erosion; Coasts; Natural Infrastructure; Biodiversity; Blue Carbon; Forests; Mangroves; Landcover; Distance\",\n",
        "    'citation': \"Bunting, Pete, Ake Rosenqvist, Richard M. Lucas, Lisa-Maria Rebelo, Lammert Hilarides, Nathan Thomas, Andy Hardy, Takuya Itoh, Masanobu Shimada, and C. Max Finlayson. “The Global Mangrove Watch—A New 2010 Global Baseline of Mangrove Extent.” Remote Sensing 10, no. 10 (October 2018): 1669. doi: 10.3390/rs10101669.\",\n",
        "    'license': \"https://creativecommons.org/licenses/by/4.0/\",\n",
        "    'url': \"\",\n",
        "    'language': 'en', \n",
        "    'altName': \"Global Mangrove Watch distance, Version 2.0\",\n",
        "    'distribution': \"\",\n",
        "    'variableMeasured': \"Linear distance from mangrove forest habitat\",\n",
        "    'units': \"m\",\n",
        "    'spatialCoverage': \"Global tropics\",\n",
        "    'temporalCoverage': \"1996--2016\",\n",
        "    'dataLineage': \"Raster data supplied by Aberystwyth University (Dr. Dave Bunting) as tilesets per year, each tilset was combined, and added to Google earth engine as multi-temporal ImageCollection. Squared euclidean distance from pixels with mangrove presence was calculated in earthengine using fastDistance transform, and converted to linear distance in meters using the square-root of pixel area.\"\n",
        "}\n",
        "\n",
        "# set individual image properties (minimal)\n",
        "image_properties = {\n",
        "    \"band_nodata_values\": 'nan',\n",
        "    \"band_pyramiding_policies\": \"mean\",\n",
        "    \"band_names\": \"distance_m\"\n",
        "}"
      ],
      "execution_count": 51,
      "outputs": [
        {
          "output_type": "stream",
          "text": [
            "Processing: gsutil -m cp -r  gs://mangrove_atlas/land-cover/mangrove-extent-distance_version-2-0_1996--2016_description.md .\n",
            "Task failed\n",
            "Finished copy\n"
          ],
          "name": "stdout"
        },
        {
          "output_type": "error",
          "ename": "FileNotFoundError",
          "evalue": "ignored",
          "traceback": [
            "\u001b[0;31m---------------------------------------------------------------------------\u001b[0m",
            "\u001b[0;31mFileNotFoundError\u001b[0m                         Traceback (most recent call last)",
            "\u001b[0;32m<ipython-input-51-90501b279c8a>\u001b[0m in \u001b[0;36m<module>\u001b[0;34m()\u001b[0m\n\u001b[1;32m      6\u001b[0m \u001b[0;31m# get description from file\u001b[0m\u001b[0;34m\u001b[0m\u001b[0;34m\u001b[0m\u001b[0;34m\u001b[0m\u001b[0m\n\u001b[1;32m      7\u001b[0m \u001b[0mcopy_gcs\u001b[0m\u001b[0;34m(\u001b[0m\u001b[0;34m[\u001b[0m\u001b[0;34m\"gs://mangrove_atlas/land-cover/mangrove-extent-distance_version-2-0_1996--2016_description.md\"\u001b[0m\u001b[0;34m]\u001b[0m\u001b[0;34m,\u001b[0m \u001b[0;34m[\u001b[0m\u001b[0;34m\".\"\u001b[0m\u001b[0;34m]\u001b[0m\u001b[0;34m)\u001b[0m\u001b[0;34m\u001b[0m\u001b[0;34m\u001b[0m\u001b[0m\n\u001b[0;32m----> 8\u001b[0;31m \u001b[0;32mwith\u001b[0m \u001b[0mopen\u001b[0m\u001b[0;34m(\u001b[0m\u001b[0;34m\"mangrove-extent-distance_version-2-0_1996--2016_description.md\"\u001b[0m\u001b[0;34m,\u001b[0m \u001b[0;34m\"r\"\u001b[0m\u001b[0;34m)\u001b[0m \u001b[0;32mas\u001b[0m \u001b[0mf\u001b[0m\u001b[0;34m:\u001b[0m\u001b[0;34m\u001b[0m\u001b[0;34m\u001b[0m\u001b[0m\n\u001b[0m\u001b[1;32m      9\u001b[0m   \u001b[0mdescription\u001b[0m \u001b[0;34m=\u001b[0m \u001b[0mf\u001b[0m\u001b[0;34m.\u001b[0m\u001b[0mread\u001b[0m\u001b[0;34m(\u001b[0m\u001b[0;34m)\u001b[0m\u001b[0;34m\u001b[0m\u001b[0;34m\u001b[0m\u001b[0m\n\u001b[1;32m     10\u001b[0m \u001b[0;34m\u001b[0m\u001b[0m\n",
            "\u001b[0;31mFileNotFoundError\u001b[0m: [Errno 2] No such file or directory: 'mangrove-extent-distance_version-2-0_1996--2016_description.md'"
          ]
        }
      ]
    },
    {
      "cell_type": "code",
      "metadata": {
        "id": "Ll2ONjQB69py",
        "colab_type": "code",
        "colab": {}
      },
      "source": [
        "# Create image collection\n",
        "gee_create_image_collection(ee_asset_path, image_start_times, collection_properties = {}, dry_run=Rtue)"
      ],
      "execution_count": null,
      "outputs": []
    },
    {
      "cell_type": "code",
      "metadata": {
        "id": "oPfYIYFFwQws",
        "colab_type": "code",
        "colab": {
          "base_uri": "https://localhost:8080/",
          "height": 176
        },
        "outputId": "50d6ab6b-f7aa-4808-c570-d9707330b974"
      },
      "source": [
        "# Trigger the authentication flow.\n",
        "ee.Authenticate()"
      ],
      "execution_count": 20,
      "outputs": [
        {
          "output_type": "stream",
          "text": [
            "To authorize access needed by Earth Engine, open the following URL in a web browser and follow the instructions. If the web browser does not start automatically, please manually browse the URL below.\n",
            "\n",
            "    https://accounts.google.com/o/oauth2/auth?client_id=517222506229-vsmmajv00ul0bs7p89v5m89qs8eb9359.apps.googleusercontent.com&scope=https%3A%2F%2Fwww.googleapis.com%2Fauth%2Fearthengine+https%3A%2F%2Fwww.googleapis.com%2Fauth%2Fdevstorage.full_control&redirect_uri=urn%3Aietf%3Awg%3Aoauth%3A2.0%3Aoob&response_type=code&code_challenge=Zea2s9SuKkqY9JeVb_k3ccyR7SmGC5O4JSJ7ISZPhfM&code_challenge_method=S256\n",
            "\n",
            "The authorization workflow will generate a code, which you should paste in the box below. \n",
            "Enter verification code: 4/1gFxGfD3NN-1AZoHdqlfOhDNATHM1UDy6Z1DKc_DwNMLXWZm0FlQaZ4\n",
            "\n",
            "Successfully saved authorization token.\n"
          ],
          "name": "stdout"
        }
      ]
    },
    {
      "cell_type": "code",
      "metadata": {
        "id": "d5aiCRxWwNOP",
        "colab_type": "code",
        "colab": {}
      },
      "source": [
        "# Initialize the library.\n",
        "ee.Initialize()"
      ],
      "execution_count": 21,
      "outputs": []
    },
    {
      "cell_type": "code",
      "metadata": {
        "id": "HtUHeo8MpZst",
        "colab_type": "code",
        "colab": {
          "base_uri": "https://localhost:8080/",
          "height": 1000
        },
        "outputId": "9b2032bb-fab1-4327-d54d-09090b3cae3e"
      },
      "source": [
        "# Create rasters representing the linear distance from mangrove habitat for each period\n",
        "\n",
        "# Import libraries.\n",
        "import ee\n",
        "import folium\n",
        "import json\n",
        "import pprint\n",
        "\n",
        "def app(year_list, debug):\n",
        "\n",
        "  # GET DATA LAYERS\n",
        "  land_cover = ee.ImageCollection('projects/global-mangrove-watch/land-cover/mangrove-extent_version-2-0_1996--2016')\n",
        "\n",
        "  # SET EXPORT REGION\n",
        "  region = ee.Geometry.Polygon([[[-180, 33],[-180, -34],[180, -34],[180, 33]]], 'EPSG:4326')\n",
        "\n",
        "  # CALCULATIONS\n",
        "  def getDistance(im, maxDistance):\n",
        "    \n",
        "    dist_pixels = im \\\n",
        "    .fastDistanceTransform(maxDistance, 'pixels', 'squared_euclidean') \\\n",
        "    .sqrt()\n",
        "    \n",
        "    pixel_size_m = ee.Image.pixelArea().sqrt()\n",
        "    return dist_pixels.multiply(pixel_size_m) \n",
        "  \n",
        "  def calc_dist(year, debug):\n",
        "    \n",
        "    # time_start\n",
        "    ts = ee.Date.fromYMD(year, 1, 1)\n",
        "    # get image\n",
        "    im = ee.Image(land_cover.filterDate(ts).first()).selfMask()\n",
        "    # calculate distance\n",
        "    dist = getDistance(im, 256) \\\n",
        "    .rename('distance_m') \\\n",
        "    .set({\n",
        "      'system:time_start': ts,\n",
        "      'units': 'meters'  \n",
        "    })\n",
        "    \n",
        "    # Export params\n",
        "    year_string = ee.Number(year).format()\n",
        "    nm = ee.String(\"gl_\").cat(year_string).cat(\"_\").cat('distance')\n",
        "    ns = im.projection().nominalScale()\n",
        "    \n",
        "    # EXPORT TO IMAGE COLLECTION\n",
        "    params = {\n",
        "        'image': dist,\n",
        "        'description': \"export_\" + nm.getInfo(),\n",
        "        'assetId': 'projects/global-mangrove-watch/land-cover/mangrove_extent_version_2-0_distance_1996-2016/' + nm.getInfo(),\n",
        "        'pyramidingPolicy':{'distance_m':'mean'},\n",
        "        'scale': ns.getInfo(),\n",
        "        'crs': 'EPSG:4326',\n",
        "        'region': region,\n",
        "        'maxPixels': 1e13\n",
        "      \n",
        "    }\n",
        "    task = ee.batch.Export.image.toAsset(**params)\n",
        "    if debug == False:\n",
        "        task.start()\n",
        "    \n",
        "    if debug == True:\n",
        "      print('\\n#######')\n",
        "      print('\\nName:', ee.String(nm).getInfo())\n",
        "      print('\\nNominal scale:', ns.getInfo())\n",
        "      print('\\nDistance image:', json.dumps(dist.getInfo(), indent=4))\n",
        "      print(\"\\nExport params:\\n\")\n",
        "      pprint.pprint(params, indent=4)\n",
        "      \n",
        "      print(\"\\n Map:\\n\")\n",
        "      # Create a folium map object.\n",
        "      my_map = folium.Map(location=[-7.998, 39.4767], zoom_start=9, height=500)\n",
        "      # Set visualization parameters.\n",
        "      vis_params = {'min': 0, 'max': 50000, 'palette': ['006633', '#088A08']}\n",
        "      # Add map layer\n",
        "      my_map.add_ee_layer(dist.updateMask(dist.lte(50000)), vis_params, f\"Mangrove distance {year}\")\n",
        "      # Add a layer control panel to the map.\n",
        "      my_map.add_child(folium.LayerControl())\n",
        "      # Display the map.\n",
        "      display(my_map)  \n",
        "    \n",
        "    return 'true'\n",
        "  \n",
        "  # Loop through year list\n",
        "  for year in year_list:\n",
        "    calc_dist(year, debug)\n",
        "    \n",
        "\n",
        "# Run process\n",
        "debug = True\n",
        "year_list = [1996, 2007, 2008, 2009, 2010, 2015, 2016]\n",
        "app(year_list, debug)  \n"
      ],
      "execution_count": 48,
      "outputs": [
        {
          "output_type": "stream",
          "text": [
            "\n",
            "#######\n",
            "\n",
            "Name: gl_1996_distance\n",
            "\n",
            "Nominal scale: 24.73766462070385\n",
            "\n",
            "Distance image: {\n",
            "    \"type\": \"Image\",\n",
            "    \"bands\": [\n",
            "        {\n",
            "            \"id\": \"distance_m\",\n",
            "            \"data_type\": {\n",
            "                \"type\": \"PixelType\",\n",
            "                \"precision\": \"double\"\n",
            "            },\n",
            "            \"crs\": \"EPSG:4326\",\n",
            "            \"crs_transform\": [\n",
            "                0.00022222222222201014,\n",
            "                0,\n",
            "                -180,\n",
            "                0,\n",
            "                -0.00022222222222201014,\n",
            "                34\n",
            "            ]\n",
            "        }\n",
            "    ],\n",
            "    \"properties\": {\n",
            "        \"system:time_start\": {\n",
            "            \"type\": \"Date\",\n",
            "            \"value\": 820454400000\n",
            "        },\n",
            "        \"units\": \"meters\"\n",
            "    }\n",
            "}\n",
            "\n",
            "Export params:\n",
            "\n",
            "{   'assetId': 'projects/global-mangrove-watch/land-cover/mangrove_extent_version_2-0_distance_1996-2016/gl_1996_distance',\n",
            "    'crs': 'EPSG:4326',\n",
            "    'description': 'export_gl_1996_distance',\n",
            "    'image': <ee.image.Image object at 0x7f1811d85c18>,\n",
            "    'maxPixels': 10000000000000.0,\n",
            "    'pyramidingPolicy': {'distance_m': 'mean'},\n",
            "    'region': <ee.geometry.Geometry object at 0x7f1811d852b0>,\n",
            "    'scale': 24.73766462070385}\n",
            "\n",
            " Map:\n",
            "\n"
          ],
          "name": "stdout"
        },
        {
          "output_type": "display_data",
          "data": {
            "text/html": [
              "<div style=\"width:100%;\"><div style=\"position:relative;width:100%;height:0;padding-bottom:60%;\"><span style=\"color:#565656\">Make this Notebook Trusted to load map: File -> Trust Notebook</span><iframe src=\"about:blank\" style=\"position:absolute;width:100%;height:100%;left:0;top:0;border:none !important;\" data-html=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 onload=\"this.contentDocument.open();this.contentDocument.write(atob(this.getAttribute('data-html')));this.contentDocument.close();\" allowfullscreen webkitallowfullscreen mozallowfullscreen></iframe></div></div>"
            ],
            "text/plain": [
              "<folium.folium.Map at 0x7f1811dd7898>"
            ]
          },
          "metadata": {
            "tags": []
          }
        },
        {
          "output_type": "stream",
          "text": [
            "\n",
            "#######\n",
            "\n",
            "Name: gl_2007_distance\n",
            "\n",
            "Nominal scale: 24.73766462070385\n",
            "\n",
            "Distance image: {\n",
            "    \"type\": \"Image\",\n",
            "    \"bands\": [\n",
            "        {\n",
            "            \"id\": \"distance_m\",\n",
            "            \"data_type\": {\n",
            "                \"type\": \"PixelType\",\n",
            "                \"precision\": \"double\"\n",
            "            },\n",
            "            \"crs\": \"EPSG:4326\",\n",
            "            \"crs_transform\": [\n",
            "                0.00022222222222201014,\n",
            "                0,\n",
            "                -180,\n",
            "                0,\n",
            "                -0.00022222222222201014,\n",
            "                34\n",
            "            ]\n",
            "        }\n",
            "    ],\n",
            "    \"properties\": {\n",
            "        \"system:time_start\": {\n",
            "            \"type\": \"Date\",\n",
            "            \"value\": 1167609600000\n",
            "        },\n",
            "        \"units\": \"meters\"\n",
            "    }\n",
            "}\n",
            "\n",
            "Export params:\n",
            "\n",
            "{   'assetId': 'projects/global-mangrove-watch/land-cover/mangrove_extent_version_2-0_distance_1996-2016/gl_2007_distance',\n",
            "    'crs': 'EPSG:4326',\n",
            "    'description': 'export_gl_2007_distance',\n",
            "    'image': <ee.image.Image object at 0x7f1811dd7518>,\n",
            "    'maxPixels': 10000000000000.0,\n",
            "    'pyramidingPolicy': {'distance_m': 'mean'},\n",
            "    'region': <ee.geometry.Geometry object at 0x7f1811d852b0>,\n",
            "    'scale': 24.73766462070385}\n",
            "\n",
            " Map:\n",
            "\n"
          ],
          "name": "stdout"
        },
        {
          "output_type": "display_data",
          "data": {
            "text/html": [
              "<div style=\"width:100%;\"><div style=\"position:relative;width:100%;height:0;padding-bottom:60%;\"><span style=\"color:#565656\">Make this Notebook Trusted to load map: File -> Trust Notebook</span><iframe src=\"about:blank\" style=\"position:absolute;width:100%;height:100%;left:0;top:0;border:none !important;\" data-html=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 onload=\"this.contentDocument.open();this.contentDocument.write(atob(this.getAttribute('data-html')));this.contentDocument.close();\" allowfullscreen webkitallowfullscreen mozallowfullscreen></iframe></div></div>"
            ],
            "text/plain": [
              "<folium.folium.Map at 0x7f1811d855f8>"
            ]
          },
          "metadata": {
            "tags": []
          }
        },
        {
          "output_type": "stream",
          "text": [
            "\n",
            "#######\n",
            "\n",
            "Name: gl_2008_distance\n",
            "\n",
            "Nominal scale: 24.73766462070385\n",
            "\n",
            "Distance image: {\n",
            "    \"type\": \"Image\",\n",
            "    \"bands\": [\n",
            "        {\n",
            "            \"id\": \"distance_m\",\n",
            "            \"data_type\": {\n",
            "                \"type\": \"PixelType\",\n",
            "                \"precision\": \"double\"\n",
            "            },\n",
            "            \"crs\": \"EPSG:4326\",\n",
            "            \"crs_transform\": [\n",
            "                0.00022222222222201014,\n",
            "                0,\n",
            "                -180,\n",
            "                0,\n",
            "                -0.00022222222222201014,\n",
            "                34\n",
            "            ]\n",
            "        }\n",
            "    ],\n",
            "    \"properties\": {\n",
            "        \"system:time_start\": {\n",
            "            \"type\": \"Date\",\n",
            "            \"value\": 1199145600000\n",
            "        },\n",
            "        \"units\": \"meters\"\n",
            "    }\n",
            "}\n",
            "\n",
            "Export params:\n",
            "\n",
            "{   'assetId': 'projects/global-mangrove-watch/land-cover/mangrove_extent_version_2-0_distance_1996-2016/gl_2008_distance',\n",
            "    'crs': 'EPSG:4326',\n",
            "    'description': 'export_gl_2008_distance',\n",
            "    'image': <ee.image.Image object at 0x7f1811dd7828>,\n",
            "    'maxPixels': 10000000000000.0,\n",
            "    'pyramidingPolicy': {'distance_m': 'mean'},\n",
            "    'region': <ee.geometry.Geometry object at 0x7f1811d852b0>,\n",
            "    'scale': 24.73766462070385}\n",
            "\n",
            " Map:\n",
            "\n"
          ],
          "name": "stdout"
        },
        {
          "output_type": "display_data",
          "data": {
            "text/html": [
              "<div style=\"width:100%;\"><div style=\"position:relative;width:100%;height:0;padding-bottom:60%;\"><span style=\"color:#565656\">Make this Notebook Trusted to load map: File -> Trust Notebook</span><iframe src=\"about:blank\" style=\"position:absolute;width:100%;height:100%;left:0;top:0;border:none !important;\" data-html=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 onload=\"this.contentDocument.open();this.contentDocument.write(atob(this.getAttribute('data-html')));this.contentDocument.close();\" allowfullscreen webkitallowfullscreen mozallowfullscreen></iframe></div></div>"
            ],
            "text/plain": [
              "<folium.folium.Map at 0x7f1811ddcba8>"
            ]
          },
          "metadata": {
            "tags": []
          }
        },
        {
          "output_type": "stream",
          "text": [
            "\n",
            "#######\n",
            "\n",
            "Name: gl_2009_distance\n",
            "\n",
            "Nominal scale: 24.73766462070385\n",
            "\n",
            "Distance image: {\n",
            "    \"type\": \"Image\",\n",
            "    \"bands\": [\n",
            "        {\n",
            "            \"id\": \"distance_m\",\n",
            "            \"data_type\": {\n",
            "                \"type\": \"PixelType\",\n",
            "                \"precision\": \"double\"\n",
            "            },\n",
            "            \"crs\": \"EPSG:4326\",\n",
            "            \"crs_transform\": [\n",
            "                0.00022222222222201014,\n",
            "                0,\n",
            "                -180,\n",
            "                0,\n",
            "                -0.00022222222222201014,\n",
            "                34\n",
            "            ]\n",
            "        }\n",
            "    ],\n",
            "    \"properties\": {\n",
            "        \"system:time_start\": {\n",
            "            \"type\": \"Date\",\n",
            "            \"value\": 1230768000000\n",
            "        },\n",
            "        \"units\": \"meters\"\n",
            "    }\n",
            "}\n",
            "\n",
            "Export params:\n",
            "\n",
            "{   'assetId': 'projects/global-mangrove-watch/land-cover/mangrove_extent_version_2-0_distance_1996-2016/gl_2009_distance',\n",
            "    'crs': 'EPSG:4326',\n",
            "    'description': 'export_gl_2009_distance',\n",
            "    'image': <ee.image.Image object at 0x7f1811d70908>,\n",
            "    'maxPixels': 10000000000000.0,\n",
            "    'pyramidingPolicy': {'distance_m': 'mean'},\n",
            "    'region': <ee.geometry.Geometry object at 0x7f1811d852b0>,\n",
            "    'scale': 24.73766462070385}\n",
            "\n",
            " Map:\n",
            "\n"
          ],
          "name": "stdout"
        },
        {
          "output_type": "display_data",
          "data": {
            "text/html": [
              "<div style=\"width:100%;\"><div style=\"position:relative;width:100%;height:0;padding-bottom:60%;\"><span style=\"color:#565656\">Make this Notebook Trusted to load map: File -> Trust Notebook</span><iframe src=\"about:blank\" style=\"position:absolute;width:100%;height:100%;left:0;top:0;border:none !important;\" data-html=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 onload=\"this.contentDocument.open();this.contentDocument.write(atob(this.getAttribute('data-html')));this.contentDocument.close();\" allowfullscreen webkitallowfullscreen mozallowfullscreen></iframe></div></div>"
            ],
            "text/plain": [
              "<folium.folium.Map at 0x7f1811e2f0f0>"
            ]
          },
          "metadata": {
            "tags": []
          }
        },
        {
          "output_type": "stream",
          "text": [
            "\n",
            "#######\n",
            "\n",
            "Name: gl_2010_distance\n",
            "\n",
            "Nominal scale: 24.73766462070385\n",
            "\n",
            "Distance image: {\n",
            "    \"type\": \"Image\",\n",
            "    \"bands\": [\n",
            "        {\n",
            "            \"id\": \"distance_m\",\n",
            "            \"data_type\": {\n",
            "                \"type\": \"PixelType\",\n",
            "                \"precision\": \"double\"\n",
            "            },\n",
            "            \"crs\": \"EPSG:4326\",\n",
            "            \"crs_transform\": [\n",
            "                0.00022222222222201014,\n",
            "                0,\n",
            "                -180,\n",
            "                0,\n",
            "                -0.00022222222222201014,\n",
            "                34\n",
            "            ]\n",
            "        }\n",
            "    ],\n",
            "    \"properties\": {\n",
            "        \"system:time_start\": {\n",
            "            \"type\": \"Date\",\n",
            "            \"value\": 1262304000000\n",
            "        },\n",
            "        \"units\": \"meters\"\n",
            "    }\n",
            "}\n",
            "\n",
            "Export params:\n",
            "\n",
            "{   'assetId': 'projects/global-mangrove-watch/land-cover/mangrove_extent_version_2-0_distance_1996-2016/gl_2010_distance',\n",
            "    'crs': 'EPSG:4326',\n",
            "    'description': 'export_gl_2010_distance',\n",
            "    'image': <ee.image.Image object at 0x7f1811d70908>,\n",
            "    'maxPixels': 10000000000000.0,\n",
            "    'pyramidingPolicy': {'distance_m': 'mean'},\n",
            "    'region': <ee.geometry.Geometry object at 0x7f1811d852b0>,\n",
            "    'scale': 24.73766462070385}\n",
            "\n",
            " Map:\n",
            "\n"
          ],
          "name": "stdout"
        },
        {
          "output_type": "display_data",
          "data": {
            "text/html": [
              "<div style=\"width:100%;\"><div style=\"position:relative;width:100%;height:0;padding-bottom:60%;\"><span style=\"color:#565656\">Make this Notebook Trusted to load map: File -> Trust Notebook</span><iframe src=\"about:blank\" style=\"position:absolute;width:100%;height:100%;left:0;top:0;border:none !important;\" data-html=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 onload=\"this.contentDocument.open();this.contentDocument.write(atob(this.getAttribute('data-html')));this.contentDocument.close();\" allowfullscreen webkitallowfullscreen mozallowfullscreen></iframe></div></div>"
            ],
            "text/plain": [
              "<folium.folium.Map at 0x7f1811ddccf8>"
            ]
          },
          "metadata": {
            "tags": []
          }
        },
        {
          "output_type": "stream",
          "text": [
            "\n",
            "#######\n",
            "\n",
            "Name: gl_2015_distance\n",
            "\n",
            "Nominal scale: 24.73766462070385\n",
            "\n",
            "Distance image: {\n",
            "    \"type\": \"Image\",\n",
            "    \"bands\": [\n",
            "        {\n",
            "            \"id\": \"distance_m\",\n",
            "            \"data_type\": {\n",
            "                \"type\": \"PixelType\",\n",
            "                \"precision\": \"double\"\n",
            "            },\n",
            "            \"crs\": \"EPSG:4326\",\n",
            "            \"crs_transform\": [\n",
            "                0.00022222222222201014,\n",
            "                0,\n",
            "                -180,\n",
            "                0,\n",
            "                -0.00022222222222201014,\n",
            "                34\n",
            "            ]\n",
            "        }\n",
            "    ],\n",
            "    \"properties\": {\n",
            "        \"system:time_start\": {\n",
            "            \"type\": \"Date\",\n",
            "            \"value\": 1420070400000\n",
            "        },\n",
            "        \"units\": \"meters\"\n",
            "    }\n",
            "}\n",
            "\n",
            "Export params:\n",
            "\n",
            "{   'assetId': 'projects/global-mangrove-watch/land-cover/mangrove_extent_version_2-0_distance_1996-2016/gl_2015_distance',\n",
            "    'crs': 'EPSG:4326',\n",
            "    'description': 'export_gl_2015_distance',\n",
            "    'image': <ee.image.Image object at 0x7f1811dd7550>,\n",
            "    'maxPixels': 10000000000000.0,\n",
            "    'pyramidingPolicy': {'distance_m': 'mean'},\n",
            "    'region': <ee.geometry.Geometry object at 0x7f1811d852b0>,\n",
            "    'scale': 24.73766462070385}\n",
            "\n",
            " Map:\n",
            "\n"
          ],
          "name": "stdout"
        },
        {
          "output_type": "display_data",
          "data": {
            "text/html": [
              "<div style=\"width:100%;\"><div style=\"position:relative;width:100%;height:0;padding-bottom:60%;\"><span style=\"color:#565656\">Make this Notebook Trusted to load map: File -> Trust Notebook</span><iframe src=\"about:blank\" style=\"position:absolute;width:100%;height:100%;left:0;top:0;border:none !important;\" data-html=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 onload=\"this.contentDocument.open();this.contentDocument.write(atob(this.getAttribute('data-html')));this.contentDocument.close();\" allowfullscreen webkitallowfullscreen mozallowfullscreen></iframe></div></div>"
            ],
            "text/plain": [
              "<folium.folium.Map at 0x7f1811e2fd68>"
            ]
          },
          "metadata": {
            "tags": []
          }
        },
        {
          "output_type": "stream",
          "text": [
            "\n",
            "#######\n",
            "\n",
            "Name: gl_2016_distance\n",
            "\n",
            "Nominal scale: 24.73766462070385\n",
            "\n",
            "Distance image: {\n",
            "    \"type\": \"Image\",\n",
            "    \"bands\": [\n",
            "        {\n",
            "            \"id\": \"distance_m\",\n",
            "            \"data_type\": {\n",
            "                \"type\": \"PixelType\",\n",
            "                \"precision\": \"double\"\n",
            "            },\n",
            "            \"crs\": \"EPSG:4326\",\n",
            "            \"crs_transform\": [\n",
            "                0.00022222222222201014,\n",
            "                0,\n",
            "                -180,\n",
            "                0,\n",
            "                -0.00022222222222201014,\n",
            "                34\n",
            "            ]\n",
            "        }\n",
            "    ],\n",
            "    \"properties\": {\n",
            "        \"system:time_start\": {\n",
            "            \"type\": \"Date\",\n",
            "            \"value\": 1451606400000\n",
            "        },\n",
            "        \"units\": \"meters\"\n",
            "    }\n",
            "}\n",
            "\n",
            "Export params:\n",
            "\n",
            "{   'assetId': 'projects/global-mangrove-watch/land-cover/mangrove_extent_version_2-0_distance_1996-2016/gl_2016_distance',\n",
            "    'crs': 'EPSG:4326',\n",
            "    'description': 'export_gl_2016_distance',\n",
            "    'image': <ee.image.Image object at 0x7f1811dd79e8>,\n",
            "    'maxPixels': 10000000000000.0,\n",
            "    'pyramidingPolicy': {'distance_m': 'mean'},\n",
            "    'region': <ee.geometry.Geometry object at 0x7f1811d852b0>,\n",
            "    'scale': 24.73766462070385}\n",
            "\n",
            " Map:\n",
            "\n"
          ],
          "name": "stdout"
        },
        {
          "output_type": "display_data",
          "data": {
            "text/html": [
              "<div style=\"width:100%;\"><div style=\"position:relative;width:100%;height:0;padding-bottom:60%;\"><span style=\"color:#565656\">Make this Notebook Trusted to load map: File -> Trust Notebook</span><iframe src=\"about:blank\" style=\"position:absolute;width:100%;height:100%;left:0;top:0;border:none !important;\" data-html=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 onload=\"this.contentDocument.open();this.contentDocument.write(atob(this.getAttribute('data-html')));this.contentDocument.close();\" allowfullscreen webkitallowfullscreen mozallowfullscreen></iframe></div></div>"
            ],
            "text/plain": [
              "<folium.folium.Map at 0x7f1811e2f978>"
            ]
          },
          "metadata": {
            "tags": []
          }
        }
      ]
    },
    {
      "cell_type": "markdown",
      "metadata": {
        "id": "QLx3ndxSW3PO",
        "colab_type": "text"
      },
      "source": [
        "## Create API DataSet, Layers, and Metadata"
      ]
    },
    {
      "cell_type": "code",
      "metadata": {
        "id": "hQSeNYQVW_UP",
        "colab_type": "code",
        "colab": {
          "base_uri": "https://localhost:8080/",
          "height": 69
        },
        "outputId": "54fad49f-9909-467d-84e9-550377a79fd9"
      },
      "source": [
        "# Define parameters\n",
        "\n",
        "# asset path\n",
        "ee_asset_path = f\"projects/global-mangrove-watch/land-cover/mangrove-extent_version-2-0_1996--2016\"\n",
        "\n",
        "\n",
        "# get description\n",
        "copy_gcs([\"gs://mangrove_atlas/land-cover/mangrove-extent_version-2-0_1996--2016_description.md\"], [\".\"])\n",
        "with open(\"mangrove-extent_version-2-0_1996--2016_description.md\", \"r\") as f:\n",
        "  description = f.read()\n",
        "\n",
        "# set collection properties (these are compatible with Skydipper.Dataset.Metadata)\n",
        "collection_properties = {\n",
        "    'name': \"Global extent of mangrove forests\",\n",
        "    'version': \"2.0\",\n",
        "    'creator': \"Global Mangrove Watch (GMW): Aberystwyth University/soloEO/Wetlands International/UNEP-WCMC/JAXA/DOB Ecology\",\n",
        "    'description': description,\n",
        "    'identifier': \"\",\n",
        "    'keywords': \"Erosion; Coasts; Natural Infrastructure; Biodiversity; Blue Carbon; Forests; Mangroves; Landcover\",\n",
        "    'citation': \"Bunting, Pete, Ake Rosenqvist, Richard M. Lucas, Lisa-Maria Rebelo, Lammert Hilarides, Nathan Thomas, Andy Hardy, Takuya Itoh, Masanobu Shimada, and C. Max Finlayson. “The Global Mangrove Watch—A New 2010 Global Baseline of Mangrove Extent.” Remote Sensing 10, no. 10 (October 2018): 1669. doi: 10.3390/rs10101669.\",\n",
        "    'license': \"https://creativecommons.org/licenses/by/4.0/\",\n",
        "    'url': \"\",\n",
        "    'language': 'en', \n",
        "    'altName': \"Global Mangrove Watch, Version 2.0\",\n",
        "    'distribution': \"\",\n",
        "    'variableMeasured': \"Presence of mangrove forest habitat\",\n",
        "    'units': \"1\",\n",
        "    'spatialCoverage': \"Global tropics\",\n",
        "    'temporalCoverage': \"1996--2016\",\n",
        "    'dataLineage': \"Raster data supplied by Aberystwyth University (Dr. Dave Bunting) as tilesets per year, each tilset was combined, and added to Google earth engine as multi-temporal ImageCollection.\"\n",
        "}\n",
        "\n",
        "# set individual image properties (minimal)\n",
        "image_properties = {\n",
        "    \"band_nodata_values\": 0,\n",
        "    \"band_pyramiding_policies\": \"mode\",\n",
        "    \"band_names\": \"lc\"\n",
        "}\n",
        "\n"
      ],
      "execution_count": 50,
      "outputs": [
        {
          "output_type": "stream",
          "text": [
            "Processing: gsutil -m cp -r  gs://mangrove_atlas/land-cover/mangrove-extent_version-2-0_1996--2016_description.md .\n",
            "Task created\n",
            "Finished copy\n"
          ],
          "name": "stdout"
        }
      ]
    },
    {
      "cell_type": "code",
      "metadata": {
        "colab_type": "code",
        "id": "egwjiTE0W8Y1",
        "colab": {}
      },
      "source": [
        "import Skydipper as sky"
      ],
      "execution_count": null,
      "outputs": []
    },
    {
      "cell_type": "code",
      "metadata": {
        "id": "7D-w59M7ykXU",
        "colab_type": "code",
        "colab": {}
      },
      "source": [
        "sky_application = ['mangroveAtlas']"
      ],
      "execution_count": null,
      "outputs": []
    },
    {
      "cell_type": "markdown",
      "metadata": {
        "colab_type": "text",
        "id": "S8s_MSbJW8Yz"
      },
      "source": [
        "### Create Sky API dataset"
      ]
    },
    {
      "cell_type": "code",
      "metadata": {
        "colab_type": "code",
        "id": "3s-KZiF5W8Y7",
        "colab": {
          "base_uri": "https://localhost:8080/",
          "height": 69
        },
        "outputId": "f775bf93-4780-41dc-de1d-e91f01c82373"
      },
      "source": [
        "atts = { \n",
        "    'name': collection_properties.get(\"name\"),\n",
        "    'application': sky_application,\n",
        "    'connectorType': 'rest',\n",
        "    'provider': 'gee',\n",
        "    'tableName': ee_asset_path,\n",
        "    'env': 'production'\n",
        "}\n",
        "#print(atts)\n",
        "ds = sky.Dataset(attributes=atts)\n",
        "print(ds)\n"
      ],
      "execution_count": null,
      "outputs": [
        {
          "output_type": "stream",
          "text": [
            "Please enter your the email address associated with your Skydipper accountedward.morris@vizzuality.com\n",
            "Please enter your Skydipper passwordGjG;g9TaX4k61=!&qVQ2!_ihU3\n",
            "Dataset dcbfe233-d24c-4c86-8027-86575d2ecb12 Global extent of mangrove forests\n"
          ],
          "name": "stdout"
        }
      ]
    },
    {
      "cell_type": "markdown",
      "metadata": {
        "id": "mM7-CPSRxTWu",
        "colab_type": "text"
      },
      "source": [
        "### Create Dataset Metadata"
      ]
    },
    {
      "cell_type": "code",
      "metadata": {
        "id": "h4JlJjrKw1p8",
        "colab_type": "code",
        "colab": {
          "base_uri": "https://localhost:8080/",
          "height": 107
        },
        "outputId": "455cf543-6531-423e-8385-2ba5a2539890"
      },
      "source": [
        "ds = sky.Dataset(\"dcbfe233-d24c-4c86-8027-86575d2ecb12\")\n",
        "ds"
      ],
      "execution_count": null,
      "outputs": [
        {
          "output_type": "execute_result",
          "data": {
            "text/html": [
              "<div class='item_container' style='height: auto; overflow: hidden; border: 1px solid #2BA4A0;border-radius: 2px; background: #2BA4A0; line-height: 1.21429em; padding: 10px;''><div class='item_left' style='width: 210px; float: left;''><a href='https://skydipper.com/' target='_blank'><img class='itemThumbnail' src='https://skydipper.com/images/logo.png'></a></div><div class='item_right' style='float: none; width: auto; hidden;padding-left: 10px; overflow: hidden;''><a href=https://api.skydipper.com/v1/dataset/dcbfe233-d24c-4c86-8027-86575d2ecb12?includes=metadata,layer target='_blank'><b>Global extent of mangrove forests</b></a><br> GEE asset: <a href='https://code.earthengine.google.com/asset='projects/global-mangrove-watch/land-cover/mangrove-extent_version-2-0_1996--2016 target='_blank'>projects/global-mangrove-watch/land-cover/mangrove-extent_version-2-0_1996--2016</a> | Dataset in MANGROVEATLAS.<br>Last Modified: 2020-06-13T17:55:44.047Z<br><a href='https://api.skydipper.com/v1/fields/dcbfe233-d24c-4c86-8027-86575d2ecb12' target='_blank'>Fields</a> Connector: gee | Published: True </div> </div>"
            ],
            "text/plain": [
              "Dataset dcbfe233-d24c-4c86-8027-86575d2ecb12 Global extent of mangrove forests"
            ]
          },
          "metadata": {
            "tags": []
          },
          "execution_count": 19
        }
      ]
    },
    {
      "cell_type": "code",
      "metadata": {
        "id": "LQrdckj9GjAP",
        "colab_type": "code",
        "colab": {}
      },
      "source": [
        "sky.Metadata()"
      ],
      "execution_count": null,
      "outputs": []
    },
    {
      "cell_type": "code",
      "metadata": {
        "id": "O-mhVevVySKu",
        "colab_type": "code",
        "colab": {
          "base_uri": "https://localhost:8080/",
          "height": 382
        },
        "outputId": "b9b6130a-ff54-4b5b-85cf-b4bce6a374e7"
      },
      "source": [
        "import requests\n",
        "import json\n",
        "\n",
        "\n",
        "dataset_id = \"dcbfe233-d24c-4c86-8027-86575d2ecb12\"\n",
        "payload = {\n",
        "\"application\": [\"mangroveAtlas\"],\n",
        "\"language\": \"en\",\n",
        "\"name\": \"global-extent-of-mangrove-forests-version-2-0\",\n",
        "\"altName\": \"<String>\",\n",
        "\"description\": \"<String>, required\",\n",
        "\"keywords\": \"<Array>, required\",\n",
        "\"creator\": \"<String>\",\n",
        "\"license\": \"<String>\",\n",
        "\"source\": \"<String>\",\n",
        "\"url\": \"<String>\",\n",
        "\"citation\": \"<String>\",\n",
        "\"distribution\": \"<Object>\",\n",
        "\"identifier\": \"<String>\",\n",
        "\"variableMeasured\": \"<Object> or <String>\",\n",
        "\"units\": \"<Object>\",\n",
        "\"version\": \"<String>\",\n",
        "\"spatialCoverage\": \"<Object> or <String>\",\n",
        "\"temporalCoverage\": \"<Object> or <String>\",\n",
        "\"dataLineage\": \"<Object> or <String>\",\n",
        "\"info\": \"<Object>\",\n",
        "\"fields\": \"<Object>\",\n",
        "\"status\": \"published\"\n",
        "}\n",
        "\n",
        "payload = {\n",
        "   \"application\": \"mangroveAtlas\",\n",
        "   \"language\": \"en\"\n",
        "}\n",
        "payload = json.dumps(payload)\n",
        "print(payload)\n",
        "url = f'{base_url}/v1/dataset/{dataset_id}/metadata'\n",
        "r = requests.post(url, json=payload, headers=headers)\n",
        "print(r.url)\n",
        "print(r.status_code)\n",
        "print(r.json())"
      ],
      "execution_count": null,
      "outputs": [
        {
          "output_type": "stream",
          "text": [
            "{\"application\": \"mangroveAtlas\", \"language\": \"en\"}\n",
            "https://api.skydipper.com/v1/dataset/dcbfe233-d24c-4c86-8027-86575d2ecb12/metadata\n",
            "400\n"
          ],
          "name": "stdout"
        },
        {
          "output_type": "error",
          "ename": "JSONDecodeError",
          "evalue": "ignored",
          "traceback": [
            "\u001b[0;31m---------------------------------------------------------------------------\u001b[0m",
            "\u001b[0;31mJSONDecodeError\u001b[0m                           Traceback (most recent call last)",
            "\u001b[0;32m<ipython-input-47-5693dd3a9d58>\u001b[0m in \u001b[0;36m<module>\u001b[0;34m()\u001b[0m\n\u001b[1;32m     39\u001b[0m \u001b[0mprint\u001b[0m\u001b[0;34m(\u001b[0m\u001b[0mr\u001b[0m\u001b[0;34m.\u001b[0m\u001b[0murl\u001b[0m\u001b[0;34m)\u001b[0m\u001b[0;34m\u001b[0m\u001b[0;34m\u001b[0m\u001b[0m\n\u001b[1;32m     40\u001b[0m \u001b[0mprint\u001b[0m\u001b[0;34m(\u001b[0m\u001b[0mr\u001b[0m\u001b[0;34m.\u001b[0m\u001b[0mstatus_code\u001b[0m\u001b[0;34m)\u001b[0m\u001b[0;34m\u001b[0m\u001b[0;34m\u001b[0m\u001b[0m\n\u001b[0;32m---> 41\u001b[0;31m \u001b[0mprint\u001b[0m\u001b[0;34m(\u001b[0m\u001b[0mr\u001b[0m\u001b[0;34m.\u001b[0m\u001b[0mjson\u001b[0m\u001b[0;34m(\u001b[0m\u001b[0;34m)\u001b[0m\u001b[0;34m)\u001b[0m\u001b[0;34m\u001b[0m\u001b[0;34m\u001b[0m\u001b[0m\n\u001b[0m",
            "\u001b[0;32m/usr/local/lib/python3.6/dist-packages/requests/models.py\u001b[0m in \u001b[0;36mjson\u001b[0;34m(self, **kwargs)\u001b[0m\n\u001b[1;32m    896\u001b[0m                     \u001b[0;31m# used.\u001b[0m\u001b[0;34m\u001b[0m\u001b[0;34m\u001b[0m\u001b[0;34m\u001b[0m\u001b[0m\n\u001b[1;32m    897\u001b[0m                     \u001b[0;32mpass\u001b[0m\u001b[0;34m\u001b[0m\u001b[0;34m\u001b[0m\u001b[0m\n\u001b[0;32m--> 898\u001b[0;31m         \u001b[0;32mreturn\u001b[0m \u001b[0mcomplexjson\u001b[0m\u001b[0;34m.\u001b[0m\u001b[0mloads\u001b[0m\u001b[0;34m(\u001b[0m\u001b[0mself\u001b[0m\u001b[0;34m.\u001b[0m\u001b[0mtext\u001b[0m\u001b[0;34m,\u001b[0m \u001b[0;34m**\u001b[0m\u001b[0mkwargs\u001b[0m\u001b[0;34m)\u001b[0m\u001b[0;34m\u001b[0m\u001b[0;34m\u001b[0m\u001b[0m\n\u001b[0m\u001b[1;32m    899\u001b[0m \u001b[0;34m\u001b[0m\u001b[0m\n\u001b[1;32m    900\u001b[0m     \u001b[0;34m@\u001b[0m\u001b[0mproperty\u001b[0m\u001b[0;34m\u001b[0m\u001b[0;34m\u001b[0m\u001b[0m\n",
            "\u001b[0;32m/usr/lib/python3.6/json/__init__.py\u001b[0m in \u001b[0;36mloads\u001b[0;34m(s, encoding, cls, object_hook, parse_float, parse_int, parse_constant, object_pairs_hook, **kw)\u001b[0m\n\u001b[1;32m    352\u001b[0m             \u001b[0mparse_int\u001b[0m \u001b[0;32mis\u001b[0m \u001b[0;32mNone\u001b[0m \u001b[0;32mand\u001b[0m \u001b[0mparse_float\u001b[0m \u001b[0;32mis\u001b[0m \u001b[0;32mNone\u001b[0m \u001b[0;32mand\u001b[0m\u001b[0;34m\u001b[0m\u001b[0;34m\u001b[0m\u001b[0m\n\u001b[1;32m    353\u001b[0m             parse_constant is None and object_pairs_hook is None and not kw):\n\u001b[0;32m--> 354\u001b[0;31m         \u001b[0;32mreturn\u001b[0m \u001b[0m_default_decoder\u001b[0m\u001b[0;34m.\u001b[0m\u001b[0mdecode\u001b[0m\u001b[0;34m(\u001b[0m\u001b[0ms\u001b[0m\u001b[0;34m)\u001b[0m\u001b[0;34m\u001b[0m\u001b[0;34m\u001b[0m\u001b[0m\n\u001b[0m\u001b[1;32m    355\u001b[0m     \u001b[0;32mif\u001b[0m \u001b[0mcls\u001b[0m \u001b[0;32mis\u001b[0m \u001b[0;32mNone\u001b[0m\u001b[0;34m:\u001b[0m\u001b[0;34m\u001b[0m\u001b[0;34m\u001b[0m\u001b[0m\n\u001b[1;32m    356\u001b[0m         \u001b[0mcls\u001b[0m \u001b[0;34m=\u001b[0m \u001b[0mJSONDecoder\u001b[0m\u001b[0;34m\u001b[0m\u001b[0;34m\u001b[0m\u001b[0m\n",
            "\u001b[0;32m/usr/lib/python3.6/json/decoder.py\u001b[0m in \u001b[0;36mdecode\u001b[0;34m(self, s, _w)\u001b[0m\n\u001b[1;32m    337\u001b[0m \u001b[0;34m\u001b[0m\u001b[0m\n\u001b[1;32m    338\u001b[0m         \"\"\"\n\u001b[0;32m--> 339\u001b[0;31m         \u001b[0mobj\u001b[0m\u001b[0;34m,\u001b[0m \u001b[0mend\u001b[0m \u001b[0;34m=\u001b[0m \u001b[0mself\u001b[0m\u001b[0;34m.\u001b[0m\u001b[0mraw_decode\u001b[0m\u001b[0;34m(\u001b[0m\u001b[0ms\u001b[0m\u001b[0;34m,\u001b[0m \u001b[0midx\u001b[0m\u001b[0;34m=\u001b[0m\u001b[0m_w\u001b[0m\u001b[0;34m(\u001b[0m\u001b[0ms\u001b[0m\u001b[0;34m,\u001b[0m \u001b[0;36m0\u001b[0m\u001b[0;34m)\u001b[0m\u001b[0;34m.\u001b[0m\u001b[0mend\u001b[0m\u001b[0;34m(\u001b[0m\u001b[0;34m)\u001b[0m\u001b[0;34m)\u001b[0m\u001b[0;34m\u001b[0m\u001b[0;34m\u001b[0m\u001b[0m\n\u001b[0m\u001b[1;32m    340\u001b[0m         \u001b[0mend\u001b[0m \u001b[0;34m=\u001b[0m \u001b[0m_w\u001b[0m\u001b[0;34m(\u001b[0m\u001b[0ms\u001b[0m\u001b[0;34m,\u001b[0m \u001b[0mend\u001b[0m\u001b[0;34m)\u001b[0m\u001b[0;34m.\u001b[0m\u001b[0mend\u001b[0m\u001b[0;34m(\u001b[0m\u001b[0;34m)\u001b[0m\u001b[0;34m\u001b[0m\u001b[0;34m\u001b[0m\u001b[0m\n\u001b[1;32m    341\u001b[0m         \u001b[0;32mif\u001b[0m \u001b[0mend\u001b[0m \u001b[0;34m!=\u001b[0m \u001b[0mlen\u001b[0m\u001b[0;34m(\u001b[0m\u001b[0ms\u001b[0m\u001b[0;34m)\u001b[0m\u001b[0;34m:\u001b[0m\u001b[0;34m\u001b[0m\u001b[0;34m\u001b[0m\u001b[0m\n",
            "\u001b[0;32m/usr/lib/python3.6/json/decoder.py\u001b[0m in \u001b[0;36mraw_decode\u001b[0;34m(self, s, idx)\u001b[0m\n\u001b[1;32m    355\u001b[0m             \u001b[0mobj\u001b[0m\u001b[0;34m,\u001b[0m \u001b[0mend\u001b[0m \u001b[0;34m=\u001b[0m \u001b[0mself\u001b[0m\u001b[0;34m.\u001b[0m\u001b[0mscan_once\u001b[0m\u001b[0;34m(\u001b[0m\u001b[0ms\u001b[0m\u001b[0;34m,\u001b[0m \u001b[0midx\u001b[0m\u001b[0;34m)\u001b[0m\u001b[0;34m\u001b[0m\u001b[0;34m\u001b[0m\u001b[0m\n\u001b[1;32m    356\u001b[0m         \u001b[0;32mexcept\u001b[0m \u001b[0mStopIteration\u001b[0m \u001b[0;32mas\u001b[0m \u001b[0merr\u001b[0m\u001b[0;34m:\u001b[0m\u001b[0;34m\u001b[0m\u001b[0;34m\u001b[0m\u001b[0m\n\u001b[0;32m--> 357\u001b[0;31m             \u001b[0;32mraise\u001b[0m \u001b[0mJSONDecodeError\u001b[0m\u001b[0;34m(\u001b[0m\u001b[0;34m\"Expecting value\"\u001b[0m\u001b[0;34m,\u001b[0m \u001b[0ms\u001b[0m\u001b[0;34m,\u001b[0m \u001b[0merr\u001b[0m\u001b[0;34m.\u001b[0m\u001b[0mvalue\u001b[0m\u001b[0;34m)\u001b[0m \u001b[0;32mfrom\u001b[0m \u001b[0;32mNone\u001b[0m\u001b[0;34m\u001b[0m\u001b[0;34m\u001b[0m\u001b[0m\n\u001b[0m\u001b[1;32m    358\u001b[0m         \u001b[0;32mreturn\u001b[0m \u001b[0mobj\u001b[0m\u001b[0;34m,\u001b[0m \u001b[0mend\u001b[0m\u001b[0;34m\u001b[0m\u001b[0;34m\u001b[0m\u001b[0m\n",
            "\u001b[0;31mJSONDecodeError\u001b[0m: Expecting value: line 1 column 1 (char 0)"
          ]
        }
      ]
    },
    {
      "cell_type": "markdown",
      "metadata": {
        "id": "ELUKDE1OxmqN",
        "colab_type": "text"
      },
      "source": [
        "### Create Dataset Layers"
      ]
    },
    {
      "cell_type": "markdown",
      "metadata": {
        "id": "Rfh1u9Q60pDz",
        "colab_type": "text"
      },
      "source": [
        "## Clean up\n",
        "\n",
        "+ remove data from tmp dir\n",
        "+ remove ee.Image.collection"
      ]
    },
    {
      "cell_type": "code",
      "metadata": {
        "id": "bpTLMasC02MM",
        "colab_type": "code",
        "colab": {}
      },
      "source": [
        "#!gsutil -m rm -r -q {gcs_tmp_path}/*.tif"
      ],
      "execution_count": null,
      "outputs": []
    },
    {
      "cell_type": "code",
      "metadata": {
        "id": "T2-RlLRJ1HOw",
        "colab_type": "code",
        "colab": {}
      },
      "source": [
        "#!earthengine --no-use_cloud_api rm -r {asset_path}"
      ],
      "execution_count": null,
      "outputs": []
    }
  ]
}