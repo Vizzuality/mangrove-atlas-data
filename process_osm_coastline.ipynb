{
  "nbformat": 4,
  "nbformat_minor": 0,
  "metadata": {
    "colab": {
      "name": "process_osm_coastline.ipynb",
      "provenance": [],
      "collapsed_sections": [],
      "toc_visible": true,
      "mount_file_id": "1zpQeIiLd63-QKp02MAfFTa7yTRGIDcEo",
      "authorship_tag": "ABX9TyPwz23DUmPw7HrHTPOnpQ6Q",
      "include_colab_link": true
    },
    "kernelspec": {
      "name": "python3",
      "display_name": "Python 3"
    }
  },
  "cells": [
    {
      "cell_type": "markdown",
      "metadata": {
        "id": "view-in-github",
        "colab_type": "text"
      },
      "source": [
        "<a href=\"https://colab.research.google.com/github/Vizzuality/mangrove-atlas-data/blob/master/process_osm_coastline.ipynb\" target=\"_parent\"><img src=\"https://colab.research.google.com/assets/colab-badge.svg\" alt=\"Open In Colab\"/></a>"
      ]
    },
    {
      "cell_type": "markdown",
      "metadata": {
        "id": "RTLRdjsHkjtl",
        "colab_type": "text"
      },
      "source": [
        "# Prepare data for the mangrove-atlas project\n",
        "\n",
        "https://github.com/Vizzuality/mangrove-atlas-data\n",
        "\n",
        "`Edward P. Morris (vizzuality.)`\n",
        "\n",
        "## Description\n",
        "This notebook gets the latest OSM coastline dataset and uploads it to earthengine. \n",
        "\n",
        "```\n",
        "MIT License\n",
        "\n",
        "Copyright (c) 2020 Vizzuality\n",
        "\n",
        "Permission is hereby granted, free of charge, to any person obtaining a copy\n",
        "of this software and associated documentation files (the \"Software\"), to deal\n",
        "in the Software without restriction, including without limitation the rights\n",
        "to use, copy, modify, merge, publish, distribute, sublicense, and/or sell\n",
        "copies of the Software, and to permit persons to whom the Software is\n",
        "furnished to do so, subject to the following conditions:\n",
        "\n",
        "The above copyright notice and this permission notice shall be included in all\n",
        "copies or substantial portions of the Software.\n",
        "\n",
        "THE SOFTWARE IS PROVIDED \"AS IS\", WITHOUT WARRANTY OF ANY KIND, EXPRESS OR\n",
        "IMPLIED, INCLUDING BUT NOT LIMITED TO THE WARRANTIES OF MERCHANTABILITY,\n",
        "FITNESS FOR A PARTICULAR PURPOSE AND NONINFRINGEMENT. IN NO EVENT SHALL THE\n",
        "AUTHORS OR COPYRIGHT HOLDERS BE LIABLE FOR ANY CLAIM, DAMAGES OR OTHER\n",
        "LIABILITY, WHETHER IN AN ACTION OF CONTRACT, TORT OR OTHERWISE, ARISING FROM,\n",
        "OUT OF OR IN CONNECTION WITH THE SOFTWARE OR THE USE OR OTHER DEALINGS IN THE\n",
        "SOFTWARE.\n",
        "```"
      ]
    },
    {
      "cell_type": "markdown",
      "metadata": {
        "id": "uKARM1_f3Ccg",
        "colab_type": "text"
      },
      "source": [
        "# Setup\n",
        "\n",
        "Instructions for setting up the computing environment."
      ]
    },
    {
      "cell_type": "code",
      "metadata": {
        "id": "5f327xg8JujU",
        "colab_type": "code",
        "colab": {}
      },
      "source": [
        "%%bash\n",
        "# Remove sample_data\n",
        "rm -r sample_data"
      ],
      "execution_count": null,
      "outputs": []
    },
    {
      "cell_type": "markdown",
      "metadata": {
        "id": "FjdjX-Vc3LVK",
        "colab_type": "text"
      },
      "source": [
        "## Linux dependencies\n",
        "\n",
        "Instructions for adding linux (including node, ect.) system packages. "
      ]
    },
    {
      "cell_type": "code",
      "metadata": {
        "id": "-5S4mxFswFUs",
        "colab_type": "code",
        "colab": {}
      },
      "source": [
        "%%bash\n",
        "#apt install -q -y [package-name]\n",
        "#npm install -g [package-name]"
      ],
      "execution_count": null,
      "outputs": []
    },
    {
      "cell_type": "markdown",
      "metadata": {
        "id": "LGWeJje13Tcw",
        "colab_type": "text"
      },
      "source": [
        "## Python packages"
      ]
    },
    {
      "cell_type": "code",
      "metadata": {
        "id": "U53feFohKqnU",
        "colab_type": "code",
        "colab": {}
      },
      "source": [
        "%%bash\n",
        "#pip install -q [package-name]"
      ],
      "execution_count": null,
      "outputs": []
    },
    {
      "cell_type": "code",
      "metadata": {
        "id": "8s7-DYbxjesM",
        "colab_type": "code",
        "colab": {}
      },
      "source": [
        "# Show python package versions\n",
        "#!pip list"
      ],
      "execution_count": null,
      "outputs": []
    },
    {
      "cell_type": "markdown",
      "metadata": {
        "id": "IK4kYzml3bDD",
        "colab_type": "text"
      },
      "source": [
        "## Authorisation\n",
        "\n",
        "Setting up connections and authorisation to cloud services."
      ]
    },
    {
      "cell_type": "markdown",
      "metadata": {
        "id": "T7jp5JdFrxGm",
        "colab_type": "text"
      },
      "source": [
        "### Google Cloud\n",
        "\n",
        "This can be done in the URL or via adding service account credentials.\n",
        "\n",
        "If you do not share the notebook, you can mount your Drive and and transfer credentials to disk. Note if the notebook is shared you always need to authenticate via URL.  "
      ]
    },
    {
      "cell_type": "code",
      "metadata": {
        "id": "pIeVojTV21Nr",
        "colab_type": "code",
        "colab": {}
      },
      "source": [
        "# Set the Google Cloud project id\n",
        "project_id = \"mangrove-atlas-246414\"\n",
        "gc_creds = \"mangrove-atlas-246414-2f33cc439deb.json\"\n",
        "username = \"edward-morris-vizzuality-com-d@mangrove-atlas-246414.iam.gserviceaccount.com\"\n",
        "gcs_prefix = \"gs://mangrove_atlas\""
      ],
      "execution_count": null,
      "outputs": []
    },
    {
      "cell_type": "code",
      "metadata": {
        "colab_type": "code",
        "id": "oY_ymKY_oIY8",
        "colab": {}
      },
      "source": [
        "# For auth WITHOUT service account\n",
        "# https://cloud.google.com/resource-manager/docs/creating-managing-projects\n",
        "#from google.colab import auth\n",
        "#auth.authenticate_user()\n",
        "#!gcloud config set project {project_id}"
      ],
      "execution_count": null,
      "outputs": []
    },
    {
      "cell_type": "code",
      "metadata": {
        "id": "7akT-7lZ9x3R",
        "colab_type": "code",
        "colab": {}
      },
      "source": [
        "# If the notebook is shared\n",
        "#from google.colab import drive\n",
        "#drive.mount('/content/drive')"
      ],
      "execution_count": null,
      "outputs": []
    },
    {
      "cell_type": "code",
      "metadata": {
        "colab_type": "code",
        "id": "dCFS8FOnzScr",
        "colab": {}
      },
      "source": [
        "# If Drive is mounted, copy GC credentials to home (place in your GDrive, and connect Drive)\n",
        "!cp \"/content/drive/My Drive/{gc_creds}\" \"/root/.{gc_creds}\""
      ],
      "execution_count": null,
      "outputs": []
    },
    {
      "cell_type": "code",
      "metadata": {
        "colab_type": "code",
        "id": "03Tbqeq9zSc0",
        "colab": {
          "base_uri": "https://localhost:8080/",
          "height": 34
        },
        "outputId": "2cced12d-dc4a-429b-81e9-0fb46de0c4bb"
      },
      "source": [
        "# Auth WITH service account\n",
        "!gcloud auth activate-service-account {username} --key-file=/root/.{gc_creds} --project={project_id}"
      ],
      "execution_count": null,
      "outputs": [
        {
          "output_type": "stream",
          "text": [
            "Activated service account credentials for: [edward-morris-vizzuality-com-d@mangrove-atlas-246414.iam.gserviceaccount.com]\n"
          ],
          "name": "stdout"
        }
      ]
    },
    {
      "cell_type": "code",
      "metadata": {
        "colab_type": "code",
        "id": "PA4tPZ4-zSc9",
        "colab": {
          "base_uri": "https://localhost:8080/",
          "height": 295
        },
        "outputId": "89e097f1-b223-4909-fdf2-fd369a9dfdbd"
      },
      "source": [
        "# Test GC auth\n",
        "!gsutil ls {gcs_prefix}"
      ],
      "execution_count": null,
      "outputs": [
        {
          "output_type": "stream",
          "text": [
            "gs://mangrove_atlas/wdpa_geometry_types_.csv\n",
            "gs://mangrove_atlas/./\n",
            "gs://mangrove_atlas//\n",
            "gs://mangrove_atlas/boundaries/\n",
            "gs://mangrove_atlas/deforestation-alerts/\n",
            "gs://mangrove_atlas/ee-export-tables/\n",
            "gs://mangrove_atlas/ee-upload-manifests/\n",
            "gs://mangrove_atlas/elevation/\n",
            "gs://mangrove_atlas/environmental-pressures/\n",
            "gs://mangrove_atlas/gadm-eez.zarr/\n",
            "gs://mangrove_atlas/land-cover/\n",
            "gs://mangrove_atlas/mangrove-properties/\n",
            "gs://mangrove_atlas/orthoimagery/\n",
            "gs://mangrove_atlas/physical-environment/\n",
            "gs://mangrove_atlas/tilesets/\n",
            "gs://mangrove_atlas/tmp/\n"
          ],
          "name": "stdout"
        }
      ]
    },
    {
      "cell_type": "markdown",
      "metadata": {
        "id": "Vb3bFXTp0JFz",
        "colab_type": "text"
      },
      "source": [
        "# Utils\n",
        "\n",
        "Generic helper functions used in the subsequent processing. For easy navigation each function seperated into a section with the function name."
      ]
    },
    {
      "cell_type": "markdown",
      "metadata": {
        "id": "-l-NVtcE8KdV",
        "colab_type": "text"
      },
      "source": [
        "## copy_gcs"
      ]
    },
    {
      "cell_type": "code",
      "metadata": {
        "id": "h1KygWllicHk",
        "colab_type": "code",
        "colab": {}
      },
      "source": [
        "import os\n",
        "import subprocess\n",
        "\n",
        "def copy_gcs(source_list, dest_list, opts=\"\"):\n",
        "  \"\"\"\n",
        "  Use gsutil to copy each corresponding item in source_list\n",
        "  to dest_list.\n",
        "\n",
        "  Example:\n",
        "  copy_gcs([\"gs://my-bucket/data-file.csv\"], [\".\"])\n",
        "\n",
        "  \"\"\"\n",
        "  for s, d  in zip(source_list, dest_list):\n",
        "    cmd = f\"gsutil -m cp -r {opts} {s} {d}\"\n",
        "    print(f\"Processing: {cmd}\")\n",
        "    r = subprocess.call(cmd, shell=True)\n",
        "    if r == 0:\n",
        "        print(\"Task created\")\n",
        "    else:\n",
        "        print(\"Task failed\")\n",
        "  print(\"Finished copy\")"
      ],
      "execution_count": null,
      "outputs": []
    },
    {
      "cell_type": "markdown",
      "metadata": {
        "id": "SvuHApF0NzUu",
        "colab_type": "text"
      },
      "source": [
        "## gee_upload_zip_to_table"
      ]
    },
    {
      "cell_type": "code",
      "metadata": {
        "id": "8hqa3aPjNmKt",
        "colab_type": "code",
        "colab": {}
      },
      "source": [
        "def gee_upload_zip_to_table(file_path, asset_path, time_start, force=True, append_txt=\"\", properties={}):\n",
        "    '''Given a GCS file path and a GEE asset path\n",
        "       Create, and push to all zipped shapefiles + metadata to MANY Table assets\n",
        "    '''\n",
        "    # Format arguments\n",
        "    f = \"\"\n",
        "    if force:\n",
        "      f = \"--force\"\n",
        "    ts = f\"--time_start={time_start}\"\n",
        "    p = \"\"\n",
        "    if len(properties) > 0:\n",
        "      p = [\"--property='{0}={1}'\".format(key, value) for key, value in properties.items()]\n",
        "      p = \" \".join(p) \n",
        "    args = \"{0} {1} {2} \".format(f, ts, p)\n",
        "    \n",
        "    asset_id = os.path.splitext(os.path.basename(file_path))[0]\n",
        "    print(\"Processing {0}\".format(asset_id))\n",
        "    cmd = \"earthengine --no-use_cloud_api upload table --asset_id={0}/{1}{2} {3} {4}\".format(asset_path, asset_id, append_txt, args, file_path)\n",
        "    print(cmd)\n",
        "    r = subprocess.call(cmd, shell=True)\n",
        "    if r == 0:\n",
        "        print(\"Task created\")\n",
        "    else:\n",
        "        print(\"Task failed\")\n",
        "    print(\"Finished upload\")"
      ],
      "execution_count": null,
      "outputs": []
    },
    {
      "cell_type": "markdown",
      "metadata": {
        "id": "YEDFlsEKSDgD",
        "colab_type": "text"
      },
      "source": [
        "## gee_update_asset_properties"
      ]
    },
    {
      "cell_type": "code",
      "metadata": {
        "id": "OOeu7KSVSCp2",
        "colab_type": "code",
        "colab": {}
      },
      "source": [
        "import subprocess\n",
        "import json\n",
        "\n",
        "def gee_update_asset_properties(asset_path, properties = {}, time_start=None, time_end=None, dry_run=False):\n",
        "  \n",
        "  # Format arguments\n",
        "  ts = \"\"\n",
        "  if time_start:\n",
        "    ts = f\"--time_start={time_start}\"\n",
        "  te = \"\"\n",
        "  if time_end:\n",
        "    te = f\"--time_end={time_end}\"  \n",
        "  p = \"\"\n",
        "  if len(properties) > 0:\n",
        "    p = [f\"--property={key}={json.dumps(value)}\" for key, value in properties.items()]\n",
        "    p = \" \".join(p) \n",
        "  args = f\"{ts} {te} {p}\"\n",
        "\n",
        "  # Update asset\n",
        "  cmd = f\"earthengine --no-use_cloud_api asset set {args} {asset_path}\"\n",
        "  if dry_run:\n",
        "    print(cmd)\n",
        "  else:\n",
        "    r = subprocess.call(cmd, shell=True)\n",
        "    if r == 0:\n",
        "      print(f\"\\nUpdated properties for asset: {asset_path}\\n\")\n",
        "      cmd = f\"earthengine --no-use_cloud_api asset info {asset_path}\"\n",
        "      out = subprocess.check_output(cmd, shell=True).decode('utf8')\n",
        "      print(out)\n",
        "    else:\n",
        "      print(\"Task failed\")\n",
        "      print(cmd)\n"
      ],
      "execution_count": null,
      "outputs": []
    },
    {
      "cell_type": "markdown",
      "metadata": {
        "id": "znTxKmqeuQz3",
        "colab_type": "text"
      },
      "source": [
        "## folium_add_ee_layer"
      ]
    },
    {
      "cell_type": "code",
      "metadata": {
        "id": "yX6S5wQ7twBt",
        "colab_type": "code",
        "colab": {}
      },
      "source": [
        "# Import libraries.\n",
        "import ee\n",
        "import folium\n",
        "\n",
        "# Define a method for displaying Earth Engine image tiles to folium map.\n",
        "def add_ee_layer(self, ee_image_object, vis_params, name):\n",
        "  map_id_dict = ee.Image(ee_image_object).getMapId(vis_params)\n",
        "  folium.raster_layers.TileLayer(\n",
        "    tiles = map_id_dict['tile_fetcher'].url_format,\n",
        "    attr = \"Map Data © Google Earth Engine\",\n",
        "    name = name,\n",
        "    overlay = True,\n",
        "    control = True\n",
        "  ).add_to(self)\n",
        "\n",
        "# Add EE drawing method to folium.\n",
        "folium.Map.add_ee_layer = add_ee_layer"
      ],
      "execution_count": null,
      "outputs": []
    },
    {
      "cell_type": "markdown",
      "metadata": {
        "id": "GBPS3DALtie0",
        "colab_type": "text"
      },
      "source": [
        "# Processing\n",
        "\n",
        "Data processing organised into sections."
      ]
    },
    {
      "cell_type": "markdown",
      "metadata": {
        "id": "jMBZ7SwItthj",
        "colab_type": "text"
      },
      "source": [
        "## Get datasets"
      ]
    },
    {
      "cell_type": "code",
      "metadata": {
        "id": "lRMm0N3dMJ_6",
        "colab_type": "code",
        "colab": {}
      },
      "source": [
        "import requests, zipfile, io\n",
        "file_url = \"https://osmdata.openstreetmap.de/download/coastlines-split-4326.zip\"\n",
        "r = requests.get(file_url, stream = True) \n",
        "  \n",
        "with open(\"coastlines-split-4326.zip\",\"wb\") as f: \n",
        "    for chunk in r.iter_content(chunk_size=1024): \n",
        "  \n",
        "         # writing one chunk at a time to pdf file \n",
        "         if chunk: \n",
        "             f.write(chunk) "
      ],
      "execution_count": null,
      "outputs": []
    },
    {
      "cell_type": "code",
      "metadata": {
        "id": "h_14o8x0N88K",
        "colab_type": "code",
        "colab": {
          "base_uri": "https://localhost:8080/",
          "height": 69
        },
        "outputId": "360908d3-5717-4044-8df0-c458b0e1deba"
      },
      "source": [
        "copy_gcs([\"coastlines-split-4326.zip\"], [f\"{gcs_prefix}/physical-environment\"])"
      ],
      "execution_count": null,
      "outputs": [
        {
          "output_type": "stream",
          "text": [
            "Processing: gsutil -m cp -r  coastlines-split-4326.zip gs://mangrove_atlas/physical-environment\n",
            "Task created\n",
            "Finished copy\n"
          ],
          "name": "stdout"
        }
      ]
    },
    {
      "cell_type": "markdown",
      "metadata": {
        "id": "cUVQy-_Ve3gO",
        "colab_type": "text"
      },
      "source": [
        "## Create OSM coastlines feature collection"
      ]
    },
    {
      "cell_type": "markdown",
      "metadata": {
        "id": "4Cxbx6jW7ykX",
        "colab_type": "text"
      },
      "source": [
        "### Upload to earthengine"
      ]
    },
    {
      "cell_type": "code",
      "metadata": {
        "id": "cQ1JrgGgR1pz",
        "colab_type": "code",
        "colab": {
          "base_uri": "https://localhost:8080/",
          "height": 263
        },
        "outputId": "0e605990-825f-4ced-fb0e-5c6f58dcdb6d"
      },
      "source": [
        "!earthengine --no-use_cloud_api authenticate"
      ],
      "execution_count": null,
      "outputs": [
        {
          "output_type": "stream",
          "text": [
            "WARNING:tensorflow:From /usr/local/lib/python3.6/dist-packages/tensorflow/python/compat/v2_compat.py:96: disable_resource_variables (from tensorflow.python.ops.variable_scope) is deprecated and will be removed in a future version.\n",
            "Instructions for updating:\n",
            "non-resource variables are not supported in the long term\n",
            "Running command using Cloud API.  Set --no-use_cloud_api to go back to using the API\n",
            "\n",
            "To authorize access needed by Earth Engine, open the following URL in a web browser and follow the instructions. If the web browser does not start automatically, please manually browse the URL below.\n",
            "\n",
            "    https://accounts.google.com/o/oauth2/auth?client_id=517222506229-vsmmajv00ul0bs7p89v5m89qs8eb9359.apps.googleusercontent.com&scope=https%3A%2F%2Fwww.googleapis.com%2Fauth%2Fearthengine+https%3A%2F%2Fwww.googleapis.com%2Fauth%2Fdevstorage.full_control&redirect_uri=urn%3Aietf%3Awg%3Aoauth%3A2.0%3Aoob&response_type=code&code_challenge=tmjRBNysgRYfmEhf20TosoFPrUWSBTyTVZifK2qYOtU&code_challenge_method=S256\n",
            "\n",
            "The authorization workflow will generate a code, which you should paste in the box below. \n",
            "Enter verification code: 4/1QHPlACI0-r_pB503K9zMlowJ_SqleF0_zxPT_vyPUVWGM88tGyz450\n",
            "\n",
            "Successfully saved authorization token.\n"
          ],
          "name": "stdout"
        }
      ]
    },
    {
      "cell_type": "code",
      "metadata": {
        "id": "4gY1xfL0Pgf_",
        "colab_type": "code",
        "colab": {
          "base_uri": "https://localhost:8080/",
          "height": 106
        },
        "outputId": "baba2e82-a74d-4f25-95d7-8c5be7b0d9fa"
      },
      "source": [
        "file_path = f\"{gcs_prefix}/physical-environment/coastlines-split-4326.zip\"\n",
        "asset_path = \"projects/global-mangrove-watch/physical-environment\"\n",
        "time_start = \"2020-06-29\"\n",
        "gee_upload_zip_to_table(file_path, asset_path, time_start, force=True, append_txt=\"\", properties={})"
      ],
      "execution_count": null,
      "outputs": [
        {
          "output_type": "stream",
          "text": [
            "Processing coastlines-split-4326\n",
            "earthengine --no-use_cloud_api upload table --asset_id=projects/global-mangrove-watch/physical-environment/coastlines-split-4326 --force --time_start=2020-06-29   gs://mangrove_atlas/physical-environment/coastlines-split-4326.zip\n",
            "Task created\n",
            "Finished upload\n"
          ],
          "name": "stdout"
        }
      ]
    },
    {
      "cell_type": "markdown",
      "metadata": {
        "id": "k__cKUgm79vE",
        "colab_type": "text"
      },
      "source": [
        "### Add metadata"
      ]
    },
    {
      "cell_type": "code",
      "metadata": {
        "id": "AH00akS0fZMU",
        "colab_type": "code",
        "colab": {
          "base_uri": "https://localhost:8080/",
          "height": 228
        },
        "outputId": "e1407a15-c072-4267-a71e-5650a2747e1a"
      },
      "source": [
        "!earthengine --no-use_cloud_api authenticate"
      ],
      "execution_count": null,
      "outputs": [
        {
          "output_type": "stream",
          "text": [
            "WARNING:tensorflow:From /usr/local/lib/python3.6/dist-packages/tensorflow/python/compat/v2_compat.py:96: disable_resource_variables (from tensorflow.python.ops.variable_scope) is deprecated and will be removed in a future version.\n",
            "Instructions for updating:\n",
            "non-resource variables are not supported in the long term\n",
            "To authorize access needed by Earth Engine, open the following URL in a web browser and follow the instructions. If the web browser does not start automatically, please manually browse the URL below.\n",
            "\n",
            "    https://accounts.google.com/o/oauth2/auth?client_id=517222506229-vsmmajv00ul0bs7p89v5m89qs8eb9359.apps.googleusercontent.com&scope=https%3A%2F%2Fwww.googleapis.com%2Fauth%2Fearthengine+https%3A%2F%2Fwww.googleapis.com%2Fauth%2Fdevstorage.full_control&redirect_uri=urn%3Aietf%3Awg%3Aoauth%3A2.0%3Aoob&response_type=code&code_challenge=aPh6B2Y7wyIAIieyL49q5UH56OrlG43IwoUZeL9h0ms&code_challenge_method=S256\n",
            "\n",
            "The authorization workflow will generate a code, which you should paste in the box below. \n",
            "Enter verification code: 4/1gH9HvICcy1oBBQ_fXZdY-wSR0fuSU8CWGfm6CWYzPNHclDvgrmEc8k\n",
            "\n",
            "Successfully saved authorization token.\n"
          ],
          "name": "stdout"
        }
      ]
    },
    {
      "cell_type": "code",
      "metadata": {
        "id": "EnG8wntnbDQh",
        "colab_type": "code",
        "colab": {
          "base_uri": "https://localhost:8080/",
          "height": 69
        },
        "outputId": "b0e12567-3d0c-41bd-dbae-f84b5a54b8b4"
      },
      "source": [
        "# Define parameters\n",
        "\n",
        "# asset path\n",
        "asset_path = f\"projects/global-mangrove-watch/physical-environment/coastlines-split-4326\"\n",
        "\n",
        "# get description from file\n",
        "copy_gcs([\"gs://mangrove_atlas/physical-environment/coastlines-split-4326_description.md\"], [\".\"])\n",
        "with open(\"coastlines-split-4326_description.md\", \"r\") as f:\n",
        "  description = f.read()\n",
        "\n",
        "# set collection properties (these are compatible with Skydipper.Dataset.Metadata)\n",
        "version = \"2020-06-29\"\n",
        "collection_properties = {\n",
        "    'name': \"Open Street Map Coastlines\",\n",
        "    'version': version,\n",
        "    'creator': \"OSM\",\n",
        "    'system:description': description,\n",
        "    'description': description,\n",
        "    'identifier': \"\",\n",
        "    'keywords': \"Erosion; Coasts; Natural Infrastructure; Sea-level; Vector\",\n",
        "    'citation': \"\",\n",
        "    'license': \"[Open Database License (ODbL)](https://wiki.osmfoundation.org/wiki/Licence)\",\n",
        "    'url': \"https://osmdata.openstreetmap.de\",\n",
        "    'language': 'en', \n",
        "    'altName': f\"OSM Coastlines, Version {version}\",\n",
        "    'distribution': \"https://osmdata.openstreetmap.de/download/coastlines-split-4326.zip\",\n",
        "    'variableMeasured': \"Linestrings representing coastlines\",\n",
        "    'units': \"1\",\n",
        "    'spatialCoverage': \"Global\",\n",
        "    'temporalCoverage': \"undefined\",\n",
        "    'dataLineage': \"Zipped shapefile in EPSG WSG84 downloaded from https://osmdata.openstreetmap.de, and added to Google earth engine as a featureCollection.\"\n",
        "}\n",
        "\n",
        "# set start and end times\n",
        "time_start = '2020-06-29'\n",
        "time_end = '2020-06-29'"
      ],
      "execution_count": null,
      "outputs": [
        {
          "output_type": "stream",
          "text": [
            "Processing: gsutil -m cp -r  gs://mangrove_atlas/physical-environment/coastlines-split-4326_description.md .\n",
            "Task created\n",
            "Finished copy\n"
          ],
          "name": "stdout"
        }
      ]
    },
    {
      "cell_type": "code",
      "metadata": {
        "id": "pavAW4Kkef75",
        "colab_type": "code",
        "colab": {
          "base_uri": "https://localhost:8080/",
          "height": 662
        },
        "outputId": "c05c6060-1e84-4b4d-da19-1ac39415f2b4"
      },
      "source": [
        "gee_update_asset_properties(asset_path, properties = collection_properties, time_start=time_start, time_end=time_end, dry_run=False)"
      ],
      "execution_count": null,
      "outputs": [
        {
          "output_type": "stream",
          "text": [
            "\n",
            "Updated properties for asset: projects/global-mangrove-watch/physical-environment/coastlines-split-4326\n",
            "\n",
            "{\n",
            "  \"columns\": {\n",
            "    \"FID\": \"Long\",\n",
            "    \"system:index\": \"String\"\n",
            "  },\n",
            "  \"id\": \"projects/global-mangrove-watch/physical-environment/coastlines-split-4326\",\n",
            "  \"properties\": {\n",
            "    \"altName\": \"OSM Coastlines, Version 2020-06-29\",\n",
            "    \"citation\": \"\",\n",
            "    \"creator\": \"OSM\",\n",
            "    \"dataLineage\": \"Zipped shapefile in EPSG WSG84 downloaded from https://osmdata.openstreetmap.de, and added to Google earth engine as a featureCollection.\",\n",
            "    \"description\": \"# Open Street Map Coastlines\\\\n\\\\nThis dataset shows linestrings representing coastlines extracted from the Open Street Map project.\\\\n\\\\nThe dataset has been generated by vizzuality on behalf of Global Mangrove Watch (GMW) \\\\u2013 a collaboration between Aberystwyth University (U.K.), solo Earth Observation (soloEO), Wetlands International, the World Conservation Monitoring Centre (UNEP-WCMC) and the Japan Aerospace Exploration Agency (JAXA). DOB Ecology supported the mapping in Africa through the Mangrove Capital Africa project.\\\\n\\\\n## Methodology\\\\n\\\\nZipped shapefile in EPSG WSG84 downloaded from https://osmdata.openstreetmap.de, and added to Google earth engine as a featureCollection. The Python notebook describing the process is available [here](https://github.com/Vizzuality/mangrove-atlas-data/blob/master/get_osm_coastline.ipynb).\\\\n\",\n",
            "    \"distribution\": \"https://osmdata.openstreetmap.de/download/coastlines-split-4326.zip\",\n",
            "    \"identifier\": \"\",\n",
            "    \"keywords\": \"Erosion; Coasts; Natural Infrastructure; Sea-level; Vector\",\n",
            "    \"language\": \"en\",\n",
            "    \"license\": \"[Open Database License (ODbL)](https://wiki.osmfoundation.org/wiki/Licence)\",\n",
            "    \"name\": \"Open Street Map Coastlines\",\n",
            "    \"spatialCoverage\": \"Global\",\n",
            "    \"system:asset_size\": 1486020074,\n",
            "    \"system:description\": \"# Open Street Map Coastlines\\\\n\\\\nThis dataset shows linestrings representing coastlines extracted from the Open Street Map project.\\\\n\\\\nThe dataset has been generated by vizzuality on behalf of Global Mangrove Watch (GMW) \\\\u2013 a collaboration between Aberystwyth University (U.K.), solo Earth Observation (soloEO), Wetlands International, the World Conservation Monitoring Centre (UNEP-WCMC) and the Japan Aerospace Exploration Agency (JAXA). DOB Ecology supported the mapping in Africa through the Mangrove Capital Africa project.\\\\n\\\\n## Methodology\\\\n\\\\nZipped shapefile in EPSG WSG84 downloaded from https://osmdata.openstreetmap.de, and added to Google earth engine as a featureCollection. The Python notebook describing the process is available [here](https://github.com/Vizzuality/mangrove-atlas-data/blob/master/get_osm_coastline.ipynb).\\\\n\",\n",
            "    \"system:time_end\": 1593388800000.0,\n",
            "    \"system:time_start\": 1593388800000.0,\n",
            "    \"temporalCoverage\": \"undefined\",\n",
            "    \"units\": 1.0,\n",
            "    \"url\": \"https://osmdata.openstreetmap.de\",\n",
            "    \"variableMeasured\": \"Linestrings representing coastlines\",\n",
            "    \"version\": \"2020-06-29\"\n",
            "  },\n",
            "  \"type\": \"FeatureCollection\",\n",
            "  \"version\": 1594045513849327\n",
            "}\n",
            "\n"
          ],
          "name": "stdout"
        }
      ]
    },
    {
      "cell_type": "markdown",
      "metadata": {
        "id": "mzak1ddBfD1L",
        "colab_type": "text"
      },
      "source": [
        "## Create OSM coastline raster image"
      ]
    },
    {
      "cell_type": "code",
      "metadata": {
        "id": "oPfYIYFFwQws",
        "colab_type": "code",
        "colab": {
          "base_uri": "https://localhost:8080/",
          "height": 176
        },
        "outputId": "8b127c14-cc3b-4b5a-ee29-c64066862f29"
      },
      "source": [
        "# Trigger the authentication flow.\n",
        "ee.Authenticate()"
      ],
      "execution_count": null,
      "outputs": [
        {
          "output_type": "stream",
          "text": [
            "To authorize access needed by Earth Engine, open the following URL in a web browser and follow the instructions. If the web browser does not start automatically, please manually browse the URL below.\n",
            "\n",
            "    https://accounts.google.com/o/oauth2/auth?client_id=517222506229-vsmmajv00ul0bs7p89v5m89qs8eb9359.apps.googleusercontent.com&scope=https%3A%2F%2Fwww.googleapis.com%2Fauth%2Fearthengine+https%3A%2F%2Fwww.googleapis.com%2Fauth%2Fdevstorage.full_control&redirect_uri=urn%3Aietf%3Awg%3Aoauth%3A2.0%3Aoob&response_type=code&code_challenge=VL13F6Cu89XYt8coeUyEWJyH_jUPsggylJkxxFb-37Y&code_challenge_method=S256\n",
            "\n",
            "The authorization workflow will generate a code, which you should paste in the box below. \n",
            "Enter verification code: 4/1gE7kxA4jZKCCTkMOuY9PNfEwti2Xhg07VpsEg4-JY16-ZO82jmHzfE\n",
            "\n",
            "Successfully saved authorization token.\n"
          ],
          "name": "stdout"
        }
      ]
    },
    {
      "cell_type": "code",
      "metadata": {
        "id": "d5aiCRxWwNOP",
        "colab_type": "code",
        "colab": {}
      },
      "source": [
        "# Initialize the library.\n",
        "ee.Initialize()"
      ],
      "execution_count": null,
      "outputs": []
    },
    {
      "cell_type": "code",
      "metadata": {
        "id": "F3raRSEUhyPc",
        "colab_type": "code",
        "colab": {
          "base_uri": "https://localhost:8080/",
          "height": 69
        },
        "outputId": "2d1abb96-8d43-4ce4-ab42-0ddaea3c0926"
      },
      "source": [
        "# Define parameters\n",
        "\n",
        "# asset path\n",
        "asset_path = f\"projects/global-mangrove-watch/physical-environment/coastlines-split-4326-raster\"\n",
        "\n",
        "# get description from file\n",
        "copy_gcs([\"gs://mangrove_atlas/physical-environment/coastlines-split-4326-raster_description.md\"], [\".\"])\n",
        "with open(\"coastlines-split-4326-raster_description.md\", \"r\") as f:\n",
        "  description = f.read()\n",
        "\n",
        "# set collection properties (these are compatible with Skydipper.Dataset.Metadata)\n",
        "version = \"2020-06-29\"\n",
        "# set start and end times\n",
        "time_start = '2020-06-29'\n",
        "time_end = '2020-06-29'\n",
        "# image properties\n",
        "image_properties = {\n",
        "    'system:id': 'coastlines-split-4326-raster',\n",
        "    'system:time_start': time_start,\n",
        "    'nominal_scale_m': 30,\n",
        "    'band_names': 'lc',\n",
        "    'band_pyramiding_policies': 'mode',\n",
        "    'name': \"Open Street Map Coastlines Raster\",\n",
        "    'version': version,\n",
        "    'creator': \"OSM/vizzuality\",\n",
        "    'system:description': description,\n",
        "    'description': description,\n",
        "    'identifier': \"\",\n",
        "    'keywords': \"Erosion; Coasts; Natural Infrastructure; Sea-level; Vector\",\n",
        "    'citation': \"\",\n",
        "    'license': \"[Open Database License (ODbL)](https://wiki.osmfoundation.org/wiki/Licence)\",\n",
        "    'url': \"https://osmdata.openstreetmap.de\",\n",
        "    'language': 'en', \n",
        "    'altName': f\"OSM Coastlines Raster, Version {version}\",\n",
        "    'distribution': \"https://osmdata.openstreetmap.de/download/coastlines-split-4326.zip\",\n",
        "    'variableMeasured': \"Boolean raster representing coastlines\",\n",
        "    'units': \"1\",\n",
        "    'spatialCoverage': \"Global\",\n",
        "    'temporalCoverage': \"undefined\",\n",
        "    'dataLineage': \"Zipped shapefile in EPSG WSG84 downloaded from https://osmdata.openstreetmap.de, and added to Google earth engine as a featureCollection. Vizzuality converted linestrings to raster at a scale of 30m using Google earth-engine using ee.FeatureCollection.reduceToImage.\"\n",
        "}"
      ],
      "execution_count": null,
      "outputs": [
        {
          "output_type": "stream",
          "text": [
            "Processing: gsutil -m cp -r  gs://mangrove_atlas/physical-environment/coastlines-split-4326-raster_description.md .\n",
            "Task created\n",
            "Finished copy\n"
          ],
          "name": "stdout"
        }
      ]
    },
    {
      "cell_type": "code",
      "metadata": {
        "id": "HtUHeo8MpZst",
        "colab_type": "code",
        "colab": {}
      },
      "source": [
        "# Create boolean raster representing coastlines\n",
        "\n",
        "# Import libraries.\n",
        "import ee\n",
        "import folium\n",
        "import json\n",
        "import pprint\n",
        "\n",
        "def app(debug):\n",
        "\n",
        "  # GET DATA LAYERS\n",
        "  coastline = ee.FeatureCollection('projects/global-mangrove-watch/physical-environment/coastlines-split-4326')\n",
        "\n",
        "  # SET EXPORT REGION\n",
        "  region = ee.Geometry.Rectangle([-180, -90, 180, 90], None, False)\n",
        "\n",
        "  # CALCULATIONS\n",
        "  def to_raster(fc, feature_properties, reducer, timestamp, image_properties, debug):\n",
        "\n",
        "    # convert to raster\n",
        "    im = fc \\\n",
        "    .reduceToImage(**{\n",
        "          'properties': feature_properties,\n",
        "          'reducer': reducer\n",
        "      }) \\\n",
        "    .selfMask() \\\n",
        "    .rename(image_properties.get('band_names')) \\\n",
        "    .set(image_properties)\n",
        "\n",
        "    # Export params\n",
        "    nm = image_properties.get('system:id')\n",
        "    ns = image_properties.get('nominal_scale_m')\n",
        "    \n",
        "    # EXPORT TO IMAGE COLLECTION\n",
        "    params = {\n",
        "        'image': im,\n",
        "        'description': \"export_\" + nm,\n",
        "        'assetId': 'projects/global-mangrove-watch/physical-environment/' + nm,\n",
        "        'pyramidingPolicy':{image_properties.get('band_names'):image_properties.get('band_pyramiding_policies')},\n",
        "        'scale': ns,\n",
        "        'crs': 'EPSG:4326',\n",
        "        'region': region,\n",
        "        'maxPixels': 1e13\n",
        "      \n",
        "    }\n",
        "    task = ee.batch.Export.image.toAsset(**params)\n",
        "    if debug == False:\n",
        "        task.start()\n",
        "    \n",
        "    if debug == True:\n",
        "      print('\\n############')\n",
        "      print('\\nName:', nm)\n",
        "      print('\\nNominal scale:', ns)\n",
        "      print('\\nImage:', json.dumps(im.getInfo(), indent=4))\n",
        "      print(\"\\nExport params:\\n\")\n",
        "      pprint.pprint(params, indent=4)\n",
        "      \n",
        "      print(\"\\n Map:\\n\")\n",
        "      # Create a folium map object.\n",
        "      my_map = folium.Map(location=[-7.998, 39.4767], zoom_start=9, height=500)\n",
        "      # Set visualization parameters.\n",
        "      vis_params = {'min': 0, 'max': 1, 'palette': ['#0000FF']}\n",
        "      # Add map layer\n",
        "      my_map.add_ee_layer(im, vis_params, nm)\n",
        "      # Add a layer control panel to the map.\n",
        "      my_map.add_child(folium.LayerControl())\n",
        "      # Display the map.\n",
        "      display(my_map)  \n",
        "    \n",
        "    return 'true'\n",
        "  \n",
        "  # Do the calcs\n",
        "  to_raster(coastline, ee.List(['FID']), ee.Reducer.anyNonZero(), '2020-06-29', image_properties, debug)\n",
        "    \n",
        "\n",
        "# Run process\n",
        "debug = False\n",
        "app(debug)"
      ],
      "execution_count": null,
      "outputs": []
    }
  ]
}