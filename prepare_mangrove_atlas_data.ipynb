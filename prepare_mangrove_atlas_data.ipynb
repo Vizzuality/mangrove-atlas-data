{
  "nbformat": 4,
  "nbformat_minor": 0,
  "metadata": {
    "colab": {
      "name": "prepare_mangrove_atlas_data.ipynb",
      "provenance": [],
      "collapsed_sections": [
        "sn55MaUtI2BA",
        "LpAtQ3h8cLLC"
      ],
      "toc_visible": true,
      "include_colab_link": true
    },
    "kernelspec": {
      "name": "python3",
      "display_name": "Python 3"
    },
    "accelerator": "TPU"
  },
  "cells": [
    {
      "cell_type": "markdown",
      "metadata": {
        "id": "view-in-github",
        "colab_type": "text"
      },
      "source": [
        "<a href=\"https://colab.research.google.com/github/Vizzuality/sci_team_data_bank/blob/master/prepare_mangrove_atlas_data.ipynb\" target=\"_parent\"><img src=\"https://colab.research.google.com/assets/colab-badge.svg\" alt=\"Open In Colab\"/></a>"
      ]
    },
    {
      "cell_type": "markdown",
      "metadata": {
        "id": "b4IRO7yjfH8U",
        "colab_type": "text"
      },
      "source": [
        "# How to use this processing pipeline\n",
        "\n",
        "Processed outputs should got to the various output options (GEE, MapBox, GCS, mangrove-atlas-API). Note some processes via GEE take some time, hence check via the JS code editor when they are ready. The idea is to have a completely reproducible pipeline, i.e, minimum processing done by hand.\n",
        "\n",
        "1. Run the \"set up environment\" cells, these install packages, utilities, set-up permissions and define enviroment variables\n",
        "1. Load the Python helper functions\n",
        "1. Go to the data processing section and run the code! These should be independant, self-contained sections.  "
      ]
    },
    {
      "cell_type": "markdown",
      "metadata": {
        "id": "T4d5M3SDQFKp",
        "colab_type": "text"
      },
      "source": [
        "### TODO\n",
        "\n",
        "+ Streamline and refactor file conversions, simplification, and combination\n",
        "+ Include any GEE JS code into this main pipeline\n",
        "+ Look into how the process can be made to check for completion of asset uploads to GEE\n",
        "+ Make an overview diagram showing data dependencies\n",
        " "
      ]
    },
    {
      "cell_type": "markdown",
      "metadata": {
        "id": "Rwc5RPyTVBJY",
        "colab_type": "text"
      },
      "source": [
        "#  Set up environment\n",
        "\n",
        "+ install and authorise earthengine client\n",
        "+ setup gcloud\n",
        "+ install juypter node extension"
      ]
    },
    {
      "cell_type": "code",
      "metadata": {
        "id": "Wr0dY9OuZ8je",
        "colab_type": "code",
        "colab": {}
      },
      "source": [
        "# Sometimes changing settings and installed software does not work\n",
        "# seems a full restart is needed, run this to kill the session then after 30 s refresh tab\n",
        "# https://stackoverflow.com/questions/49001921/how-to-restart-virtual-machine\n",
        "#!kill -9 -1"
      ],
      "execution_count": 0,
      "outputs": []
    },
    {
      "cell_type": "code",
      "metadata": {
        "id": "4djar4VlTpwc",
        "colab_type": "code",
        "colab": {}
      },
      "source": [
        "%%bash\n",
        "# Install AWS CLI (for MapBox uploads)\n",
        "sudo apt install --no-install-recommends -y -q awscli"
      ],
      "execution_count": 0,
      "outputs": []
    },
    {
      "cell_type": "code",
      "metadata": {
        "id": "ptEpAb3FT4vN",
        "colab_type": "code",
        "colab": {}
      },
      "source": [
        "%%bash\n",
        "# Install tippecanoe (for MapBox mbtiles)\n",
        "sudo apt install --no-install-recommends -q -y build-essential libsqlite3-dev zlib1g-dev\n",
        "make\n",
        "make install\n",
        "sudo add-apt-repository -y ppa:ubuntu-toolchain-r/test\n",
        "sudo apt update -q -y\n",
        "sudo apt install --no-install-recommends -q -y g++-5\n",
        "export CXX=g++-5\n",
        "\n",
        "git clone https://github.com/mapbox/tippecanoe.git\n",
        "cd tippecanoe\n",
        "make -j\n",
        "make install"
      ],
      "execution_count": 0,
      "outputs": []
    },
    {
      "cell_type": "code",
      "metadata": {
        "id": "SQbCakBSWGAl",
        "colab_type": "code",
        "outputId": "95186459-f1dd-401a-8cf4-e8520164b61d",
        "colab": {
          "base_uri": "https://localhost:8080/",
          "height": 34
        }
      },
      "source": [
        "!tippecanoe -v"
      ],
      "execution_count": 0,
      "outputs": [
        {
          "output_type": "stream",
          "text": [
            "tippecanoe v1.34.5\n"
          ],
          "name": "stdout"
        }
      ]
    },
    {
      "cell_type": "code",
      "metadata": {
        "id": "HwVHcKIPTeN1",
        "colab_type": "code",
        "colab": {}
      },
      "source": [
        "%%bash\n",
        "# Install python packages (google api, gee api)\n",
        "sudo pip install google-api-python-client earthengine-api mapbox"
      ],
      "execution_count": 0,
      "outputs": []
    },
    {
      "cell_type": "code",
      "metadata": {
        "id": "C5k3zSFcXL7V",
        "colab_type": "code",
        "outputId": "fc5d7e85-4f70-4534-c8a3-6c04eb497359",
        "colab": {
          "base_uri": "https://localhost:8080/",
          "height": 104
        }
      },
      "source": [
        "%%bash\n",
        "# Install mapshaper CLI (simplification, combining, change format)\n",
        "npm install -g mapshaper"
      ],
      "execution_count": 0,
      "outputs": [
        {
          "output_type": "stream",
          "text": [
            "/tools/node/bin/mapshaper -> /tools/node/lib/node_modules/mapshaper/bin/mapshaper\n",
            "/tools/node/bin/mapshaper-gui -> /tools/node/lib/node_modules/mapshaper/bin/mapshaper-gui\n",
            "/tools/node/bin/mapshaper-xl -> /tools/node/lib/node_modules/mapshaper/bin/mapshaper-xl\n",
            "+ mapshaper@0.4.137\n",
            "added 50 packages from 71 contributors in 5.475s\n"
          ],
          "name": "stdout"
        }
      ]
    },
    {
      "cell_type": "code",
      "metadata": {
        "id": "TP97ogzqKyFq",
        "colab_type": "code",
        "outputId": "5995cd46-6f47-402a-d744-6b4b669e93a1",
        "colab": {
          "base_uri": "https://localhost:8080/",
          "height": 104
        }
      },
      "source": [
        "# Set up Mapbox (S3) credentials as environmental variables\n",
        "import json\n",
        "\n",
        "%env MB_USER=mangrove-atlas\n",
        "%env MB_TOKEN=sk.eyJ1IjoibWFuZ3JvdmUtYXRsYXMiLCJhIjoiY2p3MzlxZjZzMGdsZjRicXJqMGM2d2F4dSJ9.BUecVt2pYITX3DXF6N4_0w\n",
        "!curl -X POST https://api.mapbox.com/uploads/v1/${MB_USER}/credentials?access_token=${MB_TOKEN} > credentials.json\n",
        "r = json.loads(open(\"credentials.json\").read())\n",
        "import os\n",
        "os.environ['MB_BUCKET'] = r['bucket']\n",
        "os.environ['MB_KEY'] = r['key']\n",
        "os.environ['AWS_ACCESS_KEY_ID'] = r['accessKeyId']\n",
        "os.environ['AWS_SECRET_ACCESS_KEY'] = r['secretAccessKey']\n",
        "os.environ['AWS_SESSION_TOKEN'] = r['sessionToken']"
      ],
      "execution_count": 0,
      "outputs": [
        {
          "output_type": "stream",
          "text": [
            "env: MB_USER=mangrove-atlas\n",
            "env: MB_TOKEN=sk.eyJ1IjoibWFuZ3JvdmUtYXRsYXMiLCJhIjoiY2p3MzlxZjZzMGdsZjRicXJqMGM2d2F4dSJ9.BUecVt2pYITX3DXF6N4_0w\n",
            "  % Total    % Received % Xferd  Average Speed   Time    Time     Time  Current\n",
            "                                 Dload  Upload   Total   Spent    Left  Speed\n",
            "100   829  100   829    0     0   2431      0 --:--:-- --:--:-- --:--:--  2431\n"
          ],
          "name": "stdout"
        }
      ]
    },
    {
      "cell_type": "code",
      "metadata": {
        "id": "kmlPkW3nCLwu",
        "colab_type": "code",
        "colab": {}
      },
      "source": [
        "# Set some useful environment variables\n",
        "# GCS bucket and local base directory\n",
        "import os\n",
        "os.environ['MA_BUCKET'] = 'mangrove_atlas'\n",
        "# Mapshaper variables for simplification\n",
        "os.environ['SIMP_WEIGHT_INT'] = '30'\n",
        "os.environ['MIN_AREA'] = '90'"
      ],
      "execution_count": 0,
      "outputs": []
    },
    {
      "cell_type": "code",
      "metadata": {
        "id": "jX758YItO4Dr",
        "colab_type": "code",
        "outputId": "8a97f494-c8b5-4a9d-cfab-a3fbf63be448",
        "colab": {
          "base_uri": "https://localhost:8080/",
          "height": 34
        }
      },
      "source": [
        "%%bash\n",
        "# remove sample data and make local base dir\n",
        "rm -rf /var/lib/apt/lists/*\n",
        "rm -r sample_data $MA_BUCKET\n",
        "mkdir -p $MA_BUCKET"
      ],
      "execution_count": 0,
      "outputs": [
        {
          "output_type": "stream",
          "text": [
            "rm: cannot remove 'mangrove_atlas': No such file or directory\n"
          ],
          "name": "stderr"
        }
      ]
    },
    {
      "cell_type": "markdown",
      "metadata": {
        "id": "wtm8pwlx2Ltk",
        "colab_type": "text"
      },
      "source": [
        "## Authenticate"
      ]
    },
    {
      "cell_type": "code",
      "metadata": {
        "id": "mtVHLh2MYdDl",
        "colab_type": "code",
        "outputId": "db049b04-8f52-4922-c332-c8500f66d182",
        "colab": {
          "base_uri": "https://localhost:8080/",
          "height": 260
        }
      },
      "source": [
        "# Setup Google Cloud Storage\n",
        "# Note this is a personal, public bucket owned by Lamert (Wetlands International)\n",
        "# Google cloud storage set project\n",
        "project_id = 'mangrove-atlas-246414'\n",
        "!gcloud config set project {project_id}\n",
        "\n",
        "# Authenticate\n",
        "from google.colab import auth\n",
        "auth.authenticate_user()"
      ],
      "execution_count": 0,
      "outputs": [
        {
          "output_type": "stream",
          "text": [
            "Updated property [core/project].\n",
            "\n",
            "\n",
            "To take a quick anonymous survey, run:\n",
            "  $ gcloud alpha survey\n",
            "\n",
            "WARNING:tensorflow:\n",
            "The TensorFlow contrib module will not be included in TensorFlow 2.0.\n",
            "For more information, please see:\n",
            "  * https://github.com/tensorflow/community/blob/master/rfcs/20180907-contrib-sunset.md\n",
            "  * https://github.com/tensorflow/addons\n",
            "  * https://github.com/tensorflow/io (for I/O related ops)\n",
            "If you depend on functionality not listed there, please file an issue.\n",
            "\n"
          ],
          "name": "stdout"
        }
      ]
    },
    {
      "cell_type": "code",
      "metadata": {
        "id": "B4luSO6iT6cs",
        "colab_type": "code",
        "outputId": "993f9c49-665f-419c-9806-9ea4280a3ad0",
        "colab": {
          "base_uri": "https://localhost:8080/",
          "height": 176
        }
      },
      "source": [
        "# Import the Earth Engine library.\n",
        "import ee\n",
        "\n",
        "# Trigger the authentication flow.\n",
        "ee.Authenticate()"
      ],
      "execution_count": 0,
      "outputs": [
        {
          "output_type": "stream",
          "text": [
            "To authorize access needed by Earth Engine, open the following URL in a web browser and follow the instructions. If the web browser does not start automatically, please manually browse the URL below.\n",
            "\n",
            "    https://accounts.google.com/o/oauth2/auth?client_id=517222506229-vsmmajv00ul0bs7p89v5m89qs8eb9359.apps.googleusercontent.com&scope=https%3A%2F%2Fwww.googleapis.com%2Fauth%2Fearthengine+https%3A%2F%2Fwww.googleapis.com%2Fauth%2Fdevstorage.full_control&redirect_uri=urn%3Aietf%3Awg%3Aoauth%3A2.0%3Aoob&response_type=code\n",
            "\n",
            "The authorization workflow will generate a code, which you should paste in the box below. \n",
            "Enter verification code: 4/sAExlhsmGkfqAfq5VPci13YKE2MhrAgn1MJssmMntv2HKqd5dbveZ0E\n",
            "\n",
            "Successfully saved authorization token.\n"
          ],
          "name": "stdout"
        }
      ]
    },
    {
      "cell_type": "code",
      "metadata": {
        "id": "OjoJOmKsPZ75",
        "colab_type": "code",
        "outputId": "7461e058-9296-4a8a-a294-78423d5caddb",
        "colab": {
          "base_uri": "https://localhost:8080/",
          "height": 52
        }
      },
      "source": [
        "!ls "
      ],
      "execution_count": 0,
      "outputs": [
        {
          "output_type": "stream",
          "text": [
            "adc.json\t  mangrove_atlas\t     tippecanoe\n",
            "credentials.json  test_upload_manifest.json\n"
          ],
          "name": "stdout"
        }
      ]
    },
    {
      "cell_type": "markdown",
      "metadata": {
        "id": "sn55MaUtI2BA",
        "colab_type": "text"
      },
      "source": [
        "# Load helper functions"
      ]
    },
    {
      "cell_type": "code",
      "metadata": {
        "id": "a6qoYZE4SHIG",
        "colab_type": "code",
        "colab": {}
      },
      "source": [
        "# Python helper functions\n",
        "\n",
        "# Upload task for mapbox\n",
        "import os\n",
        "import subprocess\n",
        "import sys\n",
        "from mapbox import Uploader\n",
        "import base64\n",
        "from time import sleep\n",
        "from random import randint\n",
        "\n",
        "\n",
        "def upload_to_mapbox(file_path, tileset_name):\n",
        "  '''Given a local file path and a Map Box tileset name\n",
        "     Push to Map Box AWS S3 staging and create Map Box upload task\n",
        "  '''\n",
        "  username = os.getenv(\"MB_USER\")\n",
        "  MY_TOKEN = os.getenv(\"MB_TOKEN\")\n",
        "  #print(MY_TOKEN)\n",
        "  #MY_TOKEN = base64.b64decode(MY_TOKEN + \"===\")\n",
        "  #conxn = Uploader(username, MY_TOKEN)\n",
        "  #resp = conxn.upload(file_path, tileset_name)\n",
        "  #upload_id = resp.json()['id']\n",
        "\n",
        "  #resp = conxn.status(upload_id).json()\n",
        "  #print(\"Upload {0} with id {1}\".format(resp['complete'], resp['tileset']))\n",
        "  u = Uploader(access_token=MY_TOKEN)  # handles authentication\n",
        "  tileset = username + \".\" + tileset_name  # name your tileset\n",
        "  url = u.stage(open(file_path, 'rb'))  # upload happens here\n",
        "  job = u.create(url, tileset, name=tileset_name)  # starts the tiling job\n",
        "  status = u.status(job).json()\n",
        "  print(status)\n",
        "  service = Uploader()\n",
        "mapid = getfixture('uploads_dest_id') # 'uploads-test'\n",
        "with open('tests/twopoints.geojson', 'rb') as src:\n",
        "     upload_resp = service.upload(src, mapid)\n",
        "\n",
        " if upload_resp.status_code == 422:\n",
        "     for i in range(5):\n",
        "         sleep(5)\n",
        "         with open('tests/twopoints.geojson', 'rb') as src:\n",
        "             upload_resp = service.upload(src, mapid)\n",
        "         if upload_resp.status_code != 422:\n",
        "             break\n",
        "\n",
        "  \n",
        "  \n",
        "  # Upload to mapbox S3 staging\n",
        "  #MB_BUCKET = os.getenv(\"MB_BUCKET\")\n",
        "  #MB_KEY = os.getenv(\"MB_KEY\")\n",
        "  #cmd = \"aws s3 cp \" + file_path + \" s3://\" + MB_BUCKET + \"/\" + MB_KEY + \" --region us-east-1\"\n",
        "  #print(cmd)\n",
        "  #try:\n",
        "  #  retcode = subprocess.call(cmd, shell=True)\n",
        "  #  if retcode < 0:\n",
        "  #      print(\"Child was terminated by signal\", -retcode, file=sys.stderr)\n",
        "  #  else:\n",
        "  #      print(\"Child returned\", retcode, file=sys.stderr)\n",
        "  #except OSError as e:\n",
        "  #  print(\"Execution failed:\", e, file=sys.stderr)\n",
        "  # Make mapbox upload task\n",
        "  #MB_USER = os.getenv(\"MB_USER\")\n",
        "  #MB_TOKEN = os.getenv(\"MB_TOKEN\")\n",
        "  #d = \"'{'url': 'http://\" + MB_BUCKET + \".s3.amazonaws.com\" + MB_KEY + \"', 'tileset': '\" + MB_USER + \".\" + tileset_name + \"', 'name': '\" + tileset_name + \"'}'\"\n",
        "  #u = \"https://api.mapbox.com/uploads/v1/\" + MB_USER + \"?access_token=\" + MB_TOKEN\n",
        "  #cmd2 = \"curl -X POST -H 'Content-Type: application/json' -H 'Cache-Control: no-cache' -d \" + d + \" \" + u\n",
        "  #print(cmd2)\n",
        "  #try:\n",
        "  #  retcode = subprocess.call(cmd2, shell=True)\n",
        "  #  if retcode < 0:\n",
        "  #      print(\"Child was terminated by signal\", -retcode, file=sys.stderr)\n",
        "  #  else:\n",
        "  #      print(\"Child returned\", retcode, file=sys.stderr)\n",
        "  #except OSError as e:\n",
        "  #  print(\"Execution failed:\", e, file=sys.stderr)\n",
        "       \n",
        "# Get resolution info from given raster\n",
        "def get_pixelsize(file_path):\n",
        "    cmd = \"( $(gdalinfo \", + file_path + \" | grep 'Pixel Size' | sed 's/Pixel Size =//g; s/,/ /g' | tr '\\n' ' ' | tr -d '[(,])-') )\"\n",
        "    print(cmd)\n",
        "    try:\n",
        "      retcode = subprocess.check_output(cmd, shell=True).decode('utf8')\n",
        "      if retcode < 0:\n",
        "        print(\"Child was terminated by signal\", -retcode, file=sys.stderr)\n",
        "      else:\n",
        "        print(\"Child returned\", retcode, file=sys.stderr)\n",
        "    except OSError as e:\n",
        "      print(\"Execution failed:\", e, file=sys.stderr)\n",
        "    return retcode\n",
        "\n",
        "def get_navalue(file_path):\n",
        "    cmd = \"( $(gdalinfo \", + file_path + \" | grep 'NoData Value' | sed 's/NoData Value =//g; s/,/ /g' | tr '\\n' ' ' | tr -d '[(,])') )\"\n",
        "    print(cmd)\n",
        "    try:\n",
        "      retcode = subprocess.check_output(cmd, shell=True).decode('utf8')\n",
        "      if retcode < 0:\n",
        "        print(\"Child was terminated by signal\", -retcode, file=sys.stderr)\n",
        "      else:\n",
        "        print(\"Child returned\", retcode, file=sys.stderr)\n",
        "    except OSError as e:\n",
        "      print(\"Execution failed:\", e, file=sys.stderr)\n",
        "    return retcode\n",
        "\n",
        "  \n",
        "def gee_upload_images_to_collection(file_path, asset_path, pyramiding_policy, bands, time_start, nodata_value, force=True, properties={}):\n",
        "    '''Given a GCS file path and a GEE asset path\n",
        "       Create, and push to all images + metadata to a SINGLE ee.ImageCollection asset\n",
        "    '''\n",
        "    # Format arguments\n",
        "    f = \"\"\n",
        "    if force:\n",
        "      f = \"--force\"\n",
        "    pp = \"--pyramiding_policy={0}\".format(pyramiding_policy) \n",
        "    ts = \"--time_start={0}\".format(time_start)\n",
        "    n = \"--nodata_value={0}\".format(nodata_value)\n",
        "    b =  \"--bands={0}\".format(bands)\n",
        "    p = \"\"\n",
        "    if len(properties) > 0:\n",
        "      p = [\"--property={0}={1}\".format(key, value) for key, value in properties.items()]\n",
        "      p = \" \".join(p) \n",
        "    args = \"{0} {1} {2} {3} {4} {5}\".format(f, pp, ts, n, b, p)\n",
        "    # Get file path array\n",
        "    cmd = \"gsutil ls \" + file_path\n",
        "    file_array = subprocess.check_output(cmd, shell=True).decode('utf8').split('\\n')\n",
        "    print(\"Found {0} files\".format(len(file_array)))\n",
        "    # Create collection\n",
        "    cmd = \"earthengine --no-use_cloud_api create collection {0}\".format(asset_path)\n",
        "    r = subprocess.call(cmd, shell=True)\n",
        "    # Create upload task for each file\n",
        "    for file in file_array:\n",
        "      asset_id = os.path.splitext(os.path.basename(file))[0]\n",
        "      print(\"Processing {0}\".format(asset_id))\n",
        "      cmd = \"earthengine --no-use_cloud_api upload image --asset_id={0}/{1} {2} {3}\".format(asset_path, asset_id, args, file)\n",
        "      print(cmd)\n",
        "      r = subprocess.call(cmd, shell=True)\n",
        "      if r == 0:\n",
        "        print(\"Task created\")\n",
        "      else:\n",
        "        print(\"Task failed\")\n",
        "    print(\"Finished upload\")   \n",
        "\n",
        "def gee_upload_single_image(file_path, asset_path, pyramiding_policy, bands, time_start, nodata_value, force=True, properties={}):\n",
        "    '''Given a GCS file path and a GEE asset path\n",
        "       Create, and push to all images + metadata to a SINGLE ee.Image asset\n",
        "    '''\n",
        "    # Format arguments\n",
        "    f = \"\"\n",
        "    if force:\n",
        "      f = \"--force\"\n",
        "    pp = \"--pyramiding_policy={0}\".format(pyramiding_policy) \n",
        "    ts = \"--time_start={0}\".format(time_start)\n",
        "    n = \"--nodata_value={0}\".format(nodata_value)\n",
        "    b =  \"--bands={0}\".format(bands)\n",
        "    p = \"\"\n",
        "    if len(properties) > 0:\n",
        "      p = [\"--property={0}={1}\".format(key, value) for key, value in properties.items()]\n",
        "      p = \" \".join(p) \n",
        "    args = \"{0} {1} {2} {3} {4} {5}\".format(f, pp, ts, n, b, p)\n",
        "    # Get file path array\n",
        "    cmd = \"gsutil ls \" + file_path\n",
        "    file_array = subprocess.check_output(cmd, shell=True).decode('utf8').split('\\n')\n",
        "    print(\"Found {0} files\".format(len(file_array)))\n",
        "    # Create upload task for all files\n",
        "    print(\"Processing {0}\".format(asset_path))\n",
        "    file_string = \" \".join(file_array)\n",
        "    cmd = \"earthengine --no-use_cloud_api upload image --asset_id={0} {1} {2}\".format(asset_path, args, file_string)\n",
        "    print(cmd)\n",
        "    r = subprocess.call(cmd, shell=True)\n",
        "    if r == 0:\n",
        "      print(\"Task created\")\n",
        "    else:\n",
        "      print(\"Task failed\")\n",
        "    print(\"Finished upload\")\n",
        "    \n",
        "def gee_upload_images_to_image(file_path, asset_path, pyramiding_policy, bands, time_start, nodata_value, force=True, properties={}):\n",
        "    '''Given a GCS file path and a GEE asset path\n",
        "       Create, and push to all images + metadata to a SINGLE ee.Image asset\n",
        "    '''\n",
        "    # Format arguments\n",
        "    f = \"\"\n",
        "    if force:\n",
        "      f = \"--force\"\n",
        "    pp = \"--pyramiding_policy={0}\".format(pyramiding_policy) \n",
        "    ts = \"--time_start={0}\".format(time_start)\n",
        "    n = \"--nodata_value={0}\".format(nodata_value)\n",
        "    b =  \"--bands={0}\".format(bands)\n",
        "    p = \"\"\n",
        "    if len(properties) > 0:\n",
        "      p = [\"--property={0}={1}\".format(key, value) for key, value in properties.items()]\n",
        "      p = \" \".join(p) \n",
        "    args = \"{0} {1} {2} {3} {4} {5}\".format(f, pp, ts, n, b, p)\n",
        "    # Get file path array\n",
        "    cmd = \"gsutil ls \" + file_path\n",
        "    file_array = subprocess.check_output(cmd, shell=True).decode('utf8').split('\\n')\n",
        "    with open('tmp.txt', mode='wt', encoding='utf-8') as myfile:\n",
        "      myfile.write('\\n'.join(file_array))\n",
        "    print(\"Found {0} files\".format(len(file_array)))\n",
        "    # Create upload task for all files\n",
        "    print(\"Processing {0}\".format(asset_path))\n",
        "    #\" \".join(file_array)\n",
        "    cmd = \"earthengine --no-use_cloud_api upload image --asset_id={0} {1} < tmp.txt\".format(asset_path, args)\n",
        "    print(cmd)\n",
        "    r = subprocess.call(cmd, shell=True)\n",
        "    if r == 0:\n",
        "      print(\"Task created\")\n",
        "    else:\n",
        "      print(\"Task failed\")\n",
        "    print(\"Finished upload\")\n",
        "        \n",
        "def gee_upload_zips_to_tables(file_path, asset_path, time_start, force=True, append_txt=\"\", properties={}):\n",
        "    '''Given a GCS file path and a GEE asset path\n",
        "       Create, and push to all zipped shapefiles + metadata to MANY Table assets\n",
        "    '''\n",
        "    # Format arguments\n",
        "    f = \"\"\n",
        "    if force:\n",
        "      f = \"--force\"\n",
        "    ts = \"--time_start={0}\".format(time_start)\n",
        "    p = \"\"\n",
        "    if len(properties) > 0:\n",
        "      p = [\"--property='{0}={1}'\".format(key, value) for key, value in properties.items()]\n",
        "      p = \" \".join(p) \n",
        "    args = \"{0} {1} {2} \".format(f, ts, p)\n",
        "    # Get file path array\n",
        "    cmd = \"gsutil ls \" + file_path\n",
        "    file_array = subprocess.check_output(cmd, shell=True).decode('utf8').split('\\n')\n",
        "    print(\"Found {0} files\".format(len(file_array)))\n",
        "    # Create table and upload task for each file\n",
        "    for file in file_array:\n",
        "      asset_id = os.path.splitext(os.path.basename(file))[0]\n",
        "      print(\"Processing {0}\".format(asset_id))\n",
        "      # Create collection\n",
        "      #cmd = \"earthengine create collection {0}/{1}\".format(asset_path, asset_id)\n",
        "      #r = subprocess.call(cmd, shell=True)\n",
        "      cmd = \"earthengine --no-use_cloud_api upload table --asset_id={0}/{1}{2} {3} {4}\".format(asset_path, asset_id, append_txt, args, file)\n",
        "      print(cmd)\n",
        "      r = subprocess.call(cmd, shell=True)\n",
        "      if r == 0:\n",
        "        print(\"Task created\")\n",
        "      else:\n",
        "        print(\"Task failed\")\n",
        "    print(\"Finished upload\")    \n",
        "    "
      ],
      "execution_count": 0,
      "outputs": []
    },
    {
      "cell_type": "markdown",
      "metadata": {
        "id": "LpAtQ3h8cLLC",
        "colab_type": "text"
      },
      "source": [
        "\n",
        "\n",
        "---\n",
        "\n",
        "\n",
        "# Data description\n",
        "\n",
        "+ all data is stored in the public bucket `mangrove_atlas`, from project `mangrove-atlas-246414`\n",
        "    + https://console.cloud.google.com/storage/browser?project=mangrove-atlas-246414\n",
        "+ directory names _try_ to use the controlled vocabulary https://www.eionet.europa.eu/gemet/en/\n",
        "\n",
        "## General directory structure\n",
        "\n",
        "`mangrove_atlas/`\n",
        " \n",
        " + `ee-export-tables` - directory for storing output from GEE analysis\n",
        " + `ee-upload-mainfest` - directory for storing GEE upload manifests\n",
        " + `boundaries` - adminstatrive, proctected areas, areas-of-interest (AOIs)\n",
        " + `land-cover` - mangrove extent\n",
        " + `mangrove-properties` - properties (biomass, height, ect.) of mangrove land-cover\n",
        " + `orthoimagery` - georeferenced imagery from satellites and airbourne sensors (e.g., UAVs)\n",
        " + `environmental-pressures` - layers related to drivers and pressures on mangrove habitats\n",
        " + `physical-environment` - layers relating to coast lines, tides, hydrodynamics, freshwater availability, and sediments\n",
        " + `elevation` - digital elevation, surface, and terrain models (DEM, DSM, and DTM)"
      ]
    },
    {
      "cell_type": "code",
      "metadata": {
        "id": "8Xoz7efLZZlX",
        "colab_type": "code",
        "colab": {}
      },
      "source": [
        "# To avoid disk usage issues get in sections and clean up afterwards\n",
        "#!gsutil -m cp -r gs://ma-data ."
      ],
      "execution_count": 0,
      "outputs": []
    },
    {
      "cell_type": "markdown",
      "metadata": {
        "id": "RtQ0pO781AsM",
        "colab_type": "text"
      },
      "source": [
        "# Process boundaries\n",
        "\n",
        "+ Add zipped boundaries shapefiles to GCS bucket\n",
        "+ updated WDPA datset is available in earthengine \"WCMC/WDPA/current/polygons\"\n",
        "+ Clean and simplify\n",
        "+ Add back to 'processed/' in bucket"
      ]
    },
    {
      "cell_type": "code",
      "metadata": {
        "id": "-kD0nllfhB7G",
        "colab_type": "code",
        "outputId": "0d67cab1-9975-49e1-c504-7f59c452181b",
        "colab": {
          "base_uri": "https://localhost:8080/",
          "height": 243
        }
      },
      "source": [
        "%%bash\n",
        "# Get boundaries data\n",
        "gsutil -m cp -r gs://$MA_BUCKET/boundaries $MA_BUCKET"
      ],
      "execution_count": 0,
      "outputs": [
        {
          "output_type": "stream",
          "text": [
            "Copying gs://mangrove_atlas/boundaries/aoi_rufiji_TZA.zip...\n",
            "/ [0/15 files][    0.0 B/465.5 MiB]   0% Done                                   \rCopying gs://mangrove_atlas/boundaries/EEZ_land_union_v2_201410.zip...\n",
            "Copying gs://mangrove_atlas/boundaries/processed/geojson/aoi_saloum_SEN.json...\n",
            "/ [0/15 files][    0.0 B/465.5 MiB]   0% Done                                   \r/ [0/15 files][    0.0 B/465.5 MiB]   0% Done                                   \rCopying gs://mangrove_atlas/boundaries/processed/aoi_rufiji_TZA.zip...\n",
            "Copying gs://mangrove_atlas/boundaries/aoi_saloum_SEN.zip...\n",
            "/ [0/15 files][    0.0 B/465.5 MiB]   0% Done                                   \rCopying gs://mangrove_atlas/boundaries/processed/geojson/EEZ_land_v2_201410.json...\n",
            "/ [0/15 files][    0.0 B/465.5 MiB]   0% Done                                   \rCopying gs://mangrove_atlas/boundaries/processed/geojson/selected_EEZ_land_v2_201410.json...\n",
            "/ [0/15 files][    0.0 B/465.5 MiB]   0% Done                                   \r/ [0/15 files][    0.0 B/465.5 MiB]   0% Done                                   \rCopying gs://mangrove_atlas/boundaries/processed/aoi_saloum_SEN.zip...\n",
            "Copying gs://mangrove_atlas/boundaries/processed/EEZ_land_v2_201410.zip...\n",
            "Copying gs://mangrove_atlas/boundaries/processed/geojson/aoi_rufiji_TZA.json...\n",
            "/ [0/15 files][    0.0 B/465.5 MiB]   0% Done                                   \r/ [0/15 files][    0.0 B/465.5 MiB]   0% Done                                   \r/ [0/15 files][    0.0 B/465.5 MiB]   0% Done                                   \r/ [1/15 files][  3.3 KiB/465.5 MiB]   0% Done                                   \r/ [2/15 files][  3.3 KiB/465.5 MiB]   0% Done                                   \rCopying gs://mangrove_atlas/boundaries/processed/geojson/selected_EEZ_land_v2_201410_simplifiedee_export.geojson...\n",
            "/ [2/15 files][  3.3 KiB/465.5 MiB]   0% Done                                   \rCopying gs://mangrove_atlas/boundaries/processed/geojson/selected_WDPA_polygons.json...\n",
            "/ [2/15 files][  3.3 KiB/465.5 MiB]   0% Done                                   \r/ [3/15 files][  5.5 KiB/465.5 MiB]   0% Done                                   \rCopying gs://mangrove_atlas/boundaries/processed/geojson/selected_WDPA_polygons_ee_export.geojson...\n",
            "/ [3/15 files][  5.5 KiB/465.5 MiB]   0% Done                                   \r/ [4/15 files][  7.9 KiB/465.5 MiB]   0% Done                                   \r/ [5/15 files][  9.3 KiB/465.5 MiB]   0% Done                                   \r-\r- [6/15 files][ 10.4 KiB/465.5 MiB]   0% Done                                   \r- [7/15 files][  2.1 MiB/465.5 MiB]   0% Done                                   \r- [8/15 files][  3.8 MiB/465.5 MiB]   0% Done                                   \r- [9/15 files][  9.1 MiB/465.5 MiB]   1% Done                                   \r- [10/15 files][  9.5 MiB/465.5 MiB]   2% Done                                  \r- [11/15 files][ 17.2 MiB/465.5 MiB]   3% Done                                  \r\\\r\\ [12/15 files][ 77.0 MiB/465.5 MiB]  16% Done                                  \r|\r/\r/ [12/15 files][139.6 MiB/465.5 MiB]  29% Done                                  \r-\r\\\r\\ [12/15 files][221.9 MiB/465.5 MiB]  47% Done                                  \r|\r| [12/15 files][307.5 MiB/465.5 MiB]  66% Done                                  \r/\r-\r- [12/15 files][400.5 MiB/465.5 MiB]  86% Done                                  \r\\\r\\ [13/15 files][465.5 MiB/465.5 MiB]  99% Done                                  \r"
          ],
          "name": "stderr"
        }
      ]
    },
    {
      "cell_type": "code",
      "metadata": {
        "id": "x5OJ_gYOOPM4",
        "colab_type": "code",
        "outputId": "55833e84-4021-4a16-bc45-05716c28f56d",
        "colab": {
          "base_uri": "https://localhost:8080/",
          "height": 52
        }
      },
      "source": [
        "ls $MA_BUCKET/boundaries"
      ],
      "execution_count": 0,
      "outputs": [
        {
          "output_type": "stream",
          "text": [
            "aoi_rufiji_TZA.zip  EEZ_land_union_v2_201410.zip\n",
            "aoi_saloum_SEN.zip  \u001b[0m\u001b[01;34mprocessed\u001b[0m/\n"
          ],
          "name": "stdout"
        }
      ]
    },
    {
      "cell_type": "code",
      "metadata": {
        "id": "E8SLrmaIQzKM",
        "colab_type": "code",
        "outputId": "2bb2efbc-bbe7-45a4-90f3-486cb0a59ba3",
        "colab": {
          "base_uri": "https://localhost:8080/",
          "height": 1000
        }
      },
      "source": [
        "%%bash\n",
        "# Process zipped shapefiles\n",
        "# Clean and simplfy (parameters set above in section setup)\n",
        "# Convert to geojson\n",
        "# change mapshaper settings below, see https://github.com/mbloch/mapshaper/wiki/Command-Reference\n",
        "\n",
        "# Set working directories\n",
        "df=$MA_BUCKET/boundaries\n",
        "sf=$MA_BUCKET/boundaries/shapefiles\n",
        "pf=$MA_BUCKET/boundaries/processed\n",
        "\n",
        "# Create directories (if needed)\n",
        "mkdir $sf\n",
        "mkdir $pf\n",
        "mkdir ${pf}/geojson\n",
        "\n",
        "# Extract original ZIP to $sf\n",
        "arr=($df/*.zip)\n",
        "for ((i=0; i<${#arr[@]}; i++)); do\n",
        "  z=\"${arr[$i]}\"\n",
        "  echo $z\n",
        "  unzip -o $z -d $sf\n",
        "  f=\"${z%%.*}\"\n",
        "done\n",
        "\n",
        "# Clean and simplify original SHP\n",
        "s=$sf/*.shp\n",
        "echo $s\n",
        "mapshaper-xl \\\n",
        "  -i snap files=\"${s}\" \\\n",
        "  -simplify weighted interval=$SIMP_WEIGHT_INT \\\n",
        "  -clean min-gap-area=$MIN_AREA \\\n",
        "  -filter-islands min-area=$MIN_AREA \\\n",
        "  -filter-slivers min-area=$MIN_AREA \\\n",
        "  -clean min-gap-area=$MIN_AREA \\\n",
        "  -o $pf format=shapefile precision=0.000001 force\n",
        "\n",
        "# Export processed SHP as geojson to $pf/geojson\n",
        "sp=$pf/*.shp\n",
        "echo $sp\n",
        "mapshaper-xl \\\n",
        "  -i files=\"${sp}\" \\\n",
        "  -o ${pf}/geojson format=geojson precision=0.000001 force"
      ],
      "execution_count": 0,
      "outputs": [
        {
          "output_type": "stream",
          "text": [
            "mangrove_atlas/boundaries/aoi_rufiji_TZA.zip\n",
            "Archive:  mangrove_atlas/boundaries/aoi_rufiji_TZA.zip\n",
            " extracting: mangrove_atlas/boundaries/shapefiles/aoi_rufiji_TZA.cpg  \n",
            "  inflating: mangrove_atlas/boundaries/shapefiles/aoi_rufiji_TZA.dbf  \n",
            "  inflating: mangrove_atlas/boundaries/shapefiles/aoi_rufiji_TZA.prj  \n",
            "  inflating: mangrove_atlas/boundaries/shapefiles/aoi_rufiji_TZA.shp  \n",
            "  inflating: mangrove_atlas/boundaries/shapefiles/aoi_rufiji_TZA.shx  \n",
            "mangrove_atlas/boundaries/aoi_saloum_SEN.zip\n",
            "Archive:  mangrove_atlas/boundaries/aoi_saloum_SEN.zip\n",
            "  inflating: mangrove_atlas/boundaries/shapefiles/aoi_saloum_SEN.dbf  \n",
            "  inflating: mangrove_atlas/boundaries/shapefiles/aoi_saloum_SEN.prj  \n",
            "  inflating: mangrove_atlas/boundaries/shapefiles/aoi_saloum_SEN.qpj  \n",
            "  inflating: mangrove_atlas/boundaries/shapefiles/aoi_saloum_SEN.shp  \n",
            "  inflating: mangrove_atlas/boundaries/shapefiles/aoi_saloum_SEN.shx  \n",
            "mangrove_atlas/boundaries/EEZ_land_union_v2_201410.zip\n",
            "Archive:  mangrove_atlas/boundaries/EEZ_land_union_v2_201410.zip\n",
            "  inflating: mangrove_atlas/boundaries/shapefiles/EEZ_land_v2_201410.shx  \n",
            "  inflating: mangrove_atlas/boundaries/shapefiles/EEZ_land_v2_201410.dbf  \n",
            "  inflating: mangrove_atlas/boundaries/shapefiles/EEZ_land_v2_201410.prj  \n",
            "  inflating: mangrove_atlas/boundaries/shapefiles/EEZ_land_v2_201410.sbn  \n",
            "  inflating: mangrove_atlas/boundaries/shapefiles/EEZ_land_v2_201410.sbx  \n",
            "  inflating: mangrove_atlas/boundaries/shapefiles/EEZ_land_v2_201410.shp  \n",
            "  inflating: mangrove_atlas/boundaries/shapefiles/EEZ_land_v2_201410.shp.xml  \n",
            "mangrove_atlas/boundaries/shapefiles/aoi_rufiji_TZA.shp mangrove_atlas/boundaries/shapefiles/aoi_saloum_SEN.shp mangrove_atlas/boundaries/shapefiles/EEZ_land_v2_201410.shp\n",
            "mangrove_atlas/boundaries/processed/aoi_rufiji_TZA.shp mangrove_atlas/boundaries/processed/aoi_saloum_SEN.shp mangrove_atlas/boundaries/processed/EEZ_land_v2_201410.shp\n"
          ],
          "name": "stdout"
        },
        {
          "output_type": "stream",
          "text": [
            "mkdir: cannot create directory ‘mangrove_atlas/boundaries/processed’: File exists\n",
            "mkdir: cannot create directory ‘mangrove_atlas/boundaries/processed/geojson’: File exists\n",
            "Allocating 8000 megabytes of heap memory\n",
            "[i] Snapped 1149 points\n",
            "[clean] Detected DBF text encoding: win1252\n",
            "Sample text containing non-ascii characters:  Curaçao\n",
            "[clean] Retained 260 of 261 features\n",
            "[filter-islands] Removed 0 islands\n",
            "[filter-slivers] Removed 0 slivers\n",
            "[clean] Retained 260 of 260 features\n",
            "[o] Wrote mangrove_atlas/boundaries/processed/EEZ_land_v2_201410.shp\n",
            "[o] Wrote mangrove_atlas/boundaries/processed/EEZ_land_v2_201410.shx\n",
            "[o] Wrote mangrove_atlas/boundaries/processed/EEZ_land_v2_201410.dbf\n",
            "[o] Wrote mangrove_atlas/boundaries/processed/EEZ_land_v2_201410.prj\n",
            "[i] Snapped 1 point\n",
            "[clean] Retained 1 of 1 features\n",
            "[filter-islands] Removed 0 islands\n",
            "[filter-slivers] Removed 0 slivers\n",
            "[clean] Retained 1 of 1 features\n",
            "[o] Wrote mangrove_atlas/boundaries/processed/aoi_rufiji_TZA.shp\n",
            "[o] Wrote mangrove_atlas/boundaries/processed/aoi_rufiji_TZA.shx\n",
            "[o] Wrote mangrove_atlas/boundaries/processed/aoi_rufiji_TZA.dbf\n",
            "[o] Wrote mangrove_atlas/boundaries/processed/aoi_rufiji_TZA.prj\n",
            "[i] Snapped 0 points\n",
            "[clean] Retained 1 of 1 features\n",
            "[filter-islands] Removed 0 islands\n",
            "[filter-slivers] Removed 0 slivers\n",
            "[clean] Retained 1 of 1 features\n",
            "[o] Wrote mangrove_atlas/boundaries/processed/aoi_saloum_SEN.shp\n",
            "[o] Wrote mangrove_atlas/boundaries/processed/aoi_saloum_SEN.shx\n",
            "[o] Wrote mangrove_atlas/boundaries/processed/aoi_saloum_SEN.dbf\n",
            "[o] Wrote mangrove_atlas/boundaries/processed/aoi_saloum_SEN.prj\n",
            "Allocating 8000 megabytes of heap memory\n",
            "[o] Detected DBF text encoding: utf8\n",
            "Sample text containing non-ascii characters:  Curaçao\n",
            "[o] Wrote mangrove_atlas/boundaries/processed/geojson/EEZ_land_v2_201410.json\n",
            "[o] Wrote mangrove_atlas/boundaries/processed/geojson/aoi_rufiji_TZA.json\n",
            "[o] Wrote mangrove_atlas/boundaries/processed/geojson/aoi_saloum_SEN.json\n"
          ],
          "name": "stderr"
        }
      ]
    },
    {
      "cell_type": "code",
      "metadata": {
        "id": "U7d3QLFt5L6X",
        "colab_type": "code",
        "colab": {}
      },
      "source": [
        ""
      ],
      "execution_count": 0,
      "outputs": []
    },
    {
      "cell_type": "code",
      "metadata": {
        "id": "4xMfPZV8BD7g",
        "colab_type": "code",
        "outputId": "0858178c-4d43-4439-b090-a23ee55b8885",
        "colab": {
          "base_uri": "https://localhost:8080/",
          "height": 243
        }
      },
      "source": [
        "!ls $MA_BUCKET/boundaries/processed\n",
        "!ls $MA_BUCKET/boundaries/processed/geojson"
      ],
      "execution_count": 0,
      "outputs": [
        {
          "output_type": "stream",
          "text": [
            "aoi_rufiji_TZA.dbf  aoi_saloum_SEN.prj\t    EEZ_land_v2_201410.shp\n",
            "aoi_rufiji_TZA.prj  aoi_saloum_SEN.shp\t    EEZ_land_v2_201410.shx\n",
            "aoi_rufiji_TZA.shp  aoi_saloum_SEN.shx\t    EEZ_land_v2_201410.zip\n",
            "aoi_rufiji_TZA.shx  aoi_saloum_SEN.zip\t    geojson\n",
            "aoi_rufiji_TZA.zip  EEZ_land_v2_201410.dbf\n",
            "aoi_saloum_SEN.dbf  EEZ_land_v2_201410.prj\n",
            "aoi_rufiji_TZA.json\n",
            "aoi_saloum_SEN.json\n",
            "EEZ_land_v2_201410.json\n",
            "selected_EEZ_land_v2_201410.json\n",
            "selected_EEZ_land_v2_201410_simplifiedee_export.geojson\n",
            "selected_WDPA_polygons_ee_export.geojson\n",
            "selected_WDPA_polygons.json\n"
          ],
          "name": "stdout"
        }
      ]
    },
    {
      "cell_type": "code",
      "metadata": {
        "id": "0i7qqmHZTB4U",
        "colab_type": "code",
        "outputId": "8c1f3ede-390a-46b3-f386-a85d46e6b495",
        "colab": {
          "base_uri": "https://localhost:8080/",
          "height": 225
        }
      },
      "source": [
        "# Zip processed shape files\n",
        "%%bash\n",
        "pf=$MA_BUCKET/boundaries/processed\n",
        "fl=(${pf}/*.shp)\n",
        "for ((i=0; i<${#fl[@]}; i++)); do\n",
        "  z=\"${fl[$i]}\"\n",
        "  bn=\"${z%%.*}\"\n",
        "  zip $bn.zip $bn.*\n",
        "  \n",
        "done"
      ],
      "execution_count": 0,
      "outputs": [
        {
          "output_type": "stream",
          "text": [
            "updating: mangrove_atlas/boundaries/processed/aoi_rufiji_TZA.dbf (deflated 61%)\n",
            "updating: mangrove_atlas/boundaries/processed/aoi_rufiji_TZA.prj (deflated 15%)\n",
            "updating: mangrove_atlas/boundaries/processed/aoi_rufiji_TZA.shp (deflated 15%)\n",
            "updating: mangrove_atlas/boundaries/processed/aoi_rufiji_TZA.shx (deflated 45%)\n",
            "updating: mangrove_atlas/boundaries/processed/aoi_saloum_SEN.dbf (deflated 62%)\n",
            "updating: mangrove_atlas/boundaries/processed/aoi_saloum_SEN.prj (deflated 15%)\n",
            "updating: mangrove_atlas/boundaries/processed/aoi_saloum_SEN.shp (deflated 67%)\n",
            "updating: mangrove_atlas/boundaries/processed/aoi_saloum_SEN.shx (deflated 47%)\n",
            "updating: mangrove_atlas/boundaries/processed/EEZ_land_v2_201410.dbf (deflated 65%)\n",
            "updating: mangrove_atlas/boundaries/processed/EEZ_land_v2_201410.prj (deflated 17%)\n",
            "updating: mangrove_atlas/boundaries/processed/EEZ_land_v2_201410.shp (deflated 25%)\n",
            "updating: mangrove_atlas/boundaries/processed/EEZ_land_v2_201410.shx (deflated 29%)\n"
          ],
          "name": "stdout"
        }
      ]
    },
    {
      "cell_type": "code",
      "metadata": {
        "id": "susFyW6KTq-c",
        "colab_type": "code",
        "outputId": "4761ba44-3b2e-4c8b-9f7f-d930aead9471",
        "colab": {
          "base_uri": "https://localhost:8080/",
          "height": 489
        }
      },
      "source": [
        "%%bash\n",
        "# Upload to GCS bucket\n",
        "pf=$MA_BUCKET/boundaries/processed\n",
        "gsutil -m cp ${pf}/*.zip gs://${pf}/\n",
        "gsutil -m cp -r ${pf}/geojson gs://${pf}/"
      ],
      "execution_count": 0,
      "outputs": [
        {
          "output_type": "stream",
          "text": [
            "Copying file://mangrove_atlas/boundaries/processed/aoi_rufiji_TZA.zip [Content-Type=application/zip]...\n",
            "Copying file://mangrove_atlas/boundaries/processed/aoi_saloum_SEN.zip [Content-Type=application/zip]...\n",
            "Copying file://mangrove_atlas/boundaries/processed/EEZ_land_v2_201410.zip [Content-Type=application/zip]...\n",
            "/ [0/3 files][    0.0 B/  1.6 MiB]   0% Done                                    \r/ [0/3 files][    0.0 B/  1.6 MiB]   0% Done                                    \r/ [0/3 files][    0.0 B/  1.6 MiB]   0% Done                                    \r/ [1/3 files][  1.6 MiB/  1.6 MiB]  99% Done                                    \r/ [2/3 files][  1.6 MiB/  1.6 MiB]  99% Done                                    \r/ [3/3 files][  1.6 MiB/  1.6 MiB] 100% Done                                    \r-\r\n",
            "Operation completed over 3 objects/1.6 MiB.                                      \n",
            "Copying file://mangrove_atlas/boundaries/processed/geojson/aoi_rufiji_TZA.json [Content-Type=application/json]...\n",
            "Copying file://mangrove_atlas/boundaries/processed/geojson/selected_WDPA_polygons_ee_export.geojson [Content-Type=application/octet-stream]...\n",
            "Copying file://mangrove_atlas/boundaries/processed/geojson/selected_EEZ_land_v2_201410.json [Content-Type=application/json]...\n",
            "==> NOTE: You are uploading one or more large file(s), which would run\n",
            "significantly faster if you enable parallel composite uploads. This\n",
            "feature can be enabled by editing the\n",
            "\"parallel_composite_upload_threshold\" value in your .boto\n",
            "configuration file. However, note that if you do this large files will\n",
            "be uploaded as `composite objects\n",
            "<https://cloud.google.com/storage/docs/composite-objects>`_,which\n",
            "means that any user who downloads such objects will need to have a\n",
            "compiled crcmod installed (see \"gsutil help crcmod\"). This is because\n",
            "without a compiled crcmod, computing checksums on composite objects is\n",
            "so slow that gsutil disables downloads of composite objects.\n",
            "\n",
            "Copying file://mangrove_atlas/boundaries/processed/geojson/EEZ_land_v2_201410.json [Content-Type=application/json]...\n",
            "Copying file://mangrove_atlas/boundaries/processed/geojson/selected_WDPA_polygons.json [Content-Type=application/json]...\n",
            "/ [0/7 files][    0.0 B/461.5 MiB]   0% Done                                    \r/ [0/7 files][    0.0 B/461.5 MiB]   0% Done                                    \r/ [0/7 files][    0.0 B/461.5 MiB]   0% Done                                    \r/ [0/7 files][    0.0 B/461.5 MiB]   0% Done                                    \r/ [0/7 files][    0.0 B/461.5 MiB]   0% Done                                    \rCopying file://mangrove_atlas/boundaries/processed/geojson/aoi_saloum_SEN.json [Content-Type=application/json]...\n",
            "/ [0/7 files][    0.0 B/461.5 MiB]   0% Done                                    \rCopying file://mangrove_atlas/boundaries/processed/geojson/selected_EEZ_land_v2_201410_simplifiedee_export.geojson [Content-Type=application/octet-stream]...\n",
            "/ [0/7 files][    0.0 B/461.5 MiB]   0% Done                                    \r/ [1/7 files][ 37.4 MiB/461.5 MiB]   8% Done                                    \r/ [2/7 files][ 49.3 MiB/461.5 MiB]  10% Done                                    \r-\r- [3/7 files][ 94.7 MiB/461.5 MiB]  20% Done                                    \r- [4/7 files][114.0 MiB/461.5 MiB]  24% Done                                    \r- [5/7 files][114.5 MiB/461.5 MiB]  24% Done                                    \r\\\r\\ [6/7 files][188.0 MiB/461.5 MiB]  40% Done                                    \r|\r/\r/ [6/7 files][309.9 MiB/461.5 MiB]  67% Done                                    \r-\r- [6/7 files][328.0 MiB/461.5 MiB]  71% Done                                    \r\\\r|\r| [6/7 files][386.3 MiB/461.5 MiB]  83% Done                                    \r/\r/ [6/7 files][444.3 MiB/461.5 MiB]  96% Done                                    \r-\r- [7/7 files][461.5 MiB/461.5 MiB] 100% Done                                    \r\\\r\n",
            "Operation completed over 7 objects/461.5 MiB.                                    \n"
          ],
          "name": "stderr"
        }
      ]
    },
    {
      "cell_type": "code",
      "metadata": {
        "id": "Dimme1PRU2BY",
        "colab_type": "code",
        "outputId": "7d3ff29f-f70a-493f-c407-6216c9a599cb",
        "colab": {
          "base_uri": "https://localhost:8080/",
          "height": 384
        }
      },
      "source": [
        "# Add zipped SHPs as GEE assets\n",
        "# FIXME use the manifest upload method?\n",
        "# add METADATA!!\n",
        "import os\n",
        "file_path=\"gs://{}/boundaries/processed/*.zip\".format(os.environ.get('MA_BUCKET'))\n",
        "asset_path=\"projects/global-mangrove-watch/boundaries\"\n",
        "time_start=\"2010-01-01T00:00:00\"\n",
        "\n",
        "# Remove previous assets\n",
        "!earthengine rm projects/global-mangrove-watch/boundaries/EEZ_land_v2_201410_simplified\n",
        "!earthengine rm projects/global-mangrove-watch/boundaries/aoi_rufiji_TZA_simplified\n",
        "!earthengine rm projects/global-mangrove-watch/boundaries/aoi_saloum_SEN_simplified\n",
        "\n",
        "# Upload latest assets\n",
        "gee_upload_zips_to_tables(file_path, asset_path, time_start, force=True, append_txt=\"_simplified\", properties={})"
      ],
      "execution_count": 0,
      "outputs": [
        {
          "output_type": "stream",
          "text": [
            "Running command using Cloud API.  Set --no-use_cloud_api to go back to using the API\n",
            "\n",
            "Running command using Cloud API.  Set --no-use_cloud_api to go back to using the API\n",
            "\n",
            "Running command using Cloud API.  Set --no-use_cloud_api to go back to using the API\n",
            "\n",
            "Found 4 files\n",
            "Processing EEZ_land_v2_201410\n",
            "earthengine --no-use_cloud_api upload table --asset_id=projects/global-mangrove-watch/boundaries/EEZ_land_v2_201410_simplified --force --time_start=2010-01-01T00:00:00   gs://mangrove_atlas/boundaries/processed/EEZ_land_v2_201410.zip\n",
            "Task created\n",
            "Processing aoi_rufiji_TZA\n",
            "earthengine --no-use_cloud_api upload table --asset_id=projects/global-mangrove-watch/boundaries/aoi_rufiji_TZA_simplified --force --time_start=2010-01-01T00:00:00   gs://mangrove_atlas/boundaries/processed/aoi_rufiji_TZA.zip\n",
            "Task created\n",
            "Processing aoi_saloum_SEN\n",
            "earthengine --no-use_cloud_api upload table --asset_id=projects/global-mangrove-watch/boundaries/aoi_saloum_SEN_simplified --force --time_start=2010-01-01T00:00:00   gs://mangrove_atlas/boundaries/processed/aoi_saloum_SEN.zip\n",
            "Task created\n",
            "Processing \n",
            "earthengine --no-use_cloud_api upload table --asset_id=projects/global-mangrove-watch/boundaries/_simplified --force --time_start=2010-01-01T00:00:00   \n",
            "Task failed\n",
            "Finished upload\n"
          ],
          "name": "stdout"
        }
      ]
    },
    {
      "cell_type": "markdown",
      "metadata": {
        "id": "B8voZk-gUYCp",
        "colab_type": "text"
      },
      "source": [
        "**Wait for the uploads to finish (check in code editor)**"
      ]
    },
    {
      "cell_type": "code",
      "metadata": {
        "id": "a9DxXiJpcleh",
        "colab_type": "code",
        "outputId": "d19b7440-fdea-4ade-d6dc-9f2191c7ae5b",
        "colab": {
          "base_uri": "https://localhost:8080/",
          "height": 34
        }
      },
      "source": [
        "# Filter EEZ_land to only include geometries with mangrove data\n",
        "import ee\n",
        "ee.Initialize()\n",
        "\n",
        "# Load datasets\n",
        "mr = ee.FeatureCollection(\"projects/global-mangrove-watch/boundaries/EEZ_land_v2_201410_simplified\")\n",
        "mg_2016 = ee.FeatureCollection(\"projects/global-mangrove-watch/land-cover/GMW_2016_v2_simplified\")\n",
        "\n",
        "# Define general bounding box of Mangrove data\n",
        "mg_bbox = ee.Geometry.Polygon([[[-180, 33],[-180, -34],[180, -34],[180, 33]]], None, False);\n",
        "\n",
        "# Filter featureCollection by the presence of Mangroves\n",
        "mr = mr.filterMetadata(\"ISO_3digit\", \"not_equals\", \"ATA\").filterBounds(mg_bbox)\n",
        "\n",
        "# Check if regions intersect with mangrove data\n",
        "mg = mg_2016.union()\n",
        "\n",
        "def check_mg(f):\n",
        "  g = f.geometry()\n",
        "  m = mg_2016.filterBounds(g).union().first()\n",
        "  out = f.copyProperties(f).set({'hasMG': f.intersects(m)})\n",
        "  return out  \n",
        "\n",
        "mr_sel = mr.map(check_mg)\n",
        "mr_sel = mr_sel.filterMetadata(\"hasMG\", \"equals\", True)\n",
        "\n",
        "# Export to GEE Asset\n",
        "!earthengine --no-use_cloud_api rm -r \"projects/global-mangrove-watch/boundaries/selected_EEZ_land_v2_201410_simplified\"\n",
        "mytask = ee.batch.Export.table.toAsset(collection = mr_sel, description=\"asset-export-ma-countries\", assetId=\"projects/global-mangrove-watch/boundaries/selected_EEZ_land_v2_201410_simplified\");\n",
        "mytask.start()\n",
        "\n",
        "# Export to GCS bucket\n",
        "mytask2 = ee.batch.Export.table.toCloudStorage(bucket = os.environ.get('MA_BUCKET'), collection = mr_sel, description = \"GCS-export-ma-countries\", fileFormat=\"GEOJSON\", fileNamePrefix= \"boundaries/processed/geojson/selected_EEZ_land_v2_201410_simplified_\");\n",
        "mytask2.start()"
      ],
      "execution_count": 0,
      "outputs": [
        {
          "output_type": "stream",
          "text": [
            "Asset does not exist or is not accessible: projects/global-mangrove-watch/boundaries/selected_EEZ_land_v2_201410_simplified\n"
          ],
          "name": "stdout"
        }
      ]
    },
    {
      "cell_type": "code",
      "metadata": {
        "id": "N0Vg9Td6mZBE",
        "colab_type": "code",
        "outputId": "b6c8e109-5566-478b-daf9-38a00c37aa1a",
        "colab": {
          "base_uri": "https://localhost:8080/",
          "height": 34
        }
      },
      "source": [
        "# Filter WDPA to only include geometries with mangrove data\n",
        "import ee\n",
        "ee.Initialize()\n",
        "\n",
        "# Load datasets\n",
        "wdpa = ee.FeatureCollection(\"projects/global-mangrove-watch/boundaries/wdpa_polygons_latest_cleaned\")\n",
        "mrs = ee.FeatureCollection(\"projects/global-mangrove-watch/boundaries/selected_EEZ_land_v2_201410_simplified\")\n",
        "mg_2016 = ee.FeatureCollection(\"projects/global-mangrove-watch/land-cover/GMW_2016_v2_simplified\")\n",
        "\n",
        "# Define general bounding box of Mangrove data\n",
        "mg_bbox = ee.Geometry.Polygon([[[-180, 33],[-180, -34],[180, -34],[180, 33]]], None, False);\n",
        "\n",
        "# Filter featureCollection by the presence of Mangroves\n",
        "wdpa = wdpa.filterBounds(mg_bbox)\n",
        "\n",
        "# Filter featureCollection by MARINE (not 0)\n",
        "wdpa = wdpa.filterMetadata(\"MARINE\", \"not_equals\", \"0\")\n",
        "\n",
        "# WDPA CONTAINS MULTIPLE GEOMETRIES, A MIX OF LINE STRINGS AND POLYGONS\n",
        "# WDPA IS NOW PREFILTERED\n",
        "# FOR NOW ONLY FEATURES WITH ALL POLYGONS ARE SELECTED\n",
        "#def set_geo_type(f):\n",
        "#  return f.set('geo_type', f.geometry().type())\n",
        "#wdpa = wdpa.map(set_geo_type).filter(ee.Filter.eq('geo_type', 'Polygon'))\n",
        "\n",
        "# Get list of ISO codes with mangrove data\n",
        "iso = ee.List(mrs.aggregate_array(\"ISO_3digit\")).getInfo()\n",
        "\n",
        "# Filter wdpa\n",
        "out = wdpa.filter(ee.Filter.inList(opt_leftField=\"ISO3\", opt_rightValue=iso))\n",
        "\n",
        "# Export to GEE\n",
        "!earthengine --no-use_cloud_api rm -r \"projects/global-mangrove-watch/boundaries/selected_WDPA_polygons\"\n",
        "mytask = ee.batch.Export.table.toAsset(collection=out, description=\"export-ma-wdpa\",assetId=\"projects/global-mangrove-watch/boundaries/selected_WDPA_polygons_\")\n",
        "mytask.start()\n",
        "\n",
        "# Export to GCS bucket\n",
        "mytask2 = ee.batch.Export.table.toCloudStorage(bucket = os.environ.get('MA_BUCKET'), collection = out, description = \"GCS-export-ma-wpda\", fileFormat=\"GEOJSON\", fileNamePrefix= \"boundaries/processed/geojson/selected_WDPA_polygons_\");\n",
        "mytask2.start()\n"
      ],
      "execution_count": 0,
      "outputs": [
        {
          "output_type": "stream",
          "text": [
            "Asset does not exist or is not accessible: projects/global-mangrove-watch/boundaries/selected_WDPA_polygons\n"
          ],
          "name": "stdout"
        }
      ]
    },
    {
      "cell_type": "code",
      "metadata": {
        "id": "CRVE8AWap9xC",
        "colab_type": "code",
        "outputId": "84ac349a-a005-4983-9603-864074b8433c",
        "colab": {
          "base_uri": "https://localhost:8080/",
          "height": 382
        }
      },
      "source": [
        "%%bash\n",
        "# Ensure GEE exported geojson are correct format\n",
        "# Get processed boundaries data\n",
        "gsutil -m cp -r gs://$MA_BUCKET/boundaries/processed/geojson $MA_BUCKET/boundaries/processed\n",
        "ls $MA_BUCKET/boundaries/processed/geojson\n",
        "\n",
        "mapshaper-xl \\\n",
        "  -i files=$MA_BUCKET/boundaries/processed/geojson/selected_EEZ_land_v2_201410_simplified_ee_export.geojson \\\n",
        "  -o $MA_BUCKET/boundaries/processed/geojson/selected_EEZ_land_v2_201410.json format=geojson precision=0.000001 force\n",
        "\n",
        "mapshaper-xl \\\n",
        "  -i files=$MA_BUCKET/boundaries/processed/geojson/selected_WDPA_polygons_ee_export.geojson \\\n",
        "  -o $MA_BUCKET/boundaries/processed/geojson/selected_WDPA_polygons.json format=geojson precision=0.000001 force\n"
      ],
      "execution_count": 0,
      "outputs": [
        {
          "output_type": "stream",
          "text": [
            "aoi_rufiji_TZA.json\n",
            "aoi_saloum_SEN.json\n",
            "EEZ_land_v2_201410.json\n",
            "selected_EEZ_land_v2_201410.json\n",
            "selected_EEZ_land_v2_201410_simplifiedee_export.geojson\n",
            "selected_WDPA_polygons_ee_export.geojson\n",
            "selected_WDPA_polygons.json\n"
          ],
          "name": "stdout"
        },
        {
          "output_type": "stream",
          "text": [
            "Copying gs://mangrove_atlas/boundaries/processed/geojson/EEZ_land_v2_201410.json...\n",
            "/ [0/7 files][    0.0 B/461.7 MiB]   0% Done                                    \rCopying gs://mangrove_atlas/boundaries/processed/geojson/aoi_saloum_SEN.json...\n",
            "/ [0/7 files][    0.0 B/461.7 MiB]   0% Done                                    \rCopying gs://mangrove_atlas/boundaries/processed/geojson/aoi_rufiji_TZA.json...\n",
            "Copying gs://mangrove_atlas/boundaries/processed/geojson/selected_WDPA_polygons.json...\n",
            "/ [0/7 files][    0.0 B/461.7 MiB]   0% Done                                    \r/ [0/7 files][    0.0 B/461.7 MiB]   0% Done                                    \rCopying gs://mangrove_atlas/boundaries/processed/geojson/selected_EEZ_land_v2_201410.json...\n",
            "/ [0/7 files][    0.0 B/461.7 MiB]   0% Done                                    \rCopying gs://mangrove_atlas/boundaries/processed/geojson/selected_WDPA_polygons_ee_export.geojson...\n",
            "Copying gs://mangrove_atlas/boundaries/processed/geojson/selected_EEZ_land_v2_201410_simplifiedee_export.geojson...\n",
            "/ [0/7 files][    0.0 B/461.7 MiB]   0% Done                                    \r/ [0/7 files][    0.0 B/461.7 MiB]   0% Done                                    \r/ [1/7 files][264.5 KiB/461.7 MiB]   0% Done                                    \r/ [2/7 files][  1.3 MiB/461.7 MiB]   0% Done                                    \r/ [3/7 files][  3.2 MiB/461.7 MiB]   0% Done                                    \r/ [4/7 files][  5.7 MiB/461.7 MiB]   1% Done                                    \r/ [5/7 files][ 14.7 MiB/461.7 MiB]   3% Done                                    \r-\r\\\r\\ [6/7 files][ 97.4 MiB/461.7 MiB]  21% Done                                    \r|\r| [6/7 files][193.1 MiB/461.7 MiB]  41% Done                                    \r/\r-\r- [6/7 files][287.7 MiB/461.7 MiB]  62% Done                                    \r\\\r|\r| [6/7 files][380.5 MiB/461.7 MiB]  82% Done                                    \r/\r/ [7/7 files][461.7 MiB/461.7 MiB] 100% Done                                    \r\n",
            "Operation completed over 7 objects/461.7 MiB.                                    \n",
            "Allocating 8000 megabytes of heap memory\n",
            "[o] Wrote mangrove_atlas/boundaries/processed/geojson/selected_EEZ_land_v2_201410.json\n",
            "Allocating 8000 megabytes of heap memory\n",
            "[i] Error: File not found (mangrove_atlas/boundaries/processed/geojson/selected_WDPA_polygonsee_export.geojson)\n",
            "Run mapshaper -h to view help\n"
          ],
          "name": "stderr"
        }
      ]
    },
    {
      "cell_type": "code",
      "metadata": {
        "id": "4W3o4DLBjbpC",
        "colab_type": "code",
        "outputId": "47378f65-c3bf-4374-9244-303d7596c8dd",
        "colab": {
          "base_uri": "https://localhost:8080/",
          "height": 208
        }
      },
      "source": [
        "%%bash\n",
        "# Make mapbox tiles\n",
        "tippecanoe -zg -o mangrove_atlas/boundaries/processed/geojson/selected_WDPA_polygons.mbtiles --drop-densest-as-needed --extend-zooms-if-still-dropping mangrove_atlas/boundaries/processed/geojson/selected_WDPA_polygons.json\n",
        "tippecanoe -zg -o mangrove_atlas/boundaries/processed/geojson/selected_EEZ_land_v2_201410.mbtiles --drop-densest-as-needed --extend-zooms-if-still-dropping mangrove_atlas/boundaries/processed/geojson/selected_EEZ_land_v2_201410.json\n"
      ],
      "execution_count": 0,
      "outputs": [
        {
          "output_type": "stream",
          "text": [
            "For layer 0, using name \"selected_WDPA_polygons\"\n",
            "Read 0.00 million features\r                              \rReordering geometry: 0% \rReordering geometry: 1% \rReordering geometry: 2% \rReordering geometry: 3% \rReordering geometry: 4% \rReordering geometry: 5% \rReordering geometry: 6% \rReordering geometry: 7% \rReordering geometry: 8% \rReordering geometry: 9% \rReordering geometry: 10% \rReordering geometry: 12% \rReordering geometry: 13% \rReordering geometry: 14% \rReordering geometry: 18% \rReordering geometry: 19% \rReordering geometry: 20% \rReordering geometry: 21% \rReordering geometry: 22% \rReordering geometry: 23% \rReordering geometry: 24% \rReordering geometry: 25% \rReordering geometry: 26% \rReordering geometry: 27% \rReordering geometry: 28% \rReordering geometry: 29% \rReordering geometry: 30% \rReordering geometry: 31% \rReordering geometry: 32% \rReordering geometry: 33% \rReordering geometry: 34% \rReordering geometry: 35% \rReordering geometry: 36% \rReordering geometry: 37% \rReordering geometry: 38% \rReordering geometry: 39% \rReordering geometry: 40% \rReordering geometry: 41% \rReordering geometry: 42% \rReordering geometry: 43% \rReordering geometry: 56% \rReordering geometry: 57% \rReordering geometry: 58% \rReordering geometry: 59% \rReordering geometry: 60% \rReordering geometry: 61% \rReordering geometry: 62% \rReordering geometry: 63% \rReordering geometry: 64% \rReordering geometry: 65% \rReordering geometry: 66% \rReordering geometry: 67% \rReordering geometry: 68% \rReordering geometry: 69% \rReordering geometry: 70% \rReordering geometry: 71% \rReordering geometry: 72% \rReordering geometry: 73% \rReordering geometry: 74% \rReordering geometry: 75% \rReordering geometry: 76% \rReordering geometry: 77% \rReordering geometry: 78% \rReordering geometry: 79% \rReordering geometry: 80% \rReordering geometry: 81% \rReordering geometry: 82% \rReordering geometry: 83% \rReordering geometry: 84% \rReordering geometry: 85% \rReordering geometry: 86% \rReordering geometry: 87% \rReordering geometry: 88% \rReordering geometry: 89% \rReordering geometry: 90% \rReordering geometry: 91% \rReordering geometry: 97% \rReordering geometry: 98% \rReordering geometry: 99% \r2278 features, 7651288 bytes of geometry, 301242 bytes of separate metadata, 274545 bytes of string pool\n",
            "Maxzoom: 0% \rMaxzoom: 1% \rMaxzoom: 2% \rMaxzoom: 3% \rMaxzoom: 4% \rMaxzoom: 5% \rMaxzoom: 6% \rMaxzoom: 7% \rMaxzoom: 8% \rMaxzoom: 9% \rMaxzoom: 10% \rMaxzoom: 11% \rMaxzoom: 12% \rMaxzoom: 13% \rMaxzoom: 14% \rMaxzoom: 15% \rMaxzoom: 16% \rMaxzoom: 17% \rMaxzoom: 18% \rMaxzoom: 19% \rMaxzoom: 20% \rMaxzoom: 21% \rMaxzoom: 22% \rMaxzoom: 23% \rMaxzoom: 24% \rMaxzoom: 25% \rMaxzoom: 26% \rMaxzoom: 27% \rMaxzoom: 28% \rMaxzoom: 29% \rMaxzoom: 30% \rMaxzoom: 31% \rMaxzoom: 32% \rMaxzoom: 33% \rMaxzoom: 34% \rMaxzoom: 35% \rMaxzoom: 36% \rMaxzoom: 37% \rMaxzoom: 38% \rMaxzoom: 39% \rMaxzoom: 40% \rMaxzoom: 41% \rMaxzoom: 42% \rMaxzoom: 43% \rMaxzoom: 44% \rMaxzoom: 45% \rMaxzoom: 46% \rMaxzoom: 47% \rMaxzoom: 48% \rMaxzoom: 49% \rMaxzoom: 50% \rMaxzoom: 51% \rMaxzoom: 52% \rMaxzoom: 53% \rMaxzoom: 54% \rMaxzoom: 55% \rMaxzoom: 56% \rMaxzoom: 57% \rMaxzoom: 58% \rMaxzoom: 59% \rMaxzoom: 60% \rMaxzoom: 61% \rMaxzoom: 62% \rMaxzoom: 63% \rMaxzoom: 64% \rMaxzoom: 65% \rMaxzoom: 66% \rMaxzoom: 67% \rMaxzoom: 68% \rMaxzoom: 69% \rMaxzoom: 70% \rMaxzoom: 71% \rMaxzoom: 72% \rMaxzoom: 73% \rMaxzoom: 74% \rMaxzoom: 75% \rMaxzoom: 76% \rMaxzoom: 77% \rMaxzoom: 78% \rMaxzoom: 79% \rMaxzoom: 80% \rMaxzoom: 81% \rMaxzoom: 82% \rMaxzoom: 83% \rMaxzoom: 84% \rMaxzoom: 85% \rMaxzoom: 86% \rMaxzoom: 87% \rMaxzoom: 88% \rMaxzoom: 89% \rMaxzoom: 90% \rMaxzoom: 91% \rMaxzoom: 92% \rMaxzoom: 93% \rMaxzoom: 94% \rMaxzoom: 95% \rMaxzoom: 96% \rMaxzoom: 97% \rMaxzoom: 98% \rMaxzoom: 99% \rChoosing a maxzoom of -z2 for features about 120711 feet (36793 meters) apart\n",
            "Choosing a maxzoom of -z11 for resolution of about 164 feet (50 meters) within features\n",
            "  0.1%  0/0/0  \r  0.2%  0/0/0  \r  0.4%  0/0/0  \r  0.5%  0/0/0  \r  0.6%  0/0/0  \r  0.7%  0/0/0  \r  0.8%  0/0/0  \r  0.9%  0/0/0  \r  1.0%  0/0/0  \r  1.7%  0/0/0  \r  1.8%  0/0/0  \r  2.0%  0/0/0  \r  2.1%  0/0/0  \r  2.2%  0/0/0  \r  2.4%  0/0/0  \r  2.5%  0/0/0  \r  2.6%  0/0/0  \r  2.7%  0/0/0  \r  2.9%  0/0/0  \r  3.0%  0/0/0  \r  3.1%  0/0/0  \r  3.2%  0/0/0  \r  3.4%  0/0/0  \r  3.5%  0/0/0  \r  3.6%  0/0/0  \r  4.0%  0/0/0  \r  4.1%  0/0/0  \r  4.2%  0/0/0  \r  4.3%  0/0/0  \r  4.4%  0/0/0  \r  4.5%  0/0/0  \r  4.6%  0/0/0  \r  4.7%  0/0/0  \r  4.8%  0/0/0  \r  4.9%  0/0/0  \r  5.0%  0/0/0  \r  5.1%  0/0/0  \r  5.2%  0/0/0  \r  5.9%  0/0/0  \r  6.0%  0/0/0  \r  6.1%  0/0/0  \r  6.2%  0/0/0  \r  6.3%  0/0/0  \r  6.4%  0/0/0  \r  6.5%  0/0/0  \r  6.6%  0/0/0  \r  6.7%  0/0/0  \r  6.8%  0/0/0  \r  6.9%  0/0/0  \r  7.0%  0/0/0  \r  7.1%  0/0/0  \r  7.2%  0/0/0  \r  7.3%  0/0/0  \r  7.4%  0/0/0  \r  7.5%  0/0/0  \r  7.6%  0/0/0  \r  7.7%  0/0/0  \r  7.8%  0/0/0  \r  8.2%  0/0/0  \r  8.3%  0/0/0  \r  9.0%  1/1/1  \r  9.1%  1/0/1  \r  9.2%  1/1/1  \r  9.3%  1/1/1  \r  9.4%  1/1/1  \r  9.5%  1/1/1  \r  9.6%  1/1/1  \r  9.7%  1/1/1  \r  9.8%  1/1/1  \r  10.0%  1/1/1  \r  11.4%  1/1/1  \r  11.5%  1/1/1  \r  11.6%  1/1/0  \r  11.7%  1/1/0  \r  11.8%  1/1/0  \r  11.9%  1/1/0  \r  12.0%  1/0/0  \r  12.1%  1/0/0  \r  12.2%  1/0/0  \r  12.3%  1/0/0  \r  12.4%  1/0/0  \r  12.5%  1/0/1  \r  13.2%  1/1/1  \r  13.3%  1/1/1  \r  13.4%  1/1/1  \r  13.5%  1/1/1  \r  13.6%  1/1/1  \r  13.7%  1/1/1  \r  13.8%  1/1/1  \r  13.9%  1/1/1  \r  14.0%  1/1/1  \r  15.5%  1/1/1  \r  15.6%  1/1/1  \r  15.7%  1/1/1  \r  15.8%  1/1/0  \r  15.9%  1/1/0  \r  16.0%  1/1/0  \r  16.1%  1/0/0  \r  16.3%  1/0/0  \r  16.5%  1/0/0  \r  16.6%  1/0/0  \r  17.0%  2/0/2  \r  17.1%  2/1/2  \r  17.3%  2/1/2  \r  17.8%  2/0/2  \r  18.0%  2/3/1  \r  18.1%  2/3/1  \r  18.3%  2/3/2  \r  18.5%  2/3/2  \r  18.6%  2/3/2  \r  18.8%  2/3/2  \r  19.0%  2/3/2  \r  19.1%  2/3/2  \r  19.3%  2/3/2  \r  19.9%  2/3/2  \r  20.6%  2/2/1  \r  20.8%  2/0/1  \r  21.2%  2/0/2  \r  21.3%  2/1/2  \r  21.5%  2/1/2  \r  21.6%  2/3/1  \r  21.9%  2/0/2  \r  22.1%  2/3/1  \r  22.3%  2/1/1  \r  22.5%  2/3/2  \r  22.6%  2/3/2  \r  22.8%  2/3/2  \r  23.0%  2/3/2  \r  23.1%  2/3/2  \r  23.7%  2/3/2  \r  23.8%  2/3/2  \r  24.0%  2/3/2  \r  24.1%  2/3/2  \r  24.7%  2/3/2  \r  24.8%  2/2/1  \r  25.0%  3/5/3  \r  25.0%  3/1/4  \r  25.1%  3/1/3  \r  25.4%  3/7/4  \r  25.5%  3/7/4  \r  25.6%  3/7/4  \r  25.8%  3/7/4  \r  26.1%  3/7/4  \r  26.9%  3/7/4  \r  27.3%  3/6/4  \r  27.5%  3/6/4  \r  27.6%  3/6/4  \r  28.0%  3/6/3  \r  28.1%  3/3/4  \r  28.4%  3/2/3  \r  28.5%  3/2/3  \r  28.6%  3/2/3  \r  28.8%  3/2/3  \r  29.0%  3/2/3  \r  29.1%  3/2/3  \r  29.4%  3/7/4  \r  29.6%  3/7/4  \r  29.8%  3/7/4  \r  30.0%  3/7/4  \r  30.3%  3/7/4  \r  31.0%  3/7/4  \r  31.4%  3/6/4  \r  31.5%  3/6/4  \r  31.6%  3/6/4  \r  31.8%  3/7/3  \r  32.1%  3/6/3  \r  32.2%  3/3/4  \r  32.4%  3/2/3  \r  32.6%  3/2/3  \r  32.7%  3/2/3  \r  32.9%  3/2/3  \r  33.0%  3/2/3  \r  33.1%  3/2/3  \r  33.2%  3/2/3  \r  33.4%  4/14/9  \r  33.5%  4/15/9  \r  33.6%  4/15/9  \r  33.7%  4/15/9  \r  34.1%  4/15/9  \r  34.2%  4/15/9  \r  34.6%  4/4/7  \r  34.7%  4/11/7  \r  34.9%  4/13/7  \r  35.0%  4/13/9  \r  35.1%  4/5/7  \r  35.2%  4/5/9  \r  35.4%  4/15/8  \r  35.5%  4/14/8  \r  35.6%  4/14/8  \r  36.2%  4/0/9  \r  36.4%  4/12/9  \r  36.5%  4/12/9  \r  36.6%  4/13/8  \r  36.7%  4/13/8  \r  36.9%  4/13/8  \r  37.0%  4/13/8  \r  37.1%  4/13/8  \r  37.2%  4/2/6  \r  37.4%  4/6/8  \r  37.5%  4/14/9  \r  37.7%  4/15/9  \r  37.9%  4/15/9  \r  38.0%  4/15/9  \r  38.3%  4/15/9  \r  38.7%  4/15/9  \r  39.0%  4/15/9  \r  39.1%  4/1/7  \r  39.2%  4/13/7  \r  39.8%  4/0/9  \r  39.9%  4/4/6  \r  40.0%  4/4/6  \r  40.3%  4/0/9  \r  40.6%  4/4/6  \r  40.7%  4/4/6  \r  40.9%  4/13/8  \r  41.0%  4/13/8  \r  41.1%  4/13/8  \r  41.2%  4/13/8  \r  41.4%  4/0/8  \r  41.5%  4/6/8  \r  41.6%  4/6/8  \r  41.7%  5/29/18  \r  41.9%  5/9/14  \r  42.0%  5/8/15  \r  42.1%  5/26/19  \r  42.2%  5/8/14  \r  42.6%  5/0/19  \r  42.7%  5/0/19  \r  42.9%  5/31/19  \r  43.1%  5/0/18  \r  43.2%  5/31/19  \r  43.6%  5/0/18  \r  43.7%  5/27/15  \r  43.9%  5/31/18  \r  44.3%  5/31/18  \r  44.4%  5/31/18  \r  44.7%  5/30/19  \r  44.5%  5/27/16  \r  44.7%  5/30/19  \r  44.9%  5/27/16  \r  45.0%  5/8/13  \r  45.1%  5/8/13  \r  45.2%  5/26/17  \r  45.4%  5/30/18  \r  45.5%  5/12/17  \r  45.6%  5/26/12  \r  45.7%  5/26/16  \r  45.9%  5/29/18  \r  46.0%  5/9/14  \r  46.1%  5/9/14  \r  46.2%  5/8/15  \r  46.4%  5/8/14  \r  46.7%  5/0/19  \r  46.9%  5/0/19  \r  47.0%  5/31/19  \r  47.1%  5/31/19  \r  47.3%  5/0/18  \r  47.4%  5/31/19  \r  47.5%  5/11/15  \r  47.6%  5/27/13  \r  48.0%  5/0/18  \r  48.1%  5/9/13  \r  48.2%  5/31/18  \r  48.4%  5/30/19  \r  48.5%  5/31/18  \r  48.8%  5/31/18  \r  48.9%  5/31/18  \r  49.0%  5/8/13  \r  49.2%  5/27/16  \r  49.4%  5/12/17  \r  49.6%  5/30/18  \r  49.7%  5/2/14  \r  49.9%  5/26/16  \r  50.0%  6/59/38  \r  50.0%  6/51/31  \r  50.1%  6/17/30  \r  50.2%  6/63/35  \r  50.4%  6/63/38  \r  50.5%  6/63/34  \r  50.5%  6/53/31  \r  50.6%  6/17/27  \r  50.7%  6/41/27  \r  50.9%  6/18/31  \r  51.1%  6/0/38  \r  51.2%  6/0/38  \r  51.4%  6/62/38  \r  51.5%  6/19/28  \r  51.6%  6/23/36  \r  51.7%  6/16/26  \r  52.1%  6/1/36  \r  52.2%  6/63/36  \r  52.6%  6/1/37  \r  52.7%  6/63/37  \r  52.9%  6/14/28  \r  53.0%  6/52/36  \r  53.1%  6/16/29  \r  53.4%  6/0/36  \r  53.7%  6/0/37  \r  54.0%  6/62/37  \r  54.1%  6/54/33  \r  54.2%  6/33/31  \r  54.4%  6/1/38  \r  54.5%  6/63/35  \r  54.6%  6/59/35  \r  54.7%  6/15/26  \r  54.9%  6/17/26  \r  55.0%  6/25/34  \r  55.1%  6/54/31  \r  55.2%  6/0/38  \r  55.4%  6/0/38  \r  55.5%  6/19/28  \r  55.7%  6/62/38  \r  56.1%  6/1/36  \r  56.2%  6/63/36  \r  56.4%  6/55/32  \r  56.5%  6/17/29  \r  56.6%  6/53/32  \r  56.9%  6/1/37  \r  57.0%  6/52/36  \r  57.1%  6/63/37  \r  57.4%  6/0/36  \r  57.5%  6/0/36  \r  57.6%  6/16/29  \r  57.7%  6/20/28  \r  58.0%  6/0/37  \r  58.1%  6/62/37  \r  58.2%  6/62/37  \r  58.4%  7/127/70  \r  58.5%  7/35/54  \r  58.7%  7/1/77  \r  58.9%  7/127/75  \r  59.0%  7/125/76  \r  59.1%  7/33/52  \r  59.2%  7/127/74  \r  59.4%  7/125/75  \r  59.5%  7/33/58  \r  59.6%  7/1/74  \r  59.7%  7/1/74  \r  60.0%  7/0/77  \r  60.1%  7/0/76  \r  60.2%  7/24/53  \r  60.4%  7/32/52  \r  60.5%  7/32/59  \r  60.6%  7/0/75  \r  60.7%  7/0/75  \r  60.9%  7/124/75  \r  61.0%  7/108/67  \r  61.1%  7/127/77  \r  61.2%  7/123/76  \r  61.4%  7/35/56  \r  61.5%  7/67/64  \r  61.6%  7/105/64  \r  61.7%  7/1/73  \r  61.9%  7/36/62  \r  62.0%  7/104/71  \r  62.1%  7/30/57  \r  62.2%  7/32/57  \r  62.4%  7/0/73  \r  62.5%  7/111/78  \r  62.5%  7/103/63  \r  62.6%  7/127/70  \r  62.7%  7/107/70  \r  62.9%  7/45/61  \r  63.0%  7/1/76  \r  63.1%  7/1/76  \r  63.2%  7/125/76  \r  63.4%  7/1/75  \r  63.5%  7/127/74  \r  63.6%  7/125/75  \r  63.7%  7/33/58  \r  63.9%  7/1/74  \r  64.0%  7/122/70  \r  64.1%  7/0/77  \r  64.2%  7/108/61  \r  64.3%  7/0/76  \r  64.4%  7/124/76  \r  64.5%  7/32/59  \r  64.6%  7/104/75  \r  64.7%  7/0/75  \r  64.8%  7/0/75  \r  64.9%  7/124/75  \r  65.0%  7/124/75  \r  65.1%  7/0/74  \r  65.2%  7/0/74  \r  65.3%  7/107/69  \r  65.4%  7/105/71  \r  65.4%  7/31/52  \r  65.5%  7/127/73  \r  65.6%  7/31/56  \r  65.7%  7/1/73  \r  65.8%  7/109/65  \r  65.9%  7/105/64  \r  66.0%  7/116/71  \r  66.1%  7/50/68  \r  66.2%  7/36/54  \r  66.3%  7/38/56  \r  66.4%  7/104/73  \r  66.5%  7/0/73  \r  66.6%  7/40/57  \r  66.7%  8/251/154  \r  66.7%  8/71/111  \r  66.8%  8/215/119  \r  66.9%  8/1/154  \r  67.0%  8/217/138  \r  67.1%  8/1/150  \r  67.2%  8/249/151  \r  67.3%  8/215/130  \r  67.4%  8/223/131  \r  67.5%  8/65/114  \r  67.6%  8/213/131  \r  67.7%  8/209/147  \r  67.8%  8/0/154  \r  67.9%  8/0/150  \r  68.0%  8/250/151  \r  68.1%  8/246/114  \r  68.2%  8/4/151  \r  68.3%  8/236/146  \r  68.4%  8/70/107  \r  68.5%  8/67/120  \r  68.6%  8/220/123  \r  68.7%  8/212/131  \r  68.8%  8/0/147  \r  68.9%  8/1/152  \r  69.0%  8/249/152  \r  69.1%  8/255/149  \r  69.2%  8/255/152  \r  69.3%  8/247/152  \r  69.4%  8/249/153  \r  69.5%  8/1/149  \r  69.6%  8/255/153  \r  69.7%  8/70/108  \r  69.8%  8/73/125  \r  69.9%  8/0/152  \r  70.0%  8/254/141  \r  70.1%  8/0/148  \r  70.2%  8/2/149  \r  70.3%  8/248/153  \r  70.4%  8/64/105  \r  70.5%  8/220/128  \r  70.6%  8/216/133  \r  70.7%  8/210/129  \r  70.8%  8/96/145  \r  70.9%  8/255/150  \r  71.0%  8/219/151  \r  71.0%  8/109/126  \r  71.1%  8/217/138  \r  71.2%  8/65/118  \r  71.3%  8/63/106  \r  71.4%  8/249/151  \r  71.5%  8/215/139  \r  71.6%  8/77/114  \r  71.7%  8/225/130  \r  71.8%  8/2/150  \r  71.9%  8/0/154  \r  72.0%  8/220/134  \r  72.1%  8/216/134  \r  72.2%  8/222/130  \r  72.3%  8/220/127  \r  72.4%  8/4/151  \r  72.5%  8/0/151  \r  72.6%  8/222/123  \r  72.7%  8/246/147  \r  72.8%  8/255/148  \r  72.9%  8/3/148  \r  73.0%  8/0/147  \r  73.1%  8/249/152  \r  73.2%  8/3/153  \r  73.3%  8/255/152  \r  73.4%  8/247/152  \r  73.5%  8/199/128  \r  73.5%  8/225/153  \r  73.6%  8/249/153  \r  73.7%  8/1/149  \r  73.8%  8/254/140  \r  73.9%  8/247/153  \r  74.0%  8/211/113  \r  74.1%  8/248/152  \r  74.2%  8/254/141  \r  74.3%  8/2/153  \r  74.4%  8/134/128  \r  74.5%  8/100/136  \r  74.6%  8/64/105  \r  74.7%  8/96/144  \r  74.8%  8/222/153  \r  74.9%  8/100/137  \r  75.0%  9/127/255  \r  75.0%  9/127/254  \r  75.1%  9/503/303  \r  75.2%  9/499/303  \r  75.3%  9/511/295  \r  75.4%  9/269/255  \r  75.5%  9/501/303  \r  75.6%  9/1/294  \r  75.7%  9/453/263  \r  75.8%  9/503/307  \r  75.9%  9/509/282  \r  76.0%  9/129/210  \r  76.1%  9/421/258  \r  76.2%  9/33/226  \r  76.3%  9/498/302  \r  76.4%  9/498/303  \r  76.5%  9/6/295  \r  76.6%  9/216/254  \r  76.6%  9/492/287  \r  76.7%  9/440/255  \r  76.8%  9/496/303  \r  76.9%  9/134/234  \r  77.0%  9/214/282  \r  77.0%  9/290/307  \r  77.1%  9/436/274  \r  77.1%  9/18/219  \r  77.2%  9/312/266  \r  77.2%  9/428/267  \r  77.3%  9/140/227  \r  77.4%  9/511/301  \r  77.5%  9/447/261  \r  77.6%  9/1/308  \r  77.7%  9/473/293  \r  77.8%  9/7/304  \r  77.9%  9/443/248  \r  78.0%  9/495/304  \r  78.1%  9/497/305  \r  78.2%  9/189/257  \r  78.3%  9/2/308  \r  78.4%  9/158/229  \r  78.5%  9/0/308  \r  78.6%  9/188/292  \r  78.7%  9/6/304  \r  78.8%  9/498/304  \r  78.9%  9/182/249  \r  79.0%  9/0/305  \r  79.1%  9/0/297  \r  79.2%  9/511/303  \r  79.3%  9/499/302  \r  79.4%  9/499/303  \r  79.5%  9/131/231  \r  79.6%  9/501/303  \r  79.7%  9/5/294  \r  79.8%  9/5/295  \r  79.9%  9/511/298  \r  80.0%  9/511/306  \r  80.1%  9/411/258  \r  80.2%  9/129/210  \r  80.3%  9/421/258  \r  80.4%  9/414/286  \r  80.4%  9/94/207  \r  80.5%  9/498/302  \r  80.6%  9/94/215  \r  80.6%  9/186/294  \r  80.7%  9/2/294  \r  80.8%  9/500/302  \r  80.9%  9/4/294  \r  81.0%  9/0/294  \r  81.1%  9/470/307  \r  81.2%  9/494/307  \r  81.3%  9/496/306  \r  81.4%  9/140/210  \r  81.5%  9/192/290  \r  81.6%  9/419/308  \r  81.7%  9/155/229  \r  81.8%  9/157/229  \r  81.9%  9/145/252  \r  82.0%  9/7/297  \r  82.1%  9/443/248  \r  82.2%  9/509/281  \r  82.3%  9/133/232  \r  82.4%  9/1/281  \r  82.5%  9/394/253  \r  82.6%  9/446/261  \r  82.7%  9/0/300  \r  82.8%  9/444/261  \r  82.9%  9/6/305  \r  83.0%  9/6/297  \r  83.1%  9/410/257  \r  83.2%  9/496/304  \r  83.3%  9/188/257  \r  83.4%  10/1023/559  \r  83.5%  10/863/614  \r  83.6%  10/251/423  \r  83.7%  10/881/510  \r  83.8%  10/1/591  \r  83.9%  10/1/615  \r  84.0%  10/1023/608  \r  84.1%  10/845/570  \r  84.2%  10/869/555  \r  84.2%  10/269/466  \r  84.3%  10/385/578  \r  84.4%  10/385/579  \r  84.5%  10/858/510  \r  84.6%  10/866/535  \r  84.7%  10/880/511  \r  84.8%  10/904/526  \r  84.9%  10/0/614  \r  85.0%  10/14/593  \r  85.1%  10/868/555  \r  85.2%  10/1020/563  \r  85.3%  10/792/483  \r  85.4%  10/0/594  \r  85.5%  10/3/589  \r  85.6%  10/259/421  \r  85.7%  10/991/612  \r  85.8%  10/1/589  \r  85.9%  10/1/597  \r  86.0%  10/993/612  \r  86.1%  10/1023/602  \r  86.2%  10/1023/594  \r  86.3%  10/995/610  \r  86.4%  10/998/604  \r  86.5%  10/813/528  \r  86.6%  10/769/448  \r  86.6%  10/434/500  \r  86.7%  10/858/461  \r  86.8%  10/818/533  \r  86.8%  10/864/540  \r  86.9%  10/836/589  \r  87.0%  10/12/613  \r  87.1%  10/384/517  \r  87.2%  10/270/467  \r  87.3%  10/864/536  \r  87.4%  10/604/593  \r  87.4%  10/884/512  \r  87.5%  10/255/510  \r  87.5%  10/255/511  \r  87.6%  10/995/606  \r  87.7%  10/1023/599  \r  87.8%  10/877/543  \r  87.9%  10/269/422  \r  88.0%  10/1/591  \r  88.1%  10/1023/560  \r  88.2%  10/259/473  \r  88.3%  10/767/449  \r  88.4%  10/309/459  \r  88.5%  10/358/495  \r  88.6%  10/14/606  \r  88.7%  10/390/519  \r  88.8%  10/996/607  \r  88.9%  10/12/590  \r  89.0%  10/0/599  \r  89.1%  10/2/617  \r  89.2%  10/2/616  \r  89.3%  10/270/448  \r  89.4%  10/252/458  \r  89.5%  10/1023/605  \r  89.6%  10/891/493  \r  89.7%  10/999/604  \r  89.8%  10/317/477  \r  89.9%  10/273/477  \r  90.0%  10/257/421  \r  90.1%  10/9/588  \r  90.2%  10/993/612  \r  90.3%  10/835/579  \r  90.4%  10/13/609  \r  90.5%  10/286/444  \r  90.6%  10/1002/604  \r  90.7%  10/990/612  \r  90.8%  10/66/452  \r  90.9%  10/1000/604  \r  91.0%  10/12/612  \r  91.1%  10/836/589  \r  91.2%  10/260/421  \r  91.3%  10/286/507  \r  91.4%  10/0/616  \r  91.5%  10/996/608  \r  91.6%  10/880/544  \r  91.6%  10/876/545  \r  91.7%  11/543/895  \r  91.8%  11/1763/1023  \r  91.9%  11/1219/854  \r  92.0%  11/617/924  \r  92.1%  11/1705/973  \r  92.2%  11/521/917  \r  92.3%  11/11/1176  \r  92.4%  11/2047/1188  \r  92.5%  11/1611/992  \r  92.6%  11/1673/1178  \r  92.7%  11/1753/1042  \r  92.8%  11/2014/1215  \r  92.9%  11/1762/1023  \r  93.0%  11/1670/1155  \r  93.1%  11/1980/1229  \r  93.2%  11/1348/864  \r  93.3%  11/14/1176  \r  93.3%  11/1672/1173  \r  93.4%  11/642/920  \r  93.5%  11/802/1097  \r  93.6%  11/1668/1178  \r  93.7%  11/1672/1179  \r  93.8%  11/520/898  \r  93.9%  11/2047/1228  \r  94.0%  11/1787/1045  \r  94.1%  11/781/1039  \r  94.2%  11/581/883  \r  94.2%  11/585/974  \r  94.3%  11/1585/1014  \r  94.4%  11/515/843  \r  94.5%  11/515/842  \r  94.6%  11/1673/1177  \r  94.7%  11/805/1096  \r  94.8%  11/1/1121  \r  94.9%  11/1/1216  \r  95.0%  11/1674/1069  \r  95.1%  11/26/1221  \r  95.2%  11/760/1030  \r  95.3%  11/1788/1059  \r  95.4%  11/566/827  \r  95.5%  11/514/843  \r  95.6%  11/2/1203  \r  95.7%  11/552/857  \r  95.8%  11/0/1233  \r  95.9%  11/1775/1007  \r  96.0%  11/427/911  \r  96.1%  11/29/1212  \r  96.2%  11/1317/877  \r  96.3%  11/1997/1216  \r  96.4%  11/15/1176  \r  96.5%  11/599/905  \r  96.6%  11/751/1028  \r  96.7%  11/1805/1050  \r  96.8%  11/1/1179  \r  96.9%  11/1993/1218  \r  96.9%  11/33/1203  \r  97.0%  11/1678/1231  \r  97.1%  11/1730/1071  \r  97.2%  11/770/1159  \r  97.3%  11/1712/1228  \r  97.4%  11/28/1217  \r  97.4%  11/0/1204  \r  97.5%  11/1854/1128  \r  97.6%  11/802/1096  \r  97.7%  11/630/917  \r  97.8%  11/1684/1034  \r  97.9%  11/1856/1131  \r  98.0%  11/584/995  \r  98.1%  11/1979/1228  \r  98.2%  11/2035/1125  \r  98.3%  11/1605/1054  \r  98.4%  11/1737/1111  \r  98.5%  11/1679/1227  \r  98.5%  11/801/1126  \r  98.6%  11/519/842  \r  98.7%  11/1581/953  \r  98.7%  11/839/1046  \r  98.8%  11/17/1177  \r  98.9%  11/1681/1144  \r  99.0%  11/22/1228  \r  99.1%  11/2014/1229  \r  99.2%  11/2014/1217  \r  99.3%  11/524/927  \r  99.4%  11/1584/966  \r  99.5%  11/1762/986  \r  99.5%  11/576/823  \r  99.6%  11/22/1227  \r  99.7%  11/1478/983  \r  99.8%  11/476/932  \r  99.9%  11/384/921  \r  99.9%  11/1992/1152  \r\n",
            "For layer 0, using name \"selected_EEZ_land_v2_201410\"\n",
            "Warning: Can't represent non-numeric feature ID \"00000000000000000003\"\n",
            "Read 0.00 million features\r                              \rReordering geometry: 0% \rReordering geometry: 1% \rReordering geometry: 2% \rReordering geometry: 3% \rReordering geometry: 4% \rReordering geometry: 5% \rReordering geometry: 6% \rReordering geometry: 7% \rReordering geometry: 8% \rReordering geometry: 9% \rReordering geometry: 13% \rReordering geometry: 14% \rReordering geometry: 15% \rReordering geometry: 16% \rReordering geometry: 17% \rReordering geometry: 18% \rReordering geometry: 19% \rReordering geometry: 20% \rReordering geometry: 21% \rReordering geometry: 22% \rReordering geometry: 24% \rReordering geometry: 26% \rReordering geometry: 27% \rReordering geometry: 28% \rReordering geometry: 29% \rReordering geometry: 30% \rReordering geometry: 31% \rReordering geometry: 32% \rReordering geometry: 33% \rReordering geometry: 34% \rReordering geometry: 35% \rReordering geometry: 36% \rReordering geometry: 37% \rReordering geometry: 38% \rReordering geometry: 39% \rReordering geometry: 40% \rReordering geometry: 41% \rReordering geometry: 44% \rReordering geometry: 45% \rReordering geometry: 46% \rReordering geometry: 47% \rReordering geometry: 56% \rReordering geometry: 58% \rReordering geometry: 59% \rReordering geometry: 60% \rReordering geometry: 61% \rReordering geometry: 63% \rReordering geometry: 65% \rReordering geometry: 66% \rReordering geometry: 71% \rReordering geometry: 72% \rReordering geometry: 73% \rReordering geometry: 74% \rReordering geometry: 75% \rReordering geometry: 76% \rReordering geometry: 79% \rReordering geometry: 80% \rReordering geometry: 81% \rReordering geometry: 82% \rReordering geometry: 83% \rReordering geometry: 84% \rReordering geometry: 86% \rReordering geometry: 87% \rReordering geometry: 88% \rReordering geometry: 89% \rReordering geometry: 90% \rReordering geometry: 94% \rReordering geometry: 95% \rReordering geometry: 96% \rReordering geometry: 99% \r102 features, 704721 bytes of geometry, 2368 bytes of separate metadata, 5316 bytes of string pool\n",
            "Maxzoom: 0% \rMaxzoom: 1% \rMaxzoom: 2% \rMaxzoom: 3% \rMaxzoom: 4% \rMaxzoom: 5% \rMaxzoom: 6% \rMaxzoom: 7% \rMaxzoom: 8% \rMaxzoom: 9% \rMaxzoom: 10% \rMaxzoom: 11% \rMaxzoom: 12% \rMaxzoom: 13% \rMaxzoom: 14% \rMaxzoom: 15% \rMaxzoom: 16% \rMaxzoom: 17% \rMaxzoom: 18% \rMaxzoom: 19% \rMaxzoom: 20% \rMaxzoom: 21% \rMaxzoom: 22% \rMaxzoom: 23% \rMaxzoom: 24% \rMaxzoom: 25% \rMaxzoom: 26% \rMaxzoom: 27% \rMaxzoom: 28% \rMaxzoom: 29% \rMaxzoom: 30% \rMaxzoom: 31% \rMaxzoom: 32% \rMaxzoom: 33% \rMaxzoom: 34% \rMaxzoom: 35% \rMaxzoom: 36% \rMaxzoom: 37% \rMaxzoom: 38% \rMaxzoom: 39% \rMaxzoom: 40% \rMaxzoom: 41% \rMaxzoom: 42% \rMaxzoom: 43% \rMaxzoom: 44% \rMaxzoom: 45% \rMaxzoom: 46% \rMaxzoom: 47% \rMaxzoom: 48% \rMaxzoom: 49% \rMaxzoom: 50% \rMaxzoom: 51% \rMaxzoom: 52% \rMaxzoom: 53% \rMaxzoom: 54% \rMaxzoom: 55% \rMaxzoom: 56% \rMaxzoom: 57% \rMaxzoom: 58% \rMaxzoom: 59% \rMaxzoom: 60% \rMaxzoom: 61% \rMaxzoom: 62% \rMaxzoom: 63% \rMaxzoom: 64% \rMaxzoom: 65% \rMaxzoom: 66% \rMaxzoom: 67% \rMaxzoom: 68% \rMaxzoom: 69% \rMaxzoom: 70% \rMaxzoom: 71% \rMaxzoom: 72% \rMaxzoom: 73% \rMaxzoom: 74% \rMaxzoom: 75% \rMaxzoom: 76% \rMaxzoom: 77% \rMaxzoom: 78% \rMaxzoom: 79% \rMaxzoom: 80% \rMaxzoom: 81% \rMaxzoom: 82% \rMaxzoom: 83% \rMaxzoom: 84% \rMaxzoom: 85% \rMaxzoom: 86% \rMaxzoom: 87% \rMaxzoom: 88% \rMaxzoom: 89% \rMaxzoom: 90% \rMaxzoom: 91% \rMaxzoom: 92% \rMaxzoom: 93% \rMaxzoom: 94% \rMaxzoom: 95% \rMaxzoom: 96% \rMaxzoom: 97% \rMaxzoom: 98% \rMaxzoom: 99% \rChoosing a maxzoom of -z0 for features about 3626844 feet (1105462 meters) apart\n",
            "Choosing a maxzoom of -z4 for resolution of about 31866 feet (9712 meters) within features\n",
            "  0.2%  0/0/0  \r  0.4%  0/0/0  \r  0.5%  0/0/0  \r  0.7%  0/0/0  \r  0.8%  0/0/0  \r  1.0%  0/0/0  \r  1.1%  0/0/0  \r  1.3%  0/0/0  \r  1.5%  0/0/0  \r  1.6%  0/0/0  \r  1.8%  0/0/0  \r  2.0%  0/0/0  \r  2.1%  0/0/0  \r  2.5%  0/0/0  \r  2.6%  0/0/0  \r  2.7%  0/0/0  \r  2.9%  0/0/0  \r  4.2%  0/0/0  \r  4.4%  0/0/0  \r  4.5%  0/0/0  \r  4.6%  0/0/0  \r  4.7%  0/0/0  \r  4.8%  0/0/0  \r  4.9%  0/0/0  \r  5.0%  0/0/0  \r  5.4%  0/0/0  \r  5.5%  0/0/0  \r  6.1%  0/0/0  \r  6.3%  0/0/0  \r  6.4%  0/0/0  \r  6.5%  0/0/0  \r  6.7%  0/0/0  \r  6.8%  0/0/0  \r  6.9%  0/0/0  \r  7.2%  0/0/0  \r  7.3%  0/0/0  \r  7.5%  0/0/0  \r  7.6%  0/0/0  \r  7.7%  0/0/0  \r  7.8%  0/0/0  \r  8.1%  0/0/0  \r  8.2%  0/0/0  \r  8.3%  0/0/0  \r  8.4%  0/0/0  \r  8.5%  0/0/0  \r  8.6%  0/0/0  \r  8.7%  0/0/0  \r  9.2%  0/0/0  \r  9.3%  0/0/0  \r  9.4%  0/0/0  \r  9.5%  0/0/0  \r  9.9%  0/0/0  \r  10.2%  0/0/0  \r  10.3%  0/0/0  \r  10.4%  0/0/0  \r  10.5%  0/0/0  \r  10.7%  0/0/0  \r  10.8%  0/0/0  \r  11.0%  0/0/0  \r  11.1%  0/0/0  \r  11.2%  0/0/0  \r  11.3%  0/0/0  \r  11.4%  0/0/0  \r  11.5%  0/0/0  \r  11.6%  0/0/0  \r  11.7%  0/0/0  \r  11.8%  0/0/0  \r  11.9%  0/0/0  \r  12.0%  0/0/0  \r  12.1%  0/0/0  \r  12.5%  0/0/0  \r  12.6%  0/0/0  \r  12.7%  0/0/0  \r  12.8%  0/0/0  \r  12.9%  0/0/0  \r  14.2%  0/0/0  \r  14.4%  0/0/0  \r  14.5%  0/0/0  \r  14.6%  0/0/0  \r  14.7%  0/0/0  \r  14.8%  0/0/0  \r  14.9%  0/0/0  \r  15.0%  0/0/0  \r  15.4%  0/0/0  \r  15.5%  0/0/0  \r  16.1%  0/0/0  \r  16.3%  0/0/0  \r  16.5%  0/0/0  \r  16.7%  0/0/0  \r  16.8%  0/0/0  \r  17.2%  0/0/0  \r  17.3%  0/0/0  \r  17.5%  0/0/0  \r  17.6%  0/0/0  \r  17.8%  0/0/0  \r  18.1%  0/0/0  \r  18.3%  0/0/0  \r  18.5%  0/0/0  \r  18.6%  0/0/0  \r  19.2%  0/0/0  \r  19.3%  0/0/0  \r  19.5%  0/0/0  \r  19.9%  0/0/0  \r  20.0%  1/1/1  \r  20.0%  1/1/0  \r  20.1%  1/1/1  \r  20.3%  1/1/1  \r  20.5%  1/1/1  \r  20.6%  1/1/1  \r  20.8%  1/1/1  \r  21.0%  1/1/1  \r  21.1%  1/1/1  \r  21.3%  1/1/1  \r  21.7%  1/1/1  \r  21.8%  1/1/1  \r  22.0%  1/1/0  \r  22.3%  1/1/1  \r  22.5%  1/1/0  \r  22.6%  1/1/0  \r  22.8%  1/1/0  \r  23.0%  1/1/0  \r  23.1%  1/1/0  \r  23.3%  1/1/0  \r  23.5%  1/1/0  \r  23.6%  1/0/0  \r  23.8%  1/0/0  \r  24.8%  1/0/0  \r  25.9%  1/1/0  \r  26.0%  1/0/1  \r  26.1%  1/0/1  \r  26.3%  1/0/1  \r  26.7%  1/0/1  \r  26.8%  1/0/1  \r  27.0%  1/0/1  \r  27.4%  1/0/1  \r  28.4%  1/0/0  \r  29.9%  1/0/1  \r  30.0%  1/1/1  \r  30.0%  1/1/0  \r  30.1%  1/1/1  \r  30.3%  1/1/1  \r  30.5%  1/1/1  \r  30.6%  1/1/1  \r  30.8%  1/1/1  \r  31.0%  1/1/1  \r  31.2%  1/1/0  \r  31.3%  1/1/1  \r  31.5%  1/1/0  \r  31.7%  1/1/1  \r  31.9%  1/1/0  \r  32.0%  1/1/0  \r  32.3%  1/1/1  \r  32.4%  1/1/0  \r  32.5%  1/1/0  \r  32.6%  1/1/0  \r  32.7%  1/1/0  \r  33.0%  1/1/0  \r  33.1%  1/1/0  \r  33.2%  1/1/0  \r  35.6%  1/1/0  \r  35.7%  1/1/0  \r  35.9%  1/1/0  \r  36.0%  1/0/1  \r  36.1%  1/0/1  \r  36.2%  1/0/1  \r  38.3%  1/0/0  \r  39.9%  1/0/0  \r  40.0%  2/2/1  \r  40.1%  2/2/1  \r  40.2%  2/2/1  \r  40.4%  2/2/1  \r  40.5%  2/2/1  \r  40.6%  2/2/1  \r  40.7%  2/2/1  \r  41.0%  2/2/1  \r  41.3%  2/2/1  \r  41.4%  2/2/1  \r  41.5%  2/2/1  \r  41.6%  2/2/1  \r  43.0%  2/2/0  \r  43.1%  2/0/2  \r  43.2%  2/0/2  \r  43.4%  2/0/2  \r  43.8%  2/1/2  \r  43.9%  2/1/2  \r  44.0%  2/3/2  \r  44.2%  2/3/2  \r  44.4%  2/1/1  \r  44.5%  2/1/1  \r  44.6%  2/1/1  \r  44.8%  2/3/2  \r  45.5%  2/1/1  \r  45.6%  2/1/1  \r  45.7%  2/1/1  \r  45.9%  2/1/1  \r  47.2%  2/1/1  \r  48.2%  2/1/1  \r  48.4%  2/2/2  \r  48.5%  2/2/2  \r  48.6%  2/2/2  \r  48.7%  2/2/2  \r  48.9%  2/2/2  \r  49.0%  2/2/2  \r  49.1%  2/2/2  \r  49.3%  2/2/2  \r  49.9%  2/0/0  \r  50.0%  2/2/1  \r  50.1%  2/2/1  \r  50.2%  2/2/1  \r  50.4%  2/2/1  \r  50.5%  2/2/1  \r  50.6%  2/3/1  \r  50.7%  2/2/1  \r  51.0%  2/2/1  \r  51.3%  2/2/1  \r  51.4%  2/2/1  \r  51.5%  2/2/1  \r  51.6%  2/2/1  \r  51.7%  2/2/0  \r  51.9%  2/0/2  \r  53.3%  2/3/1  \r  53.4%  2/3/0  \r  53.5%  2/3/2  \r  53.6%  2/3/2  \r  53.9%  2/3/2  \r  54.0%  2/3/2  \r  54.6%  2/3/2  \r  54.8%  2/3/2  \r  55.5%  2/1/1  \r  55.6%  2/1/1  \r  55.7%  2/1/1  \r  55.9%  2/1/1  \r  56.6%  2/1/1  \r  57.2%  2/1/1  \r  57.4%  2/2/2  \r  57.5%  2/2/2  \r  57.6%  2/2/2  \r  57.7%  2/2/2  \r  58.2%  2/0/1  \r  58.7%  2/2/2  \r  58.9%  2/2/2  \r  59.0%  2/2/2  \r  59.1%  2/2/2  \r  59.3%  2/2/2  \r  59.9%  2/0/0  \r  60.0%  3/5/3  \r  60.0%  3/4/3  \r  60.1%  3/4/3  \r  60.2%  3/5/3  \r  60.4%  3/5/3  \r  60.5%  3/5/3  \r  60.5%  3/4/3  \r  60.6%  3/5/3  \r  60.7%  3/5/3  \r  61.6%  3/5/3  \r  61.8%  3/7/5  \r  62.0%  3/0/3  \r  62.1%  3/7/3  \r  62.4%  3/7/5  \r  62.5%  3/1/3  \r  62.6%  3/1/3  \r  62.7%  3/7/3  \r  62.9%  3/7/3  \r  63.0%  3/7/3  \r  63.1%  3/3/3  \r  63.5%  3/1/3  \r  63.7%  3/3/3  \r  63.9%  3/3/3  \r  64.3%  3/7/4  \r  64.4%  3/7/4  \r  64.5%  3/7/4  \r  64.6%  3/7/4  \r  65.3%  3/6/3  \r  65.5%  3/6/3  \r  66.5%  3/6/3  \r  66.6%  3/2/3  \r  66.9%  3/0/2  \r  67.3%  3/2/3  \r  67.4%  3/2/3  \r  67.5%  3/2/3  \r  67.6%  3/2/3  \r  67.7%  3/2/3  \r  67.9%  3/6/2  \r  68.1%  3/6/2  \r  68.5%  3/2/3  \r  68.9%  3/6/2  \r  69.0%  3/4/5  \r  69.1%  3/2/4  \r  69.4%  3/2/4  \r  69.5%  3/2/2  \r  69.6%  3/4/4  \r  69.7%  3/4/4  \r  69.9%  3/4/4  \r  70.0%  3/5/3  \r  70.0%  3/4/3  \r  70.1%  3/4/3  \r  70.2%  3/5/3  \r  70.3%  3/5/3  \r  70.4%  3/5/3  \r  70.5%  3/4/3  \r  70.6%  3/5/3  \r  71.2%  3/5/3  \r  71.3%  3/0/3  \r  71.6%  3/5/3  \r  72.0%  3/0/3  \r  72.1%  3/7/3  \r  72.3%  3/7/5  \r  72.4%  3/7/3  \r  72.5%  3/7/3  \r  72.6%  3/7/3  \r  73.0%  3/7/3  \r  73.1%  3/3/3  \r  73.2%  3/3/3  \r  73.5%  3/1/3  \r  73.6%  3/6/3  \r  73.8%  3/1/3  \r  73.9%  3/5/2  \r  74.2%  3/6/3  \r  74.4%  3/6/3  \r  74.5%  3/6/3  \r  74.6%  3/6/3  \r  74.8%  3/6/3  \r  74.9%  3/6/3  \r  75.0%  3/1/2  \r  75.5%  3/6/3  \r  75.6%  3/2/3  \r  76.0%  3/1/2  \r  76.1%  3/2/3  \r  76.2%  3/2/3  \r  76.3%  3/2/3  \r  76.4%  3/2/3  \r  76.5%  3/2/3  \r  76.6%  3/2/3  \r  76.7%  3/2/3  \r  76.8%  3/2/3  \r  77.3%  3/2/3  \r  77.7%  3/2/3  \r  77.9%  3/4/5  \r  78.2%  3/7/2  \r  78.3%  3/7/2  \r  78.5%  3/3/4  \r  78.6%  3/5/4  \r  78.7%  3/5/4  \r  78.9%  3/6/2  \r  79.1%  3/6/2  \r  79.2%  3/2/4  \r  79.4%  3/2/4  \r  79.5%  3/2/2  \r  79.6%  3/4/4  \r  79.7%  3/4/4  \r  79.9%  3/4/4  \r  80.0%  4/8/7  \r  80.1%  4/8/7  \r  80.3%  4/9/7  \r  80.4%  4/0/7  \r  80.5%  4/1/7  \r  80.6%  4/14/7  \r  80.7%  4/14/7  \r  80.8%  4/7/7  \r  80.9%  4/12/7  \r  81.0%  4/12/7  \r  81.1%  4/12/7  \r  81.2%  4/13/7  \r  81.3%  4/12/7  \r  81.6%  4/13/7  \r  81.7%  4/4/7  \r  81.8%  4/4/7  \r  81.9%  4/4/7  \r  82.0%  4/4/7  \r  82.1%  4/4/7  \r  82.5%  4/4/7  \r  82.7%  4/9/6  \r  82.8%  4/1/6  \r  82.9%  4/11/7  \r  83.0%  4/11/7  \r  83.1%  4/13/6  \r  83.2%  4/13/6  \r  83.4%  4/13/6  \r  83.6%  4/3/7  \r  83.7%  4/5/6  \r  83.8%  4/11/5  \r  83.9%  4/15/9  \r  84.0%  4/15/9  \r  84.1%  4/15/9  \r  84.2%  4/15/9  \r  84.3%  4/14/6  \r  84.4%  4/3/5  \r  84.5%  4/12/6  \r  84.6%  4/12/6  \r  84.7%  4/12/6  \r  84.8%  4/12/6  \r  84.9%  4/4/6  \r  85.0%  4/13/5  \r  85.1%  4/4/6  \r  85.2%  4/4/6  \r  85.3%  4/8/10  \r  85.4%  4/9/9  \r  85.5%  4/9/9  \r  85.6%  4/11/6  \r  85.7%  4/11/6  \r  85.8%  4/10/6  \r  86.1%  4/14/10  \r  86.2%  4/15/10  \r  86.4%  4/2/6  \r  86.6%  4/3/6  \r  86.7%  4/14/8  \r  86.8%  4/14/8  \r  86.9%  4/15/8  \r  87.0%  4/15/8  \r  87.1%  4/15/8  \r  87.2%  4/12/8  \r  87.3%  4/3/4  \r  87.4%  4/0/4  \r  87.5%  4/13/8  \r  87.6%  4/10/8  \r  87.7%  4/1/4  \r  87.7%  4/10/8  \r  87.8%  4/10/8  \r  87.9%  4/5/8  \r  88.0%  4/4/8  \r  88.1%  4/9/8  \r  88.2%  4/9/8  \r  88.3%  4/9/8  \r  88.5%  4/8/8  \r  88.6%  4/10/7  \r  88.7%  4/10/7  \r  88.8%  4/10/7  \r  88.9%  4/14/11  \r  89.0%  4/2/7  \r  89.1%  4/14/9  \r  89.2%  4/14/9  \r  89.3%  4/0/9  \r  89.4%  4/12/9  \r  89.5%  4/0/5  \r  89.6%  4/6/9  \r  89.8%  4/12/5  \r  89.9%  4/4/5  \r  90.0%  4/8/7  \r  90.1%  4/9/7  \r  90.4%  4/0/7  \r  90.5%  4/0/7  \r  90.6%  4/15/7  \r  90.7%  4/14/7  \r  90.8%  4/7/7  \r  90.9%  4/12/7  \r  91.0%  4/12/7  \r  91.1%  4/12/7  \r  91.2%  4/12/7  \r  91.3%  4/12/7  \r  91.6%  4/12/7  \r  91.8%  4/5/7  \r  91.9%  4/5/7  \r  92.0%  4/1/3  \r  92.3%  4/4/7  \r  92.4%  4/4/7  \r  92.5%  4/4/7  \r  92.7%  4/4/7  \r  92.8%  4/0/3  \r  92.9%  4/13/6  \r  93.0%  4/13/6  \r  93.1%  4/13/6  \r  93.3%  4/5/6  \r  93.4%  4/15/11  \r  93.5%  4/15/11  \r  93.6%  4/3/7  \r  93.7%  4/3/7  \r  93.8%  4/3/7  \r  93.9%  4/11/5  \r  94.0%  4/0/6  \r  94.1%  4/14/6  \r  94.1%  4/15/9  \r  94.2%  4/15/9  \r  94.3%  4/15/9  \r  94.4%  4/3/5  \r  94.5%  4/1/5  \r  94.6%  4/15/5  \r  94.7%  4/13/5  \r  94.8%  4/5/9  \r  94.9%  4/9/9  \r  95.0%  4/9/9  \r  95.1%  4/10/6  \r  95.2%  4/10/6  \r  95.3%  4/10/6  \r  95.4%  4/14/10  \r  95.5%  4/12/6  \r  95.6%  4/12/6  \r  95.8%  4/14/8  \r  95.8%  4/4/6  \r  95.9%  4/4/6  \r  96.0%  4/4/6  \r  96.1%  4/4/6  \r  96.2%  4/8/10  \r  96.3%  4/0/2  \r  96.4%  4/11/6  \r  96.5%  4/11/6  \r  96.6%  4/0/4  \r  96.7%  4/11/6  \r  96.9%  4/11/6  \r  97.0%  4/4/8  \r  97.1%  4/15/10  \r  97.2%  4/3/6  \r  97.3%  4/8/8  \r  97.4%  4/3/6  \r  97.5%  4/8/8  \r  97.6%  4/8/8  \r  97.8%  4/15/8  \r  97.9%  4/3/4  \r  98.0%  4/13/8  \r  98.1%  4/1/4  \r  98.2%  4/15/4  \r  98.3%  4/9/8  \r  98.4%  4/9/8  \r  98.5%  4/9/8  \r  98.6%  4/10/7  \r  98.7%  4/10/7  \r  98.8%  4/10/7  \r  98.9%  4/14/11  \r  99.0%  4/2/7  \r  99.1%  4/14/9  \r  99.2%  4/14/9  \r  99.3%  4/0/9  \r  99.4%  4/12/9  \r  99.5%  4/0/5  \r  99.6%  4/6/9  \r  99.8%  4/12/5  \r  99.9%  4/4/5  \r\n"
          ],
          "name": "stderr"
        }
      ]
    },
    {
      "cell_type": "code",
      "metadata": {
        "id": "U5DGb7u7TH6S",
        "colab_type": "code",
        "outputId": "5c1cf780-c9d9-4676-9621-0786f7265ce8",
        "colab": {
          "base_uri": "https://localhost:8080/",
          "height": 86
        }
      },
      "source": [
        "# Upload to mapbox\n",
        "# Get processed boundaries data\n",
        "#!rm -r $MA_BUCKET/boundaries/processed/geojson\n",
        "#!gsutil -m cp -r gs://$MA_BUCKET/boundaries/processed/geojson $MA_BUCKET/boundaries/processed\n",
        "# Rename GEE exports  \n",
        "#!mv ma-data/boundaries/processed/geojson/selected_EEZ_land_v2_201410_simplified.json ma-data/boundaries/processed/geojson/selected_EEZ_land_v2_201410.json\n",
        "#!mv ma-data/boundaries/processed/geojson/selected_WDPA_polygons_ee_export.json ma-data/boundaries/processed/geojson/selected_WDPA_polygons.json  \n",
        "    \n",
        "import glob\n",
        "path = '{}/boundaries/processed/geojson'.format(os.environ.get('MA_BUCKET'))\n",
        "#files = [f for f in glob.glob(path + \"**/*.json\", recursive=True)]\n",
        "#for f in files:\n",
        "#  upload_to_mapbox(f, os.path.splitext(os.path.basename(f))[0])\n",
        "files = [f for f in glob.glob(path + \"**/*.mbtiles\", recursive=True)]\n",
        "for f in files:\n",
        "  print(f)\n",
        "  upload_to_mapbox(f, os.path.splitext(os.path.basename(f))[0])  "
      ],
      "execution_count": 0,
      "outputs": [
        {
          "output_type": "stream",
          "text": [
            "mangrove_atlas/boundaries/processed/geojson/selected_WDPA_polygons.mbtiles\n",
            "{'message': 'Not Found'}\n",
            "mangrove_atlas/boundaries/processed/geojson/selected_EEZ_land_v2_201410.mbtiles\n",
            "{'message': 'Not Found'}\n"
          ],
          "name": "stdout"
        }
      ]
    },
    {
      "cell_type": "code",
      "metadata": {
        "id": "aPQfGcxRSWmp",
        "colab_type": "code",
        "colab": {}
      },
      "source": [
        "%%bash\n",
        "# Clean up\n",
        "rm -r $MA_BUCKET/boundaries"
      ],
      "execution_count": 0,
      "outputs": []
    },
    {
      "cell_type": "code",
      "metadata": {
        "id": "tRk0n0RVlXzU",
        "colab_type": "code",
        "colab": {}
      },
      "source": [
        "ls mangrove_atlas"
      ],
      "execution_count": 0,
      "outputs": []
    },
    {
      "cell_type": "markdown",
      "metadata": {
        "id": "LUisNx4t7eJo",
        "colab_type": "text"
      },
      "source": [
        "#Prepare mangrove land-cover data\n",
        "\n",
        "The original data files contain many interesect, island and sliver errors and can be simplified. This section parses the .ZIP files, cleans and simplifies them using mapshaper. Adds a property year, combines all periods into a single feature collection, converts to different formats and adds to GEE and MapBox.\n",
        "\n",
        "+ Data files (.ZIP packaged shape files) should be added to Google Cloud Storage (GCS) bucket\n",
        "+ Files are downloaded, processed using mapshaper, uploaded to GCS bucket, and added as GEE asset.\n",
        "\n"
      ]
    },
    {
      "cell_type": "code",
      "metadata": {
        "id": "ULuRE7aZTX87",
        "colab_type": "code",
        "colab": {}
      },
      "source": [
        "%%bash\n",
        "# Get land-cover data\n",
        "gsutil -m cp -r gs://$MA_BUCKET/land-cover $MA_BUCKET"
      ],
      "execution_count": 0,
      "outputs": []
    },
    {
      "cell_type": "code",
      "metadata": {
        "id": "olO9XIZ67az-",
        "colab_type": "code",
        "outputId": "01e2c2d8-652b-4d2a-bb82-459990914ef7",
        "colab": {
          "base_uri": "https://localhost:8080/",
          "height": 34
        }
      },
      "source": [
        "!rm -r $MA_BUCKET/land-cover/shapefiles\n",
        "!rm -r $MA_BUCKET/land-cover/processed"
      ],
      "execution_count": 0,
      "outputs": [
        {
          "output_type": "stream",
          "text": [
            "rm: cannot remove 'mangrove_atlas/land-cover/shapefiles': No such file or directory\n"
          ],
          "name": "stdout"
        }
      ]
    },
    {
      "cell_type": "code",
      "metadata": {
        "id": "nt_PJ7bl2cVH",
        "colab_type": "code",
        "outputId": "d62c98ba-8533-40a7-c7f8-bc4b962332a6",
        "colab": {
          "base_uri": "https://localhost:8080/",
          "height": 69
        }
      },
      "source": [
        "!ls $MA_BUCKET/land-cover"
      ],
      "execution_count": 0,
      "outputs": [
        {
          "output_type": "stream",
          "text": [
            "OneDrive_1_5-22-2019.zip  OneDrive_4_5-22-2019.zip  OneDrive_5_5-27-2019.zip\n",
            "OneDrive_2_5-22-2019.zip  OneDrive_4_5-27-2019.zip\n",
            "OneDrive_3_5-22-2019.zip  OneDrive_5_5-22-2019.zip\n"
          ],
          "name": "stdout"
        }
      ]
    },
    {
      "cell_type": "markdown",
      "metadata": {
        "id": "o2STb2BGUyzg",
        "colab_type": "text"
      },
      "source": [
        "## Simplify and convert shapefiles"
      ]
    },
    {
      "cell_type": "code",
      "metadata": {
        "id": "M4w5VJcYeqks",
        "colab_type": "code",
        "colab": {}
      },
      "source": [
        "%%bash\n",
        "# Process zipped shapefiles\n",
        "# Clean and simplfy\n",
        "# Convert to geojson\n",
        "# change mapshaper settings below, see https://github.com/mbloch/mapshaper/wiki/Command-Reference\n",
        "# NOTE this can take along time!\n",
        "\n",
        "# Set working directories\n",
        "df=$MA_BUCKET/land-cover\n",
        "sf=$MA_BUCKET/land-cover/shapefiles\n",
        "pf=$MA_BUCKET/land-cover/processed\n",
        "\n",
        "# Create directories (if needed)\n",
        "mkdir $sf\n",
        "mkdir $pf\n",
        "mkdir -p ${pf}/geojson\n",
        "\n",
        "# Extract original ZIP to $sf\n",
        "arr=(${df}/*.zip)\n",
        "for ((i=0; i<${#arr[@]}; i++)); do\n",
        "  z=\"${arr[$i]}\"\n",
        "  echo \"Extracting\" $z\n",
        "  unzip -o $z -d $sf\n",
        "done\n",
        "\n",
        "# Clean and simplify original SHP\n",
        "arr=(${sf}/*.shp)\n",
        "for ((i=0; i<${#arr[@]}; i++)); do\n",
        "  s=\"${arr[$i]}\"\n",
        "  echo \"Simplifying\" ${s}\n",
        "  # FIXME RUN WITH LOW SIMPLIFICATION\n",
        "  mapshaper-xl \\\n",
        "  -i snap files=\"${s}\" \\\n",
        "  -simplify weighted interval=$SIMP_WEIGHT_INT \\\n",
        "  -clean min-gap-area=$MIN_AREA \\\n",
        "  -filter-islands min-area=$MIN_AREA \\\n",
        "  -filter-slivers min-area=$MIN_AREA \\\n",
        "  -clean min-gap-area=$MIN_AREA \\\n",
        "  -o ${pf} format=shapefile precision=0.000001 force\n",
        "done  \n",
        "\n",
        "# Export processed SHP as geojson to $pf/geojson\n",
        "arr=(${pf}/*.shp)\n",
        "for ((i=0; i<${#arr[@]}; i++)); do\n",
        "  sp=\"${arr[$i]}\"\n",
        "  echo \"Converting\" ${sp}\n",
        "  mapshaper-xl \\\n",
        "  -i files=\"${sp}\" \\\n",
        "  -o ${pf}/geojson format=geojson precision=0.000001 force\n",
        "done\n"
      ],
      "execution_count": 0,
      "outputs": []
    },
    {
      "cell_type": "code",
      "metadata": {
        "id": "uRIQcK8-D0eE",
        "colab_type": "code",
        "outputId": "e9484aa9-d135-484c-ff5b-d216fe2f6e9c",
        "colab": {
          "base_uri": "https://localhost:8080/",
          "height": 86
        }
      },
      "source": [
        "# Zip processed shape files\n",
        "%%bash\n",
        "fl=($MA_BUCKET/land-cover/processed/*.shp)\n",
        "echo ${fl}\n",
        "for ((i=0; i<${#fl[@]}; i++)); do\n",
        "  z=\"${fl[$i]}\"\n",
        "  bn=\"${z%%.*}\"\n",
        "  zip $bn.zip $bn.*\n",
        "  \n",
        "done"
      ],
      "execution_count": 0,
      "outputs": [
        {
          "output_type": "stream",
          "text": [
            "ma-data/land-cover/processed/*.shp\n",
            "\tzip warning: name not matched: ma-data/land-cover/processed/*.*\n",
            "\n",
            "zip error: Nothing to do! (ma-data/land-cover/processed/*.zip)\n"
          ],
          "name": "stdout"
        }
      ]
    },
    {
      "cell_type": "code",
      "metadata": {
        "id": "xZnkeMTeG7Pv",
        "colab_type": "code",
        "colab": {}
      },
      "source": [
        "%%bash\n",
        "# Upload to GCS bucket\n",
        "pf=$MA_BUCKET/land-cover/processed\n",
        "gsutil -m cp ${pf}/*.zip gs://${pf}/\n",
        "gsutil -m cp -r ${pf}/geojson gs://${pf}/"
      ],
      "execution_count": 0,
      "outputs": []
    },
    {
      "cell_type": "markdown",
      "metadata": {
        "id": "43Jc3s6ITHyA",
        "colab_type": "text"
      },
      "source": [
        "## Combine simplified geojson files"
      ]
    },
    {
      "cell_type": "code",
      "metadata": {
        "id": "d5vfq7t6uD8q",
        "colab_type": "code",
        "colab": {}
      },
      "source": [
        "%%bash\n",
        "# Download from GCS bucket\n",
        "pf=$MA_BUCKET/land-cover/processed\n",
        "mkdir -p $pf\n",
        "gsutil -m cp -r gs://${pf} $MA_BUCKET/land-cover\n"
      ],
      "execution_count": 0,
      "outputs": []
    },
    {
      "cell_type": "code",
      "metadata": {
        "id": "Mg9PXHN01LC0",
        "colab_type": "code",
        "outputId": "e2824bbd-cf36-456c-88b4-f57880cc988c",
        "colab": {
          "base_uri": "https://localhost:8080/",
          "height": 260
        }
      },
      "source": [
        "# Add year property to each layer\n",
        "import glob\n",
        "pf=os.environ.get('MA_BUCKET') + '/land-cover/processed/geojson/*.json'\n",
        "files = (glob.glob(pf))\n",
        "#print(files)\n",
        "for f in files:\n",
        "  print(f)\n",
        "  with open(f) as of:\n",
        "    data = json.load(of)\n",
        "    year = int(f.split('_')[2])\n",
        "    print(year)\n",
        "    #inspect\n",
        "    #print(data['features'][0])\n",
        "\n",
        "    updated_features = [{**d, 'properties': {**d['properties'], 'year': year}} for d in data['features']]\n",
        "\n",
        "    data['features'] = updated_features\n",
        "    #print(data['features'][0])\n",
        "\n",
        "    with open(f, 'w') as wf:\n",
        "      json.dump(data, wf)\n",
        "  "
      ],
      "execution_count": 0,
      "outputs": [
        {
          "output_type": "stream",
          "text": [
            "mangrove_atlas/land-cover/processed/geojson/GMW_2010_v2.json\n",
            "2010\n",
            "mangrove_atlas/land-cover/processed/geojson/GMW_2008_v2.json\n",
            "2008\n",
            "mangrove_atlas/land-cover/processed/geojson/GMW_1996_v2.json\n",
            "1996\n",
            "mangrove_atlas/land-cover/processed/geojson/GMW_2007_v2.json\n",
            "2007\n",
            "mangrove_atlas/land-cover/processed/geojson/GMW_2009_v2.json\n",
            "2009\n",
            "mangrove_atlas/land-cover/processed/geojson/GMW_2016_v2.json\n",
            "2016\n",
            "mangrove_atlas/land-cover/processed/geojson/GMW_2015_v2.json\n",
            "2015\n"
          ],
          "name": "stdout"
        }
      ]
    },
    {
      "cell_type": "code",
      "metadata": {
        "id": "35qiYl0y78pU",
        "colab_type": "code",
        "outputId": "5e3c43e1-fd0c-45c4-80eb-12cfad030daf",
        "colab": {
          "base_uri": "https://localhost:8080/",
          "height": 225
        }
      },
      "source": [
        "# Join geojsons using Tippecanoe\n",
        "%%bash\n",
        "# Make mapbox tiles\n",
        "tippecanoe \\\n",
        "-zg \\\n",
        "-o $MA_BUCKET/land-cover/processed/geojson/gmw_1996_2016.mbtiles \\\n",
        "--drop-densest-as-needed \\\n",
        "--extend-zooms-if-still-dropping \\\n",
        "--force \\\n",
        "--read-parallel \\\n",
        "-l gmw_1996_2016 \\\n",
        "$MA_BUCKET/land-cover/processed/geojson/*.json\n",
        "\n"
      ],
      "execution_count": 0,
      "outputs": [
        {
          "output_type": "stream",
          "text": [
            "Read 0.00 million features\rRead 0.01 million features\rRead 0.02 million features\rRead 0.03 million features\rRead 0.04 million features\rRead 0.05 million features\rRead 0.06 million features\rRead 0.07 million features\rRead 0.08 million features\rRead 0.09 million features\rRead 0.10 million features\rRead 0.11 million features\rRead 0.12 million features\rRead 0.13 million features\rRead 0.14 million features\rRead 0.15 million features\rRead 0.16 million features\rRead 0.17 million features\rRead 0.18 million features\rRead 0.19 million features\rRead 0.20 million features\rRead 0.21 million features\rRead 0.22 million features\rRead 0.23 million features\rRead 0.24 million features\rRead 0.25 million features\rRead 0.26 million features\rRead 0.27 million features\rRead 0.28 million features\rRead 0.29 million features\rRead 0.30 million features\rRead 0.31 million features\rRead 0.32 million features\rRead 0.33 million features\rRead 0.34 million features\rRead 0.35 million features\rRead 0.36 million features\rRead 0.37 million features\rRead 0.38 million features\rRead 0.39 million features\rRead 0.40 million features\rRead 0.41 million features\rRead 0.42 million features\rRead 0.43 million features\rRead 0.44 million features\rRead 0.45 million features\rRead 0.46 million features\rRead 0.47 million features\rRead 0.48 million features\rRead 0.49 million features\rRead 0.50 million features\rRead 0.51 million features\rRead 0.52 million features\rRead 0.53 million features\rRead 0.54 million features\rRead 0.55 million features\rRead 0.56 million features\rRead 0.57 million features\rRead 0.58 million features\rRead 0.59 million features\rRead 0.60 million features\rRead 0.61 million features\rRead 0.62 million features\rRead 0.63 million features\rRead 0.64 million features\rRead 0.65 million features\rRead 0.66 million features\rRead 0.67 million features\rRead 0.68 million features\rRead 0.69 million features\rRead 0.70 million features\rRead 0.71 million features\rRead 0.72 million features\rRead 0.73 million features\rRead 0.74 million features\rRead 0.75 million features\rRead 0.76 million features\rRead 0.77 million features\rRead 0.78 million features\rRead 0.79 million features\rRead 0.80 million features\rRead 0.81 million features\rRead 0.82 million features\rRead 0.83 million features\rRead 0.84 million features\rRead 0.85 million features\rRead 0.86 million features\rRead 0.87 million features\rRead 0.88 million features\rRead 0.89 million features\rRead 0.90 million features\rRead 0.91 million features\rRead 0.92 million features\rRead 0.93 million features\rRead 0.94 million features\rRead 0.95 million features\rRead 0.96 million features\rRead 0.97 million features\rRead 0.98 million features\rRead 0.99 million features\rRead 1.00 million features\rRead 1.01 million features\rRead 1.02 million features\rRead 1.03 million features\rRead 1.04 million features\rRead 1.05 million features\rRead 1.06 million features\rRead 1.07 million features\rRead 1.08 million features\rRead 1.09 million features\rRead 1.10 million features\rRead 1.11 million features\rRead 1.12 million features\rRead 1.13 million features\rRead 1.14 million features\rRead 1.15 million features\rRead 1.16 million features\rRead 1.17 million features\rRead 1.18 million features\rRead 1.19 million features\rRead 1.20 million features\rRead 1.21 million features\rRead 1.22 million features\rRead 1.23 million features\rRead 1.24 million features\rRead 1.25 million features\rRead 1.26 million features\rRead 1.27 million features\rRead 1.28 million features\rRead 1.29 million features\rRead 1.30 million features\rRead 1.31 million features\rRead 1.32 million features\rRead 1.33 million features\rRead 1.34 million features\rRead 1.35 million features\rRead 1.36 million features\rRead 1.37 million features\rRead 1.38 million features\rRead 1.39 million features\rRead 1.40 million features\rRead 1.41 million features\rRead 1.42 million features\rRead 1.43 million features\rRead 1.44 million features\rRead 1.45 million features\rRead 1.46 million features\rRead 1.47 million features\rRead 1.48 million features\rRead 1.49 million features\rRead 1.50 million features\rRead 1.51 million features\rRead 1.52 million features\rRead 1.53 million features\rRead 1.54 million features\rRead 1.55 million features\rRead 1.56 million features\rRead 1.57 million features\rRead 1.58 million features\rRead 1.59 million features\rRead 1.60 million features\rRead 1.61 million features\rRead 1.62 million features\rRead 1.63 million features\rRead 1.64 million features\rRead 1.65 million features\rRead 1.66 million features\rRead 1.67 million features\rRead 1.68 million features\rRead 1.69 million features\rRead 1.70 million features\rRead 1.71 million features\rRead 1.72 million features\rRead 1.73 million features\rRead 1.74 million features\rRead 1.75 million features\rRead 1.76 million features\rRead 1.77 million features\rRead 1.78 million features\rRead 1.79 million features\rRead 1.80 million features\rRead 1.81 million features\rRead 1.82 million features\rRead 1.83 million features\rRead 1.84 million features\rRead 1.85 million features\rRead 1.86 million features\rRead 1.87 million features\rRead 1.88 million features\rRead 1.89 million features\rRead 1.90 million features\rRead 1.91 million features\rRead 1.92 million features\rRead 1.93 million features\rRead 1.94 million features\rRead 1.95 million features\rRead 1.96 million features\rRead 1.97 million features\rRead 1.98 million features\r                              \rReordering geometry: 0% \rReordering geometry: 1% \rReordering geometry: 2% \rReordering geometry: 3% \rReordering geometry: 4% \rReordering geometry: 5% \rReordering geometry: 6% \rReordering geometry: 7% \rReordering geometry: 8% \rReordering geometry: 9% \rReordering geometry: 10% \rReordering geometry: 11% \rReordering geometry: 12% \rReordering geometry: 13% \rReordering geometry: 14% \rReordering geometry: 15% \rReordering geometry: 16% \rReordering geometry: 17% \rReordering geometry: 18% \rReordering geometry: 19% \rReordering geometry: 20% \rReordering geometry: 21% \rReordering geometry: 22% \rReordering geometry: 23% \rReordering geometry: 24% \rReordering geometry: 25% \rReordering geometry: 26% \rReordering geometry: 27% \rReordering geometry: 28% \rReordering geometry: 29% \rReordering geometry: 30% \rReordering geometry: 31% \rReordering geometry: 32% \rReordering geometry: 33% \rReordering geometry: 34% \rReordering geometry: 35% \rReordering geometry: 36% \rReordering geometry: 37% \rReordering geometry: 38% \rReordering geometry: 39% \rReordering geometry: 40% \rReordering geometry: 41% \rReordering geometry: 42% \rReordering geometry: 43% \rReordering geometry: 44% \rReordering geometry: 45% \rReordering geometry: 46% \rReordering geometry: 47% \rReordering geometry: 48% \rReordering geometry: 49% \rReordering geometry: 50% \rReordering geometry: 51% \rReordering geometry: 52% \rReordering geometry: 53% \rReordering geometry: 54% \rReordering geometry: 55% \rReordering geometry: 56% \rReordering geometry: 57% \rReordering geometry: 58% \rReordering geometry: 59% \rReordering geometry: 60% \rReordering geometry: 61% \rReordering geometry: 62% \rReordering geometry: 63% \rReordering geometry: 64% \rReordering geometry: 65% \rReordering geometry: 66% \rReordering geometry: 67% \rReordering geometry: 68% \rReordering geometry: 69% \rReordering geometry: 70% \rReordering geometry: 71% \rReordering geometry: 72% \rReordering geometry: 73% \rReordering geometry: 74% \rReordering geometry: 75% \rReordering geometry: 76% \rReordering geometry: 77% \rReordering geometry: 78% \rReordering geometry: 79% \rReordering geometry: 80% \rReordering geometry: 81% \rReordering geometry: 82% \rReordering geometry: 83% \rReordering geometry: 84% \rReordering geometry: 85% \rReordering geometry: 86% \rReordering geometry: 87% \rReordering geometry: 88% \rReordering geometry: 89% \rReordering geometry: 90% \rReordering geometry: 91% \rReordering geometry: 92% \rReordering geometry: 93% \rReordering geometry: 94% \rReordering geometry: 95% \rReordering geometry: 96% \rReordering geometry: 97% \rReordering geometry: 98% \rReordering geometry: 99% \r1981041 features, 362774430 bytes of geometry, 22640990 bytes of separate metadata, 4941420 bytes of string pool\n",
            "Maxzoom: 0% \rMaxzoom: 1% \rMaxzoom: 2% \rMaxzoom: 3% \rMaxzoom: 4% \rMaxzoom: 5% \rMaxzoom: 6% \rMaxzoom: 7% \rMaxzoom: 8% \rMaxzoom: 9% \rMaxzoom: 10% \rMaxzoom: 11% \rMaxzoom: 12% \rMaxzoom: 13% \rMaxzoom: 14% \rMaxzoom: 15% \rMaxzoom: 16% \rMaxzoom: 17% \rMaxzoom: 18% \rMaxzoom: 19% \rMaxzoom: 20% \rMaxzoom: 21% \rMaxzoom: 22% \rMaxzoom: 23% \rMaxzoom: 24% \rMaxzoom: 25% \rMaxzoom: 26% \rMaxzoom: 27% \rMaxzoom: 28% \rMaxzoom: 29% \rMaxzoom: 30% \rMaxzoom: 31% \rMaxzoom: 32% \rMaxzoom: 33% \rMaxzoom: 34% \rMaxzoom: 35% \rMaxzoom: 36% \rMaxzoom: 37% \rMaxzoom: 38% \rMaxzoom: 39% \rMaxzoom: 40% \rMaxzoom: 41% \rMaxzoom: 42% \rMaxzoom: 43% \rMaxzoom: 44% \rMaxzoom: 45% \rMaxzoom: 46% \rMaxzoom: 47% \rMaxzoom: 48% \rMaxzoom: 49% \rMaxzoom: 50% \rMaxzoom: 51% \rMaxzoom: 52% \rMaxzoom: 53% \rMaxzoom: 54% \rMaxzoom: 55% \rMaxzoom: 56% \rMaxzoom: 57% \rMaxzoom: 58% \rMaxzoom: 59% \rMaxzoom: 60% \rMaxzoom: 61% \rMaxzoom: 62% \rMaxzoom: 63% \rMaxzoom: 64% \rMaxzoom: 65% \rMaxzoom: 66% \rMaxzoom: 67% \rMaxzoom: 68% \rMaxzoom: 69% \rMaxzoom: 70% \rMaxzoom: 71% \rMaxzoom: 72% \rMaxzoom: 73% \rMaxzoom: 74% \rMaxzoom: 75% \rMaxzoom: 76% \rMaxzoom: 77% \rMaxzoom: 78% \rMaxzoom: 79% \rMaxzoom: 80% \rMaxzoom: 81% \rMaxzoom: 82% \rMaxzoom: 83% \rMaxzoom: 84% \rMaxzoom: 85% \rMaxzoom: 86% \rMaxzoom: 87% \rMaxzoom: 88% \rMaxzoom: 89% \rMaxzoom: 90% \rMaxzoom: 91% \rMaxzoom: 92% \rMaxzoom: 93% \rMaxzoom: 94% \rMaxzoom: 95% \rMaxzoom: 96% \rMaxzoom: 97% \rMaxzoom: 98% \rMaxzoom: 99% \rChoosing a maxzoom of -z8 for features about 1043 feet (318 meters) apart\n",
            "Choosing a maxzoom of -z10 for resolution of about 477 feet (145 meters) within features\n",
            "  0.1%  0/0/0  \r  0.2%  0/0/0  \r  0.4%  0/0/0  \r  0.5%  0/0/0  \r  0.6%  0/0/0  \r  0.7%  0/0/0  \r  0.8%  0/0/0  \r  0.9%  0/0/0  \r  1.0%  0/0/0  \r  1.1%  0/0/0  \r  1.3%  0/0/0  \r  1.5%  0/0/0  \r  1.6%  0/0/0  \r  1.8%  0/0/0  \r  2.0%  0/0/0  \r  2.1%  0/0/0  \r  2.2%  0/0/0  \r  2.4%  0/0/0  \r  2.5%  0/0/0  \r  2.6%  0/0/0  \r  2.7%  0/0/0  \r  2.9%  0/0/0  \r  3.0%  0/0/0  \r  3.1%  0/0/0  \r  3.2%  0/0/0  \r  3.4%  0/0/0  \r  3.5%  0/0/0  \r  3.6%  0/0/0  \r  3.7%  0/0/0  \r  3.9%  0/0/0  \r  4.0%  0/0/0  \r  4.1%  0/0/0  \r  4.2%  0/0/0  \r  4.3%  0/0/0  \r  4.4%  0/0/0  \r  4.5%  0/0/0  \r  4.6%  0/0/0  \r  4.7%  0/0/0  \r  4.8%  0/0/0  \r  4.9%  0/0/0  \r  5.0%  0/0/0  \r  5.1%  0/0/0  \r  5.2%  0/0/0  \r  5.3%  0/0/0  \r  5.4%  0/0/0  \r  5.5%  0/0/0  \r  5.6%  0/0/0  \r  5.7%  0/0/0  \r  5.8%  0/0/0  \r  5.9%  0/0/0  \r  6.0%  0/0/0  \r  6.1%  0/0/0  \r  6.2%  0/0/0  \r  6.3%  0/0/0  \r  6.4%  0/0/0  \r  6.5%  0/0/0  \r  6.6%  0/0/0  \r  6.7%  0/0/0  \r  6.8%  0/0/0  \r  6.9%  0/0/0  \r  7.0%  0/0/0  \r  7.1%  0/0/0  \r  7.2%  0/0/0  \r  7.3%  0/0/0  \r  7.4%  0/0/0  \r  7.5%  0/0/0  \r  7.6%  0/0/0  \r  7.7%  0/0/0  \r  7.8%  0/0/0  \r  7.9%  0/0/0  \r  8.0%  0/0/0  \r  8.1%  0/0/0  \r  8.2%  0/0/0  \r  8.3%  0/0/0  \r  8.4%  0/0/0  \r  8.5%  0/0/0  \r  8.6%  0/0/0  \r  8.7%  0/0/0  \r  8.8%  0/0/0  \r  8.9%  0/0/0  \r  9.0%  0/0/0  \r  9.1%  1/1/1  \r  9.2%  1/1/1  \r  9.3%  1/1/1  \r  9.4%  1/1/1  \r  9.5%  1/1/1  \r  9.6%  1/1/1  \r  9.7%  1/1/1  \r  9.8%  1/1/1  \r  9.9%  1/1/1  \r  10.0%  1/1/1  \r  10.1%  1/1/1  \r  10.2%  1/1/1  \r  10.3%  1/1/1  \r  10.4%  1/1/1  \r  10.5%  1/1/1  \r  10.6%  1/1/1  \r  12.0%  1/1/1  \r  12.1%  1/0/1  \r  12.2%  1/0/1  \r  12.3%  1/0/1  \r  12.4%  1/0/1  \r  12.7%  1/0/0  \r  12.8%  1/0/0  \r  12.9%  1/0/0  \r  13.0%  1/0/0  \r  13.1%  1/0/0  \r  13.2%  1/0/0  \r  13.3%  1/0/0  \r  13.4%  1/0/0  \r  13.5%  1/0/0  \r  13.6%  1/0/0  \r  13.7%  1/1/0  \r  13.8%  1/1/0  \r  13.9%  1/1/0  \r  14.0%  1/1/1  \r  14.1%  1/1/1  \r  14.2%  1/1/1  \r  14.3%  1/1/1  \r  14.4%  1/1/1  \r  14.5%  1/1/1  \r  14.6%  1/1/1  \r  14.7%  1/1/1  \r  14.8%  1/1/1  \r  14.9%  1/1/1  \r  15.0%  1/1/1  \r  16.5%  1/1/1  \r  16.6%  1/1/1  \r  16.8%  1/0/1  \r  17.1%  1/0/0  \r  17.3%  1/0/0  \r  17.5%  1/0/0  \r  17.6%  1/0/0  \r  17.8%  1/0/0  \r  18.0%  1/0/0  \r  18.1%  1/0/0  \r  18.3%  2/1/2  \r  18.5%  2/1/2  \r  18.8%  2/3/1  \r  19.0%  2/3/1  \r  19.1%  2/3/1  \r  19.3%  2/3/1  \r  19.5%  2/3/1  \r  20.3%  2/3/2  \r  20.5%  2/3/2  \r  20.6%  2/3/2  \r  21.1%  2/3/2  \r  21.3%  2/1/1  \r  21.5%  2/1/1  \r  21.8%  2/1/1  \r  22.0%  2/1/1  \r  22.1%  2/1/1  \r  22.3%  2/1/1  \r  22.5%  2/2/2  \r  22.6%  2/2/2  \r  22.8%  2/1/2  \r  23.0%  2/3/1  \r  23.3%  2/3/1  \r  23.5%  2/3/1  \r  23.6%  2/3/1  \r  23.8%  2/3/1  \r  24.0%  2/3/1  \r  24.7%  2/3/2  \r  24.8%  2/3/2  \r  25.0%  2/3/2  \r  25.1%  2/3/2  \r  25.5%  2/3/2  \r  25.6%  2/3/2  \r  25.9%  2/1/1  \r  26.0%  2/1/1  \r  26.1%  2/1/1  \r  26.4%  2/1/1  \r  26.5%  2/1/1  \r  26.6%  2/1/1  \r  26.8%  2/1/1  \r  27.0%  2/2/2  \r  27.1%  2/2/2  \r  27.3%  3/1/3  \r  27.6%  3/1/3  \r  27.8%  3/7/4  \r  28.0%  3/7/4  \r  28.1%  3/7/4  \r  28.3%  3/6/3  \r  28.9%  3/6/3  \r  29.0%  3/6/3  \r  29.1%  3/6/3  \r  29.3%  3/6/3  \r  29.5%  3/6/4  \r  29.6%  3/6/4  \r  29.8%  3/6/4  \r  30.1%  3/6/4  \r  30.3%  3/6/4  \r  30.7%  3/2/3  \r  30.8%  3/2/3  \r  31.0%  3/2/3  \r  31.1%  3/2/3  \r  31.5%  3/2/3  \r  31.6%  3/4/4  \r  31.8%  3/4/4  \r  32.1%  3/1/3  \r  32.2%  3/7/4  \r  32.4%  3/7/4  \r  32.5%  3/7/4  \r  32.6%  3/7/4  \r  32.7%  3/7/4  \r  33.4%  3/6/3  \r  33.5%  3/6/3  \r  33.6%  3/6/3  \r  33.8%  3/6/3  \r  33.9%  3/6/3  \r  34.1%  3/6/4  \r  34.2%  3/6/4  \r  34.4%  3/6/4  \r  34.6%  3/6/4  \r  34.7%  3/6/4  \r  35.1%  3/2/3  \r  35.2%  3/2/3  \r  35.5%  3/2/3  \r  35.6%  3/2/3  \r  35.7%  3/2/3  \r  36.0%  3/2/3  \r  36.1%  3/2/3  \r  36.2%  3/4/4  \r  36.4%  4/12/7  \r  36.5%  4/12/7  \r  36.7%  4/12/7  \r  36.9%  4/12/7  \r  37.0%  4/12/7  \r  37.3%  4/12/7  \r  37.4%  4/5/7  \r  37.5%  4/5/7  \r  37.6%  4/8/7  \r  37.7%  4/8/7  \r  37.9%  4/5/9  \r  38.0%  4/4/7  \r  38.1%  4/4/7  \r  38.2%  4/4/7  \r  38.4%  4/4/7  \r  38.6%  4/4/7  \r  38.7%  4/6/8  \r  38.9%  4/4/6  \r  39.0%  4/4/6  \r  39.3%  4/14/8  \r  39.4%  4/14/8  \r  39.5%  4/14/8  \r  39.6%  4/14/8  \r  39.7%  4/14/8  \r  40.0%  4/13/8  \r  40.1%  4/13/8  \r  40.2%  4/13/8  \r  40.4%  4/13/8  \r  40.5%  4/13/8  \r  40.6%  4/11/6  \r  40.7%  4/9/8  \r  40.9%  4/14/9  \r  41.0%  4/12/7  \r  41.1%  4/12/7  \r  41.2%  4/12/7  \r  41.4%  4/12/7  \r  41.5%  4/12/7  \r  41.9%  4/12/7  \r  42.0%  4/5/7  \r  42.2%  4/8/7  \r  42.4%  4/8/7  \r  42.5%  4/4/7  \r  42.6%  4/4/7  \r  42.7%  4/4/7  \r  42.9%  4/4/7  \r  43.1%  4/4/7  \r  43.2%  4/6/8  \r  43.4%  4/4/6  \r  43.5%  4/4/6  \r  43.6%  4/4/6  \r  43.8%  4/14/8  \r  43.9%  4/14/8  \r  44.0%  4/14/8  \r  44.1%  4/14/8  \r  44.2%  4/14/8  \r  44.4%  4/13/8  \r  44.5%  4/13/8  \r  44.6%  4/13/8  \r  44.8%  4/13/8  \r  44.9%  4/13/8  \r  45.0%  4/13/8  \r  45.1%  4/13/8  \r  45.2%  4/11/6  \r  45.4%  4/14/9  \r  45.5%  5/25/15  \r  45.6%  5/25/15  \r  45.7%  5/25/15  \r  45.9%  5/9/15  \r  46.0%  5/27/16  \r  46.1%  5/27/16  \r  46.2%  5/27/16  \r  46.4%  5/27/17  \r  46.5%  5/27/17  \r  46.6%  5/24/14  \r  46.7%  5/24/14  \r  46.9%  5/8/14  \r  47.0%  5/8/14  \r  47.1%  5/8/14  \r  47.2%  5/8/14  \r  47.4%  5/16/15  \r  47.5%  5/8/15  \r  47.6%  5/26/16  \r  47.7%  5/27/15  \r  47.9%  5/8/13  \r  48.0%  5/8/13  \r  48.1%  5/26/17  \r  48.2%  5/26/14  \r  48.4%  5/7/14  \r  48.5%  5/14/14  \r  48.6%  5/23/14  \r  48.7%  5/12/16  \r  48.9%  5/25/16  \r  49.0%  5/28/16  \r  49.1%  5/28/16  \r  49.2%  5/28/16  \r  49.5%  5/26/15  \r  49.6%  5/6/13  \r  49.7%  5/14/15  \r  49.9%  5/28/17  \r  50.0%  5/25/15  \r  50.0%  5/25/14  \r  50.1%  5/25/15  \r  50.2%  5/25/15  \r  50.4%  5/11/16  \r  50.5%  5/9/15  \r  50.6%  5/27/16  \r  50.7%  5/27/16  \r  50.9%  5/27/17  \r  51.0%  5/27/17  \r  51.1%  5/24/14  \r  51.2%  5/24/14  \r  51.4%  5/19/17  \r  51.5%  5/8/14  \r  51.6%  5/8/14  \r  51.7%  5/8/14  \r  51.9%  5/16/15  \r  52.0%  5/16/15  \r  52.1%  5/12/18  \r  52.1%  5/8/15  \r  52.2%  5/8/15  \r  52.4%  5/8/13  \r  52.5%  5/8/13  \r  52.6%  5/29/17  \r  52.7%  5/26/17  \r  52.9%  5/7/14  \r  53.0%  5/14/14  \r  53.1%  5/14/14  \r  53.2%  5/12/16  \r  53.4%  5/28/16  \r  53.5%  5/28/16  \r  53.6%  5/28/16  \r  53.7%  5/28/16  \r  53.9%  5/26/15  \r  54.0%  5/26/15  \r  54.1%  5/10/15  \r  54.2%  5/6/13  \r  54.4%  5/28/17  \r  54.5%  5/20/17  \r  54.6%  6/51/31  \r  54.7%  6/55/34  \r  54.9%  6/49/30  \r  55.0%  6/33/31  \r  55.1%  6/33/31  \r  55.2%  6/17/27  \r  55.4%  6/17/27  \r  55.5%  6/61/35  \r  55.6%  6/21/30  \r  55.7%  6/29/30  \r  55.9%  6/25/34  \r  56.0%  6/18/31  \r  56.1%  6/18/31  \r  56.2%  6/54/34  \r  56.4%  6/16/30  \r  56.4%  6/58/39  \r  56.5%  6/32/31  \r  56.6%  6/50/32  \r  56.7%  6/54/29  \r  56.9%  6/56/34  \r  57.0%  6/52/31  \r  57.1%  6/19/28  \r  57.1%  6/52/27  \r  57.2%  6/23/32  \r  57.4%  6/55/32  \r  57.5%  6/55/32  \r  57.6%  6/23/31  \r  57.7%  6/53/29  \r  57.9%  6/29/29  \r  58.0%  6/29/29  \r  58.1%  6/57/33  \r  58.2%  6/50/28  \r  58.4%  6/22/31  \r  58.4%  6/48/28  \r  58.5%  6/48/28  \r  58.6%  6/56/33  \r  58.7%  6/16/28  \r  58.9%  6/44/28  \r  59.0%  6/56/32  \r  59.1%  6/51/30  \r  59.2%  6/55/34  \r  59.4%  6/33/31  \r  59.5%  6/33/31  \r  59.6%  6/33/31  \r  59.7%  6/33/31  \r  59.9%  6/17/27  \r  60.0%  6/17/27  \r  60.1%  6/53/30  \r  60.2%  6/29/30  \r  60.4%  6/57/35  \r  60.5%  6/50/31  \r  60.6%  6/50/30  \r  60.7%  6/18/30  \r  60.9%  6/38/35  \r  61.0%  6/32/31  \r  61.1%  6/50/32  \r  61.2%  6/50/32  \r  61.4%  6/52/31  \r  61.5%  6/52/31  \r  61.6%  6/51/28  \r  61.7%  6/19/29  \r  61.9%  6/55/32  \r  62.0%  6/55/32  \r  62.1%  6/39/32  \r  62.2%  6/53/32  \r  62.4%  6/29/29  \r  62.5%  6/29/29  \r  62.6%  6/25/33  \r  62.7%  6/57/33  \r  62.9%  6/52/33  \r  63.0%  6/48/28  \r  63.1%  6/56/33  \r  63.2%  6/16/28  \r  63.4%  6/62/38  \r  63.5%  6/24/32  \r  63.6%  6/56/32  \r  63.7%  7/99/61  \r  63.9%  7/107/60  \r  64.0%  7/115/68  \r  64.1%  7/29/57  \r  64.2%  7/101/64  \r  64.3%  7/107/65  \r  64.4%  7/47/64  \r  64.5%  7/111/64  \r  64.6%  7/78/69  \r  64.7%  7/67/64  \r  64.8%  7/97/58  \r  64.9%  7/108/69  \r  65.0%  7/113/66  \r  65.1%  7/110/68  \r  65.2%  7/100/59  \r  65.3%  7/58/60  \r  65.4%  7/50/68  \r  65.5%  7/67/62  \r  65.6%  7/35/54  \r  65.7%  7/46/64  \r  65.8%  7/110/64  \r  65.9%  7/65/62  \r  66.0%  7/105/62  \r  66.1%  7/25/54  \r  66.2%  7/67/63  \r  66.3%  7/35/55  \r  66.4%  7/115/66  \r  66.5%  7/117/72  \r  66.6%  7/33/56  \r  66.7%  7/97/57  \r  66.8%  7/105/65  \r  66.9%  7/66/62  \r  67.0%  7/66/62  \r  67.1%  7/30/58  \r  67.2%  7/100/63  \r  67.3%  7/36/54  \r  67.4%  7/76/70  \r  67.5%  7/116/67  \r  67.6%  7/122/67  \r  67.7%  7/36/56  \r  67.8%  7/58/59  \rtile 7/58/59 size is 507987 with detail 12, >500000    \n",
            "Going to try keeping the sparsest 88.58% of the features to make it fit\n",
            "  67.7%  7/58/59  \r  67.7%  7/48/64  \r  67.8%  7/48/64  \r  67.9%  7/58/59  \r  68.0%  7/114/67  \r  68.1%  7/92/61  \r  68.2%  7/111/68  \r  68.3%  7/35/60  \r  68.3%  7/31/57  \r  68.4%  7/95/56  \r  68.5%  7/59/60  \r  68.6%  7/65/61  \r  68.7%  7/105/61  \r  68.8%  7/101/64  \r  68.9%  7/107/57  \r  69.0%  7/47/64  \r  69.1%  7/111/64  \r  69.2%  7/35/64  \r  69.3%  7/97/58  \r  69.4%  7/108/69  \r  69.5%  7/113/66  \r  69.6%  7/80/69  \r  69.7%  7/110/68  \r  69.8%  7/102/64  \r  69.9%  7/58/60  \r  70.0%  7/114/68  \r  70.1%  7/35/54  \r  70.2%  7/35/54  \r  70.3%  7/115/70  \r  70.4%  7/65/62  \r  70.5%  7/105/62  \r  70.6%  7/105/62  \r  70.7%  7/49/70  \r  70.8%  7/35/63  \r  70.9%  7/115/66  \r  71.0%  7/117/67  \r  71.1%  7/97/56  \r  71.2%  7/107/59  \r  71.3%  7/105/65  \r  71.4%  7/66/62  \r  71.5%  7/66/62  \r  71.6%  7/66/62  \r  71.7%  7/100/63  \r  71.8%  7/36/63  \r  71.9%  7/76/71  \r  72.0%  7/108/59  \r  72.1%  7/98/58  \r  72.2%  7/46/63  \r  72.3%  7/58/59  \r  72.4%  7/58/59  \r  72.5%  7/48/64  \r  72.6%  7/32/57  \r  72.7%  7/112/65  \r  72.8%  8/191/112  \r  72.9%  8/223/129  \r  73.0%  8/211/133  \r  73.1%  8/221/129  \r  73.2%  8/191/111  \r  73.3%  8/211/143  \r  73.3%  8/229/136  \r  73.4%  8/245/143  \r  73.5%  8/69/112  \r  73.6%  8/207/126  \r  73.7%  8/225/131  \r  73.8%  8/118/121  \r  73.9%  8/65/114  \r  74.0%  8/222/136  \r  74.1%  8/226/133  \r  74.2%  8/94/128  \r  74.3%  8/58/108  \r  74.4%  8/212/120  \r  74.4%  8/70/111  \r  74.5%  8/76/112  \r  74.6%  8/214/118  \r  74.7%  8/210/130  \r  74.8%  8/72/126  \r  74.9%  8/116/119  \r  75.0%  8/88/123  \r  75.1%  8/119/122  \r  75.2%  8/211/122  \r  75.3%  8/131/123  \r  75.4%  8/215/131  \r  75.5%  8/225/139  \r  75.6%  8/131/124  \r  75.7%  8/223/132  \rtile 8/211/125 size is 632415 with detail 12, >500000    \n",
            "Going to try keeping the sparsest 71.16% of the features to make it fit\n",
            "  75.6%  8/211/125  \r  75.7%  8/211/125  \r  75.8%  8/211/125  \r  75.9%  8/133/124  \r  76.0%  8/153/141  \r  76.1%  8/65/113  \r  76.2%  8/225/129  \r  76.3%  8/62/114  \r  76.4%  8/162/138  \r  76.5%  8/226/134  \r  76.5%  8/134/125  \r  76.6%  8/70/109  \rtile 8/70/109 size is 556272 with detail 12, >500000    \n",
            "Going to try keeping the sparsest 80.90% of the features to make it fit\n",
            "  76.6%  8/134/124  \r  76.6%  8/70/109  \r  76.7%  8/70/109  \r  76.8%  8/214/117  \r  76.9%  8/210/129  \rtile 8/132/124 size is 520052 with detail 12, >500000    \n",
            "Going to try keeping the sparsest 86.53% of the features to make it fit\n",
            "  76.8%  8/132/124  \r  76.9%  8/132/124  \r  77.0%  8/132/124  \r  77.1%  8/72/124  \r  77.2%  8/96/129  \r  77.3%  8/63/113  \r  77.4%  8/203/120  \r  77.5%  8/95/128  \r  77.6%  8/195/116  \r  77.7%  8/191/111  \r  77.8%  8/117/120  \r  77.9%  8/201/120  \r  78.0%  8/93/128  \r  78.1%  8/229/135  \r  78.2%  8/225/131  \r  78.3%  8/118/121  \r  78.4%  8/202/121  \r  78.5%  8/65/114  \r  78.6%  8/226/133  \r  78.7%  8/100/137  \r  78.7%  8/58/112  \r  78.8%  8/94/128  \r  78.9%  8/70/111  \r  79.0%  8/84/120  \r  79.1%  8/226/131  \r  79.2%  8/52/111  \r  79.3%  8/192/111  \r  79.4%  8/72/126  \r  79.5%  8/176/110  \r  79.6%  8/116/118  \r  79.7%  8/203/130  \r  79.8%  8/219/139  \r  79.9%  8/211/123  \r  80.0%  8/241/134  \r  80.1%  8/77/115  \r  80.2%  8/239/133  \r  80.3%  8/211/128  \r  80.4%  8/215/117  \r  80.5%  8/69/108  \r  80.6%  8/57/116  \r  80.7%  8/217/121  \r  80.8%  8/198/122  \r  80.9%  8/94/146  \r  81.0%  8/216/135  \r  81.1%  8/70/109  \r  81.2%  8/70/109  \r  81.3%  8/234/156  \r  81.4%  8/194/113  \r  81.5%  8/132/124  \r  81.6%  8/72/109  \r  81.7%  8/116/117  \r  81.8%  8/96/129  \r  81.9%  9/191/258  \r  82.0%  9/451/263  \r  82.1%  9/325/274  \r  82.2%  9/453/267  \r  82.3%  9/269/255  \r  82.4%  9/139/244  \r  82.5%  9/123/229  \r  82.6%  9/447/265  \r  82.7%  9/139/217  \r  82.8%  9/141/219  \r  82.9%  9/421/259  \r  83.0%  9/446/259  \r  83.1%  9/382/223  \r  83.2%  9/234/239  \r  83.3%  9/452/267  \r  83.4%  9/396/238  \r  83.5%  9/152/223  \r  83.6%  9/238/245  \r  83.7%  9/422/256  \r  83.8%  9/266/249  \r  83.9%  9/140/218  \r  84.0%  9/460/267  \r  84.1%  9/443/272  \r  84.2%  9/187/256  \r  84.3%  9/391/233  \r  84.4%  9/149/240  \r  84.5%  9/105/224  \r  84.6%  9/501/308  \r  84.7%  9/239/246  \r  84.8%  9/423/247  \r  84.9%  9/423/251  \r  85.0%  9/131/227  \r  85.1%  9/150/240  \r  85.2%  9/202/272  \r  85.3%  9/414/252  \r  85.4%  9/190/257  \r  85.5%  9/408/240  \r  85.6%  9/396/241  \r  85.7%  9/422/246  \r  85.8%  9/202/262  \r  85.9%  9/146/226  \r  85.9%  9/168/237  \r  86.0%  9/440/276  \r  86.1%  9/264/248  \r  86.2%  9/124/229  \r  86.3%  9/264/249  \r  86.4%  9/451/267  \r  86.5%  9/443/258  \r  86.6%  9/237/243  \r  86.7%  9/413/227  \r  86.8%  9/401/254  \r  86.9%  9/449/262  \r  87.0%  9/439/277  \r  87.1%  9/263/248  \r  87.2%  9/139/216  \r  87.3%  9/433/278  \r  87.4%  9/141/218  \r  87.5%  9/461/266  \r  87.6%  9/142/259  \r  87.7%  9/138/223  \r  87.8%  9/404/259  \r  87.9%  9/200/275  \r  88.0%  9/184/254  \r  88.1%  9/184/255  \r  88.2%  9/310/280  \r  88.3%  9/274/264  \r  88.4%  9/140/218  \r  88.5%  9/148/226  \r  88.6%  9/144/219  \r  88.7%  9/403/256  \r  88.8%  9/391/233  \r  88.9%  9/403/257  \r  89.0%  9/425/240  \r  89.1%  9/389/228  \r  89.2%  9/233/236  \r  89.3%  9/263/247  \r  89.4%  9/451/258  \r  89.5%  9/129/236  \r  89.6%  9/397/245  \r  89.7%  9/426/240  \r  89.8%  9/414/252  \r  89.9%  9/166/241  \r  90.0%  9/442/273  \r  90.1%  9/144/252  \r  90.2%  9/456/268  \r  90.3%  9/448/273  \r  90.4%  9/352/221  \r  90.4%  9/406/226  \r  90.5%  9/456/269  \r  90.6%  9/422/251  \r  90.7%  9/248/248  \r  90.7%  9/426/267  \r  90.8%  9/268/249  \r  90.9%  9/128/225  \r  91.0%  10/811/486  \r  91.1%  10/239/458  \r  91.2%  10/843/518  \r  91.3%  10/401/551  \r  91.4%  10/909/563  \r  91.4%  10/225/462  \r  91.5%  10/783/466  \r  91.6%  10/899/546  \r  91.7%  10/531/498  \r  91.8%  10/291/499  \r  91.9%  10/297/483  \r  92.0%  10/617/562  \r  92.1%  10/810/486  \r  92.2%  10/894/530  \r  92.3%  10/790/499  \r  92.3%  10/842/518  \r  92.4%  10/904/534  \r  92.5%  10/476/490  \r  92.6%  10/192/438  \r  92.7%  10/262/458  \r  92.8%  10/886/515  \r  92.9%  10/526/495  \r  93.0%  10/262/455  \r  93.1%  10/332/483  \r  93.2%  10/255/452  \r  93.3%  10/280/435  \r  93.4%  10/527/496  \r  93.5%  10/539/500  \r  93.6%  10/859/525  \r  93.7%  10/285/445  \r  93.8%  10/273/477  \r  93.9%  10/1003/616  \r  93.9%  10/773/449  \r  94.0%  10/495/497  \r  94.1%  10/291/441  \r  94.2%  10/243/465  \r  94.3%  10/889/545  \r  94.4%  10/845/501  \r  94.5%  10/254/453  \r  94.6%  10/882/517  \r  94.6%  10/892/520  \r  94.7%  10/384/516  \r  94.8%  10/922/533  \r  94.9%  10/808/517  \r  95.0%  10/620/561  \r  95.1%  10/288/504  \r  95.2%  10/626/545  \r  95.3%  10/818/529  \r  95.4%  10/644/557  \r  95.5%  10/791/478  \r  95.6%  10/211/447  \r  95.7%  10/895/530  \r  95.8%  10/469/479  \r  95.9%  10/845/514  \r  96.0%  10/319/482  \r  96.1%  10/807/507  \r  96.2%  10/527/495  \r  96.3%  10/781/466  \r  96.4%  10/705/442  \r  96.5%  10/369/507  \r  96.6%  10/286/446  \r  96.7%  10/806/511  \r  96.8%  10/226/462  \r  96.9%  10/778/455  \r  97.0%  10/468/479  \r  97.1%  10/280/447  \r  97.2%  10/532/499  \r  97.2%  10/270/466  \r  97.3%  10/464/471  \r  97.4%  10/530/498  \r  97.5%  10/846/503  \r  97.6%  10/292/502  \r  97.7%  10/840/531  \r  97.8%  10/287/508  \r  97.9%  10/288/451  \r  97.9%  10/815/520  \r  98.0%  10/899/549  \r  98.1%  10/527/497  \r  98.2%  10/941/520  \r  98.3%  10/807/480  \r  98.4%  10/307/448  \r  98.5%  10/281/437  \r  98.6%  10/859/513  \r  98.7%  10/385/520  \r  98.8%  10/805/513  \r  98.9%  10/465/473  \r  99.0%  10/802/476  \r  99.1%  10/902/525  \r  99.2%  10/280/436  \r  99.3%  10/254/472  \r  99.4%  10/394/520  \r  99.5%  10/938/576  \r  99.6%  10/412/536  \r  99.7%  10/638/569  \r  99.8%  10/846/493  \r  99.9%  10/808/513  \r\n"
          ],
          "name": "stderr"
        }
      ]
    },
    {
      "cell_type": "code",
      "metadata": {
        "id": "yGFLp5tXVmnl",
        "colab_type": "code",
        "outputId": "18044a7f-f814-4052-87b2-b13da9cbc046",
        "colab": {
          "base_uri": "https://localhost:8080/",
          "height": 278
        }
      },
      "source": [
        "%%bash\n",
        "# Upload to GCS bucket\n",
        "pf=$MA_BUCKET/land-cover/processed/geojson/gmw_1996_2016.mbtiles\n",
        "gsutil -m cp -r ${pf} gs://${pf}\n"
      ],
      "execution_count": 0,
      "outputs": [
        {
          "output_type": "stream",
          "text": [
            "Copying file://mangrove_atlas/land-cover/processed/geojson/gmw_1996_2016.mbtiles [Content-Type=application/octet-stream]...\n",
            "==> NOTE: You are uploading one or more large file(s), which would run\n",
            "significantly faster if you enable parallel composite uploads. This\n",
            "feature can be enabled by editing the\n",
            "\"parallel_composite_upload_threshold\" value in your .boto\n",
            "configuration file. However, note that if you do this large files will\n",
            "be uploaded as `composite objects\n",
            "<https://cloud.google.com/storage/docs/composite-objects>`_,which\n",
            "means that any user who downloads such objects will need to have a\n",
            "compiled crcmod installed (see \"gsutil help crcmod\"). This is because\n",
            "without a compiled crcmod, computing checksums on composite objects is\n",
            "so slow that gsutil disables downloads of composite objects.\n",
            "\n",
            "/ [0/1 files][    0.0 B/161.5 MiB]   0% Done                                    \r-\r- [0/1 files][107.3 MiB/161.5 MiB]  66% Done                                    \r\\\r\\ [1/1 files][161.5 MiB/161.5 MiB] 100% Done                                    \r|\r\n",
            "Operation completed over 1 objects/161.5 MiB.                                    \n"
          ],
          "name": "stderr"
        }
      ]
    },
    {
      "cell_type": "code",
      "metadata": {
        "id": "-WcWaTabC92z",
        "colab_type": "code",
        "outputId": "759f8ed7-5777-49e6-b794-12be987cb5a8",
        "colab": {
          "base_uri": "https://localhost:8080/",
          "height": 86
        }
      },
      "source": [
        "# Add to Mapbox\n",
        "\n",
        "# Get latest mbtiles\n",
        "!gsutil -m cp -r gs://$MA_BUCKET/land-cover/processed/geojson/gmw_1996_2016.mbtiles $MA_BUCKET/land-cover/processed/geojson\n",
        "    \n",
        "import glob \n",
        "import os\n",
        "path = os.environ.get('MA_BUCKET') + '/land-cover/processed/geojson'\n",
        "files = [f for f in glob.glob(path + \"**/*.mbtiles\", recursive=True)]\n",
        "for f in files:\n",
        "  upload_to_mapbox(f, os.path.splitext(os.path.basename(f))[0])"
      ],
      "execution_count": 0,
      "outputs": [
        {
          "output_type": "stream",
          "text": [
            "Copying gs://mangrove_atlas/land-cover/processed/geojson/gmw_1996_2016.mbtiles...\n",
            "/ [1/1 files][161.5 MiB/161.5 MiB] 100% Done                                    \n",
            "Operation completed over 1 objects/161.5 MiB.                                    \n",
            "{'message': 'Not Found'}\n"
          ],
          "name": "stdout"
        }
      ]
    },
    {
      "cell_type": "code",
      "metadata": {
        "id": "vbO0NLUIwLXq",
        "colab_type": "code",
        "outputId": "d5e2519e-40d9-45dc-d167-2276352cc6b5",
        "colab": {
          "base_uri": "https://localhost:8080/",
          "height": 86
        }
      },
      "source": [
        "ls mangrove_atlas/land-cover/processed"
      ],
      "execution_count": 0,
      "outputs": [
        {
          "output_type": "stream",
          "text": [
            "\u001b[0m\u001b[01;34mgeojson\u001b[0m/               gmw_1996_2016.prj  GMW_1996_v2.zip  GMW_2010_v2.zip\n",
            "gmw_1996_2016.dbf      gmw_1996_2016.shp  GMW_2007_v2.zip  GMW_2015_v2.zip\n",
            "gmw_1996_2016.geojson  gmw_1996_2016.shx  GMW_2008_v2.zip  GMW_2016_v2.zip\n",
            "gmw_1996_2016.mbtiles  gmw_1996_2016.zip  GMW_2009_v2.zip\n"
          ],
          "name": "stdout"
        }
      ]
    },
    {
      "cell_type": "code",
      "metadata": {
        "id": "WVmd0hL1FXXJ",
        "colab_type": "code",
        "outputId": "d1bf9a5d-34a3-48b2-bf93-0f3d2d8efc1c",
        "colab": {
          "base_uri": "https://localhost:8080/",
          "height": 121
        }
      },
      "source": [
        "%%bash \n",
        "# Combine geojsons and convert to shapefile\n",
        "mapshaper-xl \\\n",
        "    -i $MA_BUCKET/land-cover/processed/geojson/*.json snap combine-files \\\n",
        "    -rename-layers gmw1996,gmw2007,gmw2008,gmw2009,gmw2010,gmw2015,gmw2016 \\\n",
        "    -merge-layers target=gmw1996,gmw2007,gmw2008,gmw2009,gmw2010,gmw2015,gmw2016 name=gmw_1996_2016 \\\n",
        "    -o $MA_BUCKET/land-cover/processed/gmw_1996_2016.shp format=shapefile target=gmw_1996_2016 precision=0.000001 force\n"
      ],
      "execution_count": 0,
      "outputs": [
        {
          "output_type": "stream",
          "text": [
            "Allocating 8000 megabytes of heap memory\n",
            "[i] Snapped 0 points\n",
            "[o] Wrote mangrove_atlas/land-cover/processed/gmw_1996_2016.shp\n",
            "[o] Wrote mangrove_atlas/land-cover/processed/gmw_1996_2016.shx\n",
            "[o] Wrote mangrove_atlas/land-cover/processed/gmw_1996_2016.dbf\n",
            "[o] Wrote mangrove_atlas/land-cover/processed/gmw_1996_2016.prj\n"
          ],
          "name": "stderr"
        }
      ]
    },
    {
      "cell_type": "code",
      "metadata": {
        "id": "uOK0wr2RJpY7",
        "colab_type": "code",
        "outputId": "7569ef15-5414-499a-d31d-3b394d2a8ab7",
        "colab": {
          "base_uri": "https://localhost:8080/",
          "height": 86
        }
      },
      "source": [
        "# Zip processed shape files\n",
        "%%bash\n",
        "pf=$MA_BUCKET/land-cover/processed\n",
        "fl=(${pf}/*.shp)\n",
        "for ((i=0; i<${#fl[@]}; i++)); do\n",
        "  z=\"${fl[$i]}\"\n",
        "  bn=\"${z%%.*}\"\n",
        "  zip $bn.zip $bn.*\n",
        "  \n",
        "done"
      ],
      "execution_count": 0,
      "outputs": [
        {
          "output_type": "stream",
          "text": [
            "  adding: mangrove_atlas/land-cover/processed/gmw_1996_2016.dbf (deflated 79%)\n",
            "  adding: mangrove_atlas/land-cover/processed/gmw_1996_2016.prj (deflated 10%)\n",
            "  adding: mangrove_atlas/land-cover/processed/gmw_1996_2016.shp (deflated 68%)\n",
            "  adding: mangrove_atlas/land-cover/processed/gmw_1996_2016.shx (deflated 48%)\n"
          ],
          "name": "stdout"
        }
      ]
    },
    {
      "cell_type": "code",
      "metadata": {
        "id": "QvCxc8HmJ8dc",
        "colab_type": "code",
        "outputId": "be7b834e-5d64-43ee-8fb9-328de82f75d5",
        "colab": {
          "base_uri": "https://localhost:8080/",
          "height": 86
        }
      },
      "source": [
        "ls mangrove_atlas/land-cover/processed/"
      ],
      "execution_count": 0,
      "outputs": [
        {
          "output_type": "stream",
          "text": [
            "\u001b[0m\u001b[01;34mgeojson\u001b[0m/           gmw_1996_2016.shx  GMW_2008_v2.zip  GMW_2016_v2.zip\n",
            "gmw_1996_2016.dbf  gmw_1996_2016.zip  GMW_2009_v2.zip\n",
            "gmw_1996_2016.prj  GMW_1996_v2.zip    GMW_2010_v2.zip\n",
            "gmw_1996_2016.shp  GMW_2007_v2.zip    GMW_2015_v2.zip\n"
          ],
          "name": "stdout"
        }
      ]
    },
    {
      "cell_type": "code",
      "metadata": {
        "id": "JF2lpq_MIm_q",
        "colab_type": "code",
        "outputId": "891ef887-5439-4cdd-968a-08b9d4391810",
        "colab": {
          "base_uri": "https://localhost:8080/",
          "height": 278
        }
      },
      "source": [
        "%%bash\n",
        "# Upload to GCS\n",
        "pf=$MA_BUCKET/land-cover/processed/gmw_1996_2016.zip\n",
        "gsutil -m cp -r ${pf} gs://${pf}"
      ],
      "execution_count": 0,
      "outputs": [
        {
          "output_type": "stream",
          "text": [
            "Copying file://mangrove_atlas/land-cover/processed/gmw_1996_2016.zip [Content-Type=application/zip]...\n",
            "==> NOTE: You are uploading one or more large file(s), which would run\n",
            "significantly faster if you enable parallel composite uploads. This\n",
            "feature can be enabled by editing the\n",
            "\"parallel_composite_upload_threshold\" value in your .boto\n",
            "configuration file. However, note that if you do this large files will\n",
            "be uploaded as `composite objects\n",
            "<https://cloud.google.com/storage/docs/composite-objects>`_,which\n",
            "means that any user who downloads such objects will need to have a\n",
            "compiled crcmod installed (see \"gsutil help crcmod\"). This is because\n",
            "without a compiled crcmod, computing checksums on composite objects is\n",
            "so slow that gsutil disables downloads of composite objects.\n",
            "\n",
            "/ [0/1 files][    0.0 B/335.9 MiB]   0% Done                                    \r-\r- [0/1 files][103.9 MiB/335.9 MiB]  30% Done                                    \r\\\r|\r| [0/1 files][227.4 MiB/335.9 MiB]  67% Done                                    \r/\r/ [0/1 files][287.7 MiB/335.9 MiB]  85% Done                                    \r-\r- [1/1 files][335.9 MiB/335.9 MiB] 100% Done                                    \r\\\r\n",
            "Operation completed over 1 objects/335.9 MiB.                                    \n"
          ],
          "name": "stderr"
        }
      ]
    },
    {
      "cell_type": "code",
      "metadata": {
        "id": "WgfZrTg_Iuxz",
        "colab_type": "code",
        "outputId": "421ba115-32c7-4b35-cd05-675ebd3d6086",
        "colab": {
          "base_uri": "https://localhost:8080/",
          "height": 541
        }
      },
      "source": [
        "# Add as GEE asset\n",
        "# single year layers take upto 10 min\n",
        "# combined layer takes about 17m\n",
        "import os\n",
        "# TODO ADD METADATA!\n",
        "file_path=\"gs://\" + os.environ.get('MA_BUCKET') + \"/land-cover/processed/*.zip\"\n",
        "asset_path=\"projects/global-mangrove-watch/land-cover\"\n",
        "append_txt=\"_simplified\"\n",
        "strProv=\"Global Mangrove Watch\"\n",
        "strVer=2.0\n",
        "strDOI=\"=http://dx.doi.org/10.7910/DVN/HKGBGS\"\n",
        "strCite=\"Bunting P., Rosenqvist A., Lucas R., Rebelo L-M., Hilarides L., Thomas N., Hardy A., Itoh T., Shimada M. and Finlayson C.M. (2018). The Global Mangrove Watch – a New 2010 Global Baseline of Mangrove Extent. Remote Sens. 2018, 10, 1669; doi:10.3390/rs10101669\"\n",
        "\n",
        "gee_upload_zips_to_tables(file_path, asset_path, time_start=\"1996-01-01T00:00:00\", force=True, append_txt=append_txt, properties={\"(string)provider\": strProv, \"version\": strVer, \"(string)doi\": strDOI, \"(string)citation\": strCite})"
      ],
      "execution_count": 0,
      "outputs": [
        {
          "output_type": "stream",
          "text": [
            "Found 9 files\n",
            "Processing GMW_1996_v2\n",
            "earthengine --no-use_cloud_api upload table --asset_id=projects/global-mangrove-watch/land-cover/GMW_1996_v2_simplified --force --time_start=1996-01-01T00:00:00 --property='(string)provider=Global Mangrove Watch' --property='version=2.0' --property='(string)doi==http://dx.doi.org/10.7910/DVN/HKGBGS' --property='(string)citation=Bunting P., Rosenqvist A., Lucas R., Rebelo L-M., Hilarides L., Thomas N., Hardy A., Itoh T., Shimada M. and Finlayson C.M. (2018). The Global Mangrove Watch – a New 2010 Global Baseline of Mangrove Extent. Remote Sens. 2018, 10, 1669; doi:10.3390/rs10101669'  gs://mangrove_atlas/land-cover/processed/GMW_1996_v2.zip\n",
            "Task created\n",
            "Processing GMW_2007_v2\n",
            "earthengine --no-use_cloud_api upload table --asset_id=projects/global-mangrove-watch/land-cover/GMW_2007_v2_simplified --force --time_start=1996-01-01T00:00:00 --property='(string)provider=Global Mangrove Watch' --property='version=2.0' --property='(string)doi==http://dx.doi.org/10.7910/DVN/HKGBGS' --property='(string)citation=Bunting P., Rosenqvist A., Lucas R., Rebelo L-M., Hilarides L., Thomas N., Hardy A., Itoh T., Shimada M. and Finlayson C.M. (2018). The Global Mangrove Watch – a New 2010 Global Baseline of Mangrove Extent. Remote Sens. 2018, 10, 1669; doi:10.3390/rs10101669'  gs://mangrove_atlas/land-cover/processed/GMW_2007_v2.zip\n",
            "Task created\n",
            "Processing GMW_2008_v2\n",
            "earthengine --no-use_cloud_api upload table --asset_id=projects/global-mangrove-watch/land-cover/GMW_2008_v2_simplified --force --time_start=1996-01-01T00:00:00 --property='(string)provider=Global Mangrove Watch' --property='version=2.0' --property='(string)doi==http://dx.doi.org/10.7910/DVN/HKGBGS' --property='(string)citation=Bunting P., Rosenqvist A., Lucas R., Rebelo L-M., Hilarides L., Thomas N., Hardy A., Itoh T., Shimada M. and Finlayson C.M. (2018). The Global Mangrove Watch – a New 2010 Global Baseline of Mangrove Extent. Remote Sens. 2018, 10, 1669; doi:10.3390/rs10101669'  gs://mangrove_atlas/land-cover/processed/GMW_2008_v2.zip\n",
            "Task created\n",
            "Processing GMW_2009_v2\n",
            "earthengine --no-use_cloud_api upload table --asset_id=projects/global-mangrove-watch/land-cover/GMW_2009_v2_simplified --force --time_start=1996-01-01T00:00:00 --property='(string)provider=Global Mangrove Watch' --property='version=2.0' --property='(string)doi==http://dx.doi.org/10.7910/DVN/HKGBGS' --property='(string)citation=Bunting P., Rosenqvist A., Lucas R., Rebelo L-M., Hilarides L., Thomas N., Hardy A., Itoh T., Shimada M. and Finlayson C.M. (2018). The Global Mangrove Watch – a New 2010 Global Baseline of Mangrove Extent. Remote Sens. 2018, 10, 1669; doi:10.3390/rs10101669'  gs://mangrove_atlas/land-cover/processed/GMW_2009_v2.zip\n",
            "Task created\n",
            "Processing GMW_2010_v2\n",
            "earthengine --no-use_cloud_api upload table --asset_id=projects/global-mangrove-watch/land-cover/GMW_2010_v2_simplified --force --time_start=1996-01-01T00:00:00 --property='(string)provider=Global Mangrove Watch' --property='version=2.0' --property='(string)doi==http://dx.doi.org/10.7910/DVN/HKGBGS' --property='(string)citation=Bunting P., Rosenqvist A., Lucas R., Rebelo L-M., Hilarides L., Thomas N., Hardy A., Itoh T., Shimada M. and Finlayson C.M. (2018). The Global Mangrove Watch – a New 2010 Global Baseline of Mangrove Extent. Remote Sens. 2018, 10, 1669; doi:10.3390/rs10101669'  gs://mangrove_atlas/land-cover/processed/GMW_2010_v2.zip\n",
            "Task created\n",
            "Processing GMW_2015_v2\n",
            "earthengine --no-use_cloud_api upload table --asset_id=projects/global-mangrove-watch/land-cover/GMW_2015_v2_simplified --force --time_start=1996-01-01T00:00:00 --property='(string)provider=Global Mangrove Watch' --property='version=2.0' --property='(string)doi==http://dx.doi.org/10.7910/DVN/HKGBGS' --property='(string)citation=Bunting P., Rosenqvist A., Lucas R., Rebelo L-M., Hilarides L., Thomas N., Hardy A., Itoh T., Shimada M. and Finlayson C.M. (2018). The Global Mangrove Watch – a New 2010 Global Baseline of Mangrove Extent. Remote Sens. 2018, 10, 1669; doi:10.3390/rs10101669'  gs://mangrove_atlas/land-cover/processed/GMW_2015_v2.zip\n",
            "Task created\n",
            "Processing GMW_2016_v2\n",
            "earthengine --no-use_cloud_api upload table --asset_id=projects/global-mangrove-watch/land-cover/GMW_2016_v2_simplified --force --time_start=1996-01-01T00:00:00 --property='(string)provider=Global Mangrove Watch' --property='version=2.0' --property='(string)doi==http://dx.doi.org/10.7910/DVN/HKGBGS' --property='(string)citation=Bunting P., Rosenqvist A., Lucas R., Rebelo L-M., Hilarides L., Thomas N., Hardy A., Itoh T., Shimada M. and Finlayson C.M. (2018). The Global Mangrove Watch – a New 2010 Global Baseline of Mangrove Extent. Remote Sens. 2018, 10, 1669; doi:10.3390/rs10101669'  gs://mangrove_atlas/land-cover/processed/GMW_2016_v2.zip\n",
            "Task created\n",
            "Processing gmw_1996_2016\n",
            "earthengine --no-use_cloud_api upload table --asset_id=projects/global-mangrove-watch/land-cover/gmw_1996_2016_simplified --force --time_start=1996-01-01T00:00:00 --property='(string)provider=Global Mangrove Watch' --property='version=2.0' --property='(string)doi==http://dx.doi.org/10.7910/DVN/HKGBGS' --property='(string)citation=Bunting P., Rosenqvist A., Lucas R., Rebelo L-M., Hilarides L., Thomas N., Hardy A., Itoh T., Shimada M. and Finlayson C.M. (2018). The Global Mangrove Watch – a New 2010 Global Baseline of Mangrove Extent. Remote Sens. 2018, 10, 1669; doi:10.3390/rs10101669'  gs://mangrove_atlas/land-cover/processed/gmw_1996_2016.zip\n",
            "Task created\n",
            "Processing \n",
            "earthengine --no-use_cloud_api upload table --asset_id=projects/global-mangrove-watch/land-cover/_simplified --force --time_start=1996-01-01T00:00:00 --property='(string)provider=Global Mangrove Watch' --property='version=2.0' --property='(string)doi==http://dx.doi.org/10.7910/DVN/HKGBGS' --property='(string)citation=Bunting P., Rosenqvist A., Lucas R., Rebelo L-M., Hilarides L., Thomas N., Hardy A., Itoh T., Shimada M. and Finlayson C.M. (2018). The Global Mangrove Watch – a New 2010 Global Baseline of Mangrove Extent. Remote Sens. 2018, 10, 1669; doi:10.3390/rs10101669'  \n",
            "Task failed\n",
            "Finished upload\n"
          ],
          "name": "stdout"
        }
      ]
    },
    {
      "cell_type": "code",
      "metadata": {
        "id": "ACxRPJtM33au",
        "colab_type": "code",
        "colab": {}
      },
      "source": [
        "# Clean up\n",
        "!rm -r $MA_BUCKET/land-cover"
      ],
      "execution_count": 0,
      "outputs": []
    },
    {
      "cell_type": "markdown",
      "metadata": {
        "id": "u-2E9zzfC4VG",
        "colab_type": "text"
      },
      "source": [
        "---\n",
        "#Prepare mangrove land-cover change data\n",
        "\n",
        "Once combined land-cover asset is uploaded to GEE, the JS code `users/vizzuality/mangrove-atlas/land-cover-mangrove-gain-loss.js` creates change layers between consecutive time periods and exports them to `https://storage.cloud.google.com/mangrove_atlas/land-cover/processed/geojson/`\n",
        "\n",
        "+ All change layers are combined into a single feature collection with fields `start_year`, `end_year`, and `change_typ`."
      ]
    },
    {
      "cell_type": "code",
      "metadata": {
        "id": "4P45BB0TH2Kd",
        "colab_type": "code",
        "outputId": "b59073ec-b3c4-41c8-d534-a5ecfc51362c",
        "colab": {
          "base_uri": "https://localhost:8080/",
          "height": 278
        }
      },
      "source": [
        "%%bash\n",
        "# Download from GCS bucket\n",
        "pf=$MA_BUCKET/land-cover/processed/geojson/gain\n",
        "mkdir -p $pf\n",
        "gsutil -m cp -r gs://${pf} $MA_BUCKET/land-cover/processed/geojson\n",
        "\n",
        "pf=$MA_BUCKET/land-cover/processed/geojson/loss\n",
        "mkdir -p $pf\n",
        "gsutil -m cp -r gs://${pf} $MA_BUCKET/land-cover/processed/geojson\n",
        "\n",
        "ls $MA_BUCKET/land-cover/processed/geojson"
      ],
      "execution_count": 0,
      "outputs": [
        {
          "output_type": "stream",
          "text": [
            "gain\n",
            "loss\n"
          ],
          "name": "stdout"
        },
        {
          "output_type": "stream",
          "text": [
            "Copying gs://mangrove_atlas/land-cover/processed/geojson/gain/gl_2007_1996_gain.geojson...\n",
            "Copying gs://mangrove_atlas/land-cover/processed/geojson/gain/gl_2015_2010_gain.geojson...\n",
            "Copying gs://mangrove_atlas/land-cover/processed/geojson/gain/gl_2010_2009_gain.geojson...\n",
            "Copying gs://mangrove_atlas/land-cover/processed/geojson/gain/gl_2008_2007_gain.geojson...\n",
            "Copying gs://mangrove_atlas/land-cover/processed/geojson/gain/gl_2016_2015_gain.geojson...\n",
            "Copying gs://mangrove_atlas/land-cover/processed/geojson/gain/gl_2009_2008_gain.geojson...\n",
            "Copying gs://mangrove_atlas/land-cover/processed/geojson/gain/gl_2015_2016_gain_.geojson...\n",
            "/ [0/8 files][    0.0 B/652.3 MiB]   0% Done                                    \r/ [0/8 files][    0.0 B/652.3 MiB]   0% Done                                    \r/ [0/8 files][    0.0 B/652.3 MiB]   0% Done                                    \r/ [0/8 files][    0.0 B/652.3 MiB]   0% Done                                    \r/ [0/8 files][    0.0 B/652.3 MiB]   0% Done                                    \r/ [0/8 files][    0.0 B/652.3 MiB]   0% Done                                    \r/ [0/8 files][    0.0 B/652.3 MiB]   0% Done                                    \r-\r- [0/8 files][ 24.2 MiB/652.3 MiB]   3% Done                                    \r\\\r|\r| [0/8 files][131.0 MiB/652.3 MiB]  20% Done                                    \r/\r/ [0/8 files][253.4 MiB/652.3 MiB]  38% Done                                    \r/ [1/8 files][265.9 MiB/652.3 MiB]  40% Done                                    \r-\r\\\r\\ [2/8 files][331.9 MiB/652.3 MiB]  50% Done                                    \r|\r| [3/8 files][393.1 MiB/652.3 MiB]  60% Done                                    \r/\r/ [3/8 files][460.6 MiB/652.3 MiB]  70% Done                                    \r-\r- [4/8 files][502.4 MiB/652.3 MiB]  77% Done                                    \r\\\r\\ [4/8 files][556.0 MiB/652.3 MiB]  85% Done                                    \r\\ [5/8 files][560.4 MiB/652.3 MiB]  85% Done                                    \r|\r/\r/ [5/8 files][599.3 MiB/652.3 MiB]  91% Done                                    \r/ [6/8 files][608.8 MiB/652.3 MiB]  93% Done                                    \r-\r- [6/8 files][647.0 MiB/652.3 MiB]  99% Done                                    \r- [7/8 files][652.3 MiB/652.3 MiB]  99% Done                                    \rCopying gs://mangrove_atlas/land-cover/processed/geojson/loss/gl_2010_2015_loss.geojson...\n",
            "Copying gs://mangrove_atlas/land-cover/processed/geojson/loss/gl_2009_2010_loss.geojson...\n",
            "Copying gs://mangrove_atlas/land-cover/processed/geojson/loss/gl_2007_2008_loss.geojson...\n",
            "Copying gs://mangrove_atlas/land-cover/processed/geojson/loss/gl_1996_2007_loss.geojson...\n",
            "Copying gs://mangrove_atlas/land-cover/processed/geojson/loss/gl_2015_2016_loss.geojson...\n",
            "Copying gs://mangrove_atlas/land-cover/processed/geojson/loss/gl_2008_2009_loss.geojson...\n",
            "/ [0/7 files][    0.0 B/477.6 MiB]   0% Done                                    \r/ [0/7 files][    0.0 B/477.6 MiB]   0% Done                                    \r/ [0/7 files][    0.0 B/477.6 MiB]   0% Done                                    \r/ [0/7 files][    0.0 B/477.6 MiB]   0% Done                                    \r/ [0/7 files][    0.0 B/477.6 MiB]   0% Done                                    \r/ [0/7 files][    0.0 B/477.6 MiB]   0% Done                                    \r-\r- [0/7 files][ 28.9 MiB/477.6 MiB]   6% Done                                    \r\\\r|\r| [0/7 files][130.2 MiB/477.6 MiB]  27% Done                                    \r/\r/ [1/7 files][215.0 MiB/477.6 MiB]  45% Done                                    \r-\r- [1/7 files][309.8 MiB/477.6 MiB]  64% Done                                    \r- [2/7 files][319.6 MiB/477.6 MiB]  66% Done                                    \r\\\r\\ [3/7 files][353.8 MiB/477.6 MiB]  74% Done                                    \r|\r| [4/7 files][387.1 MiB/477.6 MiB]  81% Done                                    \r/\r/ [4/7 files][419.3 MiB/477.6 MiB]  87% Done                                    \r-\r- [5/7 files][428.8 MiB/477.6 MiB]  89% Done                                    \r\\\r\\ [5/7 files][451.8 MiB/477.6 MiB]  94% Done                                    \r|\r/\r/ [5/7 files][467.2 MiB/477.6 MiB]  97% Done                                    \r-\r- [6/7 files][477.6 MiB/477.6 MiB]  99% Done                                    \r"
          ],
          "name": "stderr"
        }
      ]
    },
    {
      "cell_type": "code",
      "metadata": {
        "id": "Vf-L6SamJM95",
        "colab_type": "code",
        "colab": {}
      },
      "source": [
        "%%bash\n",
        "mv $MA_BUCKET/land-cover/processed/geojson/gain/*.geojson $MA_BUCKET/land-cover/processed/geojson\n",
        "mv $MA_BUCKET/land-cover/processed/geojson/loss/*.geojson $MA_BUCKET/land-cover/processed/geojson"
      ],
      "execution_count": 0,
      "outputs": []
    },
    {
      "cell_type": "code",
      "metadata": {
        "id": "k-1ySiE4KWvi",
        "colab_type": "code",
        "outputId": "ffdd03ae-99a2-4da9-d764-3446d3cfd23d",
        "colab": {
          "base_uri": "https://localhost:8080/",
          "height": 156
        }
      },
      "source": [
        "ls $MA_BUCKET/land-cover/processed/geojson/"
      ],
      "execution_count": 0,
      "outputs": [
        {
          "output_type": "stream",
          "text": [
            "\u001b[0m\u001b[01;34mgain\u001b[0m/                      gl_2010_2009_gain.geojson\n",
            "gl_1996_2007_loss.geojson  gl_2010_2015_loss.geojson\n",
            "gl_2007_1996_gain.geojson  gl_2015_2010_gain.geojson\n",
            "gl_2007_2008_loss.geojson  gl_2015_2016_gain_.geojson\n",
            "gl_2008_2007_gain.geojson  gl_2015_2016_loss.geojson\n",
            "gl_2008_2009_loss.geojson  gl_2016_2015_gain.geojson\n",
            "gl_2009_2008_gain.geojson  \u001b[01;34mloss\u001b[0m/\n",
            "gl_2009_2010_loss.geojson\n"
          ],
          "name": "stdout"
        }
      ]
    },
    {
      "cell_type": "code",
      "metadata": {
        "id": "ltETzB-aWyKf",
        "colab_type": "code",
        "colab": {}
      },
      "source": [
        "# Fix order of start and end time\n",
        "import json\n",
        "import glob\n",
        "import os\n",
        "p = f\"{os.environ.get('MA_BUCKET')}/land-cover/processed/geojson/*.geojson\"\n",
        "fl = glob.glob(p)\n",
        "for f in fl:\n",
        "  data = json.load(open(f))\n",
        "  for ft in data['features']: \n",
        "    tmp_sy = ft.get('properties').get('start_year')\n",
        "    tmp_ey = ft.get('properties').get('end_year')\n",
        "    tmp_t = ft.get('properties').get('change_type')\n",
        "    tmp_ti = ft.get('properties').get('time_interval')\n",
        "    #print(tmp_sy)\n",
        "    #print(tmp_ey)\n",
        "    #print(tmp_ti)\n",
        "    #print(tmp_t)\n",
        "    if tmp_t == 'loss':\n",
        "      tmp_ti = f\"{tmp_sy}--{tmp_ey}\"\n",
        "    if tmp_t == 'gain':\n",
        "      ge = tmp_sy\n",
        "      gs = tmp_ey\n",
        "      tmp_sy = gs\n",
        "      tmp_ey = ge\n",
        "      tmp_ti = f\"{tmp_sy}--{tmp_ey}\"  \n",
        "    #print(tmp_sy)\n",
        "    #print(tmp_ey)\n",
        "    #print(tmp_ti)\n",
        "    #print(tmp_t)\n",
        "    ft['properties']['start_year'] = tmp_sy\n",
        "    ft['properties']['end_year'] = tmp_ey\n",
        "    ft['properties']['time_interval'] = tmp_ti\n",
        "  with open(f, 'w') as outfile:\n",
        "    json.dump(data, outfile)\n",
        "   "
      ],
      "execution_count": 0,
      "outputs": []
    },
    {
      "cell_type": "code",
      "metadata": {
        "id": "fgThcES_JemM",
        "colab_type": "code",
        "outputId": "cc510401-d0f0-4606-8efe-df1e12c5cabb",
        "colab": {
          "base_uri": "https://localhost:8080/",
          "height": 156
        }
      },
      "source": [
        "%%bash \n",
        "# Combine geojsons and convert to shapefile\n",
        "mapshaper-xl \\\n",
        "    -i $MA_BUCKET/land-cover/processed/geojson/*.geojson snap combine-files \\\n",
        "    -merge-layers name=gmw_change_1996_2016 force \\\n",
        "    -o $MA_BUCKET/land-cover/processed/gmw_change_1996_2016.shp format=shapefile target=gmw_change_1996_2016 precision=0.000001 rfc7946 force"
      ],
      "execution_count": 0,
      "outputs": [
        {
          "output_type": "stream",
          "text": [
            "Allocating 8 GB of heap memory\n",
            "[i] Snapped 1707770 points\n",
            "[o] Changed field name from \"change_type\" to \"change_typ\"\n",
            "[o] Changed field name from \"time_interval\" to \"time_inter\"\n",
            "[o] Wrote mangrove_atlas/land-cover/processed/gmw_change_1996_2016.shp\n",
            "[o] Wrote mangrove_atlas/land-cover/processed/gmw_change_1996_2016.shx\n",
            "[o] Wrote mangrove_atlas/land-cover/processed/gmw_change_1996_2016.dbf\n",
            "[o] Wrote mangrove_atlas/land-cover/processed/gmw_change_1996_2016.prj\n"
          ],
          "name": "stderr"
        }
      ]
    },
    {
      "cell_type": "code",
      "metadata": {
        "id": "B9h6HNdENgos",
        "colab_type": "code",
        "outputId": "58429290-4a08-4808-aafb-98d42eb6b395",
        "colab": {
          "base_uri": "https://localhost:8080/",
          "height": 52
        }
      },
      "source": [
        "ls $MA_BUCKET/land-cover/processed"
      ],
      "execution_count": 0,
      "outputs": [
        {
          "output_type": "stream",
          "text": [
            "\u001b[0m\u001b[01;34mgeojson\u001b[0m/                  gmw_change_1996_2016.prj  gmw_change_1996_2016.shx\n",
            "gmw_change_1996_2016.dbf  gmw_change_1996_2016.shp\n"
          ],
          "name": "stdout"
        }
      ]
    },
    {
      "cell_type": "code",
      "metadata": {
        "id": "V1sGggCcNNit",
        "colab_type": "code",
        "outputId": "ceff1f62-4b8d-4326-8689-5d14de2744d3",
        "colab": {
          "base_uri": "https://localhost:8080/",
          "height": 86
        }
      },
      "source": [
        " # Zip processed shape files\n",
        "%%bash\n",
        "pf=$MA_BUCKET/land-cover/processed\n",
        "fl=(${pf}/*.shp)\n",
        "for ((i=0; i<${#fl[@]}; i++)); do\n",
        "  z=\"${fl[$i]}\"\n",
        "  bn=\"${z%%.*}\"\n",
        "  zip $bn.zip $bn.*\n",
        "  \n",
        "done"
      ],
      "execution_count": 0,
      "outputs": [
        {
          "output_type": "stream",
          "text": [
            "updating: mangrove_atlas/land-cover/processed/gmw_change_1996_2016.dbf (deflated 89%)\n",
            "updating: mangrove_atlas/land-cover/processed/gmw_change_1996_2016.prj (deflated 10%)\n",
            "updating: mangrove_atlas/land-cover/processed/gmw_change_1996_2016.shp (deflated 53%)\n",
            "updating: mangrove_atlas/land-cover/processed/gmw_change_1996_2016.shx (deflated 19%)\n"
          ],
          "name": "stdout"
        }
      ]
    },
    {
      "cell_type": "code",
      "metadata": {
        "id": "P6sDrEWTN0p1",
        "colab_type": "code",
        "outputId": "9a989b78-a17b-4053-fc7c-5fd30a152d3a",
        "colab": {
          "base_uri": "https://localhost:8080/",
          "height": 278
        }
      },
      "source": [
        "%%bash\n",
        "# Upload to GCS\n",
        "pf=$MA_BUCKET/land-cover/processed/gmw_change_1996_2016.zip\n",
        "gsutil -m cp -r ${pf} gs://${pf}"
      ],
      "execution_count": 0,
      "outputs": [
        {
          "output_type": "stream",
          "text": [
            "Copying file://mangrove_atlas/land-cover/processed/gmw_change_1996_2016.zip [Content-Type=application/zip]...\n",
            "==> NOTE: You are uploading one or more large file(s), which would run\n",
            "significantly faster if you enable parallel composite uploads. This\n",
            "feature can be enabled by editing the\n",
            "\"parallel_composite_upload_threshold\" value in your .boto\n",
            "configuration file. However, note that if you do this large files will\n",
            "be uploaded as `composite objects\n",
            "<https://cloud.google.com/storage/docs/composite-objects>`_,which\n",
            "means that any user who downloads such objects will need to have a\n",
            "compiled crcmod installed (see \"gsutil help crcmod\"). This is because\n",
            "without a compiled crcmod, computing checksums on composite objects is\n",
            "so slow that gsutil disables downloads of composite objects.\n",
            "\n",
            "/ [0/1 files][    0.0 B/211.0 MiB]   0% Done                                    \r-\r- [0/1 files][ 89.2 MiB/211.0 MiB]  42% Done                                    \r\\\r|\r| [0/1 files][210.9 MiB/211.0 MiB]  99% Done                                    \r| [1/1 files][211.0 MiB/211.0 MiB] 100% Done                                    \r/\r\n",
            "Operation completed over 1 objects/211.0 MiB.                                    \n"
          ],
          "name": "stderr"
        }
      ]
    },
    {
      "cell_type": "code",
      "metadata": {
        "id": "QmTdXN4eOS1W",
        "colab_type": "code",
        "outputId": "8f1a02e6-a322-42b3-86dd-1758efaa7869",
        "colab": {
          "base_uri": "https://localhost:8080/",
          "height": 176
        }
      },
      "source": [
        "# Add as GEE asset\n",
        "# single year layers take upto 10 min\n",
        "# combined layer takes about 17m\n",
        "import os\n",
        "# TODO ADD METADATA!\n",
        "file_path=f\"gs://{os.environ.get('MA_BUCKET')}/land-cover/processed/gmw_change_1996_2016.zip\"\n",
        "asset_path=\"projects/global-mangrove-watch/land-cover\"\n",
        "append_txt=\"_simplified\"\n",
        "strProv=\"Global Mangrove Watch\"\n",
        "strVer=2.0\n",
        "strDOI=\"=http://dx.doi.org/10.7910/DVN/HKGBGS\"\n",
        "strCite=\"Bunting P., Rosenqvist A., Lucas R., Rebelo L-M., Hilarides L., Thomas N., Hardy A., Itoh T., Shimada M. and Finlayson C.M. (2018). The Global Mangrove Watch – a New 2010 Global Baseline of Mangrove Extent. Remote Sens. 2018, 10, 1669; doi:10.3390/rs10101669\"\n",
        "\n",
        "gee_upload_zips_to_tables(file_path, asset_path, time_start=\"1996-01-01T00:00:00\", force=True, append_txt=append_txt, properties={\"(string)provider\": strProv, \"version\": strVer, \"(string)doi\": strDOI, \"(string)citation\": strCite})"
      ],
      "execution_count": 0,
      "outputs": [
        {
          "output_type": "stream",
          "text": [
            "Found 2 files\n",
            "Processing gmw_change_1996_2016\n",
            "earthengine --no-use_cloud_api upload table --asset_id=projects/global-mangrove-watch/land-cover/gmw_change_1996_2016_simplified --force --time_start=1996-01-01T00:00:00 --property='(string)provider=Global Mangrove Watch' --property='version=2.0' --property='(string)doi==http://dx.doi.org/10.7910/DVN/HKGBGS' --property='(string)citation=Bunting P., Rosenqvist A., Lucas R., Rebelo L-M., Hilarides L., Thomas N., Hardy A., Itoh T., Shimada M. and Finlayson C.M. (2018). The Global Mangrove Watch – a New 2010 Global Baseline of Mangrove Extent. Remote Sens. 2018, 10, 1669; doi:10.3390/rs10101669'  gs://mangrove_atlas/land-cover/processed/gmw_change_1996_2016.zip\n",
            "Task created\n",
            "Processing \n",
            "earthengine --no-use_cloud_api upload table --asset_id=projects/global-mangrove-watch/land-cover/_simplified --force --time_start=1996-01-01T00:00:00 --property='(string)provider=Global Mangrove Watch' --property='version=2.0' --property='(string)doi==http://dx.doi.org/10.7910/DVN/HKGBGS' --property='(string)citation=Bunting P., Rosenqvist A., Lucas R., Rebelo L-M., Hilarides L., Thomas N., Hardy A., Itoh T., Shimada M. and Finlayson C.M. (2018). The Global Mangrove Watch – a New 2010 Global Baseline of Mangrove Extent. Remote Sens. 2018, 10, 1669; doi:10.3390/rs10101669'  \n",
            "Task failed\n",
            "Finished upload\n"
          ],
          "name": "stdout"
        }
      ]
    },
    {
      "cell_type": "code",
      "metadata": {
        "id": "KsYswAX9bezc",
        "colab_type": "code",
        "outputId": "88833a31-1827-4682-f2d8-82e158eb5e55",
        "colab": {
          "base_uri": "https://localhost:8080/",
          "height": 139
        }
      },
      "source": [
        "ls $MA_BUCKET/land-cover/processed/geojson"
      ],
      "execution_count": 0,
      "outputs": [
        {
          "output_type": "stream",
          "text": [
            "\u001b[0m\u001b[01;34mgain\u001b[0m/                       gl_2009_2010_gain_.geojson\n",
            "gl_1996_2007_gain_.geojson  gl_2010_2009_loss_.geojson\n",
            "gl_2007_1996_loss_.geojson  gl_2010_2015_gain_.geojson\n",
            "gl_2007_2008_gain_.geojson  gl_2015_2010_loss_.geojson\n",
            "gl_2008_2007_loss_.geojson  gl_2015_2016_gain_.geojson\n",
            "gl_2008_2009_gain_.geojson  gl_2016_2015_loss_.geojson\n",
            "gl_2009_2008_loss_.geojson  \u001b[01;34mloss\u001b[0m/\n"
          ],
          "name": "stdout"
        }
      ]
    },
    {
      "cell_type": "code",
      "metadata": {
        "id": "TGbuT38MbQwL",
        "colab_type": "code",
        "outputId": "99807f5a-ced0-4c9a-d126-19290f1ba16a",
        "colab": {
          "base_uri": "https://localhost:8080/",
          "height": 104
        }
      },
      "source": [
        "# Join geojsons using Tippecanoe\n",
        "%%bash\n",
        "# Make mapbox tiles\n",
        "tippecanoe \\\n",
        "-zg \\\n",
        "-o $MA_BUCKET/land-cover/processed/geojson/gmw_change_1996_2016.mbtiles \\\n",
        "--drop-densest-as-needed \\\n",
        "--extend-zooms-if-still-dropping \\\n",
        "--force \\\n",
        "--read-parallel \\\n",
        "-l gmw_change_1996_2016 \\\n",
        "$MA_BUCKET/land-cover/processed/geojson/*.geojson"
      ],
      "execution_count": 0,
      "outputs": [
        {
          "output_type": "stream",
          "text": [
            "Warning: Can't represent non-numeric feature ID \"00000000000000000000\"\n",
            "Read 0.00 million features\r                              \rReordering geometry: 0% \rReordering geometry: 1% \rReordering geometry: 2% \rReordering geometry: 3% \rReordering geometry: 4% \rReordering geometry: 5% \rReordering geometry: 6% \rReordering geometry: 7% \rReordering geometry: 8% \rReordering geometry: 9% \rReordering geometry: 10% \rReordering geometry: 11% \rReordering geometry: 12% \rReordering geometry: 13% \rReordering geometry: 14% \rReordering geometry: 15% \rReordering geometry: 16% \rReordering geometry: 17% \rReordering geometry: 18% \rReordering geometry: 19% \rReordering geometry: 20% \rReordering geometry: 21% \rReordering geometry: 22% \rReordering geometry: 23% \rReordering geometry: 24% \rReordering geometry: 25% \rReordering geometry: 26% \rReordering geometry: 27% \rReordering geometry: 28% \rReordering geometry: 29% \rReordering geometry: 30% \rReordering geometry: 31% \rReordering geometry: 32% \rReordering geometry: 33% \rReordering geometry: 34% \rReordering geometry: 35% \rReordering geometry: 37% \rReordering geometry: 38% \rReordering geometry: 39% \rReordering geometry: 40% \rReordering geometry: 41% \rReordering geometry: 42% \rReordering geometry: 43% \rReordering geometry: 44% \rReordering geometry: 45% \rReordering geometry: 46% \rReordering geometry: 47% \rReordering geometry: 48% \rReordering geometry: 49% \rReordering geometry: 50% \rReordering geometry: 51% \rReordering geometry: 52% \rReordering geometry: 53% \rReordering geometry: 54% \rReordering geometry: 55% \rReordering geometry: 56% \rReordering geometry: 57% \rReordering geometry: 58% \rReordering geometry: 59% \rReordering geometry: 60% \rReordering geometry: 61% \rReordering geometry: 62% \rReordering geometry: 63% \rReordering geometry: 64% \rReordering geometry: 65% \rReordering geometry: 66% \rReordering geometry: 67% \rReordering geometry: 68% \rReordering geometry: 69% \rReordering geometry: 70% \rReordering geometry: 71% \rReordering geometry: 72% \rReordering geometry: 73% \rReordering geometry: 74% \rReordering geometry: 75% \rReordering geometry: 76% \rReordering geometry: 77% \rReordering geometry: 78% \rReordering geometry: 79% \rReordering geometry: 81% \rReordering geometry: 82% \rReordering geometry: 83% \rReordering geometry: 84% \rReordering geometry: 85% \rReordering geometry: 86% \rReordering geometry: 87% \rReordering geometry: 88% \rReordering geometry: 90% \rReordering geometry: 91% \rReordering geometry: 92% \rReordering geometry: 93% \rReordering geometry: 94% \rReordering geometry: 95% \rReordering geometry: 96% \rReordering geometry: 97% \rReordering geometry: 98% \rReordering geometry: 99% \r1156 features, 160934384 bytes of geometry, 17440 bytes of separate metadata, 696 bytes of string pool\n",
            "Maxzoom: 0% \rMaxzoom: 1% \rMaxzoom: 2% \rMaxzoom: 3% \rMaxzoom: 4% \rMaxzoom: 5% \rMaxzoom: 6% \rMaxzoom: 7% \rMaxzoom: 8% \rMaxzoom: 9% \rMaxzoom: 10% \rMaxzoom: 11% \rMaxzoom: 12% \rMaxzoom: 13% \rMaxzoom: 14% \rMaxzoom: 15% \rMaxzoom: 16% \rMaxzoom: 17% \rMaxzoom: 18% \rMaxzoom: 19% \rMaxzoom: 20% \rMaxzoom: 21% \rMaxzoom: 22% \rMaxzoom: 23% \rMaxzoom: 24% \rMaxzoom: 25% \rMaxzoom: 26% \rMaxzoom: 27% \rMaxzoom: 28% \rMaxzoom: 29% \rMaxzoom: 30% \rMaxzoom: 31% \rMaxzoom: 32% \rMaxzoom: 33% \rMaxzoom: 34% \rMaxzoom: 35% \rMaxzoom: 36% \rMaxzoom: 37% \rMaxzoom: 38% \rMaxzoom: 39% \rMaxzoom: 40% \rMaxzoom: 41% \rMaxzoom: 42% \rMaxzoom: 43% \rMaxzoom: 44% \rMaxzoom: 45% \rMaxzoom: 46% \rMaxzoom: 47% \rMaxzoom: 48% \rMaxzoom: 49% \rMaxzoom: 50% \rMaxzoom: 51% \rMaxzoom: 52% \rMaxzoom: 53% \rMaxzoom: 54% \rMaxzoom: 55% \rMaxzoom: 56% \rMaxzoom: 57% \rMaxzoom: 58% \rMaxzoom: 59% \rMaxzoom: 60% \rMaxzoom: 61% \rMaxzoom: 62% \rMaxzoom: 63% \rMaxzoom: 64% \rMaxzoom: 65% \rMaxzoom: 66% \rMaxzoom: 67% \rMaxzoom: 68% \rMaxzoom: 69% \rMaxzoom: 70% \rMaxzoom: 71% \rMaxzoom: 72% \rMaxzoom: 73% \rMaxzoom: 74% \rMaxzoom: 75% \rMaxzoom: 76% \rMaxzoom: 77% \rMaxzoom: 78% \rMaxzoom: 79% \rMaxzoom: 80% \rMaxzoom: 81% \rMaxzoom: 82% \rMaxzoom: 83% \rMaxzoom: 84% \rMaxzoom: 85% \rMaxzoom: 86% \rMaxzoom: 87% \rMaxzoom: 88% \rMaxzoom: 89% \rMaxzoom: 90% \rMaxzoom: 91% \rMaxzoom: 92% \rMaxzoom: 93% \rMaxzoom: 94% \rMaxzoom: 95% \rMaxzoom: 96% \rMaxzoom: 97% \rMaxzoom: 98% \rMaxzoom: 99% \rChoosing a maxzoom of -z5 for features about 8482 feet (2586 meters) apart\n",
            "Choosing a maxzoom of -z10 for resolution of about 367 feet (111 meters) within features\n",
            "  0.1%  0/0/0  \r  0.2%  0/0/0  \r  0.4%  0/0/0  \r  0.5%  0/0/0  \r  0.6%  0/0/0  \r  0.7%  0/0/0  \r  0.8%  0/0/0  \r  0.9%  0/0/0  \r  1.0%  0/0/0  \r  1.1%  0/0/0  \r  1.3%  0/0/0  \r  1.5%  0/0/0  \r  1.6%  0/0/0  \r  1.8%  0/0/0  \r  2.0%  0/0/0  \r  2.1%  0/0/0  \r  2.2%  0/0/0  \r  2.4%  0/0/0  \r  2.5%  0/0/0  \r  2.6%  0/0/0  \r  2.7%  0/0/0  \r  2.9%  0/0/0  \r  3.0%  0/0/0  \r  3.1%  0/0/0  \r  3.2%  0/0/0  \r  3.4%  0/0/0  \r  3.5%  0/0/0  \r  3.6%  0/0/0  \r  3.7%  0/0/0  \r  3.9%  0/0/0  \r  4.0%  0/0/0  \r  4.1%  0/0/0  \r  4.2%  0/0/0  \r  4.3%  0/0/0  \r  4.4%  0/0/0  \r  4.5%  0/0/0  \r  4.6%  0/0/0  \r  4.7%  0/0/0  \r  4.8%  0/0/0  \r  4.9%  0/0/0  \r  5.0%  0/0/0  \r  5.1%  0/0/0  \r  5.2%  0/0/0  \r  5.3%  0/0/0  \r  5.4%  0/0/0  \r  5.5%  0/0/0  \r  5.6%  0/0/0  \r  5.7%  0/0/0  \r  5.8%  0/0/0  \r  5.9%  0/0/0  \r  6.0%  0/0/0  \r  6.1%  0/0/0  \r  6.2%  0/0/0  \r  6.3%  0/0/0  \r  6.4%  0/0/0  \r  6.5%  0/0/0  \r  6.6%  0/0/0  \r  6.7%  0/0/0  \r  6.8%  0/0/0  \r  6.9%  0/0/0  \r  7.0%  0/0/0  \r  7.1%  0/0/0  \r  7.2%  0/0/0  \r  7.3%  0/0/0  \r  7.4%  0/0/0  \r  7.5%  0/0/0  \r  7.6%  0/0/0  \r  7.7%  0/0/0  \r  7.8%  0/0/0  \r  7.9%  0/0/0  \r  8.0%  0/0/0  \r  8.1%  0/0/0  \r  8.2%  0/0/0  \r  8.3%  0/0/0  \r  8.4%  0/0/0  \r  8.5%  0/0/0  \r  8.6%  0/0/0  \r  8.7%  0/0/0  \r  8.8%  0/0/0  \r  8.9%  0/0/0  \r  9.0%  0/0/0  \r  9.1%  1/1/1  \r  9.2%  1/1/0  \r  9.3%  1/1/0  \r  9.4%  1/1/0  \r  9.5%  1/1/0  \r  9.6%  1/1/0  \r  9.7%  1/1/0  \r  9.8%  1/1/0  \r  9.9%  1/1/0  \r  10.0%  1/1/0  \r  10.1%  1/1/0  \r  10.2%  1/1/0  \r  10.3%  1/1/0  \r  10.4%  1/1/0  \r  11.8%  1/1/0  \r  11.9%  1/0/0  \r  12.0%  1/0/0  \r  12.1%  1/0/0  \r  12.2%  1/0/0  \r  12.3%  1/0/0  \r  12.4%  1/0/0  \r  12.7%  1/0/0  \r  12.8%  1/0/0  \r  12.9%  1/0/0  \r  13.0%  1/0/0  \r  13.1%  1/0/0  \r  13.2%  1/0/0  \r  13.3%  1/0/0  \r  13.4%  1/0/0  \r  13.5%  1/0/0  \r  13.6%  1/0/0  \r  13.7%  1/1/1  \r  13.8%  1/1/1  \r  13.9%  1/1/1  \r  14.0%  1/1/1  \r  14.1%  1/1/1  \r  14.2%  1/1/1  \r  14.3%  1/1/1  \r  14.4%  1/1/1  \r  14.5%  1/1/0  \r  14.6%  1/1/0  \r  14.7%  1/1/0  \r  14.8%  1/1/1  \r  14.9%  1/1/0  \r  16.3%  1/1/0  \r  16.5%  1/0/0  \r  16.6%  1/0/0  \r  17.1%  1/0/0  \r  17.3%  1/0/0  \r  17.5%  1/0/0  \r  17.6%  1/0/0  \r  17.8%  1/0/0  \r  18.0%  1/0/0  \r  18.1%  1/0/0  \r  18.3%  2/3/1  \r  18.5%  2/3/1  \r  18.6%  2/3/1  \r  18.8%  2/3/1  \r  19.0%  2/3/1  \r  19.1%  2/3/1  \r  20.1%  2/1/1  \r  20.3%  2/1/1  \r  20.6%  2/1/2  \r  20.8%  2/0/1  \r  21.2%  2/0/1  \r  21.3%  2/0/1  \r  21.5%  2/0/1  \r  21.6%  2/0/1  \r  21.9%  2/3/2  \r  22.0%  2/3/2  \r  22.1%  2/3/2  \r  22.3%  2/3/2  \r  22.5%  2/2/2  \r  22.6%  2/2/2  \r  22.8%  2/3/1  \r  23.0%  2/1/1  \r  23.1%  2/1/1  \r  23.3%  2/1/1  \r  23.5%  2/1/1  \r  23.6%  2/1/1  \r  23.8%  2/1/1  \r  24.8%  2/1/1  \r  25.0%  2/1/2  \r  25.1%  2/1/2  \r  25.5%  2/0/1  \r  25.6%  2/0/1  \r  25.8%  2/0/1  \r  26.0%  2/0/1  \r  26.1%  2/0/1  \r  26.3%  2/3/2  \r  26.5%  2/3/2  \r  26.6%  2/3/2  \r  26.8%  2/3/2  \r  27.0%  2/3/2  \r  27.1%  2/2/2  \r  27.3%  3/3/3  \r  27.6%  3/2/3  \r  27.8%  3/2/3  \r  28.0%  3/2/3  \r  28.1%  3/2/3  \r  28.5%  3/2/3  \r  28.6%  3/3/4  \r  28.9%  3/7/3  \r  29.0%  3/7/4  \r  29.2%  3/7/4  \r  29.3%  3/7/4  \r  29.7%  3/7/4  \r  29.8%  3/7/4  \r  30.0%  3/7/4  \r  30.3%  3/6/4  \r  30.5%  3/6/4  \r  30.6%  3/6/4  \r  31.1%  3/6/3  \r  31.3%  3/6/3  \r  31.5%  3/6/3  \r  31.6%  3/6/3  \r  31.8%  3/4/3  \r  32.0%  3/3/3  \r  32.1%  3/2/3  \r  32.2%  3/2/3  \r  32.4%  3/2/3  \r  32.5%  3/2/3  \r  32.6%  3/2/3  \r  32.7%  3/2/3  \r  33.0%  3/1/3  \r  33.2%  3/1/3  \r  33.4%  3/5/3  \r  33.5%  3/3/4  \r  33.6%  3/3/4  \r  33.7%  3/2/4  \r  34.0%  3/7/4  \r  34.1%  3/7/4  \r  34.2%  3/7/4  \r  34.4%  3/7/4  \r  34.5%  3/7/4  \r  35.0%  3/6/4  \r  35.1%  3/6/4  \r  35.2%  3/6/4  \r  35.4%  3/6/3  \r  35.5%  3/6/3  \r  35.6%  3/6/3  \r  35.9%  3/6/3  \r  36.0%  3/6/3  \r  36.1%  3/6/3  \r  36.2%  3/6/3  \r  36.4%  4/7/7  \r  36.5%  4/2/7  \r  36.6%  4/2/7  \r  36.8%  4/3/7  \r  36.9%  4/3/7  \r  37.0%  4/3/7  \r  37.1%  4/14/9  \r  37.2%  4/13/7  \r  37.4%  4/12/7  \r  37.7%  4/12/7  \r  37.9%  4/12/7  \r  38.1%  4/3/6  \r  38.2%  4/8/7  \r  38.4%  4/2/6  \r  38.5%  4/2/6  \r  38.6%  4/5/8  \r  38.7%  4/6/8  \r  38.9%  4/13/8  \r  39.0%  4/13/8  \r  39.1%  4/13/8  \r  39.3%  4/14/8  \r  39.4%  4/9/8  \r  39.5%  4/9/8  \r  39.6%  4/5/7  \r  39.7%  4/4/7  \r  39.9%  4/4/7  \r  40.0%  4/4/7  \r  40.1%  4/4/7  \r  40.2%  4/4/7  \r  40.4%  4/9/9  \r  40.5%  4/4/6  \r  40.6%  4/4/6  \r  40.7%  4/12/8  \r  40.9%  4/8/8  \r  41.0%  4/2/7  \r  41.1%  4/2/7  \r  41.2%  4/2/7  \r  41.4%  4/3/7  \r  41.6%  4/3/7  \r  41.7%  4/3/7  \r  41.9%  4/12/7  \r  42.0%  4/12/7  \r  42.3%  4/12/7  \r  42.4%  4/12/7  \r  42.6%  4/3/6  \r  42.7%  4/3/6  \r  42.9%  4/2/6  \r  43.0%  4/2/6  \r  43.1%  4/2/6  \r  43.2%  4/5/8  \r  43.4%  4/13/8  \r  43.5%  4/13/8  \r  43.6%  4/13/8  \r  43.8%  4/14/8  \r  43.9%  4/9/8  \r  44.0%  4/9/8  \r  44.1%  4/9/8  \r  44.2%  4/9/8  \r  44.4%  4/4/7  \r  44.5%  4/4/7  \r  44.6%  4/4/7  \r  44.7%  4/4/7  \r  44.9%  4/4/7  \r  45.1%  4/4/6  \r  45.2%  4/4/8  \r  45.4%  4/12/8  \r  45.5%  5/29/18  \r  45.6%  5/25/15  \r  45.7%  5/25/15  \r  45.9%  5/27/16  \r  46.0%  5/27/16  \r  46.1%  5/27/16  \r  46.2%  5/27/16  \r  46.4%  5/19/16  \r  46.5%  5/9/14  \r  46.6%  5/28/19  \r  46.7%  5/24/15  \r  46.9%  5/24/15  \r  47.0%  5/24/15  \r  47.1%  5/26/16  \r  47.2%  5/26/16  \r  47.4%  5/18/17  \r  47.5%  5/18/16  \r  47.6%  5/8/15  \r  47.7%  5/8/14  \r  47.9%  5/8/14  \r  48.0%  5/7/13  \r  48.1%  5/7/14  \r  48.2%  5/7/14  \r  48.4%  5/9/13  \r  48.5%  5/29/16  \r  48.6%  5/26/15  \r  48.7%  5/26/15  \r  48.9%  5/14/14  \r  49.0%  5/6/13  \r  49.1%  5/6/14  \r  49.2%  5/12/17  \r  49.4%  5/12/16  \r  49.5%  5/28/16  \r  49.6%  5/28/16  \r  49.7%  5/28/16  \r  49.9%  5/22/14  \r  50.0%  5/29/18  \r  50.0%  5/29/19  \r  50.1%  5/25/15  \r  50.2%  5/25/15  \r  50.4%  5/23/13  \r  50.5%  5/27/16  \r  50.6%  5/27/16  \r  50.7%  5/19/16  \r  50.9%  5/19/17  \r  51.0%  5/19/17  \r  51.1%  5/24/15  \r  51.2%  5/24/15  \r  51.4%  5/24/14  \r  51.5%  5/24/14  \r  51.6%  5/24/14  \r  51.7%  5/24/14  \r  51.9%  5/26/16  \r  52.0%  5/26/16  \r  52.2%  5/26/16  \r  52.4%  5/11/15  \r  52.5%  5/23/15  \r  52.6%  5/8/14  \r  52.7%  5/8/14  \r  52.9%  5/26/15  \r  53.0%  5/7/14  \r  53.1%  5/7/14  \r  53.2%  5/6/13  \r  53.4%  5/29/16  \r  53.5%  5/28/17  \r  53.6%  5/28/17  \r  53.7%  5/25/16  \r  53.9%  5/8/13  \r  54.0%  5/8/13  \r  54.1%  5/26/14  \r  54.2%  5/12/16  \r  54.4%  5/28/16  \r  54.5%  5/24/16  \r  54.6%  6/55/33  \r  54.7%  6/49/31  \r  54.9%  6/49/30  \r  55.0%  6/53/31  \r  55.1%  6/13/27  \r  55.2%  6/25/35  \r  55.4%  6/17/27  \r  55.5%  6/17/26  \r  55.6%  6/54/32  \r  55.7%  6/18/28  \r  55.9%  6/52/31  \r  56.0%  6/12/27  \r  56.1%  6/12/27  \r  56.2%  6/60/30  \r  56.2%  6/52/27  \r  56.4%  6/55/34  \r  56.5%  6/39/34  \r  56.6%  6/55/35  \r  56.7%  6/39/35  \r  56.9%  6/49/29  \r  57.0%  6/53/33  \r  57.1%  6/15/28  \r  57.2%  6/15/29  \r  57.4%  6/29/29  \r  57.5%  6/13/29  \r  57.6%  6/57/32  \r  57.7%  6/57/33  \r  57.9%  6/54/34  \r  58.0%  6/38/34  \r  58.1%  6/48/29  \r  58.2%  6/48/28  \r  58.4%  6/16/28  \r  58.5%  6/14/29  \r  58.6%  6/16/28  \r  58.7%  6/14/28  \r  58.9%  6/56/33  \r  59.0%  6/24/32  \r  59.1%  6/59/37  \r  59.2%  6/23/32  \r  59.4%  6/39/32  \r  59.5%  6/53/31  \r  59.6%  6/13/27  \r  59.7%  6/57/35  \r  59.9%  6/17/27  \r  60.0%  6/21/30  \r  60.1%  6/17/26  \r  60.2%  6/54/32  \r  60.4%  6/52/31  \r  60.5%  6/52/31  \r  60.6%  6/12/26  \r  60.7%  6/12/27  \r  60.9%  6/16/27  \r  61.0%  6/55/34  \r  61.1%  6/39/35  \r  61.2%  6/39/34  \r  61.4%  6/49/29  \r  61.5%  6/53/32  \r  61.6%  6/17/29  \r  61.7%  6/15/28  \r  61.9%  6/47/28  \r  62.0%  6/57/33  \r  62.1%  6/57/33  \r  62.2%  6/57/32  \r  62.4%  6/50/31  \r  62.5%  6/18/30  \r  62.6%  6/48/28  \r  62.7%  6/18/31  \r  62.9%  6/52/33  \r  63.0%  6/16/28  \r  63.1%  6/14/29  \r  63.2%  6/14/28  \r  63.4%  6/24/33  \r  63.5%  6/56/33  \r  63.6%  6/56/32  \r  63.7%  7/47/64  \r  63.9%  7/99/60  \r  64.0%  7/81/69  \r  64.1%  7/107/65  \r  64.2%  7/111/68  \r  64.3%  7/67/65  \r  64.4%  7/37/63  \r  64.5%  7/27/56  \r  64.6%  7/46/64  \r  64.7%  7/37/62  \r  64.8%  7/33/58  \r  64.9%  7/36/56  \r  65.0%  7/78/65  \r  65.1%  7/50/69  \r  65.2%  7/78/68  \r  65.3%  7/30/56  \r  65.4%  7/106/65  \r  65.5%  7/76/70  \r  65.6%  7/32/58  \r  65.7%  7/76/71  \r  65.8%  7/96/59  \r  65.9%  7/32/59  \r  66.0%  7/105/63  \r  66.1%  7/67/62  \r  66.2%  7/35/54  \r  66.3%  7/109/69  \r  66.4%  7/105/65  \r  66.5%  7/29/57  \r  66.6%  7/113/65  \r  66.7%  7/99/58  \r  66.8%  7/101/60  \r  66.9%  7/109/68  \r  67.0%  7/102/63  \r  67.1%  7/105/64  \r  67.2%  7/33/56  \r  67.3%  7/101/64  \r  67.4%  7/113/64  \r  67.5%  7/98/62  \r  67.6%  7/48/65  \r  67.7%  7/112/65  \r  67.8%  7/24/54  \r  67.9%  7/114/66  \r  68.0%  7/104/64  \r  68.1%  7/48/64  \r  68.2%  7/47/65  \r  68.3%  7/47/64  \r  68.4%  7/111/64  \r  68.5%  7/25/53  \r  68.6%  7/107/65  \r  68.7%  7/31/57  \r  68.8%  7/111/68  \r  68.9%  7/77/71  \r  69.0%  7/33/59  \r  69.1%  7/46/64  \r  69.2%  7/77/70  \r  69.3%  7/58/60  \r  69.4%  7/117/66  \r  69.5%  7/108/60  \r  69.6%  7/80/68  \r  69.7%  7/110/68  \r  69.8%  7/80/69  \r  69.9%  7/110/69  \r  70.0%  7/76/70  \r  70.1%  7/46/73  \r  70.2%  7/100/63  \r  70.3%  7/76/71  \r  70.4%  7/35/55  \r  70.5%  7/105/63  \r  70.6%  7/25/55  \r  70.7%  7/99/59  \r  70.8%  7/37/61  \r  70.9%  7/97/57  \r  71.0%  7/105/62  \r  71.1%  7/25/54  \r  71.2%  7/46/63  \r  71.3%  7/31/58  \r  71.4%  7/100/59  \r  71.5%  7/24/55  \r  71.6%  7/97/56  \r  71.7%  7/105/64  \r  71.8%  7/105/64  \r  71.9%  7/32/57  \r  72.0%  7/49/64  \r  72.1%  7/112/65  \r  72.2%  7/66/62  \r  72.3%  7/116/70  \r  72.4%  7/30/58  \r  72.5%  7/96/56  \r  72.6%  7/32/56  \r  72.7%  7/112/64  \r  72.8%  8/71/106  \r  72.9%  8/221/128  \r  73.0%  8/73/112  \r  73.1%  8/157/112  \r  73.2%  8/185/116  \r  73.3%  8/191/111  \r  73.4%  8/77/119  \r  73.5%  8/53/110  \r  73.6%  8/65/115  \r  73.7%  8/222/131  \r  73.8%  8/198/122  \r  73.9%  8/62/114  \r  74.0%  8/52/113  \r  74.1%  8/72/112  \r  74.2%  8/198/119  \r  74.3%  8/178/115  \r  74.3%  8/210/142  \r  74.4%  8/52/111  \r  74.5%  8/68/110  \r  74.6%  8/224/131  \r  74.7%  8/223/128  \r  74.8%  8/147/152  \r  74.9%  8/159/144  \r  75.0%  8/161/139  \r  75.1%  8/161/138  \r  75.2%  8/93/146  \r  75.3%  8/65/118  \r  75.4%  8/71/108  \r  75.5%  8/51/109  \r  75.6%  8/211/128  \r  75.7%  8/197/125  \r  75.8%  8/65/113  \r  75.9%  8/225/129  \r  76.0%  8/222/128  \r  76.1%  8/94/129  \r  76.2%  8/70/128  \r  76.3%  8/226/132  \r  76.4%  8/226/133  \r  76.5%  8/72/126  \r  76.6%  8/70/108  \r  76.7%  8/214/141  \r  76.8%  8/58/112  \r  76.9%  8/50/109  \r  77.0%  8/230/133  \r  77.1%  8/210/129  \r  77.2%  8/72/121  \r  77.3%  8/199/123  \r  77.4%  8/151/146  \r  77.5%  8/221/129  \r  77.6%  8/85/121  \r  77.7%  8/53/112  \r  77.8%  8/71/127  \r  77.9%  8/219/139  \r  78.0%  8/201/119  \r  78.1%  8/117/119  \r  78.2%  8/225/130  \r  78.3%  8/198/122  \r  78.4%  8/100/137  \r  78.5%  8/158/114  \r  78.6%  8/220/128  \r  78.7%  8/198/119  \r  78.8%  8/152/140  \r  78.9%  8/52/111  \r  79.0%  8/196/126  \r  79.1%  8/116/118  \r  79.2%  8/224/130  \r  79.3%  8/95/129  \r  79.4%  8/191/112  \r  79.5%  8/155/141  \r  79.6%  8/157/139  \r  79.7%  8/73/127  \r  79.8%  8/73/126  \r  79.9%  8/199/124  \r  80.0%  8/51/108  \r  80.1%  8/159/141  \r  80.2%  8/211/129  \r  80.3%  8/203/128  \r  80.4%  8/201/129  \r  80.5%  8/94/128  \r  80.6%  8/97/128  \r  80.7%  8/222/129  \r  80.8%  8/194/116  \r  80.9%  8/154/141  \r  81.0%  8/152/142  \r  81.1%  8/200/127  \r  81.2%  8/90/124  \r  81.3%  8/70/109  \r  81.4%  8/70/109  \r  81.5%  8/60/116  \r  81.6%  8/202/121  \r  81.7%  8/196/125  \r  81.8%  8/96/129  \r  81.9%  9/443/272  \r  82.0%  9/429/247  \r  82.1%  9/117/223  \r  82.2%  9/401/239  \r  82.3%  9/143/225  \r  82.4%  9/139/244  \r  82.5%  9/423/248  \r  82.6%  9/147/216  \r  82.7%  9/453/267  \r  82.8%  9/141/219  \r  82.9%  9/421/259  \r  83.0%  9/193/258  \r  83.1%  9/378/225  \r  83.2%  9/130/229  \r  83.3%  9/140/223  \r  83.4%  9/168/242  \r  83.5%  9/166/241  \r  83.6%  9/166/240  \r  83.7%  9/390/232  \r  83.8%  9/444/259  \r  83.9%  9/402/240  \r  84.0%  9/452/266  \r  84.1%  9/140/218  \r  84.2%  9/404/258  \r  84.3%  9/192/258  \r  84.4%  9/307/282  \r  84.5%  9/397/244  \r  84.6%  9/105/225  \r  84.7%  9/127/227  \r  84.8%  9/103/219  \r  84.9%  9/189/257  \r  85.0%  9/423/250  \r  85.1%  9/265/249  \r  85.2%  9/189/256  \r  85.3%  9/318/287  \r  85.4%  9/466/263  \r  85.5%  9/408/225  \r  85.6%  9/312/269  \r  85.7%  9/468/268  \r  85.8%  9/232/236  \r  85.9%  9/126/226  \r  86.0%  9/422/250  \r  86.1%  9/188/256  \r  86.2%  9/128/237  \r  86.3%  9/404/256  \r  86.4%  9/443/256  \r  86.5%  9/439/277  \r  86.6%  9/369/243  \r  86.7%  9/169/242  \r  86.8%  9/105/222  \r  86.9%  9/159/240  \r  87.0%  9/131/236  \r  87.1%  9/423/256  \r  87.2%  9/403/256  \r  87.3%  9/313/279  \r  87.4%  9/389/227  \r  87.5%  9/389/226  \r  87.6%  9/430/244  \r  87.7%  9/430/237  \r  87.8%  9/136/243  \r  87.9%  9/452/263  \r  88.0%  9/190/257  \r  88.1%  9/390/233  \r  88.2%  9/422/257  \r  88.3%  9/138/217  \r  88.4%  9/452/267  \r  88.5%  9/424/263  \r  88.6%  9/404/243  \r  88.7%  9/460/266  \r  88.8%  9/192/258  \r  88.9%  9/355/223  \r  89.0%  9/451/263  \r  89.1%  9/321/240  \r  89.2%  9/185/253  \r  89.3%  9/421/260  \r  89.4%  9/131/227  \r  89.5%  9/445/273  \r  89.6%  9/145/253  \r  89.7%  9/425/249  \r  89.8%  9/409/260  \r  89.9%  9/138/223  \r  90.0%  9/396/245  \r  90.1%  9/138/222  \r  90.2%  9/232/237  \r  90.3%  9/446/259  \r  90.4%  9/402/255  \r  90.5%  9/422/250  \r  90.6%  9/194/258  \r  90.7%  9/452/264  \r  90.8%  9/140/217  \r  90.9%  9/120/233  \r  91.0%  10/883/517  \r  91.1%  10/279/432  \r  91.2%  10/283/436  \r  91.3%  10/793/478  \r  91.4%  10/857/518  \r  91.5%  10/847/494  \r  91.6%  10/795/490  \r  91.7%  10/379/514  \r  91.8%  10/217/458  \r  91.8%  10/291/435  \r  91.9%  10/841/523  \r  92.0%  10/941/519  \r  92.1%  10/262/456  \r  92.2%  10/898/524  \r  92.3%  10/538/500  \r  92.4%  10/260/458  \r  92.5%  10/324/483  \r  92.6%  10/614/566  \r  92.7%  10/280/439  \r  92.8%  10/766/447  \r  92.9%  10/198/431  \r  93.0%  10/906/531  \r  93.1%  10/804/479  \r  93.2%  10/815/450  \r  93.3%  10/927/562  \r  93.4%  10/935/571  \r  93.5%  10/383/515  \r  93.6%  10/891/519  \r  93.7%  10/387/519  \r  93.8%  10/793/477  \r  93.9%  10/617/565  \r  94.0%  10/217/456  \r  94.1%  10/883/513  \r  94.2%  10/847/501  \r  94.3%  10/270/466  \r  94.4%  10/354/494  \r  94.5%  10/274/470  \r  94.6%  10/866/559  \r  94.7%  10/890/519  \r  94.8%  10/386/519  \r  94.9%  10/882/544  \r  95.0%  10/616/565  \r  95.1%  10/362/496  \r  95.2%  10/254/453  \r  95.3%  10/288/504  \r  95.4%  10/652/549  \r  95.5%  10/207/441  \r  95.6%  10/867/557  \r  95.7%  10/915/557  \r  95.8%  10/877/554  \r  95.9%  10/905/527  \r  96.0%  10/929/566  \r  96.1%  10/903/526  \r  96.2%  10/623/534  \r  96.3%  10/263/455  \r  96.4%  10/197/430  \r  96.5%  10/285/519  \r  96.6%  10/289/507  \r  96.7%  10/794/493  \r  96.8%  10/262/473  \r  96.9%  10/806/513  \r  97.0%  10/780/466  \r  97.1%  10/192/438  \r  97.2%  10/262/462  \r  97.3%  10/718/454  \r  97.4%  10/794/491  \r  97.5%  10/892/518  \r  97.6%  10/540/511  \r  97.7%  10/915/550  \r  97.8%  10/783/466  \r  97.9%  10/475/486  \r  98.0%  10/261/464  \r  98.1%  10/911/563  \r  98.2%  10/779/455  \r  98.3%  10/797/473  \r  98.4%  10/245/465  \r  98.5%  10/235/448  \r  98.6%  10/863/477  \r  98.7%  10/383/517  \r  98.8%  10/466/478  \r  98.9%  10/793/489  \r  99.0%  10/778/454  \r  99.1%  10/338/487  \r  99.2%  10/894/531  \r  99.3%  10/810/487  \r  99.4%  10/384/516  \r  99.5%  10/620/561  \r  99.6%  10/846/493  \r  99.7%  10/778/457  \r  99.8%  10/900/556  \r  99.9%  10/260/461  \r\n"
          ],
          "name": "stderr"
        }
      ]
    },
    {
      "cell_type": "code",
      "metadata": {
        "id": "odE5w5_BcClI",
        "colab_type": "code",
        "outputId": "ca192372-781b-4a0b-a820-383690954b1f",
        "colab": {
          "base_uri": "https://localhost:8080/",
          "height": 69
        }
      },
      "source": [
        "%%bash\n",
        "# Upload to GCS bucket\n",
        "pf=$MA_BUCKET/land-cover/processed/geojson/gmw_change_1996_2016.mbtiles\n",
        "gsutil -m cp -r ${pf} gs://${pf}\n"
      ],
      "execution_count": 0,
      "outputs": [
        {
          "output_type": "stream",
          "text": [
            "Copying file://mangrove_atlas/land-cover/processed/geojson/gmw_change_1996_2016.mbtiles [Content-Type=application/octet-stream]...\n",
            "/ [0/1 files][    0.0 B/ 95.6 MiB]   0% Done                                    \r-\r- [0/1 files][ 53.4 MiB/ 95.6 MiB]  55% Done                                    \r\\\r\\ [1/1 files][ 95.6 MiB/ 95.6 MiB] 100% Done                                    \r|\r\n",
            "Operation completed over 1 objects/95.6 MiB.                                     \n"
          ],
          "name": "stderr"
        }
      ]
    },
    {
      "cell_type": "code",
      "metadata": {
        "id": "ZV5JZHpEcOOz",
        "colab_type": "code",
        "outputId": "f6f41871-f653-46da-c341-61a3b8fff6da",
        "colab": {
          "base_uri": "https://localhost:8080/",
          "height": 86
        }
      },
      "source": [
        "# Add to Mapbox\n",
        "\n",
        "# Get latest mbtiles\n",
        "!gsutil -m cp -r gs://$MA_BUCKET/land-cover/processed/geojson/gmw_change_1996_2016.mbtiles $MA_BUCKET/land-cover/processed/geojson\n",
        "    \n",
        "import glob \n",
        "import os\n",
        "path = os.environ.get('MA_BUCKET') + '/land-cover/processed/geojson'\n",
        "files = [f for f in glob.glob(path + \"**/*.mbtiles\", recursive=True)]\n",
        "for f in files:\n",
        "  upload_to_mapbox(f, os.path.splitext(os.path.basename(f))[0])"
      ],
      "execution_count": 0,
      "outputs": [
        {
          "output_type": "stream",
          "text": [
            "Copying gs://mangrove_atlas/land-cover/processed/geojson/gmw_change_1996_2016.mbtiles...\n",
            "- [1/1 files][ 95.6 MiB/ 95.6 MiB] 100% Done                                    \n",
            "Operation completed over 1 objects/95.6 MiB.                                     \n",
            "{'message': 'Not Found'}\n"
          ],
          "name": "stdout"
        }
      ]
    },
    {
      "cell_type": "code",
      "metadata": {
        "id": "mUvJUmYmm_gQ",
        "colab_type": "code",
        "colab": {}
      },
      "source": [
        "# Clean up\n",
        "!rm -r $MA_BUCKET/land-cover"
      ],
      "execution_count": 0,
      "outputs": []
    },
    {
      "cell_type": "markdown",
      "metadata": {
        "id": "6lnx-165L4cr",
        "colab_type": "text"
      },
      "source": [
        "# Prepare mangrove properties data\n",
        "\n",
        "+ Year 200 data is Simard et al. 2019 download data from https://daac.ornl.gov/cgi-bin/dsviewer.pl?ds_id=1665 and transfer .ZIP to GCS\n",
        "    + Aboveground mangrove biomass (AGB, Mg Ha-1)\n",
        "    + maximum canopy height (height of the tallest tree) (Hmax, m)\n",
        "    + basal-area weighted height (individual tree heights weighted in proportion to their basal area) (HBA, m)\n",
        " \n",
        "+ New data for more years (1996, 2007, 2008, 2009, 2010, 2015, 2016) supplied by Pete Bunting \n",
        "+ Prepare metadata and add as GEE asset\n"
      ]
    },
    {
      "cell_type": "code",
      "metadata": {
        "id": "IRLOXxV0WsEI",
        "colab_type": "code",
        "outputId": "7361a673-95cc-4c67-978f-482c624a0f84",
        "colab": {
          "base_uri": "https://localhost:8080/",
          "height": 121
        }
      },
      "source": [
        "%%bash\n",
        "# Get mangrove-properties data from FTP and add to GCS\n",
        "#curl -u eogroup:aberdata 'ftp://144.124.80.198//PeteBunting/gmw_hgt_agb/TIF/gmw_agb_simard_etal_tif.tar.gz' -o gmw_agb_simard_etal_tif.tar.gz\n",
        "#curl -u eogroup:aberdata 'ftp://144.124.80.198//PeteBunting/gmw_hgt_agb/TIF/gmw_hgt_simard_etal_tif.tar.gz' -o gmw_hgt_simard_etal_tif.tar.gz"
      ],
      "execution_count": 0,
      "outputs": [
        {
          "output_type": "stream",
          "text": [
            "  % Total    % Received % Xferd  Average Speed   Time    Time     Time  Current\n",
            "                                 Dload  Upload   Total   Spent    Left  Speed\n",
            "\r  0     0    0     0    0     0      0      0 --:--:-- --:--:-- --:--:--     0\r  0     0    0     0    0     0      0      0 --:--:-- --:--:-- --:--:--     0\r  0     0    0     0    0     0      0      0 --:--:--  0:00:01 --:--:--     0\r  0 1412M    0  277k    0     0   115k      0  3:29:18  0:00:02  3:29:16  115k\r  0 1412M    0 2753k    0     0   804k      0  0:29:56  0:00:03  0:29:53  804k\r  0 1412M    0 5899k    0     0  1338k      0  0:18:00  0:00:04  0:17:56 1338k\r  0 1412M    0 8692k    0     0  1607k      0  0:14:59  0:00:05  0:14:54 1787k\r  0 1412M    0 11.1M    0     0  1778k      0  0:13:33  0:00:06  0:13:27 2285k\r  0 1412M    0 13.4M    0     0  1858k      0  0:12:57  0:00:07  0:12:50 2698k\r  1 1412M    1 17.4M    0     0  2117k      0  0:11:22  0:00:08  0:11:14 3016k\r  1 1412M    1 19.9M    0     0  2172k      0  0:11:05  0:00:09  0:10:56 2907k\r  1 1412M    1 22.0M    0     0  2169k      0  0:11:06  0:00:10  0:10:56 2776k\r  1 1412M    1 26.5M    0     0  2383k      0  0:10:06  0:00:11  0:09:55 3160k\r  2 1412M    2 30.7M    0     0  2534k      0  0:09:30  0:00:12  0:09:18 3536k\r  2 1412M    2 33.9M    0     0  2590k      0  0:09:18  0:00:13  0:09:05 3386k\r  2 1412M    2 36.3M    0     0  2582k      0  0:09:19  0:00:14  0:09:05 3354k\r  2 1412M    2 37.6M    0     0  2504k      0  0:09:37  0:00:15  0:09:22 3202k\r  2 1412M    2 39.1M    0     0  2439k      0  0:09:52  0:00:16  0:09:36 2565k\r  2 1412M    2 41.4M    0     0  2439k      0  0:09:52  0:00:17  0:09:35 2201k\r  3 1412M    3 44.2M    0     0  2462k      0  0:09:47  0:00:18  0:09:29 2119k\r  3 1412M    3 45.8M    0     0  2417k      0  0:09:58  0:00:19  0:09:39 1942k\r  3 1412M    3 47.6M    0     0  2392k      0  0:10:04  0:00:20  0:09:44 2046k\r  3 1412M    3 48.9M    0     0  2343k      0  0:10:17  0:00:21  0:09:56 2027k\r  3 1412M    3 51.0M    0     0  2330k      0  0:10:20  0:00:22  0:09:58 1952k\r  3 1412M    3 52.9M    0     0  2314k      0  0:10:24  0:00:23  0:10:01 1769k\r  3 1412M    3 54.6M    0     0  2293k      0  0:10:30  0:00:24  0:10:06 1806k\r  4 1412M    4 57.3M    0     0  2311k      0  0:10:25  0:00:25  0:10:00 1979k\r  4 1412M    4 59.8M    0     0  2321k      0  0:10:22  0:00:26  0:09:56 2226k\r  4 1412M    4 61.3M    0     0  2290k      0  0:10:31  0:00:27  0:10:04 2113k\r  4 1412M    4 64.4M    0     0  2321k      0  0:10:22  0:00:28  0:09:54 2355k\r  4 1412M    4 67.4M    0     0  2346k      0  0:10:16  0:00:29  0:09:47 2607k\r  4 1412M    4 70.0M    0     0  2358k      0  0:10:13  0:00:30  0:09:43 2596k\r  5 1412M    5 73.1M    0     0  2382k      0  0:10:06  0:00:31  0:09:35 2705k\r  5 1412M    5 75.1M    0     0  2376k      0  0:10:08  0:00:32  0:09:36 2843k\r  5 1412M    5 80.3M    0     0  2464k      0  0:09:46  0:00:33  0:09:13 3275k\r  5 1412M    5 84.6M    0     0  2520k      0  0:09:33  0:00:34  0:08:59 3541k\r  6 1412M    6 86.4M    0     0  2500k      0  0:09:38  0:00:35  0:09:03 3369k\r  6 1412M    6 90.7M    0     0  2552k      0  0:09:26  0:00:36  0:08:50 3622k\r  6 1412M    6 93.9M    0     0  2572k      0  0:09:22  0:00:37  0:08:45 3841k\r  6 1412M    6 96.2M    0     0  2566k      0  0:09:23  0:00:38  0:08:45 3249k\r  7 1412M    7  100M    0     0  2614k      0  0:09:13  0:00:39  0:08:34 3261k\r  7 1412M    7  102M    0     0  2596k      0  0:09:16  0:00:40  0:08:36 3275k\r  7 1412M    7  105M    0     0  2604k      0  0:09:15  0:00:41  0:08:34 2981k\r  7 1412M    7  106M    0     0  2572k      0  0:09:22  0:00:42  0:08:40 2577k\r  7 1412M    7  108M    0     0  2555k      0  0:09:25  0:00:43  0:08:42 2473k\r  7 1412M    7  111M    0     0  2563k      0  0:09:24  0:00:44  0:08:40 2161k\r  8 1412M    8  114M    0     0  2574k      0  0:09:21  0:00:45  0:08:36 2393k\r  8 1412M    8  115M    0     0  2536k      0  0:09:30  0:00:46  0:08:44 1978k\r  8 1412M    8  117M    0     0  2536k      0  0:09:30  0:00:47  0:08:43 2224k\r  8 1412M    8  119M    0     0  2535k      0  0:09:30  0:00:48  0:08:42 2355k\r  8 1412M    8  122M    0     0  2531k      0  0:09:31  0:00:49  0:08:42 2253k\r  8 1412M    8  124M    0     0  2522k      0  0:09:33  0:00:50  0:08:43 2048k\r  9 1412M    9  127M    0     0  2531k      0  0:09:31  0:00:51  0:08:40 2486k\r  9 1412M    9  130M    0     0  2556k      0  0:09:25  0:00:52  0:08:33 2754k\r  9 1412M    9  135M    0     0  2592k      0  0:09:17  0:00:53  0:08:24 3144k\r  9 1412M    9  137M    0     0  2593k      0  0:09:17  0:00:54  0:08:23 3209k\r 10 1412M   10  141M    0     0  2623k      0  0:09:11  0:00:55  0:08:16 3647k\r 10 1412M   10  145M    0     0  2642k      0  0:09:07  0:00:56  0:08:11 3782k\r 10 1412M   10  149M    0     0  2673k      0  0:09:00  0:00:57  0:08:03 3892k\r 10 1412M   10  153M    0     0  2695k      0  0:08:56  0:00:58  0:07:58 3797k\r 11 1412M   11  159M    0     0  2740k      0  0:08:47  0:00:59  0:07:48 4342k\r 11 1412M   11  159M    0     0  2706k      0  0:08:54  0:01:00  0:07:54 3622k\r 11 1412M   11  163M    0     0  2722k      0  0:08:51  0:01:01  0:07:50 3628k\r 11 1412M   11  165M    0     0  2708k      0  0:08:53  0:01:02  0:07:51 3116k\r 11 1412M   11  167M    0     0  2711k      0  0:08:53  0:01:03  0:07:50 2905k\r 12 1412M   12  169M    0     0  2700k      0  0:08:55  0:01:04  0:07:51 2218k\r 12 1412M   12  171M    0     0  2686k      0  0:08:58  0:01:05  0:07:53 2449k\r 12 1412M   12  174M    0     0  2688k      0  0:08:57  0:01:06  0:07:51 2260k\r 12 1412M   12  178M    0     0  2719k      0  0:08:51  0:01:07  0:07:44 2849k\r 12 1412M   12  181M    0     0  2717k      0  0:08:52  0:01:08  0:07:44 2787k\r 13 1412M   13  184M    0     0  2714k      0  0:08:52  0:01:09  0:07:43 2899k\r 13 1412M   13  185M    0     0  2696k      0  0:08:56  0:01:10  0:07:46 2826k\r 13 1412M   13  188M    0     0  2698k      0  0:08:55  0:01:11  0:07:44 2842k\r 13 1412M   13  189M    0     0  2686k      0  0:08:58  0:01:12  0:07:46 2248k\r 13 1412M   13  192M    0     0  2691k      0  0:08:57  0:01:13  0:07:44 2339k\r 13 1412M   13  194M    0     0  2677k      0  0:09:00  0:01:14  0:07:46 2153k\r 13 1412M   13  197M    0     0  2683k      0  0:08:58  0:01:15  0:07:43 2494k\r 14 1412M   14  199M    0     0  2670k      0  0:09:01  0:01:16  0:07:45 2261k\r 14 1412M   14  203M    0     0  2686k      0  0:08:58  0:01:17  0:07:41 2681k\r 14 1412M   14  206M    0     0  2690k      0  0:08:57  0:01:18  0:07:39 2670k\r 14 1412M   14  210M    0     0  2712k      0  0:08:53  0:01:19  0:07:34 3234k\r 15 1412M   15  212M    0     0  2707k      0  0:08:54  0:01:20  0:07:34 3077k\r 15 1412M   15  216M    0     0  2727k      0  0:08:50  0:01:21  0:07:29 3608k\r 15 1412M   15  218M    0     0  2720k      0  0:08:51  0:01:22  0:07:29 3242k\r 15 1412M   15  224M    0     0  2750k      0  0:08:45  0:01:23  0:07:22 3691k\r 16 1412M   16  227M    0     0  2762k      0  0:08:43  0:01:24  0:07:19 3563k\r 16 1412M   16  230M    0     0  2760k      0  0:08:43  0:01:25  0:07:18 3599k\r 16 1412M   16  233M    0     0  2762k      0  0:08:43  0:01:26  0:07:17 3335k\r 16 1412M   16  236M    0     0  2767k      0  0:08:42  0:01:27  0:07:15 3548k\r 16 1412M   16  239M    0     0  2773k      0  0:08:41  0:01:28  0:07:13 3157k\r 17 1412M   17  242M    0     0  2772k      0  0:08:41  0:01:29  0:07:12 2935k\r 17 1412M   17  244M    0     0  2768k      0  0:08:42  0:01:30  0:07:12 2909k\r 17 1412M   17  245M    0     0  2754k      0  0:08:44  0:01:31  0:07:13 2612k\r 17 1412M   17  247M    0     0  2745k      0  0:08:46  0:01:32  0:07:14 2367k\r 17 1412M   17  250M    0     0  2742k      0  0:08:47  0:01:33  0:07:14 2194k\r 17 1412M   17  251M    0     0  2728k      0  0:08:50  0:01:34  0:07:16 1936k\r 17 1412M   17  253M    0     0  2724k      0  0:08:50  0:01:35  0:07:15 1922k\r 18 1412M   18  255M    0     0  2712k      0  0:08:53  0:01:36  0:07:17 1933k\r 18 1412M   18  256M    0     0  2699k      0  0:08:55  0:01:37  0:07:18 1848k\r 18 1412M   18  258M    0     0  2690k      0  0:08:57  0:01:38  0:07:19 1721k\r 18 1412M   18  261M    0     0  2698k      0  0:08:55  0:01:39  0:07:16 2143k\r 18 1412M   18  263M    0     0  2688k      0  0:08:57  0:01:40  0:07:17 2019k\r 18 1412M   18  264M    0     0  2673k      0  0:09:00  0:01:41  0:07:19 1935k\r 18 1412M   18  267M    0     0  2678k      0  0:08:59  0:01:42  0:07:17 2271k\r 19 1412M   19  272M    0     0  2699k      0  0:08:55  0:01:43  0:07:12 2866k\r 19 1412M   19  275M    0     0  2701k      0  0:08:55  0:01:44  0:07:11 2762k\r 19 1412M   19  277M    0     0  2700k      0  0:08:55  0:01:45  0:07:10 2927k\r 19 1412M   19  279M    0     0  2688k      0  0:08:57  0:01:46  0:07:11 2977k\r 20 1412M   20  285M    0     0  2723k      0  0:08:51  0:01:47  0:07:04 3629k\r 20 1412M   20  289M    0     0  2734k      0  0:08:48  0:01:48  0:07:00 3459k\r 20 1412M   20  292M    0     0  2738k      0  0:08:48  0:01:49  0:06:59 3499k\r 20 1412M   20  295M    0     0  2739k      0  0:08:47  0:01:50  0:06:57 3566k\r 21 1412M   21  296M    0     0  2729k      0  0:08:49  0:01:51  0:06:58 3608k\r 21 1412M   21  300M    0     0  2733k      0  0:08:49  0:01:52  0:06:57 2951k\r 21 1412M   21  303M    0     0  2743k      0  0:08:47  0:01:53  0:06:54 2950k\r 21 1412M   21  306M    0     0  2741k      0  0:08:47  0:01:54  0:06:53 2804k\r 21 1412M   21  307M    0     0  2730k      0  0:08:49  0:01:55  0:06:54 2539k\r 22 1412M   22  310M    0     0  2734k      0  0:08:48  0:01:56  0:06:52 2841k\r 22 1412M   22  312M    0     0  2723k      0  0:08:50  0:01:57  0:06:53 2510k\r 22 1412M   22  315M    0     0  2727k      0  0:08:50  0:01:58  0:06:52 2352k\r 22 1412M   22  318M    0     0  2729k      0  0:08:49  0:01:59  0:06:50 2460k\r 22 1412M   22  320M    0     0  2722k      0  0:08:51  0:02:00  0:06:51 2532k\r 22 1412M   22  322M    0     0  2721k      0  0:08:51  0:02:01  0:06:50 2431k\r 22 1412M   22  323M    0     0  2710k      0  0:08:53  0:02:02  0:06:51 2394k\r 23 1412M   23  326M    0     0  2710k      0  0:08:53  0:02:03  0:06:50 2328k\r 23 1412M   23  330M    0     0  2722k      0  0:08:51  0:02:04  0:06:47 2567k\r 23 1412M   23  334M    0     0  2730k      0  0:08:49  0:02:05  0:06:44 2938k\r 23 1412M   23  336M    0     0  2723k      0  0:08:50  0:02:06  0:06:44 2766k\r 24 1412M   24  339M    0     0  2727k      0  0:08:50  0:02:07  0:06:43 3156k\r 24 1412M   24  342M    0     0  2728k      0  0:08:49  0:02:08  0:06:41 3165k\r 24 1412M   24  345M    0     0  2731k      0  0:08:49  0:02:09  0:06:40 2952k\r 24 1412M   24  348M    0     0  2738k      0  0:08:48  0:02:10  0:06:38 2931k\r 24 1412M   24  350M    0     0  2727k      0  0:08:50  0:02:11  0:06:39 2828k\r 25 1412M   25  355M    0     0  2752k      0  0:08:45  0:02:12  0:06:33 3387k\r 25 1412M   25  359M    0     0  2757k      0  0:08:44  0:02:13  0:06:31 3487k\r 25 1412M   25  363M    0     0  2765k      0  0:08:42  0:02:14  0:06:28 3649k\r 26 1412M   26  367M    0     0  2780k      0  0:08:40  0:02:15  0:06:25 3875k\r 26 1412M   26  370M    0     0  2780k      0  0:08:40  0:02:16  0:06:24 4176k\r 26 1412M   26  373M    0     0  2786k      0  0:08:38  0:02:17  0:06:21 3690k\r 26 1412M   26  377M    0     0  2793k      0  0:08:37  0:02:18  0:06:19 3764k\r 27 1412M   27  382M    0     0  2806k      0  0:08:35  0:02:19  0:06:16 3912k\r 27 1412M   27  385M    0     0  2807k      0  0:08:35  0:02:20  0:06:15 3539k\r 27 1412M   27  386M    0     0  2801k      0  0:08:36  0:02:21  0:06:15 3366k\r 27 1412M   27  387M    0     0  2789k      0  0:08:38  0:02:22  0:06:16 2855k\r 27 1412M   27  391M    0     0  2793k      0  0:08:37  0:02:23  0:06:14 2801k\r 27 1412M   27  393M    0     0  2792k      0  0:08:37  0:02:24  0:06:13 2385k\r 28 1412M   28  397M    0     0  2796k      0  0:08:37  0:02:25  0:06:12 2486k\r 28 1412M   28  398M    0     0  2785k      0  0:08:39  0:02:26  0:06:13 2353k\r 28 1412M   28  400M    0     0  2779k      0  0:08:40  0:02:27  0:06:13 2514k\r 28 1412M   28  402M    0     0  2775k      0  0:08:40  0:02:28  0:06:12 2254k\r 28 1412M   28  403M    0     0  2767k      0  0:08:42  0:02:29  0:06:13 2043k\r 28 1412M   28  406M    0     0  2769k      0  0:08:42  0:02:30  0:06:12 1979k\r 28 1412M   28  409M    0     0  2767k      0  0:08:42  0:02:31  0:06:11 2224k\r 29 1412M   29  411M    0     0  2763k      0  0:08:43  0:02:32  0:06:11 2289k\r 29 1412M   29  412M    0     0  2754k      0  0:08:45  0:02:33  0:06:12 2123k\r 29 1412M   29  414M    0     0  2747k      0  0:08:46  0:02:34  0:06:12 2159k\r 29 1412M   29  416M    0     0  2743k      0  0:08:47  0:02:35  0:06:12 1949k\r 29 1412M   29  418M    0     0  2742k      0  0:08:47  0:02:36  0:06:11 1976k\r 29 1412M   29  422M    0     0  2747k      0  0:08:46  0:02:37  0:06:09 2249k\r 30 1412M   30  425M    0     0  2749k      0  0:08:46  0:02:38  0:06:08 2585k\r 30 1412M   30  427M    0     0  2743k      0  0:08:47  0:02:39  0:06:08 2621k\r 30 1412M   30  428M    0     0  2737k      0  0:08:48  0:02:40  0:06:08 2578k\r 30 1412M   30  431M    0     0  2735k      0  0:08:48  0:02:41  0:06:07 2526k\r 30 1412M   30  435M    0     0  2748k      0  0:08:46  0:02:42  0:06:04 2783k\r 31 1412M   31  440M    0     0  2757k      0  0:08:44  0:02:43  0:06:01 3036k\r 31 1412M   31  441M    0     0  2752k      0  0:08:45  0:02:44  0:06:01 3034k\r 31 1412M   31  445M    0     0  2760k      0  0:08:43  0:02:45  0:05:58 3489k\r 31 1412M   31  449M    0     0  2763k      0  0:08:43  0:02:46  0:05:57 3670k\r 32 1412M   32  453M    0     0  2771k      0  0:08:41  0:02:47  0:05:54 3507k\r 32 1412M   32  455M    0     0  2772k      0  0:08:41  0:02:48  0:05:53 3235k\r 32 1412M   32  458M    0     0  2771k      0  0:08:41  0:02:49  0:05:52 3393k\r 32 1412M   32  462M    0     0  2779k      0  0:08:40  0:02:50  0:05:50 3393k\r 32 1412M   32  465M    0     0  2778k      0  0:08:40  0:02:51  0:05:49 3273k\r 33 1412M   33  466M    0     0  2772k      0  0:08:41  0:02:52  0:05:49 2800k\r 33 1412M   33  469M    0     0  2774k      0  0:08:41  0:02:53  0:05:48 2839k\r 33 1412M   33  473M    0     0  2778k      0  0:08:40  0:02:54  0:05:46 3014k\r 33 1412M   33  475M    0     0  2775k      0  0:08:41  0:02:55  0:05:46 2644k\r 33 1412M   33  480M    0     0  2787k      0  0:08:38  0:02:56  0:05:42 3081k\r 34 1412M   34  483M    0     0  2792k      0  0:08:37  0:02:57  0:05:40 3512k\r 34 1412M   34  486M    0     0  2795k      0  0:08:37  0:02:58  0:05:39 3527k\r 34 1412M   34  488M    0     0  2788k      0  0:08:38  0:02:59  0:05:39 3158k\r 34 1412M   34  490M    0     0  2784k      0  0:08:39  0:03:00  0:05:39 3087k\r 34 1412M   34  494M    0     0  2789k      0  0:08:38  0:03:01  0:05:37 2860k\r 35 1412M   35  496M    0     0  2789k      0  0:08:38  0:03:02  0:05:36 2673k\r 35 1412M   35  500M    0     0  2793k      0  0:08:37  0:03:03  0:05:34 2744k\r 35 1412M   35  502M    0     0  2788k      0  0:08:38  0:03:04  0:05:34 2777k\r 35 1412M   35  503M    0     0  2782k      0  0:08:39  0:03:05  0:05:34 2717k\r 35 1412M   35  505M    0     0  2775k      0  0:08:41  0:03:06  0:05:35 2276k\r 35 1412M   35  508M    0     0  2777k      0  0:08:40  0:03:07  0:05:33 2318k\r 36 1412M   36  512M    0     0  2785k      0  0:08:39  0:03:08  0:05:31 2464k\r 36 1412M   36  515M    0     0  2785k      0  0:08:39  0:03:09  0:05:30 2663k\r 36 1412M   36  518M    0     0  2787k      0  0:08:38  0:03:10  0:05:28 2981k\r 36 1412M   36  519M    0     0  2781k      0  0:08:39  0:03:11  0:05:28 3014k\r 36 1412M   36  521M    0     0  2775k      0  0:08:41  0:03:12  0:05:29 2706k\r 37 1412M   37  525M    0     0  2780k      0  0:08:40  0:03:13  0:05:27 2609k\r 37 1412M   37  529M    0     0  2787k      0  0:08:38  0:03:14  0:05:24 2869k\r 37 1412M   37  531M    0     0  2782k      0  0:08:39  0:03:15  0:05:24 2597k\r 37 1412M   37  533M    0     0  2779k      0  0:08:40  0:03:16  0:05:24 2700k\r 37 1412M   37  534M    0     0  2774k      0  0:08:41  0:03:17  0:05:24 2730k\r 38 1412M   38  537M    0     0  2774k      0  0:08:41  0:03:18  0:05:23 2533k\r 38 1412M   38  539M    0     0  2770k      0  0:08:42  0:03:19  0:05:23 2098k\r 38 1412M   38  541M    0     0  2766k      0  0:08:42  0:03:20  0:05:22 2124k\r 38 1412M   38  543M    0     0  2762k      0  0:08:43  0:03:21  0:05:22 2083k\r 38 1412M   38  545M    0     0  2758k      0  0:08:44  0:03:22  0:05:22 2152k\r 38 1412M   38  547M    0     0  2753k      0  0:08:45  0:03:23  0:05:22 1948k\r 39 1412M   39  550M    0     0  2759k      0  0:08:44  0:03:24  0:05:20 2324k\r 39 1412M   39  552M    0     0  2753k      0  0:08:45  0:03:25  0:05:20 2256k\r 39 1412M   39  554M    0     0  2751k      0  0:08:45  0:03:26  0:05:19 2297k\r 39 1412M   39  556M    0     0  2746k      0  0:08:46  0:03:27  0:05:19 2262k\r 39 1412M   39  558M    0     0  2741k      0  0:08:47  0:03:28  0:05:19 2255k\r 39 1412M   39  559M    0     0  2737k      0  0:08:48  0:03:29  0:05:19 1862k\r 39 1412M   39  562M    0     0  2735k      0  0:08:48  0:03:30  0:05:18 1988k\r 40 1412M   40  565M    0     0  2736k      0  0:08:48  0:03:31  0:05:17 2149k\r 40 1412M   40  567M    0     0  2737k      0  0:08:48  0:03:32  0:05:16 2343k\r 40 1412M   40  570M    0     0  2736k      0  0:08:48  0:03:33  0:05:15 2517k\r 40 1412M   40  571M    0     0  2731k      0  0:08:49  0:03:34  0:05:15 2454k\r 40 1412M   40  575M    0     0  2734k      0  0:08:48  0:03:35  0:05:13 2702k\r 41 1412M   41  580M    0     0  2744k      0  0:08:46  0:03:36  0:05:10 3084k\r 41 1412M   41  583M    0     0  2747k      0  0:08:46  0:03:37  0:05:09 3195k\r 41 1412M   41  586M    0     0  2747k      0  0:08:46  0:03:38  0:05:08 3205k\r 41 1412M   41  587M    0     0  2741k      0  0:08:47  0:03:39  0:05:08 3164k\r 41 1412M   41  592M    0     0  2752k      0  0:08:45  0:03:40  0:05:05 3502k\r 42 1412M   42  597M    0     0  2761k      0  0:08:43  0:03:41  0:05:02 3491k\r 42 1412M   42  601M    0     0  2770k      0  0:08:41  0:03:42  0:04:59 3756k\r 42 1412M   42  604M    0     0  2770k      0  0:08:41  0:03:43  0:04:58 3781k\r 42 1412M   42  607M    0     0  2770k      0  0:08:41  0:03:44  0:04:57 4060k\r 43 1412M   43  610M    0     0  2771k      0  0:08:41  0:03:45  0:04:56 3634k\r 43 1412M   43  612M    0     0  2768k      0  0:08:42  0:03:46  0:04:56 3085k\r 43 1412M   43  616M    0     0  2777k      0  0:08:40  0:03:47  0:04:53 3069k\r 43 1412M   43  619M    0     0  2775k      0  0:08:41  0:03:48  0:04:53 2975k\r 44 1412M   44  622M    0     0  2779k      0  0:08:40  0:03:49  0:04:51 3189k\r 44 1412M   44  625M    0     0  2781k      0  0:08:39  0:03:50  0:04:49 3198k\r 44 1412M   44  628M    0     0  2780k      0  0:08:40  0:03:51  0:04:49 3301k\r 44 1412M   44  631M    0     0  2781k      0  0:08:39  0:03:52  0:04:47 2989k\r 44 1412M   44  634M    0     0  2785k      0  0:08:39  0:03:53  0:04:46 3236k\r 45 1412M   45  638M    0     0  2788k      0  0:08:38  0:03:54  0:04:44 3174k\r 45 1412M   45  643M    0     0  2798k      0  0:08:36  0:03:55  0:04:41 3576k\r 45 1412M   45  644M    0     0  2792k      0  0:08:37  0:03:56  0:04:41 3366k\r 45 1412M   45  646M    0     0  2789k      0  0:08:38  0:03:57  0:04:41 3133k\r 45 1412M   45  647M    0     0  2782k      0  0:08:39  0:03:58  0:04:41 2659k\r 46 1412M   46  650M    0     0  2780k      0  0:08:40  0:03:59  0:04:41 2425k\r 46 1412M   46  652M    0     0  2778k      0  0:08:40  0:04:00  0:04:40 1877k\r 46 1412M   46  654M    0     0  2774k      0  0:08:41  0:04:01  0:04:40 1901k\r 46 1412M   46  655M    0     0  2770k      0  0:08:41  0:04:02  0:04:39 1885k\r 46 1412M   46  657M    0     0  2764k      0  0:08:43  0:04:03  0:04:40 1900k\r 46 1412M   46  659M    0     0  2763k      0  0:08:43  0:04:04  0:04:39 1930k\r 46 1412M   46  661M    0     0  2760k      0  0:08:43  0:04:05  0:04:38 1867k\r 46 1412M   46  663M    0     0  2757k      0  0:08:44  0:04:06  0:04:38 1935k\r 47 1412M   47  665M    0     0  2756k      0  0:08:44  0:04:07  0:04:37 2077k\r 47 1412M   47  668M    0     0  2755k      0  0:08:44  0:04:08  0:04:36 2306k\r 47 1412M   47  670M    0     0  2751k      0  0:08:45  0:04:09  0:04:36 2160k\r 47 1412M   47  673M    0     0  2752k      0  0:08:45  0:04:10  0:04:35 2376k\r 47 1412M   47  676M    0     0  2753k      0  0:08:45  0:04:11  0:04:34 2569k\r 48 1412M   48  678M    0     0  2754k      0  0:08:45  0:04:12  0:04:33 2641k\r 48 1412M   48  681M    0     0  2754k      0  0:08:45  0:04:13  0:04:32 2720k\r 48 1412M   48  683M    0     0  2752k      0  0:08:45  0:04:14  0:04:31 2811k\r 48 1412M   48  687M    0     0  2756k      0  0:08:44  0:04:15  0:04:29 2922k\r 49 1412M   49  692M    0     0  2765k      0  0:08:42  0:04:16  0:04:26 3348k\r 49 1412M   49  696M    0     0  2769k      0  0:08:42  0:04:17  0:04:25 3551k\r 49 1412M   49  699M    0     0  2770k      0  0:08:41  0:04:18  0:04:23 3609k\r 49 1412M   49  702M    0     0  2773k      0  0:08:41  0:04:19  0:04:22 3836k\r 50 1412M   50  706M    0     0  2778k      0  0:08:40  0:04:20  0:04:20 3944k\r 50 1412M   50  709M    0     0  2777k      0  0:08:40  0:04:21  0:04:19 3427k\r 50 1412M   50  711M    0     0  2775k      0  0:08:40  0:04:22  0:04:18 3081k\r 50 1412M   50  714M    0     0  2775k      0  0:08:40  0:04:23  0:04:17 3031k\r 50 1412M   50  715M    0     0  2771k      0  0:08:41  0:04:24  0:04:17 2693k\r 50 1412M   50  717M    0     0  2769k      0  0:08:42  0:04:25  0:04:17 2271k\r 51 1412M   51  720M    0     0  2770k      0  0:08:41  0:04:26  0:04:15 2402k\r 51 1412M   51  723M    0     0  2769k      0  0:08:42  0:04:27  0:04:15 2424k\r 51 1412M   51  724M    0     0  2763k      0  0:08:43  0:04:28  0:04:15 2133k\r 51 1412M   51  725M    0     0  2759k      0  0:08:44  0:04:29  0:04:15 2097k\r 51 1412M   51  729M    0     0  2762k      0  0:08:43  0:04:30  0:04:13 2380k\r 51 1412M   51  732M    0     0  2762k      0  0:08:43  0:04:31  0:04:12 2305k\r 51 1412M   51  733M    0     0  2756k      0  0:08:44  0:04:32  0:04:12 2086k\r 52 1412M   52  736M    0     0  2759k      0  0:08:44  0:04:33  0:04:11 2508k\r 52 1412M   52  741M    0     0  2765k      0  0:08:42  0:04:34  0:04:08 3116k\r 52 1412M   52  745M    0     0  2772k      0  0:08:41  0:04:35  0:04:06 3313k\r 53 1412M   53  749M    0     0  2775k      0  0:08:41  0:04:36  0:04:05 3489k\r 53 1412M   53  751M    0     0  2773k      0  0:08:41  0:04:37  0:04:04 3723k\r 53 1412M   53  755M    0     0  2778k      0  0:08:40  0:04:38  0:04:02 3820k\r 53 1412M   53  760M    0     0  2786k      0  0:08:38  0:04:39  0:03:59 3937k\r 54 1412M   54  763M    0     0  2789k      0  0:08:38  0:04:40  0:03:58 3750k\r 54 1412M   54  768M    0     0  2796k      0  0:08:37  0:04:41  0:03:56 3955k\r 54 1412M   54  769M    0     0  2789k      0  0:08:38  0:04:42  0:03:56 3665k\r 54 1412M   54  773M    0     0  2794k      0  0:08:37  0:04:43  0:03:54 3678k\r 54 1412M   54  776M    0     0  2795k      0  0:08:37  0:04:44  0:03:53 3290k\r 55 1412M   55  777M    0     0  2789k      0  0:08:38  0:04:45  0:03:53 2790k\r 55 1412M   55  779M    0     0  2787k      0  0:08:38  0:04:46  0:03:52 2309k\r 55 1412M   55  781M    0     0  2783k      0  0:08:39  0:04:47  0:03:52 2452k\r 55 1412M   55  784M    0     0  2783k      0  0:08:39  0:04:48  0:03:51 2202k\r 55 1412M   55  789M    0     0  2794k      0  0:08:37  0:04:49  0:03:48 2728k\r 56 1412M   56  792M    0     0  2792k      0  0:08:37  0:04:50  0:03:47 2976k\r 56 1412M   56  793M    0     0  2788k      0  0:08:38  0:04:51  0:03:47 2855k\r 56 1412M   56  795M    0     0  2784k      0  0:08:39  0:04:52  0:03:47 2827k\r 56 1412M   56  797M    0     0  2783k      0  0:08:39  0:04:53  0:03:46 2742k\r 56 1412M   56  799M    0     0  2782k      0  0:08:39  0:04:54  0:03:45 2080k\r 56 1412M   56  803M    0     0  2783k      0  0:08:39  0:04:55  0:03:44 2269k\r 57 1412M   57  805M    0     0  2782k      0  0:08:39  0:04:56  0:03:43 2416k\r 57 1412M   57  806M    0     0  2778k      0  0:08:40  0:04:57  0:03:43 2395k\r 57 1412M   57  809M    0     0  2776k      0  0:08:40  0:04:58  0:03:42 2380k\r 57 1412M   57  811M    0     0  2775k      0  0:08:40  0:04:59  0:03:41 2403k\r 57 1412M   57  813M    0     0  2773k      0  0:08:41  0:05:00  0:03:41 2191k\r 57 1412M   57  816M    0     0  2773k      0  0:08:41  0:05:01  0:03:40 2243k\r 57 1412M   57  818M    0     0  2772k      0  0:08:41  0:05:02  0:03:39 2419k\r 58 1412M   58  820M    0     0  2768k      0  0:08:42  0:05:03  0:03:39 2314k\r 58 1412M   58  821M    0     0  2764k      0  0:08:43  0:05:04  0:03:39 2062k\r 58 1412M   58  825M    0     0  2766k      0  0:08:42  0:05:05  0:03:37 2323k\r 58 1412M   58  827M    0     0  2765k      0  0:08:42  0:05:06  0:03:36 2279k\r 58 1412M   58  828M    0     0  2760k      0  0:08:43  0:05:07  0:03:36 2069k\r 58 1412M   58  831M    0     0  2759k      0  0:08:43  0:05:08  0:03:35 2212k\r 58 1412M   58  832M    0     0  2756k      0  0:08:44  0:05:09  0:03:35 2270k\r 59 1412M   59  838M    0     0  2764k      0  0:08:43  0:05:10  0:03:33 2646k\r 59 1412M   59  840M    0     0  2763k      0  0:08:43  0:05:11  0:03:32 2652k\r 59 1412M   59  842M    0     0  2760k      0  0:08:43  0:05:12  0:03:31 2725k\r 59 1412M   59  844M    0     0  2760k      0  0:08:43  0:05:13  0:03:30 2775k\r 59 1412M   59  846M    0     0  2758k      0  0:08:44  0:05:14  0:03:30 2897k\r 60 1412M   60  849M    0     0  2758k      0  0:08:44  0:05:15  0:03:29 2382k\r 60 1412M   60  853M    0     0  2763k      0  0:08:43  0:05:16  0:03:27 2748k\r 60 1412M   60  856M    0     0  2763k      0  0:08:43  0:05:17  0:03:26 2942k\r 60 1412M   60  860M    0     0  2766k      0  0:08:42  0:05:18  0:03:24 3135k\r 61 1412M   61  864M    0     0  2770k      0  0:08:41  0:05:19  0:03:22 3549k\r 61 1412M   61  868M    0     0  2774k      0  0:08:41  0:05:20  0:03:21 3790k\r 61 1412M   61  873M    0     0  2783k      0  0:08:39  0:05:21  0:03:18 4060k\r 61 1412M   61  875M    0     0  2779k      0  0:08:40  0:05:22  0:03:18 3844k\r 62 1412M   62  877M    0     0  2779k      0  0:08:40  0:05:23  0:03:17 3642k\r 62 1412M   62  881M    0     0  2780k      0  0:08:40  0:05:24  0:03:16 3429k\r 62 1412M   62  885M    0     0  2786k      0  0:08:38  0:05:25  0:03:13 3543k\r 62 1412M   62  889M    0     0  2790k      0  0:08:38  0:05:26  0:03:12 3194k\r 63 1412M   63  891M    0     0  2787k      0  0:08:38  0:05:27  0:03:11 3255k\r 63 1412M   63  893M    0     0  2785k      0  0:08:39  0:05:28  0:03:11 3179k\r 63 1412M   63  896M    0     0  2787k      0  0:08:38  0:05:29  0:03:09 3218k\r 63 1412M   63  899M    0     0  2786k      0  0:08:38  0:05:30  0:03:08 2809k\r 63 1412M   63  900M    0     0  2783k      0  0:08:39  0:05:31  0:03:08 2360k\r 63 1412M   63  903M    0     0  2783k      0  0:08:39  0:05:32  0:03:07 2575k\r 64 1412M   64  905M    0     0  2782k      0  0:08:39  0:05:33  0:03:06 2545k\r 64 1412M   64  907M    0     0  2779k      0  0:08:40  0:05:34  0:03:06 2251k\r 64 1412M   64  909M    0     0  2775k      0  0:08:41  0:05:35  0:03:06 2019k\r 64 1412M   64  911M    0     0  2775k      0  0:08:40  0:05:36  0:03:04 2266k\r 64 1412M   64  915M    0     0  2777k      0  0:08:40  0:05:37  0:03:03 2349k\r 65 1412M   65  918M    0     0  2779k      0  0:08:40  0:05:38  0:03:02 2623k\r 65 1412M   65  921M    0     0  2778k      0  0:08:40  0:05:39  0:03:01 2739k\r 65 1412M   65  924M    0     0  2781k      0  0:08:39  0:05:40  0:02:59 3221k\r 65 1412M   65  929M    0     0  2787k      0  0:08:38  0:05:41  0:02:57 3554k\r 65 1412M   65  931M    0     0  2785k      0  0:08:39  0:05:42  0:02:57 3342k\r 66 1412M   66  936M    0     0  2792k      0  0:08:37  0:05:43  0:02:54 3648k\r 66 1412M   66  940M    0     0  2794k      0  0:08:37  0:05:44  0:02:53 3878k\r 66 1412M   66  942M    0     0  2794k      0  0:08:37  0:05:45  0:02:52 3629k\r 66 1412M   66  944M    0     0  2791k      0  0:08:37  0:05:46  0:02:51 3108k\r 67 1412M   67  946M    0     0  2789k      0  0:08:38  0:05:47  0:02:51 3083k\r 67 1412M   67  949M    0     0  2789k      0  0:08:38  0:05:48  0:02:50 2629k\r 67 1412M   67  952M    0     0  2790k      0  0:08:38  0:05:49  0:02:49 2462k\r 67 1412M   67  955M    0     0  2791k      0  0:08:38  0:05:50  0:02:48 2591k\r 67 1412M   67  957M    0     0  2790k      0  0:08:38  0:05:51  0:02:47 2665k\r 67 1412M   67  958M    0     0  2785k      0  0:08:39  0:05:52  0:02:47 2484k\r 68 1412M   68  960M    0     0  2784k      0  0:08:39  0:05:53  0:02:46 2388k\r 68 1412M   68  962M    0     0  2780k      0  0:08:40  0:05:54  0:02:46 2109k\r 68 1412M   68  965M    0     0  2781k      0  0:08:39  0:05:55  0:02:44 2103k\r 68 1412M   68  967M    0     0  2780k      0  0:08:40  0:05:56  0:02:44 2090k\r 68 1412M   68  969M    0     0  2776k      0  0:08:40  0:05:57  0:02:43 2130k\r 68 1412M   68  970M    0     0  2774k      0  0:08:41  0:05:58  0:02:43 2050k\r 68 1412M   68  972M    0     0  2770k      0  0:08:42  0:05:59  0:02:43 2037k\r 69 1412M   69  975M    0     0  2772k      0  0:08:41  0:06:00  0:02:41 2117k\r 69 1412M   69  980M    0     0  2778k      0  0:08:40  0:06:01  0:02:39 2636k\r 69 1412M   69  981M    0     0  2774k      0  0:08:41  0:06:02  0:02:39 2609k\r 69 1412M   69  983M    0     0  2771k      0  0:08:41  0:06:03  0:02:38 2593k\r 69 1412M   69  986M    0     0  2773k      0  0:08:41  0:06:04  0:02:37 2994k\r 70 1412M   70  989M    0     0  2774k      0  0:08:41  0:06:05  0:02:36 2895k\r 70 1412M   70  995M    0     0  2783k      0  0:08:39  0:06:06  0:02:33 3156k\r 70 1412M   70  997M    0     0  2780k      0  0:08:40  0:06:07  0:02:33 3267k\r 70 1412M   70 1001M    0     0  2783k      0  0:08:39  0:06:08  0:02:31 3648k\r 71 1412M   71 1003M    0     0  2781k      0  0:08:39  0:06:09  0:02:30 3350k\r 71 1412M   71 1006M    0     0  2782k      0  0:08:39  0:06:10  0:02:29 3365k\r 71 1412M   71 1008M    0     0  2779k      0  0:08:40  0:06:11  0:02:29 2502k\r 71 1412M   71 1011M    0     0  2781k      0  0:08:39  0:06:12  0:02:27 2825k\r 71 1412M   71 1012M    0     0  2776k      0  0:08:40  0:06:13  0:02:27 2278k\r 72 1412M   72 1017M    0     0  2783k      0  0:08:39  0:06:14  0:02:25 2953k\r 72 1412M   72 1019M    0     0  2780k      0  0:08:40  0:06:15  0:02:25 2640k\r 72 1412M   72 1021M    0     0  2780k      0  0:08:40  0:06:16  0:02:24 2805k\r 72 1412M   72 1026M    0     0  2785k      0  0:08:39  0:06:17  0:02:22 3047k\r 72 1412M   72 1030M    0     0  2787k      0  0:08:38  0:06:18  0:02:20 3575k\r 73 1412M   73 1032M    0     0  2786k      0  0:08:38  0:06:19  0:02:19 3041k\r 73 1412M   73 1034M    0     0  2785k      0  0:08:39  0:06:20  0:02:19 3195k\r 73 1412M   73 1036M    0     0  2782k      0  0:08:39  0:06:21  0:02:18 2960k\r 73 1412M   73 1038M    0     0  2781k      0  0:08:39  0:06:22  0:02:17 2553k\r 73 1412M   73 1041M    0     0  2780k      0  0:08:40  0:06:23  0:02:17 2249k\r 73 1412M   73 1042M    0     0  2777k      0  0:08:40  0:06:24  0:02:16 2102k\r 73 1412M   73 1043M    0     0  2773k      0  0:08:41  0:06:25  0:02:16 1849k\r 74 1412M   74 1046M    0     0  2773k      0  0:08:41  0:06:26  0:02:15 2063k\r 74 1412M   74 1048M    0     0  2772k      0  0:08:41  0:06:27  0:02:14 2017k\r 74 1412M   74 1050M    0     0  2768k      0  0:08:42  0:06:28  0:02:14 1878k\r 74 1412M   74 1053M    0     0  2769k      0  0:08:42  0:06:29  0:02:13 2155k\r 74 1412M   74 1055M    0     0  2768k      0  0:08:42  0:06:30  0:02:12 2406k\r 74 1412M   74 1057M    0     0  2766k      0  0:08:42  0:06:31  0:02:11 2249k\r 75 1412M   75 1059M    0     0  2764k      0  0:08:43  0:06:32  0:02:11 2161k\r 75 1412M   75 1062M    0     0  2764k      0  0:08:43  0:06:33  0:02:10 2440k\r 75 1412M   75 1064M    0     0  2762k      0  0:08:43  0:06:34  0:02:09 2224k\r 75 1412M   75 1066M    0     0  2762k      0  0:08:43  0:06:35  0:02:08 2272k\r 75 1412M   75 1068M    0     0  2759k      0  0:08:44  0:06:36  0:02:08 2201k\r 75 1412M   75 1069M    0     0  2755k      0  0:08:44  0:06:37  0:02:07 2065k\r 75 1412M   75 1071M    0     0  2754k      0  0:08:44  0:06:38  0:02:06 1979k\r 76 1412M   76 1075M    0     0  2757k      0  0:08:44  0:06:39  0:02:05 2300k\r 76 1412M   76 1080M    0     0  2762k      0  0:08:43  0:06:40  0:02:03 2750k\r 76 1412M   76 1084M    0     0  2765k      0  0:08:42  0:06:41  0:02:01 3257k\r 76 1412M   76 1085M    0     0  2762k      0  0:08:43  0:06:42  0:02:01 3309k\r 77 1412M   77 1087M    0     0  2761k      0  0:08:43  0:06:43  0:02:00 3274k\r 77 1412M   77 1090M    0     0  2761k      0  0:08:43  0:06:44  0:01:59 3074k\r 77 1412M   77 1094M    0     0  2765k      0  0:08:42  0:06:45  0:01:57 3005k\r 77 1412M   77 1098M    0     0  2768k      0  0:08:42  0:06:46  0:01:56 3047k\r 78 1412M   78 1103M    0     0  2773k      0  0:08:41  0:06:47  0:01:54 3687k\r 78 1412M   78 1105M    0     0  2772k      0  0:08:41  0:06:48  0:01:53 3710k\r 78 1412M   78 1110M    0     0  2776k      0  0:08:40  0:06:49  0:01:51 4042k\r 78 1412M   78 1112M    0     0  2775k      0  0:08:40  0:06:50  0:01:50 3602k\r 78 1412M   78 1114M    0     0  2773k      0  0:08:41  0:06:51  0:01:50 3142k\r 79 1412M   79 1116M    0     0  2773k      0  0:08:41  0:06:52  0:01:49 2707k\r 79 1412M   79 1118M    0     0  2769k      0  0:08:42  0:06:53  0:01:49 2512k\r 79 1412M   79 1119M    0     0  2767k      0  0:08:42  0:06:54  0:01:48 1980k\r 79 1412M   79 1122M    0     0  2767k      0  0:08:42  0:06:55  0:01:47 2082k\r 79 1412M   79 1125M    0     0  2767k      0  0:08:42  0:06:56  0:01:46 2298k\r 79 1412M   79 1127M    0     0  2765k      0  0:08:42  0:06:57  0:01:45 2124k\r 79 1412M   79 1129M    0     0  2763k      0  0:08:43  0:06:58  0:01:45 2301k\r 80 1412M   80 1134M    0     0  2770k      0  0:08:41  0:06:59  0:01:42 3066k\r 80 1412M   80 1138M    0     0  2773k      0  0:08:41  0:07:00  0:01:41 3266k\r 80 1412M   80 1140M    0     0  2771k      0  0:08:41  0:07:01  0:01:40 3098k\r 80 1412M   80 1143M    0     0  2771k      0  0:08:41  0:07:02  0:01:39 3316k\r 81 1412M   81 1145M    0     0  2771k      0  0:08:41  0:07:03  0:01:38 3372k\r 81 1412M   81 1148M    0     0  2771k      0  0:08:41  0:07:04  0:01:37 2870k\r 81 1412M   81 1153M    0     0  2775k      0  0:08:40  0:07:05  0:01:35 2976k\r 81 1412M   81 1155M    0     0  2775k      0  0:08:40  0:07:06  0:01:34 3135k\r 82 1412M   82 1160M    0     0  2779k      0  0:08:40  0:07:07  0:01:33 3444k\r 82 1412M   82 1163M    0     0  2780k      0  0:08:40  0:07:08  0:01:32 3545k\r 82 1412M   82 1165M    0     0  2778k      0  0:08:40  0:07:09  0:01:31 3342k\r 82 1412M   82 1167M    0     0  2776k      0  0:08:40  0:07:10  0:01:30 2867k\r 82 1412M   82 1171M    0     0  2780k      0  0:08:40  0:07:11  0:01:29 3193k\r 83 1412M   83 1173M    0     0  2778k      0  0:08:40  0:07:12  0:01:28 2722k\r 83 1412M   83 1176M    0     0  2779k      0  0:08:40  0:07:13  0:01:27 2722k\r 83 1412M   83 1181M    0     0  2784k      0  0:08:39  0:07:14  0:01:25 3318k\r 83 1412M   83 1183M    0     0  2782k      0  0:08:39  0:07:15  0:01:24 3263k\r 83 1412M   83 1186M    0     0  2782k      0  0:08:39  0:07:16  0:01:23 2970k\r 84 1412M   84 1190M    0     0  2786k      0  0:08:38  0:07:17  0:01:21 3429k\r 84 1412M   84 1191M    0     0  2784k      0  0:08:39  0:07:18  0:01:21 3192k\r 84 1412M   84 1193M    0     0  2780k      0  0:08:40  0:07:19  0:01:21 2419k\r 84 1412M   84 1196M    0     0  2782k      0  0:08:39  0:07:20  0:01:19 2778k\r 85 1412M   85 1201M    0     0  2786k      0  0:08:38  0:07:21  0:01:17 3129k\r 85 1412M   85 1203M    0     0  2785k      0  0:08:39  0:07:22  0:01:17 2692k\r 85 1412M   85 1205M    0     0  2783k      0  0:08:39  0:07:23  0:01:16 2685k\r 85 1412M   85 1207M    0     0  2781k      0  0:08:39  0:07:24  0:01:15 2897k\r 85 1412M   85 1209M    0     0  2780k      0  0:08:40  0:07:25  0:01:15 2644k\r 85 1412M   85 1210M    0     0  2777k      0  0:08:40  0:07:26  0:01:14 1978k\r 86 1412M   86 1215M    0     0  2781k      0  0:08:39  0:07:27  0:01:12 2409k\r 86 1412M   86 1217M    0     0  2780k      0  0:08:39  0:07:28  0:01:11 2593k\r 86 1412M   86 1219M    0     0  2778k      0  0:08:40  0:07:29  0:01:11 2434k\r 86 1412M   86 1223M    0     0  2780k      0  0:08:40  0:07:30  0:01:10 2777k\r 86 1412M   86 1225M    0     0  2779k      0  0:08:40  0:07:31  0:01:09 2917k\r 87 1412M   87 1230M    0     0  2784k      0  0:08:39  0:07:32  0:01:07 3109k\r 87 1412M   87 1231M    0     0  2781k      0  0:08:39  0:07:33  0:01:06 2860k\r 87 1412M   87 1237M    0     0  2787k      0  0:08:38  0:07:34  0:01:04 3657k\r 87 1412M   87 1240M    0     0  2788k      0  0:08:38  0:07:35  0:01:03 3530k\r 88 1412M   88 1243M    0     0  2788k      0  0:08:38  0:07:36  0:01:02 3637k\r 88 1412M   88 1247M    0     0  2791k      0  0:08:37  0:07:37  0:01:00 3432k\r 88 1412M   88 1249M    0     0  2790k      0  0:08:38  0:07:38  0:01:00 3540k\r 88 1412M   88 1250M    0     0  2786k      0  0:08:38  0:07:39  0:00:59 2710k\r 88 1412M   88 1253M    0     0  2786k      0  0:08:38  0:07:40  0:00:58 2598k\r 88 1412M   88 1254M    0     0  2784k      0  0:08:39  0:07:41  0:00:58 2382k\r 88 1412M   88 1256M    0     0  2781k      0  0:08:39  0:07:42  0:00:57 1848k\r 89 1412M   89 1257M    0     0  2779k      0  0:08:40  0:07:43  0:00:57 1816k\r 89 1412M   89 1260M    0     0  2779k      0  0:08:40  0:07:44  0:00:56 2070k\r 89 1412M   89 1261M    0     0  2776k      0  0:08:40  0:07:45  0:00:55 1791k\r 89 1412M   89 1263M    0     0  2772k      0  0:08:41  0:07:46  0:00:55 1719k\r 89 1412M   89 1265M    0     0  2771k      0  0:08:41  0:07:47  0:00:54 1872k\r 89 1412M   89 1267M    0     0  2770k      0  0:08:41  0:07:48  0:00:53 1952k\r 89 1412M   89 1268M    0     0  2767k      0  0:08:42  0:07:49  0:00:53 1725k\r 90 1412M   90 1272M    0     0  2769k      0  0:08:42  0:07:50  0:00:52 2112k\r 90 1412M   90 1274M    0     0  2767k      0  0:08:42  0:07:51  0:00:51 2299k\r 90 1412M   90 1277M    0     0  2769k      0  0:08:42  0:07:52  0:00:50 2567k\r 90 1412M   90 1281M    0     0  2771k      0  0:08:41  0:07:53  0:00:48 2819k\r 90 1412M   90 1283M    0     0  2769k      0  0:08:42  0:07:54  0:00:48 2895k\r 91 1412M   91 1288M    0     0  2774k      0  0:08:41  0:07:55  0:00:46 3261k\r 91 1412M   91 1291M    0     0  2776k      0  0:08:40  0:07:56  0:00:44 3589k\r 91 1412M   91 1294M    0     0  2776k      0  0:08:40  0:07:57  0:00:43 3388k\r 91 1412M   91 1297M    0     0  2777k      0  0:08:40  0:07:58  0:00:42 3351k\r 92 1412M   92 1301M    0     0  2779k      0  0:08:40  0:07:59  0:00:41 3711k\r 92 1412M   92 1303M    0     0  2778k      0  0:08:40  0:08:00  0:00:40 3155k\r 92 1412M   92 1307M    0     0  2781k      0  0:08:39  0:08:01  0:00:38 3215k\r 92 1412M   92 1310M    0     0  2782k      0  0:08:39  0:08:02  0:00:37 3404k\r 93 1412M   93 1314M    0     0  2784k      0  0:08:39  0:08:03  0:00:36 3450k\r 93 1412M   93 1315M    0     0  2781k      0  0:08:39  0:08:04  0:00:35 3020k\r 93 1412M   93 1317M    0     0  2778k      0  0:08:40  0:08:05  0:00:35 2844k\r 93 1412M   93 1319M    0     0  2778k      0  0:08:40  0:08:06  0:00:34 2535k\r 93 1412M   93 1321M    0     0  2775k      0  0:08:41  0:08:07  0:00:34 2079k\r 93 1412M   93 1322M    0     0  2772k      0  0:08:41  0:08:08  0:00:33 1604k\r 93 1412M   93 1326M    0     0  2775k      0  0:08:41  0:08:09  0:00:32 2179k\r 94 1412M   94 1329M    0     0  2776k      0  0:08:40  0:08:10  0:00:30 2538k\r 94 1412M   94 1330M    0     0  2772k      0  0:08:41  0:08:11  0:00:30 2222k\r 94 1412M   94 1332M    0     0  2770k      0  0:08:41  0:08:12  0:00:29 2270k\r 94 1412M   94 1334M    0     0  2769k      0  0:08:42  0:08:13  0:00:29 2514k\r 94 1412M   94 1338M    0     0  2771k      0  0:08:41  0:08:14  0:00:27 2352k\r 95 1412M   95 1342M    0     0  2774k      0  0:08:41  0:08:15  0:00:26 2564k\r 95 1412M   95 1345M    0     0  2775k      0  0:08:40  0:08:16  0:00:24 3064k\r 95 1412M   95 1348M    0     0  2776k      0  0:08:40  0:08:17  0:00:23 3403k\r 95 1412M   95 1350M    0     0  2775k      0  0:08:41  0:08:18  0:00:23 3328k\r 95 1412M   95 1355M    0     0  2779k      0  0:08:40  0:08:19  0:00:21 3559k\r 96 1412M   96 1359M    0     0  2781k      0  0:08:39  0:08:20  0:00:19 3496k\r 96 1412M   96 1365M    0     0  2787k      0  0:08:38  0:08:21  0:00:17 3965k\r 96 1412M   96 1367M    0     0  2788k      0  0:08:38  0:08:22  0:00:16 3906k\r 97 1412M   97 1369M    0     0  2786k      0  0:08:38  0:08:23  0:00:15 3907k\r 97 1412M   97 1372M    0     0  2786k      0  0:08:39  0:08:24  0:00:15 3497k\r 97 1412M   97 1375M    0     0  2786k      0  0:08:38  0:08:25  0:00:13 3306k\r 97 1412M   97 1379M    0     0  2788k      0  0:08:38  0:08:26  0:00:12 2900k\r 97 1412M   97 1381M    0     0  2788k      0  0:08:38  0:08:27  0:00:11 2821k\r 97 1412M   97 1383M    0     0  2786k      0  0:08:38  0:08:28  0:00:10 2776k\r 98 1412M   98 1387M    0     0  2788k      0  0:08:38  0:08:29  0:00:09 2997k\r 98 1412M   98 1391M    0     0  2790k      0  0:08:38  0:08:30  0:00:08 3199k\r 98 1412M   98 1393M    0     0  2789k      0  0:08:38  0:08:31  0:00:07 2832k\r 98 1412M   98 1394M    0     0  2787k      0  0:08:38  0:08:32  0:00:06 2708k\r 98 1412M   98 1397M    0     0  2786k      0  0:08:38  0:08:33  0:00:05 2851k\r 99 1412M   99 1400M    0     0  2787k      0  0:08:38  0:08:34  0:00:04 2683k\r 99 1412M   99 1402M    0     0  2785k      0  0:08:39  0:08:35  0:00:04 2248k\r 99 1412M   99 1403M    0     0  2782k      0  0:08:39  0:08:36  0:00:03 2068k\r 99 1412M   99 1407M    0     0  2785k      0  0:08:39  0:08:37  0:00:02 2548k\r 99 1412M   99 1409M    0     0  2783k      0  0:08:39  0:08:38  0:00:01 2412k\r 99 1412M   99 1411M    0     0  2782k      0  0:08:39  0:08:39 --:--:-- 2243k\r100 1412M  100 1412M    0     0  2780k      0  0:08:40  0:08:40 --:--:-- 2227k\n",
            "  % Total    % Received % Xferd  Average Speed   Time    Time     Time  Current\n",
            "                                 Dload  Upload   Total   Spent    Left  Speed\n",
            "\r  0     0    0     0    0     0      0      0 --:--:-- --:--:-- --:--:--     0\r  0     0    0     0    0     0      0      0 --:--:-- --:--:-- --:--:--     0\r  0     0    0     0    0     0      0      0 --:--:--  0:00:01 --:--:--     0\r  0 4130M    0  168k    0     0  74885      0 16:03:50  0:00:02 16:03:48 74853\r  0 4130M    0 1310k    0     0   405k      0  2:53:50  0:00:03  2:53:47  405k\r  0 4130M    0 2999k    0     0   710k      0  1:39:16  0:00:04  1:39:12  709k\r  0 4130M    0 5953k    0     0  1138k      0  1:01:55  0:00:05  1:01:50 1265k\r  0 4130M    0 8351k    0     0  1341k      0  0:52:32  0:00:06  0:52:26 1695k\r  0 4130M    0 10.3M    0     0  1468k      0  0:48:00  0:00:07  0:47:53 2119k\r  0 4130M    0 14.8M    0     0  1848k      0  0:38:08  0:00:08  0:38:00 2781k\r  0 4130M    0 17.8M    0     0  1982k      0  0:35:32  0:00:09  0:35:23 3058k\r  0 4130M    0 21.5M    0     0  2158k      0  0:32:39  0:00:10  0:32:29 3226k\r  0 4130M    0 24.6M    0     0  2248k      0  0:31:21  0:00:11  0:31:10 3377k\r  0 4130M    0 29.2M    0     0  2449k      0  0:28:46  0:00:12  0:28:34 3866k\r  0 4130M    0 30.8M    0     0  2385k      0  0:29:32  0:00:13  0:29:19 3270k\r  0 4130M    0 33.1M    0     0  2383k      0  0:29:34  0:00:14  0:29:20 3123k\r  0 4130M    0 35.6M    0     0  2399k      0  0:29:22  0:00:15  0:29:07 2892k\r  0 4130M    0 38.9M    0     0  2459k      0  0:28:39  0:00:16  0:28:23 2932k\r  1 4130M    1 42.1M    0     0  2503k      0  0:28:09  0:00:17  0:27:52 2634k\r  1 4130M    1 43.8M    0     0  2462k      0  0:28:37  0:00:18  0:28:19 2666k\r  1 4130M    1 46.0M    0     0  2450k      0  0:28:45  0:00:19  0:28:26 2640k\r  1 4130M    1 47.4M    0     0  2398k      0  0:29:22  0:00:20  0:29:02 2397k\r  1 4130M    1 49.6M    0     0  2393k      0  0:29:26  0:00:21  0:29:05 2183k\r  1 4130M    1 52.4M    0     0  2415k      0  0:29:10  0:00:22  0:28:48 2114k\r  1 4130M    1 54.9M    0     0  2423k      0  0:29:05  0:00:23  0:28:42 2277k\r  1 4130M    1 57.8M    0     0  2445k      0  0:28:49  0:00:24  0:28:25 2425k\r  1 4130M    1 60.9M    0     0  2472k      0  0:28:30  0:00:25  0:28:05 2770k\r  1 4130M    1 62.5M    0     0  2440k      0  0:28:53  0:00:26  0:28:27 2636k\r  1 4130M    1 64.6M    0     0  2432k      0  0:28:58  0:00:27  0:28:31 2505k\r  1 4130M    1 66.7M    0     0  2422k      0  0:29:05  0:00:28  0:28:37 2421k\r  1 4130M    1 71.3M    0     0  2500k      0  0:28:11  0:00:29  0:27:42 2766k\r  1 4130M    1 75.0M    0     0  2542k      0  0:27:43  0:00:30  0:27:13 2894k\r  1 4130M    1 76.3M    0     0  2503k      0  0:28:09  0:00:31  0:27:38 2836k\r  1 4130M    1 81.4M    0     0  2588k      0  0:27:14  0:00:32  0:26:42 3438k\r  2 4130M    2 83.2M    0     0  2567k      0  0:27:27  0:00:33  0:26:54 3382k\r  2 4130M    2 88.4M    0     0  2645k      0  0:26:38  0:00:34  0:26:04 3492k\r  2 4130M    2 89.7M    0     0  2608k      0  0:27:01  0:00:35  0:26:26 3009k\r  2 4130M    2 91.2M    0     0  2578k      0  0:27:19  0:00:36  0:26:43 3048k\r  2 4130M    2 92.7M    0     0  2550k      0  0:27:38  0:00:37  0:27:01 2308k\r  2 4130M    2 94.1M    0     0  2522k      0  0:27:56  0:00:38  0:27:18 2225k\r  2 4130M    2 95.0M    0     0  2480k      0  0:28:24  0:00:39  0:27:45 1353k\r  2 4130M    2 97.3M    0     0  2479k      0  0:28:25  0:00:40  0:27:45 1567k\r  2 4130M    2 99.4M    0     0  2470k      0  0:28:31  0:00:41  0:27:50 1685k\r  2 4130M    2  101M    0     0  2459k      0  0:28:39  0:00:42  0:27:57 1781k\r  2 4130M    2  103M    0     0  2450k      0  0:28:45  0:00:43  0:28:02 1902k\r  2 4130M    2  105M    0     0  2435k      0  0:28:56  0:00:44  0:28:12 2082k\r  2 4130M    2  110M    0     0  2504k      0  0:28:08  0:00:45  0:27:23 2705k\r  2 4130M    2  113M    0     0  2523k      0  0:27:55  0:00:46  0:27:09 2959k\r  2 4130M    2  118M    0     0  2567k      0  0:27:27  0:00:47  0:26:40 3481k\r  2 4130M    2  122M    0     0  2591k      0  0:27:11  0:00:48  0:26:23 3805k\r  3 4130M    3  127M    0     0  2643k      0  0:26:39  0:00:49  0:25:50 4479k\r  3 4130M    3  128M    0     0  2625k      0  0:26:50  0:00:50  0:26:00 3722k\r  3 4130M    3  130M    0     0  2615k      0  0:26:56  0:00:51  0:26:05 3465k\r  3 4130M    3  133M    0     0  2622k      0  0:26:52  0:00:52  0:26:00 3138k\r  3 4130M    3  137M    0     0  2638k      0  0:26:43  0:00:53  0:25:50 3089k\r  3 4130M    3  139M    0     0  2637k      0  0:26:43  0:00:54  0:25:49 2571k\r  3 4130M    3  142M    0     0  2636k      0  0:26:44  0:00:55  0:25:49 2747k\r  3 4130M    3  145M    0     0  2651k      0  0:26:34  0:00:56  0:25:38 3024k\r  3 4130M    3  149M    0     0  2670k      0  0:26:23  0:00:57  0:25:26 3174k\r  3 4130M    3  151M    0     0  2667k      0  0:26:25  0:00:58  0:25:27 2973k\r  3 4130M    3  156M    0     0  2706k      0  0:26:02  0:00:59  0:25:03 3457k\r  3 4130M    3  158M    0     0  2688k      0  0:26:13  0:01:00  0:25:13 3260k\r  3 4130M    3  161M    0     0  2697k      0  0:26:07  0:01:01  0:25:06 3209k\r  3 4130M    3  162M    0     0  2670k      0  0:26:23  0:01:02  0:25:21 2665k\r  3 4130M    3  163M    0     0  2653k      0  0:26:33  0:01:03  0:25:30 2500k\r  4 4130M    4  166M    0     0  2657k      0  0:26:31  0:01:04  0:25:27 2081k\r  4 4130M    4  168M    0     0  2639k      0  0:26:42  0:01:05  0:25:37 2052k\r  4 4130M    4  171M    0     0  2643k      0  0:26:39  0:01:06  0:25:33 1987k\r  4 4130M    4  173M    0     0  2645k      0  0:26:38  0:01:07  0:25:31 2334k\r  4 4130M    4  175M    0     0  2633k      0  0:26:45  0:01:08  0:25:37 2376k\r  4 4130M    4  177M    0     0  2631k      0  0:26:47  0:01:09  0:25:38 2295k\r  4 4130M    4  180M    0     0  2631k      0  0:26:46  0:01:10  0:25:36 2533k\r  4 4130M    4  183M    0     0  2631k      0  0:26:47  0:01:11  0:25:36 2466k\r  4 4130M    4  187M    0     0  2652k      0  0:26:34  0:01:12  0:25:22 2748k\r  4 4130M    4  189M    0     0  2647k      0  0:26:37  0:01:13  0:25:24 2845k\r  4 4130M    4  192M    0     0  2649k      0  0:26:36  0:01:14  0:25:22 2892k\r  4 4130M    4  194M    0     0  2648k      0  0:26:36  0:01:15  0:25:21 2880k\r  4 4130M    4  196M    0     0  2644k      0  0:26:39  0:01:16  0:25:23 2834k\r  4 4130M    4  198M    0     0  2636k      0  0:26:44  0:01:17  0:25:27 2405k\r  4 4130M    4  202M    0     0  2648k      0  0:26:36  0:01:18  0:25:18 2661k\r  4 4130M    4  204M    0     0  2642k      0  0:26:40  0:01:19  0:25:21 2537k\r  5 4130M    5  207M    0     0  2652k      0  0:26:34  0:01:20  0:25:14 2718k\r  5 4130M    5  212M    0     0  2678k      0  0:26:18  0:01:21  0:24:57 3196k\r  5 4130M    5  215M    0     0  2683k      0  0:26:16  0:01:22  0:24:54 3409k\r  5 4130M    5  217M    0     0  2675k      0  0:26:20  0:01:23  0:24:57 3086k\r  5 4130M    5  218M    0     0  2660k      0  0:26:29  0:01:24  0:25:05 2958k\r  5 4130M    5  222M    0     0  2670k      0  0:26:23  0:01:25  0:24:58 2946k\r  5 4130M    5  225M    0     0  2676k      0  0:26:20  0:01:26  0:24:54 2637k\r  5 4130M    5  227M    0     0  2666k      0  0:26:26  0:01:27  0:24:59 2379k\r  5 4130M    5  230M    0     0  2671k      0  0:26:23  0:01:28  0:24:55 2608k\r  5 4130M    5  233M    0     0  2685k      0  0:26:15  0:01:29  0:24:46 3092k\r  5 4130M    5  238M    0     0  2710k      0  0:26:00  0:01:30  0:24:30 3404k\r  5 4130M    5  241M    0     0  2705k      0  0:26:03  0:01:31  0:24:32 3212k\r  5 4130M    5  244M    0     0  2713k      0  0:25:58  0:01:32  0:24:26 3548k\r  6 4130M    6  249M    0     0  2741k      0  0:25:42  0:01:33  0:24:09 3969k\r  6 4130M    6  252M    0     0  2743k      0  0:25:41  0:01:34  0:24:07 3788k\r  6 4130M    6  254M    0     0  2739k      0  0:25:43  0:01:35  0:24:08 3258k\r  6 4130M    6  256M    0     0  2729k      0  0:25:49  0:01:36  0:24:13 3166k\r  6 4130M    6  258M    0     0  2719k      0  0:25:55  0:01:37  0:24:18 2816k\r  6 4130M    6  261M    0     0  2720k      0  0:25:54  0:01:38  0:24:16 2343k\r  6 4130M    6  262M    0     0  2709k      0  0:26:00  0:01:39  0:24:21 2060k\r  6 4130M    6  264M    0     0  2701k      0  0:26:05  0:01:40  0:24:25 1972k\r  6 4130M    6  267M    0     0  2706k      0  0:26:02  0:01:41  0:24:21 2266k\r  6 4130M    6  269M    0     0  2699k      0  0:26:06  0:01:42  0:24:24 2317k\r  6 4130M    6  272M    0     0  2706k      0  0:26:02  0:01:43  0:24:19 2415k\r  6 4130M    6  275M    0     0  2709k      0  0:26:00  0:01:44  0:24:16 2718k\r  6 4130M    6  278M    0     0  2708k      0  0:26:01  0:01:45  0:24:16 2856k\r  6 4130M    6  280M    0     0  2701k      0  0:26:05  0:01:46  0:24:19 2599k\r  6 4130M    6  282M    0     0  2696k      0  0:26:08  0:01:47  0:24:21 2637k\r  6 4130M    6  285M    0     0  2703k      0  0:26:04  0:01:48  0:24:16 2644k\r  6 4130M    6  287M    0     0  2693k      0  0:26:10  0:01:49  0:24:21 2347k\r  6 4130M    6  288M    0     0  2681k      0  0:26:17  0:01:50  0:24:27 2115k\r  7 4130M    7  291M    0     0  2686k      0  0:26:14  0:01:51  0:24:23 2372k\r  7 4130M    7  293M    0     0  2679k      0  0:26:18  0:01:52  0:24:26 2321k\r  7 4130M    7  294M    0     0  2662k      0  0:26:28  0:01:53  0:24:35 1793k\r  7 4130M    7  295M    0     0  2652k      0  0:26:34  0:01:54  0:24:40 1762k\r  7 4130M    7  299M    0     0  2661k      0  0:26:29  0:01:55  0:24:34 2212k\r  7 4130M    7  301M    0     0  2653k      0  0:26:33  0:01:56  0:24:37 1911k\r  7 4130M    7  303M    0     0  2647k      0  0:26:37  0:01:57  0:24:40 1932k\r  7 4130M    7  305M    0     0  2644k      0  0:26:39  0:01:58  0:24:41 2218k\r  7 4130M    7  307M    0     0  2642k      0  0:26:40  0:01:59  0:24:41 2412k\r  7 4130M    7  309M    0     0  2633k      0  0:26:45  0:02:00  0:24:45 1998k\r  7 4130M    7  313M    0     0  2646k      0  0:26:38  0:02:01  0:24:37 2484k\r  7 4130M    7  316M    0     0  2649k      0  0:26:36  0:02:02  0:24:34 2681k\r  7 4130M    7  317M    0     0  2641k      0  0:26:40  0:02:03  0:24:37 2588k\r  7 4130M    7  319M    0     0  2634k      0  0:26:45  0:02:04  0:24:41 2455k\r  7 4130M    7  322M    0     0  2633k      0  0:26:45  0:02:05  0:24:40 2639k\r  7 4130M    7  326M    0     0  2650k      0  0:26:35  0:02:06  0:24:29 2755k\r  7 4130M    7  329M    0     0  2655k      0  0:26:32  0:02:07  0:24:25 2797k\r  8 4130M    8  333M    0     0  2661k      0  0:26:28  0:02:08  0:24:20 3155k\r  8 4130M    8  336M    0     0  2665k      0  0:26:26  0:02:09  0:24:17 3425k\r  8 4130M    8  340M    0     0  2675k      0  0:26:20  0:02:10  0:24:10 3714k\r  8 4130M    8  342M    0     0  2673k      0  0:26:22  0:02:11  0:24:11 3233k\r  8 4130M    8  347M    0     0  2690k      0  0:26:11  0:02:12  0:23:59 3597k\r  8 4130M    8  348M    0     0  2681k      0  0:26:17  0:02:13  0:24:04 3176k\r  8 4130M    8  351M    0     0  2679k      0  0:26:18  0:02:14  0:24:04 3052k\r  8 4130M    8  352M    0     0  2667k      0  0:26:25  0:02:15  0:24:10 2458k\r  8 4130M    8  353M    0     0  2654k      0  0:26:32  0:02:16  0:24:16 2178k\r  8 4130M    8  355M    0     0  2650k      0  0:26:35  0:02:17  0:24:18 1572k\r  8 4130M    8  356M    0     0  2638k      0  0:26:43  0:02:18  0:24:25 1490k\r  8 4130M    8  359M    0     0  2640k      0  0:26:41  0:02:19  0:24:22 1594k\r  8 4130M    8  360M    0     0  2633k      0  0:26:45  0:02:20  0:24:25 1717k\r  8 4130M    8  366M    0     0  2653k      0  0:26:33  0:02:21  0:24:12 2620k\r  8 4130M    8  368M    0     0  2650k      0  0:26:35  0:02:22  0:24:13 2671k\r  8 4130M    8  371M    0     0  2655k      0  0:26:32  0:02:23  0:24:09 3142k\r  9 4130M    9  374M    0     0  2656k      0  0:26:32  0:02:24  0:24:08 3086k\r  9 4130M    9  378M    0     0  2669k      0  0:26:24  0:02:25  0:23:59 3681k\r  9 4130M    9  380M    0     0  2666k      0  0:26:26  0:02:26  0:24:00 3019k\r  9 4130M    9  381M    0     0  2655k      0  0:26:32  0:02:27  0:24:05 2793k\r  9 4130M    9  385M    0     0  2661k      0  0:26:29  0:02:28  0:24:01 2818k\r  9 4130M    9  386M    0     0  2655k      0  0:26:32  0:02:29  0:24:03 2617k\r  9 4130M    9  388M    0     0  2648k      0  0:26:36  0:02:30  0:24:06 2029k\r  9 4130M    9  392M    0     0  2655k      0  0:26:32  0:02:31  0:24:01 2332k\r  9 4130M    9  397M    0     0  2671k      0  0:26:22  0:02:32  0:23:50 3153k\r  9 4130M    9  399M    0     0  2672k      0  0:26:22  0:02:33  0:23:49 3016k\r  9 4130M    9  402M    0     0  2670k      0  0:26:23  0:02:34  0:23:49 3145k\r  9 4130M    9  403M    0     0  2664k      0  0:26:27  0:02:35  0:23:52 3145k\r  9 4130M    9  404M    0     0  2653k      0  0:26:33  0:02:36  0:23:57 2604k\r  9 4130M    9  407M    0     0  2652k      0  0:26:34  0:02:37  0:23:57 2045k\r  9 4130M    9  411M    0     0  2665k      0  0:26:26  0:02:38  0:23:48 2456k\r 10 4130M   10  416M    0     0  2678k      0  0:26:19  0:02:39  0:23:40 2897k\r 10 4130M   10  419M    0     0  2678k      0  0:26:19  0:02:40  0:23:39 3107k\r 10 4130M   10  422M    0     0  2684k      0  0:26:15  0:02:41  0:23:34 3635k\r 10 4130M   10  424M    0     0  2681k      0  0:26:16  0:02:42  0:23:34 3617k\r 10 4130M   10  427M    0     0  2681k      0  0:26:17  0:02:43  0:23:34 3158k\r 10 4130M   10  431M    0     0  2688k      0  0:26:13  0:02:44  0:23:29 3006k\r 10 4130M   10  432M    0     0  2682k      0  0:26:16  0:02:45  0:23:31 2821k\r 10 4130M   10  436M    0     0  2688k      0  0:26:12  0:02:46  0:23:26 2837k\r 10 4130M   10  438M    0     0  2682k      0  0:26:16  0:02:47  0:23:29 2717k\r 10 4130M   10  442M    0     0  2696k      0  0:26:08  0:02:48  0:23:20 3191k\r 10 4130M   10  445M    0     0  2697k      0  0:26:08  0:02:49  0:23:19 2996k\r 10 4130M   10  449M    0     0  2702k      0  0:26:05  0:02:50  0:23:15 3356k\r 10 4130M   10  452M    0     0  2703k      0  0:26:04  0:02:51  0:23:13 3212k\r 10 4130M   10  454M    0     0  2699k      0  0:26:06  0:02:52  0:23:14 3261k\r 11 4130M   11  455M    0     0  2691k      0  0:26:11  0:02:53  0:23:18 2531k\r 11 4130M   11  456M    0     0  2680k      0  0:26:17  0:02:54  0:23:23 2126k\r 11 4130M   11  459M    0     0  2684k      0  0:26:15  0:02:55  0:23:20 2071k\r 11 4130M   11  461M    0     0  2681k      0  0:26:17  0:02:56  0:23:21 1916k\r 11 4130M   11  464M    0     0  2682k      0  0:26:16  0:02:57  0:23:19 2076k\r 11 4130M   11  466M    0     0  2681k      0  0:26:17  0:02:58  0:23:19 2322k\r 11 4130M   11  467M    0     0  2673k      0  0:26:22  0:02:59  0:23:23 2403k\r 11 4130M   11  469M    0     0  2670k      0  0:26:23  0:03:00  0:23:23 2171k\r 11 4130M   11  473M    0     0  2673k      0  0:26:21  0:03:01  0:23:20 2385k\r 11 4130M   11  476M    0     0  2676k      0  0:26:19  0:03:02  0:23:17 2486k\r 11 4130M   11  479M    0     0  2677k      0  0:26:19  0:03:03  0:23:16 2557k\r 11 4130M   11  481M    0     0  2676k      0  0:26:19  0:03:04  0:23:15 2816k\r 11 4130M   11  484M    0     0  2676k      0  0:26:20  0:03:05  0:23:15 2911k\r 11 4130M   11  485M    0     0  2671k      0  0:26:23  0:03:06  0:23:17 2599k\r 11 4130M   11  488M    0     0  2669k      0  0:26:24  0:03:07  0:23:17 2416k\r 11 4130M   11  491M    0     0  2673k      0  0:26:22  0:03:08  0:23:14 2506k\r 11 4130M   11  494M    0     0  2674k      0  0:26:21  0:03:09  0:23:12 2566k\r 12 4130M   12  496M    0     0  2675k      0  0:26:20  0:03:10  0:23:10 2623k\r 12 4130M   12  501M    0     0  2685k      0  0:26:14  0:03:11  0:23:03 3214k\r 12 4130M   12  503M    0     0  2681k      0  0:26:17  0:03:12  0:23:05 3125k\r 12 4130M   12  504M    0     0  2674k      0  0:26:21  0:03:13  0:23:08 2725k\r 12 4130M   12  507M    0     0  2675k      0  0:26:20  0:03:14  0:23:06 2716k\r 12 4130M   12  511M    0     0  2682k      0  0:26:16  0:03:15  0:23:01 2978k\r 12 4130M   12  515M    0     0  2691k      0  0:26:11  0:03:16  0:22:55 2919k\r 12 4130M   12  518M    0     0  2692k      0  0:26:10  0:03:17  0:22:53 3108k\r 12 4130M   12  522M    0     0  2697k      0  0:26:07  0:03:18  0:22:49 3600k\r 12 4130M   12  525M    0     0  2699k      0  0:26:06  0:03:19  0:22:47 3639k\r 12 4130M   12  527M    0     0  2699k      0  0:26:06  0:03:20  0:22:46 3358k\r 12 4130M   12  530M    0     0  2701k      0  0:26:05  0:03:21  0:22:44 3091k\r 12 4130M   12  532M    0     0  2697k      0  0:26:07  0:03:22  0:22:45 2893k\r 12 4130M   12  534M    0     0  2695k      0  0:26:08  0:03:23  0:22:45 2602k\r 12 4130M   12  536M    0     0  2691k      0  0:26:11  0:03:24  0:22:47 2371k\r 13 4130M   13  538M    0     0  2687k      0  0:26:13  0:03:25  0:22:48 2182k\r 13 4130M   13  540M    0     0  2684k      0  0:26:15  0:03:26  0:22:49 2016k\r 13 4130M   13  542M    0     0  2681k      0  0:26:17  0:03:27  0:22:50 2024k\r 13 4130M   13  545M    0     0  2682k      0  0:26:16  0:03:28  0:22:48 2148k\r 13 4130M   13  547M    0     0  2680k      0  0:26:17  0:03:29  0:22:48 2247k\r 13 4130M   13  549M    0     0  2674k      0  0:26:21  0:03:30  0:22:51 2168k\r 13 4130M   13  552M    0     0  2680k      0  0:26:17  0:03:31  0:22:46 2491k\r 13 4130M   13  555M    0     0  2678k      0  0:26:18  0:03:32  0:22:46 2578k\r 13 4130M   13  558M    0     0  2682k      0  0:26:16  0:03:33  0:22:43 2696k\r 13 4130M   13  563M    0     0  2691k      0  0:26:11  0:03:34  0:22:37 3163k\r 13 4130M   13  564M    0     0  2687k      0  0:26:13  0:03:35  0:22:38 3220k\r 13 4130M   13  566M    0     0  2684k      0  0:26:15  0:03:36  0:22:39 2844k\r 13 4130M   13  569M    0     0  2682k      0  0:26:16  0:03:37  0:22:39 2855k\r 13 4130M   13  570M    0     0  2677k      0  0:26:19  0:03:38  0:22:41 2471k\r 13 4130M   13  574M    0     0  2684k      0  0:26:15  0:03:39  0:22:36 2358k\r 14 4130M   14  578M    0     0  2691k      0  0:26:11  0:03:40  0:22:31 2844k\r 14 4130M   14  580M    0     0  2687k      0  0:26:13  0:03:41  0:22:32 2838k\r 14 4130M   14  582M    0     0  2683k      0  0:26:15  0:03:42  0:22:33 2726k\r 14 4130M   14  583M    0     0  2676k      0  0:26:19  0:03:43  0:22:36 2629k\r 14 4130M   14  584M    0     0  2670k      0  0:26:23  0:03:44  0:22:39 2064k\r 14 4130M   14  586M    0     0  2667k      0  0:26:25  0:03:45  0:22:40 1636k\r 14 4130M   14  588M    0     0  2663k      0  0:26:27  0:03:46  0:22:41 1612k\r 14 4130M   14  591M    0     0  2666k      0  0:26:25  0:03:47  0:22:38 1903k\r 14 4130M   14  593M    0     0  2663k      0  0:26:27  0:03:48  0:22:39 2077k\r 14 4130M   14  597M    0     0  2667k      0  0:26:25  0:03:49  0:22:36 2550k\r 14 4130M   14  598M    0     0  2664k      0  0:26:27  0:03:50  0:22:37 2506k\r 14 4130M   14  601M    0     0  2661k      0  0:26:28  0:03:51  0:22:37 2571k\r 14 4130M   14  602M    0     0  2658k      0  0:26:30  0:03:52  0:22:38 2303k\r 14 4130M   14  605M    0     0  2656k      0  0:26:32  0:03:53  0:22:39 2320k\r 14 4130M   14  606M    0     0  2653k      0  0:26:34  0:03:54  0:22:40 1981k\r 14 4130M   14  608M    0     0  2650k      0  0:26:35  0:03:55  0:22:40 2025k\r 14 4130M   14  613M    0     0  2658k      0  0:26:30  0:03:56  0:22:34 2495k\r 14 4130M   14  616M    0     0  2661k      0  0:26:29  0:03:57  0:22:32 2780k\r 15 4130M   15  619M    0     0  2663k      0  0:26:28  0:03:58  0:22:30 2978k\r 15 4130M   15  623M    0     0  2669k      0  0:26:24  0:03:59  0:22:25 3454k\r 15 4130M   15  627M    0     0  2673k      0  0:26:21  0:04:00  0:22:21 3770k\r 15 4130M   15  630M    0     0  2675k      0  0:26:20  0:04:01  0:22:19 3504k\r 15 4130M   15  633M    0     0  2676k      0  0:26:19  0:04:02  0:22:17 3415k\r 15 4130M   15  635M    0     0  2674k      0  0:26:21  0:04:03  0:22:18 3232k\r 15 4130M   15  636M    0     0  2670k      0  0:26:23  0:04:04  0:22:19 2689k\r 15 4130M   15  640M    0     0  2676k      0  0:26:20  0:04:05  0:22:15 2798k\r 15 4130M   15  644M    0     0  2681k      0  0:26:17  0:04:06  0:22:11 2968k\r 15 4130M   15  646M    0     0  2678k      0  0:26:18  0:04:07  0:22:11 2753k\r 15 4130M   15  648M    0     0  2676k      0  0:26:20  0:04:08  0:22:12 2756k\r 15 4130M   15  650M    0     0  2672k      0  0:26:22  0:04:09  0:22:13 2789k\r 15 4130M   15  651M    0     0  2667k      0  0:26:25  0:04:10  0:22:15 2217k\r 15 4130M   15  652M    0     0  2660k      0  0:26:29  0:04:11  0:22:18 1605k\r 15 4130M   15  655M    0     0  2659k      0  0:26:29  0:04:12  0:22:17 1738k\r 15 4130M   15  658M    0     0  2663k      0  0:26:27  0:04:13  0:22:14 2036k\r 15 4130M   15  660M    0     0  2659k      0  0:26:30  0:04:14  0:22:16 1985k\r 16 4130M   16  662M    0     0  2656k      0  0:26:32  0:04:15  0:22:17 2105k\r 16 4130M   16  664M    0     0  2656k      0  0:26:31  0:04:16  0:22:15 2477k\r 16 4130M   16  666M    0     0  2653k      0  0:26:33  0:04:17  0:22:16 2354k\r 16 4130M   16  669M    0     0  2653k      0  0:26:34  0:04:18  0:22:16 2110k\r 16 4130M   16  673M    0     0  2658k      0  0:26:30  0:04:19  0:22:11 2649k\r 16 4130M   16  676M    0     0  2661k      0  0:26:28  0:04:20  0:22:08 2930k\r 16 4130M   16  679M    0     0  2661k      0  0:26:28  0:04:21  0:22:07 2917k\r 16 4130M   16  680M    0     0  2659k      0  0:26:30  0:04:22  0:22:08 2919k\r 16 4130M   16  683M    0     0  2658k      0  0:26:30  0:04:23  0:22:07 2931k\r 16 4130M   16  686M    0     0  2659k      0  0:26:29  0:04:24  0:22:05 2708k\r 16 4130M   16  688M    0     0  2659k      0  0:26:30  0:04:25  0:22:05 2550k\r 16 4130M   16  690M    0     0  2657k      0  0:26:31  0:04:26  0:22:05 2436k\r 16 4130M   16  694M    0     0  2659k      0  0:26:29  0:04:27  0:22:02 2705k\r 16 4130M   16  697M    0     0  2661k      0  0:26:29  0:04:28  0:22:01 2820k\r 16 4130M   16  701M    0     0  2669k      0  0:26:24  0:04:29  0:21:55 3160k\r 17 4130M   17  703M    0     0  2666k      0  0:26:26  0:04:30  0:21:56 3019k\r 17 4130M   17  706M    0     0  2666k      0  0:26:25  0:04:31  0:21:54 3162k\r 17 4130M   17  707M    0     0  2662k      0  0:26:28  0:04:32  0:21:56 2818k\r 17 4130M   17  710M    0     0  2661k      0  0:26:29  0:04:33  0:21:56 2644k\r 17 4130M   17  711M    0     0  2658k      0  0:26:30  0:04:34  0:21:56 2075k\r 17 4130M   17  718M    0     0  2671k      0  0:26:22  0:04:35  0:21:47 2985k\r 17 4130M   17  720M    0     0  2672k      0  0:26:22  0:04:36  0:21:46 2970k\r 17 4130M   17  724M    0     0  2675k      0  0:26:20  0:04:37  0:21:43 3341k\r 17 4130M   17  727M    0     0  2679k      0  0:26:18  0:04:38  0:21:40 3673k\r 17 4130M   17  730M    0     0  2679k      0  0:26:18  0:04:39  0:21:39 3855k\r 17 4130M   17  735M    0     0  2688k      0  0:26:12  0:04:40  0:21:32 3607k\r 17 4130M   17  736M    0     0  2683k      0  0:26:16  0:04:41  0:21:35 3292k\r 17 4130M   17  740M    0     0  2685k      0  0:26:15  0:04:42  0:21:33 3243k\r 17 4130M   17  742M    0     0  2683k      0  0:26:16  0:04:43  0:21:33 2889k\r 18 4130M   18  746M    0     0  2687k      0  0:26:13  0:04:44  0:21:29 3145k\r 18 4130M   18  748M    0     0  2686k      0  0:26:14  0:04:45  0:21:29 2589k\r 18 4130M   18  751M    0     0  2689k      0  0:26:12  0:04:46  0:21:26 3040k\r 18 4130M   18  753M    0     0  2686k      0  0:26:14  0:04:47  0:21:27 2769k\r 18 4130M   18  755M    0     0  2684k      0  0:26:15  0:04:48  0:21:27 2743k\r 18 4130M   18  757M    0     0  2682k      0  0:26:16  0:04:49  0:21:27 2345k\r 18 4130M   18  760M    0     0  2684k      0  0:26:15  0:04:50  0:21:25 2535k\r 18 4130M   18  762M    0     0  2681k      0  0:26:17  0:04:51  0:21:26 2215k\r 18 4130M   18  763M    0     0  2674k      0  0:26:21  0:04:52  0:21:29 1984k\r 18 4130M   18  765M    0     0  2672k      0  0:26:22  0:04:53  0:21:29 2008k\r 18 4130M   18  768M    0     0  2673k      0  0:26:21  0:04:54  0:21:27 2184k\r 18 4130M   18  769M    0     0  2669k      0  0:26:24  0:04:55  0:21:29 1828k\r 18 4130M   18  771M    0     0  2666k      0  0:26:25  0:04:56  0:21:29 1803k\r 18 4130M   18  774M    0     0  2669k      0  0:26:24  0:04:57  0:21:27 2368k\r 18 4130M   18  776M    0     0  2667k      0  0:26:25  0:04:58  0:21:27 2394k\r 18 4130M   18  778M    0     0  2663k      0  0:26:27  0:04:59  0:21:28 2058k\r 18 4130M   18  782M    0     0  2670k      0  0:26:23  0:05:00  0:21:23 2705k\r 19 4130M   19  786M    0     0  2672k      0  0:26:22  0:05:01  0:21:21 3037k\r 19 4130M   19  788M    0     0  2673k      0  0:26:22  0:05:02  0:21:20 2890k\r 19 4130M   19  792M    0     0  2675k      0  0:26:20  0:05:03  0:21:17 3149k\r 19 4130M   19  794M    0     0  2672k      0  0:26:22  0:05:04  0:21:18 3227k\r 19 4130M   19  796M    0     0  2673k      0  0:26:21  0:05:05  0:21:16 2870k\r 19 4130M   19  799M    0     0  2671k      0  0:26:22  0:05:06  0:21:16 2621k\r 19 4130M   19  801M    0     0  2672k      0  0:26:22  0:05:07  0:21:15 2610k\r 19 4130M   19  806M    0     0  2678k      0  0:26:19  0:05:08  0:21:11 2831k\r 19 4130M   19  809M    0     0  2680k      0  0:26:17  0:05:09  0:21:08 3165k\r 19 4130M   19  811M    0     0  2678k      0  0:26:18  0:05:10  0:21:08 2997k\r 19 4130M   19  815M    0     0  2682k      0  0:26:16  0:05:11  0:21:05 3329k\r 19 4130M   19  819M    0     0  2688k      0  0:26:12  0:05:12  0:21:00 3712k\r 19 4130M   19  822M    0     0  2688k      0  0:26:13  0:05:13  0:21:00 3297k\r 19 4130M   19  824M    0     0  2686k      0  0:26:14  0:05:14  0:21:00 3058k\r 20 4130M   20  828M    0     0  2692k      0  0:26:10  0:05:15  0:20:55 3555k\r 20 4130M   20  832M    0     0  2694k      0  0:26:09  0:05:16  0:20:53 3439k\r 20 4130M   20  833M    0     0  2690k      0  0:26:11  0:05:17  0:20:54 2825k\r 20 4130M   20  835M    0     0  2689k      0  0:26:12  0:05:18  0:20:54 2791k\r 20 4130M   20  838M    0     0  2688k      0  0:26:13  0:05:19  0:20:54 2813k\r 20 4130M   20  840M    0     0  2687k      0  0:26:13  0:05:20  0:20:53 2371k\r 20 4130M   20  843M    0     0  2689k      0  0:26:12  0:05:21  0:20:51 2350k\r 20 4130M   20  845M    0     0  2686k      0  0:26:14  0:05:22  0:20:52 2427k\r 20 4130M   20  848M    0     0  2687k      0  0:26:13  0:05:23  0:20:50 2564k\r 20 4130M   20  851M    0     0  2689k      0  0:26:12  0:05:24  0:20:48 2779k\r 20 4130M   20  854M    0     0  2689k      0  0:26:12  0:05:25  0:20:47 2780k\r 20 4130M   20  856M    0     0  2688k      0  0:26:12  0:05:26  0:20:46 2664k\r 20 4130M   20  858M    0     0  2686k      0  0:26:14  0:05:27  0:20:47 2686k\r 21 4130M   21  876M    0     0  2733k      0  0:25:47  0:05:28  0:20:19 5646k\r 21 4130M   21  899M    0     0  2796k      0  0:25:12  0:05:29  0:19:43 9713k\r 22 4130M   22  922M    0     0  2861k      0  0:24:37  0:05:30  0:19:07 13.7M\r 22 4130M   22  946M    0     0  2925k      0  0:24:05  0:05:31  0:18:34 17.9M\r 23 4130M   23  969M    0     0  2988k      0  0:23:35  0:05:32  0:18:03 22.2M\r 24 4130M   24  993M    0     0  3052k      0  0:23:05  0:05:33  0:17:32 23.4M\r 24 4130M   24 1016M    0     0  3115k      0  0:22:37  0:05:34  0:17:03 23.5M\r 25 4130M   25 1040M    0     0  3178k      0  0:22:10  0:05:35  0:16:35 23.5M\r 25 4130M   25 1063M    0     0  3239k      0  0:21:45  0:05:36  0:16:09 23.5M\r 26 4130M   26 1086M    0     0  3300k      0  0:21:21  0:05:37  0:15:44 23.4M\r 26 4130M   26 1110M    0     0  3361k      0  0:20:57  0:05:38  0:15:19 23.4M\r 27 4130M   27 1133M    0     0  3422k      0  0:20:35  0:05:39  0:14:56 23.4M\r 28 4130M   28 1156M    0     0  3482k      0  0:20:14  0:05:40  0:14:34 23.2M\r 28 4130M   28 1180M    0     0  3543k      0  0:19:53  0:05:41  0:14:12 23.4M\r 29 4130M   29 1204M    0     0  3603k      0  0:19:33  0:05:42  0:13:51 23.5M\r 29 4130M   29 1227M    0     0  3663k      0  0:19:14  0:05:43  0:13:31 23.4M\r 30 4130M   30 1251M    0     0  3722k      0  0:18:56  0:05:44  0:13:12 23.4M\r 30 4130M   30 1274M    0     0  3779k      0  0:18:38  0:05:45  0:12:53 23.4M\r 31 4130M   31 1297M    0     0  3838k      0  0:18:21  0:05:46  0:12:35 23.4M\r 31 4130M   31 1321M    0     0  3896k      0  0:18:05  0:05:47  0:12:18 23.3M\r 32 4130M   32 1344M    0     0  3953k      0  0:17:49  0:05:48  0:12:01 23.3M\r 33 4130M   33 1368M    0     0  4011k      0  0:17:34  0:05:49  0:11:45 23.3M\r 33 4130M   33 1391M    0     0  4069k      0  0:17:19  0:05:50  0:11:29 23.5M\r 34 4130M   34 1415M    0     0  4127k      0  0:17:04  0:05:51  0:11:13 23.5M\r 34 4130M   34 1439M    0     0  4184k      0  0:16:50  0:05:52  0:10:58 23.5M\r 35 4130M   35 1463M    0     0  4241k      0  0:16:37  0:05:53  0:10:44 23.7M\r 36 4130M   36 1486M    0     0  4298k      0  0:16:23  0:05:54  0:10:29 23.7M\r 36 4130M   36 1510M    0     0  4355k      0  0:16:11  0:05:55  0:10:16 23.7M\r 37 4130M   37 1534M    0     0  4410k      0  0:15:58  0:05:56  0:10:02 23.7M\r 37 4130M   37 1557M    0     0  4464k      0  0:15:47  0:05:57  0:09:50 23.6M\r 38 4130M   38 1581M    0     0  4521k      0  0:15:35  0:05:58  0:09:37 23.6M\r 38 4130M   38 1605M    0     0  4575k      0  0:15:24  0:05:59  0:09:25 23.6M\r 39 4130M   39 1628M    0     0  4629k      0  0:15:13  0:06:00  0:09:13 23.6M\r 40 4130M   40 1652M    0     0  4684k      0  0:15:02  0:06:01  0:09:01 23.6M\r 40 4130M   40 1676M    0     0  4738k      0  0:14:52  0:06:02  0:08:50 23.7M\r 41 4130M   41 1700M    0     0  4792k      0  0:14:42  0:06:03  0:08:39 23.6M\r 41 4130M   41 1723M    0     0  4846k      0  0:14:32  0:06:04  0:08:28 23.7M\r 42 4130M   42 1747M    0     0  4899k      0  0:14:23  0:06:05  0:08:18 23.7M\r 42 4130M   42 1771M    0     0  4953k      0  0:14:13  0:06:06  0:08:07 23.8M\r 43 4130M   43 1795M    0     0  5006k      0  0:14:04  0:06:07  0:07:57 23.8M\r 44 4130M   44 1819M    0     0  5059k      0  0:13:55  0:06:08  0:07:47 23.8M\r 44 4130M   44 1842M    0     0  5110k      0  0:13:47  0:06:09  0:07:38 23.7M\r 45 4130M   45 1866M    0     0  5162k      0  0:13:39  0:06:10  0:07:29 23.8M\r 45 4130M   45 1890M    0     0  5214k      0  0:13:31  0:06:11  0:07:20 23.7M\r 46 4130M   46 1914M    0     0  5266k      0  0:13:23  0:06:12  0:07:11 23.7M\r 46 4130M   46 1937M    0     0  5316k      0  0:13:15  0:06:13  0:07:02 23.7M\r 47 4130M   47 1961M    0     0  5367k      0  0:13:07  0:06:14  0:06:53 23.7M\r 48 4130M   48 1985M    0     0  5418k      0  0:13:00  0:06:15  0:06:45 23.7M\r 48 4130M   48 2008M    0     0  5466k      0  0:12:53  0:06:16  0:06:37 23.6M\r 49 4130M   49 2032M    0     0  5516k      0  0:12:46  0:06:17  0:06:29 23.6M\r 49 4130M   49 2057M    0     0  5569k      0  0:12:39  0:06:18  0:06:21 23.8M\r 50 4130M   50 2083M    0     0  5626k      0  0:12:31  0:06:19  0:06:12 24.4M\r 51 4130M   51 2109M    0     0  5682k      0  0:12:24  0:06:20  0:06:04 24.9M\r 51 4130M   51 2136M    0     0  5737k      0  0:12:17  0:06:21  0:05:56 25.5M\r 52 4130M   52 2163M    0     0  5795k      0  0:12:09  0:06:22  0:05:47 26.1M\r 53 4130M   53 2189M    0     0  5850k      0  0:12:02  0:06:23  0:05:39 26.4M\r 53 4130M   53 2215M    0     0  5905k      0  0:11:56  0:06:24  0:05:32 26.3M\r 54 4130M   54 2241M    0     0  5959k      0  0:11:49  0:06:25  0:05:24 26.4M\r 54 4130M   54 2269M    0     0  6016k      0  0:11:42  0:06:26  0:05:16 26.6M\r 55 4130M   55 2295M    0     0  6071k      0  0:11:36  0:06:27  0:05:09 26.5M\r 56 4130M   56 2322M    0     0  6124k      0  0:11:30  0:06:28  0:05:02 26.6M\r 56 4130M   56 2348M    0     0  6177k      0  0:11:24  0:06:29  0:04:55 26.4M\r 57 4130M   57 2374M    0     0  6231k      0  0:11:18  0:06:30  0:04:48 26.5M\r 58 4130M   58 2400M    0     0  6283k      0  0:11:13  0:06:31  0:04:42 26.3M\r 58 4130M   58 2427M    0     0  6337k      0  0:11:07  0:06:32  0:04:35 26.3M\r 59 4130M   59 2453M    0     0  6389k      0  0:11:01  0:06:33  0:04:28 26.2M\r 60 4130M   60 2480M    0     0  6442k      0  0:10:56  0:06:34  0:04:22 26.3M\r 60 4130M   60 2506M    0     0  6494k      0  0:10:51  0:06:35  0:04:16 26.3M\r 61 4130M   61 2532M    0     0  6544k      0  0:10:46  0:06:36  0:04:10 26.1M\r 61 4130M   61 2557M    0     0  6593k      0  0:10:41  0:06:37  0:04:04 25.9M\r 62 4130M   62 2584M    0     0  6644k      0  0:10:36  0:06:38  0:03:58 25.9M\r 63 4130M   63 2610M    0     0  6696k      0  0:10:31  0:06:39  0:03:52 26.1M\r 63 4130M   63 2637M    0     0  6748k      0  0:10:26  0:06:40  0:03:46 26.2M\r 64 4130M   64 2662M    0     0  6795k      0  0:10:22  0:06:41  0:03:41 26.2M\r 65 4130M   65 2689M    0     0  6845k      0  0:10:17  0:06:42  0:03:35 26.3M\r 65 4130M   65 2715M    0     0  6895k      0  0:10:13  0:06:43  0:03:30 26.3M\r 66 4130M   66 2741M    0     0  6945k      0  0:10:08  0:06:44  0:03:24 26.1M\r 67 4130M   67 2767M    0     0  6992k      0  0:10:04  0:06:45  0:03:19 25.9M\r 67 4130M   67 2793M    0     0  7041k      0  0:10:00  0:06:46  0:03:14 26.1M\r 68 4130M   68 2819M    0     0  7090k      0  0:09:56  0:06:47  0:03:09 26.1M\r 68 4130M   68 2845M    0     0  7138k      0  0:09:52  0:06:48  0:03:04 26.1M\r 69 4130M   69 2871M    0     0  7186k      0  0:09:48  0:06:49  0:02:59 26.0M\r 70 4130M   70 2898M    0     0  7234k      0  0:09:44  0:06:50  0:02:54 26.1M\r 70 4130M   70 2923M    0     0  7280k      0  0:09:40  0:06:51  0:02:49 26.0M\r 71 4130M   71 2951M    0     0  7330k      0  0:09:36  0:06:52  0:02:44 26.1M\r 72 4130M   72 2977M    0     0  7377k      0  0:09:33  0:06:53  0:02:40 26.2M\r 72 4130M   72 3003M    0     0  7423k      0  0:09:29  0:06:54  0:02:35 26.2M\r 73 4130M   73 3029M    0     0  7470k      0  0:09:26  0:06:55  0:02:31 26.1M\r 73 4130M   73 3056M    0     0  7518k      0  0:09:22  0:06:56  0:02:26 26.4M\r 74 4130M   74 3082M    0     0  7565k      0  0:09:19  0:06:57  0:02:22 26.3M\r 75 4130M   75 3108M    0     0  7609k      0  0:09:15  0:06:58  0:02:17 26.1M\r 75 4130M   75 3135M    0     0  7656k      0  0:09:12  0:06:59  0:02:13 26.2M\r 76 4130M   76 3152M    0     0  7682k      0  0:09:10  0:07:00  0:02:10 24.6M\r 76 4130M   76 3172M    0     0  7711k      0  0:09:08  0:07:01  0:02:07 23.1M\r 77 4130M   77 3193M    0     0  7744k      0  0:09:06  0:07:02  0:02:04 22.1M\r 77 4130M   77 3216M    0     0  7781k      0  0:09:03  0:07:03  0:02:00 21.6M\r 78 4130M   78 3239M    0     0  7820k      0  0:09:00  0:07:04  0:01:56 21.1M\r 79 4130M   79 3263M    0     0  7859k      0  0:08:58  0:07:05  0:01:53 22.2M\r 79 4130M   79 3288M    0     0  7900k      0  0:08:55  0:07:06  0:01:49 23.2M\r 80 4130M   80 3312M    0     0  7940k      0  0:08:52  0:07:07  0:01:45 23.9M\r 80 4130M   80 3338M    0     0  7983k      0  0:08:49  0:07:08  0:01:41 24.4M\r 81 4130M   81 3363M    0     0  8024k      0  0:08:47  0:07:09  0:01:38 24.7M\r 82 4130M   82 3387M    0     0  8062k      0  0:08:44  0:07:10  0:01:34 24.3M\r 82 4130M   82 3406M    0     0  8087k      0  0:08:42  0:07:11  0:01:31 23.3M\r 82 4130M   82 3425M    0     0  8115k      0  0:08:41  0:07:12  0:01:29 22.4M\r 83 4130M   83 3446M    0     0  8146k      0  0:08:39  0:07:13  0:01:26 21.5M\r 83 4130M   83 3469M    0     0  8180k      0  0:08:36  0:07:14  0:01:22 21.0M\r 84 4130M   84 3492M    0     0  8218k      0  0:08:34  0:07:15  0:01:19 21.3M\r 85 4130M   85 3517M    0     0  8256k      0  0:08:32  0:07:16  0:01:16 22.4M\r 85 4130M   85 3540M    0     0  8290k      0  0:08:30  0:07:17  0:01:13 22.8M\r 86 4130M   86 3557M    0     0  8312k      0  0:08:28  0:07:18  0:01:10 22.1M\r 86 4130M   86 3576M    0     0  8337k      0  0:08:27  0:07:19  0:01:08 21.4M\r 87 4130M   87 3595M    0     0  8364k      0  0:08:25  0:07:20  0:01:05 20.6M\r 87 4130M   87 3615M    0     0  8391k      0  0:08:23  0:07:21  0:01:02 19.6M\r 88 4130M   88 3636M    0     0  8421k      0  0:08:22  0:07:22  0:01:00 19.4M\r 88 4130M   88 3657M    0     0  8449k      0  0:08:20  0:07:23  0:00:57 20.0M\r 89 4130M   89 3678M    0     0  8479k      0  0:08:18  0:07:24  0:00:54 20.4M\r 89 4130M   89 3699M    0     0  8507k      0  0:08:17  0:07:25  0:00:52 20.6M\r 90 4130M   90 3719M    0     0  8536k      0  0:08:15  0:07:26  0:00:49 20.7M\r 90 4130M   90 3740M    0     0  8564k      0  0:08:13  0:07:27  0:00:46 20.7M\r 91 4130M   91 3761M    0     0  8594k      0  0:08:12  0:07:28  0:00:44 20.9M\r 91 4130M   91 3782M    0     0  8622k      0  0:08:10  0:07:29  0:00:41 20.9M\r 92 4130M   92 3804M    0     0  8653k      0  0:08:08  0:07:30  0:00:38 21.1M\r 92 4130M   92 3826M    0     0  8682k      0  0:08:07  0:07:31  0:00:36 21.2M\r 93 4130M   93 3847M    0     0  8713k      0  0:08:05  0:07:32  0:00:33 21.4M\r 93 4130M   93 3870M    0     0  8744k      0  0:08:03  0:07:33  0:00:30 21.6M\r 94 4130M   94 3893M    0     0  8777k      0  0:08:01  0:07:34  0:00:27 22.0M\r 94 4130M   94 3917M    0     0  8812k      0  0:07:59  0:07:35  0:00:24 22.5M\r 95 4130M   95 3943M    0     0  8850k      0  0:07:57  0:07:36  0:00:21 23.4M\r 96 4130M   96 3969M    0     0  8889k      0  0:07:55  0:07:37  0:00:18 24.2M\r 96 4130M   96 3995M    0     0  8929k      0  0:07:53  0:07:38  0:00:15 25.1M\r 97 4130M   97 4022M    0     0  8969k      0  0:07:51  0:07:39  0:00:12 25.7M\r 98 4130M   98 4048M    0     0  9008k      0  0:07:49  0:07:40  0:00:09 26.2M\r 98 4130M   98 4069M    0     0  9034k      0  0:07:48  0:07:41  0:00:07 25.1M\r 98 4130M   98 4082M    0     0  9045k      0  0:07:47  0:07:42  0:00:05 22.6M\r 99 4130M   99 4097M    0     0  9057k      0  0:07:46  0:07:43  0:00:03 20.2M\r 99 4130M   99 4112M    0     0  9071k      0  0:07:46  0:07:44  0:00:02 17.9M\r 99 4130M   99 4128M    0     0  9086k      0  0:07:45  0:07:45 --:--:-- 15.8M\r100 4130M  100 4130M    0     0  9087k      0  0:07:45  0:07:45 --:--:-- 14.5M\n"
          ],
          "name": "stderr"
        }
      ]
    },
    {
      "cell_type": "code",
      "metadata": {
        "id": "UWDjeCQLYvXl",
        "colab_type": "code",
        "outputId": "bae25a1b-dc7f-4b91-89cd-efb88d81c1bc",
        "colab": {
          "base_uri": "https://localhost:8080/",
          "height": 34
        }
      },
      "source": [
        "ls -lhS mangrove_atlas/mangrove-properties/images"
      ],
      "execution_count": 0,
      "outputs": [
        {
          "output_type": "stream",
          "text": [
            "total 0\n"
          ],
          "name": "stdout"
        }
      ]
    },
    {
      "cell_type": "code",
      "metadata": {
        "id": "vVd03hzHTAXw",
        "colab_type": "code",
        "colab": {}
      },
      "source": [
        "%%bash\n",
        "# Transfer to GCS\n",
        "#gsutil -m cp -r gmw_agb_simard_etal_tif.tar.gz gs://$MA_BUCKET/mangrove-properties/\n",
        "#gsutil -m cp -r gmw_hgt_simard_etal_tif.tar.gz gs://$MA_BUCKET/mangrove-properties/"
      ],
      "execution_count": 0,
      "outputs": []
    },
    {
      "cell_type": "code",
      "metadata": {
        "id": "v1zysUgGre3e",
        "colab_type": "code",
        "colab": {}
      },
      "source": [
        "%%bash\n",
        "#rm gmw_agb_simard_etal_tif.tar.gz\n",
        "#rm gmw_hgt_simard_etal_tif.tar.gz"
      ],
      "execution_count": 0,
      "outputs": []
    },
    {
      "cell_type": "markdown",
      "metadata": {
        "id": "6Y6w5JyU2CsZ",
        "colab_type": "text"
      },
      "source": [
        "## Above ground biomass"
      ]
    },
    {
      "cell_type": "code",
      "metadata": {
        "id": "GfDScVaAsm-t",
        "colab_type": "code",
        "outputId": "b7a76359-6807-4352-eee2-bc9cb8aa728f",
        "colab": {
          "base_uri": "https://localhost:8080/",
          "height": 69
        }
      },
      "source": [
        "%%bash\n",
        "# Get mangrove-properties data\n",
        "mkdir -p $MA_BUCKET/mangrove-properties/images\n",
        "gsutil -m cp -r gs://$MA_BUCKET/mangrove-properties/gmw_agb_simard_etal_tif.tar.gz $MA_BUCKET/mangrove-properties"
      ],
      "execution_count": 0,
      "outputs": [
        {
          "output_type": "stream",
          "text": [
            "Copying gs://mangrove_atlas/mangrove-properties/gmw_agb_simard_etal_tif.tar.gz...\n",
            "/ [0/1 files][    0.0 B/  1.4 GiB]   0% Done                                    \r-\r- [0/1 files][ 15.5 MiB/  1.4 GiB]   1% Done                                    \r\\\r|\r| [0/1 files][ 79.2 MiB/  1.4 GiB]   5% Done                                    \r/\r/ [0/1 files][141.5 MiB/  1.4 GiB]  10% Done                                    \r-\r\\\r\\ [0/1 files][211.7 MiB/  1.4 GiB]  14% Done                                    \r|\r/\r/ [0/1 files][270.7 MiB/  1.4 GiB]  19% Done                                    \r-\r- [0/1 files][345.7 MiB/  1.4 GiB]  24% Done                                    \r\\\r|\r| [0/1 files][421.3 MiB/  1.4 GiB]  29% Done                                    \r/\r-\r- [0/1 files][490.4 MiB/  1.4 GiB]  34% Done                                    \r\\\r\\ [0/1 files][560.7 MiB/  1.4 GiB]  39% Done                                    \r|\r/\r/ [0/1 files][632.4 MiB/  1.4 GiB]  44% Done                                    \r-\r\\\r\\ [0/1 files][700.7 MiB/  1.4 GiB]  49% Done  70.7 MiB/s ETA 00:00:10           \r|\r| [0/1 files][766.0 MiB/  1.4 GiB]  54% Done  68.8 MiB/s ETA 00:00:09           \r/\r-\r- [0/1 files][830.9 MiB/  1.4 GiB]  58% Done  68.0 MiB/s ETA 00:00:09           \r\\\r|\r| [0/1 files][890.2 MiB/  1.4 GiB]  63% Done  65.8 MiB/s ETA 00:00:08           \r/\r/ [0/1 files][954.9 MiB/  1.4 GiB]  67% Done  64.5 MiB/s ETA 00:00:07           \r-\r\\\r\\ [0/1 files][ 1023 MiB/  1.4 GiB]  72% Done  64.5 MiB/s ETA 00:00:06           \r|\r/\r/ [0/1 files][  1.1 GiB/  1.4 GiB]  77% Done  65.6 MiB/s ETA 00:00:05           \r-\r- [0/1 files][  1.1 GiB/  1.4 GiB]  82% Done  67.6 MiB/s ETA 00:00:04           \r\\\r|\r| [0/1 files][  1.2 GiB/  1.4 GiB]  86% Done  67.2 MiB/s ETA 00:00:03           \r/\r-\r- [0/1 files][  1.3 GiB/  1.4 GiB]  91% Done  66.5 MiB/s ETA 00:00:02           \r\\\r\\ [0/1 files][  1.3 GiB/  1.4 GiB]  95% Done  66.1 MiB/s ETA 00:00:01           \r|\r/\r/ [0/1 files][  1.4 GiB/  1.4 GiB]  98% Done  60.4 MiB/s ETA 00:00:00           \r-\r- [0/1 files][  1.4 GiB/  1.4 GiB]  99% Done  45.1 MiB/s ETA 00:00:00           \r\\\r\\ [1/1 files][  1.4 GiB/  1.4 GiB] 100% Done  44.5 MiB/s ETA 00:00:00           \r\n",
            "Operation completed over 1 objects/1.4 GiB.                                      \n"
          ],
          "name": "stderr"
        }
      ]
    },
    {
      "cell_type": "code",
      "metadata": {
        "id": "v-zBal2Xvt1r",
        "colab_type": "code",
        "colab": {}
      },
      "source": [
        "%%bash\n",
        "tar xvzf $MA_BUCKET/mangrove-properties/gmw_agb_simard_etal_tif.tar.gz -C $MA_BUCKET/mangrove-properties/images"
      ],
      "execution_count": 0,
      "outputs": []
    },
    {
      "cell_type": "code",
      "metadata": {
        "id": "7t3QjtPIx2oD",
        "colab_type": "code",
        "outputId": "3aeb0ba8-85c5-47f2-c030-e182c8f12d8c",
        "colab": {
          "base_uri": "https://localhost:8080/",
          "height": 191
        }
      },
      "source": [
        "%%bash\n",
        "# Push back to GCS (so we can ingest in GEE!!)\n",
        "y=1996\n",
        "gsutil -m cp $MA_BUCKET/mangrove-properties/images/gmw_agb_simard_etal/${y}/*_agb_gmw_${y}.tif \\\n",
        "gs://$MA_BUCKET/mangrove-properties/processed/mangrove_aboveground_biomass_${y}_v1-0/\n",
        "y=2007\n",
        "gsutil -m cp $MA_BUCKET/mangrove-properties/images/gmw_agb_simard_etal/${y}/*_agb_gmw_${y}.tif \\\n",
        "gs://$MA_BUCKET/mangrove-properties/processed/mangrove_aboveground_biomass_${y}_v1-0/\n",
        "y=2008\n",
        "gsutil -m cp $MA_BUCKET/mangrove-properties/images/gmw_agb_simard_etal/${y}/*_agb_gmw_${y}.tif \\\n",
        "gs://$MA_BUCKET/mangrove-properties/processed/mangrove_aboveground_biomass_${y}_v1-0/\n",
        "y=2009\n",
        "gsutil -m cp $MA_BUCKET/mangrove-properties/images/gmw_agb_simard_etal/${y}/*_agb_gmw_${y}.tif \\\n",
        "gs://$MA_BUCKET/mangrove-properties/processed/mangrove_aboveground_biomass_${y}_v1-0/\n",
        "y=2010\n",
        "gsutil -m cp $MA_BUCKET/mangrove-properties/images/gmw_agb_simard_etal/${y}/*_agb_gmw_${y}.tif \\\n",
        "gs://$MA_BUCKET/mangrove-properties/processed/mangrove_aboveground_biomass_${y}_v1-0/\n",
        "y=2015\n",
        "gsutil -m cp $MA_BUCKET/mangrove-properties/images/gmw_agb_simard_etal/${y}/*_agb_gmw_${y}.tif \\\n",
        "gs://$MA_BUCKET/mangrove-properties/processed/mangrove_aboveground_biomass_${y}_v1-0/\n",
        "y=2016\n",
        "gsutil -m cp $MA_BUCKET/mangrove-properties/images/gmw_agb_simard_etal/${y}/*_agb_gmw_${y}.tif \\\n",
        "gs://$MA_BUCKET/mangrove-properties/processed/mangrove_aboveground_biomass_${y}_v1-0/ "
      ],
      "execution_count": 0,
      "outputs": [
        {
          "output_type": "stream",
          "text": [
            "IOPub data rate exceeded.\n",
            "The notebook server will temporarily stop sending output\n",
            "to the client in order to avoid crashing it.\n",
            "To change this limit, set the config variable\n",
            "`--NotebookApp.iopub_data_rate_limit`.\n",
            "\n",
            "Current values:\n",
            "NotebookApp.iopub_data_rate_limit=1000000.0 (bytes/sec)\n",
            "NotebookApp.rate_limit_window=3.0 (secs)\n",
            "\n"
          ],
          "name": "stderr"
        }
      ]
    },
    {
      "cell_type": "code",
      "metadata": {
        "id": "RMqndrZO2dB6",
        "colab_type": "code",
        "colab": {}
      },
      "source": [
        "%%bash\n",
        "# Clean up\n",
        "rm -r $MA_BUCKET/mangrove-properties/gmw_agb_simard_etal_tif.tar.gz\n",
        "rm -r $MA_BUCKET/mangrove-properties/images "
      ],
      "execution_count": 0,
      "outputs": []
    },
    {
      "cell_type": "code",
      "metadata": {
        "id": "hOp2gddVliII",
        "colab_type": "code",
        "colab": {}
      },
      "source": [
        ""
      ],
      "execution_count": 0,
      "outputs": []
    },
    {
      "cell_type": "code",
      "metadata": {
        "id": "s1qwSODLgpV1",
        "colab_type": "code",
        "outputId": "f5c3f139-62e7-4e3c-c64f-d6488ea0c08b",
        "colab": {
          "base_uri": "https://localhost:8080/",
          "height": 645
        }
      },
      "source": [
        "import os\n",
        "# Upload to GEE imageCollecion asset\n",
        "# @todo check all images have been uploaded to ImageCollection\n",
        "# @todo check if there is a 200 tasks limit\n",
        "\n",
        "\n",
        "# Define asset path\n",
        "assetP=\"projects/global-mangrove-watch/mangrove-properties\"\n",
        "\n",
        "# Define common metadata for the layers\n",
        "# for units use definitions in https://www.unidata.ucar.edu/software/udunits/udunits-current/udunits/\n",
        "properties = {'version':\"'1.0'\",'provider':\"'GMW'\",'doi':\"''\",'citation':\"''\",'resolution':\"'30m'\"}\n",
        "nodata_value=0\n",
        "pyramiding_policy=\"mean\"\n",
        "\n",
        "# Define specific metadata and generate tasks\n",
        "# AGB\n",
        "#year_list = [2007,2008,2009,2010,2015,2016]\n",
        "#for year in year_list:\n",
        "#  file_path=\"gs://{}/mangrove-properties/processed/mangrove_aboveground_biomass_1996-2016/*.tif\".format(os.environ.get('MA_BUCKET'), year)\n",
        "  #print(file_path)\n",
        "#  asset_path=\"projects/global-mangrove-watch/mangrove-properties/mangrove_aboveground_biomass_{}_v1-0_collection\".format(year)\n",
        "  #print(asset_path)\n",
        "#  properties['units']=\"'milligram per hectare'\"\n",
        "#  bands=\"agb_biomass\"\n",
        "  # time_start should be ISO8061\n",
        "#  time_start=\"{}-01-01T12:00:00\".format(year)\n",
        "  #print(properties)\n",
        "#  gee_upload_images_to_collection(file_path, asset_path, pyramiding_policy, bands, time_start, nodata_value, force=True, properties=properties)\n",
        "\n",
        "# Hmax\n",
        "year_list = [1996,2007,2008,2009,2010,2015,2016]\n",
        "for year in year_list:\n",
        "  file_path=\"gs://{}/mangrove-properties/processed/mangrove_max_canopy_height_1996-2016/mangrove_max_canopy_height_{}_v1-0.tif\".format(os.environ.get('MA_BUCKET'), year)\n",
        "  #print(file_path)\n",
        "  asset_path=\"projects/global-mangrove-watch/mangrove-properties/mangrove_max_canopy_height_1996-2016/mangrove_max_canopy_height_{}_v1-0\".format(year)\n",
        "  #print(asset_path)\n",
        "  properties['units']=\"'metres'\"\n",
        "  bands=\"max_canopy_height\"\n",
        "  # time_start should be ISO8061\n",
        "  time_start=\"{}-01-01T12:00:00\".format(year)\n",
        "  #print(properties)\n",
        "  gee_upload_single_image(file_path, asset_path, pyramiding_policy, bands, time_start, nodata_value, force=True, properties=properties)\n",
        "\n",
        "\n",
        "# HBA\n",
        "#year_list = [1996,2007,2008,2009,2010,2015,2016]\n",
        "#for year in year_list:\n",
        "#  file_path=\"gs://{}/mangrove-properties/processed/mangrove_basal-area_weighted_height_{}_v1-0/*.tif\".format(os.environ.get('MA_BUCKET'), year)\n",
        "  #print(file_path)\n",
        "#  asset_path=\"projects/global-mangrove-watch/mangrove-properties/mangrove_basal-area_weighted_height_biomass_{}_v1-0_collection\".format(year)\n",
        "  #print(asset_path)\n",
        "#  properties['units']=\"'metres'\"\n",
        "#  bands=\"ba_weighted_height\"\n",
        "  # time_start should be ISO8061\n",
        "#  time_start=\"{}-01-01T12:00:00\".format(year)\n",
        "  #print(properties)\n",
        "#  gee_upload_images_to_collection(file_path, asset_path, pyramiding_policy, bands, time_start, nodata_value, force=True, properties=properties)\n",
        "\n"
      ],
      "execution_count": 0,
      "outputs": [
        {
          "output_type": "stream",
          "text": [
            "Found 2 files\n",
            "Processing projects/global-mangrove-watch/mangrove-properties/mangrove_max_canopy_height_1996-2016/mangrove_max_canopy_height_1996_v1-0\n",
            "earthengine --no-use_cloud_api upload image --asset_id=projects/global-mangrove-watch/mangrove-properties/mangrove_max_canopy_height_1996-2016/mangrove_max_canopy_height_1996_v1-0 --force --pyramiding_policy=mean --time_start=1996-01-01T12:00:00 --nodata_value=0 --bands=max_canopy_height --property=version='1.0' --property=provider='GMW' --property=doi='' --property=citation='' --property=resolution='30m' --property=units='metres' gs://mangrove_atlas/mangrove-properties/processed/mangrove_max_canopy_height_1996-2016/mangrove_max_canopy_height_1996_v1-0.tif \n",
            "Task created\n",
            "Finished upload\n",
            "Found 2 files\n",
            "Processing projects/global-mangrove-watch/mangrove-properties/mangrove_max_canopy_height_1996-2016/mangrove_max_canopy_height_2007_v1-0\n",
            "earthengine --no-use_cloud_api upload image --asset_id=projects/global-mangrove-watch/mangrove-properties/mangrove_max_canopy_height_1996-2016/mangrove_max_canopy_height_2007_v1-0 --force --pyramiding_policy=mean --time_start=2007-01-01T12:00:00 --nodata_value=0 --bands=max_canopy_height --property=version='1.0' --property=provider='GMW' --property=doi='' --property=citation='' --property=resolution='30m' --property=units='metres' gs://mangrove_atlas/mangrove-properties/processed/mangrove_max_canopy_height_1996-2016/mangrove_max_canopy_height_2007_v1-0.tif \n",
            "Task created\n",
            "Finished upload\n",
            "Found 2 files\n",
            "Processing projects/global-mangrove-watch/mangrove-properties/mangrove_max_canopy_height_1996-2016/mangrove_max_canopy_height_2008_v1-0\n",
            "earthengine --no-use_cloud_api upload image --asset_id=projects/global-mangrove-watch/mangrove-properties/mangrove_max_canopy_height_1996-2016/mangrove_max_canopy_height_2008_v1-0 --force --pyramiding_policy=mean --time_start=2008-01-01T12:00:00 --nodata_value=0 --bands=max_canopy_height --property=version='1.0' --property=provider='GMW' --property=doi='' --property=citation='' --property=resolution='30m' --property=units='metres' gs://mangrove_atlas/mangrove-properties/processed/mangrove_max_canopy_height_1996-2016/mangrove_max_canopy_height_2008_v1-0.tif \n",
            "Task created\n",
            "Finished upload\n",
            "Found 2 files\n",
            "Processing projects/global-mangrove-watch/mangrove-properties/mangrove_max_canopy_height_1996-2016/mangrove_max_canopy_height_2009_v1-0\n",
            "earthengine --no-use_cloud_api upload image --asset_id=projects/global-mangrove-watch/mangrove-properties/mangrove_max_canopy_height_1996-2016/mangrove_max_canopy_height_2009_v1-0 --force --pyramiding_policy=mean --time_start=2009-01-01T12:00:00 --nodata_value=0 --bands=max_canopy_height --property=version='1.0' --property=provider='GMW' --property=doi='' --property=citation='' --property=resolution='30m' --property=units='metres' gs://mangrove_atlas/mangrove-properties/processed/mangrove_max_canopy_height_1996-2016/mangrove_max_canopy_height_2009_v1-0.tif \n",
            "Task created\n",
            "Finished upload\n",
            "Found 2 files\n",
            "Processing projects/global-mangrove-watch/mangrove-properties/mangrove_max_canopy_height_1996-2016/mangrove_max_canopy_height_2010_v1-0\n",
            "earthengine --no-use_cloud_api upload image --asset_id=projects/global-mangrove-watch/mangrove-properties/mangrove_max_canopy_height_1996-2016/mangrove_max_canopy_height_2010_v1-0 --force --pyramiding_policy=mean --time_start=2010-01-01T12:00:00 --nodata_value=0 --bands=max_canopy_height --property=version='1.0' --property=provider='GMW' --property=doi='' --property=citation='' --property=resolution='30m' --property=units='metres' gs://mangrove_atlas/mangrove-properties/processed/mangrove_max_canopy_height_1996-2016/mangrove_max_canopy_height_2010_v1-0.tif \n",
            "Task created\n",
            "Finished upload\n",
            "Found 2 files\n",
            "Processing projects/global-mangrove-watch/mangrove-properties/mangrove_max_canopy_height_1996-2016/mangrove_max_canopy_height_2015_v1-0\n",
            "earthengine --no-use_cloud_api upload image --asset_id=projects/global-mangrove-watch/mangrove-properties/mangrove_max_canopy_height_1996-2016/mangrove_max_canopy_height_2015_v1-0 --force --pyramiding_policy=mean --time_start=2015-01-01T12:00:00 --nodata_value=0 --bands=max_canopy_height --property=version='1.0' --property=provider='GMW' --property=doi='' --property=citation='' --property=resolution='30m' --property=units='metres' gs://mangrove_atlas/mangrove-properties/processed/mangrove_max_canopy_height_1996-2016/mangrove_max_canopy_height_2015_v1-0.tif \n",
            "Task created\n",
            "Finished upload\n",
            "Found 2 files\n",
            "Processing projects/global-mangrove-watch/mangrove-properties/mangrove_max_canopy_height_1996-2016/mangrove_max_canopy_height_2016_v1-0\n",
            "earthengine --no-use_cloud_api upload image --asset_id=projects/global-mangrove-watch/mangrove-properties/mangrove_max_canopy_height_1996-2016/mangrove_max_canopy_height_2016_v1-0 --force --pyramiding_policy=mean --time_start=2016-01-01T12:00:00 --nodata_value=0 --bands=max_canopy_height --property=version='1.0' --property=provider='GMW' --property=doi='' --property=citation='' --property=resolution='30m' --property=units='metres' gs://mangrove_atlas/mangrove-properties/processed/mangrove_max_canopy_height_1996-2016/mangrove_max_canopy_height_2016_v1-0.tif \n",
            "Task created\n",
            "Finished upload\n"
          ],
          "name": "stdout"
        }
      ]
    },
    {
      "cell_type": "code",
      "metadata": {
        "id": "sgaM0mAKqk9j",
        "colab_type": "code",
        "outputId": "465efd11-5c02-4f64-8b49-a93ed0671ac6",
        "colab": {
          "base_uri": "https://localhost:8080/",
          "height": 34
        }
      },
      "source": [
        "!earthengine --no-use_cloud_api upload image --asset_id=projects/global-mangrove-watch/mangrove-properties/mangrove_max_canopy_height_1996-2016/mangrove_max_canopy_height_1996_v1-0 --force --pyramiding_policy=mean --time_start=1996-01-01T12:00:00 --nodata_value=0 --bands=max_canopy_height --property=version='1.0' --property=provider='GMW' --property=doi='' --property=citation='' --property=resolution='30m' --property=units='metres' 'gs://mangrove_atlas/mangrove-properties/processed/mangrove_max_canopy_height_1996-2016/mangrove_max_canopy_height_1996_v1-0.tif'\n",
        "\n"
      ],
      "execution_count": 0,
      "outputs": [
        {
          "output_type": "stream",
          "text": [
            "Started upload task with ID: OBP3RQ2WMC7QCNS3MJQCJY5Z\n"
          ],
          "name": "stdout"
        }
      ]
    },
    {
      "cell_type": "code",
      "metadata": {
        "id": "6I7YHfpQIKwX",
        "colab_type": "code",
        "colab": {}
      },
      "source": [
        "import os\n",
        "# Upload to GEE imageCollecion asset\n",
        "# @todo check all images have been uploaded to ImageCollection\n",
        "# @todo check if there is a 200 tasks limit\n",
        "\n",
        "\n",
        "# Define asset path\n",
        "assetP=\"projects/global-mangrove-watch/mangrove-properties\"\n",
        "\n",
        "# Define common metadata for the layers\n",
        "# for units use definitions in https://www.unidata.ucar.edu/software/udunits/udunits-current/udunits/\n",
        "properties = {'version':\"'1.0'\",'provider':\"'GMW'\",'doi':\"''\",'citation':\"''\",'resolution':\"'30m'\"}\n",
        "nodata_value=0\n",
        "pyramiding_policy=\"mean\"\n",
        "\n",
        "# Define specific metadata and generate tasks\n",
        "\n",
        "# Hmax\n",
        "year_list = [1996,2007,2008,2009,2010,2015,2016]\n",
        "for year in year_list:\n",
        "  file_path=\"gs://{}/mangrove-properties/processed/mangrove_maximum_canopy_height_{}_v1-0/*.tif\".format(os.environ.get('MA_BUCKET'), year)\n",
        "  #print(file_path)\n",
        "  asset_path=\"projects/global-mangrove-watch/mangrove-properties/mangrove_maximum_canopy_height_biomass_{}_v1-0_collection\".format(year)\n",
        "  #print(asset_path)\n",
        "  properties['units']=\"'metres'\"\n",
        "  bands=\"max_canopy_height\"\n",
        "  # time_start should be ISO8061\n",
        "  time_start=\"{}-01-01T12:00:00\".format(year)\n",
        "  #print(properties)\n",
        "  gee_upload_images_to_collection(file_path, asset_path, pyramiding_policy, bands, time_start, nodata_value, force=True, properties=properties)\n",
        "\n",
        "\n"
      ],
      "execution_count": 0,
      "outputs": []
    },
    {
      "cell_type": "markdown",
      "metadata": {
        "id": "ZurmqoFUyXBT",
        "colab_type": "text"
      },
      "source": [
        ""
      ]
    },
    {
      "cell_type": "markdown",
      "metadata": {
        "id": "_MmyjCTX2PtM",
        "colab_type": "text"
      },
      "source": [
        "## Canopy height"
      ]
    },
    {
      "cell_type": "code",
      "metadata": {
        "id": "8AthIyZv2zFC",
        "colab_type": "code",
        "outputId": "b6faf267-60af-4b82-ab06-90d8c3557031",
        "colab": {
          "base_uri": "https://localhost:8080/",
          "height": 243
        }
      },
      "source": [
        "%%bash\n",
        "# Get mangrove-properties data\n",
        "mkdir -p $MA_BUCKET/mangrove-properties/images\n",
        "gsutil -m cp -r gs://$MA_BUCKET/mangrove-properties/gmw_hgt_simard_etal_tif.tar.gz $MA_BUCKET/mangrove-properties\n",
        "tar xvzf $MA_BUCKET/mangrove-properties/gmw_hgt_simard_etal_tif.tar.gz -C $MA_BUCKET/mangrove-properties/images\n",
        "rm -r $MA_BUCKET/mangrove-properties/gmw_hgt_simard_etal_tif.tar.gz"
      ],
      "execution_count": 0,
      "outputs": [
        {
          "output_type": "stream",
          "text": [
            "IOPub data rate exceeded.\n",
            "The notebook server will temporarily stop sending output\n",
            "to the client in order to avoid crashing it.\n",
            "To change this limit, set the config variable\n",
            "`--NotebookApp.iopub_data_rate_limit`.\n",
            "\n",
            "Current values:\n",
            "NotebookApp.iopub_data_rate_limit=1000000.0 (bytes/sec)\n",
            "NotebookApp.rate_limit_window=3.0 (secs)\n",
            "\n",
            "Copying gs://mangrove_atlas/mangrove-properties/gmw_hgt_simard_etal_tif.tar.gz...\n",
            "| [1/1 files][  4.0 GiB/  4.0 GiB] 100% Done  28.6 MiB/s ETA 00:00:00           \n",
            "Operation completed over 1 objects/4.0 GiB.                                      \n"
          ],
          "name": "stderr"
        }
      ]
    },
    {
      "cell_type": "code",
      "metadata": {
        "id": "IKp6qVSy8HlQ",
        "colab_type": "code",
        "colab": {}
      },
      "source": [
        "ls -lhS $MA_BUCKET/mangrove-properties/images/gmw_hgt_simard_etal/hba/1996"
      ],
      "execution_count": 0,
      "outputs": []
    },
    {
      "cell_type": "code",
      "metadata": {
        "id": "fhmc0vG33Hnu",
        "colab_type": "code",
        "outputId": "bcfbfb77-dc4b-4701-ffaf-bcf26b3061ed",
        "colab": {
          "base_uri": "https://localhost:8080/",
          "height": 191
        }
      },
      "source": [
        "%%bash\n",
        "# Push back to GCS (so we can ingest in GEE!!)\n",
        "# hba\n",
        "y=1996\n",
        "gsutil -m cp $MA_BUCKET/mangrove-properties/images/gmw_hgt_simard_etal/hba/${y}/*_hgt_hba_gmw_${y}.tif \\\n",
        "gs://$MA_BUCKET/mangrove-properties/processed/mangrove_basal-area_weighted_height_${y}_v1-0/\n",
        "y=2007\n",
        "gsutil -m cp $MA_BUCKET/mangrove-properties/images/gmw_hgt_simard_etal/hba/${y}/*_hgt_hba_gmw_${y}.tif \\\n",
        "gs://$MA_BUCKET/mangrove-properties/processed/mangrove_basal-area_weighted_height_${y}_v1-0/\n",
        "y=2008\n",
        "gsutil -m cp $MA_BUCKET/mangrove-properties/images/gmw_hgt_simard_etal/hba/${y}/*_hgt_hba_gmw_${y}.tif \\\n",
        "gs://$MA_BUCKET/mangrove-properties/processed/mangrove_basal-area_weighted_height_${y}_v1-0/\n",
        "y=2009\n",
        "gsutil -m cp $MA_BUCKET/mangrove-properties/images/gmw_hgt_simard_etal/hba/${y}/*_hgt_hba_gmw_${y}.tif \\\n",
        "gs://$MA_BUCKET/mangrove-properties/processed/mangrove_basal-area_weighted_height_${y}_v1-0/\n",
        "y=2010\n",
        "gsutil -m cp $MA_BUCKET/mangrove-properties/images/gmw_hgt_simard_etal/hba/${y}/*_hgt_hba_gmw_${y}.tif \\\n",
        "gs://$MA_BUCKET/mangrove-properties/processed/mangrove_basal-area_weighted_height_${y}_v1-0/\n",
        "y=2015\n",
        "gsutil -m cp $MA_BUCKET/mangrove-properties/images/gmw_hgt_simard_etal/hba/${y}/*_hgt_hba_gmw_${y}.tif \\\n",
        "gs://$MA_BUCKET/mangrove-properties/processed/mangrove_basal-area_weighted_height_${y}_v1-0/\n",
        "y=2016\n",
        "gsutil -m cp $MA_BUCKET/mangrove-properties/images/gmw_hgt_simard_etal/hba/${y}/*_hgt_hba_gmw_${y}.tif \\\n",
        "gs://$MA_BUCKET/mangrove-properties/processed/mangrove_basal-area_weighted_height_${y}_v1-0/\n",
        "\n",
        "# hmax\n",
        "y=1996\n",
        "gsutil -m cp $MA_BUCKET/mangrove-properties/images/gmw_hgt_simard_etal/hmax/${y}/*_hgt_hmax_gmw_${y}.tif \\\n",
        "gs://$MA_BUCKET/mangrove-properties/processed/mangrove_max_canopy_height_${y}_v1-0/\n",
        "  y=2007\n",
        "gsutil -m cp $MA_BUCKET/mangrove-properties/images/gmw_hgt_simard_etal/hmax/${y}/*_hgt_hmax_gmw_${y}.tif \\\n",
        "gs://$MA_BUCKET/mangrove-properties/processed/mangrove_max_canopy_height_${y}_v1-0/\n",
        "  y=2008\n",
        "gsutil -m cp $MA_BUCKET/mangrove-properties/images/gmw_hgt_simard_etal/hmax/${y}/*_hgt_hmax_gmw_${y}.tif \\\n",
        "gs://$MA_BUCKET/mangrove-properties/processed/mangrove_max_canopy_height_${y}_v1-0/\n",
        "  y=2009\n",
        "gsutil -m cp $MA_BUCKET/mangrove-properties/images/gmw_hgt_simard_etal/hmax/${y}/*_hgt_hmax_gmw_${y}.tif \\\n",
        "gs://$MA_BUCKET/mangrove-properties/processed/mangrove_max_canopy_height_${y}_v1-0/\n",
        "  y=2010\n",
        "gsutil -m cp $MA_BUCKET/mangrove-properties/images/gmw_hgt_simard_etal/hmax/${y}/*_hgt_hmax_gmw_${y}.tif \\\n",
        "gs://$MA_BUCKET/mangrove-properties/processed/mangrove_max_canopy_height_${y}_v1-0/\n",
        "  y=2015\n",
        "gsutil -m cp $MA_BUCKET/mangrove-properties/images/gmw_hgt_simard_etal/hmax/${y}/*_hgt_hmax_gmw_${y}.tif \\\n",
        "gs://$MA_BUCKET/mangrove-properties/processed/mangrove_max_canopy_height_${y}_v1-0/\n",
        "  y=2016\n",
        "gsutil -m cp $MA_BUCKET/mangrove-properties/images/gmw_hgt_simard_etal/hmax/${y}/*_hgt_hmax_gmw_${y}.tif \\\n",
        "gs://$MA_BUCKET/mangrove-properties/processed/mangrove_max_canopy_height_${y}_v1-0/"
      ],
      "execution_count": 0,
      "outputs": [
        {
          "output_type": "stream",
          "text": [
            "IOPub data rate exceeded.\n",
            "The notebook server will temporarily stop sending output\n",
            "to the client in order to avoid crashing it.\n",
            "To change this limit, set the config variable\n",
            "`--NotebookApp.iopub_data_rate_limit`.\n",
            "\n",
            "Current values:\n",
            "NotebookApp.iopub_data_rate_limit=1000000.0 (bytes/sec)\n",
            "NotebookApp.rate_limit_window=3.0 (secs)\n",
            "\n"
          ],
          "name": "stderr"
        }
      ]
    },
    {
      "cell_type": "code",
      "metadata": {
        "id": "YnZksaDh4VRc",
        "colab_type": "code",
        "colab": {}
      },
      "source": [
        "%%bash\n",
        "# Clean up\n",
        "rm -r $MA_BUCKET/mangrove-properties/gmw_hgt_simard_etal_tif.tar.gz\n",
        "rm -r $MA_BUCKET/mangrove-properties/images"
      ],
      "execution_count": 0,
      "outputs": []
    },
    {
      "cell_type": "markdown",
      "metadata": {
        "id": "w1tazD2l4gY9",
        "colab_type": "text"
      },
      "source": [
        "## Year 2000 data"
      ]
    },
    {
      "cell_type": "code",
      "metadata": {
        "id": "r9dyAllUjvRP",
        "colab_type": "code",
        "outputId": "549ceaef-a1cc-4d5f-fa9c-ade5c981314c",
        "colab": {
          "base_uri": "https://localhost:8080/",
          "height": 69
        }
      },
      "source": [
        "%%bash\n",
        "# Get mangrove-properties data\n",
        "#mkdir -p $MA_BUCKET/mangrove-properties/images\n",
        "#gsutil -m cp -r gs://$MA_BUCKET/mangrove-properties/CMS_Global_Map_Mangrove_Canopy_1665.zip $MA_BUCKET/mangrove-properties"
      ],
      "execution_count": 0,
      "outputs": [
        {
          "output_type": "stream",
          "text": [
            "Copying gs://ma-data/mangrove-properties/CMS_Global_Map_Mangrove_Canopy_1665.zip...\n",
            "/ [0/1 files][    0.0 B/  1.2 GiB]   0% Done                                    \r-\r- [0/1 files][ 53.6 MiB/  1.2 GiB]   4% Done                                    \r\\\r|\r| [0/1 files][132.5 MiB/  1.2 GiB]  11% Done                                    \r/\r/ [0/1 files][222.0 MiB/  1.2 GiB]  18% Done                                    \r-\r\\\r\\ [0/1 files][305.8 MiB/  1.2 GiB]  25% Done                                    \r|\r/\r/ [0/1 files][394.2 MiB/  1.2 GiB]  33% Done                                    \r-\r- [0/1 files][480.1 MiB/  1.2 GiB]  40% Done                                    \r\\\r|\r| [0/1 files][564.6 MiB/  1.2 GiB]  47% Done                                    \r/\r-\r- [0/1 files][652.8 MiB/  1.2 GiB]  55% Done                                    \r\\\r\\ [0/1 files][741.2 MiB/  1.2 GiB]  62% Done                                    \r|\r/\r/ [0/1 files][820.6 MiB/  1.2 GiB]  69% Done                                    \r-\r\\\r\\ [0/1 files][906.2 MiB/  1.2 GiB]  76% Done  85.1 MiB/s ETA 00:00:03           \r|\r| [0/1 files][988.7 MiB/  1.2 GiB]  83% Done  84.7 MiB/s ETA 00:00:02           \r/\r-\r- [0/1 files][  1.1 GiB/  1.2 GiB]  90% Done  84.8 MiB/s ETA 00:00:01           \r\\\r|\r| [0/1 files][  1.1 GiB/  1.2 GiB]  98% Done  84.5 MiB/s ETA 00:00:00           \r| [1/1 files][  1.2 GiB/  1.2 GiB] 100% Done  84.4 MiB/s ETA 00:00:00           \r\n",
            "Operation completed over 1 objects/1.2 GiB.                                      \n"
          ],
          "name": "stderr"
        }
      ]
    },
    {
      "cell_type": "code",
      "metadata": {
        "id": "BI43HA1z8P-a",
        "colab_type": "code",
        "colab": {}
      },
      "source": [
        "!ls ma-data/mangrove-properties/images"
      ],
      "execution_count": 0,
      "outputs": []
    },
    {
      "cell_type": "code",
      "metadata": {
        "id": "lVlT0jxqb9EQ",
        "colab_type": "code",
        "colab": {}
      },
      "source": [
        "# Unzip images\n",
        "%time\n",
        "#import shutil\n",
        "#import os\n",
        "#p1 = os.environ.get('MA_BUCKET') + '/mangrove-properties/CMS_Global_Map_Mangrove_Canopy_1665.zip' \n",
        "#p2 = os.environ.get('MA_BUCKET') + 'mangrove-properties/images' \n",
        "#shutil.unpack_archive(p1, p2)\n",
        "#unzip -o ma-data/mangrove-properties/CMS_Global_Map_Mangrove_Canopy_1665.zip -d ma-data/mangrove-properties/images"
      ],
      "execution_count": 0,
      "outputs": []
    },
    {
      "cell_type": "code",
      "metadata": {
        "id": "_e4A1yRn7Y8c",
        "colab_type": "code",
        "outputId": "54240f77-1a6c-4f60-d27a-7e2f4bc0bb43",
        "colab": {
          "base_uri": "https://localhost:8080/",
          "height": 72
        }
      },
      "source": [
        "%%bash\n",
        "# Merge into single rasters\n",
        "#mkdir -p ma-data/mangrove-properties/processed\n",
        "\n",
        "# AGB\n",
        "#gdalwarp \\\n",
        "#ma-data/mangrove-properties/images/CMS_Global_Map_Mangrove_Canopy_1665/data/Mangrove_agb_*.tif \\\n",
        "#ma-data/mangrove-properties/processed/mangrove_aboveground_biomass_2000_v1-2.tif \\\n",
        "#-srcnodata 0 \\\n",
        "#-dstnodata 0"
      ],
      "execution_count": 0,
      "outputs": [
        {
          "output_type": "stream",
          "text": [
            "Creating output file that is 1296001P x 252001L.\n"
          ],
          "name": "stdout"
        },
        {
          "output_type": "stream",
          "text": [
            "ERROR 3: Free disk space available is 14858256384 bytes, whereas 1306374192004 are at least necessary. You can disable this check by defining the CHECK_DISK_FREE_SPACE configuration option to FALSE.\n"
          ],
          "name": "stderr"
        }
      ]
    },
    {
      "cell_type": "code",
      "metadata": {
        "id": "9h6mwTB6n2VZ",
        "colab_type": "code",
        "colab": {}
      },
      "source": [
        "# Push back to GCS (so we can ingest in GEE!!)\n",
        "#!gsutil -m cp ma-data/mangrove-properties/images/CMS_Global_Map_Mangrove_Canopy_1665/data/Mangrove_agb_*.tif gs://ma-data/mangrove-properties/processed/mangrove_aboveground_biomass_2000_v1-2\n",
        "#!gsutil -m cp ma-data/mangrove-properties/images/CMS_Global_Map_Mangrove_Canopy_1665/data/Mangrove_hmax95_*.tif gs://ma-data/mangrove-properties/processed/mangrove_max_canopy_height_2000_v1-2\n",
        "#!gsutil -m cp ma-data/mangrove-properties/images/CMS_Global_Map_Mangrove_Canopy_1665/data/Mangrove_hba95_*.tif gs://ma-data/mangrove-properties/processed/mangrove_basal-area_weighted_height_2000_v1-2  "
      ],
      "execution_count": 0,
      "outputs": []
    },
    {
      "cell_type": "code",
      "metadata": {
        "id": "cJkzwH6jkZoF",
        "colab_type": "code",
        "colab": {}
      },
      "source": [
        "# Check info for an image\n",
        "!gdalinfo ma-data/mangrove-properties/images/CMS_Global_Map_Mangrove_Canopy_1665/data/Mangrove_agb_Brazil.tif"
      ],
      "execution_count": 0,
      "outputs": []
    },
    {
      "cell_type": "code",
      "metadata": {
        "id": "57Y9hHAOte6n",
        "colab_type": "code",
        "colab": {}
      },
      "source": [
        "def get_gs_files(path, extension, format_manifest=False):\n",
        "  \n",
        "  cmd = \"\".join([\"gsutil ls \", path,  \"/*\", extension])\n",
        "  print(cmd)\n",
        "  out=os.popen(cmd).read().split('\\n')\n",
        "  if format_manifest:\n",
        "    out = [{'primaryPath': source} for source in out]\n",
        "  return out  \n",
        "\n",
        "get_gs_files(\"gs://ma-data/mangrove-properties/processed/mangrove_aboveground_biomass_2000_v1-2\", \".tif\", True)"
      ],
      "execution_count": 0,
      "outputs": []
    },
    {
      "cell_type": "code",
      "metadata": {
        "id": "SUxkaNthks3B",
        "colab_type": "code",
        "colab": {}
      },
      "source": [
        "# Prepare upload manifest for each layer\n",
        "import os\n",
        "\n",
        "def get_gs_files(path, extension, format_manifest=False):\n",
        "  \n",
        "  cmd = \"\".join([\"gsutil ls \", path,  \"/*\", extension])\n",
        "  #print(cmd)\n",
        "  out=os.popen(cmd).read().split('\\n')\n",
        "  if format_manifest:\n",
        "    out = [{'primaryPath': source} for source in out]\n",
        "  return out  \n",
        "\n",
        "# Get GCS asset file list\n",
        "agb_path=\"gs://ma-data/mangrove-properties/processed/mangrove_aboveground_biomass_2000_v1-2\"\n",
        "hmax_path=\"gs://ma-data/mangrove-properties/processed/mangrove_max_canopy_height_2000_v1-2\"\n",
        "hba_path=\"gs://ma-data/mangrove-properties/processed/mangrove_basal-area_weighted_height_2000_v1-2\"\n",
        "\n",
        "files_agb = get_gs_files(agb_path, \".tif\", True)\n",
        "files_hmax = get_gs_files(hmax_path, \".tif\", True)\n",
        "files_hba =  get_gs_files(hba_path, \".tif\", True)\n",
        "\n",
        "# Define base asset path\n",
        "assetP=\"projects/global-mangrove-watch/mangrove-properties\"\n",
        "\n",
        "# Define common metadata for the layers\n",
        "# for units use definitions in https://www.unidata.ucar.edu/software/udunits/udunits-current/udunits/\n",
        "strVer=\"1.2\"\n",
        "strProv=\"NASA-ORNL-DAAC\"\n",
        "strDOI=\"https://doi.org/10.3334/ORNLDAAC/1665\"\n",
        "strCite=\"<p>Simard et al. (2019) “Mangrove canopy height globally related to precipitation, temperature and cyclone frequency.” Nature Geoscience 12:40-45. <a href=\\\"https://daac.ornl.gov/cgi-bin/dsviewer.pl?ds_id=1665\\\">Download</a></p>\"\n",
        "strRes=\"30m\"\n",
        "# time_start should be ISO8061\n",
        "strTS=\"2000-01-01T12:00:00\"\n",
        "nodata_value=0\n",
        "pyramiding_policy=\"mean\"\n"
      ],
      "execution_count": 0,
      "outputs": []
    },
    {
      "cell_type": "code",
      "metadata": {
        "id": "5fueJUKJ1el0",
        "colab_type": "code",
        "outputId": "bf8f4607-cdab-4d4e-c5fe-47a04d6d0e00",
        "colab": {
          "base_uri": "https://localhost:8080/",
          "height": 69
        }
      },
      "source": [
        "# Create upload manifest for biomass\n",
        "# AGB\n",
        "assetID = \"mangrove_aboveground_biomass_2000_v1-2\"\n",
        "data_agb = {\n",
        "  \"id\": assetP + \"/\" + assetID,\n",
        "  \"pyramidingPolicy\" : \"mean\",  \n",
        "  \"bands\": [\n",
        "    {\n",
        "      \"id\": \"agb_biomass\"\n",
        "    }\n",
        "  ],\n",
        "  \"missingData\": {\n",
        "    \"value\": \"0\"\n",
        "  },\n",
        "  \"properties\": {\n",
        "    \"provider\": strProv,\n",
        "    \"version\" : strVer,\n",
        "    \"citation\" : strCite,\n",
        "    \"doi\" : strDOI,  \n",
        "    \"resolution\" : strRes,\n",
        "    \"system:time_start\": strTS,\n",
        "    \"gcs_path\": agb_path,\n",
        "    \"units\" : \"milligram per hectare\",\n",
        "    \"product_type\": \"raster\",\n",
        "    \"number_of_bands\": \"1\",\n",
        "    \"epsg_code\": \"\",\n",
        "    \"resampling_kernel\": \"\",\n",
        "    \"number_of_rows\": \"\",\n",
        "    \"number_of_columns\": \"\"},\n",
        "  \"tilesets\": [\n",
        "    {\n",
        "      \"sources\": [\n",
        "        files_agb\n",
        "      ]\n",
        "    }\n",
        "  ]\n",
        "}\n",
        "\n",
        "import json\n",
        "f = assetID + '.json'\n",
        "print(f)\n",
        "with open(f, 'w') as outfile:\n",
        "    json.dump(data_agb, outfile)\n",
        "    \n",
        "cmd = \"gsutil cp \" + f + \" gs://ma-data/ee-upload-manifests/\"\n",
        "print(cmd)\n",
        "os.system(cmd)"
      ],
      "execution_count": 0,
      "outputs": [
        {
          "output_type": "stream",
          "text": [
            "mangrove_aboveground_biomass_2000_v1-2.json\n",
            "gsutil cp mangrove_aboveground_biomass_2000_v1-2.json gs://ma-data/ee-upload-manifests/\n"
          ],
          "name": "stdout"
        },
        {
          "output_type": "execute_result",
          "data": {
            "text/plain": [
              "0"
            ]
          },
          "metadata": {
            "tags": []
          },
          "execution_count": 55
        }
      ]
    },
    {
      "cell_type": "code",
      "metadata": {
        "id": "W6vWqzvf6QGI",
        "colab_type": "code",
        "outputId": "9a89158e-d3f2-4148-9171-190b58855c73",
        "colab": {
          "base_uri": "https://localhost:8080/",
          "height": 69
        }
      },
      "source": [
        "# Create upload manifest for canopy height\n",
        "assetID = \"mangrove_max_canopy_height_2000_v1-2\"\n",
        "data_hmax = {\n",
        "  \"id\": os.path.join(assetP, assetID),\n",
        "  \"pyramidingPolicy\" : \"mean\",  \n",
        "  \"bands\": [\n",
        "    {\n",
        "      \"id\": \"max_canopy_height\"\n",
        "    }\n",
        "  ],\n",
        "  \"missingData\": {\n",
        "    \"value\": \"0\"\n",
        "  },\n",
        "  \"properties\": {\n",
        "    \"provider\": strProv,\n",
        "    \"version\" : strVer,\n",
        "    \"citation\" : strCite,\n",
        "    \"doi\" : strDOI,  \n",
        "    \"resolution\" : strRes,\n",
        "    \"system:time_start\": strTS,\n",
        "    \"gcs_path\": hmax_path,\n",
        "    \"units\" : \"meter\",\n",
        "    \"product_type\": \"raster\",\n",
        "    \"number_of_bands\": \"1\",\n",
        "    \"epsg_code\": \"\",\n",
        "    \"resampling_kernel\": \"\",\n",
        "    \"number_of_rows\": \"\",\n",
        "    \"number_of_columns\": \"\"},\n",
        "  \"tilesets\": [\n",
        "    {\n",
        "      \"sources\": [\n",
        "        files_hmax\n",
        "      ]\n",
        "    }\n",
        "  ]\n",
        "}\n",
        "\n",
        "import json\n",
        "f = assetID + '.json'\n",
        "print(f)\n",
        "with open(f, 'w') as outfile:\n",
        "    json.dump(data_agb, outfile)\n",
        "    \n",
        "cmd = \"gsutil cp \" + f + \" gs://ma-data/ee-upload-manifests/\"\n",
        "print(cmd)\n",
        "os.system(cmd)"
      ],
      "execution_count": 0,
      "outputs": [
        {
          "output_type": "stream",
          "text": [
            "mangrove_max_canopy_height_2000_v1-2.json\n",
            "gsutil cp mangrove_max_canopy_height_2000_v1-2.json gs://ma-data/ee-upload-manifests/\n"
          ],
          "name": "stdout"
        },
        {
          "output_type": "execute_result",
          "data": {
            "text/plain": [
              "0"
            ]
          },
          "metadata": {
            "tags": []
          },
          "execution_count": 56
        }
      ]
    },
    {
      "cell_type": "code",
      "metadata": {
        "id": "vKMAAQS260NW",
        "colab_type": "code",
        "outputId": "f83cda4b-adc8-4b8e-c838-179b001b3783",
        "colab": {
          "base_uri": "https://localhost:8080/",
          "height": 69
        }
      },
      "source": [
        "# Create upload manifest for ba height\n",
        "assetID = \"mangrove_basal-area_weighted_height_2000_v1-2\"\n",
        "data_hmax = {\n",
        "  \"id\": os.path.join(assetP, assetID),\n",
        "  \"pyramidingPolicy\" : \"mean\",  \n",
        "  \"bands\": [\n",
        "    {\n",
        "      \"id\": \"ba_weighted_height\"\n",
        "    }\n",
        "  ],\n",
        "  \"missingData\": {\n",
        "    \"value\": \"0\"\n",
        "  },\n",
        "  \"properties\": {\n",
        "    \"provider\": strProv,\n",
        "    \"version\" : strVer,\n",
        "    \"citation\" : strCite,\n",
        "    \"doi\" : strDOI,  \n",
        "    \"resolution\" : strRes,\n",
        "    \"system:time_start\": strTS,\n",
        "    \"gcs_path\": hba_path,\n",
        "    \"units\" : \"meter\",\n",
        "    \"product_type\": \"raster\",\n",
        "    \"number_of_bands\": \"1\",\n",
        "    \"epsg_code\": \"\",\n",
        "    \"resampling_kernel\": \"\",\n",
        "    \"number_of_rows\": \"\",\n",
        "    \"number_of_columns\": \"\"},\n",
        "  \"tilesets\": [\n",
        "    {\n",
        "      \"sources\": [\n",
        "        files_hba\n",
        "      ]\n",
        "    }\n",
        "  ]\n",
        "}\n",
        "\n",
        "import json\n",
        "f = assetID + '.json'\n",
        "print(f)\n",
        "with open(f, 'w') as outfile:\n",
        "    json.dump(data_agb, outfile)\n",
        "    \n",
        "cmd = \"gsutil cp \" + f + \" gs://ma-data/ee-upload-manifests/\"\n",
        "print(cmd)\n",
        "os.system(cmd)"
      ],
      "execution_count": 0,
      "outputs": [
        {
          "output_type": "stream",
          "text": [
            "mangrove_basal-area_weighted_height_2000_v1-2.json\n",
            "gsutil cp mangrove_basal-area_weighted_height_2000_v1-2.json gs://ma-data/ee-upload-manifests/\n"
          ],
          "name": "stdout"
        },
        {
          "output_type": "execute_result",
          "data": {
            "text/plain": [
              "0"
            ]
          },
          "metadata": {
            "tags": []
          },
          "execution_count": 57
        }
      ]
    },
    {
      "cell_type": "code",
      "metadata": {
        "id": "Itflcs9b7ozH",
        "colab_type": "code",
        "outputId": "a6e45da1-3cc4-4537-e29b-fc9b5a5906c0",
        "colab": {
          "base_uri": "https://localhost:8080/",
          "height": 35
        }
      },
      "source": [
        "\n",
        "!earthengine upload image --force --manifest mangrove_aboveground_biomass_2000_v1-2.json"
      ],
      "execution_count": 0,
      "outputs": [
        {
          "output_type": "stream",
          "text": [
            "Malformed JSON provided.\n"
          ],
          "name": "stdout"
        }
      ]
    },
    {
      "cell_type": "code",
      "metadata": {
        "id": "Z7FJK_hv8sse",
        "colab_type": "code",
        "outputId": "d9765911-4204-44b6-d139-fb37ffc45eb3",
        "colab": {
          "base_uri": "https://localhost:8080/",
          "height": 55
        }
      },
      "source": [
        "cat mangrove_aboveground_biomass_2000_v1-2.json"
      ],
      "execution_count": 0,
      "outputs": [
        {
          "output_type": "stream",
          "text": [
            "{\"id\": \"projects/global-mangrove-watch/mangrove-properties/mangrove_aboveground_biomass_2000_v1-2\", \"pyramidingPolicy\": \"mean\", \"bands\": [{\"id\": \"agb_biomass\"}], \"missingData\": {\"value\": \"0\"}, \"properties\": {\"provider\": \"NASA-ORNL-DAAC\", \"version\": \"1.2\", \"citation\": \"<p>Simard et al. (2019) \\u201cMangrove canopy height globally related to precipitation, temperature and cyclone frequency.\\u201d Nature Geoscience 12:40-45. <a href=\\\"https://daac.ornl.gov/cgi-bin/dsviewer.pl?ds_id=1665\\\">Download</a></p>\", \"doi\": \"https://doi.org/10.3334/ORNLDAAC/1665\", \"resolution\": \"30m\", \"system:time_start\": \"2000-01-01T12:00:00\", \"gcs_path\": \"gs://ma-data/mangrove-properties/processed/mangrove_aboveground_biomass_2000_v1-2\", \"units\": \"milligram per hectare\", \"product_type\": \"raster\", \"number_of_bands\": \"1\", \"epsg_code\": \"\", \"resampling_kernel\": \"\", \"number_of_rows\": \"\", \"number_of_columns\": \"\"}, \"tilesets\": [{\"sources\": [[{\"primaryPath\": \"gs://ma-data/mangrove-properties/processed/mangrove_aboveground_biomass_2000_v1-2/Mangrove_agb_AndamanAndNicobar.tif\"}, {\"primaryPath\": \"gs://ma-data/mangrove-properties/processed/mangrove_aboveground_biomass_2000_v1-2/Mangrove_agb_Angola.tif\"}, {\"primaryPath\": \"gs://ma-data/mangrove-properties/processed/mangrove_aboveground_biomass_2000_v1-2/Mangrove_agb_Anguilla.tif\"}, {\"primaryPath\": \"gs://ma-data/mangrove-properties/processed/mangrove_aboveground_biomass_2000_v1-2/Mangrove_agb_AntiguaAndBarbuda.tif\"}, {\"primaryPath\": \"gs://ma-data/mangrove-properties/processed/mangrove_aboveground_biomass_2000_v1-2/Mangrove_agb_Aruba.tif\"}, {\"primaryPath\": \"gs://ma-data/mangrove-properties/processed/mangrove_aboveground_biomass_2000_v1-2/Mangrove_agb_Australia.tif\"}, {\"primaryPath\": \"gs://ma-data/mangrove-properties/processed/mangrove_aboveground_biomass_2000_v1-2/Mangrove_agb_Bahamas.tif\"}, {\"primaryPath\": \"gs://ma-data/mangrove-properties/processed/mangrove_aboveground_biomass_2000_v1-2/Mangrove_agb_Bahrain.tif\"}, {\"primaryPath\": \"gs://ma-data/mangrove-properties/processed/mangrove_aboveground_biomass_2000_v1-2/Mangrove_agb_Bangladesh.tif\"}, {\"primaryPath\": \"gs://ma-data/mangrove-properties/processed/mangrove_aboveground_biomass_2000_v1-2/Mangrove_agb_Barbados.tif\"}, {\"primaryPath\": \"gs://ma-data/mangrove-properties/processed/mangrove_aboveground_biomass_2000_v1-2/Mangrove_agb_Belize.tif\"}, {\"primaryPath\": \"gs://ma-data/mangrove-properties/processed/mangrove_aboveground_biomass_2000_v1-2/Mangrove_agb_Benin.tif\"}, {\"primaryPath\": \"gs://ma-data/mangrove-properties/processed/mangrove_aboveground_biomass_2000_v1-2/Mangrove_agb_Brazil.tif\"}, {\"primaryPath\": \"gs://ma-data/mangrove-properties/processed/mangrove_aboveground_biomass_2000_v1-2/Mangrove_agb_BritishVirginIslands.tif\"}, {\"primaryPath\": \"gs://ma-data/mangrove-properties/processed/mangrove_aboveground_biomass_2000_v1-2/Mangrove_agb_Brunei.tif\"}, {\"primaryPath\": \"gs://ma-data/mangrove-properties/processed/mangrove_aboveground_biomass_2000_v1-2/Mangrove_agb_Cambodia.tif\"}, {\"primaryPath\": \"gs://ma-data/mangrove-properties/processed/mangrove_aboveground_biomass_2000_v1-2/Mangrove_agb_Cameroon.tif\"}, {\"primaryPath\": \"gs://ma-data/mangrove-properties/processed/mangrove_aboveground_biomass_2000_v1-2/Mangrove_agb_CarribeanCaymanIslands.tif\"}, {\"primaryPath\": \"gs://ma-data/mangrove-properties/processed/mangrove_aboveground_biomass_2000_v1-2/Mangrove_agb_China.tif\"}, {\"primaryPath\": \"gs://ma-data/mangrove-properties/processed/mangrove_aboveground_biomass_2000_v1-2/Mangrove_agb_Colombia.tif\"}, {\"primaryPath\": \"gs://ma-data/mangrove-properties/processed/mangrove_aboveground_biomass_2000_v1-2/Mangrove_agb_Comoros.tif\"}, {\"primaryPath\": \"gs://ma-data/mangrove-properties/processed/mangrove_aboveground_biomass_2000_v1-2/Mangrove_agb_CostaRica.tif\"}, {\"primaryPath\": \"gs://ma-data/mangrove-properties/processed/mangrove_aboveground_biomass_2000_v1-2/Mangrove_agb_CoteDivoire.tif\"}, {\"primaryPath\": \"gs://ma-data/mangrove-properties/processed/mangrove_aboveground_biomass_2000_v1-2/Mangrove_agb_Cuba.tif\"}, {\"primaryPath\": \"gs://ma-data/mangrove-properties/processed/mangrove_aboveground_biomass_2000_v1-2/Mangrove_agb_DemocraticRepublicOfCongo.tif\"}, {\"primaryPath\": \"gs://ma-data/mangrove-properties/processed/mangrove_aboveground_biomass_2000_v1-2/Mangrove_agb_Djibouti.tif\"}, {\"primaryPath\": \"gs://ma-data/mangrove-properties/processed/mangrove_aboveground_biomass_2000_v1-2/Mangrove_agb_DominicanRepublic.tif\"}, {\"primaryPath\": \"gs://ma-data/mangrove-properties/processed/mangrove_aboveground_biomass_2000_v1-2/Mangrove_agb_EcuadorWithGalapagos.tif\"}, {\"primaryPath\": \"gs://ma-data/mangrove-properties/processed/mangrove_aboveground_biomass_2000_v1-2/Mangrove_agb_Egypt.tif\"}, {\"primaryPath\": \"gs://ma-data/mangrove-properties/processed/mangrove_aboveground_biomass_2000_v1-2/Mangrove_agb_ElSalvador.tif\"}, {\"primaryPath\": \"gs://ma-data/mangrove-properties/processed/mangrove_aboveground_biomass_2000_v1-2/Mangrove_agb_EquatorialGuinea.tif\"}, {\"primaryPath\": \"gs://ma-data/mangrove-properties/processed/mangrove_aboveground_biomass_2000_v1-2/Mangrove_agb_Eritrea.tif\"}, {\"primaryPath\": \"gs://ma-data/mangrove-properties/processed/mangrove_aboveground_biomass_2000_v1-2/Mangrove_agb_EuropaIsland.tif\"}, {\"primaryPath\": \"gs://ma-data/mangrove-properties/processed/mangrove_aboveground_biomass_2000_v1-2/Mangrove_agb_Fiji.tif\"}, {\"primaryPath\": \"gs://ma-data/mangrove-properties/processed/mangrove_aboveground_biomass_2000_v1-2/Mangrove_agb_Fiji2.tif\"}, {\"primaryPath\": \"gs://ma-data/mangrove-properties/processed/mangrove_aboveground_biomass_2000_v1-2/Mangrove_agb_FrenchGuyana.tif\"}, {\"primaryPath\": \"gs://ma-data/mangrove-properties/processed/mangrove_aboveground_biomass_2000_v1-2/Mangrove_agb_FrenchPolynesia.tif\"}, {\"primaryPath\": \"gs://ma-data/mangrove-properties/processed/mangrove_aboveground_biomass_2000_v1-2/Mangrove_agb_Gabon.tif\"}, {\"primaryPath\": \"gs://ma-data/mangrove-properties/processed/mangrove_aboveground_biomass_2000_v1-2/Mangrove_agb_Gambia.tif\"}, {\"primaryPath\": \"gs://ma-data/mangrove-properties/processed/mangrove_aboveground_biomass_2000_v1-2/Mangrove_agb_Ghana.tif\"}, {\"primaryPath\": \"gs://ma-data/mangrove-properties/processed/mangrove_aboveground_biomass_2000_v1-2/Mangrove_agb_Grenada.tif\"}, {\"primaryPath\": \"gs://ma-data/mangrove-properties/processed/mangrove_aboveground_biomass_2000_v1-2/Mangrove_agb_Guadeloupe.tif\"}, {\"primaryPath\": \"gs://ma-data/mangrove-properties/processed/mangrove_aboveground_biomass_2000_v1-2/Mangrove_agb_Guam.tif\"}, {\"primaryPath\": \"gs://ma-data/mangrove-properties/processed/mangrove_aboveground_biomass_2000_v1-2/Mangrove_agb_Guatemala.tif\"}, {\"primaryPath\": \"gs://ma-data/mangrove-properties/processed/mangrove_aboveground_biomass_2000_v1-2/Mangrove_agb_Guinea.tif\"}, {\"primaryPath\": \"gs://ma-data/mangrove-properties/processed/mangrove_aboveground_biomass_2000_v1-2/Mangrove_agb_GuineaBissau.tif\"}, {\"primaryPath\": \"gs://ma-data/mangrove-properties/processed/mangrove_aboveground_biomass_2000_v1-2/Mangrove_agb_Guyana.tif\"}, {\"primaryPath\": \"gs://ma-data/mangrove-properties/processed/mangrove_aboveground_biomass_2000_v1-2/Mangrove_agb_Haiti.tif\"}, {\"primaryPath\": \"gs://ma-data/mangrove-properties/processed/mangrove_aboveground_biomass_2000_v1-2/Mangrove_agb_Hawaii.tif\"}, {\"primaryPath\": \"gs://ma-data/mangrove-properties/processed/mangrove_aboveground_biomass_2000_v1-2/Mangrove_agb_Honduras.tif\"}, {\"primaryPath\": \"gs://ma-data/mangrove-properties/processed/mangrove_aboveground_biomass_2000_v1-2/Mangrove_agb_HongKong.tif\"}, {\"primaryPath\": \"gs://ma-data/mangrove-properties/processed/mangrove_aboveground_biomass_2000_v1-2/Mangrove_agb_India.tif\"}, {\"primaryPath\": \"gs://ma-data/mangrove-properties/processed/mangrove_aboveground_biomass_2000_v1-2/Mangrove_agb_Indonesia.tif\"}, {\"primaryPath\": \"gs://ma-data/mangrove-properties/processed/mangrove_aboveground_biomass_2000_v1-2/Mangrove_agb_Iran.tif\"}, {\"primaryPath\": \"gs://ma-data/mangrove-properties/processed/mangrove_aboveground_biomass_2000_v1-2/Mangrove_agb_Jamaica.tif\"}, {\"primaryPath\": \"gs://ma-data/mangrove-properties/processed/mangrove_aboveground_biomass_2000_v1-2/Mangrove_agb_Japan.tif\"}, {\"primaryPath\": \"gs://ma-data/mangrove-properties/processed/mangrove_aboveground_biomass_2000_v1-2/Mangrove_agb_Kenya.tif\"}, {\"primaryPath\": \"gs://ma-data/mangrove-properties/processed/mangrove_aboveground_biomass_2000_v1-2/Mangrove_agb_Liberia.tif\"}, {\"primaryPath\": \"gs://ma-data/mangrove-properties/processed/mangrove_aboveground_biomass_2000_v1-2/Mangrove_agb_Macau.tif\"}, {\"primaryPath\": \"gs://ma-data/mangrove-properties/processed/mangrove_aboveground_biomass_2000_v1-2/Mangrove_agb_Madagascar.tif\"}, {\"primaryPath\": \"gs://ma-data/mangrove-properties/processed/mangrove_aboveground_biomass_2000_v1-2/Mangrove_agb_Malaysia.tif\"}, {\"primaryPath\": \"gs://ma-data/mangrove-properties/processed/mangrove_aboveground_biomass_2000_v1-2/Mangrove_agb_Martinique.tif\"}, {\"primaryPath\": \"gs://ma-data/mangrove-properties/processed/mangrove_aboveground_biomass_2000_v1-2/Mangrove_agb_Mauritania.tif\"}, {\"primaryPath\": \"gs://ma-data/mangrove-properties/processed/mangrove_aboveground_biomass_2000_v1-2/Mangrove_agb_Mayotte.tif\"}, {\"primaryPath\": \"gs://ma-data/mangrove-properties/processed/mangrove_aboveground_biomass_2000_v1-2/Mangrove_agb_Mexico.tif\"}, {\"primaryPath\": \"gs://ma-data/mangrove-properties/processed/mangrove_aboveground_biomass_2000_v1-2/Mangrove_agb_Micronesia.tif\"}, {\"primaryPath\": \"gs://ma-data/mangrove-properties/processed/mangrove_aboveground_biomass_2000_v1-2/Mangrove_agb_Mozambique.tif\"}, {\"primaryPath\": \"gs://ma-data/mangrove-properties/processed/mangrove_aboveground_biomass_2000_v1-2/Mangrove_agb_Myanmar.tif\"}, {\"primaryPath\": \"gs://ma-data/mangrove-properties/processed/mangrove_aboveground_biomass_2000_v1-2/Mangrove_agb_NewCaledonia.tif\"}, {\"primaryPath\": \"gs://ma-data/mangrove-properties/processed/mangrove_aboveground_biomass_2000_v1-2/Mangrove_agb_Newzealand.tif\"}, {\"primaryPath\": \"gs://ma-data/mangrove-properties/processed/mangrove_aboveground_biomass_2000_v1-2/Mangrove_agb_Nicaragua.tif\"}, {\"primaryPath\": \"gs://ma-data/mangrove-properties/processed/mangrove_aboveground_biomass_2000_v1-2/Mangrove_agb_Nigeria.tif\"}, {\"primaryPath\": \"gs://ma-data/mangrove-properties/processed/mangrove_aboveground_biomass_2000_v1-2/Mangrove_agb_NorthernMarianaIslands.tif\"}, {\"primaryPath\": \"gs://ma-data/mangrove-properties/processed/mangrove_aboveground_biomass_2000_v1-2/Mangrove_agb_Oman.tif\"}, {\"primaryPath\": \"gs://ma-data/mangrove-properties/processed/mangrove_aboveground_biomass_2000_v1-2/Mangrove_agb_Pakistan.tif\"}, {\"primaryPath\": \"gs://ma-data/mangrove-properties/processed/mangrove_aboveground_biomass_2000_v1-2/Mangrove_agb_Palau.tif\"}, {\"primaryPath\": \"gs://ma-data/mangrove-properties/processed/mangrove_aboveground_biomass_2000_v1-2/Mangrove_agb_Panama.tif\"}, {\"primaryPath\": \"gs://ma-data/mangrove-properties/processed/mangrove_aboveground_biomass_2000_v1-2/Mangrove_agb_PapuaNewGuinea.tif\"}, {\"primaryPath\": \"gs://ma-data/mangrove-properties/processed/mangrove_aboveground_biomass_2000_v1-2/Mangrove_agb_Peru.tif\"}, {\"primaryPath\": \"gs://ma-data/mangrove-properties/processed/mangrove_aboveground_biomass_2000_v1-2/Mangrove_agb_Philipines.tif\"}, {\"primaryPath\": \"gs://ma-data/mangrove-properties/processed/mangrove_aboveground_biomass_2000_v1-2/Mangrove_agb_PuertoRico.tif\"}, {\"primaryPath\": \"gs://ma-data/mangrove-properties/processed/mangrove_aboveground_biomass_2000_v1-2/Mangrove_agb_Qatar.tif\"}, {\"primaryPath\": \"gs://ma-data/mangrove-properties/processed/mangrove_aboveground_biomass_2000_v1-2/Mangrove_agb_ReunionAndMauritius.tif\"}, {\"primaryPath\": \"gs://ma-data/mangrove-properties/processed/mangrove_aboveground_biomass_2000_v1-2/Mangrove_agb_SaintKittsAndNevis.tif\"}, {\"primaryPath\": \"gs://ma-data/mangrove-properties/processed/mangrove_aboveground_biomass_2000_v1-2/Mangrove_agb_SaintLucia.tif\"}, {\"primaryPath\": \"gs://ma-data/mangrove-properties/processed/mangrove_aboveground_biomass_2000_v1-2/Mangrove_agb_SaintVincentAndTheGrenadines.tif\"}, {\"primaryPath\": \"gs://ma-data/mangrove-properties/processed/mangrove_aboveground_biomass_2000_v1-2/Mangrove_agb_Samoa.tif\"}, {\"primaryPath\": \"gs://ma-data/mangrove-properties/processed/mangrove_aboveground_biomass_2000_v1-2/Mangrove_agb_SaudiArabia.tif\"}, {\"primaryPath\": \"gs://ma-data/mangrove-properties/processed/mangrove_aboveground_biomass_2000_v1-2/Mangrove_agb_Senegal.tif\"}, {\"primaryPath\": \"gs://ma-data/mangrove-properties/processed/mangrove_aboveground_biomass_2000_v1-2/Mangrove_agb_Seychelles.tif\"}, {\"primaryPath\": \"gs://ma-data/mangrove-properties/processed/mangrove_aboveground_biomass_2000_v1-2/Mangrove_agb_SierraLeone.tif\"}, {\"primaryPath\": \"gs://ma-data/mangrove-properties/processed/mangrove_aboveground_biomass_2000_v1-2/Mangrove_agb_Singapore.tif\"}, {\"primaryPath\": \"gs://ma-data/mangrove-properties/processed/mangrove_aboveground_biomass_2000_v1-2/Mangrove_agb_SolomonIslands.tif\"}, {\"primaryPath\": \"gs://ma-data/mangrove-properties/processed/mangrove_aboveground_biomass_2000_v1-2/Mangrove_agb_Somalia.tif\"}, {\"primaryPath\": \"gs://ma-data/mangrove-properties/processed/mangrove_aboveground_biomass_2000_v1-2/Mangrove_agb_Somalia2.tif\"}, {\"primaryPath\": \"gs://ma-data/mangrove-properties/processed/mangrove_aboveground_biomass_2000_v1-2/Mangrove_agb_Soudan.tif\"}, {\"primaryPath\": \"gs://ma-data/mangrove-properties/processed/mangrove_aboveground_biomass_2000_v1-2/Mangrove_agb_SouthAfrica.tif\"}, {\"primaryPath\": \"gs://ma-data/mangrove-properties/processed/mangrove_aboveground_biomass_2000_v1-2/Mangrove_agb_SriLanka.tif\"}, {\"primaryPath\": \"gs://ma-data/mangrove-properties/processed/mangrove_aboveground_biomass_2000_v1-2/Mangrove_agb_Suriname.tif\"}, {\"primaryPath\": \"gs://ma-data/mangrove-properties/processed/mangrove_aboveground_biomass_2000_v1-2/Mangrove_agb_Taiwan.tif\"}, {\"primaryPath\": \"gs://ma-data/mangrove-properties/processed/mangrove_aboveground_biomass_2000_v1-2/Mangrove_agb_Tanzania.tif\"}, {\"primaryPath\": \"gs://ma-data/mangrove-properties/processed/mangrove_aboveground_biomass_2000_v1-2/Mangrove_agb_Thailand.tif\"}, {\"primaryPath\": \"gs://ma-data/mangrove-properties/processed/mangrove_aboveground_biomass_2000_v1-2/Mangrove_agb_TimorLeste.tif\"}, {\"primaryPath\": \"gs://ma-data/mangrove-properties/processed/mangrove_aboveground_biomass_2000_v1-2/Mangrove_agb_Togo.tif\"}, {\"primaryPath\": \"gs://ma-data/mangrove-properties/processed/mangrove_aboveground_biomass_2000_v1-2/Mangrove_agb_Tonga.tif\"}, {\"primaryPath\": \"gs://ma-data/mangrove-properties/processed/mangrove_aboveground_biomass_2000_v1-2/Mangrove_agb_TrinidadAndTobago.tif\"}, {\"primaryPath\": \"gs://ma-data/mangrove-properties/processed/mangrove_aboveground_biomass_2000_v1-2/Mangrove_agb_TurksAndCaicosIslands.tif\"}, {\"primaryPath\": \"gs://ma-data/mangrove-properties/processed/mangrove_aboveground_biomass_2000_v1-2/Mangrove_agb_Tuvalu.tif\"}, {\"primaryPath\": \"gs://ma-data/mangrove-properties/processed/mangrove_aboveground_biomass_2000_v1-2/Mangrove_agb_UnitedArabEmirates.tif\"}, {\"primaryPath\": \"gs://ma-data/mangrove-properties/processed/mangrove_aboveground_biomass_2000_v1-2/Mangrove_agb_UnitedStates.tif\"}, {\"primaryPath\": \"gs://ma-data/mangrove-properties/processed/mangrove_aboveground_biomass_2000_v1-2/Mangrove_agb_Vanuatu.tif\"}, {\"primaryPath\": \"gs://ma-data/mangrove-properties/processed/mangrove_aboveground_biomass_2000_v1-2/Mangrove_agb_Venezuela.tif\"}, {\"primaryPath\": \"gs://ma-data/mangrove-properties/processed/mangrove_aboveground_biomass_2000_v1-2/Mangrove_agb_Vietnam.tif\"}, {\"primaryPath\": \"gs://ma-data/mangrove-properties/processed/mangrove_aboveground_biomass_2000_v1-2/Mangrove_agb_VirginIslandsUs.tif\"}, {\"primaryPath\": \"gs://ma-data/mangrove-properties/processed/mangrove_aboveground_biomass_2000_v1-2/Mangrove_agb_WallisAndFutuna.tif\"}, {\"primaryPath\": \"gs://ma-data/mangrove-properties/processed/mangrove_aboveground_biomass_2000_v1-2/Mangrove_agb_Yemen.tif\"}, {\"primaryPath\": \"\"}]]}]}"
          ],
          "name": "stdout"
        }
      ]
    },
    {
      "cell_type": "code",
      "metadata": {
        "id": "WPeDJjgoMegu",
        "colab_type": "code",
        "colab": {}
      },
      "source": [
        "%%bash\n",
        "# Upload to GEE imageCollecion asset\n",
        "# @todo check all images have been uploaded to ImageCollection\n",
        "# @todo check if there is a 200 tasks limit\n",
        "\n",
        "\n",
        "# Define asset path\n",
        "assetP=\"projects/global-mangrove-watch/mangrove-properties\"\n",
        "\n",
        "# Define common metadata for the layers\n",
        "# for units use definitions in https://www.unidata.ucar.edu/software/udunits/udunits-current/udunits/\n",
        "strVer=\"version=1.2\"\n",
        "strProv=\"(string)provider=NASA-ORNL-DAAC\"\n",
        "strDOI=\"(string)doi=https://doi.org/10.3334/ORNLDAAC/1665\"\n",
        "strCite=\"(string)citation=<p>Simard et al. (2019) “Mangrove canopy height globally related to precipitation, temperature and cyclone frequency.” Nature Geoscience 12:40-45. <a href=\\\"https://daac.ornl.gov/cgi-bin/dsviewer.pl?ds_id=1665\\\">Download</a></p>\"\n",
        "strRes=\"(string)resolution=30m\"\n",
        "# time_start should be ISO8061\n",
        "strTS=\"2000-01-01T12:00:00\"\n",
        "nodata_value=0\n",
        "pyramiding_policy=\"mean\"\n",
        "\n",
        "# Define specific metadata and generate tasks\n",
        "# AGB\n",
        "GCS_PATH=\"gs://ma-data/mangrove-properties/processed/mangrove_aboveground_biomass_2000_v1-2/*.tif\"\n",
        "assetId=\"mangrove_aboveground_biomass_2000_v1-2_collection\"\n",
        "strUnits=\"(string)units=milligram per hectare\"\n",
        "bandId=\"agb_biomass\"\n",
        "#gee_upload_images_to_collection\n",
        "\n",
        "# Hmax\n",
        "GCS_PATH=\"gs://ma-data/mangrove-properties/processed/mangrove_max_canopy_height_2000_v1-2/*.tif\"\n",
        "assetId=\"mangrove_max_canopy_height_2000_v1-2_collection\"\n",
        "strUnits=\"(string)units=meter\"\n",
        "bandId=\"max_canopy_height\"\n",
        "#gee_upload_images_to_collection\n",
        "\n",
        "# HBA\n",
        "GCS_PATH=\"gs://ma-data/mangrove-properties/processed/mangrove_basal-area_weighted_height_2000_v1-2/*.tif\"\n",
        "assetId=\"mangrove_basal-area_weighted_height_2000_v1-2_collection\"\n",
        "strUnits=\"(string)units=meter\"\n",
        "bandId=\"ba_weighted_height\"\n",
        "gee_upload_images_to_collection\n"
      ],
      "execution_count": 0,
      "outputs": []
    },
    {
      "cell_type": "code",
      "metadata": {
        "id": "mC_h3o41DOgW",
        "colab_type": "code",
        "outputId": "c8a8e7e3-bee6-4021-8325-821bfd56dc74",
        "colab": {
          "base_uri": "https://localhost:8080/",
          "height": 402
        }
      },
      "source": [
        "# Export to single images in GEE\n",
        "import ee\n",
        "ee.Initialize()\n",
        "agb = ee.ImageCollection(\"projects/global-mangrove-watch/mangrove-properties/mangrove_aboveground_biomass_2000_v1-2\").mosaic()\n",
        "nr = agb.projection().nominalScale()\n",
        "geom = agb.geometry().bounds() \n",
        "task = ee.batch.Export.image.toAsset(agb, \"convert agb2000\", \"projects/global-mangrove-watch/mangrove-properties/mangrove_aboveground_biomass_2000_v1-2_image\", \"mean\", None, geom, nr, None, None, 1e12)\n",
        "task.start()\n",
        "hmax = ee.ImageCollection(\"projects/global-mangrove-watch/mangrove-properties/mangrove_max_canopy_height_2000_v1-2\").mosaic()\n",
        "nr = hmax.projection().nominalScale()\n",
        "geom = hmax.geometry().bounds()\n",
        "ee.batch.Export.image.toAsset(hmax, \"convert hmax2000\", \"projects/global-mangrove-watch/mangrove-properties/mangrove_max_canopy_height_2000_v1-2_image\", \"mean\", None, geom, nr, None, None, 1e12)\n",
        "task.start()\n",
        "hba = ee.ImageCollection(\"projects/global-mangrove-watch/mangrove-properties/mangrove_basal-area_weighted_height_2000_v1-2\").mosaic()\n",
        "nr = hba.projection().nominalScale()\n",
        "geom = hba.geometry().bounds()\n",
        "ee.batch.Export.image.toAsset(hba, \"convert hba2000\", \"projects/global-mangrove-watch/mangrove-properties/mangrove_basal-area_weighted_height_2000_v1-2_image\", \"mean\", None, geom, nr, None, None, 1e12)\n",
        "task.start()"
      ],
      "execution_count": 0,
      "outputs": [
        {
          "output_type": "error",
          "ename": "TypeError",
          "evalue": "ignored",
          "traceback": [
            "\u001b[0;31m---------------------------------------------------------------------------\u001b[0m",
            "\u001b[0;31mTypeError\u001b[0m                                 Traceback (most recent call last)",
            "\u001b[0;32m<ipython-input-21-7f2c1069b372>\u001b[0m in \u001b[0;36m<module>\u001b[0;34m()\u001b[0m\n\u001b[1;32m      4\u001b[0m \u001b[0mnr\u001b[0m \u001b[0;34m=\u001b[0m \u001b[0magb\u001b[0m\u001b[0;34m.\u001b[0m\u001b[0mprojection\u001b[0m\u001b[0;34m(\u001b[0m\u001b[0;34m)\u001b[0m\u001b[0;34m.\u001b[0m\u001b[0mnominalScale\u001b[0m\u001b[0;34m(\u001b[0m\u001b[0;34m)\u001b[0m\u001b[0;34m\u001b[0m\u001b[0;34m\u001b[0m\u001b[0m\n\u001b[1;32m      5\u001b[0m \u001b[0mgeom\u001b[0m \u001b[0;34m=\u001b[0m \u001b[0magb\u001b[0m\u001b[0;34m.\u001b[0m\u001b[0mgeometry\u001b[0m\u001b[0;34m(\u001b[0m\u001b[0;34m)\u001b[0m\u001b[0;34m.\u001b[0m\u001b[0mbounds\u001b[0m\u001b[0;34m(\u001b[0m\u001b[0;34m)\u001b[0m\u001b[0;34m\u001b[0m\u001b[0;34m\u001b[0m\u001b[0m\n\u001b[0;32m----> 6\u001b[0;31m \u001b[0mtask\u001b[0m \u001b[0;34m=\u001b[0m \u001b[0mee\u001b[0m\u001b[0;34m.\u001b[0m\u001b[0mbatch\u001b[0m\u001b[0;34m.\u001b[0m\u001b[0mExport\u001b[0m\u001b[0;34m.\u001b[0m\u001b[0mimage\u001b[0m\u001b[0;34m.\u001b[0m\u001b[0mtoAsset\u001b[0m\u001b[0;34m(\u001b[0m\u001b[0magb\u001b[0m\u001b[0;34m,\u001b[0m \u001b[0;34m\"convert agb2000\"\u001b[0m\u001b[0;34m,\u001b[0m \u001b[0;34m\"projects/global-mangrove-watch/mangrove-properties/mangrove_aboveground_biomass_2000_v1-2_image\"\u001b[0m\u001b[0;34m,\u001b[0m \u001b[0;34m\"mean\"\u001b[0m\u001b[0;34m,\u001b[0m \u001b[0;32mNone\u001b[0m\u001b[0;34m,\u001b[0m \u001b[0mgeom\u001b[0m\u001b[0;34m,\u001b[0m \u001b[0mnr\u001b[0m\u001b[0;34m,\u001b[0m \u001b[0;32mNone\u001b[0m\u001b[0;34m,\u001b[0m \u001b[0;32mNone\u001b[0m\u001b[0;34m,\u001b[0m \u001b[0;36m1e12\u001b[0m\u001b[0;34m)\u001b[0m\u001b[0;34m\u001b[0m\u001b[0;34m\u001b[0m\u001b[0m\n\u001b[0m\u001b[1;32m      7\u001b[0m \u001b[0mtask\u001b[0m\u001b[0;34m.\u001b[0m\u001b[0mstart\u001b[0m\u001b[0;34m(\u001b[0m\u001b[0;34m)\u001b[0m\u001b[0;34m\u001b[0m\u001b[0;34m\u001b[0m\u001b[0m\n\u001b[1;32m      8\u001b[0m \u001b[0mhmax\u001b[0m \u001b[0;34m=\u001b[0m \u001b[0mee\u001b[0m\u001b[0;34m.\u001b[0m\u001b[0mImageCollection\u001b[0m\u001b[0;34m(\u001b[0m\u001b[0;34m\"projects/global-mangrove-watch/mangrove-properties/mangrove_max_canopy_height_2000_v1-2\"\u001b[0m\u001b[0;34m)\u001b[0m\u001b[0;34m.\u001b[0m\u001b[0mmosaic\u001b[0m\u001b[0;34m(\u001b[0m\u001b[0;34m)\u001b[0m\u001b[0;34m\u001b[0m\u001b[0;34m\u001b[0m\u001b[0m\n",
            "\u001b[0;32m/usr/local/lib/python3.6/dist-packages/ee/batch.py\u001b[0m in \u001b[0;36mtoAsset\u001b[0;34m(image, description, assetId, pyramidingPolicy, dimensions, region, scale, crs, crsTransform, maxPixels, **kwargs)\u001b[0m\n\u001b[1;32m    267\u001b[0m       \u001b[0mconfig\u001b[0m \u001b[0;34m=\u001b[0m \u001b[0m_capture_parameters\u001b[0m\u001b[0;34m(\u001b[0m\u001b[0mlocals\u001b[0m\u001b[0;34m(\u001b[0m\u001b[0;34m)\u001b[0m\u001b[0;34m,\u001b[0m \u001b[0;34m[\u001b[0m\u001b[0;34m'image'\u001b[0m\u001b[0;34m]\u001b[0m\u001b[0;34m)\u001b[0m\u001b[0;34m\u001b[0m\u001b[0;34m\u001b[0m\u001b[0m\n\u001b[1;32m    268\u001b[0m       config = _prepare_image_export_config(image, config,\n\u001b[0;32m--> 269\u001b[0;31m                                             Task.ExportDestination.ASSET)\n\u001b[0m\u001b[1;32m    270\u001b[0m       \u001b[0;32mreturn\u001b[0m \u001b[0m_create_export_task\u001b[0m\u001b[0;34m(\u001b[0m\u001b[0mconfig\u001b[0m\u001b[0;34m,\u001b[0m \u001b[0mTask\u001b[0m\u001b[0;34m.\u001b[0m\u001b[0mType\u001b[0m\u001b[0;34m.\u001b[0m\u001b[0mEXPORT_IMAGE\u001b[0m\u001b[0;34m)\u001b[0m\u001b[0;34m\u001b[0m\u001b[0;34m\u001b[0m\u001b[0m\n\u001b[1;32m    271\u001b[0m \u001b[0;34m\u001b[0m\u001b[0m\n",
            "\u001b[0;32m/usr/local/lib/python3.6/dist-packages/ee/batch.py\u001b[0m in \u001b[0;36m_prepare_image_export_config\u001b[0;34m(image, config, export_destination)\u001b[0m\n\u001b[1;32m    852\u001b[0m     \u001b[0mconfig\u001b[0m\u001b[0;34m[\u001b[0m\u001b[0;34m'fileFormat'\u001b[0m\u001b[0;34m]\u001b[0m \u001b[0;34m=\u001b[0m \u001b[0;34m'GeoTIFF'\u001b[0m\u001b[0;34m\u001b[0m\u001b[0;34m\u001b[0m\u001b[0m\n\u001b[1;32m    853\u001b[0m \u001b[0;34m\u001b[0m\u001b[0m\n\u001b[0;32m--> 854\u001b[0;31m   \u001b[0m_canonicalize_parameters\u001b[0m\u001b[0;34m(\u001b[0m\u001b[0mconfig\u001b[0m\u001b[0;34m,\u001b[0m \u001b[0mexport_destination\u001b[0m\u001b[0;34m)\u001b[0m\u001b[0;34m\u001b[0m\u001b[0;34m\u001b[0m\u001b[0m\n\u001b[0m\u001b[1;32m    855\u001b[0m \u001b[0;34m\u001b[0m\u001b[0m\n\u001b[1;32m    856\u001b[0m   \u001b[0mimage\u001b[0m\u001b[0;34m,\u001b[0m \u001b[0mconfig\u001b[0m \u001b[0;34m=\u001b[0m \u001b[0mimage\u001b[0m\u001b[0;34m.\u001b[0m\u001b[0mprepare_for_export\u001b[0m\u001b[0;34m(\u001b[0m\u001b[0mconfig\u001b[0m\u001b[0;34m)\u001b[0m\u001b[0;34m\u001b[0m\u001b[0;34m\u001b[0m\u001b[0m\n",
            "\u001b[0;32m/usr/local/lib/python3.6/dist-packages/ee/batch.py\u001b[0m in \u001b[0;36m_canonicalize_parameters\u001b[0;34m(config, destination)\u001b[0m\n\u001b[1;32m   1416\u001b[0m \u001b[0;34m\u001b[0m\u001b[0m\n\u001b[1;32m   1417\u001b[0m   \u001b[0;32mif\u001b[0m \u001b[0;34m'region'\u001b[0m \u001b[0;32min\u001b[0m \u001b[0mconfig\u001b[0m\u001b[0;34m:\u001b[0m\u001b[0;34m\u001b[0m\u001b[0;34m\u001b[0m\u001b[0m\n\u001b[0;32m-> 1418\u001b[0;31m     \u001b[0mconfig\u001b[0m\u001b[0;34m[\u001b[0m\u001b[0;34m'region'\u001b[0m\u001b[0;34m]\u001b[0m \u001b[0;34m=\u001b[0m \u001b[0m_canonicalize_region\u001b[0m\u001b[0;34m(\u001b[0m\u001b[0mconfig\u001b[0m\u001b[0;34m[\u001b[0m\u001b[0;34m'region'\u001b[0m\u001b[0;34m]\u001b[0m\u001b[0;34m)\u001b[0m\u001b[0;34m\u001b[0m\u001b[0;34m\u001b[0m\u001b[0m\n\u001b[0m\u001b[1;32m   1419\u001b[0m \u001b[0;34m\u001b[0m\u001b[0m\n\u001b[1;32m   1420\u001b[0m   if 'selectors' in config and isinstance(config['selectors'],\n",
            "\u001b[0;32m/usr/local/lib/python3.6/dist-packages/ee/batch.py\u001b[0m in \u001b[0;36m_canonicalize_region\u001b[0;34m(region)\u001b[0m\n\u001b[1;32m   1502\u001b[0m     \u001b[0;32mexcept\u001b[0m\u001b[0;34m:\u001b[0m\u001b[0;34m\u001b[0m\u001b[0;34m\u001b[0m\u001b[0m\n\u001b[1;32m   1503\u001b[0m       \u001b[0;32mraise\u001b[0m \u001b[0mregion_error\u001b[0m\u001b[0;34m\u001b[0m\u001b[0;34m\u001b[0m\u001b[0m\n\u001b[0;32m-> 1504\u001b[0;31m   \u001b[0;32mreturn\u001b[0m \u001b[0mjson\u001b[0m\u001b[0;34m.\u001b[0m\u001b[0mdumps\u001b[0m\u001b[0;34m(\u001b[0m\u001b[0mregion\u001b[0m\u001b[0;34m)\u001b[0m\u001b[0;34m\u001b[0m\u001b[0;34m\u001b[0m\u001b[0m\n\u001b[0m\u001b[1;32m   1505\u001b[0m   \u001b[0;31m# pylint: enable=bare-except\u001b[0m\u001b[0;34m\u001b[0m\u001b[0;34m\u001b[0m\u001b[0;34m\u001b[0m\u001b[0m\n",
            "\u001b[0;32m/usr/lib/python3.6/json/__init__.py\u001b[0m in \u001b[0;36mdumps\u001b[0;34m(obj, skipkeys, ensure_ascii, check_circular, allow_nan, cls, indent, separators, default, sort_keys, **kw)\u001b[0m\n\u001b[1;32m    229\u001b[0m         \u001b[0mcls\u001b[0m \u001b[0;32mis\u001b[0m \u001b[0;32mNone\u001b[0m \u001b[0;32mand\u001b[0m \u001b[0mindent\u001b[0m \u001b[0;32mis\u001b[0m \u001b[0;32mNone\u001b[0m \u001b[0;32mand\u001b[0m \u001b[0mseparators\u001b[0m \u001b[0;32mis\u001b[0m \u001b[0;32mNone\u001b[0m \u001b[0;32mand\u001b[0m\u001b[0;34m\u001b[0m\u001b[0;34m\u001b[0m\u001b[0m\n\u001b[1;32m    230\u001b[0m         default is None and not sort_keys and not kw):\n\u001b[0;32m--> 231\u001b[0;31m         \u001b[0;32mreturn\u001b[0m \u001b[0m_default_encoder\u001b[0m\u001b[0;34m.\u001b[0m\u001b[0mencode\u001b[0m\u001b[0;34m(\u001b[0m\u001b[0mobj\u001b[0m\u001b[0;34m)\u001b[0m\u001b[0;34m\u001b[0m\u001b[0;34m\u001b[0m\u001b[0m\n\u001b[0m\u001b[1;32m    232\u001b[0m     \u001b[0;32mif\u001b[0m \u001b[0mcls\u001b[0m \u001b[0;32mis\u001b[0m \u001b[0;32mNone\u001b[0m\u001b[0;34m:\u001b[0m\u001b[0;34m\u001b[0m\u001b[0;34m\u001b[0m\u001b[0m\n\u001b[1;32m    233\u001b[0m         \u001b[0mcls\u001b[0m \u001b[0;34m=\u001b[0m \u001b[0mJSONEncoder\u001b[0m\u001b[0;34m\u001b[0m\u001b[0;34m\u001b[0m\u001b[0m\n",
            "\u001b[0;32m/usr/lib/python3.6/json/encoder.py\u001b[0m in \u001b[0;36mencode\u001b[0;34m(self, o)\u001b[0m\n\u001b[1;32m    197\u001b[0m         \u001b[0;31m# exceptions aren't as detailed.  The list call should be roughly\u001b[0m\u001b[0;34m\u001b[0m\u001b[0;34m\u001b[0m\u001b[0;34m\u001b[0m\u001b[0m\n\u001b[1;32m    198\u001b[0m         \u001b[0;31m# equivalent to the PySequence_Fast that ''.join() would do.\u001b[0m\u001b[0;34m\u001b[0m\u001b[0;34m\u001b[0m\u001b[0;34m\u001b[0m\u001b[0m\n\u001b[0;32m--> 199\u001b[0;31m         \u001b[0mchunks\u001b[0m \u001b[0;34m=\u001b[0m \u001b[0mself\u001b[0m\u001b[0;34m.\u001b[0m\u001b[0miterencode\u001b[0m\u001b[0;34m(\u001b[0m\u001b[0mo\u001b[0m\u001b[0;34m,\u001b[0m \u001b[0m_one_shot\u001b[0m\u001b[0;34m=\u001b[0m\u001b[0;32mTrue\u001b[0m\u001b[0;34m)\u001b[0m\u001b[0;34m\u001b[0m\u001b[0;34m\u001b[0m\u001b[0m\n\u001b[0m\u001b[1;32m    200\u001b[0m         \u001b[0;32mif\u001b[0m \u001b[0;32mnot\u001b[0m \u001b[0misinstance\u001b[0m\u001b[0;34m(\u001b[0m\u001b[0mchunks\u001b[0m\u001b[0;34m,\u001b[0m \u001b[0;34m(\u001b[0m\u001b[0mlist\u001b[0m\u001b[0;34m,\u001b[0m \u001b[0mtuple\u001b[0m\u001b[0;34m)\u001b[0m\u001b[0;34m)\u001b[0m\u001b[0;34m:\u001b[0m\u001b[0;34m\u001b[0m\u001b[0;34m\u001b[0m\u001b[0m\n\u001b[1;32m    201\u001b[0m             \u001b[0mchunks\u001b[0m \u001b[0;34m=\u001b[0m \u001b[0mlist\u001b[0m\u001b[0;34m(\u001b[0m\u001b[0mchunks\u001b[0m\u001b[0;34m)\u001b[0m\u001b[0;34m\u001b[0m\u001b[0;34m\u001b[0m\u001b[0m\n",
            "\u001b[0;32m/usr/lib/python3.6/json/encoder.py\u001b[0m in \u001b[0;36miterencode\u001b[0;34m(self, o, _one_shot)\u001b[0m\n\u001b[1;32m    255\u001b[0m                 \u001b[0mself\u001b[0m\u001b[0;34m.\u001b[0m\u001b[0mkey_separator\u001b[0m\u001b[0;34m,\u001b[0m \u001b[0mself\u001b[0m\u001b[0;34m.\u001b[0m\u001b[0mitem_separator\u001b[0m\u001b[0;34m,\u001b[0m \u001b[0mself\u001b[0m\u001b[0;34m.\u001b[0m\u001b[0msort_keys\u001b[0m\u001b[0;34m,\u001b[0m\u001b[0;34m\u001b[0m\u001b[0;34m\u001b[0m\u001b[0m\n\u001b[1;32m    256\u001b[0m                 self.skipkeys, _one_shot)\n\u001b[0;32m--> 257\u001b[0;31m         \u001b[0;32mreturn\u001b[0m \u001b[0m_iterencode\u001b[0m\u001b[0;34m(\u001b[0m\u001b[0mo\u001b[0m\u001b[0;34m,\u001b[0m \u001b[0;36m0\u001b[0m\u001b[0;34m)\u001b[0m\u001b[0;34m\u001b[0m\u001b[0;34m\u001b[0m\u001b[0m\n\u001b[0m\u001b[1;32m    258\u001b[0m \u001b[0;34m\u001b[0m\u001b[0m\n\u001b[1;32m    259\u001b[0m def _make_iterencode(markers, _default, _encoder, _indent, _floatstr,\n",
            "\u001b[0;32m/usr/lib/python3.6/json/encoder.py\u001b[0m in \u001b[0;36mdefault\u001b[0;34m(self, o)\u001b[0m\n\u001b[1;32m    178\u001b[0m         \"\"\"\n\u001b[1;32m    179\u001b[0m         raise TypeError(\"Object of type '%s' is not JSON serializable\" %\n\u001b[0;32m--> 180\u001b[0;31m                         o.__class__.__name__)\n\u001b[0m\u001b[1;32m    181\u001b[0m \u001b[0;34m\u001b[0m\u001b[0m\n\u001b[1;32m    182\u001b[0m     \u001b[0;32mdef\u001b[0m \u001b[0mencode\u001b[0m\u001b[0;34m(\u001b[0m\u001b[0mself\u001b[0m\u001b[0;34m,\u001b[0m \u001b[0mo\u001b[0m\u001b[0;34m)\u001b[0m\u001b[0;34m:\u001b[0m\u001b[0;34m\u001b[0m\u001b[0;34m\u001b[0m\u001b[0m\n",
            "\u001b[0;31mTypeError\u001b[0m: Object of type 'Geometry' is not JSON serializable"
          ]
        }
      ]
    },
    {
      "cell_type": "markdown",
      "metadata": {
        "id": "Tjrlvfrno-9O",
        "colab_type": "text"
      },
      "source": [
        "## Add geotiffs to MapBox"
      ]
    },
    {
      "cell_type": "code",
      "metadata": {
        "id": "sQHuwJ6NpC-2",
        "colab_type": "code",
        "colab": {}
      },
      "source": [
        "%%bash\n",
        "# Get data\n",
        "mkdir -p $MA_BUCKET/mangrove-properties/images\n",
        "gsutil -m cp -r gs://$MA_BUCKET/mangrove-properties/processed/mangrove_aboveground_biomass_2000_v1-2 $MA_BUCKET/mangrove-properties/images\n"
      ],
      "execution_count": 0,
      "outputs": []
    },
    {
      "cell_type": "code",
      "metadata": {
        "id": "A2DFRq7rQdyz",
        "colab_type": "code",
        "colab": {}
      },
      "source": [
        "# Clean up\n",
        "rm -r ma-data/mangrove-properties"
      ],
      "execution_count": 0,
      "outputs": []
    },
    {
      "cell_type": "code",
      "metadata": {
        "id": "lPS_hBGf5uiX",
        "colab_type": "code",
        "outputId": "23ff813a-bd41-4763-a49f-57274674dce9",
        "colab": {
          "base_uri": "https://localhost:8080/",
          "height": 1000
        }
      },
      "source": [
        "ls $MA_BUCKET/mangrove-properties/images/mangrove_aboveground_biomass_2000_v1-2"
      ],
      "execution_count": 0,
      "outputs": [
        {
          "output_type": "stream",
          "text": [
            "Mangrove_agb_AndamanAndNicobar.tif\n",
            "Mangrove_agb_Angola.tif\n",
            "Mangrove_agb_Anguilla.tif\n",
            "Mangrove_agb_AntiguaAndBarbuda.tif\n",
            "Mangrove_agb_Aruba.tif\n",
            "Mangrove_agb_Australia.tif\n",
            "Mangrove_agb_Bahamas.tif\n",
            "Mangrove_agb_Bahrain.tif\n",
            "Mangrove_agb_Bangladesh.tif\n",
            "Mangrove_agb_Barbados.tif\n",
            "Mangrove_agb_Belize.tif\n",
            "Mangrove_agb_Benin.tif\n",
            "Mangrove_agb_Brazil.tif\n",
            "Mangrove_agb_BritishVirginIslands.tif\n",
            "Mangrove_agb_Brunei.tif\n",
            "Mangrove_agb_Cambodia.tif\n",
            "Mangrove_agb_Cameroon.tif\n",
            "Mangrove_agb_CarribeanCaymanIslands.tif\n",
            "Mangrove_agb_China.tif\n",
            "Mangrove_agb_Colombia.tif\n",
            "Mangrove_agb_Comoros.tif\n",
            "Mangrove_agb_CostaRica.tif\n",
            "Mangrove_agb_CoteDivoire.tif\n",
            "Mangrove_agb_Cuba.tif\n",
            "Mangrove_agb_DemocraticRepublicOfCongo.tif\n",
            "Mangrove_agb_Djibouti.tif\n",
            "Mangrove_agb_DominicanRepublic.tif\n",
            "Mangrove_agb_EcuadorWithGalapagos.tif\n",
            "Mangrove_agb_Egypt.tif\n",
            "Mangrove_agb_ElSalvador.tif\n",
            "Mangrove_agb_EquatorialGuinea.tif\n",
            "Mangrove_agb_Eritrea.tif\n",
            "Mangrove_agb_EuropaIsland.tif\n",
            "Mangrove_agb_Fiji2.tif\n",
            "Mangrove_agb_Fiji.tif\n",
            "Mangrove_agb_FrenchGuyana.tif\n",
            "Mangrove_agb_FrenchPolynesia.tif\n",
            "Mangrove_agb_Gabon.tif\n",
            "Mangrove_agb_Gambia.tif\n",
            "Mangrove_agb_Ghana.tif\n",
            "Mangrove_agb_Grenada.tif\n",
            "Mangrove_agb_Guadeloupe.tif\n",
            "Mangrove_agb_Guam.tif\n",
            "Mangrove_agb_Guatemala.tif\n",
            "Mangrove_agb_GuineaBissau.tif\n",
            "Mangrove_agb_Guinea.tif\n",
            "Mangrove_agb_Guyana.tif\n",
            "Mangrove_agb_Haiti.tif\n",
            "Mangrove_agb_Hawaii.tif\n",
            "Mangrove_agb_Honduras.tif\n",
            "Mangrove_agb_HongKong.tif\n",
            "Mangrove_agb_India.tif\n",
            "Mangrove_agb_Indonesia.tif\n",
            "Mangrove_agb_Iran.tif\n",
            "Mangrove_agb_Jamaica.tif\n",
            "Mangrove_agb_Japan.tif\n",
            "Mangrove_agb_Kenya.tif\n",
            "Mangrove_agb_Liberia.tif\n",
            "Mangrove_agb_Macau.tif\n",
            "Mangrove_agb_Madagascar.tif\n",
            "Mangrove_agb_Malaysia.tif\n",
            "Mangrove_agb_Martinique.tif\n",
            "Mangrove_agb_Mauritania.tif\n",
            "Mangrove_agb_Mayotte.tif\n",
            "Mangrove_agb_Mexico.tif\n",
            "Mangrove_agb_Micronesia.tif\n",
            "Mangrove_agb_Mozambique.tif\n",
            "Mangrove_agb_Myanmar.tif\n",
            "Mangrove_agb_NewCaledonia.tif\n",
            "Mangrove_agb_Newzealand.tif\n",
            "Mangrove_agb_Nicaragua.tif\n",
            "Mangrove_agb_Nigeria.tif\n",
            "Mangrove_agb_NorthernMarianaIslands.tif\n",
            "Mangrove_agb_Oman.tif\n",
            "Mangrove_agb_Pakistan.tif\n",
            "Mangrove_agb_Palau.tif\n",
            "Mangrove_agb_Panama.tif\n",
            "Mangrove_agb_PapuaNewGuinea.tif\n",
            "Mangrove_agb_Peru.tif\n",
            "Mangrove_agb_Philipines.tif\n",
            "Mangrove_agb_PuertoRico.tif\n",
            "Mangrove_agb_Qatar.tif\n",
            "Mangrove_agb_ReunionAndMauritius.tif\n",
            "Mangrove_agb_SaintKittsAndNevis.tif\n",
            "Mangrove_agb_SaintLucia.tif\n",
            "Mangrove_agb_SaintVincentAndTheGrenadines.tif\n",
            "Mangrove_agb_Samoa.tif\n",
            "Mangrove_agb_SaudiArabia.tif\n",
            "Mangrove_agb_Senegal.tif\n",
            "Mangrove_agb_Seychelles.tif\n",
            "Mangrove_agb_SierraLeone.tif\n",
            "Mangrove_agb_Singapore.tif\n",
            "Mangrove_agb_SolomonIslands.tif\n",
            "Mangrove_agb_Somalia2.tif\n",
            "Mangrove_agb_Somalia.tif\n",
            "Mangrove_agb_Soudan.tif\n",
            "Mangrove_agb_SouthAfrica.tif\n",
            "Mangrove_agb_SriLanka.tif\n",
            "Mangrove_agb_Suriname.tif\n",
            "Mangrove_agb_Taiwan.tif\n",
            "Mangrove_agb_Tanzania.tif\n",
            "Mangrove_agb_Thailand.tif\n",
            "Mangrove_agb_TimorLeste.tif\n",
            "Mangrove_agb_Togo.tif\n",
            "Mangrove_agb_Tonga.tif\n",
            "Mangrove_agb_TrinidadAndTobago.tif\n",
            "Mangrove_agb_TurksAndCaicosIslands.tif\n",
            "Mangrove_agb_Tuvalu.tif\n",
            "Mangrove_agb_UnitedArabEmirates.tif\n",
            "Mangrove_agb_UnitedStates.tif\n",
            "Mangrove_agb_Vanuatu.tif\n",
            "Mangrove_agb_Venezuela.tif\n",
            "Mangrove_agb_Vietnam.tif\n",
            "Mangrove_agb_VirginIslandsUs.tif\n",
            "Mangrove_agb_WallisAndFutuna.tif\n",
            "Mangrove_agb_Yemen.tif\n"
          ],
          "name": "stdout"
        }
      ]
    },
    {
      "cell_type": "code",
      "metadata": {
        "id": "KfT8Yc5EuBZI",
        "colab_type": "code",
        "outputId": "baa6a581-11d8-4963-ad9a-83e66598a51e",
        "colab": {
          "base_uri": "https://localhost:8080/",
          "height": 121
        }
      },
      "source": [
        "# Add to Mapbox\n",
        "    \n",
        "import glob \n",
        "import os\n",
        "path = os.environ.get('MA_BUCKET') + '/mangrove-properties/images/mangrove_aboveground_biomass_2000_v1-2/'\n",
        "files = [f for f in glob.glob(path + \"**/*.tif\", recursive=True)]\n",
        "for f in files[0:2]:\n",
        "  print(f)\n",
        "  print(os.path.splitext(os.path.basename(f))[0])\n",
        "  upload_to_mapbox(f, os.path.splitext(os.path.basename(f))[0])"
      ],
      "execution_count": 0,
      "outputs": [
        {
          "output_type": "stream",
          "text": [
            "mangrove_atlas/mangrove-properties/images/mangrove_aboveground_biomass_2000_v1-2/Mangrove_agb_Macau.tif\n",
            "Mangrove_agb_Macau\n",
            "{'message': 'Not Found'}\n",
            "mangrove_atlas/mangrove-properties/images/mangrove_aboveground_biomass_2000_v1-2/Mangrove_agb_Grenada.tif\n",
            "Mangrove_agb_Grenada\n",
            "{'message': 'Not Found'}\n"
          ],
          "name": "stdout"
        }
      ]
    },
    {
      "cell_type": "markdown",
      "metadata": {
        "id": "Wbj3JuFWEAFA",
        "colab_type": "text"
      },
      "source": [
        "# Process elevation rasters\n",
        "\n",
        "+ upload to GCS bucket\n",
        "+ add as GEE asset (parsing information from rasters on disk)"
      ]
    },
    {
      "cell_type": "code",
      "metadata": {
        "id": "jhWjcHUcWVI5",
        "colab_type": "code",
        "outputId": "d3677859-c3f3-47a1-92c0-161569a26bd0",
        "colab": {
          "base_uri": "https://localhost:8080/",
          "height": 35
        }
      },
      "source": [
        "%%bash\n",
        "# Get elevation data\n",
        "gsutil -m cp -r gs://ma-data/elevation ma-data\n"
      ],
      "execution_count": 0,
      "outputs": [
        {
          "output_type": "stream",
          "text": [
            "Copying gs://ma-data/elevation/aoi_saloum_dem11.tif...\n",
            "/ [0/2 files][    0.0 B/ 42.2 MiB]   0% Done                                    \r-\r- [0/2 files][ 16.2 MiB/ 42.2 MiB]  38% Done                                    \r- [1/2 files][ 42.2 MiB/ 42.2 MiB]  99% Done                                    \r"
          ],
          "name": "stderr"
        }
      ]
    },
    {
      "cell_type": "code",
      "metadata": {
        "id": "B407uo43ETKO",
        "colab_type": "code",
        "outputId": "23f5345a-8fb6-4861-f6af-c8fbbe86c914",
        "colab": {
          "base_uri": "https://localhost:8080/",
          "height": 52
        }
      },
      "source": [
        "%%bash\n",
        "\n",
        "# Get resolution info from given raster\n",
        "function get_pixelsize() {\n",
        "    if [ -z \"$1\" ]; then\n",
        "        echo \"Missing arguments. Syntax:\"\n",
        "        echo \"  get_pixelsize <input_raster>\"\n",
        "        return\n",
        "    fi\n",
        "    EXTENT=( $(gdalinfo \"$1\" |\\\n",
        "        grep \"Pixel Size\" |\\\n",
        "        sed \"s/Pixel Size =//g; s/,/ /g\" |\\\n",
        "        tr \"\\n\" \" \" |\\\n",
        "        tr -d \"[(,])-\") )\n",
        "    echo -n \"$EXTENT\"\n",
        "}\n",
        "\n",
        "# Get no data info from given raster\n",
        "function get_navalue() {\n",
        "    if [ -z \"$1\" ]; then\n",
        "        echo \"Missing arguments. Syntax:\"\n",
        "        echo \"  get_pixelsize <input_raster>\"\n",
        "        return\n",
        "    fi\n",
        "    EXTENT=( $(gdalinfo \"$1\" |\\\n",
        "        grep \"NoData Value\" |\\\n",
        "        sed \"s/NoData Value=//g; s/,/ /g\" |\\\n",
        "        tr \"\\n\" \" \" |\\\n",
        "        tr -d \"[(,])\") )\n",
        "    echo -n \"$EXTENT\"\n",
        "}\n",
        "\n",
        "\n",
        "# TODO get more metadata for each image!\n",
        "# Upload multple images to GEE asset as collection!\n",
        "# Get file list\n",
        "bn_asset=ma-data/elevation\n",
        "eims=`gsutil ls gs://$bn_asset/*.tif`\n",
        "\n",
        "# Define asset path\n",
        "assetP=\"projects/global-mangrove-watch/elevation\"\n",
        "\n",
        "# Define metadata for the layers\n",
        "# for units use definitions in https://www.unidata.ucar.edu/software/udunits/udunits-current/udunits/\n",
        "#strVer=\"(string)version=\"\n",
        "strProv=\"(string)provider='Wetlands International'\"\n",
        "#strDOI=\"(string)doi=\"\n",
        "#strCite=\"(string)citation=\"\n",
        "# time_start should be ISO8061\n",
        "#strTS=\"\"\n",
        "#nodata_value=0\n",
        "pyramiding_policy=\"mean\"\n",
        "\n",
        "# Orthoimage DSM\n",
        "assetIdElev=\"dsm_orthoimages\"\n",
        "strUnitsElev=\"(string)units=centimeter\"\n",
        "earthengine create collection $assetP/$assetIdElev\n",
        "\n",
        "for file in $eims; do\n",
        "  filename=`basename $file`\n",
        "  asset_id=\"${filename%.*}\"\n",
        "  res=$(get_pixelsize ${file#gs://})\n",
        "  nodata_value=$(get_navalue ${file#gs://})\n",
        "  strRes=\"resolution=$res\"\n",
        "  earthengine upload image --asset_id=\"$assetP/$assetIdElev/$asset_id\" \\\n",
        "  --force \\\n",
        "  --pyramiding_policy=$pyramiding_policy \\\n",
        "  --nodata_value=$nodata_value \\\n",
        "  --property=\"${strProv}\" \\\n",
        "  --property=\"${strRes}\" \\\n",
        "  --property=\"${strUnitsElev}\" \\\n",
        "  $file\n",
        "\n",
        "done  "
      ],
      "execution_count": 0,
      "outputs": [
        {
          "output_type": "stream",
          "text": [
            "Asset projects/global-mangrove-watch/elevation/dsm_orthoimages already exists.\n",
            "Started upload task with ID: ZAM2ARGETKVXGFPWCJGXCYZM\n"
          ],
          "name": "stdout"
        }
      ]
    },
    {
      "cell_type": "code",
      "metadata": {
        "id": "JImFzptoV2RV",
        "colab_type": "code",
        "colab": {}
      },
      "source": [
        "# Clean up\n",
        "rm-r ma-data/elevation"
      ],
      "execution_count": 0,
      "outputs": []
    },
    {
      "cell_type": "markdown",
      "metadata": {
        "id": "JwU0AgcdVm7e",
        "colab_type": "text"
      },
      "source": [
        "# Process UAV orthoimage rasters\n",
        "\n",
        "+ upload to GCS bucket\n",
        "+ add as GEE image collection asset (parsing information from rasters on disk)"
      ]
    },
    {
      "cell_type": "code",
      "metadata": {
        "id": "pQY3SvK_WDXz",
        "colab_type": "code",
        "outputId": "d0102757-de47-41c0-a0d4-16daa07b9266",
        "colab": {
          "base_uri": "https://localhost:8080/",
          "height": 87
        }
      },
      "source": [
        "%%bash\n",
        "# Get orthoimagery data\n",
        "gsutil -m cp -r gs://ma-data/orthoimagery ma-data\n"
      ],
      "execution_count": 0,
      "outputs": [
        {
          "output_type": "stream",
          "text": [
            "Copying gs://ma-data/orthoimagery/aoi_rufiji_Nyamisati.tif...\n",
            "Copying gs://ma-data/orthoimagery/aoi_rufiji_Rice_field.tif...\n",
            "Copying gs://ma-data/orthoimagery/aoi_saloum_ortho.tif...\n",
            "Copying gs://ma-data/orthoimagery/aoi_rufiji_Mixed_Veg_Rufiji_delta.tif...\n",
            "/ [0/5 files][    0.0 B/  3.0 GiB]   0% Done                                    \r/ [0/5 files][    0.0 B/  3.0 GiB]   0% Done                                    \r/ [0/5 files][    0.0 B/  3.0 GiB]   0% Done                                    \r/ [0/5 files][    0.0 B/  3.0 GiB]   0% Done                                    \r-\r- [0/5 files][ 33.8 MiB/  3.0 GiB]   1% Done                                    \r\\\r|\r| [0/5 files][163.7 MiB/  3.0 GiB]   5% Done                                    \r/\r/ [0/5 files][291.8 MiB/  3.0 GiB]   9% Done                                    \r-\r\\\r\\ [0/5 files][417.7 MiB/  3.0 GiB]  13% Done                                    \r|\r/\r/ [0/5 files][530.6 MiB/  3.0 GiB]  17% Done                                    \r-\r- [0/5 files][641.4 MiB/  3.0 GiB]  20% Done                                    \r\\\r|\r| [0/5 files][762.4 MiB/  3.0 GiB]  24% Done                                    \r/\r-\r- [0/5 files][869.9 MiB/  3.0 GiB]  27% Done                                    \r\\\r\\ [0/5 files][981.0 MiB/  3.0 GiB]  31% Done                                    \r|\r/\r/ [0/5 files][  1.1 GiB/  3.0 GiB]  35% Done                                    \r-\r\\\r\\ [0/5 files][  1.2 GiB/  3.0 GiB]  37% Done 106.4 MiB/s ETA 00:00:18           \r|\r| [0/5 files][  1.3 GiB/  3.0 GiB]  41% Done 102.6 MiB/s ETA 00:00:18           \r/\r-\r- [0/5 files][  1.4 GiB/  3.0 GiB]  44% Done 105.2 MiB/s ETA 00:00:16           \r\\\r|\r| [0/5 files][  1.5 GiB/  3.0 GiB]  48% Done 102.9 MiB/s ETA 00:00:16           \r/\r/ [0/5 files][  1.6 GiB/  3.0 GiB]  52% Done 105.5 MiB/s ETA 00:00:14           \r-\r\\\r\\ [0/5 files][  1.7 GiB/  3.0 GiB]  55% Done 103.2 MiB/s ETA 00:00:13           \r|\r/\r/ [0/5 files][  1.7 GiB/  3.0 GiB]  56% Done  91.1 MiB/s ETA 00:00:15           \r-\r\\\r\\ [0/5 files][  1.8 GiB/  3.0 GiB]  57% Done  76.6 MiB/s ETA 00:00:17           \r|\r| [0/5 files][  1.8 GiB/  3.0 GiB]  58% Done  56.0 MiB/s ETA 00:00:23           \r/\r/ [0/5 files][  1.8 GiB/  3.0 GiB]  58% Done     0.0 B/s                        \r-\r\\\r\\ [0/5 files][  1.8 GiB/  3.0 GiB]  58% Done 315.3 KiB/s ETA 01:09:23           \r|\r| [0/5 files][  1.8 GiB/  3.0 GiB]  58% Done     0.0 B/s                        \r/\r/ [0/5 files][  1.8 GiB/  3.0 GiB]  58% Done     0.0 B/s                        \r-\r- [0/5 files][  1.8 GiB/  3.0 GiB]  58% Done 239.3 KiB/s ETA 01:31:20           \r\\\r|\r| [0/5 files][  1.9 GiB/  3.0 GiB]  61% Done  25.3 MiB/s ETA 00:00:47           \r/\r-\r- [0/5 files][  1.9 GiB/  3.0 GiB]  63% Done  35.6 MiB/s ETA 00:00:32           \r\\\r\\ [0/5 files][  2.0 GiB/  3.0 GiB]  66% Done  79.2 MiB/s ETA 00:00:13           \r|\r/\r/ [0/5 files][  2.1 GiB/  3.0 GiB]  68% Done  75.9 MiB/s ETA 00:00:13           \r-\r\\\r\\ [0/5 files][  2.2 GiB/  3.0 GiB]  71% Done  79.3 MiB/s ETA 00:00:11           \r|\r| [0/5 files][  2.2 GiB/  3.0 GiB]  73% Done  75.3 MiB/s ETA 00:00:11           \r/\r-\r- [0/5 files][  2.3 GiB/  3.0 GiB]  76% Done  77.4 MiB/s ETA 00:00:10           \r\\\r|\r| [0/5 files][  2.4 GiB/  3.0 GiB]  78% Done  71.3 MiB/s ETA 00:00:10           \r/\r/ [1/5 files][  2.4 GiB/  3.0 GiB]  80% Done  74.6 MiB/s ETA 00:00:08           \r-\r\\\r\\ [1/5 files][  2.5 GiB/  3.0 GiB]  82% Done  70.0 MiB/s ETA 00:00:08           \r|\r/\r/ [1/5 files][  2.6 GiB/  3.0 GiB]  84% Done  71.0 MiB/s ETA 00:00:07           \r/ [2/5 files][  2.6 GiB/  3.0 GiB]  85% Done  70.6 MiB/s ETA 00:00:06           \r-\r\\\r\\ [2/5 files][  2.7 GiB/  3.0 GiB]  87% Done  68.0 MiB/s ETA 00:00:06           \r|\r/\r/ [2/5 files][  2.7 GiB/  3.0 GiB]  89% Done  66.1 MiB/s ETA 00:00:05           \r-\r- [2/5 files][  2.8 GiB/  3.0 GiB]  91% Done  64.3 MiB/s ETA 00:00:04           \r\\\r|\r| [2/5 files][  2.9 GiB/  3.0 GiB]  93% Done  63.6 MiB/s ETA 00:00:03           \r/\r/ [3/5 files][  2.9 GiB/  3.0 GiB]  95% Done  65.9 MiB/s ETA 00:00:02           \r-\r\\\r\\ [3/5 files][  3.0 GiB/  3.0 GiB]  97% Done  63.6 MiB/s ETA 00:00:01           \r|\r/\r/ [3/5 files][  3.0 GiB/  3.0 GiB]  98% Done  56.3 MiB/s ETA 00:00:01           \r-\r\\\r\\ [3/5 files][  3.0 GiB/  3.0 GiB]  99% Done  48.4 MiB/s ETA 00:00:00           \r\\ [4/5 files][  3.0 GiB/  3.0 GiB]  99% Done  48.3 MiB/s ETA 00:00:00           \r"
          ],
          "name": "stderr"
        }
      ]
    },
    {
      "cell_type": "code",
      "metadata": {
        "id": "ojYERedIbIy2",
        "colab_type": "code",
        "outputId": "6fa6684a-3050-4330-e9fb-86c8d6225da1",
        "colab": {
          "base_uri": "https://localhost:8080/",
          "height": 952
        }
      },
      "source": [
        "!gdalinfo ma-data/orthoimagery/aoi_rufiji_Nyamisati.tif"
      ],
      "execution_count": 0,
      "outputs": [
        {
          "output_type": "stream",
          "text": [
            "Driver: GTiff/GeoTIFF\n",
            "Files: ma-data/orthoimagery/aoi_rufiji_Nyamisati.tif\n",
            "Size is 20019, 17473\n",
            "Coordinate System is:\n",
            "PROJCS[\"WGS 84 / UTM zone 37S\",\n",
            "    GEOGCS[\"WGS 84\",\n",
            "        DATUM[\"WGS_1984\",\n",
            "            SPHEROID[\"WGS 84\",6378137,298.257223563,\n",
            "                AUTHORITY[\"EPSG\",\"7030\"]],\n",
            "            TOWGS84[0,0,0,0,0,0,0],\n",
            "            AUTHORITY[\"EPSG\",\"6326\"]],\n",
            "        PRIMEM[\"Greenwich\",0],\n",
            "        UNIT[\"degree\",0.0174532925199433],\n",
            "        AUTHORITY[\"EPSG\",\"4326\"]],\n",
            "    PROJECTION[\"Transverse_Mercator\"],\n",
            "    PARAMETER[\"latitude_of_origin\",0],\n",
            "    PARAMETER[\"central_meridian\",39],\n",
            "    PARAMETER[\"scale_factor\",0.9996],\n",
            "    PARAMETER[\"false_easting\",500000],\n",
            "    PARAMETER[\"false_northing\",10000000],\n",
            "    UNIT[\"metre\",1,\n",
            "        AUTHORITY[\"EPSG\",\"9001\"]],\n",
            "    AUTHORITY[\"EPSG\",\"32737\"]]\n",
            "Origin = (530506.043157355161384,9138589.096017528325319)\n",
            "Pixel Size = (0.011132366273810,-0.011132366273778)\n",
            "Metadata:\n",
            "  AREA_OR_POINT=Area\n",
            "Image Structure Metadata:\n",
            "  COMPRESSION=LZW\n",
            "  INTERLEAVE=PIXEL\n",
            "Corner Coordinates:\n",
            "Upper Left  (  530506.043, 9138589.096) ( 39d16'36.07\"E,  7d47'34.38\"S)\n",
            "Lower Left  (  530506.043, 9138394.580) ( 39d16'36.08\"E,  7d47'40.71\"S)\n",
            "Upper Right (  530728.902, 9138589.096) ( 39d16'43.35\"E,  7d47'34.38\"S)\n",
            "Lower Right (  530728.902, 9138394.580) ( 39d16'43.36\"E,  7d47'40.71\"S)\n",
            "Center      (  530617.473, 9138491.838) ( 39d16'39.72\"E,  7d47'37.55\"S)\n",
            "Band 1 Block=256x256 Type=Byte, ColorInterp=Red\n",
            "  Overviews: 10010x8737, 5005x4369, 2503x2185, 1252x1093, 626x547, 313x274, 157x137\n",
            "  Mask Flags: PER_DATASET ALPHA \n",
            "  Overviews of mask band: 10010x8737, 5005x4369, 2503x2185, 1252x1093, 626x547, 313x274, 157x137\n",
            "  Unit Type: metre\n",
            "Band 2 Block=256x256 Type=Byte, ColorInterp=Green\n",
            "  Overviews: 10010x8737, 5005x4369, 2503x2185, 1252x1093, 626x547, 313x274, 157x137\n",
            "  Mask Flags: PER_DATASET ALPHA \n",
            "  Overviews of mask band: 10010x8737, 5005x4369, 2503x2185, 1252x1093, 626x547, 313x274, 157x137\n",
            "  Unit Type: metre\n",
            "Band 3 Block=256x256 Type=Byte, ColorInterp=Blue\n",
            "  Overviews: 10010x8737, 5005x4369, 2503x2185, 1252x1093, 626x547, 313x274, 157x137\n",
            "  Mask Flags: PER_DATASET ALPHA \n",
            "  Overviews of mask band: 10010x8737, 5005x4369, 2503x2185, 1252x1093, 626x547, 313x274, 157x137\n",
            "  Unit Type: metre\n",
            "Band 4 Block=256x256 Type=Byte, ColorInterp=Alpha\n",
            "  Overviews: 10010x8737, 5005x4369, 2503x2185, 1252x1093, 626x547, 313x274, 157x137\n",
            "  Unit Type: metre\n"
          ],
          "name": "stdout"
        }
      ]
    },
    {
      "cell_type": "code",
      "metadata": {
        "id": "JCkWaY9_WVpv",
        "colab_type": "code",
        "outputId": "57ac4c0e-21e2-4db4-a97b-d38802a75960",
        "colab": {
          "base_uri": "https://localhost:8080/",
          "height": 173
        }
      },
      "source": [
        "%%bash\n",
        "\n",
        "# Get resolution info from given raster\n",
        "function get_pixelsize() {\n",
        "    if [ -z \"$1\" ]; then\n",
        "        echo \"Missing arguments. Syntax:\"\n",
        "        echo \"  get_pixelsize <input_raster>\"\n",
        "        return\n",
        "    fi\n",
        "    EXTENT=( $(gdalinfo \"$1\" |\\\n",
        "        grep \"Pixel Size\" |\\\n",
        "        sed \"s/Pixel Size =//g; s/,/ /g\" |\\\n",
        "        tr \"\\n\" \" \" |\\\n",
        "        tr -d \"[(,])-\") )\n",
        "    echo -n \"$EXTENT\"\n",
        "}\n",
        "\n",
        "# TODO get more metadata for each image! USE MANIFEST JSON!!\n",
        "# Upload multple images to GEE asset as collection!\n",
        "# Get file list\n",
        "bn_asset=ma-data/orthoimagery\n",
        "eims=`gsutil ls gs://$bn_asset/*.tif`\n",
        "\n",
        "# Define asset path\n",
        "assetP=\"projects/global-mangrove-watch/orthoimagery\"\n",
        "\n",
        "# Define metadata for the layers\n",
        "# for units use definitions in https://www.unidata.ucar.edu/software/udunits/udunits-current/udunits/\n",
        "#strVer=\"(string)version=\"\n",
        "strProv=\"(string)provider='Wetlands International'\"\n",
        "#strDOI=\"(string)doi=\"\n",
        "#strCite=\"(string)citation=\"\n",
        "# time_start should be ISO8061\n",
        "#strTS=\"\"\n",
        "pyramiding_policy=\"mean\"\n",
        "\n",
        "# Orthoimages\n",
        "assetIdCol=\"uav_orthoimages\"\n",
        "strUnits=\"(string)units=RGBcolor\"\n",
        "earthengine create collection $assetP/$assetIdCol\n",
        "\n",
        "for file in $eims; do\n",
        "  filename=`basename $file`\n",
        "  asset_id=\"${filename%.*}\"\n",
        "  res=$(get_pixelsize ${file#gs://})\n",
        "  echo $res\n",
        "  strRes=\"resolution=$res\"\n",
        "  earthengine upload image --asset_id=\"$assetP/$assetIdCol/$asset_id\" \\\n",
        "  --force \\\n",
        "  --last_band_alpha \\\n",
        "  --pyramiding_policy=$pyramiding_policy \\\n",
        "  --property=\"${strProv}\" \\\n",
        "  --property=\"${strRes}\" \\\n",
        "  --property=\"${strUnits}\" \\\n",
        "  $file\n",
        "\n",
        "done  "
      ],
      "execution_count": 0,
      "outputs": [
        {
          "output_type": "stream",
          "text": [
            "Asset projects/global-mangrove-watch/orthoimagery/uav_orthoimages already exists.\n",
            "0.015169615226314\n",
            "Started upload task with ID: URPC5MZH4W7V33Z2BOD3CFDU\n",
            "0.011132366273810\n",
            "Started upload task with ID: 4LW7E7NYLONCJ7DF64BS7J5J\n",
            "0.012607628398661\n",
            "Started upload task with ID: TW4DEG4IQQ7TDGCANGTQZ2ZJ\n",
            "0.018485947526993\n",
            "Started upload task with ID: Q73W3UROQJCYZ3K2GVGQKPHM\n"
          ],
          "name": "stdout"
        }
      ]
    },
    {
      "cell_type": "code",
      "metadata": {
        "id": "uUTcNivGbyQI",
        "colab_type": "code",
        "colab": {}
      },
      "source": [
        "# Clean up\n",
        "!rm -r ma-data/orthoimagery"
      ],
      "execution_count": 0,
      "outputs": []
    },
    {
      "cell_type": "markdown",
      "metadata": {
        "id": "mjZ0YxP3uKU3",
        "colab_type": "text"
      },
      "source": [
        "# Coastline vector line strings\n",
        "\n",
        "OSM coastlines - regularily updated, detailed in some regions, poor in others!\n",
        "\n",
        "+ https://osmdata.openstreetmap.de/download/coastlines-split-4326.zip\n",
        "\n",
        "\n",
        "Global Self-consistent, Hierarchical, High-resolution Geography Database (GSHHG) - stable, not regularily updated\n",
        "\n",
        "+ https://www.ngdc.noaa.gov/mgg/shorelines/data/gshhg/latest/gshhg-shp-2.3.7.zip"
      ]
    },
    {
      "cell_type": "code",
      "metadata": {
        "id": "Vrc7KKi1utB6",
        "colab_type": "code",
        "outputId": "f2cd01ad-a30c-4cc0-8c64-a699f6cdda54",
        "colab": {
          "base_uri": "https://localhost:8080/",
          "height": 86
        }
      },
      "source": [
        "# Get OSM coastlines and transfer to GCS\n",
        "!mkdir ma-data/physical-environment \n",
        "!curl https://osmdata.openstreetmap.de/download/coastlines-split-4326.zip -o ma-data/physical-environment/osm_coastlines-split-4326.zip"
      ],
      "execution_count": 0,
      "outputs": [
        {
          "output_type": "stream",
          "text": [
            "mkdir: cannot create directory ‘ma-data/physical-environment’: File exists\n",
            "  % Total    % Received % Xferd  Average Speed   Time    Time     Time  Current\n",
            "                                 Dload  Upload   Total   Spent    Left  Speed\n",
            "100  533M  100  533M    0     0  12.7M      0  0:00:41  0:00:41 --:--:-- 13.7M\n"
          ],
          "name": "stdout"
        }
      ]
    },
    {
      "cell_type": "code",
      "metadata": {
        "id": "tdP7GvGdu9NJ",
        "colab_type": "code",
        "outputId": "2c3a0d1f-c43a-408a-d6bf-18c86395cd85",
        "colab": {
          "base_uri": "https://localhost:8080/",
          "height": 86
        }
      },
      "source": [
        "# Get GSHHG\n",
        "!mkdir ma-data/physical-environment\n",
        "!curl https://www.ngdc.noaa.gov/mgg/shorelines/data/gshhg/latest/gshhg-shp-2.3.7.zip -o ma-data/physical-environment/gshhg-shp-2.3.7.zip"
      ],
      "execution_count": 0,
      "outputs": [
        {
          "output_type": "stream",
          "text": [
            "mkdir: cannot create directory ‘ma-data/physical-environment’: File exists\n",
            "  % Total    % Received % Xferd  Average Speed   Time    Time     Time  Current\n",
            "                                 Dload  Upload   Total   Spent    Left  Speed\n",
            "100  142M  100  142M    0     0  13.7M      0  0:00:10  0:00:10 --:--:-- 14.0M\n"
          ],
          "name": "stdout"
        }
      ]
    },
    {
      "cell_type": "code",
      "metadata": {
        "id": "VuDaf-kG-GIV",
        "colab_type": "code",
        "colab": {}
      },
      "source": [
        "# Upload to GCS\n",
        "!gsutil -m cp -r ma-data/physical-environment gs://ma-data"
      ],
      "execution_count": 0,
      "outputs": []
    },
    {
      "cell_type": "code",
      "metadata": {
        "id": "wAbFnEF_ueoH",
        "colab_type": "code",
        "outputId": "9e6fddba-0009-440f-ce82-add2079f71e7",
        "colab": {
          "base_uri": "https://localhost:8080/",
          "height": 7242
        }
      },
      "source": [
        "%%bash\n",
        "# Unzip and select shapefiles\n",
        "# Set working directories\n",
        "df=ma-data/physical-environment\n",
        "sf=ma-data/physical-environment/shapefiles\n",
        "pf=ma-data/physical-environment/processed\n",
        "\n",
        "# Create directories (if needed)\n",
        "mkdir $df\n",
        "mkdir $sf\n",
        "mkdir $pf\n",
        "mkdir -p ${pf}/geojson\n",
        "\n",
        "# Pull from GCS\n",
        "gsutil -m cp -r gs://ma-data/physical-environment ma-data\n",
        "\n",
        "# Extract original ZIP to $sf\n",
        "arr=(${df}/*.zip)\n",
        "for ((i=0; i<${#arr[@]}; i++)); do\n",
        "  z=\"${arr[$i]}\"\n",
        "  echo \"Extracting\" $z\n",
        "  unzip -o $z -d $sf\n",
        "done\n"
      ],
      "execution_count": 0,
      "outputs": [
        {
          "output_type": "stream",
          "text": [
            "Extracting ma-data/physical-environment/gshhg-shp-2.3.7.zip\n",
            "Archive:  ma-data/physical-environment/gshhg-shp-2.3.7.zip\n",
            "  inflating: ma-data/physical-environment/shapefiles/README.TXT  \n",
            "  inflating: ma-data/physical-environment/shapefiles/SHAPEFILES.TXT  \n",
            "  inflating: ma-data/physical-environment/shapefiles/LICENSE.TXT  \n",
            "  inflating: ma-data/physical-environment/shapefiles/COPYING.LESSERv3  \n",
            "  inflating: ma-data/physical-environment/shapefiles/GSHHS_shp/c/GSHHS_c_L1.dbf  \n",
            "  inflating: ma-data/physical-environment/shapefiles/GSHHS_shp/c/GSHHS_c_L1.prj  \n",
            "  inflating: ma-data/physical-environment/shapefiles/GSHHS_shp/c/GSHHS_c_L1.shp  \n",
            "  inflating: ma-data/physical-environment/shapefiles/GSHHS_shp/c/GSHHS_c_L1.shx  \n",
            "  inflating: ma-data/physical-environment/shapefiles/GSHHS_shp/c/GSHHS_c_L2.dbf  \n",
            "  inflating: ma-data/physical-environment/shapefiles/GSHHS_shp/c/GSHHS_c_L2.prj  \n",
            "  inflating: ma-data/physical-environment/shapefiles/GSHHS_shp/c/GSHHS_c_L2.shp  \n",
            "  inflating: ma-data/physical-environment/shapefiles/GSHHS_shp/c/GSHHS_c_L2.shx  \n",
            "  inflating: ma-data/physical-environment/shapefiles/GSHHS_shp/c/GSHHS_c_L3.dbf  \n",
            "  inflating: ma-data/physical-environment/shapefiles/GSHHS_shp/c/GSHHS_c_L3.prj  \n",
            "  inflating: ma-data/physical-environment/shapefiles/GSHHS_shp/c/GSHHS_c_L3.shp  \n",
            "  inflating: ma-data/physical-environment/shapefiles/GSHHS_shp/c/GSHHS_c_L3.shx  \n",
            "  inflating: ma-data/physical-environment/shapefiles/GSHHS_shp/c/GSHHS_c_L5.dbf  \n",
            "  inflating: ma-data/physical-environment/shapefiles/GSHHS_shp/c/GSHHS_c_L5.prj  \n",
            "  inflating: ma-data/physical-environment/shapefiles/GSHHS_shp/c/GSHHS_c_L5.shp  \n",
            "  inflating: ma-data/physical-environment/shapefiles/GSHHS_shp/c/GSHHS_c_L5.shx  \n",
            "  inflating: ma-data/physical-environment/shapefiles/GSHHS_shp/c/GSHHS_c_L6.dbf  \n",
            "  inflating: ma-data/physical-environment/shapefiles/GSHHS_shp/c/GSHHS_c_L6.prj  \n",
            "  inflating: ma-data/physical-environment/shapefiles/GSHHS_shp/c/GSHHS_c_L6.shp  \n",
            "  inflating: ma-data/physical-environment/shapefiles/GSHHS_shp/c/GSHHS_c_L6.shx  \n",
            "  inflating: ma-data/physical-environment/shapefiles/GSHHS_shp/f/GSHHS_f_L1.dbf  \n",
            "  inflating: ma-data/physical-environment/shapefiles/GSHHS_shp/f/GSHHS_f_L1.prj  \n",
            "  inflating: ma-data/physical-environment/shapefiles/GSHHS_shp/f/GSHHS_f_L1.shp  \n",
            "  inflating: ma-data/physical-environment/shapefiles/GSHHS_shp/f/GSHHS_f_L1.shx  \n",
            "  inflating: ma-data/physical-environment/shapefiles/GSHHS_shp/f/GSHHS_f_L2.dbf  \n",
            "  inflating: ma-data/physical-environment/shapefiles/GSHHS_shp/f/GSHHS_f_L2.prj  \n",
            "  inflating: ma-data/physical-environment/shapefiles/GSHHS_shp/f/GSHHS_f_L2.shp  \n",
            "  inflating: ma-data/physical-environment/shapefiles/GSHHS_shp/f/GSHHS_f_L2.shx  \n",
            "  inflating: ma-data/physical-environment/shapefiles/GSHHS_shp/f/GSHHS_f_L3.dbf  \n",
            "  inflating: ma-data/physical-environment/shapefiles/GSHHS_shp/f/GSHHS_f_L3.prj  \n",
            "  inflating: ma-data/physical-environment/shapefiles/GSHHS_shp/f/GSHHS_f_L3.shp  \n",
            "  inflating: ma-data/physical-environment/shapefiles/GSHHS_shp/f/GSHHS_f_L3.shx  \n",
            "  inflating: ma-data/physical-environment/shapefiles/GSHHS_shp/f/GSHHS_f_L4.dbf  \n",
            "  inflating: ma-data/physical-environment/shapefiles/GSHHS_shp/f/GSHHS_f_L4.prj  \n",
            "  inflating: ma-data/physical-environment/shapefiles/GSHHS_shp/f/GSHHS_f_L4.shp  \n",
            "  inflating: ma-data/physical-environment/shapefiles/GSHHS_shp/f/GSHHS_f_L4.shx  \n",
            "  inflating: ma-data/physical-environment/shapefiles/GSHHS_shp/f/GSHHS_f_L5.dbf  \n",
            "  inflating: ma-data/physical-environment/shapefiles/GSHHS_shp/f/GSHHS_f_L5.prj  \n",
            "  inflating: ma-data/physical-environment/shapefiles/GSHHS_shp/f/GSHHS_f_L5.shp  \n",
            "  inflating: ma-data/physical-environment/shapefiles/GSHHS_shp/f/GSHHS_f_L5.shx  \n",
            "  inflating: ma-data/physical-environment/shapefiles/GSHHS_shp/f/GSHHS_f_L6.dbf  \n",
            "  inflating: ma-data/physical-environment/shapefiles/GSHHS_shp/f/GSHHS_f_L6.prj  \n",
            "  inflating: ma-data/physical-environment/shapefiles/GSHHS_shp/f/GSHHS_f_L6.shp  \n",
            "  inflating: ma-data/physical-environment/shapefiles/GSHHS_shp/f/GSHHS_f_L6.shx  \n",
            "  inflating: ma-data/physical-environment/shapefiles/GSHHS_shp/h/GSHHS_h_L1.dbf  \n",
            "  inflating: ma-data/physical-environment/shapefiles/GSHHS_shp/h/GSHHS_h_L1.prj  \n",
            "  inflating: ma-data/physical-environment/shapefiles/GSHHS_shp/h/GSHHS_h_L1.shp  \n",
            "  inflating: ma-data/physical-environment/shapefiles/GSHHS_shp/h/GSHHS_h_L1.shx  \n",
            "  inflating: ma-data/physical-environment/shapefiles/GSHHS_shp/h/GSHHS_h_L2.dbf  \n",
            "  inflating: ma-data/physical-environment/shapefiles/GSHHS_shp/h/GSHHS_h_L2.prj  \n",
            "  inflating: ma-data/physical-environment/shapefiles/GSHHS_shp/h/GSHHS_h_L2.shp  \n",
            "  inflating: ma-data/physical-environment/shapefiles/GSHHS_shp/h/GSHHS_h_L2.shx  \n",
            "  inflating: ma-data/physical-environment/shapefiles/GSHHS_shp/h/GSHHS_h_L3.dbf  \n",
            "  inflating: ma-data/physical-environment/shapefiles/GSHHS_shp/h/GSHHS_h_L3.prj  \n",
            "  inflating: ma-data/physical-environment/shapefiles/GSHHS_shp/h/GSHHS_h_L3.shp  \n",
            "  inflating: ma-data/physical-environment/shapefiles/GSHHS_shp/h/GSHHS_h_L3.shx  \n",
            "  inflating: ma-data/physical-environment/shapefiles/GSHHS_shp/h/GSHHS_h_L4.dbf  \n",
            "  inflating: ma-data/physical-environment/shapefiles/GSHHS_shp/h/GSHHS_h_L4.prj  \n",
            "  inflating: ma-data/physical-environment/shapefiles/GSHHS_shp/h/GSHHS_h_L4.shp  \n",
            "  inflating: ma-data/physical-environment/shapefiles/GSHHS_shp/h/GSHHS_h_L4.shx  \n",
            "  inflating: ma-data/physical-environment/shapefiles/GSHHS_shp/h/GSHHS_h_L5.dbf  \n",
            "  inflating: ma-data/physical-environment/shapefiles/GSHHS_shp/h/GSHHS_h_L5.prj  \n",
            "  inflating: ma-data/physical-environment/shapefiles/GSHHS_shp/h/GSHHS_h_L5.shp  \n",
            "  inflating: ma-data/physical-environment/shapefiles/GSHHS_shp/h/GSHHS_h_L5.shx  \n",
            "  inflating: ma-data/physical-environment/shapefiles/GSHHS_shp/h/GSHHS_h_L6.dbf  \n",
            "  inflating: ma-data/physical-environment/shapefiles/GSHHS_shp/h/GSHHS_h_L6.prj  \n",
            "  inflating: ma-data/physical-environment/shapefiles/GSHHS_shp/h/GSHHS_h_L6.shp  \n",
            "  inflating: ma-data/physical-environment/shapefiles/GSHHS_shp/h/GSHHS_h_L6.shx  \n",
            "  inflating: ma-data/physical-environment/shapefiles/GSHHS_shp/i/GSHHS_i_L1.dbf  \n",
            "  inflating: ma-data/physical-environment/shapefiles/GSHHS_shp/i/GSHHS_i_L1.prj  \n",
            "  inflating: ma-data/physical-environment/shapefiles/GSHHS_shp/i/GSHHS_i_L1.shp  \n",
            "  inflating: ma-data/physical-environment/shapefiles/GSHHS_shp/i/GSHHS_i_L1.shx  \n",
            "  inflating: ma-data/physical-environment/shapefiles/GSHHS_shp/i/GSHHS_i_L2.dbf  \n",
            "  inflating: ma-data/physical-environment/shapefiles/GSHHS_shp/i/GSHHS_i_L2.prj  \n",
            "  inflating: ma-data/physical-environment/shapefiles/GSHHS_shp/i/GSHHS_i_L2.shp  \n",
            "  inflating: ma-data/physical-environment/shapefiles/GSHHS_shp/i/GSHHS_i_L2.shx  \n",
            "  inflating: ma-data/physical-environment/shapefiles/GSHHS_shp/i/GSHHS_i_L3.dbf  \n",
            "  inflating: ma-data/physical-environment/shapefiles/GSHHS_shp/i/GSHHS_i_L3.prj  \n",
            "  inflating: ma-data/physical-environment/shapefiles/GSHHS_shp/i/GSHHS_i_L3.shp  \n",
            "  inflating: ma-data/physical-environment/shapefiles/GSHHS_shp/i/GSHHS_i_L3.shx  \n",
            "  inflating: ma-data/physical-environment/shapefiles/GSHHS_shp/i/GSHHS_i_L4.dbf  \n",
            "  inflating: ma-data/physical-environment/shapefiles/GSHHS_shp/i/GSHHS_i_L4.prj  \n",
            "  inflating: ma-data/physical-environment/shapefiles/GSHHS_shp/i/GSHHS_i_L4.shp  \n",
            "  inflating: ma-data/physical-environment/shapefiles/GSHHS_shp/i/GSHHS_i_L4.shx  \n",
            "  inflating: ma-data/physical-environment/shapefiles/GSHHS_shp/i/GSHHS_i_L5.dbf  \n",
            "  inflating: ma-data/physical-environment/shapefiles/GSHHS_shp/i/GSHHS_i_L5.prj  \n",
            "  inflating: ma-data/physical-environment/shapefiles/GSHHS_shp/i/GSHHS_i_L5.shp  \n",
            "  inflating: ma-data/physical-environment/shapefiles/GSHHS_shp/i/GSHHS_i_L5.shx  \n",
            "  inflating: ma-data/physical-environment/shapefiles/GSHHS_shp/i/GSHHS_i_L6.dbf  \n",
            "  inflating: ma-data/physical-environment/shapefiles/GSHHS_shp/i/GSHHS_i_L6.prj  \n",
            "  inflating: ma-data/physical-environment/shapefiles/GSHHS_shp/i/GSHHS_i_L6.shp  \n",
            "  inflating: ma-data/physical-environment/shapefiles/GSHHS_shp/i/GSHHS_i_L6.shx  \n",
            "  inflating: ma-data/physical-environment/shapefiles/GSHHS_shp/l/GSHHS_l_L1.dbf  \n",
            "  inflating: ma-data/physical-environment/shapefiles/GSHHS_shp/l/GSHHS_l_L1.prj  \n",
            "  inflating: ma-data/physical-environment/shapefiles/GSHHS_shp/l/GSHHS_l_L1.shp  \n",
            "  inflating: ma-data/physical-environment/shapefiles/GSHHS_shp/l/GSHHS_l_L1.shx  \n",
            "  inflating: ma-data/physical-environment/shapefiles/GSHHS_shp/l/GSHHS_l_L2.dbf  \n",
            "  inflating: ma-data/physical-environment/shapefiles/GSHHS_shp/l/GSHHS_l_L2.prj  \n",
            "  inflating: ma-data/physical-environment/shapefiles/GSHHS_shp/l/GSHHS_l_L2.shp  \n",
            "  inflating: ma-data/physical-environment/shapefiles/GSHHS_shp/l/GSHHS_l_L2.shx  \n",
            "  inflating: ma-data/physical-environment/shapefiles/GSHHS_shp/l/GSHHS_l_L3.dbf  \n",
            "  inflating: ma-data/physical-environment/shapefiles/GSHHS_shp/l/GSHHS_l_L3.prj  \n",
            "  inflating: ma-data/physical-environment/shapefiles/GSHHS_shp/l/GSHHS_l_L3.shp  \n",
            "  inflating: ma-data/physical-environment/shapefiles/GSHHS_shp/l/GSHHS_l_L3.shx  \n",
            "  inflating: ma-data/physical-environment/shapefiles/GSHHS_shp/l/GSHHS_l_L4.dbf  \n",
            "  inflating: ma-data/physical-environment/shapefiles/GSHHS_shp/l/GSHHS_l_L4.prj  \n",
            "  inflating: ma-data/physical-environment/shapefiles/GSHHS_shp/l/GSHHS_l_L4.shp  \n",
            "  inflating: ma-data/physical-environment/shapefiles/GSHHS_shp/l/GSHHS_l_L4.shx  \n",
            "  inflating: ma-data/physical-environment/shapefiles/GSHHS_shp/l/GSHHS_l_L5.dbf  \n",
            "  inflating: ma-data/physical-environment/shapefiles/GSHHS_shp/l/GSHHS_l_L5.prj  \n",
            "  inflating: ma-data/physical-environment/shapefiles/GSHHS_shp/l/GSHHS_l_L5.shp  \n",
            "  inflating: ma-data/physical-environment/shapefiles/GSHHS_shp/l/GSHHS_l_L5.shx  \n",
            "  inflating: ma-data/physical-environment/shapefiles/GSHHS_shp/l/GSHHS_l_L6.dbf  \n",
            "  inflating: ma-data/physical-environment/shapefiles/GSHHS_shp/l/GSHHS_l_L6.prj  \n",
            "  inflating: ma-data/physical-environment/shapefiles/GSHHS_shp/l/GSHHS_l_L6.shp  \n",
            "  inflating: ma-data/physical-environment/shapefiles/GSHHS_shp/l/GSHHS_l_L6.shx  \n",
            "  inflating: ma-data/physical-environment/shapefiles/WDBII_shp/c/WDBII_border_c_L1.dbf  \n",
            "  inflating: ma-data/physical-environment/shapefiles/WDBII_shp/c/WDBII_border_c_L1.prj  \n",
            "  inflating: ma-data/physical-environment/shapefiles/WDBII_shp/c/WDBII_border_c_L1.shp  \n",
            "  inflating: ma-data/physical-environment/shapefiles/WDBII_shp/c/WDBII_border_c_L1.shx  \n",
            "  inflating: ma-data/physical-environment/shapefiles/WDBII_shp/c/WDBII_border_c_L2.dbf  \n",
            "  inflating: ma-data/physical-environment/shapefiles/WDBII_shp/c/WDBII_border_c_L2.prj  \n",
            "  inflating: ma-data/physical-environment/shapefiles/WDBII_shp/c/WDBII_border_c_L2.shp  \n",
            "  inflating: ma-data/physical-environment/shapefiles/WDBII_shp/c/WDBII_border_c_L2.shx  \n",
            "  inflating: ma-data/physical-environment/shapefiles/WDBII_shp/c/WDBII_border_c_L3.dbf  \n",
            "  inflating: ma-data/physical-environment/shapefiles/WDBII_shp/c/WDBII_border_c_L3.prj  \n",
            "  inflating: ma-data/physical-environment/shapefiles/WDBII_shp/c/WDBII_border_c_L3.shp  \n",
            "  inflating: ma-data/physical-environment/shapefiles/WDBII_shp/c/WDBII_border_c_L3.shx  \n",
            "  inflating: ma-data/physical-environment/shapefiles/WDBII_shp/c/WDBII_river_c_L01.dbf  \n",
            "  inflating: ma-data/physical-environment/shapefiles/WDBII_shp/c/WDBII_river_c_L01.prj  \n",
            "  inflating: ma-data/physical-environment/shapefiles/WDBII_shp/c/WDBII_river_c_L01.shp  \n",
            "  inflating: ma-data/physical-environment/shapefiles/WDBII_shp/c/WDBII_river_c_L01.shx  \n",
            "  inflating: ma-data/physical-environment/shapefiles/WDBII_shp/c/WDBII_river_c_L02.dbf  \n",
            "  inflating: ma-data/physical-environment/shapefiles/WDBII_shp/c/WDBII_river_c_L02.prj  \n",
            "  inflating: ma-data/physical-environment/shapefiles/WDBII_shp/c/WDBII_river_c_L02.shp  \n",
            "  inflating: ma-data/physical-environment/shapefiles/WDBII_shp/c/WDBII_river_c_L02.shx  \n",
            "  inflating: ma-data/physical-environment/shapefiles/WDBII_shp/c/WDBII_river_c_L03.dbf  \n",
            "  inflating: ma-data/physical-environment/shapefiles/WDBII_shp/c/WDBII_river_c_L03.prj  \n",
            "  inflating: ma-data/physical-environment/shapefiles/WDBII_shp/c/WDBII_river_c_L03.shp  \n",
            "  inflating: ma-data/physical-environment/shapefiles/WDBII_shp/c/WDBII_river_c_L03.shx  \n",
            "  inflating: ma-data/physical-environment/shapefiles/WDBII_shp/c/WDBII_river_c_L04.dbf  \n",
            "  inflating: ma-data/physical-environment/shapefiles/WDBII_shp/c/WDBII_river_c_L04.prj  \n",
            "  inflating: ma-data/physical-environment/shapefiles/WDBII_shp/c/WDBII_river_c_L04.shp  \n",
            "  inflating: ma-data/physical-environment/shapefiles/WDBII_shp/c/WDBII_river_c_L04.shx  \n",
            "  inflating: ma-data/physical-environment/shapefiles/WDBII_shp/c/WDBII_river_c_L05.dbf  \n",
            "  inflating: ma-data/physical-environment/shapefiles/WDBII_shp/c/WDBII_river_c_L05.prj  \n",
            "  inflating: ma-data/physical-environment/shapefiles/WDBII_shp/c/WDBII_river_c_L05.shp  \n",
            "  inflating: ma-data/physical-environment/shapefiles/WDBII_shp/c/WDBII_river_c_L05.shx  \n",
            "  inflating: ma-data/physical-environment/shapefiles/WDBII_shp/c/WDBII_river_c_L06.dbf  \n",
            "  inflating: ma-data/physical-environment/shapefiles/WDBII_shp/c/WDBII_river_c_L06.prj  \n",
            "  inflating: ma-data/physical-environment/shapefiles/WDBII_shp/c/WDBII_river_c_L06.shp  \n",
            "  inflating: ma-data/physical-environment/shapefiles/WDBII_shp/c/WDBII_river_c_L06.shx  \n",
            "  inflating: ma-data/physical-environment/shapefiles/WDBII_shp/c/WDBII_river_c_L07.dbf  \n",
            "  inflating: ma-data/physical-environment/shapefiles/WDBII_shp/c/WDBII_river_c_L07.prj  \n",
            "  inflating: ma-data/physical-environment/shapefiles/WDBII_shp/c/WDBII_river_c_L07.shp  \n",
            "  inflating: ma-data/physical-environment/shapefiles/WDBII_shp/c/WDBII_river_c_L07.shx  \n",
            "  inflating: ma-data/physical-environment/shapefiles/WDBII_shp/c/WDBII_river_c_L08.dbf  \n",
            "  inflating: ma-data/physical-environment/shapefiles/WDBII_shp/c/WDBII_river_c_L08.prj  \n",
            "  inflating: ma-data/physical-environment/shapefiles/WDBII_shp/c/WDBII_river_c_L08.shp  \n",
            "  inflating: ma-data/physical-environment/shapefiles/WDBII_shp/c/WDBII_river_c_L08.shx  \n",
            "  inflating: ma-data/physical-environment/shapefiles/WDBII_shp/c/WDBII_river_c_L09.dbf  \n",
            "  inflating: ma-data/physical-environment/shapefiles/WDBII_shp/c/WDBII_river_c_L09.prj  \n",
            "  inflating: ma-data/physical-environment/shapefiles/WDBII_shp/c/WDBII_river_c_L09.shp  \n",
            "  inflating: ma-data/physical-environment/shapefiles/WDBII_shp/c/WDBII_river_c_L09.shx  \n",
            "  inflating: ma-data/physical-environment/shapefiles/WDBII_shp/c/WDBII_river_c_L10.dbf  \n",
            "  inflating: ma-data/physical-environment/shapefiles/WDBII_shp/c/WDBII_river_c_L10.prj  \n",
            "  inflating: ma-data/physical-environment/shapefiles/WDBII_shp/c/WDBII_river_c_L10.shp  \n",
            "  inflating: ma-data/physical-environment/shapefiles/WDBII_shp/c/WDBII_river_c_L10.shx  \n",
            "  inflating: ma-data/physical-environment/shapefiles/WDBII_shp/c/WDBII_river_c_L11.dbf  \n",
            "  inflating: ma-data/physical-environment/shapefiles/WDBII_shp/c/WDBII_river_c_L11.prj  \n",
            "  inflating: ma-data/physical-environment/shapefiles/WDBII_shp/c/WDBII_river_c_L11.shp  \n",
            "  inflating: ma-data/physical-environment/shapefiles/WDBII_shp/c/WDBII_river_c_L11.shx  \n",
            "  inflating: ma-data/physical-environment/shapefiles/WDBII_shp/f/WDBII_border_f_L1.dbf  \n",
            "  inflating: ma-data/physical-environment/shapefiles/WDBII_shp/f/WDBII_border_f_L1.prj  \n",
            "  inflating: ma-data/physical-environment/shapefiles/WDBII_shp/f/WDBII_border_f_L1.shp  \n",
            "  inflating: ma-data/physical-environment/shapefiles/WDBII_shp/f/WDBII_border_f_L1.shx  \n",
            "  inflating: ma-data/physical-environment/shapefiles/WDBII_shp/f/WDBII_border_f_L2.dbf  \n",
            "  inflating: ma-data/physical-environment/shapefiles/WDBII_shp/f/WDBII_border_f_L2.prj  \n",
            "  inflating: ma-data/physical-environment/shapefiles/WDBII_shp/f/WDBII_border_f_L2.shp  \n",
            "  inflating: ma-data/physical-environment/shapefiles/WDBII_shp/f/WDBII_border_f_L2.shx  \n",
            "  inflating: ma-data/physical-environment/shapefiles/WDBII_shp/f/WDBII_border_f_L3.dbf  \n",
            "  inflating: ma-data/physical-environment/shapefiles/WDBII_shp/f/WDBII_border_f_L3.prj  \n",
            "  inflating: ma-data/physical-environment/shapefiles/WDBII_shp/f/WDBII_border_f_L3.shp  \n",
            "  inflating: ma-data/physical-environment/shapefiles/WDBII_shp/f/WDBII_border_f_L3.shx  \n",
            "  inflating: ma-data/physical-environment/shapefiles/WDBII_shp/f/WDBII_river_f_L01.dbf  \n",
            "  inflating: ma-data/physical-environment/shapefiles/WDBII_shp/f/WDBII_river_f_L01.prj  \n",
            "  inflating: ma-data/physical-environment/shapefiles/WDBII_shp/f/WDBII_river_f_L01.shp  \n",
            "  inflating: ma-data/physical-environment/shapefiles/WDBII_shp/f/WDBII_river_f_L01.shx  \n",
            "  inflating: ma-data/physical-environment/shapefiles/WDBII_shp/f/WDBII_river_f_L02.dbf  \n",
            "  inflating: ma-data/physical-environment/shapefiles/WDBII_shp/f/WDBII_river_f_L02.prj  \n",
            "  inflating: ma-data/physical-environment/shapefiles/WDBII_shp/f/WDBII_river_f_L02.shp  \n",
            "  inflating: ma-data/physical-environment/shapefiles/WDBII_shp/f/WDBII_river_f_L02.shx  \n",
            "  inflating: ma-data/physical-environment/shapefiles/WDBII_shp/f/WDBII_river_f_L03.dbf  \n",
            "  inflating: ma-data/physical-environment/shapefiles/WDBII_shp/f/WDBII_river_f_L03.prj  \n",
            "  inflating: ma-data/physical-environment/shapefiles/WDBII_shp/f/WDBII_river_f_L03.shp  \n",
            "  inflating: ma-data/physical-environment/shapefiles/WDBII_shp/f/WDBII_river_f_L03.shx  \n",
            "  inflating: ma-data/physical-environment/shapefiles/WDBII_shp/f/WDBII_river_f_L04.dbf  \n",
            "  inflating: ma-data/physical-environment/shapefiles/WDBII_shp/f/WDBII_river_f_L04.prj  \n",
            "  inflating: ma-data/physical-environment/shapefiles/WDBII_shp/f/WDBII_river_f_L04.shp  \n",
            "  inflating: ma-data/physical-environment/shapefiles/WDBII_shp/f/WDBII_river_f_L04.shx  \n",
            "  inflating: ma-data/physical-environment/shapefiles/WDBII_shp/f/WDBII_river_f_L05.dbf  \n",
            "  inflating: ma-data/physical-environment/shapefiles/WDBII_shp/f/WDBII_river_f_L05.prj  \n",
            "  inflating: ma-data/physical-environment/shapefiles/WDBII_shp/f/WDBII_river_f_L05.shp  \n",
            "  inflating: ma-data/physical-environment/shapefiles/WDBII_shp/f/WDBII_river_f_L05.shx  \n",
            "  inflating: ma-data/physical-environment/shapefiles/WDBII_shp/f/WDBII_river_f_L06.dbf  \n",
            "  inflating: ma-data/physical-environment/shapefiles/WDBII_shp/f/WDBII_river_f_L06.prj  \n",
            "  inflating: ma-data/physical-environment/shapefiles/WDBII_shp/f/WDBII_river_f_L06.shp  \n",
            "  inflating: ma-data/physical-environment/shapefiles/WDBII_shp/f/WDBII_river_f_L06.shx  \n",
            "  inflating: ma-data/physical-environment/shapefiles/WDBII_shp/f/WDBII_river_f_L07.dbf  \n",
            "  inflating: ma-data/physical-environment/shapefiles/WDBII_shp/f/WDBII_river_f_L07.prj  \n",
            "  inflating: ma-data/physical-environment/shapefiles/WDBII_shp/f/WDBII_river_f_L07.shp  \n",
            "  inflating: ma-data/physical-environment/shapefiles/WDBII_shp/f/WDBII_river_f_L07.shx  \n",
            "  inflating: ma-data/physical-environment/shapefiles/WDBII_shp/f/WDBII_river_f_L08.dbf  \n",
            "  inflating: ma-data/physical-environment/shapefiles/WDBII_shp/f/WDBII_river_f_L08.prj  \n",
            "  inflating: ma-data/physical-environment/shapefiles/WDBII_shp/f/WDBII_river_f_L08.shp  \n",
            "  inflating: ma-data/physical-environment/shapefiles/WDBII_shp/f/WDBII_river_f_L08.shx  \n",
            "  inflating: ma-data/physical-environment/shapefiles/WDBII_shp/f/WDBII_river_f_L09.dbf  \n",
            "  inflating: ma-data/physical-environment/shapefiles/WDBII_shp/f/WDBII_river_f_L09.prj  \n",
            "  inflating: ma-data/physical-environment/shapefiles/WDBII_shp/f/WDBII_river_f_L09.shp  \n",
            "  inflating: ma-data/physical-environment/shapefiles/WDBII_shp/f/WDBII_river_f_L09.shx  \n",
            "  inflating: ma-data/physical-environment/shapefiles/WDBII_shp/f/WDBII_river_f_L10.dbf  \n",
            "  inflating: ma-data/physical-environment/shapefiles/WDBII_shp/f/WDBII_river_f_L10.prj  \n",
            "  inflating: ma-data/physical-environment/shapefiles/WDBII_shp/f/WDBII_river_f_L10.shp  \n",
            "  inflating: ma-data/physical-environment/shapefiles/WDBII_shp/f/WDBII_river_f_L10.shx  \n",
            "  inflating: ma-data/physical-environment/shapefiles/WDBII_shp/f/WDBII_river_f_L11.dbf  \n",
            "  inflating: ma-data/physical-environment/shapefiles/WDBII_shp/f/WDBII_river_f_L11.prj  \n",
            "  inflating: ma-data/physical-environment/shapefiles/WDBII_shp/f/WDBII_river_f_L11.shp  \n",
            "  inflating: ma-data/physical-environment/shapefiles/WDBII_shp/f/WDBII_river_f_L11.shx  \n",
            "  inflating: ma-data/physical-environment/shapefiles/WDBII_shp/h/WDBII_border_h_L1.dbf  \n",
            "  inflating: ma-data/physical-environment/shapefiles/WDBII_shp/h/WDBII_border_h_L1.prj  \n",
            "  inflating: ma-data/physical-environment/shapefiles/WDBII_shp/h/WDBII_border_h_L1.shp  \n",
            "  inflating: ma-data/physical-environment/shapefiles/WDBII_shp/h/WDBII_border_h_L1.shx  \n",
            "  inflating: ma-data/physical-environment/shapefiles/WDBII_shp/h/WDBII_border_h_L2.dbf  \n",
            "  inflating: ma-data/physical-environment/shapefiles/WDBII_shp/h/WDBII_border_h_L2.prj  \n",
            "  inflating: ma-data/physical-environment/shapefiles/WDBII_shp/h/WDBII_border_h_L2.shp  \n",
            "  inflating: ma-data/physical-environment/shapefiles/WDBII_shp/h/WDBII_border_h_L2.shx  \n",
            "  inflating: ma-data/physical-environment/shapefiles/WDBII_shp/h/WDBII_border_h_L3.dbf  \n",
            "  inflating: ma-data/physical-environment/shapefiles/WDBII_shp/h/WDBII_border_h_L3.prj  \n",
            "  inflating: ma-data/physical-environment/shapefiles/WDBII_shp/h/WDBII_border_h_L3.shp  \n",
            "  inflating: ma-data/physical-environment/shapefiles/WDBII_shp/h/WDBII_border_h_L3.shx  \n",
            "  inflating: ma-data/physical-environment/shapefiles/WDBII_shp/h/WDBII_river_h_L01.dbf  \n",
            "  inflating: ma-data/physical-environment/shapefiles/WDBII_shp/h/WDBII_river_h_L01.prj  \n",
            "  inflating: ma-data/physical-environment/shapefiles/WDBII_shp/h/WDBII_river_h_L01.shp  \n",
            "  inflating: ma-data/physical-environment/shapefiles/WDBII_shp/h/WDBII_river_h_L01.shx  \n",
            "  inflating: ma-data/physical-environment/shapefiles/WDBII_shp/h/WDBII_river_h_L02.dbf  \n",
            "  inflating: ma-data/physical-environment/shapefiles/WDBII_shp/h/WDBII_river_h_L02.prj  \n",
            "  inflating: ma-data/physical-environment/shapefiles/WDBII_shp/h/WDBII_river_h_L02.shp  \n",
            "  inflating: ma-data/physical-environment/shapefiles/WDBII_shp/h/WDBII_river_h_L02.shx  \n",
            "  inflating: ma-data/physical-environment/shapefiles/WDBII_shp/h/WDBII_river_h_L03.dbf  \n",
            "  inflating: ma-data/physical-environment/shapefiles/WDBII_shp/h/WDBII_river_h_L03.prj  \n",
            "  inflating: ma-data/physical-environment/shapefiles/WDBII_shp/h/WDBII_river_h_L03.shp  \n",
            "  inflating: ma-data/physical-environment/shapefiles/WDBII_shp/h/WDBII_river_h_L03.shx  \n",
            "  inflating: ma-data/physical-environment/shapefiles/WDBII_shp/h/WDBII_river_h_L04.dbf  \n",
            "  inflating: ma-data/physical-environment/shapefiles/WDBII_shp/h/WDBII_river_h_L04.prj  \n",
            "  inflating: ma-data/physical-environment/shapefiles/WDBII_shp/h/WDBII_river_h_L04.shp  \n",
            "  inflating: ma-data/physical-environment/shapefiles/WDBII_shp/h/WDBII_river_h_L04.shx  \n",
            "  inflating: ma-data/physical-environment/shapefiles/WDBII_shp/h/WDBII_river_h_L05.dbf  \n",
            "  inflating: ma-data/physical-environment/shapefiles/WDBII_shp/h/WDBII_river_h_L05.prj  \n",
            "  inflating: ma-data/physical-environment/shapefiles/WDBII_shp/h/WDBII_river_h_L05.shp  \n",
            "  inflating: ma-data/physical-environment/shapefiles/WDBII_shp/h/WDBII_river_h_L05.shx  \n",
            "  inflating: ma-data/physical-environment/shapefiles/WDBII_shp/h/WDBII_river_h_L06.dbf  \n",
            "  inflating: ma-data/physical-environment/shapefiles/WDBII_shp/h/WDBII_river_h_L06.prj  \n",
            "  inflating: ma-data/physical-environment/shapefiles/WDBII_shp/h/WDBII_river_h_L06.shp  \n",
            "  inflating: ma-data/physical-environment/shapefiles/WDBII_shp/h/WDBII_river_h_L06.shx  \n",
            "  inflating: ma-data/physical-environment/shapefiles/WDBII_shp/h/WDBII_river_h_L07.dbf  \n",
            "  inflating: ma-data/physical-environment/shapefiles/WDBII_shp/h/WDBII_river_h_L07.prj  \n",
            "  inflating: ma-data/physical-environment/shapefiles/WDBII_shp/h/WDBII_river_h_L07.shp  \n",
            "  inflating: ma-data/physical-environment/shapefiles/WDBII_shp/h/WDBII_river_h_L07.shx  \n",
            "  inflating: ma-data/physical-environment/shapefiles/WDBII_shp/h/WDBII_river_h_L08.dbf  \n",
            "  inflating: ma-data/physical-environment/shapefiles/WDBII_shp/h/WDBII_river_h_L08.prj  \n",
            "  inflating: ma-data/physical-environment/shapefiles/WDBII_shp/h/WDBII_river_h_L08.shp  \n",
            "  inflating: ma-data/physical-environment/shapefiles/WDBII_shp/h/WDBII_river_h_L08.shx  \n",
            "  inflating: ma-data/physical-environment/shapefiles/WDBII_shp/h/WDBII_river_h_L09.dbf  \n",
            "  inflating: ma-data/physical-environment/shapefiles/WDBII_shp/h/WDBII_river_h_L09.prj  \n",
            "  inflating: ma-data/physical-environment/shapefiles/WDBII_shp/h/WDBII_river_h_L09.shp  \n",
            "  inflating: ma-data/physical-environment/shapefiles/WDBII_shp/h/WDBII_river_h_L09.shx  \n",
            "  inflating: ma-data/physical-environment/shapefiles/WDBII_shp/h/WDBII_river_h_L10.dbf  \n",
            "  inflating: ma-data/physical-environment/shapefiles/WDBII_shp/h/WDBII_river_h_L10.prj  \n",
            "  inflating: ma-data/physical-environment/shapefiles/WDBII_shp/h/WDBII_river_h_L10.shp  \n",
            "  inflating: ma-data/physical-environment/shapefiles/WDBII_shp/h/WDBII_river_h_L10.shx  \n",
            "  inflating: ma-data/physical-environment/shapefiles/WDBII_shp/h/WDBII_river_h_L11.dbf  \n",
            "  inflating: ma-data/physical-environment/shapefiles/WDBII_shp/h/WDBII_river_h_L11.prj  \n",
            "  inflating: ma-data/physical-environment/shapefiles/WDBII_shp/h/WDBII_river_h_L11.shp  \n",
            "  inflating: ma-data/physical-environment/shapefiles/WDBII_shp/h/WDBII_river_h_L11.shx  \n",
            "  inflating: ma-data/physical-environment/shapefiles/WDBII_shp/i/WDBII_border_i_L1.dbf  \n",
            "  inflating: ma-data/physical-environment/shapefiles/WDBII_shp/i/WDBII_border_i_L1.prj  \n",
            "  inflating: ma-data/physical-environment/shapefiles/WDBII_shp/i/WDBII_border_i_L1.shp  \n",
            "  inflating: ma-data/physical-environment/shapefiles/WDBII_shp/i/WDBII_border_i_L1.shx  \n",
            "  inflating: ma-data/physical-environment/shapefiles/WDBII_shp/i/WDBII_border_i_L2.dbf  \n",
            "  inflating: ma-data/physical-environment/shapefiles/WDBII_shp/i/WDBII_border_i_L2.prj  \n",
            "  inflating: ma-data/physical-environment/shapefiles/WDBII_shp/i/WDBII_border_i_L2.shp  \n",
            "  inflating: ma-data/physical-environment/shapefiles/WDBII_shp/i/WDBII_border_i_L2.shx  \n",
            "  inflating: ma-data/physical-environment/shapefiles/WDBII_shp/i/WDBII_border_i_L3.dbf  \n",
            "  inflating: ma-data/physical-environment/shapefiles/WDBII_shp/i/WDBII_border_i_L3.prj  \n",
            "  inflating: ma-data/physical-environment/shapefiles/WDBII_shp/i/WDBII_border_i_L3.shp  \n",
            "  inflating: ma-data/physical-environment/shapefiles/WDBII_shp/i/WDBII_border_i_L3.shx  \n",
            "  inflating: ma-data/physical-environment/shapefiles/WDBII_shp/i/WDBII_river_i_L01.dbf  \n",
            "  inflating: ma-data/physical-environment/shapefiles/WDBII_shp/i/WDBII_river_i_L01.prj  \n",
            "  inflating: ma-data/physical-environment/shapefiles/WDBII_shp/i/WDBII_river_i_L01.shp  \n",
            "  inflating: ma-data/physical-environment/shapefiles/WDBII_shp/i/WDBII_river_i_L01.shx  \n",
            "  inflating: ma-data/physical-environment/shapefiles/WDBII_shp/i/WDBII_river_i_L02.dbf  \n",
            "  inflating: ma-data/physical-environment/shapefiles/WDBII_shp/i/WDBII_river_i_L02.prj  \n",
            "  inflating: ma-data/physical-environment/shapefiles/WDBII_shp/i/WDBII_river_i_L02.shp  \n",
            "  inflating: ma-data/physical-environment/shapefiles/WDBII_shp/i/WDBII_river_i_L02.shx  \n",
            "  inflating: ma-data/physical-environment/shapefiles/WDBII_shp/i/WDBII_river_i_L03.dbf  \n",
            "  inflating: ma-data/physical-environment/shapefiles/WDBII_shp/i/WDBII_river_i_L03.prj  \n",
            "  inflating: ma-data/physical-environment/shapefiles/WDBII_shp/i/WDBII_river_i_L03.shp  \n",
            "  inflating: ma-data/physical-environment/shapefiles/WDBII_shp/i/WDBII_river_i_L03.shx  \n",
            "  inflating: ma-data/physical-environment/shapefiles/WDBII_shp/i/WDBII_river_i_L04.dbf  \n",
            "  inflating: ma-data/physical-environment/shapefiles/WDBII_shp/i/WDBII_river_i_L04.prj  \n",
            "  inflating: ma-data/physical-environment/shapefiles/WDBII_shp/i/WDBII_river_i_L04.shp  \n",
            "  inflating: ma-data/physical-environment/shapefiles/WDBII_shp/i/WDBII_river_i_L04.shx  \n",
            "  inflating: ma-data/physical-environment/shapefiles/WDBII_shp/i/WDBII_river_i_L05.dbf  \n",
            "  inflating: ma-data/physical-environment/shapefiles/WDBII_shp/i/WDBII_river_i_L05.prj  \n",
            "  inflating: ma-data/physical-environment/shapefiles/WDBII_shp/i/WDBII_river_i_L05.shp  \n",
            "  inflating: ma-data/physical-environment/shapefiles/WDBII_shp/i/WDBII_river_i_L05.shx  \n",
            "  inflating: ma-data/physical-environment/shapefiles/WDBII_shp/i/WDBII_river_i_L06.dbf  \n",
            "  inflating: ma-data/physical-environment/shapefiles/WDBII_shp/i/WDBII_river_i_L06.prj  \n",
            "  inflating: ma-data/physical-environment/shapefiles/WDBII_shp/i/WDBII_river_i_L06.shp  \n",
            "  inflating: ma-data/physical-environment/shapefiles/WDBII_shp/i/WDBII_river_i_L06.shx  \n",
            "  inflating: ma-data/physical-environment/shapefiles/WDBII_shp/i/WDBII_river_i_L07.dbf  \n",
            "  inflating: ma-data/physical-environment/shapefiles/WDBII_shp/i/WDBII_river_i_L07.prj  \n",
            "  inflating: ma-data/physical-environment/shapefiles/WDBII_shp/i/WDBII_river_i_L07.shp  \n",
            "  inflating: ma-data/physical-environment/shapefiles/WDBII_shp/i/WDBII_river_i_L07.shx  \n",
            "  inflating: ma-data/physical-environment/shapefiles/WDBII_shp/i/WDBII_river_i_L08.dbf  \n",
            "  inflating: ma-data/physical-environment/shapefiles/WDBII_shp/i/WDBII_river_i_L08.prj  \n",
            "  inflating: ma-data/physical-environment/shapefiles/WDBII_shp/i/WDBII_river_i_L08.shp  \n",
            "  inflating: ma-data/physical-environment/shapefiles/WDBII_shp/i/WDBII_river_i_L08.shx  \n",
            "  inflating: ma-data/physical-environment/shapefiles/WDBII_shp/i/WDBII_river_i_L09.dbf  \n",
            "  inflating: ma-data/physical-environment/shapefiles/WDBII_shp/i/WDBII_river_i_L09.prj  \n",
            "  inflating: ma-data/physical-environment/shapefiles/WDBII_shp/i/WDBII_river_i_L09.shp  \n",
            "  inflating: ma-data/physical-environment/shapefiles/WDBII_shp/i/WDBII_river_i_L09.shx  \n",
            "  inflating: ma-data/physical-environment/shapefiles/WDBII_shp/i/WDBII_river_i_L10.dbf  \n",
            "  inflating: ma-data/physical-environment/shapefiles/WDBII_shp/i/WDBII_river_i_L10.prj  \n",
            "  inflating: ma-data/physical-environment/shapefiles/WDBII_shp/i/WDBII_river_i_L10.shp  \n",
            "  inflating: ma-data/physical-environment/shapefiles/WDBII_shp/i/WDBII_river_i_L10.shx  \n",
            "  inflating: ma-data/physical-environment/shapefiles/WDBII_shp/i/WDBII_river_i_L11.dbf  \n",
            "  inflating: ma-data/physical-environment/shapefiles/WDBII_shp/i/WDBII_river_i_L11.prj  \n",
            "  inflating: ma-data/physical-environment/shapefiles/WDBII_shp/i/WDBII_river_i_L11.shp  \n",
            "  inflating: ma-data/physical-environment/shapefiles/WDBII_shp/i/WDBII_river_i_L11.shx  \n",
            "  inflating: ma-data/physical-environment/shapefiles/WDBII_shp/l/WDBII_border_l_L1.dbf  \n",
            "  inflating: ma-data/physical-environment/shapefiles/WDBII_shp/l/WDBII_border_l_L1.prj  \n",
            "  inflating: ma-data/physical-environment/shapefiles/WDBII_shp/l/WDBII_border_l_L1.shp  \n",
            "  inflating: ma-data/physical-environment/shapefiles/WDBII_shp/l/WDBII_border_l_L1.shx  \n",
            "  inflating: ma-data/physical-environment/shapefiles/WDBII_shp/l/WDBII_border_l_L2.dbf  \n",
            "  inflating: ma-data/physical-environment/shapefiles/WDBII_shp/l/WDBII_border_l_L2.prj  \n",
            "  inflating: ma-data/physical-environment/shapefiles/WDBII_shp/l/WDBII_border_l_L2.shp  \n",
            "  inflating: ma-data/physical-environment/shapefiles/WDBII_shp/l/WDBII_border_l_L2.shx  \n",
            "  inflating: ma-data/physical-environment/shapefiles/WDBII_shp/l/WDBII_border_l_L3.dbf  \n",
            "  inflating: ma-data/physical-environment/shapefiles/WDBII_shp/l/WDBII_border_l_L3.prj  \n",
            "  inflating: ma-data/physical-environment/shapefiles/WDBII_shp/l/WDBII_border_l_L3.shp  \n",
            "  inflating: ma-data/physical-environment/shapefiles/WDBII_shp/l/WDBII_border_l_L3.shx  \n",
            "  inflating: ma-data/physical-environment/shapefiles/WDBII_shp/l/WDBII_river_l_L01.dbf  \n",
            "  inflating: ma-data/physical-environment/shapefiles/WDBII_shp/l/WDBII_river_l_L01.prj  \n",
            "  inflating: ma-data/physical-environment/shapefiles/WDBII_shp/l/WDBII_river_l_L01.shp  \n",
            "  inflating: ma-data/physical-environment/shapefiles/WDBII_shp/l/WDBII_river_l_L01.shx  \n",
            "  inflating: ma-data/physical-environment/shapefiles/WDBII_shp/l/WDBII_river_l_L02.dbf  \n",
            "  inflating: ma-data/physical-environment/shapefiles/WDBII_shp/l/WDBII_river_l_L02.prj  \n",
            "  inflating: ma-data/physical-environment/shapefiles/WDBII_shp/l/WDBII_river_l_L02.shp  \n",
            "  inflating: ma-data/physical-environment/shapefiles/WDBII_shp/l/WDBII_river_l_L02.shx  \n",
            "  inflating: ma-data/physical-environment/shapefiles/WDBII_shp/l/WDBII_river_l_L03.dbf  \n",
            "  inflating: ma-data/physical-environment/shapefiles/WDBII_shp/l/WDBII_river_l_L03.prj  \n",
            "  inflating: ma-data/physical-environment/shapefiles/WDBII_shp/l/WDBII_river_l_L03.shp  \n",
            "  inflating: ma-data/physical-environment/shapefiles/WDBII_shp/l/WDBII_river_l_L03.shx  \n",
            "  inflating: ma-data/physical-environment/shapefiles/WDBII_shp/l/WDBII_river_l_L04.dbf  \n",
            "  inflating: ma-data/physical-environment/shapefiles/WDBII_shp/l/WDBII_river_l_L04.prj  \n",
            "  inflating: ma-data/physical-environment/shapefiles/WDBII_shp/l/WDBII_river_l_L04.shp  \n",
            "  inflating: ma-data/physical-environment/shapefiles/WDBII_shp/l/WDBII_river_l_L04.shx  \n",
            "  inflating: ma-data/physical-environment/shapefiles/WDBII_shp/l/WDBII_river_l_L05.dbf  \n",
            "  inflating: ma-data/physical-environment/shapefiles/WDBII_shp/l/WDBII_river_l_L05.prj  \n",
            "  inflating: ma-data/physical-environment/shapefiles/WDBII_shp/l/WDBII_river_l_L05.shp  \n",
            "  inflating: ma-data/physical-environment/shapefiles/WDBII_shp/l/WDBII_river_l_L05.shx  \n",
            "  inflating: ma-data/physical-environment/shapefiles/WDBII_shp/l/WDBII_river_l_L06.dbf  \n",
            "  inflating: ma-data/physical-environment/shapefiles/WDBII_shp/l/WDBII_river_l_L06.prj  \n",
            "  inflating: ma-data/physical-environment/shapefiles/WDBII_shp/l/WDBII_river_l_L06.shp  \n",
            "  inflating: ma-data/physical-environment/shapefiles/WDBII_shp/l/WDBII_river_l_L06.shx  \n",
            "  inflating: ma-data/physical-environment/shapefiles/WDBII_shp/l/WDBII_river_l_L07.dbf  \n",
            "  inflating: ma-data/physical-environment/shapefiles/WDBII_shp/l/WDBII_river_l_L07.prj  \n",
            "  inflating: ma-data/physical-environment/shapefiles/WDBII_shp/l/WDBII_river_l_L07.shp  \n",
            "  inflating: ma-data/physical-environment/shapefiles/WDBII_shp/l/WDBII_river_l_L07.shx  \n",
            "  inflating: ma-data/physical-environment/shapefiles/WDBII_shp/l/WDBII_river_l_L08.dbf  \n",
            "  inflating: ma-data/physical-environment/shapefiles/WDBII_shp/l/WDBII_river_l_L08.prj  \n",
            "  inflating: ma-data/physical-environment/shapefiles/WDBII_shp/l/WDBII_river_l_L08.shp  \n",
            "  inflating: ma-data/physical-environment/shapefiles/WDBII_shp/l/WDBII_river_l_L08.shx  \n",
            "  inflating: ma-data/physical-environment/shapefiles/WDBII_shp/l/WDBII_river_l_L09.dbf  \n",
            "  inflating: ma-data/physical-environment/shapefiles/WDBII_shp/l/WDBII_river_l_L09.prj  \n",
            "  inflating: ma-data/physical-environment/shapefiles/WDBII_shp/l/WDBII_river_l_L09.shp  \n",
            "  inflating: ma-data/physical-environment/shapefiles/WDBII_shp/l/WDBII_river_l_L09.shx  \n",
            "  inflating: ma-data/physical-environment/shapefiles/WDBII_shp/l/WDBII_river_l_L10.dbf  \n",
            "  inflating: ma-data/physical-environment/shapefiles/WDBII_shp/l/WDBII_river_l_L10.prj  \n",
            "  inflating: ma-data/physical-environment/shapefiles/WDBII_shp/l/WDBII_river_l_L10.shp  \n",
            "  inflating: ma-data/physical-environment/shapefiles/WDBII_shp/l/WDBII_river_l_L10.shx  \n",
            "  inflating: ma-data/physical-environment/shapefiles/WDBII_shp/l/WDBII_river_l_L11.dbf  \n",
            "  inflating: ma-data/physical-environment/shapefiles/WDBII_shp/l/WDBII_river_l_L11.prj  \n",
            "  inflating: ma-data/physical-environment/shapefiles/WDBII_shp/l/WDBII_river_l_L11.shp  \n",
            "  inflating: ma-data/physical-environment/shapefiles/WDBII_shp/l/WDBII_river_l_L11.shx  \n",
            "  inflating: ma-data/physical-environment/shapefiles/GSHHS_shp/README.TXT  \n",
            "  inflating: ma-data/physical-environment/shapefiles/WDBII_shp/README.TXT  \n",
            "Extracting ma-data/physical-environment/osm_coastlines-split-4326.zip\n",
            "Archive:  ma-data/physical-environment/osm_coastlines-split-4326.zip\n",
            " extracting: ma-data/physical-environment/shapefiles/coastlines-split-4326/lines.cpg  \n",
            "  inflating: ma-data/physical-environment/shapefiles/coastlines-split-4326/lines.dbf  \n",
            "  inflating: ma-data/physical-environment/shapefiles/coastlines-split-4326/lines.prj  \n",
            "  inflating: ma-data/physical-environment/shapefiles/coastlines-split-4326/lines.shp  \n",
            "  inflating: ma-data/physical-environment/shapefiles/coastlines-split-4326/lines.shx  \n",
            "  inflating: ma-data/physical-environment/shapefiles/coastlines-split-4326/README.txt  \n"
          ],
          "name": "stdout"
        },
        {
          "output_type": "stream",
          "text": [
            "mkdir: cannot create directory ‘ma-data/physical-environment’: File exists\n",
            "mkdir: cannot create directory ‘ma-data/physical-environment/processed’: File exists\n",
            "Copying gs://ma-data/physical-environment/gshhg-shp-2.3.7.zip...\n",
            "Copying gs://ma-data/physical-environment/osm_coastlines-split-4326.zip...\n",
            "/ [0/4 files][    0.0 B/675.5 MiB]   0% Done                                    \r/ [0/4 files][    0.0 B/675.5 MiB]   0% Done                                    \r-\r- [0/4 files][ 11.6 MiB/675.5 MiB]   1% Done                                    \r\\\r|\r| [0/4 files][140.0 MiB/675.5 MiB]  20% Done                                    \r/\r-\r- [0/4 files][272.0 MiB/675.5 MiB]  40% Done                                    \r- [1/4 files][320.9 MiB/675.5 MiB]  47% Done                                    \r\\\r|\r| [1/4 files][413.2 MiB/675.5 MiB]  61% Done                                    \r/\r/ [1/4 files][499.1 MiB/675.5 MiB]  73% Done                                    \r-\r\\\r\\ [1/4 files][574.1 MiB/675.5 MiB]  84% Done                                    \r|\r| [1/4 files][654.3 MiB/675.5 MiB]  96% Done                                    \r/\r/ [2/4 files][675.5 MiB/675.5 MiB]  99% Done                                    \r"
          ],
          "name": "stderr"
        }
      ]
    },
    {
      "cell_type": "code",
      "metadata": {
        "id": "rVWnQhp8urWB",
        "colab_type": "code",
        "outputId": "a9c8fa3c-8e38-46fe-d2b5-a617add17830",
        "colab": {
          "base_uri": "https://localhost:8080/",
          "height": 52
        }
      },
      "source": [
        "ls ma-data/physical-environment/shapefiles"
      ],
      "execution_count": 0,
      "outputs": [
        {
          "output_type": "stream",
          "text": [
            "\u001b[0m\u001b[01;34mcoastlines-split-4326\u001b[0m/  \u001b[01;34mGSHHS_shp\u001b[0m/   README.TXT      \u001b[01;34mWDBII_shp\u001b[0m/\n",
            "COPYING.LESSERv3        LICENSE.TXT  SHAPEFILES.TXT\n"
          ],
          "name": "stdout"
        }
      ]
    },
    {
      "cell_type": "code",
      "metadata": {
        "id": "CjovB99WTXrM",
        "colab_type": "code",
        "outputId": "7efd5c2a-8a0b-40e6-c1ef-0a5f59a593f6",
        "colab": {
          "base_uri": "https://localhost:8080/",
          "height": 7311
        }
      },
      "source": [
        "%%bash\n",
        "# Process zipped shapefiles\n",
        "# Clean and simplfy\n",
        "# Convert to geojson\n",
        "# change mapshaper settings below, see https://github.com/mbloch/mapshaper/wiki/Command-Reference\n",
        "# NOTE this can take along time!\n",
        "\n",
        "# Set working directories\n",
        "df=ma-data/physical-environment\n",
        "sf=ma-data/physical-environment/shapefiles\n",
        "pf=ma-data/physical-environment/processed\n",
        "\n",
        "# Clean and simplify original SHP\n",
        "osm=coastlines-split-4326\n",
        "arr=(${sf}/${osm}/*.shp)\n",
        "for ((i=0; i<${#arr[@]}; i++)); do\n",
        "  s=\"${arr[$i]}\"\n",
        "  echo \"Simplifying\" ${s}\n",
        "  mapshaper-xl \\\n",
        "  -i snap files=\"${s}\" \\\n",
        "  -simplify weighted interval=100 \\\n",
        "  -clean min-gap-area=1000 \\\n",
        "  -filter-islands min-area=1000 \\\n",
        "  -filter-slivers min-area=1000 \\\n",
        "  -clean min-gap-area=1000 \\\n",
        "  -o ${pf} format=shapefile precision=0.000001 force\n",
        "done  \n",
        "\n",
        "# Export processed SHP as geojson to $pf/geojson\n",
        "arr=(${pf}/*.shp)\n",
        "for ((i=0; i<${#arr[@]}; i++)); do\n",
        "  sp=\"${arr[$i]}\"\n",
        "  echo \"Converting\" ${sp}\n",
        "  mapshaper-xl \\\n",
        "  -i files=\"${sp}\" \\\n",
        "  -o ${pf}/geojson format=geojson precision=0.000001 force\n",
        "done\n"
      ],
      "execution_count": 0,
      "outputs": [
        {
          "output_type": "stream",
          "text": [
            "Extracting ma-data/physical-environment/gshhg-shp-2.3.7.zip\n",
            "Archive:  ma-data/physical-environment/gshhg-shp-2.3.7.zip\n",
            "  inflating: ma-data/physical-environment/shapefiles/README.TXT  \n",
            "  inflating: ma-data/physical-environment/shapefiles/SHAPEFILES.TXT  \n",
            "  inflating: ma-data/physical-environment/shapefiles/LICENSE.TXT  \n",
            "  inflating: ma-data/physical-environment/shapefiles/COPYING.LESSERv3  \n",
            "  inflating: ma-data/physical-environment/shapefiles/GSHHS_shp/c/GSHHS_c_L1.dbf  \n",
            "  inflating: ma-data/physical-environment/shapefiles/GSHHS_shp/c/GSHHS_c_L1.prj  \n",
            "  inflating: ma-data/physical-environment/shapefiles/GSHHS_shp/c/GSHHS_c_L1.shp  \n",
            "  inflating: ma-data/physical-environment/shapefiles/GSHHS_shp/c/GSHHS_c_L1.shx  \n",
            "  inflating: ma-data/physical-environment/shapefiles/GSHHS_shp/c/GSHHS_c_L2.dbf  \n",
            "  inflating: ma-data/physical-environment/shapefiles/GSHHS_shp/c/GSHHS_c_L2.prj  \n",
            "  inflating: ma-data/physical-environment/shapefiles/GSHHS_shp/c/GSHHS_c_L2.shp  \n",
            "  inflating: ma-data/physical-environment/shapefiles/GSHHS_shp/c/GSHHS_c_L2.shx  \n",
            "  inflating: ma-data/physical-environment/shapefiles/GSHHS_shp/c/GSHHS_c_L3.dbf  \n",
            "  inflating: ma-data/physical-environment/shapefiles/GSHHS_shp/c/GSHHS_c_L3.prj  \n",
            "  inflating: ma-data/physical-environment/shapefiles/GSHHS_shp/c/GSHHS_c_L3.shp  \n",
            "  inflating: ma-data/physical-environment/shapefiles/GSHHS_shp/c/GSHHS_c_L3.shx  \n",
            "  inflating: ma-data/physical-environment/shapefiles/GSHHS_shp/c/GSHHS_c_L5.dbf  \n",
            "  inflating: ma-data/physical-environment/shapefiles/GSHHS_shp/c/GSHHS_c_L5.prj  \n",
            "  inflating: ma-data/physical-environment/shapefiles/GSHHS_shp/c/GSHHS_c_L5.shp  \n",
            "  inflating: ma-data/physical-environment/shapefiles/GSHHS_shp/c/GSHHS_c_L5.shx  \n",
            "  inflating: ma-data/physical-environment/shapefiles/GSHHS_shp/c/GSHHS_c_L6.dbf  \n",
            "  inflating: ma-data/physical-environment/shapefiles/GSHHS_shp/c/GSHHS_c_L6.prj  \n",
            "  inflating: ma-data/physical-environment/shapefiles/GSHHS_shp/c/GSHHS_c_L6.shp  \n",
            "  inflating: ma-data/physical-environment/shapefiles/GSHHS_shp/c/GSHHS_c_L6.shx  \n",
            "  inflating: ma-data/physical-environment/shapefiles/GSHHS_shp/f/GSHHS_f_L1.dbf  \n",
            "  inflating: ma-data/physical-environment/shapefiles/GSHHS_shp/f/GSHHS_f_L1.prj  \n",
            "  inflating: ma-data/physical-environment/shapefiles/GSHHS_shp/f/GSHHS_f_L1.shp  \n",
            "  inflating: ma-data/physical-environment/shapefiles/GSHHS_shp/f/GSHHS_f_L1.shx  \n",
            "  inflating: ma-data/physical-environment/shapefiles/GSHHS_shp/f/GSHHS_f_L2.dbf  \n",
            "  inflating: ma-data/physical-environment/shapefiles/GSHHS_shp/f/GSHHS_f_L2.prj  \n",
            "  inflating: ma-data/physical-environment/shapefiles/GSHHS_shp/f/GSHHS_f_L2.shp  \n",
            "  inflating: ma-data/physical-environment/shapefiles/GSHHS_shp/f/GSHHS_f_L2.shx  \n",
            "  inflating: ma-data/physical-environment/shapefiles/GSHHS_shp/f/GSHHS_f_L3.dbf  \n",
            "  inflating: ma-data/physical-environment/shapefiles/GSHHS_shp/f/GSHHS_f_L3.prj  \n",
            "  inflating: ma-data/physical-environment/shapefiles/GSHHS_shp/f/GSHHS_f_L3.shp  \n",
            "  inflating: ma-data/physical-environment/shapefiles/GSHHS_shp/f/GSHHS_f_L3.shx  \n",
            "  inflating: ma-data/physical-environment/shapefiles/GSHHS_shp/f/GSHHS_f_L4.dbf  \n",
            "  inflating: ma-data/physical-environment/shapefiles/GSHHS_shp/f/GSHHS_f_L4.prj  \n",
            "  inflating: ma-data/physical-environment/shapefiles/GSHHS_shp/f/GSHHS_f_L4.shp  \n",
            "  inflating: ma-data/physical-environment/shapefiles/GSHHS_shp/f/GSHHS_f_L4.shx  \n",
            "  inflating: ma-data/physical-environment/shapefiles/GSHHS_shp/f/GSHHS_f_L5.dbf  \n",
            "  inflating: ma-data/physical-environment/shapefiles/GSHHS_shp/f/GSHHS_f_L5.prj  \n",
            "  inflating: ma-data/physical-environment/shapefiles/GSHHS_shp/f/GSHHS_f_L5.shp  \n",
            "  inflating: ma-data/physical-environment/shapefiles/GSHHS_shp/f/GSHHS_f_L5.shx  \n",
            "  inflating: ma-data/physical-environment/shapefiles/GSHHS_shp/f/GSHHS_f_L6.dbf  \n",
            "  inflating: ma-data/physical-environment/shapefiles/GSHHS_shp/f/GSHHS_f_L6.prj  \n",
            "  inflating: ma-data/physical-environment/shapefiles/GSHHS_shp/f/GSHHS_f_L6.shp  \n",
            "  inflating: ma-data/physical-environment/shapefiles/GSHHS_shp/f/GSHHS_f_L6.shx  \n",
            "  inflating: ma-data/physical-environment/shapefiles/GSHHS_shp/h/GSHHS_h_L1.dbf  \n",
            "  inflating: ma-data/physical-environment/shapefiles/GSHHS_shp/h/GSHHS_h_L1.prj  \n",
            "  inflating: ma-data/physical-environment/shapefiles/GSHHS_shp/h/GSHHS_h_L1.shp  \n",
            "  inflating: ma-data/physical-environment/shapefiles/GSHHS_shp/h/GSHHS_h_L1.shx  \n",
            "  inflating: ma-data/physical-environment/shapefiles/GSHHS_shp/h/GSHHS_h_L2.dbf  \n",
            "  inflating: ma-data/physical-environment/shapefiles/GSHHS_shp/h/GSHHS_h_L2.prj  \n",
            "  inflating: ma-data/physical-environment/shapefiles/GSHHS_shp/h/GSHHS_h_L2.shp  \n",
            "  inflating: ma-data/physical-environment/shapefiles/GSHHS_shp/h/GSHHS_h_L2.shx  \n",
            "  inflating: ma-data/physical-environment/shapefiles/GSHHS_shp/h/GSHHS_h_L3.dbf  \n",
            "  inflating: ma-data/physical-environment/shapefiles/GSHHS_shp/h/GSHHS_h_L3.prj  \n",
            "  inflating: ma-data/physical-environment/shapefiles/GSHHS_shp/h/GSHHS_h_L3.shp  \n",
            "  inflating: ma-data/physical-environment/shapefiles/GSHHS_shp/h/GSHHS_h_L3.shx  \n",
            "  inflating: ma-data/physical-environment/shapefiles/GSHHS_shp/h/GSHHS_h_L4.dbf  \n",
            "  inflating: ma-data/physical-environment/shapefiles/GSHHS_shp/h/GSHHS_h_L4.prj  \n",
            "  inflating: ma-data/physical-environment/shapefiles/GSHHS_shp/h/GSHHS_h_L4.shp  \n",
            "  inflating: ma-data/physical-environment/shapefiles/GSHHS_shp/h/GSHHS_h_L4.shx  \n",
            "  inflating: ma-data/physical-environment/shapefiles/GSHHS_shp/h/GSHHS_h_L5.dbf  \n",
            "  inflating: ma-data/physical-environment/shapefiles/GSHHS_shp/h/GSHHS_h_L5.prj  \n",
            "  inflating: ma-data/physical-environment/shapefiles/GSHHS_shp/h/GSHHS_h_L5.shp  \n",
            "  inflating: ma-data/physical-environment/shapefiles/GSHHS_shp/h/GSHHS_h_L5.shx  \n",
            "  inflating: ma-data/physical-environment/shapefiles/GSHHS_shp/h/GSHHS_h_L6.dbf  \n",
            "  inflating: ma-data/physical-environment/shapefiles/GSHHS_shp/h/GSHHS_h_L6.prj  \n",
            "  inflating: ma-data/physical-environment/shapefiles/GSHHS_shp/h/GSHHS_h_L6.shp  \n",
            "  inflating: ma-data/physical-environment/shapefiles/GSHHS_shp/h/GSHHS_h_L6.shx  \n",
            "  inflating: ma-data/physical-environment/shapefiles/GSHHS_shp/i/GSHHS_i_L1.dbf  \n",
            "  inflating: ma-data/physical-environment/shapefiles/GSHHS_shp/i/GSHHS_i_L1.prj  \n",
            "  inflating: ma-data/physical-environment/shapefiles/GSHHS_shp/i/GSHHS_i_L1.shp  \n",
            "  inflating: ma-data/physical-environment/shapefiles/GSHHS_shp/i/GSHHS_i_L1.shx  \n",
            "  inflating: ma-data/physical-environment/shapefiles/GSHHS_shp/i/GSHHS_i_L2.dbf  \n",
            "  inflating: ma-data/physical-environment/shapefiles/GSHHS_shp/i/GSHHS_i_L2.prj  \n",
            "  inflating: ma-data/physical-environment/shapefiles/GSHHS_shp/i/GSHHS_i_L2.shp  \n",
            "  inflating: ma-data/physical-environment/shapefiles/GSHHS_shp/i/GSHHS_i_L2.shx  \n",
            "  inflating: ma-data/physical-environment/shapefiles/GSHHS_shp/i/GSHHS_i_L3.dbf  \n",
            "  inflating: ma-data/physical-environment/shapefiles/GSHHS_shp/i/GSHHS_i_L3.prj  \n",
            "  inflating: ma-data/physical-environment/shapefiles/GSHHS_shp/i/GSHHS_i_L3.shp  \n",
            "  inflating: ma-data/physical-environment/shapefiles/GSHHS_shp/i/GSHHS_i_L3.shx  \n",
            "  inflating: ma-data/physical-environment/shapefiles/GSHHS_shp/i/GSHHS_i_L4.dbf  \n",
            "  inflating: ma-data/physical-environment/shapefiles/GSHHS_shp/i/GSHHS_i_L4.prj  \n",
            "  inflating: ma-data/physical-environment/shapefiles/GSHHS_shp/i/GSHHS_i_L4.shp  \n",
            "  inflating: ma-data/physical-environment/shapefiles/GSHHS_shp/i/GSHHS_i_L4.shx  \n",
            "  inflating: ma-data/physical-environment/shapefiles/GSHHS_shp/i/GSHHS_i_L5.dbf  \n",
            "  inflating: ma-data/physical-environment/shapefiles/GSHHS_shp/i/GSHHS_i_L5.prj  \n",
            "  inflating: ma-data/physical-environment/shapefiles/GSHHS_shp/i/GSHHS_i_L5.shp  \n",
            "  inflating: ma-data/physical-environment/shapefiles/GSHHS_shp/i/GSHHS_i_L5.shx  \n",
            "  inflating: ma-data/physical-environment/shapefiles/GSHHS_shp/i/GSHHS_i_L6.dbf  \n",
            "  inflating: ma-data/physical-environment/shapefiles/GSHHS_shp/i/GSHHS_i_L6.prj  \n",
            "  inflating: ma-data/physical-environment/shapefiles/GSHHS_shp/i/GSHHS_i_L6.shp  \n",
            "  inflating: ma-data/physical-environment/shapefiles/GSHHS_shp/i/GSHHS_i_L6.shx  \n",
            "  inflating: ma-data/physical-environment/shapefiles/GSHHS_shp/l/GSHHS_l_L1.dbf  \n",
            "  inflating: ma-data/physical-environment/shapefiles/GSHHS_shp/l/GSHHS_l_L1.prj  \n",
            "  inflating: ma-data/physical-environment/shapefiles/GSHHS_shp/l/GSHHS_l_L1.shp  \n",
            "  inflating: ma-data/physical-environment/shapefiles/GSHHS_shp/l/GSHHS_l_L1.shx  \n",
            "  inflating: ma-data/physical-environment/shapefiles/GSHHS_shp/l/GSHHS_l_L2.dbf  \n",
            "  inflating: ma-data/physical-environment/shapefiles/GSHHS_shp/l/GSHHS_l_L2.prj  \n",
            "  inflating: ma-data/physical-environment/shapefiles/GSHHS_shp/l/GSHHS_l_L2.shp  \n",
            "  inflating: ma-data/physical-environment/shapefiles/GSHHS_shp/l/GSHHS_l_L2.shx  \n",
            "  inflating: ma-data/physical-environment/shapefiles/GSHHS_shp/l/GSHHS_l_L3.dbf  \n",
            "  inflating: ma-data/physical-environment/shapefiles/GSHHS_shp/l/GSHHS_l_L3.prj  \n",
            "  inflating: ma-data/physical-environment/shapefiles/GSHHS_shp/l/GSHHS_l_L3.shp  \n",
            "  inflating: ma-data/physical-environment/shapefiles/GSHHS_shp/l/GSHHS_l_L3.shx  \n",
            "  inflating: ma-data/physical-environment/shapefiles/GSHHS_shp/l/GSHHS_l_L4.dbf  \n",
            "  inflating: ma-data/physical-environment/shapefiles/GSHHS_shp/l/GSHHS_l_L4.prj  \n",
            "  inflating: ma-data/physical-environment/shapefiles/GSHHS_shp/l/GSHHS_l_L4.shp  \n",
            "  inflating: ma-data/physical-environment/shapefiles/GSHHS_shp/l/GSHHS_l_L4.shx  \n",
            "  inflating: ma-data/physical-environment/shapefiles/GSHHS_shp/l/GSHHS_l_L5.dbf  \n",
            "  inflating: ma-data/physical-environment/shapefiles/GSHHS_shp/l/GSHHS_l_L5.prj  \n",
            "  inflating: ma-data/physical-environment/shapefiles/GSHHS_shp/l/GSHHS_l_L5.shp  \n",
            "  inflating: ma-data/physical-environment/shapefiles/GSHHS_shp/l/GSHHS_l_L5.shx  \n",
            "  inflating: ma-data/physical-environment/shapefiles/GSHHS_shp/l/GSHHS_l_L6.dbf  \n",
            "  inflating: ma-data/physical-environment/shapefiles/GSHHS_shp/l/GSHHS_l_L6.prj  \n",
            "  inflating: ma-data/physical-environment/shapefiles/GSHHS_shp/l/GSHHS_l_L6.shp  \n",
            "  inflating: ma-data/physical-environment/shapefiles/GSHHS_shp/l/GSHHS_l_L6.shx  \n",
            "  inflating: ma-data/physical-environment/shapefiles/WDBII_shp/c/WDBII_border_c_L1.dbf  \n",
            "  inflating: ma-data/physical-environment/shapefiles/WDBII_shp/c/WDBII_border_c_L1.prj  \n",
            "  inflating: ma-data/physical-environment/shapefiles/WDBII_shp/c/WDBII_border_c_L1.shp  \n",
            "  inflating: ma-data/physical-environment/shapefiles/WDBII_shp/c/WDBII_border_c_L1.shx  \n",
            "  inflating: ma-data/physical-environment/shapefiles/WDBII_shp/c/WDBII_border_c_L2.dbf  \n",
            "  inflating: ma-data/physical-environment/shapefiles/WDBII_shp/c/WDBII_border_c_L2.prj  \n",
            "  inflating: ma-data/physical-environment/shapefiles/WDBII_shp/c/WDBII_border_c_L2.shp  \n",
            "  inflating: ma-data/physical-environment/shapefiles/WDBII_shp/c/WDBII_border_c_L2.shx  \n",
            "  inflating: ma-data/physical-environment/shapefiles/WDBII_shp/c/WDBII_border_c_L3.dbf  \n",
            "  inflating: ma-data/physical-environment/shapefiles/WDBII_shp/c/WDBII_border_c_L3.prj  \n",
            "  inflating: ma-data/physical-environment/shapefiles/WDBII_shp/c/WDBII_border_c_L3.shp  \n",
            "  inflating: ma-data/physical-environment/shapefiles/WDBII_shp/c/WDBII_border_c_L3.shx  \n",
            "  inflating: ma-data/physical-environment/shapefiles/WDBII_shp/c/WDBII_river_c_L01.dbf  \n",
            "  inflating: ma-data/physical-environment/shapefiles/WDBII_shp/c/WDBII_river_c_L01.prj  \n",
            "  inflating: ma-data/physical-environment/shapefiles/WDBII_shp/c/WDBII_river_c_L01.shp  \n",
            "  inflating: ma-data/physical-environment/shapefiles/WDBII_shp/c/WDBII_river_c_L01.shx  \n",
            "  inflating: ma-data/physical-environment/shapefiles/WDBII_shp/c/WDBII_river_c_L02.dbf  \n",
            "  inflating: ma-data/physical-environment/shapefiles/WDBII_shp/c/WDBII_river_c_L02.prj  \n",
            "  inflating: ma-data/physical-environment/shapefiles/WDBII_shp/c/WDBII_river_c_L02.shp  \n",
            "  inflating: ma-data/physical-environment/shapefiles/WDBII_shp/c/WDBII_river_c_L02.shx  \n",
            "  inflating: ma-data/physical-environment/shapefiles/WDBII_shp/c/WDBII_river_c_L03.dbf  \n",
            "  inflating: ma-data/physical-environment/shapefiles/WDBII_shp/c/WDBII_river_c_L03.prj  \n",
            "  inflating: ma-data/physical-environment/shapefiles/WDBII_shp/c/WDBII_river_c_L03.shp  \n",
            "  inflating: ma-data/physical-environment/shapefiles/WDBII_shp/c/WDBII_river_c_L03.shx  \n",
            "  inflating: ma-data/physical-environment/shapefiles/WDBII_shp/c/WDBII_river_c_L04.dbf  \n",
            "  inflating: ma-data/physical-environment/shapefiles/WDBII_shp/c/WDBII_river_c_L04.prj  \n",
            "  inflating: ma-data/physical-environment/shapefiles/WDBII_shp/c/WDBII_river_c_L04.shp  \n",
            "  inflating: ma-data/physical-environment/shapefiles/WDBII_shp/c/WDBII_river_c_L04.shx  \n",
            "  inflating: ma-data/physical-environment/shapefiles/WDBII_shp/c/WDBII_river_c_L05.dbf  \n",
            "  inflating: ma-data/physical-environment/shapefiles/WDBII_shp/c/WDBII_river_c_L05.prj  \n",
            "  inflating: ma-data/physical-environment/shapefiles/WDBII_shp/c/WDBII_river_c_L05.shp  \n",
            "  inflating: ma-data/physical-environment/shapefiles/WDBII_shp/c/WDBII_river_c_L05.shx  \n",
            "  inflating: ma-data/physical-environment/shapefiles/WDBII_shp/c/WDBII_river_c_L06.dbf  \n",
            "  inflating: ma-data/physical-environment/shapefiles/WDBII_shp/c/WDBII_river_c_L06.prj  \n",
            "  inflating: ma-data/physical-environment/shapefiles/WDBII_shp/c/WDBII_river_c_L06.shp  \n",
            "  inflating: ma-data/physical-environment/shapefiles/WDBII_shp/c/WDBII_river_c_L06.shx  \n",
            "  inflating: ma-data/physical-environment/shapefiles/WDBII_shp/c/WDBII_river_c_L07.dbf  \n",
            "  inflating: ma-data/physical-environment/shapefiles/WDBII_shp/c/WDBII_river_c_L07.prj  \n",
            "  inflating: ma-data/physical-environment/shapefiles/WDBII_shp/c/WDBII_river_c_L07.shp  \n",
            "  inflating: ma-data/physical-environment/shapefiles/WDBII_shp/c/WDBII_river_c_L07.shx  \n",
            "  inflating: ma-data/physical-environment/shapefiles/WDBII_shp/c/WDBII_river_c_L08.dbf  \n",
            "  inflating: ma-data/physical-environment/shapefiles/WDBII_shp/c/WDBII_river_c_L08.prj  \n",
            "  inflating: ma-data/physical-environment/shapefiles/WDBII_shp/c/WDBII_river_c_L08.shp  \n",
            "  inflating: ma-data/physical-environment/shapefiles/WDBII_shp/c/WDBII_river_c_L08.shx  \n",
            "  inflating: ma-data/physical-environment/shapefiles/WDBII_shp/c/WDBII_river_c_L09.dbf  \n",
            "  inflating: ma-data/physical-environment/shapefiles/WDBII_shp/c/WDBII_river_c_L09.prj  \n",
            "  inflating: ma-data/physical-environment/shapefiles/WDBII_shp/c/WDBII_river_c_L09.shp  \n",
            "  inflating: ma-data/physical-environment/shapefiles/WDBII_shp/c/WDBII_river_c_L09.shx  \n",
            "  inflating: ma-data/physical-environment/shapefiles/WDBII_shp/c/WDBII_river_c_L10.dbf  \n",
            "  inflating: ma-data/physical-environment/shapefiles/WDBII_shp/c/WDBII_river_c_L10.prj  \n",
            "  inflating: ma-data/physical-environment/shapefiles/WDBII_shp/c/WDBII_river_c_L10.shp  \n",
            "  inflating: ma-data/physical-environment/shapefiles/WDBII_shp/c/WDBII_river_c_L10.shx  \n",
            "  inflating: ma-data/physical-environment/shapefiles/WDBII_shp/c/WDBII_river_c_L11.dbf  \n",
            "  inflating: ma-data/physical-environment/shapefiles/WDBII_shp/c/WDBII_river_c_L11.prj  \n",
            "  inflating: ma-data/physical-environment/shapefiles/WDBII_shp/c/WDBII_river_c_L11.shp  \n",
            "  inflating: ma-data/physical-environment/shapefiles/WDBII_shp/c/WDBII_river_c_L11.shx  \n",
            "  inflating: ma-data/physical-environment/shapefiles/WDBII_shp/f/WDBII_border_f_L1.dbf  \n",
            "  inflating: ma-data/physical-environment/shapefiles/WDBII_shp/f/WDBII_border_f_L1.prj  \n",
            "  inflating: ma-data/physical-environment/shapefiles/WDBII_shp/f/WDBII_border_f_L1.shp  \n",
            "  inflating: ma-data/physical-environment/shapefiles/WDBII_shp/f/WDBII_border_f_L1.shx  \n",
            "  inflating: ma-data/physical-environment/shapefiles/WDBII_shp/f/WDBII_border_f_L2.dbf  \n",
            "  inflating: ma-data/physical-environment/shapefiles/WDBII_shp/f/WDBII_border_f_L2.prj  \n",
            "  inflating: ma-data/physical-environment/shapefiles/WDBII_shp/f/WDBII_border_f_L2.shp  \n",
            "  inflating: ma-data/physical-environment/shapefiles/WDBII_shp/f/WDBII_border_f_L2.shx  \n",
            "  inflating: ma-data/physical-environment/shapefiles/WDBII_shp/f/WDBII_border_f_L3.dbf  \n",
            "  inflating: ma-data/physical-environment/shapefiles/WDBII_shp/f/WDBII_border_f_L3.prj  \n",
            "  inflating: ma-data/physical-environment/shapefiles/WDBII_shp/f/WDBII_border_f_L3.shp  \n",
            "  inflating: ma-data/physical-environment/shapefiles/WDBII_shp/f/WDBII_border_f_L3.shx  \n",
            "  inflating: ma-data/physical-environment/shapefiles/WDBII_shp/f/WDBII_river_f_L01.dbf  \n",
            "  inflating: ma-data/physical-environment/shapefiles/WDBII_shp/f/WDBII_river_f_L01.prj  \n",
            "  inflating: ma-data/physical-environment/shapefiles/WDBII_shp/f/WDBII_river_f_L01.shp  \n",
            "  inflating: ma-data/physical-environment/shapefiles/WDBII_shp/f/WDBII_river_f_L01.shx  \n",
            "  inflating: ma-data/physical-environment/shapefiles/WDBII_shp/f/WDBII_river_f_L02.dbf  \n",
            "  inflating: ma-data/physical-environment/shapefiles/WDBII_shp/f/WDBII_river_f_L02.prj  \n",
            "  inflating: ma-data/physical-environment/shapefiles/WDBII_shp/f/WDBII_river_f_L02.shp  \n",
            "  inflating: ma-data/physical-environment/shapefiles/WDBII_shp/f/WDBII_river_f_L02.shx  \n",
            "  inflating: ma-data/physical-environment/shapefiles/WDBII_shp/f/WDBII_river_f_L03.dbf  \n",
            "  inflating: ma-data/physical-environment/shapefiles/WDBII_shp/f/WDBII_river_f_L03.prj  \n",
            "  inflating: ma-data/physical-environment/shapefiles/WDBII_shp/f/WDBII_river_f_L03.shp  \n",
            "  inflating: ma-data/physical-environment/shapefiles/WDBII_shp/f/WDBII_river_f_L03.shx  \n",
            "  inflating: ma-data/physical-environment/shapefiles/WDBII_shp/f/WDBII_river_f_L04.dbf  \n",
            "  inflating: ma-data/physical-environment/shapefiles/WDBII_shp/f/WDBII_river_f_L04.prj  \n",
            "  inflating: ma-data/physical-environment/shapefiles/WDBII_shp/f/WDBII_river_f_L04.shp  \n",
            "  inflating: ma-data/physical-environment/shapefiles/WDBII_shp/f/WDBII_river_f_L04.shx  \n",
            "  inflating: ma-data/physical-environment/shapefiles/WDBII_shp/f/WDBII_river_f_L05.dbf  \n",
            "  inflating: ma-data/physical-environment/shapefiles/WDBII_shp/f/WDBII_river_f_L05.prj  \n",
            "  inflating: ma-data/physical-environment/shapefiles/WDBII_shp/f/WDBII_river_f_L05.shp  \n",
            "  inflating: ma-data/physical-environment/shapefiles/WDBII_shp/f/WDBII_river_f_L05.shx  \n",
            "  inflating: ma-data/physical-environment/shapefiles/WDBII_shp/f/WDBII_river_f_L06.dbf  \n",
            "  inflating: ma-data/physical-environment/shapefiles/WDBII_shp/f/WDBII_river_f_L06.prj  \n",
            "  inflating: ma-data/physical-environment/shapefiles/WDBII_shp/f/WDBII_river_f_L06.shp  \n",
            "  inflating: ma-data/physical-environment/shapefiles/WDBII_shp/f/WDBII_river_f_L06.shx  \n",
            "  inflating: ma-data/physical-environment/shapefiles/WDBII_shp/f/WDBII_river_f_L07.dbf  \n",
            "  inflating: ma-data/physical-environment/shapefiles/WDBII_shp/f/WDBII_river_f_L07.prj  \n",
            "  inflating: ma-data/physical-environment/shapefiles/WDBII_shp/f/WDBII_river_f_L07.shp  \n",
            "  inflating: ma-data/physical-environment/shapefiles/WDBII_shp/f/WDBII_river_f_L07.shx  \n",
            "  inflating: ma-data/physical-environment/shapefiles/WDBII_shp/f/WDBII_river_f_L08.dbf  \n",
            "  inflating: ma-data/physical-environment/shapefiles/WDBII_shp/f/WDBII_river_f_L08.prj  \n",
            "  inflating: ma-data/physical-environment/shapefiles/WDBII_shp/f/WDBII_river_f_L08.shp  \n",
            "  inflating: ma-data/physical-environment/shapefiles/WDBII_shp/f/WDBII_river_f_L08.shx  \n",
            "  inflating: ma-data/physical-environment/shapefiles/WDBII_shp/f/WDBII_river_f_L09.dbf  \n",
            "  inflating: ma-data/physical-environment/shapefiles/WDBII_shp/f/WDBII_river_f_L09.prj  \n",
            "  inflating: ma-data/physical-environment/shapefiles/WDBII_shp/f/WDBII_river_f_L09.shp  \n",
            "  inflating: ma-data/physical-environment/shapefiles/WDBII_shp/f/WDBII_river_f_L09.shx  \n",
            "  inflating: ma-data/physical-environment/shapefiles/WDBII_shp/f/WDBII_river_f_L10.dbf  \n",
            "  inflating: ma-data/physical-environment/shapefiles/WDBII_shp/f/WDBII_river_f_L10.prj  \n",
            "  inflating: ma-data/physical-environment/shapefiles/WDBII_shp/f/WDBII_river_f_L10.shp  \n",
            "  inflating: ma-data/physical-environment/shapefiles/WDBII_shp/f/WDBII_river_f_L10.shx  \n",
            "  inflating: ma-data/physical-environment/shapefiles/WDBII_shp/f/WDBII_river_f_L11.dbf  \n",
            "  inflating: ma-data/physical-environment/shapefiles/WDBII_shp/f/WDBII_river_f_L11.prj  \n",
            "  inflating: ma-data/physical-environment/shapefiles/WDBII_shp/f/WDBII_river_f_L11.shp  \n",
            "  inflating: ma-data/physical-environment/shapefiles/WDBII_shp/f/WDBII_river_f_L11.shx  \n",
            "  inflating: ma-data/physical-environment/shapefiles/WDBII_shp/h/WDBII_border_h_L1.dbf  \n",
            "  inflating: ma-data/physical-environment/shapefiles/WDBII_shp/h/WDBII_border_h_L1.prj  \n",
            "  inflating: ma-data/physical-environment/shapefiles/WDBII_shp/h/WDBII_border_h_L1.shp  \n",
            "  inflating: ma-data/physical-environment/shapefiles/WDBII_shp/h/WDBII_border_h_L1.shx  \n",
            "  inflating: ma-data/physical-environment/shapefiles/WDBII_shp/h/WDBII_border_h_L2.dbf  \n",
            "  inflating: ma-data/physical-environment/shapefiles/WDBII_shp/h/WDBII_border_h_L2.prj  \n",
            "  inflating: ma-data/physical-environment/shapefiles/WDBII_shp/h/WDBII_border_h_L2.shp  \n",
            "  inflating: ma-data/physical-environment/shapefiles/WDBII_shp/h/WDBII_border_h_L2.shx  \n",
            "  inflating: ma-data/physical-environment/shapefiles/WDBII_shp/h/WDBII_border_h_L3.dbf  \n",
            "  inflating: ma-data/physical-environment/shapefiles/WDBII_shp/h/WDBII_border_h_L3.prj  \n",
            "  inflating: ma-data/physical-environment/shapefiles/WDBII_shp/h/WDBII_border_h_L3.shp  \n",
            "  inflating: ma-data/physical-environment/shapefiles/WDBII_shp/h/WDBII_border_h_L3.shx  \n",
            "  inflating: ma-data/physical-environment/shapefiles/WDBII_shp/h/WDBII_river_h_L01.dbf  \n",
            "  inflating: ma-data/physical-environment/shapefiles/WDBII_shp/h/WDBII_river_h_L01.prj  \n",
            "  inflating: ma-data/physical-environment/shapefiles/WDBII_shp/h/WDBII_river_h_L01.shp  \n",
            "  inflating: ma-data/physical-environment/shapefiles/WDBII_shp/h/WDBII_river_h_L01.shx  \n",
            "  inflating: ma-data/physical-environment/shapefiles/WDBII_shp/h/WDBII_river_h_L02.dbf  \n",
            "  inflating: ma-data/physical-environment/shapefiles/WDBII_shp/h/WDBII_river_h_L02.prj  \n",
            "  inflating: ma-data/physical-environment/shapefiles/WDBII_shp/h/WDBII_river_h_L02.shp  \n",
            "  inflating: ma-data/physical-environment/shapefiles/WDBII_shp/h/WDBII_river_h_L02.shx  \n",
            "  inflating: ma-data/physical-environment/shapefiles/WDBII_shp/h/WDBII_river_h_L03.dbf  \n",
            "  inflating: ma-data/physical-environment/shapefiles/WDBII_shp/h/WDBII_river_h_L03.prj  \n",
            "  inflating: ma-data/physical-environment/shapefiles/WDBII_shp/h/WDBII_river_h_L03.shp  \n",
            "  inflating: ma-data/physical-environment/shapefiles/WDBII_shp/h/WDBII_river_h_L03.shx  \n",
            "  inflating: ma-data/physical-environment/shapefiles/WDBII_shp/h/WDBII_river_h_L04.dbf  \n",
            "  inflating: ma-data/physical-environment/shapefiles/WDBII_shp/h/WDBII_river_h_L04.prj  \n",
            "  inflating: ma-data/physical-environment/shapefiles/WDBII_shp/h/WDBII_river_h_L04.shp  \n",
            "  inflating: ma-data/physical-environment/shapefiles/WDBII_shp/h/WDBII_river_h_L04.shx  \n",
            "  inflating: ma-data/physical-environment/shapefiles/WDBII_shp/h/WDBII_river_h_L05.dbf  \n",
            "  inflating: ma-data/physical-environment/shapefiles/WDBII_shp/h/WDBII_river_h_L05.prj  \n",
            "  inflating: ma-data/physical-environment/shapefiles/WDBII_shp/h/WDBII_river_h_L05.shp  \n",
            "  inflating: ma-data/physical-environment/shapefiles/WDBII_shp/h/WDBII_river_h_L05.shx  \n",
            "  inflating: ma-data/physical-environment/shapefiles/WDBII_shp/h/WDBII_river_h_L06.dbf  \n",
            "  inflating: ma-data/physical-environment/shapefiles/WDBII_shp/h/WDBII_river_h_L06.prj  \n",
            "  inflating: ma-data/physical-environment/shapefiles/WDBII_shp/h/WDBII_river_h_L06.shp  \n",
            "  inflating: ma-data/physical-environment/shapefiles/WDBII_shp/h/WDBII_river_h_L06.shx  \n",
            "  inflating: ma-data/physical-environment/shapefiles/WDBII_shp/h/WDBII_river_h_L07.dbf  \n",
            "  inflating: ma-data/physical-environment/shapefiles/WDBII_shp/h/WDBII_river_h_L07.prj  \n",
            "  inflating: ma-data/physical-environment/shapefiles/WDBII_shp/h/WDBII_river_h_L07.shp  \n",
            "  inflating: ma-data/physical-environment/shapefiles/WDBII_shp/h/WDBII_river_h_L07.shx  \n",
            "  inflating: ma-data/physical-environment/shapefiles/WDBII_shp/h/WDBII_river_h_L08.dbf  \n",
            "  inflating: ma-data/physical-environment/shapefiles/WDBII_shp/h/WDBII_river_h_L08.prj  \n",
            "  inflating: ma-data/physical-environment/shapefiles/WDBII_shp/h/WDBII_river_h_L08.shp  \n",
            "  inflating: ma-data/physical-environment/shapefiles/WDBII_shp/h/WDBII_river_h_L08.shx  \n",
            "  inflating: ma-data/physical-environment/shapefiles/WDBII_shp/h/WDBII_river_h_L09.dbf  \n",
            "  inflating: ma-data/physical-environment/shapefiles/WDBII_shp/h/WDBII_river_h_L09.prj  \n",
            "  inflating: ma-data/physical-environment/shapefiles/WDBII_shp/h/WDBII_river_h_L09.shp  \n",
            "  inflating: ma-data/physical-environment/shapefiles/WDBII_shp/h/WDBII_river_h_L09.shx  \n",
            "  inflating: ma-data/physical-environment/shapefiles/WDBII_shp/h/WDBII_river_h_L10.dbf  \n",
            "  inflating: ma-data/physical-environment/shapefiles/WDBII_shp/h/WDBII_river_h_L10.prj  \n",
            "  inflating: ma-data/physical-environment/shapefiles/WDBII_shp/h/WDBII_river_h_L10.shp  \n",
            "  inflating: ma-data/physical-environment/shapefiles/WDBII_shp/h/WDBII_river_h_L10.shx  \n",
            "  inflating: ma-data/physical-environment/shapefiles/WDBII_shp/h/WDBII_river_h_L11.dbf  \n",
            "  inflating: ma-data/physical-environment/shapefiles/WDBII_shp/h/WDBII_river_h_L11.prj  \n",
            "  inflating: ma-data/physical-environment/shapefiles/WDBII_shp/h/WDBII_river_h_L11.shp  \n",
            "  inflating: ma-data/physical-environment/shapefiles/WDBII_shp/h/WDBII_river_h_L11.shx  \n",
            "  inflating: ma-data/physical-environment/shapefiles/WDBII_shp/i/WDBII_border_i_L1.dbf  \n",
            "  inflating: ma-data/physical-environment/shapefiles/WDBII_shp/i/WDBII_border_i_L1.prj  \n",
            "  inflating: ma-data/physical-environment/shapefiles/WDBII_shp/i/WDBII_border_i_L1.shp  \n",
            "  inflating: ma-data/physical-environment/shapefiles/WDBII_shp/i/WDBII_border_i_L1.shx  \n",
            "  inflating: ma-data/physical-environment/shapefiles/WDBII_shp/i/WDBII_border_i_L2.dbf  \n",
            "  inflating: ma-data/physical-environment/shapefiles/WDBII_shp/i/WDBII_border_i_L2.prj  \n",
            "  inflating: ma-data/physical-environment/shapefiles/WDBII_shp/i/WDBII_border_i_L2.shp  \n",
            "  inflating: ma-data/physical-environment/shapefiles/WDBII_shp/i/WDBII_border_i_L2.shx  \n",
            "  inflating: ma-data/physical-environment/shapefiles/WDBII_shp/i/WDBII_border_i_L3.dbf  \n",
            "  inflating: ma-data/physical-environment/shapefiles/WDBII_shp/i/WDBII_border_i_L3.prj  \n",
            "  inflating: ma-data/physical-environment/shapefiles/WDBII_shp/i/WDBII_border_i_L3.shp  \n",
            "  inflating: ma-data/physical-environment/shapefiles/WDBII_shp/i/WDBII_border_i_L3.shx  \n",
            "  inflating: ma-data/physical-environment/shapefiles/WDBII_shp/i/WDBII_river_i_L01.dbf  \n",
            "  inflating: ma-data/physical-environment/shapefiles/WDBII_shp/i/WDBII_river_i_L01.prj  \n",
            "  inflating: ma-data/physical-environment/shapefiles/WDBII_shp/i/WDBII_river_i_L01.shp  \n",
            "  inflating: ma-data/physical-environment/shapefiles/WDBII_shp/i/WDBII_river_i_L01.shx  \n",
            "  inflating: ma-data/physical-environment/shapefiles/WDBII_shp/i/WDBII_river_i_L02.dbf  \n",
            "  inflating: ma-data/physical-environment/shapefiles/WDBII_shp/i/WDBII_river_i_L02.prj  \n",
            "  inflating: ma-data/physical-environment/shapefiles/WDBII_shp/i/WDBII_river_i_L02.shp  \n",
            "  inflating: ma-data/physical-environment/shapefiles/WDBII_shp/i/WDBII_river_i_L02.shx  \n",
            "  inflating: ma-data/physical-environment/shapefiles/WDBII_shp/i/WDBII_river_i_L03.dbf  \n",
            "  inflating: ma-data/physical-environment/shapefiles/WDBII_shp/i/WDBII_river_i_L03.prj  \n",
            "  inflating: ma-data/physical-environment/shapefiles/WDBII_shp/i/WDBII_river_i_L03.shp  \n",
            "  inflating: ma-data/physical-environment/shapefiles/WDBII_shp/i/WDBII_river_i_L03.shx  \n",
            "  inflating: ma-data/physical-environment/shapefiles/WDBII_shp/i/WDBII_river_i_L04.dbf  \n",
            "  inflating: ma-data/physical-environment/shapefiles/WDBII_shp/i/WDBII_river_i_L04.prj  \n",
            "  inflating: ma-data/physical-environment/shapefiles/WDBII_shp/i/WDBII_river_i_L04.shp  \n",
            "  inflating: ma-data/physical-environment/shapefiles/WDBII_shp/i/WDBII_river_i_L04.shx  \n",
            "  inflating: ma-data/physical-environment/shapefiles/WDBII_shp/i/WDBII_river_i_L05.dbf  \n",
            "  inflating: ma-data/physical-environment/shapefiles/WDBII_shp/i/WDBII_river_i_L05.prj  \n",
            "  inflating: ma-data/physical-environment/shapefiles/WDBII_shp/i/WDBII_river_i_L05.shp  \n",
            "  inflating: ma-data/physical-environment/shapefiles/WDBII_shp/i/WDBII_river_i_L05.shx  \n",
            "  inflating: ma-data/physical-environment/shapefiles/WDBII_shp/i/WDBII_river_i_L06.dbf  \n",
            "  inflating: ma-data/physical-environment/shapefiles/WDBII_shp/i/WDBII_river_i_L06.prj  \n",
            "  inflating: ma-data/physical-environment/shapefiles/WDBII_shp/i/WDBII_river_i_L06.shp  \n",
            "  inflating: ma-data/physical-environment/shapefiles/WDBII_shp/i/WDBII_river_i_L06.shx  \n",
            "  inflating: ma-data/physical-environment/shapefiles/WDBII_shp/i/WDBII_river_i_L07.dbf  \n",
            "  inflating: ma-data/physical-environment/shapefiles/WDBII_shp/i/WDBII_river_i_L07.prj  \n",
            "  inflating: ma-data/physical-environment/shapefiles/WDBII_shp/i/WDBII_river_i_L07.shp  \n",
            "  inflating: ma-data/physical-environment/shapefiles/WDBII_shp/i/WDBII_river_i_L07.shx  \n",
            "  inflating: ma-data/physical-environment/shapefiles/WDBII_shp/i/WDBII_river_i_L08.dbf  \n",
            "  inflating: ma-data/physical-environment/shapefiles/WDBII_shp/i/WDBII_river_i_L08.prj  \n",
            "  inflating: ma-data/physical-environment/shapefiles/WDBII_shp/i/WDBII_river_i_L08.shp  \n",
            "  inflating: ma-data/physical-environment/shapefiles/WDBII_shp/i/WDBII_river_i_L08.shx  \n",
            "  inflating: ma-data/physical-environment/shapefiles/WDBII_shp/i/WDBII_river_i_L09.dbf  \n",
            "  inflating: ma-data/physical-environment/shapefiles/WDBII_shp/i/WDBII_river_i_L09.prj  \n",
            "  inflating: ma-data/physical-environment/shapefiles/WDBII_shp/i/WDBII_river_i_L09.shp  \n",
            "  inflating: ma-data/physical-environment/shapefiles/WDBII_shp/i/WDBII_river_i_L09.shx  \n",
            "  inflating: ma-data/physical-environment/shapefiles/WDBII_shp/i/WDBII_river_i_L10.dbf  \n",
            "  inflating: ma-data/physical-environment/shapefiles/WDBII_shp/i/WDBII_river_i_L10.prj  \n",
            "  inflating: ma-data/physical-environment/shapefiles/WDBII_shp/i/WDBII_river_i_L10.shp  \n",
            "  inflating: ma-data/physical-environment/shapefiles/WDBII_shp/i/WDBII_river_i_L10.shx  \n",
            "  inflating: ma-data/physical-environment/shapefiles/WDBII_shp/i/WDBII_river_i_L11.dbf  \n",
            "  inflating: ma-data/physical-environment/shapefiles/WDBII_shp/i/WDBII_river_i_L11.prj  \n",
            "  inflating: ma-data/physical-environment/shapefiles/WDBII_shp/i/WDBII_river_i_L11.shp  \n",
            "  inflating: ma-data/physical-environment/shapefiles/WDBII_shp/i/WDBII_river_i_L11.shx  \n",
            "  inflating: ma-data/physical-environment/shapefiles/WDBII_shp/l/WDBII_border_l_L1.dbf  \n",
            "  inflating: ma-data/physical-environment/shapefiles/WDBII_shp/l/WDBII_border_l_L1.prj  \n",
            "  inflating: ma-data/physical-environment/shapefiles/WDBII_shp/l/WDBII_border_l_L1.shp  \n",
            "  inflating: ma-data/physical-environment/shapefiles/WDBII_shp/l/WDBII_border_l_L1.shx  \n",
            "  inflating: ma-data/physical-environment/shapefiles/WDBII_shp/l/WDBII_border_l_L2.dbf  \n",
            "  inflating: ma-data/physical-environment/shapefiles/WDBII_shp/l/WDBII_border_l_L2.prj  \n",
            "  inflating: ma-data/physical-environment/shapefiles/WDBII_shp/l/WDBII_border_l_L2.shp  \n",
            "  inflating: ma-data/physical-environment/shapefiles/WDBII_shp/l/WDBII_border_l_L2.shx  \n",
            "  inflating: ma-data/physical-environment/shapefiles/WDBII_shp/l/WDBII_border_l_L3.dbf  \n",
            "  inflating: ma-data/physical-environment/shapefiles/WDBII_shp/l/WDBII_border_l_L3.prj  \n",
            "  inflating: ma-data/physical-environment/shapefiles/WDBII_shp/l/WDBII_border_l_L3.shp  \n",
            "  inflating: ma-data/physical-environment/shapefiles/WDBII_shp/l/WDBII_border_l_L3.shx  \n",
            "  inflating: ma-data/physical-environment/shapefiles/WDBII_shp/l/WDBII_river_l_L01.dbf  \n",
            "  inflating: ma-data/physical-environment/shapefiles/WDBII_shp/l/WDBII_river_l_L01.prj  \n",
            "  inflating: ma-data/physical-environment/shapefiles/WDBII_shp/l/WDBII_river_l_L01.shp  \n",
            "  inflating: ma-data/physical-environment/shapefiles/WDBII_shp/l/WDBII_river_l_L01.shx  \n",
            "  inflating: ma-data/physical-environment/shapefiles/WDBII_shp/l/WDBII_river_l_L02.dbf  \n",
            "  inflating: ma-data/physical-environment/shapefiles/WDBII_shp/l/WDBII_river_l_L02.prj  \n",
            "  inflating: ma-data/physical-environment/shapefiles/WDBII_shp/l/WDBII_river_l_L02.shp  \n",
            "  inflating: ma-data/physical-environment/shapefiles/WDBII_shp/l/WDBII_river_l_L02.shx  \n",
            "  inflating: ma-data/physical-environment/shapefiles/WDBII_shp/l/WDBII_river_l_L03.dbf  \n",
            "  inflating: ma-data/physical-environment/shapefiles/WDBII_shp/l/WDBII_river_l_L03.prj  \n",
            "  inflating: ma-data/physical-environment/shapefiles/WDBII_shp/l/WDBII_river_l_L03.shp  \n",
            "  inflating: ma-data/physical-environment/shapefiles/WDBII_shp/l/WDBII_river_l_L03.shx  \n",
            "  inflating: ma-data/physical-environment/shapefiles/WDBII_shp/l/WDBII_river_l_L04.dbf  \n",
            "  inflating: ma-data/physical-environment/shapefiles/WDBII_shp/l/WDBII_river_l_L04.prj  \n",
            "  inflating: ma-data/physical-environment/shapefiles/WDBII_shp/l/WDBII_river_l_L04.shp  \n",
            "  inflating: ma-data/physical-environment/shapefiles/WDBII_shp/l/WDBII_river_l_L04.shx  \n",
            "  inflating: ma-data/physical-environment/shapefiles/WDBII_shp/l/WDBII_river_l_L05.dbf  \n",
            "  inflating: ma-data/physical-environment/shapefiles/WDBII_shp/l/WDBII_river_l_L05.prj  \n",
            "  inflating: ma-data/physical-environment/shapefiles/WDBII_shp/l/WDBII_river_l_L05.shp  \n",
            "  inflating: ma-data/physical-environment/shapefiles/WDBII_shp/l/WDBII_river_l_L05.shx  \n",
            "  inflating: ma-data/physical-environment/shapefiles/WDBII_shp/l/WDBII_river_l_L06.dbf  \n",
            "  inflating: ma-data/physical-environment/shapefiles/WDBII_shp/l/WDBII_river_l_L06.prj  \n",
            "  inflating: ma-data/physical-environment/shapefiles/WDBII_shp/l/WDBII_river_l_L06.shp  \n",
            "  inflating: ma-data/physical-environment/shapefiles/WDBII_shp/l/WDBII_river_l_L06.shx  \n",
            "  inflating: ma-data/physical-environment/shapefiles/WDBII_shp/l/WDBII_river_l_L07.dbf  \n",
            "  inflating: ma-data/physical-environment/shapefiles/WDBII_shp/l/WDBII_river_l_L07.prj  \n",
            "  inflating: ma-data/physical-environment/shapefiles/WDBII_shp/l/WDBII_river_l_L07.shp  \n",
            "  inflating: ma-data/physical-environment/shapefiles/WDBII_shp/l/WDBII_river_l_L07.shx  \n",
            "  inflating: ma-data/physical-environment/shapefiles/WDBII_shp/l/WDBII_river_l_L08.dbf  \n",
            "  inflating: ma-data/physical-environment/shapefiles/WDBII_shp/l/WDBII_river_l_L08.prj  \n",
            "  inflating: ma-data/physical-environment/shapefiles/WDBII_shp/l/WDBII_river_l_L08.shp  \n",
            "  inflating: ma-data/physical-environment/shapefiles/WDBII_shp/l/WDBII_river_l_L08.shx  \n",
            "  inflating: ma-data/physical-environment/shapefiles/WDBII_shp/l/WDBII_river_l_L09.dbf  \n",
            "  inflating: ma-data/physical-environment/shapefiles/WDBII_shp/l/WDBII_river_l_L09.prj  \n",
            "  inflating: ma-data/physical-environment/shapefiles/WDBII_shp/l/WDBII_river_l_L09.shp  \n",
            "  inflating: ma-data/physical-environment/shapefiles/WDBII_shp/l/WDBII_river_l_L09.shx  \n",
            "  inflating: ma-data/physical-environment/shapefiles/WDBII_shp/l/WDBII_river_l_L10.dbf  \n",
            "  inflating: ma-data/physical-environment/shapefiles/WDBII_shp/l/WDBII_river_l_L10.prj  \n",
            "  inflating: ma-data/physical-environment/shapefiles/WDBII_shp/l/WDBII_river_l_L10.shp  \n",
            "  inflating: ma-data/physical-environment/shapefiles/WDBII_shp/l/WDBII_river_l_L10.shx  \n",
            "  inflating: ma-data/physical-environment/shapefiles/WDBII_shp/l/WDBII_river_l_L11.dbf  \n",
            "  inflating: ma-data/physical-environment/shapefiles/WDBII_shp/l/WDBII_river_l_L11.prj  \n",
            "  inflating: ma-data/physical-environment/shapefiles/WDBII_shp/l/WDBII_river_l_L11.shp  \n",
            "  inflating: ma-data/physical-environment/shapefiles/WDBII_shp/l/WDBII_river_l_L11.shx  \n",
            "  inflating: ma-data/physical-environment/shapefiles/GSHHS_shp/README.TXT  \n",
            "  inflating: ma-data/physical-environment/shapefiles/WDBII_shp/README.TXT  \n",
            "Extracting ma-data/physical-environment/osm_coastlines-split-4326.zip\n",
            "Archive:  ma-data/physical-environment/osm_coastlines-split-4326.zip\n",
            " extracting: ma-data/physical-environment/shapefiles/coastlines-split-4326/lines.cpg  \n",
            "  inflating: ma-data/physical-environment/shapefiles/coastlines-split-4326/lines.dbf  \n",
            "  inflating: ma-data/physical-environment/shapefiles/coastlines-split-4326/lines.prj  \n",
            "  inflating: ma-data/physical-environment/shapefiles/coastlines-split-4326/lines.shp  \n",
            "  inflating: ma-data/physical-environment/shapefiles/coastlines-split-4326/lines.shx  \n",
            "  inflating: ma-data/physical-environment/shapefiles/coastlines-split-4326/README.txt  \n",
            "Simplifying ma-data/physical-environment/shapefiles/*.shp\n",
            "Converting ma-data/physical-environment/processed/*.shp\n"
          ],
          "name": "stdout"
        },
        {
          "output_type": "stream",
          "text": [
            "Allocating 8000 megabytes of heap memory\n",
            "Error: [i] No files matched (ma-data/physical-environment/shapefiles/*.shp)\n",
            "Run mapshaper -h to view help\n",
            "Allocating 8000 megabytes of heap memory\n",
            "Error: [i] No files matched (ma-data/physical-environment/processed/*.shp)\n",
            "Run mapshaper -h to view help\n"
          ],
          "name": "stderr"
        }
      ]
    },
    {
      "cell_type": "code",
      "metadata": {
        "id": "PTcqFZxiQ8QD",
        "colab_type": "code",
        "outputId": "97fbe035-81f8-4b9a-b72b-c6dc33616d5e",
        "colab": {
          "base_uri": "https://localhost:8080/",
          "height": 315
        }
      },
      "source": [
        "# Add as GEE assets\n",
        "file_path=\"gs://ma-data/physical-environment/gshhg-shp-2.3.7.zip\"\n",
        "asset_path=\"projects/global-mangrove-watch/physical-environment\"\n",
        "append_txt=\"\"\n",
        "strProv=\"NOAA\"\n",
        "strVer=\"2.3.7\"\n",
        "strDOI=\"https://www.ngdc.noaa.gov/mgg/shorelines/\"\n",
        "strCite=\"Wessel, P., and W. H. F. Smith (1996), A global, self-consistent, hierarchical, high-resolution shoreline database, J. Geophys. Res., 101(B4), 8741–8743, doi:10.1029/96JB00104\"\n",
        "#gee_upload_zips_to_tables(file_path, asset_path, time_start=\"2017-06-15T00:00:00\", force=True, append_txt=append_txt, properties={\"(string)provider\": strProv, \"version\": strVer, \"(string)doi\": strDOI, \"(string)citation\": strCite})\n",
        "\n",
        "file_path=\"gs://ma-data/physical-environment/osm_coastlines-split-4326.zip\"\n",
        "asset_path=\"projects/global-mangrove-watch/physical-environment\"\n",
        "append_txt=\"\"\n",
        "strProv=\"OSM\"\n",
        "strVer=\"2019-05-28T03:16\"\n",
        "strDOI=\"https://osmdata.openstreetmap.de/data/coastlines.html\"\n",
        "strCite=\"OpenStreetMap data and OpenStreetMap contributors\"\n",
        "gee_upload_zips_to_tables(file_path, asset_path, time_start=\"2019-05-28T03:16:00\", force=True, append_txt=append_txt, properties={\"(string)provider\": strProv, \"version\": strVer, \"(string)doi\": strDOI, \"(string)citation\": strCite})"
      ],
      "execution_count": 0,
      "outputs": [
        {
          "output_type": "stream",
          "text": [
            "Found 2 files\n",
            "Processing gshhg-shp-2.3.7\n",
            "earthengine upload table --asset_id=projects/global-mangrove-watch/physical-environment/gshhg-shp-2.3.7 --force --time_start=2017-06-15T00:00:00 --property='(string)provider=NOAA' --property='version=2.3.7' --property='(string)doi=https://www.ngdc.noaa.gov/mgg/shorelines/' --property='(string)citation=Wessel, P., and W. H. F. Smith (1996), A global, self-consistent, hierarchical, high-resolution shoreline database, J. Geophys. Res., 101(B4), 8741–8743, doi:10.1029/96JB00104'  gs://ma-data/physical-environment/gshhg-shp-2.3.7.zip\n",
            "Task created\n",
            "Processing \n",
            "earthengine upload table --asset_id=projects/global-mangrove-watch/physical-environment/ --force --time_start=2017-06-15T00:00:00 --property='(string)provider=NOAA' --property='version=2.3.7' --property='(string)doi=https://www.ngdc.noaa.gov/mgg/shorelines/' --property='(string)citation=Wessel, P., and W. H. F. Smith (1996), A global, self-consistent, hierarchical, high-resolution shoreline database, J. Geophys. Res., 101(B4), 8741–8743, doi:10.1029/96JB00104'  \n",
            "Task failed\n",
            "Finished upload\n",
            "Found 2 files\n",
            "Processing osm_coastlines-split-4326\n",
            "earthengine upload table --asset_id=projects/global-mangrove-watch/physical-environment/osm_coastlines-split-4326 --force --time_start=2019-05-28T03:16:00 --property='(string)provider=OSM' --property='version=2019-05-28T03:16' --property='(string)doi=https://osmdata.openstreetmap.de/data/coastlines.html' --property='(string)citation=OpenStreetMap data and OpenStreetMap contributors'  gs://ma-data/physical-environment/osm_coastlines-split-4326.zip\n",
            "Task created\n",
            "Processing \n",
            "earthengine upload table --asset_id=projects/global-mangrove-watch/physical-environment/ --force --time_start=2019-05-28T03:16:00 --property='(string)provider=OSM' --property='version=2019-05-28T03:16' --property='(string)doi=https://osmdata.openstreetmap.de/data/coastlines.html' --property='(string)citation=OpenStreetMap data and OpenStreetMap contributors'  \n",
            "Task failed\n",
            "Finished upload\n"
          ],
          "name": "stdout"
        }
      ]
    },
    {
      "cell_type": "markdown",
      "metadata": {
        "id": "Wcr2PMjZH0dZ",
        "colab_type": "text"
      },
      "source": [
        "# Process GEE analysis output\n",
        "\n",
        "+ at the moment this is a GEE JS code \n",
        "    + https://code.earthengine.google.com/be95d4d02efb430e186e5406c3d3b46a\n",
        "    + https://code.earthengine.google.com/?accept_repo=users/vizzuality/mangrove-atlas"
      ]
    },
    {
      "cell_type": "code",
      "metadata": {
        "id": "Ax-SXF-L4O_r",
        "colab_type": "code",
        "outputId": "7d8583b8-7381-43ea-dfa6-9353838e6a1b",
        "colab": {
          "base_uri": "https://localhost:8080/",
          "height": 121
        }
      },
      "source": [
        "# Get gee analysis output\n",
        "import os\n",
        "import subprocess\n",
        "\n",
        "def get_gee_export(bdir, adir):\n",
        "  try:\n",
        "    p = 'gs://{0}/{1}/{2}'.format(os.environ.get('MA_BUCKET'), bdir, adir)\n",
        "    d = '{0}/{1}'.format(os.environ.get('MA_BUCKET'), bdir)\n",
        "    # make directory if it does not exist\n",
        "    if not os.path.exists(d):\n",
        "      os.makedirs(d)\n",
        "    s = subprocess.run(['gsutil', '-m', 'cp', '-r', p, d], check=True)\n",
        "    print('COMPLETED: {0} transfered TO {1}'.format(p,d))\n",
        "  except subprocess.CalledProcessError as err:\n",
        "    print('ERROR:', err)\n",
        "\n",
        "\n",
        "bdir = 'ee-export-tables'\n",
        "\n",
        "# land-cover\n",
        "get_gee_export(bdir, 'land-cover')\n",
        "get_gee_export(bdir, 'mangrove-properties')\n",
        "get_gee_export(bdir, 'environmental-pressures')\n",
        "!gsutil cp gs://mangrove_atlas/ee-export-tables/locations_aoi-country-wdpa_20190917.geojson mangrove_atlas/ee-export-tables/\n"
      ],
      "execution_count": 0,
      "outputs": [
        {
          "output_type": "stream",
          "text": [
            "COMPLETED: gs://mangrove_atlas/ee-export-tables/land-cover transfered TO mangrove_atlas/ee-export-tables\n",
            "COMPLETED: gs://mangrove_atlas/ee-export-tables/mangrove-properties transfered TO mangrove_atlas/ee-export-tables\n",
            "COMPLETED: gs://mangrove_atlas/ee-export-tables/environmental-pressures transfered TO mangrove_atlas/ee-export-tables\n",
            "Copying gs://mangrove_atlas/ee-export-tables/locations_aoi-country-wdpa_20190917.geojson...\n",
            "- [1 files][  9.1 MiB/  9.1 MiB]                                                \n",
            "Operation completed over 1 objects/9.1 MiB.                                      \n"
          ],
          "name": "stdout"
        }
      ]
    },
    {
      "cell_type": "code",
      "metadata": {
        "id": "OipYqDCLIH47",
        "colab_type": "code",
        "outputId": "9f80291e-5c0d-4db1-e524-954768c7a1d6",
        "colab": {
          "base_uri": "https://localhost:8080/",
          "height": 139
        }
      },
      "source": [
        "%%bash \n",
        "# Combine geojsons and convert to geojson\n",
        "mapshaper-xl \\\n",
        "    -i $MA_BUCKET//ee-export-tables/land-cover/*.geojson combine-files \\\n",
        "    -merge-layers \\\n",
        "    -o $MA_BUCKET//ee-export-tables/land-cover_data.geojson format=geojson force\n",
        "\n",
        "mapshaper-xl \\\n",
        "    -i $MA_BUCKET//ee-export-tables/mangrove-properties/*.geojson combine-files \\\n",
        "    -merge-layers \\\n",
        "    -o $MA_BUCKET//ee-export-tables/mangrove-properties.geojson format=geojson force\n",
        "\n",
        "mapshaper-xl \\\n",
        "    -i $MA_BUCKET//ee-export-tables/environmental-pressures/*.geojson combine-files \\\n",
        "    -merge-layers \\\n",
        "    -o $MA_BUCKET//ee-export-tables/environmental-pressures.geojson format=geojson force\n",
        "\n"
      ],
      "execution_count": 0,
      "outputs": [
        {
          "output_type": "stream",
          "text": [
            "Allocating 8000 megabytes of heap memory\n",
            "[o] Wrote mangrove_atlas/ee-export-tables/land-cover_data.geojson\n",
            "Allocating 8000 megabytes of heap memory\n",
            "[o] Wrote mangrove_atlas/ee-export-tables/mangrove-properties.geojson\n",
            "Allocating 8000 megabytes of heap memory\n",
            "[merge-layers] Error: Inconsistent data types in \"con_hotspot_summary_km2\" field: object, string\n",
            "Run mapshaper -h to view help\n"
          ],
          "name": "stderr"
        }
      ]
    },
    {
      "cell_type": "code",
      "metadata": {
        "id": "FWUJHjU8blNZ",
        "colab_type": "code",
        "outputId": "0184c31a-4ee3-45f5-d39a-1d2190ee0153",
        "colab": {
          "base_uri": "https://localhost:8080/",
          "height": 69
        }
      },
      "source": [
        "%%bash\n",
        "mapshaper-xl -i $MA_BUCKET/ee-export-tables/locations_aoi-country-wdpa_20190917.geojson \\\n",
        "    -join $MA_BUCKET//ee-export-tables/land-cover_data.geojson keys=id,id string-fields=id  \\\n",
        "    -o $MA_BUCKET/ee-export-tables/mangrove_atlas_data.geojson force\n"
      ],
      "execution_count": 0,
      "outputs": [
        {
          "output_type": "stream",
          "text": [
            "Allocating 8000 megabytes of heap memory\n",
            "[join] Error: External table is missing a field named: id\n",
            "Run mapshaper -h to view help\n"
          ],
          "name": "stderr"
        }
      ]
    },
    {
      "cell_type": "code",
      "metadata": {
        "id": "1TK0eJJGMMq2",
        "colab_type": "code",
        "outputId": "ad97b570-0f8d-411e-8612-1d409df60835",
        "colab": {
          "base_uri": "https://localhost:8080/",
          "height": 139
        }
      },
      "source": [
        "%%bash\n",
        "gsutil cp $MA_BUCKET/ee-export-tables/land-cover_data.geojson gs://$MA_BUCKET/ee-export-tables/land-cover_data.json\n",
        "gsutil cp $MA_BUCKET/ee-export-tables/mangrove-properties.geojson gs://$MA_BUCKET/ee-export-tables/mangrove-properties_data.json\n",
        "gsutil cp $MA_BUCKET/ee-export-tables/environmental-pressures.geojson gs://$MA_BUCKET/ee-export-tables/environmental-pressures_data.json"
      ],
      "execution_count": 0,
      "outputs": [
        {
          "output_type": "stream",
          "text": [
            "Copying file://mangrove_atlas/ee-export-tables/land-cover_data.geojson [Content-Type=application/octet-stream]...\n",
            "/ [0 files][    0.0 B/174.8 KiB]                                                \r/ [1 files][174.8 KiB/174.8 KiB]                                                \r-\r\n",
            "Operation completed over 1 objects/174.8 KiB.                                    \n",
            "Copying file://mangrove_atlas/ee-export-tables/mangrove-properties.geojson [Content-Type=application/octet-stream]...\n",
            "/ [0 files][    0.0 B/898.2 KiB]                                                \r/ [1 files][898.2 KiB/898.2 KiB]                                                \r-\r\n",
            "Operation completed over 1 objects/898.2 KiB.                                    \n",
            "CommandException: No URLs matched: mangrove_atlas/ee-export-tables/environmental-pressures.geojson\n"
          ],
          "name": "stderr"
        }
      ]
    },
    {
      "cell_type": "code",
      "metadata": {
        "id": "_I9RAOZh7Oq1",
        "colab_type": "code",
        "outputId": "3a0ce59b-e02c-48fb-b98d-ed7d2f1807c2",
        "colab": {
          "base_uri": "https://localhost:8080/",
          "height": 139
        }
      },
      "source": [
        "ls -lh mangrove_atlas/ee-export-tables/"
      ],
      "execution_count": 0,
      "outputs": [
        {
          "output_type": "stream",
          "text": [
            "total 11M\n",
            "drwxr-xr-x 2 root root  24K Sep 24 17:42 \u001b[0m\u001b[01;34menvironmental-pressures\u001b[0m/\n",
            "drwxr-xr-x 2 root root  28K Sep 24 17:42 \u001b[01;34mland-cover\u001b[0m/\n",
            "-rw-r--r-- 1 root root 175K Sep 24 17:46 land-cover_data.geojson\n",
            "-rw-r--r-- 1 root root 9.1M Sep 24 17:42 locations_aoi-country-wdpa_20190917.geojson\n",
            "drwxr-xr-x 2 root root  20K Sep 24 17:42 \u001b[01;34mmangrove-properties\u001b[0m/\n",
            "-rw-r--r-- 1 root root 899K Sep 24 17:46 mangrove-properties.geojson\n"
          ],
          "name": "stdout"
        }
      ]
    },
    {
      "cell_type": "code",
      "metadata": {
        "id": "WApnlEe2H8g1",
        "colab_type": "code",
        "outputId": "6c141139-de4d-4130-8dad-64dcfee386a3",
        "colab": {
          "base_uri": "https://localhost:8080/",
          "height": 54
        }
      },
      "source": [
        "# Get gee analysis output\n",
        "# FIXME MAKE GEE OUTPUT FILE AUTOMATIC NAMED\n",
        "import os\n",
        "import subprocess\n",
        "bdir = 'ee-export-tables'\n",
        "b_file_path = 'locations_aoi-country-wdpa_20190924'\n",
        "p = 'gs://' + os.environ.get('MA_BUCKET') + '/' + bdir + '/' + b_file_path + '.geojson'\n",
        "subprocess.run(['gsutil', 'cp', p, '.'])\n"
      ],
      "execution_count": 0,
      "outputs": [
        {
          "output_type": "execute_result",
          "data": {
            "text/plain": [
              "CompletedProcess(args=['gsutil', 'cp', 'gs://mangrove_atlas/ee-export-tables/locations_aoi-country-wdpa_20190924.geojson', '.'], returncode=0)"
            ]
          },
          "metadata": {
            "tags": []
          },
          "execution_count": 5
        }
      ]
    },
    {
      "cell_type": "code",
      "metadata": {
        "id": "gCzxVxBnVPbI",
        "colab_type": "code",
        "outputId": "1b00fa29-cfdc-4abe-bbbd-3a357d62eb97",
        "colab": {
          "base_uri": "https://localhost:8080/",
          "height": 34
        }
      },
      "source": [
        "ls"
      ],
      "execution_count": 0,
      "outputs": [
        {
          "output_type": "stream",
          "text": [
            "locations_aoi-country-wdpa_20190924.geojson  \u001b[0m\u001b[01;34mmangrove_atlas\u001b[0m/\n"
          ],
          "name": "stdout"
        }
      ]
    },
    {
      "cell_type": "code",
      "metadata": {
        "id": "lu-HcC9zbszM",
        "colab_type": "code",
        "colab": {}
      },
      "source": [
        "# Convert LOCATIONS table from geojson to a flat CSV structure\n",
        "import json\n",
        "import pandas as pd\n",
        "\n",
        "data=json.load(open(b_file_path + '.geojson'))['features']\n",
        "\n",
        "df_list = []\n",
        "for f in data:\n",
        "  geometry = f.get('geometry')\n",
        "  #print(geometry)\n",
        "  ids = f.get('id')\n",
        "  props = f.get('properties')\n",
        "  #print(props.keys())\n",
        "  bounds = props['bounds']\n",
        "  del props['bounds']\n",
        "  #print(props)\n",
        "  out = pd.DataFrame.from_records([props])\n",
        "  out['id'] = ids\n",
        "  out['geometry'] = json.dumps(geometry)\n",
        "  out['bounds'] = json.dumps(bounds)\n",
        "  df_list.append(out)\n",
        "  \n",
        "df = pd.concat(df_list)\n",
        "df = df.rename(columns={\"type\": \"location_type\", \"length_coast_m\": \"coast_length_m\", \"id\": \"location_id\"})\n",
        "#df = df[[\"name\", \"location_type\", \"iso\", \"bounds\", \"geometry\", \"area_m2\", \"perimeter_m\", \"coast_length_m\", \"location_id\"]]\n",
        "\n",
        "df\n",
        "df.to_csv(b_file_path + '.csv', index=False, na_rep=\"NA\", sep=\";\")"
      ],
      "execution_count": 0,
      "outputs": []
    },
    {
      "cell_type": "code",
      "metadata": {
        "id": "cd3CM4DcV-n6",
        "colab_type": "code",
        "outputId": "163acdad-57d4-4594-d8c3-413efd55ae58",
        "colab": {
          "base_uri": "https://localhost:8080/",
          "height": 54
        }
      },
      "source": [
        "# add to GCS\n",
        "# FIXME MAKE GEE OUTPUT FILE AUTOMATIC NAMED\n",
        "import os\n",
        "import subprocess\n",
        "p = 'gs://' + os.environ.get('MA_BUCKET') + '/' + bdir + '/' + b_file_path + '.csv'\n",
        "subprocess.run(['gsutil', 'cp', b_file_path + '.csv', p])"
      ],
      "execution_count": 0,
      "outputs": [
        {
          "output_type": "execute_result",
          "data": {
            "text/plain": [
              "CompletedProcess(args=['gsutil', 'cp', 'locations_aoi-country-wdpa_20190924.csv', 'gs://mangrove_atlas/ee-export-tables/locations_aoi-country-wdpa_20190924.csv'], returncode=1)"
            ]
          },
          "metadata": {
            "tags": []
          },
          "execution_count": 10
        }
      ]
    },
    {
      "cell_type": "code",
      "metadata": {
        "id": "xZY40fKsNMTI",
        "colab_type": "code",
        "outputId": "92237c72-784b-4720-c51a-9bdbda746c71",
        "colab": {
          "base_uri": "https://localhost:8080/",
          "height": 34
        }
      },
      "source": [
        "df[['location_id']].size == pd.unique(df['location_id']).size"
      ],
      "execution_count": 0,
      "outputs": [
        {
          "output_type": "execute_result",
          "data": {
            "text/plain": [
              "True"
            ]
          },
          "metadata": {
            "tags": []
          },
          "execution_count": 40
        }
      ]
    },
    {
      "cell_type": "code",
      "metadata": {
        "id": "5JVmdFhmFdX4",
        "colab_type": "code",
        "outputId": "156be9d7-8485-4749-c363-8dcf671c0c01",
        "colab": {
          "base_uri": "https://localhost:8080/",
          "height": 69
        }
      },
      "source": [
        "%%bash\n",
        "# Add to API\n",
        "curl -X \"POST\" \"https://mangrove-atlas-api.herokuapp.com/api/locations/import?reset=true\" \\\n",
        "      -H \"Content-Type: multipart/form-data\" \\\n",
        "      -F \"file=@locations_aoi-country-wdpa_20190924.csv\""
      ],
      "execution_count": 0,
      "outputs": [
        {
          "output_type": "stream",
          "text": [
            "  % Total    % Received % Xferd  Average Speed   Time    Time     Time  Current\n",
            "                                 Dload  Upload   Total   Spent    Left  Speed\n",
            "\r  0     0    0     0    0     0      0      0 --:--:-- --:--:-- --:--:--     0\r100 9707k    0     0  100 9707k      0  5966k  0:00:01  0:00:01 --:--:-- 5966k\r100 9707k    0     0  100 9707k      0  3693k  0:00:02  0:00:02 --:--:-- 3693k\r100 9707k    0     0  100 9707k      0  2674k  0:00:03  0:00:03 --:--:-- 2674k\r100 9707k    0     0  100 9707k      0  2096k  0:00:04  0:00:04 --:--:-- 2096k\r100 9707k    0     0  100 9707k      0  1723k  0:00:05  0:00:05 --:--:-- 1723k\r100 9707k    0     0  100 9707k      0  1463k  0:00:06  0:00:06 --:--:--     0\r100 9707k    0     0  100 9707k      0  1271k  0:00:07  0:00:07 --:--:--     0\r100 9707k    0     0  100 9707k      0  1124k  0:00:08  0:00:08 --:--:--     0\r100 9707k    0     0  100 9707k      0  1007k  0:00:09  0:00:09 --:--:--     0\r100 9707k    0     0  100 9707k      0   912k  0:00:10  0:00:10 --:--:--     0\r100 9707k    0     0  100 9707k      0   834k  0:00:11  0:00:11 --:--:--     0\r100 9707k    0     0  100 9707k      0   768k  0:00:12  0:00:12 --:--:--     0\r100 9707k    0     0  100 9707k      0   711k  0:00:13  0:00:13 --:--:--     0\r100 9707k    0     0  100 9707k      0   662k  0:00:14  0:00:14 --:--:--     0\r100 9707k    0     0  100 9707k      0   620k  0:00:15  0:00:15 --:--:--     0\r100 9707k    0     0  100 9707k      0   583k  0:00:16  0:00:16 --:--:--     0\r100 9707k    0     0  100 9707k      0   579k  0:00:16  0:00:16 --:--:--     0\n"
          ],
          "name": "stderr"
        }
      ]
    },
    {
      "cell_type": "code",
      "metadata": {
        "id": "RUpbJOshT_TC",
        "colab_type": "code",
        "outputId": "7b183957-6069-4e95-b5ae-17189bcdbb73",
        "colab": {
          "base_uri": "https://localhost:8080/",
          "height": 34
        }
      },
      "source": [
        "# Get gee analysis output\n",
        "# FIXME MAKE GEE OUTPUT FILE AUTOMATIC NAMED\n",
        "import os\n",
        "import subprocess\n",
        "bdir = 'ee-export-tables'\n",
        "b_file_path = 'countries_data_2019085_ee_export'\n",
        "p = 'gs://' + os.environ.get('MA_BUCKET') + '/' + bdir + '/' + b_file_path + '.geojson'\n",
        "subprocess.run(['gsutil', 'cp', p, '.'])"
      ],
      "execution_count": 0,
      "outputs": [
        {
          "output_type": "execute_result",
          "data": {
            "text/plain": [
              "CompletedProcess(args=['gsutil', 'cp', 'gs://mangrove_atlas/ee-export-tables/countries_data_2019085_ee_export.geojson', '.'], returncode=0)"
            ]
          },
          "metadata": {
            "tags": []
          },
          "execution_count": 37
        }
      ]
    },
    {
      "cell_type": "code",
      "metadata": {
        "id": "qA5-TbYOOWgR",
        "colab_type": "code",
        "colab": {}
      },
      "source": [
        "# Convert from geojson to a flat CSV structure\n",
        "import json\n",
        "import pandas as pd\n",
        "\n",
        "data=json.load(open(b_file_path + '.geojson'))['features']\n",
        "\n",
        "df_list = []\n",
        "for f in data:\n",
        "  geometry = f.get('geometry')\n",
        "  #print(geometry)\n",
        "  ids = f.get('id')\n",
        "  props = f.get('properties')\n",
        "  chs = props['con_hotspot_summary_km2']\n",
        "  del props['con_hotspot_summary_km2']\n",
        "  #print(props)\n",
        "  out = pd.DataFrame(props)\n",
        "  out['id'] = ids\n",
        "  out['geometry'] = json.dumps(geometry)\n",
        "  out['con_hotspot_summary_km2'] = json.dumps(chs)\n",
        "  df_list.append(out)\n",
        "  \n",
        "df = pd.concat(df_list)\n",
        "df = df.rename(columns={\"type\": \"location_type\", \"length_coast_m\": \"coast_length_m\", \"id\": \"location_id\", \\\n",
        "                        'agb_mangrove_mgha-1': 'agb_mgha_1', 'hba_mangrove_m': 'hba_m', 'hmax_mangrove_m': 'hmax_m', \\\n",
        "                       'mangrove_gain_m2': 'gain_m2', 'mangrove_loss_m2': 'loss_m2', 'length_mangrove_m': 'length_m' \\\n",
        "                        ,'area_mangrove_m2': 'area_m2'})\n",
        "#df\n",
        "df = df[['gain_m2', 'loss_m2', 'length_m', 'area_m2', 'hmax_m', 'agb_mgha_1', 'hba_m', 'location_id', 'location_type', 'name', 'con_hotspot_summary_km2']]\n",
        "df = df.reset_index()\n",
        "#df\n",
        "df = df.rename(columns={\"index\": \"date\"})\n",
        "df\n",
        "df['date'] = pd.to_datetime(df['date'], format='%Y', errors='coerce')\n",
        "df.to_csv(b_file_path + '.csv', index=False, na_rep=\"NA\", sep=\";\")"
      ],
      "execution_count": 0,
      "outputs": []
    },
    {
      "cell_type": "code",
      "metadata": {
        "id": "Yj2AMqtgc_ZC",
        "colab_type": "code",
        "outputId": "440c0710-e279-4713-c24e-900149d7ec26",
        "colab": {
          "base_uri": "https://localhost:8080/",
          "height": 34
        }
      },
      "source": [
        "df[['location_id']].size == pd.unique(df['location_id']).size"
      ],
      "execution_count": 0,
      "outputs": [
        {
          "output_type": "execute_result",
          "data": {
            "text/plain": [
              "False"
            ]
          },
          "metadata": {
            "tags": []
          },
          "execution_count": 25
        }
      ]
    },
    {
      "cell_type": "code",
      "metadata": {
        "id": "N-OYxIey0FSi",
        "colab_type": "code",
        "outputId": "b9f1359d-bc34-47b2-cf69-52e33d5eae88",
        "colab": {
          "base_uri": "https://localhost:8080/",
          "height": 34
        }
      },
      "source": [
        "# Send to GCS\n",
        "import os\n",
        "import subprocess\n",
        "p_csv = b_file_path + '.csv'\n",
        "p = 'gs://' + os.environ.get('MA_BUCKET') + '/' + bdir\n",
        "subprocess.run(['gsutil', 'cp', p_csv, p])\n"
      ],
      "execution_count": 0,
      "outputs": [
        {
          "output_type": "execute_result",
          "data": {
            "text/plain": [
              "CompletedProcess(args=['gsutil', 'cp', 'countries_data_2019085_ee_export.csv', 'gs://mangrove_atlas/ee-export-tables'], returncode=0)"
            ]
          },
          "metadata": {
            "tags": []
          },
          "execution_count": 44
        }
      ]
    },
    {
      "cell_type": "code",
      "metadata": {
        "id": "8NbI_5Kaeinw",
        "colab_type": "code",
        "outputId": "aa847fbd-18f0-4f38-d9ea-5f8ca0d2a8bc",
        "colab": {
          "base_uri": "https://localhost:8080/",
          "height": 1000
        }
      },
      "source": [
        "# View CSV\n",
        "import pandas as pd\n",
        "pd.read_csv(b_file_path + '.csv', sep=\";\")\n"
      ],
      "execution_count": 0,
      "outputs": [
        {
          "output_type": "execute_result",
          "data": {
            "text/html": [
              "<div>\n",
              "<style scoped>\n",
              "    .dataframe tbody tr th:only-of-type {\n",
              "        vertical-align: middle;\n",
              "    }\n",
              "\n",
              "    .dataframe tbody tr th {\n",
              "        vertical-align: top;\n",
              "    }\n",
              "\n",
              "    .dataframe thead th {\n",
              "        text-align: right;\n",
              "    }\n",
              "</style>\n",
              "<table border=\"1\" class=\"dataframe\">\n",
              "  <thead>\n",
              "    <tr style=\"text-align: right;\">\n",
              "      <th></th>\n",
              "      <th>date</th>\n",
              "      <th>gain_m2</th>\n",
              "      <th>loss_m2</th>\n",
              "      <th>length_m</th>\n",
              "      <th>area_m2</th>\n",
              "      <th>hmax_m</th>\n",
              "      <th>agb_mgha_1</th>\n",
              "      <th>hba_m</th>\n",
              "      <th>location_id</th>\n",
              "      <th>location_type</th>\n",
              "      <th>name</th>\n",
              "      <th>con_hotspot_summary_km2</th>\n",
              "    </tr>\n",
              "  </thead>\n",
              "  <tbody>\n",
              "    <tr>\n",
              "      <th>0</th>\n",
              "      <td>1996-01-01</td>\n",
              "      <td>0.000000e+00</td>\n",
              "      <td>0.000000e+00</td>\n",
              "      <td>65167.28</td>\n",
              "      <td>5.075309e+08</td>\n",
              "      <td>NaN</td>\n",
              "      <td>NaN</td>\n",
              "      <td>NaN</td>\n",
              "      <td>1_1_00000000000000000000</td>\n",
              "      <td>aoi</td>\n",
              "      <td>Rufiji</td>\n",
              "      <td>{\"Monitoring Advised\": 31.2962, \"Requires Moni...</td>\n",
              "    </tr>\n",
              "    <tr>\n",
              "      <th>1</th>\n",
              "      <td>2000-01-01</td>\n",
              "      <td>NaN</td>\n",
              "      <td>NaN</td>\n",
              "      <td>NaN</td>\n",
              "      <td>NaN</td>\n",
              "      <td>19.92</td>\n",
              "      <td>260.21</td>\n",
              "      <td>12.62</td>\n",
              "      <td>1_1_00000000000000000000</td>\n",
              "      <td>aoi</td>\n",
              "      <td>Rufiji</td>\n",
              "      <td>{\"Monitoring Advised\": 31.2962, \"Requires Moni...</td>\n",
              "    </tr>\n",
              "    <tr>\n",
              "      <th>2</th>\n",
              "      <td>2007-01-01</td>\n",
              "      <td>5.985117e+06</td>\n",
              "      <td>1.404493e+07</td>\n",
              "      <td>64694.98</td>\n",
              "      <td>4.994764e+08</td>\n",
              "      <td>NaN</td>\n",
              "      <td>NaN</td>\n",
              "      <td>NaN</td>\n",
              "      <td>1_1_00000000000000000000</td>\n",
              "      <td>aoi</td>\n",
              "      <td>Rufiji</td>\n",
              "      <td>{\"Monitoring Advised\": 31.2962, \"Requires Moni...</td>\n",
              "    </tr>\n",
              "    <tr>\n",
              "      <th>3</th>\n",
              "      <td>2008-01-01</td>\n",
              "      <td>5.131899e+06</td>\n",
              "      <td>4.469590e+06</td>\n",
              "      <td>64148.45</td>\n",
              "      <td>5.001376e+08</td>\n",
              "      <td>NaN</td>\n",
              "      <td>NaN</td>\n",
              "      <td>NaN</td>\n",
              "      <td>1_1_00000000000000000000</td>\n",
              "      <td>aoi</td>\n",
              "      <td>Rufiji</td>\n",
              "      <td>{\"Monitoring Advised\": 31.2962, \"Requires Moni...</td>\n",
              "    </tr>\n",
              "    <tr>\n",
              "      <th>4</th>\n",
              "      <td>2009-01-01</td>\n",
              "      <td>3.208974e+06</td>\n",
              "      <td>4.309829e+06</td>\n",
              "      <td>63901.10</td>\n",
              "      <td>4.990318e+08</td>\n",
              "      <td>NaN</td>\n",
              "      <td>NaN</td>\n",
              "      <td>NaN</td>\n",
              "      <td>1_1_00000000000000000000</td>\n",
              "      <td>aoi</td>\n",
              "      <td>Rufiji</td>\n",
              "      <td>{\"Monitoring Advised\": 31.2962, \"Requires Moni...</td>\n",
              "    </tr>\n",
              "    <tr>\n",
              "      <th>5</th>\n",
              "      <td>2010-01-01</td>\n",
              "      <td>4.316326e+06</td>\n",
              "      <td>5.752221e+06</td>\n",
              "      <td>64280.28</td>\n",
              "      <td>4.975992e+08</td>\n",
              "      <td>NaN</td>\n",
              "      <td>NaN</td>\n",
              "      <td>NaN</td>\n",
              "      <td>1_1_00000000000000000000</td>\n",
              "      <td>aoi</td>\n",
              "      <td>Rufiji</td>\n",
              "      <td>{\"Monitoring Advised\": 31.2962, \"Requires Moni...</td>\n",
              "    </tr>\n",
              "    <tr>\n",
              "      <th>6</th>\n",
              "      <td>2015-01-01</td>\n",
              "      <td>1.313068e+07</td>\n",
              "      <td>1.132364e+07</td>\n",
              "      <td>65776.31</td>\n",
              "      <td>4.994017e+08</td>\n",
              "      <td>NaN</td>\n",
              "      <td>NaN</td>\n",
              "      <td>NaN</td>\n",
              "      <td>1_1_00000000000000000000</td>\n",
              "      <td>aoi</td>\n",
              "      <td>Rufiji</td>\n",
              "      <td>{\"Monitoring Advised\": 31.2962, \"Requires Moni...</td>\n",
              "    </tr>\n",
              "    <tr>\n",
              "      <th>7</th>\n",
              "      <td>2016-01-01</td>\n",
              "      <td>1.041104e+07</td>\n",
              "      <td>1.104505e+07</td>\n",
              "      <td>65467.70</td>\n",
              "      <td>4.987754e+08</td>\n",
              "      <td>NaN</td>\n",
              "      <td>NaN</td>\n",
              "      <td>NaN</td>\n",
              "      <td>1_1_00000000000000000000</td>\n",
              "      <td>aoi</td>\n",
              "      <td>Rufiji</td>\n",
              "      <td>{\"Monitoring Advised\": 31.2962, \"Requires Moni...</td>\n",
              "    </tr>\n",
              "    <tr>\n",
              "      <th>8</th>\n",
              "      <td>1996-01-01</td>\n",
              "      <td>0.000000e+00</td>\n",
              "      <td>0.000000e+00</td>\n",
              "      <td>74792.05</td>\n",
              "      <td>5.777505e+08</td>\n",
              "      <td>NaN</td>\n",
              "      <td>NaN</td>\n",
              "      <td>NaN</td>\n",
              "      <td>1_2_00000000000000000000</td>\n",
              "      <td>aoi</td>\n",
              "      <td>Saloum</td>\n",
              "      <td>{\"Monitoring Advised\": 591.08, \"Requires Monit...</td>\n",
              "    </tr>\n",
              "    <tr>\n",
              "      <th>9</th>\n",
              "      <td>2000-01-01</td>\n",
              "      <td>NaN</td>\n",
              "      <td>NaN</td>\n",
              "      <td>NaN</td>\n",
              "      <td>NaN</td>\n",
              "      <td>5.96</td>\n",
              "      <td>28.10</td>\n",
              "      <td>3.78</td>\n",
              "      <td>1_2_00000000000000000000</td>\n",
              "      <td>aoi</td>\n",
              "      <td>Saloum</td>\n",
              "      <td>{\"Monitoring Advised\": 591.08, \"Requires Monit...</td>\n",
              "    </tr>\n",
              "    <tr>\n",
              "      <th>10</th>\n",
              "      <td>2007-01-01</td>\n",
              "      <td>2.837590e+07</td>\n",
              "      <td>2.595300e+07</td>\n",
              "      <td>71837.04</td>\n",
              "      <td>5.789575e+08</td>\n",
              "      <td>NaN</td>\n",
              "      <td>NaN</td>\n",
              "      <td>NaN</td>\n",
              "      <td>1_2_00000000000000000000</td>\n",
              "      <td>aoi</td>\n",
              "      <td>Saloum</td>\n",
              "      <td>{\"Monitoring Advised\": 591.08, \"Requires Monit...</td>\n",
              "    </tr>\n",
              "    <tr>\n",
              "      <th>11</th>\n",
              "      <td>2008-01-01</td>\n",
              "      <td>1.518753e+07</td>\n",
              "      <td>1.313050e+07</td>\n",
              "      <td>73079.09</td>\n",
              "      <td>5.810127e+08</td>\n",
              "      <td>NaN</td>\n",
              "      <td>NaN</td>\n",
              "      <td>NaN</td>\n",
              "      <td>1_2_00000000000000000000</td>\n",
              "      <td>aoi</td>\n",
              "      <td>Saloum</td>\n",
              "      <td>{\"Monitoring Advised\": 591.08, \"Requires Monit...</td>\n",
              "    </tr>\n",
              "    <tr>\n",
              "      <th>12</th>\n",
              "      <td>2009-01-01</td>\n",
              "      <td>5.398480e+06</td>\n",
              "      <td>4.984807e+06</td>\n",
              "      <td>72635.92</td>\n",
              "      <td>5.814272e+08</td>\n",
              "      <td>NaN</td>\n",
              "      <td>NaN</td>\n",
              "      <td>NaN</td>\n",
              "      <td>1_2_00000000000000000000</td>\n",
              "      <td>aoi</td>\n",
              "      <td>Saloum</td>\n",
              "      <td>{\"Monitoring Advised\": 591.08, \"Requires Monit...</td>\n",
              "    </tr>\n",
              "    <tr>\n",
              "      <th>13</th>\n",
              "      <td>2010-01-01</td>\n",
              "      <td>1.417087e+07</td>\n",
              "      <td>1.901147e+07</td>\n",
              "      <td>71238.50</td>\n",
              "      <td>5.803717e+08</td>\n",
              "      <td>NaN</td>\n",
              "      <td>NaN</td>\n",
              "      <td>NaN</td>\n",
              "      <td>1_2_00000000000000000000</td>\n",
              "      <td>aoi</td>\n",
              "      <td>Saloum</td>\n",
              "      <td>{\"Monitoring Advised\": 591.08, \"Requires Monit...</td>\n",
              "    </tr>\n",
              "    <tr>\n",
              "      <th>14</th>\n",
              "      <td>2015-01-01</td>\n",
              "      <td>1.183897e+07</td>\n",
              "      <td>1.738533e+07</td>\n",
              "      <td>70392.02</td>\n",
              "      <td>5.723271e+08</td>\n",
              "      <td>NaN</td>\n",
              "      <td>NaN</td>\n",
              "      <td>NaN</td>\n",
              "      <td>1_2_00000000000000000000</td>\n",
              "      <td>aoi</td>\n",
              "      <td>Saloum</td>\n",
              "      <td>{\"Monitoring Advised\": 591.08, \"Requires Monit...</td>\n",
              "    </tr>\n",
              "    <tr>\n",
              "      <th>15</th>\n",
              "      <td>2016-01-01</td>\n",
              "      <td>1.227082e+07</td>\n",
              "      <td>2.566894e+07</td>\n",
              "      <td>69175.04</td>\n",
              "      <td>5.589288e+08</td>\n",
              "      <td>NaN</td>\n",
              "      <td>NaN</td>\n",
              "      <td>NaN</td>\n",
              "      <td>1_2_00000000000000000000</td>\n",
              "      <td>aoi</td>\n",
              "      <td>Saloum</td>\n",
              "      <td>{\"Monitoring Advised\": 591.08, \"Requires Monit...</td>\n",
              "    </tr>\n",
              "    <tr>\n",
              "      <th>16</th>\n",
              "      <td>1996-01-01</td>\n",
              "      <td>0.000000e+00</td>\n",
              "      <td>0.000000e+00</td>\n",
              "      <td>9119.80</td>\n",
              "      <td>4.805012e+07</td>\n",
              "      <td>NaN</td>\n",
              "      <td>NaN</td>\n",
              "      <td>NaN</td>\n",
              "      <td>2_0</td>\n",
              "      <td>country</td>\n",
              "      <td>Cote d'Ivoire</td>\n",
              "      <td>{\"Benefits From Conservation\": 10.4474, \"Monit...</td>\n",
              "    </tr>\n",
              "    <tr>\n",
              "      <th>17</th>\n",
              "      <td>2000-01-01</td>\n",
              "      <td>NaN</td>\n",
              "      <td>NaN</td>\n",
              "      <td>NaN</td>\n",
              "      <td>NaN</td>\n",
              "      <td>15.63</td>\n",
              "      <td>130.65</td>\n",
              "      <td>9.90</td>\n",
              "      <td>2_0</td>\n",
              "      <td>country</td>\n",
              "      <td>Cote d'Ivoire</td>\n",
              "      <td>{\"Benefits From Conservation\": 10.4474, \"Monit...</td>\n",
              "    </tr>\n",
              "    <tr>\n",
              "      <th>18</th>\n",
              "      <td>2007-01-01</td>\n",
              "      <td>1.252918e+06</td>\n",
              "      <td>2.912060e+06</td>\n",
              "      <td>9604.94</td>\n",
              "      <td>4.639140e+07</td>\n",
              "      <td>NaN</td>\n",
              "      <td>NaN</td>\n",
              "      <td>NaN</td>\n",
              "      <td>2_0</td>\n",
              "      <td>country</td>\n",
              "      <td>Cote d'Ivoire</td>\n",
              "      <td>{\"Benefits From Conservation\": 10.4474, \"Monit...</td>\n",
              "    </tr>\n",
              "    <tr>\n",
              "      <th>19</th>\n",
              "      <td>2008-01-01</td>\n",
              "      <td>7.040267e+05</td>\n",
              "      <td>8.881101e+05</td>\n",
              "      <td>9216.03</td>\n",
              "      <td>4.620752e+07</td>\n",
              "      <td>NaN</td>\n",
              "      <td>NaN</td>\n",
              "      <td>NaN</td>\n",
              "      <td>2_0</td>\n",
              "      <td>country</td>\n",
              "      <td>Cote d'Ivoire</td>\n",
              "      <td>{\"Benefits From Conservation\": 10.4474, \"Monit...</td>\n",
              "    </tr>\n",
              "    <tr>\n",
              "      <th>20</th>\n",
              "      <td>2009-01-01</td>\n",
              "      <td>2.621222e+05</td>\n",
              "      <td>2.836570e+05</td>\n",
              "      <td>8959.43</td>\n",
              "      <td>4.618551e+07</td>\n",
              "      <td>NaN</td>\n",
              "      <td>NaN</td>\n",
              "      <td>NaN</td>\n",
              "      <td>2_0</td>\n",
              "      <td>country</td>\n",
              "      <td>Cote d'Ivoire</td>\n",
              "      <td>{\"Benefits From Conservation\": 10.4474, \"Monit...</td>\n",
              "    </tr>\n",
              "    <tr>\n",
              "      <th>21</th>\n",
              "      <td>2010-01-01</td>\n",
              "      <td>9.048926e+05</td>\n",
              "      <td>1.159060e+06</td>\n",
              "      <td>8773.60</td>\n",
              "      <td>4.593035e+07</td>\n",
              "      <td>NaN</td>\n",
              "      <td>NaN</td>\n",
              "      <td>NaN</td>\n",
              "      <td>2_0</td>\n",
              "      <td>country</td>\n",
              "      <td>Cote d'Ivoire</td>\n",
              "      <td>{\"Benefits From Conservation\": 10.4474, \"Monit...</td>\n",
              "    </tr>\n",
              "    <tr>\n",
              "      <th>22</th>\n",
              "      <td>2015-01-01</td>\n",
              "      <td>1.128878e+06</td>\n",
              "      <td>1.984949e+06</td>\n",
              "      <td>8124.60</td>\n",
              "      <td>4.507341e+07</td>\n",
              "      <td>NaN</td>\n",
              "      <td>NaN</td>\n",
              "      <td>NaN</td>\n",
              "      <td>2_0</td>\n",
              "      <td>country</td>\n",
              "      <td>Cote d'Ivoire</td>\n",
              "      <td>{\"Benefits From Conservation\": 10.4474, \"Monit...</td>\n",
              "    </tr>\n",
              "    <tr>\n",
              "      <th>23</th>\n",
              "      <td>2016-01-01</td>\n",
              "      <td>1.733321e+06</td>\n",
              "      <td>4.738999e+06</td>\n",
              "      <td>7886.22</td>\n",
              "      <td>4.206869e+07</td>\n",
              "      <td>NaN</td>\n",
              "      <td>NaN</td>\n",
              "      <td>NaN</td>\n",
              "      <td>2_0</td>\n",
              "      <td>country</td>\n",
              "      <td>Cote d'Ivoire</td>\n",
              "      <td>{\"Benefits From Conservation\": 10.4474, \"Monit...</td>\n",
              "    </tr>\n",
              "    <tr>\n",
              "      <th>24</th>\n",
              "      <td>1996-01-01</td>\n",
              "      <td>0.000000e+00</td>\n",
              "      <td>0.000000e+00</td>\n",
              "      <td>258770.66</td>\n",
              "      <td>1.983931e+09</td>\n",
              "      <td>NaN</td>\n",
              "      <td>NaN</td>\n",
              "      <td>NaN</td>\n",
              "      <td>2_1</td>\n",
              "      <td>country</td>\n",
              "      <td>Cameroon</td>\n",
              "      <td>{\"Benefits From Conservation\": 0.4821, \"Monito...</td>\n",
              "    </tr>\n",
              "    <tr>\n",
              "      <th>25</th>\n",
              "      <td>2000-01-01</td>\n",
              "      <td>NaN</td>\n",
              "      <td>NaN</td>\n",
              "      <td>NaN</td>\n",
              "      <td>NaN</td>\n",
              "      <td>22.29</td>\n",
              "      <td>209.06</td>\n",
              "      <td>14.13</td>\n",
              "      <td>2_1</td>\n",
              "      <td>country</td>\n",
              "      <td>Cameroon</td>\n",
              "      <td>{\"Benefits From Conservation\": 0.4821, \"Monito...</td>\n",
              "    </tr>\n",
              "    <tr>\n",
              "      <th>26</th>\n",
              "      <td>2007-01-01</td>\n",
              "      <td>1.127784e+07</td>\n",
              "      <td>1.260587e+07</td>\n",
              "      <td>259934.90</td>\n",
              "      <td>1.982599e+09</td>\n",
              "      <td>NaN</td>\n",
              "      <td>NaN</td>\n",
              "      <td>NaN</td>\n",
              "      <td>2_1</td>\n",
              "      <td>country</td>\n",
              "      <td>Cameroon</td>\n",
              "      <td>{\"Benefits From Conservation\": 0.4821, \"Monito...</td>\n",
              "    </tr>\n",
              "    <tr>\n",
              "      <th>27</th>\n",
              "      <td>2008-01-01</td>\n",
              "      <td>1.748858e+07</td>\n",
              "      <td>1.503295e+08</td>\n",
              "      <td>259422.72</td>\n",
              "      <td>1.981458e+09</td>\n",
              "      <td>NaN</td>\n",
              "      <td>NaN</td>\n",
              "      <td>NaN</td>\n",
              "      <td>2_1</td>\n",
              "      <td>country</td>\n",
              "      <td>Cameroon</td>\n",
              "      <td>{\"Benefits From Conservation\": 0.4821, \"Monito...</td>\n",
              "    </tr>\n",
              "    <tr>\n",
              "      <th>28</th>\n",
              "      <td>2009-01-01</td>\n",
              "      <td>1.403902e+08</td>\n",
              "      <td>7.880991e+06</td>\n",
              "      <td>258960.57</td>\n",
              "      <td>1.981958e+09</td>\n",
              "      <td>NaN</td>\n",
              "      <td>NaN</td>\n",
              "      <td>NaN</td>\n",
              "      <td>2_1</td>\n",
              "      <td>country</td>\n",
              "      <td>Cameroon</td>\n",
              "      <td>{\"Benefits From Conservation\": 0.4821, \"Monito...</td>\n",
              "    </tr>\n",
              "    <tr>\n",
              "      <th>29</th>\n",
              "      <td>2010-01-01</td>\n",
              "      <td>2.411382e+07</td>\n",
              "      <td>1.803976e+07</td>\n",
              "      <td>260852.62</td>\n",
              "      <td>1.988036e+09</td>\n",
              "      <td>NaN</td>\n",
              "      <td>NaN</td>\n",
              "      <td>NaN</td>\n",
              "      <td>2_1</td>\n",
              "      <td>country</td>\n",
              "      <td>Cameroon</td>\n",
              "      <td>{\"Benefits From Conservation\": 0.4821, \"Monito...</td>\n",
              "    </tr>\n",
              "    <tr>\n",
              "      <th>...</th>\n",
              "      <td>...</td>\n",
              "      <td>...</td>\n",
              "      <td>...</td>\n",
              "      <td>...</td>\n",
              "      <td>...</td>\n",
              "      <td>...</td>\n",
              "      <td>...</td>\n",
              "      <td>...</td>\n",
              "      <td>...</td>\n",
              "      <td>...</td>\n",
              "      <td>...</td>\n",
              "      <td>...</td>\n",
              "    </tr>\n",
              "    <tr>\n",
              "      <th>802</th>\n",
              "      <td>2007-01-01</td>\n",
              "      <td>1.685407e+08</td>\n",
              "      <td>2.275829e+08</td>\n",
              "      <td>1363483.29</td>\n",
              "      <td>8.969397e+09</td>\n",
              "      <td>NaN</td>\n",
              "      <td>NaN</td>\n",
              "      <td>NaN</td>\n",
              "      <td>2_98</td>\n",
              "      <td>country</td>\n",
              "      <td>Australia</td>\n",
              "      <td>\"NA\"</td>\n",
              "    </tr>\n",
              "    <tr>\n",
              "      <th>803</th>\n",
              "      <td>2008-01-01</td>\n",
              "      <td>1.532545e+08</td>\n",
              "      <td>1.298821e+08</td>\n",
              "      <td>1368933.35</td>\n",
              "      <td>8.992757e+09</td>\n",
              "      <td>NaN</td>\n",
              "      <td>NaN</td>\n",
              "      <td>NaN</td>\n",
              "      <td>2_98</td>\n",
              "      <td>country</td>\n",
              "      <td>Australia</td>\n",
              "      <td>\"NA\"</td>\n",
              "    </tr>\n",
              "    <tr>\n",
              "      <th>804</th>\n",
              "      <td>2009-01-01</td>\n",
              "      <td>6.332339e+07</td>\n",
              "      <td>5.619317e+07</td>\n",
              "      <td>1371620.65</td>\n",
              "      <td>8.999886e+09</td>\n",
              "      <td>NaN</td>\n",
              "      <td>NaN</td>\n",
              "      <td>NaN</td>\n",
              "      <td>2_98</td>\n",
              "      <td>country</td>\n",
              "      <td>Australia</td>\n",
              "      <td>\"NA\"</td>\n",
              "    </tr>\n",
              "    <tr>\n",
              "      <th>805</th>\n",
              "      <td>2010-01-01</td>\n",
              "      <td>1.455735e+08</td>\n",
              "      <td>1.088300e+08</td>\n",
              "      <td>1383182.02</td>\n",
              "      <td>9.036624e+09</td>\n",
              "      <td>NaN</td>\n",
              "      <td>NaN</td>\n",
              "      <td>NaN</td>\n",
              "      <td>2_98</td>\n",
              "      <td>country</td>\n",
              "      <td>Australia</td>\n",
              "      <td>\"NA\"</td>\n",
              "    </tr>\n",
              "    <tr>\n",
              "      <th>806</th>\n",
              "      <td>2015-01-01</td>\n",
              "      <td>1.634130e+08</td>\n",
              "      <td>4.108430e+08</td>\n",
              "      <td>1341855.79</td>\n",
              "      <td>8.789217e+09</td>\n",
              "      <td>NaN</td>\n",
              "      <td>NaN</td>\n",
              "      <td>NaN</td>\n",
              "      <td>2_98</td>\n",
              "      <td>country</td>\n",
              "      <td>Australia</td>\n",
              "      <td>\"NA\"</td>\n",
              "    </tr>\n",
              "    <tr>\n",
              "      <th>807</th>\n",
              "      <td>2016-01-01</td>\n",
              "      <td>3.258563e+08</td>\n",
              "      <td>3.113638e+08</td>\n",
              "      <td>1345006.89</td>\n",
              "      <td>8.803698e+09</td>\n",
              "      <td>NaN</td>\n",
              "      <td>NaN</td>\n",
              "      <td>NaN</td>\n",
              "      <td>2_98</td>\n",
              "      <td>country</td>\n",
              "      <td>Australia</td>\n",
              "      <td>\"NA\"</td>\n",
              "    </tr>\n",
              "    <tr>\n",
              "      <th>808</th>\n",
              "      <td>1996-01-01</td>\n",
              "      <td>0.000000e+00</td>\n",
              "      <td>0.000000e+00</td>\n",
              "      <td>38386.26</td>\n",
              "      <td>2.817462e+08</td>\n",
              "      <td>NaN</td>\n",
              "      <td>NaN</td>\n",
              "      <td>NaN</td>\n",
              "      <td>2_99</td>\n",
              "      <td>country</td>\n",
              "      <td>Congo, DRC</td>\n",
              "      <td>{\"Requires Monitoring\": 0.4851, \"Stable Ecosys...</td>\n",
              "    </tr>\n",
              "    <tr>\n",
              "      <th>809</th>\n",
              "      <td>2000-01-01</td>\n",
              "      <td>NaN</td>\n",
              "      <td>NaN</td>\n",
              "      <td>NaN</td>\n",
              "      <td>NaN</td>\n",
              "      <td>10.43</td>\n",
              "      <td>70.13</td>\n",
              "      <td>6.61</td>\n",
              "      <td>2_99</td>\n",
              "      <td>country</td>\n",
              "      <td>Congo, DRC</td>\n",
              "      <td>{\"Requires Monitoring\": 0.4851, \"Stable Ecosys...</td>\n",
              "    </tr>\n",
              "    <tr>\n",
              "      <th>810</th>\n",
              "      <td>2007-01-01</td>\n",
              "      <td>2.482761e+06</td>\n",
              "      <td>8.896201e+06</td>\n",
              "      <td>36567.45</td>\n",
              "      <td>2.753303e+08</td>\n",
              "      <td>NaN</td>\n",
              "      <td>NaN</td>\n",
              "      <td>NaN</td>\n",
              "      <td>2_99</td>\n",
              "      <td>country</td>\n",
              "      <td>Congo, DRC</td>\n",
              "      <td>{\"Requires Monitoring\": 0.4851, \"Stable Ecosys...</td>\n",
              "    </tr>\n",
              "    <tr>\n",
              "      <th>811</th>\n",
              "      <td>2008-01-01</td>\n",
              "      <td>1.886867e+06</td>\n",
              "      <td>2.666735e+06</td>\n",
              "      <td>36542.81</td>\n",
              "      <td>2.745491e+08</td>\n",
              "      <td>NaN</td>\n",
              "      <td>NaN</td>\n",
              "      <td>NaN</td>\n",
              "      <td>2_99</td>\n",
              "      <td>country</td>\n",
              "      <td>Congo, DRC</td>\n",
              "      <td>{\"Requires Monitoring\": 0.4851, \"Stable Ecosys...</td>\n",
              "    </tr>\n",
              "    <tr>\n",
              "      <th>812</th>\n",
              "      <td>2009-01-01</td>\n",
              "      <td>1.032662e+06</td>\n",
              "      <td>1.499660e+06</td>\n",
              "      <td>36361.86</td>\n",
              "      <td>2.740845e+08</td>\n",
              "      <td>NaN</td>\n",
              "      <td>NaN</td>\n",
              "      <td>NaN</td>\n",
              "      <td>2_99</td>\n",
              "      <td>country</td>\n",
              "      <td>Congo, DRC</td>\n",
              "      <td>{\"Requires Monitoring\": 0.4851, \"Stable Ecosys...</td>\n",
              "    </tr>\n",
              "    <tr>\n",
              "      <th>813</th>\n",
              "      <td>2010-01-01</td>\n",
              "      <td>2.964797e+06</td>\n",
              "      <td>1.717533e+06</td>\n",
              "      <td>36452.81</td>\n",
              "      <td>2.753318e+08</td>\n",
              "      <td>NaN</td>\n",
              "      <td>NaN</td>\n",
              "      <td>NaN</td>\n",
              "      <td>2_99</td>\n",
              "      <td>country</td>\n",
              "      <td>Congo, DRC</td>\n",
              "      <td>{\"Requires Monitoring\": 0.4851, \"Stable Ecosys...</td>\n",
              "    </tr>\n",
              "    <tr>\n",
              "      <th>814</th>\n",
              "      <td>2015-01-01</td>\n",
              "      <td>2.968643e+06</td>\n",
              "      <td>3.569994e+06</td>\n",
              "      <td>35862.08</td>\n",
              "      <td>2.747299e+08</td>\n",
              "      <td>NaN</td>\n",
              "      <td>NaN</td>\n",
              "      <td>NaN</td>\n",
              "      <td>2_99</td>\n",
              "      <td>country</td>\n",
              "      <td>Congo, DRC</td>\n",
              "      <td>{\"Requires Monitoring\": 0.4851, \"Stable Ecosys...</td>\n",
              "    </tr>\n",
              "    <tr>\n",
              "      <th>815</th>\n",
              "      <td>2016-01-01</td>\n",
              "      <td>2.444570e+06</td>\n",
              "      <td>3.565716e+06</td>\n",
              "      <td>40338.91</td>\n",
              "      <td>2.736085e+08</td>\n",
              "      <td>NaN</td>\n",
              "      <td>NaN</td>\n",
              "      <td>NaN</td>\n",
              "      <td>2_99</td>\n",
              "      <td>country</td>\n",
              "      <td>Congo, DRC</td>\n",
              "      <td>{\"Requires Monitoring\": 0.4851, \"Stable Ecosys...</td>\n",
              "    </tr>\n",
              "    <tr>\n",
              "      <th>816</th>\n",
              "      <td>1996-01-01</td>\n",
              "      <td>0.000000e+00</td>\n",
              "      <td>0.000000e+00</td>\n",
              "      <td>386857.43</td>\n",
              "      <td>2.464574e+09</td>\n",
              "      <td>NaN</td>\n",
              "      <td>NaN</td>\n",
              "      <td>NaN</td>\n",
              "      <td>2_100</td>\n",
              "      <td>country</td>\n",
              "      <td>Colombia</td>\n",
              "      <td>\"NA\"</td>\n",
              "    </tr>\n",
              "    <tr>\n",
              "      <th>817</th>\n",
              "      <td>2000-01-01</td>\n",
              "      <td>NaN</td>\n",
              "      <td>NaN</td>\n",
              "      <td>NaN</td>\n",
              "      <td>NaN</td>\n",
              "      <td>23.72</td>\n",
              "      <td>129.47</td>\n",
              "      <td>15.03</td>\n",
              "      <td>2_100</td>\n",
              "      <td>country</td>\n",
              "      <td>Colombia</td>\n",
              "      <td>\"NA\"</td>\n",
              "    </tr>\n",
              "    <tr>\n",
              "      <th>818</th>\n",
              "      <td>2007-01-01</td>\n",
              "      <td>6.924416e+07</td>\n",
              "      <td>1.876076e+08</td>\n",
              "      <td>370711.33</td>\n",
              "      <td>2.346214e+09</td>\n",
              "      <td>NaN</td>\n",
              "      <td>NaN</td>\n",
              "      <td>NaN</td>\n",
              "      <td>2_100</td>\n",
              "      <td>country</td>\n",
              "      <td>Colombia</td>\n",
              "      <td>\"NA\"</td>\n",
              "    </tr>\n",
              "    <tr>\n",
              "      <th>819</th>\n",
              "      <td>2008-01-01</td>\n",
              "      <td>6.174080e+07</td>\n",
              "      <td>5.031975e+07</td>\n",
              "      <td>369858.72</td>\n",
              "      <td>2.363631e+09</td>\n",
              "      <td>NaN</td>\n",
              "      <td>NaN</td>\n",
              "      <td>NaN</td>\n",
              "      <td>2_100</td>\n",
              "      <td>country</td>\n",
              "      <td>Colombia</td>\n",
              "      <td>\"NA\"</td>\n",
              "    </tr>\n",
              "    <tr>\n",
              "      <th>820</th>\n",
              "      <td>2009-01-01</td>\n",
              "      <td>1.833262e+07</td>\n",
              "      <td>2.310821e+07</td>\n",
              "      <td>369579.33</td>\n",
              "      <td>2.358862e+09</td>\n",
              "      <td>NaN</td>\n",
              "      <td>NaN</td>\n",
              "      <td>NaN</td>\n",
              "      <td>2_100</td>\n",
              "      <td>country</td>\n",
              "      <td>Colombia</td>\n",
              "      <td>\"NA\"</td>\n",
              "    </tr>\n",
              "    <tr>\n",
              "      <th>821</th>\n",
              "      <td>2010-01-01</td>\n",
              "      <td>4.580181e+07</td>\n",
              "      <td>1.187997e+08</td>\n",
              "      <td>369218.94</td>\n",
              "      <td>2.285096e+09</td>\n",
              "      <td>NaN</td>\n",
              "      <td>NaN</td>\n",
              "      <td>NaN</td>\n",
              "      <td>2_100</td>\n",
              "      <td>country</td>\n",
              "      <td>Colombia</td>\n",
              "      <td>\"NA\"</td>\n",
              "    </tr>\n",
              "    <tr>\n",
              "      <th>822</th>\n",
              "      <td>2015-01-01</td>\n",
              "      <td>4.354839e+07</td>\n",
              "      <td>6.890282e+07</td>\n",
              "      <td>364862.74</td>\n",
              "      <td>2.268121e+09</td>\n",
              "      <td>NaN</td>\n",
              "      <td>NaN</td>\n",
              "      <td>NaN</td>\n",
              "      <td>2_100</td>\n",
              "      <td>country</td>\n",
              "      <td>Colombia</td>\n",
              "      <td>\"NA\"</td>\n",
              "    </tr>\n",
              "    <tr>\n",
              "      <th>823</th>\n",
              "      <td>2016-01-01</td>\n",
              "      <td>7.002496e+07</td>\n",
              "      <td>6.004932e+07</td>\n",
              "      <td>365033.28</td>\n",
              "      <td>2.263164e+09</td>\n",
              "      <td>NaN</td>\n",
              "      <td>NaN</td>\n",
              "      <td>NaN</td>\n",
              "      <td>2_100</td>\n",
              "      <td>country</td>\n",
              "      <td>Colombia</td>\n",
              "      <td>\"NA\"</td>\n",
              "    </tr>\n",
              "    <tr>\n",
              "      <th>824</th>\n",
              "      <td>1996-01-01</td>\n",
              "      <td>0.000000e+00</td>\n",
              "      <td>0.000000e+00</td>\n",
              "      <td>33033.15</td>\n",
              "      <td>1.911600e+08</td>\n",
              "      <td>NaN</td>\n",
              "      <td>NaN</td>\n",
              "      <td>NaN</td>\n",
              "      <td>2_101</td>\n",
              "      <td>country</td>\n",
              "      <td>Dominican Republic</td>\n",
              "      <td>\"NA\"</td>\n",
              "    </tr>\n",
              "    <tr>\n",
              "      <th>825</th>\n",
              "      <td>2000-01-01</td>\n",
              "      <td>NaN</td>\n",
              "      <td>NaN</td>\n",
              "      <td>NaN</td>\n",
              "      <td>NaN</td>\n",
              "      <td>12.61</td>\n",
              "      <td>45.12</td>\n",
              "      <td>7.99</td>\n",
              "      <td>2_101</td>\n",
              "      <td>country</td>\n",
              "      <td>Dominican Republic</td>\n",
              "      <td>\"NA\"</td>\n",
              "    </tr>\n",
              "    <tr>\n",
              "      <th>826</th>\n",
              "      <td>2007-01-01</td>\n",
              "      <td>2.111618e+06</td>\n",
              "      <td>6.350279e+06</td>\n",
              "      <td>33234.74</td>\n",
              "      <td>1.869203e+08</td>\n",
              "      <td>NaN</td>\n",
              "      <td>NaN</td>\n",
              "      <td>NaN</td>\n",
              "      <td>2_101</td>\n",
              "      <td>country</td>\n",
              "      <td>Dominican Republic</td>\n",
              "      <td>\"NA\"</td>\n",
              "    </tr>\n",
              "    <tr>\n",
              "      <th>827</th>\n",
              "      <td>2008-01-01</td>\n",
              "      <td>1.908969e+06</td>\n",
              "      <td>1.505901e+06</td>\n",
              "      <td>33461.81</td>\n",
              "      <td>1.873262e+08</td>\n",
              "      <td>NaN</td>\n",
              "      <td>NaN</td>\n",
              "      <td>NaN</td>\n",
              "      <td>2_101</td>\n",
              "      <td>country</td>\n",
              "      <td>Dominican Republic</td>\n",
              "      <td>\"NA\"</td>\n",
              "    </tr>\n",
              "    <tr>\n",
              "      <th>828</th>\n",
              "      <td>2009-01-01</td>\n",
              "      <td>2.787273e+05</td>\n",
              "      <td>9.401104e+05</td>\n",
              "      <td>32724.94</td>\n",
              "      <td>1.866620e+08</td>\n",
              "      <td>NaN</td>\n",
              "      <td>NaN</td>\n",
              "      <td>NaN</td>\n",
              "      <td>2_101</td>\n",
              "      <td>country</td>\n",
              "      <td>Dominican Republic</td>\n",
              "      <td>\"NA\"</td>\n",
              "    </tr>\n",
              "    <tr>\n",
              "      <th>829</th>\n",
              "      <td>2010-01-01</td>\n",
              "      <td>1.229781e+06</td>\n",
              "      <td>5.882265e+06</td>\n",
              "      <td>32002.05</td>\n",
              "      <td>1.820103e+08</td>\n",
              "      <td>NaN</td>\n",
              "      <td>NaN</td>\n",
              "      <td>NaN</td>\n",
              "      <td>2_101</td>\n",
              "      <td>country</td>\n",
              "      <td>Dominican Republic</td>\n",
              "      <td>\"NA\"</td>\n",
              "    </tr>\n",
              "    <tr>\n",
              "      <th>830</th>\n",
              "      <td>2015-01-01</td>\n",
              "      <td>3.512627e+06</td>\n",
              "      <td>1.679309e+06</td>\n",
              "      <td>32491.09</td>\n",
              "      <td>1.838424e+08</td>\n",
              "      <td>NaN</td>\n",
              "      <td>NaN</td>\n",
              "      <td>NaN</td>\n",
              "      <td>2_101</td>\n",
              "      <td>country</td>\n",
              "      <td>Dominican Republic</td>\n",
              "      <td>\"NA\"</td>\n",
              "    </tr>\n",
              "    <tr>\n",
              "      <th>831</th>\n",
              "      <td>2016-01-01</td>\n",
              "      <td>2.506118e+06</td>\n",
              "      <td>4.023698e+06</td>\n",
              "      <td>31788.66</td>\n",
              "      <td>1.823251e+08</td>\n",
              "      <td>NaN</td>\n",
              "      <td>NaN</td>\n",
              "      <td>NaN</td>\n",
              "      <td>2_101</td>\n",
              "      <td>country</td>\n",
              "      <td>Dominican Republic</td>\n",
              "      <td>\"NA\"</td>\n",
              "    </tr>\n",
              "  </tbody>\n",
              "</table>\n",
              "<p>832 rows × 12 columns</p>\n",
              "</div>"
            ],
            "text/plain": [
              "           date  ...                            con_hotspot_summary_km2\n",
              "0    1996-01-01  ...  {\"Monitoring Advised\": 31.2962, \"Requires Moni...\n",
              "1    2000-01-01  ...  {\"Monitoring Advised\": 31.2962, \"Requires Moni...\n",
              "2    2007-01-01  ...  {\"Monitoring Advised\": 31.2962, \"Requires Moni...\n",
              "3    2008-01-01  ...  {\"Monitoring Advised\": 31.2962, \"Requires Moni...\n",
              "4    2009-01-01  ...  {\"Monitoring Advised\": 31.2962, \"Requires Moni...\n",
              "5    2010-01-01  ...  {\"Monitoring Advised\": 31.2962, \"Requires Moni...\n",
              "6    2015-01-01  ...  {\"Monitoring Advised\": 31.2962, \"Requires Moni...\n",
              "7    2016-01-01  ...  {\"Monitoring Advised\": 31.2962, \"Requires Moni...\n",
              "8    1996-01-01  ...  {\"Monitoring Advised\": 591.08, \"Requires Monit...\n",
              "9    2000-01-01  ...  {\"Monitoring Advised\": 591.08, \"Requires Monit...\n",
              "10   2007-01-01  ...  {\"Monitoring Advised\": 591.08, \"Requires Monit...\n",
              "11   2008-01-01  ...  {\"Monitoring Advised\": 591.08, \"Requires Monit...\n",
              "12   2009-01-01  ...  {\"Monitoring Advised\": 591.08, \"Requires Monit...\n",
              "13   2010-01-01  ...  {\"Monitoring Advised\": 591.08, \"Requires Monit...\n",
              "14   2015-01-01  ...  {\"Monitoring Advised\": 591.08, \"Requires Monit...\n",
              "15   2016-01-01  ...  {\"Monitoring Advised\": 591.08, \"Requires Monit...\n",
              "16   1996-01-01  ...  {\"Benefits From Conservation\": 10.4474, \"Monit...\n",
              "17   2000-01-01  ...  {\"Benefits From Conservation\": 10.4474, \"Monit...\n",
              "18   2007-01-01  ...  {\"Benefits From Conservation\": 10.4474, \"Monit...\n",
              "19   2008-01-01  ...  {\"Benefits From Conservation\": 10.4474, \"Monit...\n",
              "20   2009-01-01  ...  {\"Benefits From Conservation\": 10.4474, \"Monit...\n",
              "21   2010-01-01  ...  {\"Benefits From Conservation\": 10.4474, \"Monit...\n",
              "22   2015-01-01  ...  {\"Benefits From Conservation\": 10.4474, \"Monit...\n",
              "23   2016-01-01  ...  {\"Benefits From Conservation\": 10.4474, \"Monit...\n",
              "24   1996-01-01  ...  {\"Benefits From Conservation\": 0.4821, \"Monito...\n",
              "25   2000-01-01  ...  {\"Benefits From Conservation\": 0.4821, \"Monito...\n",
              "26   2007-01-01  ...  {\"Benefits From Conservation\": 0.4821, \"Monito...\n",
              "27   2008-01-01  ...  {\"Benefits From Conservation\": 0.4821, \"Monito...\n",
              "28   2009-01-01  ...  {\"Benefits From Conservation\": 0.4821, \"Monito...\n",
              "29   2010-01-01  ...  {\"Benefits From Conservation\": 0.4821, \"Monito...\n",
              "..          ...  ...                                                ...\n",
              "802  2007-01-01  ...                                               \"NA\"\n",
              "803  2008-01-01  ...                                               \"NA\"\n",
              "804  2009-01-01  ...                                               \"NA\"\n",
              "805  2010-01-01  ...                                               \"NA\"\n",
              "806  2015-01-01  ...                                               \"NA\"\n",
              "807  2016-01-01  ...                                               \"NA\"\n",
              "808  1996-01-01  ...  {\"Requires Monitoring\": 0.4851, \"Stable Ecosys...\n",
              "809  2000-01-01  ...  {\"Requires Monitoring\": 0.4851, \"Stable Ecosys...\n",
              "810  2007-01-01  ...  {\"Requires Monitoring\": 0.4851, \"Stable Ecosys...\n",
              "811  2008-01-01  ...  {\"Requires Monitoring\": 0.4851, \"Stable Ecosys...\n",
              "812  2009-01-01  ...  {\"Requires Monitoring\": 0.4851, \"Stable Ecosys...\n",
              "813  2010-01-01  ...  {\"Requires Monitoring\": 0.4851, \"Stable Ecosys...\n",
              "814  2015-01-01  ...  {\"Requires Monitoring\": 0.4851, \"Stable Ecosys...\n",
              "815  2016-01-01  ...  {\"Requires Monitoring\": 0.4851, \"Stable Ecosys...\n",
              "816  1996-01-01  ...                                               \"NA\"\n",
              "817  2000-01-01  ...                                               \"NA\"\n",
              "818  2007-01-01  ...                                               \"NA\"\n",
              "819  2008-01-01  ...                                               \"NA\"\n",
              "820  2009-01-01  ...                                               \"NA\"\n",
              "821  2010-01-01  ...                                               \"NA\"\n",
              "822  2015-01-01  ...                                               \"NA\"\n",
              "823  2016-01-01  ...                                               \"NA\"\n",
              "824  1996-01-01  ...                                               \"NA\"\n",
              "825  2000-01-01  ...                                               \"NA\"\n",
              "826  2007-01-01  ...                                               \"NA\"\n",
              "827  2008-01-01  ...                                               \"NA\"\n",
              "828  2009-01-01  ...                                               \"NA\"\n",
              "829  2010-01-01  ...                                               \"NA\"\n",
              "830  2015-01-01  ...                                               \"NA\"\n",
              "831  2016-01-01  ...                                               \"NA\"\n",
              "\n",
              "[832 rows x 12 columns]"
            ]
          },
          "metadata": {
            "tags": []
          },
          "execution_count": 45
        }
      ]
    },
    {
      "cell_type": "markdown",
      "metadata": {
        "id": "6O-hiwHuItUu",
        "colab_type": "text"
      },
      "source": [
        "# Process environmental pressures\n",
        "\n",
        "+ conservation hotspots\n"
      ]
    },
    {
      "cell_type": "code",
      "metadata": {
        "id": "KzDq3Ps4I81B",
        "colab_type": "code",
        "outputId": "58073bc6-3c10-4686-b431-4860f7fa3771",
        "colab": {
          "base_uri": "https://localhost:8080/",
          "height": 54
        }
      },
      "source": [
        "# Get data files\n",
        "import os\n",
        "import subprocess\n",
        "b_file_path = 'environmental-pressures/OneDrive_2019-05-23.zip'\n",
        "p = 'gs://' + os.environ.get('MA_BUCKET') + '/' + b_file_path\n",
        "lp = os.environ.get('MA_BUCKET') + '/' + b_file_path\n",
        "subprocess.run(['gsutil', 'cp', p, lp])"
      ],
      "execution_count": 0,
      "outputs": [
        {
          "output_type": "execute_result",
          "data": {
            "text/plain": [
              "CompletedProcess(args=['gsutil', 'cp', 'gs://mangrove_atlas/environmental-pressures/OneDrive_2019-05-23.zip', 'mangrove_atlas/environmental-pressures/OneDrive_2019-05-23.zip'], returncode=0)"
            ]
          },
          "metadata": {
            "tags": []
          },
          "execution_count": 9
        }
      ]
    },
    {
      "cell_type": "code",
      "metadata": {
        "id": "KLhV4txDJqYd",
        "colab_type": "code",
        "outputId": "a9a7bb9d-62bc-4cb2-e2fe-c262c235e86a",
        "colab": {
          "base_uri": "https://localhost:8080/",
          "height": 34
        }
      },
      "source": [
        "ls mangrove_atlas/environmental-pressures/shapefiles"
      ],
      "execution_count": 0,
      "outputs": [
        {
          "output_type": "stream",
          "text": [
            "\u001b[0m\u001b[01;34m'Hotspots for conservation'\u001b[0m/\n"
          ],
          "name": "stdout"
        }
      ]
    },
    {
      "cell_type": "code",
      "metadata": {
        "id": "KTA8iAYvKWbP",
        "colab_type": "code",
        "outputId": "000ec458-ff3e-4a2d-dfa5-f5c99725f9f7",
        "colab": {
          "base_uri": "https://localhost:8080/",
          "height": 486
        }
      },
      "source": [
        "%%bash\n",
        "# Process zipped shapefiles\n",
        "# Clean and simplfy (parameters set above in section setup)\n",
        "# Convert to geojson\n",
        "# change mapshaper settings below, see https://github.com/mbloch/mapshaper/wiki/Command-Reference\n",
        "\n",
        "# Set working directories\n",
        "df=$MA_BUCKET/environmental-pressures\n",
        "sf=$MA_BUCKET/environmental-pressures/shapefiles\n",
        "pf=$MA_BUCKET/environmental-pressures/processed\n",
        "\n",
        "# Create directories (if needed)\n",
        "mkdir $sf\n",
        "mkdir $pf\n",
        "mkdir ${pf}/geojson\n",
        "\n",
        "# Extract original ZIP to $sf\n",
        "arr=($df/*.zip)\n",
        "for ((i=0; i<${#arr[@]}; i++)); do\n",
        "  z=\"${arr[$i]}\"\n",
        "  echo $z\n",
        "  unzip -o $z -d $sf\n",
        "  f=\"${z%%.*}\"\n",
        "done\n",
        "\n",
        "# Clean and simplify original SHP\n",
        "s=$sf/'Hotspots for conservation'/*.shp\n",
        "echo $s\n",
        "mapshaper-xl \\\n",
        "  -i snap files=\"${s}\" \\\n",
        "  -simplify weighted interval=$SIMP_WEIGHT_INT \\\n",
        "  -clean min-gap-area=$MIN_AREA \\\n",
        "  -filter-islands min-area=$MIN_AREA \\\n",
        "  -filter-slivers min-area=$MIN_AREA \\\n",
        "  -clean min-gap-area=$MIN_AREA \\\n",
        "  -o $pf format=shapefile precision=0.000001 force\n",
        "\n",
        "# Export processed SHP as geojson to $pf/geojson\n",
        "sp=$pf/*.shp\n",
        "echo $sp\n",
        "mapshaper-xl \\\n",
        "  -i files=\"${sp}\" \\\n",
        "  -o ${pf}/geojson format=geojson precision=0.000001 force"
      ],
      "execution_count": 0,
      "outputs": [
        {
          "output_type": "stream",
          "text": [
            "mangrove_atlas/environmental-pressures/OneDrive_2019-05-23.zip\n",
            "Archive:  mangrove_atlas/environmental-pressures/OneDrive_2019-05-23.zip\n",
            " extracting: mangrove_atlas/environmental-pressures/shapefiles/Hotspots for conservation/cons_hotspots.cpg  \n",
            " extracting: mangrove_atlas/environmental-pressures/shapefiles/Hotspots for conservation/cons_hotspots.dbf  \n",
            " extracting: mangrove_atlas/environmental-pressures/shapefiles/Hotspots for conservation/cons_hotspots.prj  \n",
            " extracting: mangrove_atlas/environmental-pressures/shapefiles/Hotspots for conservation/cons_hotspots.qpj  \n",
            " extracting: mangrove_atlas/environmental-pressures/shapefiles/Hotspots for conservation/cons_hotspots.shp  \n",
            " extracting: mangrove_atlas/environmental-pressures/shapefiles/Hotspots for conservation/cons_hotspots.shx  \n",
            " extracting: mangrove_atlas/environmental-pressures/shapefiles/Hotspots for conservation/LayersInfo.docx  \n",
            "mangrove_atlas/environmental-pressures/shapefiles/Hotspots for conservation/*.shp\n",
            "mangrove_atlas/environmental-pressures/processed/cons_hotspots.shp\n"
          ],
          "name": "stdout"
        },
        {
          "output_type": "stream",
          "text": [
            "mkdir: cannot create directory ‘mangrove_atlas/environmental-pressures/shapefiles’: File exists\n",
            "mkdir: cannot create directory ‘mangrove_atlas/environmental-pressures/processed’: File exists\n",
            "mkdir: cannot create directory ‘mangrove_atlas/environmental-pressures/processed/geojson’: File exists\n",
            "Allocating 8000 megabytes of heap memory\n",
            "[i] Snapped 42 points\n",
            "[simplify] Repaired 1,249 intersections; 729 intersections could not be repaired\n",
            "[clean] Retained 367 of 394 features\n",
            "[filter-islands] Removed 139 islands\n",
            "[filter-slivers] Removed 83 slivers\n",
            "[clean] Retained 367 of 367 features\n",
            "[o] Wrote mangrove_atlas/environmental-pressures/processed/cons_hotspots.shp\n",
            "[o] Wrote mangrove_atlas/environmental-pressures/processed/cons_hotspots.shx\n",
            "[o] Wrote mangrove_atlas/environmental-pressures/processed/cons_hotspots.dbf\n",
            "[o] Wrote mangrove_atlas/environmental-pressures/processed/cons_hotspots.prj\n",
            "Allocating 8000 megabytes of heap memory\n",
            "[o] Wrote mangrove_atlas/environmental-pressures/processed/geojson/cons_hotspots.json\n"
          ],
          "name": "stderr"
        }
      ]
    },
    {
      "cell_type": "code",
      "metadata": {
        "id": "uiKHa0peL9wA",
        "colab_type": "code",
        "outputId": "5017fbbe-672e-4b48-d712-15885233da7a",
        "colab": {
          "base_uri": "https://localhost:8080/",
          "height": 86
        }
      },
      "source": [
        "# Zip processed shape files\n",
        "%%bash\n",
        "pf=$MA_BUCKET/environmental-pressures/processed\n",
        "fl=(${pf}/*.shp)\n",
        "for ((i=0; i<${#fl[@]}; i++)); do\n",
        "  z=\"${fl[$i]}\"\n",
        "  bn=\"${z%%.*}\"\n",
        "  zip $bn.zip $bn.*\n",
        "  \n",
        "done"
      ],
      "execution_count": 0,
      "outputs": [
        {
          "output_type": "stream",
          "text": [
            "  adding: mangrove_atlas/environmental-pressures/processed/cons_hotspots.dbf (deflated 84%)\n",
            "  adding: mangrove_atlas/environmental-pressures/processed/cons_hotspots.prj (deflated 15%)\n",
            "  adding: mangrove_atlas/environmental-pressures/processed/cons_hotspots.shp (deflated 62%)\n",
            "  adding: mangrove_atlas/environmental-pressures/processed/cons_hotspots.shx (deflated 27%)\n"
          ],
          "name": "stdout"
        }
      ]
    },
    {
      "cell_type": "code",
      "metadata": {
        "id": "UK3200mlMI1q",
        "colab_type": "code",
        "outputId": "76502ebc-f516-4a6b-cfd0-713f9ec6e708",
        "colab": {
          "base_uri": "https://localhost:8080/",
          "height": 121
        }
      },
      "source": [
        "%%bash\n",
        "# Upload to GCS bucket\n",
        "pf=$MA_BUCKET/environmental-pressures/processed\n",
        "gsutil -m cp ${pf}/*.zip gs://${pf}/\n",
        "gsutil -m cp -r ${pf}/geojson gs://${pf}/"
      ],
      "execution_count": 0,
      "outputs": [
        {
          "output_type": "stream",
          "text": [
            "Copying file://mangrove_atlas/environmental-pressures/processed/cons_hotspots.zip [Content-Type=application/zip]...\n",
            "/ [0/1 files][    0.0 B/  1.7 MiB]   0% Done                                    \r/ [1/1 files][  1.7 MiB/  1.7 MiB] 100% Done                                    \r-\r\n",
            "Operation completed over 1 objects/1.7 MiB.                                      \n",
            "Copying file://mangrove_atlas/environmental-pressures/processed/geojson/cons_hotspots.json [Content-Type=application/json]...\n",
            "/ [0/1 files][    0.0 B/  5.9 MiB]   0% Done                                    \r/ [1/1 files][  5.9 MiB/  5.9 MiB] 100% Done                                    \r-\r\n",
            "Operation completed over 1 objects/5.9 MiB.                                      \n"
          ],
          "name": "stderr"
        }
      ]
    },
    {
      "cell_type": "code",
      "metadata": {
        "id": "-2r64-uRMbum",
        "colab_type": "code",
        "outputId": "34e216da-3fc7-42c5-db8c-624222987af4",
        "colab": {
          "base_uri": "https://localhost:8080/",
          "height": 176
        }
      },
      "source": [
        "# Add zipped SHPs as GEE assets\n",
        "# FIXME use the manifest upload method?\n",
        "# add METADATA!!\n",
        "import os\n",
        "file_path=\"gs://{}/environmental-pressures/processed/*.zip\".format(os.environ.get('MA_BUCKET'))\n",
        "asset_path=\"projects/global-mangrove-watch/environmental-pressures\"\n",
        "time_start=\"2010-01-01T00:00:00\"\n",
        "\n",
        "# Upload latest assets\n",
        "gee_upload_zips_to_tables(file_path, asset_path, time_start, force=True, append_txt=\"_simplified\", properties={})"
      ],
      "execution_count": 0,
      "outputs": [
        {
          "output_type": "stream",
          "text": [
            "Found 2 files\n",
            "Processing cons_hotspots\n",
            "earthengine --no-use_cloud_api upload table --asset_id=projects/global-mangrove-watch/environmental-pressures/cons_hotspots_simplified --force --time_start=2010-01-01T00:00:00   gs://mangrove_atlas/environmental-pressures/processed/cons_hotspots.zip\n",
            "Task created\n",
            "Processing \n",
            "earthengine --no-use_cloud_api upload table --asset_id=projects/global-mangrove-watch/environmental-pressures/_simplified --force --time_start=2010-01-01T00:00:00   \n",
            "Task failed\n",
            "Finished upload\n"
          ],
          "name": "stdout"
        }
      ]
    },
    {
      "cell_type": "code",
      "metadata": {
        "id": "KDaFmEd7NFMq",
        "colab_type": "code",
        "outputId": "20105df3-37fa-4eb2-f7d4-ae414c95e8c5",
        "colab": {
          "base_uri": "https://localhost:8080/",
          "height": 86
        }
      },
      "source": [
        "# Upload to mapbox\n",
        "# Get processed boundaries data\n",
        "!rm -r $MA_BUCKET/environmental-pressures/processed/geojson\n",
        "!gsutil -m cp -r gs://$MA_BUCKET/environmental-pressures/processed/geojson $MA_BUCKET/environmental-pressures/processed\n",
        "# Rename GEE exports  \n",
        "#!mv ma-data/boundaries/processed/geojson/selected_EEZ_land_v2_201410_simplified.json ma-data/boundaries/processed/geojson/selected_EEZ_land_v2_201410.json\n",
        "#!mv ma-data/boundaries/processed/geojson/selected_WDPA_polygons_ee_export.json ma-data/boundaries/processed/geojson/selected_WDPA_polygons.json  \n",
        "    \n",
        "import glob\n",
        "path = '{}/environmental-pressures/processed/geojson'.format(os.environ.get('MA_BUCKET'))\n",
        "files = [f for f in glob.glob(path + \"**/*.json\", recursive=True)]\n",
        "for f in files:\n",
        "  upload_to_mapbox(f, os.path.splitext(os.path.basename(f))[0])"
      ],
      "execution_count": 0,
      "outputs": [
        {
          "output_type": "stream",
          "text": [
            "Copying gs://mangrove_atlas/environmental-pressures/processed/geojson/cons_hotspots.json...\n",
            "/ [1/1 files][  5.9 MiB/  5.9 MiB] 100% Done                                    \n",
            "Operation completed over 1 objects/5.9 MiB.                                      \n",
            "{'message': 'Not Found'}\n"
          ],
          "name": "stdout"
        }
      ]
    },
    {
      "cell_type": "markdown",
      "metadata": {
        "id": "Bgc0skjHhkBZ",
        "colab_type": "text"
      },
      "source": [
        "# Process mangrove alerts"
      ]
    }
  ]
}